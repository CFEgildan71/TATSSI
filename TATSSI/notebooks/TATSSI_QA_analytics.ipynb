{
 "cells": [
  {
   "cell_type": "markdown",
   "metadata": {},
   "source": [
    "# Tools for Analyzing Time Series of Satellite Imagery (TATSSI)"
   ]
  },
  {
   "cell_type": "code",
   "execution_count": 1,
   "metadata": {
    "ExecuteTime": {
     "end_time": "2019-06-05T22:07:00.371991Z",
     "start_time": "2019-06-05T22:06:59.905262Z"
    }
   },
   "outputs": [],
   "source": [
    "import os\n",
    "import sys\n",
    "\n",
    "sys.path.append(os.path.join(os.path.expanduser('~'), 'Projects', 'TATSSI'))\n",
    "\n",
    "# Notebook helpers\n",
    "from TATSSI.notebooks.helpers.qa_analytics import Analytics\n",
    "from TATSSI.notebooks.helpers.plot_time_series import PlotTimeSeries"
   ]
  },
  {
   "cell_type": "markdown",
   "metadata": {},
   "source": [
    "## QA analytics\n",
    "\n",
    "In the TATSSI Downloaders demonstrator we downloaded some MODIS data, the [MOD13A2.006](https://lpdaac.usgs.gov/products/mod13a2v006/) product for 2017. This product contains several layers including the EVI and NDVI, at 1km every 16 days, as well as associated Quality Assessment flags.\n",
    "\n",
    "Then, we created a time series for this dataset. Now we need to perfrom a systematic analysis of the per-pixel QA flags that will allow to keep only the best data for scientific purposes or to reach a compromise between the amount of data we can keep and the amount of data needed to characterise the land surface (or ocean surface).\n",
    "\n",
    "1. For the specific QA layer we need to select the QA flags for the data we want to keep. If you **select** a QA flag means that the data will be kept for further analysis.\n",
    "\n",
    "2. Once the QA flags selection is done, the data will be masked and per-pixel two products will be produced:\n",
    "  - The percentage of data available for further processing and\n",
    "  - The maxium gap-length in the time series\n",
    "  \n",
    "3. Based on those variables, it is possible to select/unselect different QA flags and recompute the data availibility percentage and the max gap-lenght."
   ]
  },
  {
   "cell_type": "code",
   "execution_count": 2,
   "metadata": {
    "ExecuteTime": {
     "end_time": "2019-06-05T22:07:00.375581Z",
     "start_time": "2019-06-05T22:07:00.373087Z"
    }
   },
   "outputs": [],
   "source": [
    "# Set data directory\n",
    "source_dir = '../../data/MOD13A2.006/'\n",
    "# Set product, it must match product name in TATSSI catalogue\n",
    "product, version = 'MOD13A2', '006'"
   ]
  },
  {
   "cell_type": "markdown",
   "metadata": {},
   "source": [
    "We have to create a TATSSI QA analytics object to perform a systematic analysis of the different QA layers and associated flags:"
   ]
  },
  {
   "cell_type": "code",
   "execution_count": 3,
   "metadata": {
    "ExecuteTime": {
     "end_time": "2019-06-05T22:07:01.151472Z",
     "start_time": "2019-06-05T22:07:00.377344Z"
    }
   },
   "outputs": [],
   "source": [
    "# Create the QA analytics object\n",
    "qa_analytics = Analytics(source_dir=source_dir, product=product, version=version)"
   ]
  },
  {
   "cell_type": "markdown",
   "metadata": {},
   "source": [
    "Every product might have one or more QA layers. Hence we need to select the QA layer to analyse. In order to get the number of QA layers we can get the length of the ```qa_analytics.qa_defs``` list with ```len(qa_analytics.qa_defs)```:"
   ]
  },
  {
   "cell_type": "code",
   "execution_count": 4,
   "metadata": {
    "ExecuteTime": {
     "end_time": "2019-06-05T22:07:01.156182Z",
     "start_time": "2019-06-05T22:07:01.152587Z"
    }
   },
   "outputs": [
    {
     "name": "stdout",
     "output_type": "stream",
     "text": [
      "2\n"
     ]
    }
   ],
   "source": [
    "print(len(qa_analytics.qa_defs))"
   ]
  },
  {
   "cell_type": "markdown",
   "metadata": {},
   "source": [
    "We have to layers, if you (still) remember from the QA analysis session, the MOD13A2 has indeed 2 QA layers, let's have a quick look to remind the content of every layer. In Python all arrays, lists, etc. are 0-based index, therefore if we want to access the first element, it'll be index 0, second element, it'll be index 1, etc."
   ]
  },
  {
   "cell_type": "code",
   "execution_count": 5,
   "metadata": {
    "ExecuteTime": {
     "end_time": "2019-06-05T22:07:01.182964Z",
     "start_time": "2019-06-05T22:07:01.158059Z"
    },
    "scrolled": false
   },
   "outputs": [
    {
     "data": {
      "text/html": [
       "<div>\n",
       "<style scoped>\n",
       "    .dataframe tbody tr th:only-of-type {\n",
       "        vertical-align: middle;\n",
       "    }\n",
       "\n",
       "    .dataframe tbody tr th {\n",
       "        vertical-align: top;\n",
       "    }\n",
       "\n",
       "    .dataframe thead th {\n",
       "        text-align: right;\n",
       "    }\n",
       "</style>\n",
       "<table border=\"1\" class=\"dataframe\">\n",
       "  <thead>\n",
       "    <tr style=\"text-align: right;\">\n",
       "      <th></th>\n",
       "      <th>ProductAndVersion</th>\n",
       "      <th>QualityLayer</th>\n",
       "      <th>Name</th>\n",
       "      <th>Value</th>\n",
       "      <th>Description</th>\n",
       "      <th>Acceptable</th>\n",
       "      <th>Length</th>\n",
       "    </tr>\n",
       "  </thead>\n",
       "  <tbody>\n",
       "    <tr>\n",
       "      <th>0</th>\n",
       "      <td>MOD13A2.006</td>\n",
       "      <td>_1_km_16_days_pixel_reliability</td>\n",
       "      <td>MODLAND</td>\n",
       "      <td>0</td>\n",
       "      <td>Good data, use with confidence</td>\n",
       "      <td>True</td>\n",
       "      <td>2</td>\n",
       "    </tr>\n",
       "    <tr>\n",
       "      <th>1</th>\n",
       "      <td>MOD13A2.006</td>\n",
       "      <td>_1_km_16_days_pixel_reliability</td>\n",
       "      <td>MODLAND</td>\n",
       "      <td>1</td>\n",
       "      <td>Marginal data, Useful, but look at other QA in...</td>\n",
       "      <td>False</td>\n",
       "      <td>2</td>\n",
       "    </tr>\n",
       "    <tr>\n",
       "      <th>2</th>\n",
       "      <td>MOD13A2.006</td>\n",
       "      <td>_1_km_16_days_pixel_reliability</td>\n",
       "      <td>MODLAND</td>\n",
       "      <td>10</td>\n",
       "      <td>Snow/Ice Target covered with snow/ice</td>\n",
       "      <td>False</td>\n",
       "      <td>2</td>\n",
       "    </tr>\n",
       "    <tr>\n",
       "      <th>3</th>\n",
       "      <td>MOD13A2.006</td>\n",
       "      <td>_1_km_16_days_pixel_reliability</td>\n",
       "      <td>MODLAND</td>\n",
       "      <td>11</td>\n",
       "      <td>Cloudy data, Target not visible, covered with ...</td>\n",
       "      <td>False</td>\n",
       "      <td>2</td>\n",
       "    </tr>\n",
       "  </tbody>\n",
       "</table>\n",
       "</div>"
      ],
      "text/plain": [
       "  ProductAndVersion                     QualityLayer     Name  Value  \\\n",
       "0       MOD13A2.006  _1_km_16_days_pixel_reliability  MODLAND      0   \n",
       "1       MOD13A2.006  _1_km_16_days_pixel_reliability  MODLAND      1   \n",
       "2       MOD13A2.006  _1_km_16_days_pixel_reliability  MODLAND     10   \n",
       "3       MOD13A2.006  _1_km_16_days_pixel_reliability  MODLAND     11   \n",
       "\n",
       "                                         Description  Acceptable  Length  \n",
       "0                     Good data, use with confidence        True       2  \n",
       "1  Marginal data, Useful, but look at other QA in...       False       2  \n",
       "2              Snow/Ice Target covered with snow/ice       False       2  \n",
       "3  Cloudy data, Target not visible, covered with ...       False       2  "
      ]
     },
     "execution_count": 5,
     "metadata": {},
     "output_type": "execute_result"
    }
   ],
   "source": [
    "qa_analytics.qa_defs[0]"
   ]
  },
  {
   "cell_type": "markdown",
   "metadata": {},
   "source": [
    "The ```_1_km_16_days_pixel_reliability``` QA layer has only one QA flag, ```MODLAND``` with four values to analyse, it seems to be fairly basic (and boring), let's have a look to the other layer."
   ]
  },
  {
   "cell_type": "code",
   "execution_count": 6,
   "metadata": {
    "ExecuteTime": {
     "end_time": "2019-06-05T22:07:01.227109Z",
     "start_time": "2019-06-05T22:07:01.187167Z"
    },
    "scrolled": true
   },
   "outputs": [
    {
     "data": {
      "text/html": [
       "<div>\n",
       "<style scoped>\n",
       "    .dataframe tbody tr th:only-of-type {\n",
       "        vertical-align: middle;\n",
       "    }\n",
       "\n",
       "    .dataframe tbody tr th {\n",
       "        vertical-align: top;\n",
       "    }\n",
       "\n",
       "    .dataframe thead th {\n",
       "        text-align: right;\n",
       "    }\n",
       "</style>\n",
       "<table border=\"1\" class=\"dataframe\">\n",
       "  <thead>\n",
       "    <tr style=\"text-align: right;\">\n",
       "      <th></th>\n",
       "      <th>ProductAndVersion</th>\n",
       "      <th>QualityLayer</th>\n",
       "      <th>Name</th>\n",
       "      <th>Value</th>\n",
       "      <th>Description</th>\n",
       "      <th>Acceptable</th>\n",
       "      <th>Length</th>\n",
       "    </tr>\n",
       "  </thead>\n",
       "  <tbody>\n",
       "    <tr>\n",
       "      <th>0</th>\n",
       "      <td>MOD13A2.006</td>\n",
       "      <td>_1_km_16_days_VI_Quality</td>\n",
       "      <td>MODLAND</td>\n",
       "      <td>0</td>\n",
       "      <td>VI produced, good quality</td>\n",
       "      <td>True</td>\n",
       "      <td>2</td>\n",
       "    </tr>\n",
       "    <tr>\n",
       "      <th>1</th>\n",
       "      <td>MOD13A2.006</td>\n",
       "      <td>_1_km_16_days_VI_Quality</td>\n",
       "      <td>MODLAND</td>\n",
       "      <td>1</td>\n",
       "      <td>VI produced, but check other QA</td>\n",
       "      <td>False</td>\n",
       "      <td>2</td>\n",
       "    </tr>\n",
       "    <tr>\n",
       "      <th>2</th>\n",
       "      <td>MOD13A2.006</td>\n",
       "      <td>_1_km_16_days_VI_Quality</td>\n",
       "      <td>MODLAND</td>\n",
       "      <td>10</td>\n",
       "      <td>Pixel produced, but most probably cloudy</td>\n",
       "      <td>False</td>\n",
       "      <td>2</td>\n",
       "    </tr>\n",
       "    <tr>\n",
       "      <th>3</th>\n",
       "      <td>MOD13A2.006</td>\n",
       "      <td>_1_km_16_days_VI_Quality</td>\n",
       "      <td>MODLAND</td>\n",
       "      <td>11</td>\n",
       "      <td>Pixel not produced due to other reasons than c...</td>\n",
       "      <td>False</td>\n",
       "      <td>2</td>\n",
       "    </tr>\n",
       "    <tr>\n",
       "      <th>4</th>\n",
       "      <td>MOD13A2.006</td>\n",
       "      <td>_1_km_16_days_VI_Quality</td>\n",
       "      <td>VI Usefulness</td>\n",
       "      <td>0</td>\n",
       "      <td>Highest quality</td>\n",
       "      <td>None</td>\n",
       "      <td>4</td>\n",
       "    </tr>\n",
       "    <tr>\n",
       "      <th>5</th>\n",
       "      <td>MOD13A2.006</td>\n",
       "      <td>_1_km_16_days_VI_Quality</td>\n",
       "      <td>VI Usefulness</td>\n",
       "      <td>1</td>\n",
       "      <td>Lower quality</td>\n",
       "      <td>None</td>\n",
       "      <td>4</td>\n",
       "    </tr>\n",
       "    <tr>\n",
       "      <th>6</th>\n",
       "      <td>MOD13A2.006</td>\n",
       "      <td>_1_km_16_days_VI_Quality</td>\n",
       "      <td>VI Usefulness</td>\n",
       "      <td>10</td>\n",
       "      <td>Decreasing quality (0010)</td>\n",
       "      <td>None</td>\n",
       "      <td>4</td>\n",
       "    </tr>\n",
       "    <tr>\n",
       "      <th>7</th>\n",
       "      <td>MOD13A2.006</td>\n",
       "      <td>_1_km_16_days_VI_Quality</td>\n",
       "      <td>VI Usefulness</td>\n",
       "      <td>11</td>\n",
       "      <td>Decreasing quality (0011)</td>\n",
       "      <td>None</td>\n",
       "      <td>4</td>\n",
       "    </tr>\n",
       "    <tr>\n",
       "      <th>8</th>\n",
       "      <td>MOD13A2.006</td>\n",
       "      <td>_1_km_16_days_VI_Quality</td>\n",
       "      <td>VI Usefulness</td>\n",
       "      <td>100</td>\n",
       "      <td>Decreasing quality (0100)</td>\n",
       "      <td>None</td>\n",
       "      <td>4</td>\n",
       "    </tr>\n",
       "    <tr>\n",
       "      <th>9</th>\n",
       "      <td>MOD13A2.006</td>\n",
       "      <td>_1_km_16_days_VI_Quality</td>\n",
       "      <td>VI Usefulness</td>\n",
       "      <td>101</td>\n",
       "      <td>Decreasing quality (0101)</td>\n",
       "      <td>None</td>\n",
       "      <td>4</td>\n",
       "    </tr>\n",
       "    <tr>\n",
       "      <th>10</th>\n",
       "      <td>MOD13A2.006</td>\n",
       "      <td>_1_km_16_days_VI_Quality</td>\n",
       "      <td>VI Usefulness</td>\n",
       "      <td>110</td>\n",
       "      <td>Decreasing quality (0110)</td>\n",
       "      <td>None</td>\n",
       "      <td>4</td>\n",
       "    </tr>\n",
       "    <tr>\n",
       "      <th>11</th>\n",
       "      <td>MOD13A2.006</td>\n",
       "      <td>_1_km_16_days_VI_Quality</td>\n",
       "      <td>VI Usefulness</td>\n",
       "      <td>111</td>\n",
       "      <td>Decreasing quality (0111)</td>\n",
       "      <td>None</td>\n",
       "      <td>4</td>\n",
       "    </tr>\n",
       "    <tr>\n",
       "      <th>12</th>\n",
       "      <td>MOD13A2.006</td>\n",
       "      <td>_1_km_16_days_VI_Quality</td>\n",
       "      <td>VI Usefulness</td>\n",
       "      <td>1000</td>\n",
       "      <td>Decreasing quality (1000)</td>\n",
       "      <td>None</td>\n",
       "      <td>4</td>\n",
       "    </tr>\n",
       "    <tr>\n",
       "      <th>13</th>\n",
       "      <td>MOD13A2.006</td>\n",
       "      <td>_1_km_16_days_VI_Quality</td>\n",
       "      <td>VI Usefulness</td>\n",
       "      <td>1001</td>\n",
       "      <td>Decreasing quality (1001)</td>\n",
       "      <td>None</td>\n",
       "      <td>4</td>\n",
       "    </tr>\n",
       "    <tr>\n",
       "      <th>14</th>\n",
       "      <td>MOD13A2.006</td>\n",
       "      <td>_1_km_16_days_VI_Quality</td>\n",
       "      <td>VI Usefulness</td>\n",
       "      <td>1010</td>\n",
       "      <td>Decreasing quality (1010)</td>\n",
       "      <td>None</td>\n",
       "      <td>4</td>\n",
       "    </tr>\n",
       "    <tr>\n",
       "      <th>15</th>\n",
       "      <td>MOD13A2.006</td>\n",
       "      <td>_1_km_16_days_VI_Quality</td>\n",
       "      <td>VI Usefulness</td>\n",
       "      <td>1011</td>\n",
       "      <td>Decreasing quality (1011)</td>\n",
       "      <td>None</td>\n",
       "      <td>4</td>\n",
       "    </tr>\n",
       "    <tr>\n",
       "      <th>16</th>\n",
       "      <td>MOD13A2.006</td>\n",
       "      <td>_1_km_16_days_VI_Quality</td>\n",
       "      <td>VI Usefulness</td>\n",
       "      <td>1100</td>\n",
       "      <td>Lowest quality</td>\n",
       "      <td>None</td>\n",
       "      <td>4</td>\n",
       "    </tr>\n",
       "    <tr>\n",
       "      <th>17</th>\n",
       "      <td>MOD13A2.006</td>\n",
       "      <td>_1_km_16_days_VI_Quality</td>\n",
       "      <td>VI Usefulness</td>\n",
       "      <td>1101</td>\n",
       "      <td>Quality so low that it is not useful</td>\n",
       "      <td>None</td>\n",
       "      <td>4</td>\n",
       "    </tr>\n",
       "    <tr>\n",
       "      <th>18</th>\n",
       "      <td>MOD13A2.006</td>\n",
       "      <td>_1_km_16_days_VI_Quality</td>\n",
       "      <td>VI Usefulness</td>\n",
       "      <td>1110</td>\n",
       "      <td>L1B data faulty</td>\n",
       "      <td>None</td>\n",
       "      <td>4</td>\n",
       "    </tr>\n",
       "    <tr>\n",
       "      <th>19</th>\n",
       "      <td>MOD13A2.006</td>\n",
       "      <td>_1_km_16_days_VI_Quality</td>\n",
       "      <td>VI Usefulness</td>\n",
       "      <td>1111</td>\n",
       "      <td>Not useful for any other reason/not processed</td>\n",
       "      <td>None</td>\n",
       "      <td>4</td>\n",
       "    </tr>\n",
       "    <tr>\n",
       "      <th>20</th>\n",
       "      <td>MOD13A2.006</td>\n",
       "      <td>_1_km_16_days_VI_Quality</td>\n",
       "      <td>Aerosol Quantity</td>\n",
       "      <td>0</td>\n",
       "      <td>Climatology</td>\n",
       "      <td>None</td>\n",
       "      <td>2</td>\n",
       "    </tr>\n",
       "    <tr>\n",
       "      <th>21</th>\n",
       "      <td>MOD13A2.006</td>\n",
       "      <td>_1_km_16_days_VI_Quality</td>\n",
       "      <td>Aerosol Quantity</td>\n",
       "      <td>1</td>\n",
       "      <td>Low</td>\n",
       "      <td>None</td>\n",
       "      <td>2</td>\n",
       "    </tr>\n",
       "    <tr>\n",
       "      <th>22</th>\n",
       "      <td>MOD13A2.006</td>\n",
       "      <td>_1_km_16_days_VI_Quality</td>\n",
       "      <td>Aerosol Quantity</td>\n",
       "      <td>10</td>\n",
       "      <td>Average</td>\n",
       "      <td>None</td>\n",
       "      <td>2</td>\n",
       "    </tr>\n",
       "    <tr>\n",
       "      <th>23</th>\n",
       "      <td>MOD13A2.006</td>\n",
       "      <td>_1_km_16_days_VI_Quality</td>\n",
       "      <td>Aerosol Quantity</td>\n",
       "      <td>11</td>\n",
       "      <td>High</td>\n",
       "      <td>None</td>\n",
       "      <td>2</td>\n",
       "    </tr>\n",
       "    <tr>\n",
       "      <th>24</th>\n",
       "      <td>MOD13A2.006</td>\n",
       "      <td>_1_km_16_days_VI_Quality</td>\n",
       "      <td>Adjacent cloud detected</td>\n",
       "      <td>0</td>\n",
       "      <td>No</td>\n",
       "      <td>None</td>\n",
       "      <td>1</td>\n",
       "    </tr>\n",
       "    <tr>\n",
       "      <th>25</th>\n",
       "      <td>MOD13A2.006</td>\n",
       "      <td>_1_km_16_days_VI_Quality</td>\n",
       "      <td>Adjacent cloud detected</td>\n",
       "      <td>1</td>\n",
       "      <td>Yes</td>\n",
       "      <td>None</td>\n",
       "      <td>1</td>\n",
       "    </tr>\n",
       "    <tr>\n",
       "      <th>26</th>\n",
       "      <td>MOD13A2.006</td>\n",
       "      <td>_1_km_16_days_VI_Quality</td>\n",
       "      <td>Atmosphere BRDF Correction</td>\n",
       "      <td>0</td>\n",
       "      <td>No</td>\n",
       "      <td>None</td>\n",
       "      <td>1</td>\n",
       "    </tr>\n",
       "    <tr>\n",
       "      <th>27</th>\n",
       "      <td>MOD13A2.006</td>\n",
       "      <td>_1_km_16_days_VI_Quality</td>\n",
       "      <td>Atmosphere BRDF Correction</td>\n",
       "      <td>1</td>\n",
       "      <td>Yes</td>\n",
       "      <td>None</td>\n",
       "      <td>1</td>\n",
       "    </tr>\n",
       "    <tr>\n",
       "      <th>28</th>\n",
       "      <td>MOD13A2.006</td>\n",
       "      <td>_1_km_16_days_VI_Quality</td>\n",
       "      <td>Mixed Clouds</td>\n",
       "      <td>0</td>\n",
       "      <td>No</td>\n",
       "      <td>None</td>\n",
       "      <td>1</td>\n",
       "    </tr>\n",
       "    <tr>\n",
       "      <th>29</th>\n",
       "      <td>MOD13A2.006</td>\n",
       "      <td>_1_km_16_days_VI_Quality</td>\n",
       "      <td>Mixed Clouds</td>\n",
       "      <td>1</td>\n",
       "      <td>Yes</td>\n",
       "      <td>None</td>\n",
       "      <td>1</td>\n",
       "    </tr>\n",
       "    <tr>\n",
       "      <th>30</th>\n",
       "      <td>MOD13A2.006</td>\n",
       "      <td>_1_km_16_days_VI_Quality</td>\n",
       "      <td>Land/Water Mask</td>\n",
       "      <td>0</td>\n",
       "      <td>Shallow ocean</td>\n",
       "      <td>None</td>\n",
       "      <td>3</td>\n",
       "    </tr>\n",
       "    <tr>\n",
       "      <th>31</th>\n",
       "      <td>MOD13A2.006</td>\n",
       "      <td>_1_km_16_days_VI_Quality</td>\n",
       "      <td>Land/Water Mask</td>\n",
       "      <td>1</td>\n",
       "      <td>Land (Nothing else but land)</td>\n",
       "      <td>None</td>\n",
       "      <td>3</td>\n",
       "    </tr>\n",
       "    <tr>\n",
       "      <th>32</th>\n",
       "      <td>MOD13A2.006</td>\n",
       "      <td>_1_km_16_days_VI_Quality</td>\n",
       "      <td>Land/Water Mask</td>\n",
       "      <td>10</td>\n",
       "      <td>Ocean coastlines and lake shorelines</td>\n",
       "      <td>None</td>\n",
       "      <td>3</td>\n",
       "    </tr>\n",
       "    <tr>\n",
       "      <th>33</th>\n",
       "      <td>MOD13A2.006</td>\n",
       "      <td>_1_km_16_days_VI_Quality</td>\n",
       "      <td>Land/Water Mask</td>\n",
       "      <td>11</td>\n",
       "      <td>Shallow inland water</td>\n",
       "      <td>None</td>\n",
       "      <td>3</td>\n",
       "    </tr>\n",
       "    <tr>\n",
       "      <th>34</th>\n",
       "      <td>MOD13A2.006</td>\n",
       "      <td>_1_km_16_days_VI_Quality</td>\n",
       "      <td>Land/Water Mask</td>\n",
       "      <td>100</td>\n",
       "      <td>Ephemeral water</td>\n",
       "      <td>None</td>\n",
       "      <td>3</td>\n",
       "    </tr>\n",
       "    <tr>\n",
       "      <th>35</th>\n",
       "      <td>MOD13A2.006</td>\n",
       "      <td>_1_km_16_days_VI_Quality</td>\n",
       "      <td>Land/Water Mask</td>\n",
       "      <td>101</td>\n",
       "      <td>Deep inland water</td>\n",
       "      <td>None</td>\n",
       "      <td>3</td>\n",
       "    </tr>\n",
       "    <tr>\n",
       "      <th>36</th>\n",
       "      <td>MOD13A2.006</td>\n",
       "      <td>_1_km_16_days_VI_Quality</td>\n",
       "      <td>Land/Water Mask</td>\n",
       "      <td>110</td>\n",
       "      <td>Moderate or continental ocean</td>\n",
       "      <td>None</td>\n",
       "      <td>3</td>\n",
       "    </tr>\n",
       "    <tr>\n",
       "      <th>37</th>\n",
       "      <td>MOD13A2.006</td>\n",
       "      <td>_1_km_16_days_VI_Quality</td>\n",
       "      <td>Land/Water Mask</td>\n",
       "      <td>111</td>\n",
       "      <td>Deep ocean</td>\n",
       "      <td>None</td>\n",
       "      <td>3</td>\n",
       "    </tr>\n",
       "    <tr>\n",
       "      <th>38</th>\n",
       "      <td>MOD13A2.006</td>\n",
       "      <td>_1_km_16_days_VI_Quality</td>\n",
       "      <td>Possible snow/ice</td>\n",
       "      <td>0</td>\n",
       "      <td>No</td>\n",
       "      <td>None</td>\n",
       "      <td>1</td>\n",
       "    </tr>\n",
       "    <tr>\n",
       "      <th>39</th>\n",
       "      <td>MOD13A2.006</td>\n",
       "      <td>_1_km_16_days_VI_Quality</td>\n",
       "      <td>Possible snow/ice</td>\n",
       "      <td>1</td>\n",
       "      <td>Yes</td>\n",
       "      <td>None</td>\n",
       "      <td>1</td>\n",
       "    </tr>\n",
       "    <tr>\n",
       "      <th>40</th>\n",
       "      <td>MOD13A2.006</td>\n",
       "      <td>_1_km_16_days_VI_Quality</td>\n",
       "      <td>Possible shadow</td>\n",
       "      <td>0</td>\n",
       "      <td>No</td>\n",
       "      <td>None</td>\n",
       "      <td>1</td>\n",
       "    </tr>\n",
       "    <tr>\n",
       "      <th>41</th>\n",
       "      <td>MOD13A2.006</td>\n",
       "      <td>_1_km_16_days_VI_Quality</td>\n",
       "      <td>Possible shadow</td>\n",
       "      <td>1</td>\n",
       "      <td>Yes</td>\n",
       "      <td>None</td>\n",
       "      <td>1</td>\n",
       "    </tr>\n",
       "  </tbody>\n",
       "</table>\n",
       "</div>"
      ],
      "text/plain": [
       "   ProductAndVersion              QualityLayer                        Name  \\\n",
       "0        MOD13A2.006  _1_km_16_days_VI_Quality                     MODLAND   \n",
       "1        MOD13A2.006  _1_km_16_days_VI_Quality                     MODLAND   \n",
       "2        MOD13A2.006  _1_km_16_days_VI_Quality                     MODLAND   \n",
       "3        MOD13A2.006  _1_km_16_days_VI_Quality                     MODLAND   \n",
       "4        MOD13A2.006  _1_km_16_days_VI_Quality               VI Usefulness   \n",
       "5        MOD13A2.006  _1_km_16_days_VI_Quality               VI Usefulness   \n",
       "6        MOD13A2.006  _1_km_16_days_VI_Quality               VI Usefulness   \n",
       "7        MOD13A2.006  _1_km_16_days_VI_Quality               VI Usefulness   \n",
       "8        MOD13A2.006  _1_km_16_days_VI_Quality               VI Usefulness   \n",
       "9        MOD13A2.006  _1_km_16_days_VI_Quality               VI Usefulness   \n",
       "10       MOD13A2.006  _1_km_16_days_VI_Quality               VI Usefulness   \n",
       "11       MOD13A2.006  _1_km_16_days_VI_Quality               VI Usefulness   \n",
       "12       MOD13A2.006  _1_km_16_days_VI_Quality               VI Usefulness   \n",
       "13       MOD13A2.006  _1_km_16_days_VI_Quality               VI Usefulness   \n",
       "14       MOD13A2.006  _1_km_16_days_VI_Quality               VI Usefulness   \n",
       "15       MOD13A2.006  _1_km_16_days_VI_Quality               VI Usefulness   \n",
       "16       MOD13A2.006  _1_km_16_days_VI_Quality               VI Usefulness   \n",
       "17       MOD13A2.006  _1_km_16_days_VI_Quality               VI Usefulness   \n",
       "18       MOD13A2.006  _1_km_16_days_VI_Quality               VI Usefulness   \n",
       "19       MOD13A2.006  _1_km_16_days_VI_Quality               VI Usefulness   \n",
       "20       MOD13A2.006  _1_km_16_days_VI_Quality            Aerosol Quantity   \n",
       "21       MOD13A2.006  _1_km_16_days_VI_Quality            Aerosol Quantity   \n",
       "22       MOD13A2.006  _1_km_16_days_VI_Quality            Aerosol Quantity   \n",
       "23       MOD13A2.006  _1_km_16_days_VI_Quality            Aerosol Quantity   \n",
       "24       MOD13A2.006  _1_km_16_days_VI_Quality     Adjacent cloud detected   \n",
       "25       MOD13A2.006  _1_km_16_days_VI_Quality     Adjacent cloud detected   \n",
       "26       MOD13A2.006  _1_km_16_days_VI_Quality  Atmosphere BRDF Correction   \n",
       "27       MOD13A2.006  _1_km_16_days_VI_Quality  Atmosphere BRDF Correction   \n",
       "28       MOD13A2.006  _1_km_16_days_VI_Quality                Mixed Clouds   \n",
       "29       MOD13A2.006  _1_km_16_days_VI_Quality                Mixed Clouds   \n",
       "30       MOD13A2.006  _1_km_16_days_VI_Quality             Land/Water Mask   \n",
       "31       MOD13A2.006  _1_km_16_days_VI_Quality             Land/Water Mask   \n",
       "32       MOD13A2.006  _1_km_16_days_VI_Quality             Land/Water Mask   \n",
       "33       MOD13A2.006  _1_km_16_days_VI_Quality             Land/Water Mask   \n",
       "34       MOD13A2.006  _1_km_16_days_VI_Quality             Land/Water Mask   \n",
       "35       MOD13A2.006  _1_km_16_days_VI_Quality             Land/Water Mask   \n",
       "36       MOD13A2.006  _1_km_16_days_VI_Quality             Land/Water Mask   \n",
       "37       MOD13A2.006  _1_km_16_days_VI_Quality             Land/Water Mask   \n",
       "38       MOD13A2.006  _1_km_16_days_VI_Quality           Possible snow/ice   \n",
       "39       MOD13A2.006  _1_km_16_days_VI_Quality           Possible snow/ice   \n",
       "40       MOD13A2.006  _1_km_16_days_VI_Quality             Possible shadow   \n",
       "41       MOD13A2.006  _1_km_16_days_VI_Quality             Possible shadow   \n",
       "\n",
       "    Value                                        Description Acceptable  \\\n",
       "0       0                          VI produced, good quality       True   \n",
       "1       1                    VI produced, but check other QA      False   \n",
       "2      10           Pixel produced, but most probably cloudy      False   \n",
       "3      11  Pixel not produced due to other reasons than c...      False   \n",
       "4       0                                    Highest quality       None   \n",
       "5       1                                      Lower quality       None   \n",
       "6      10                          Decreasing quality (0010)       None   \n",
       "7      11                          Decreasing quality (0011)       None   \n",
       "8     100                          Decreasing quality (0100)       None   \n",
       "9     101                          Decreasing quality (0101)       None   \n",
       "10    110                          Decreasing quality (0110)       None   \n",
       "11    111                          Decreasing quality (0111)       None   \n",
       "12   1000                          Decreasing quality (1000)       None   \n",
       "13   1001                          Decreasing quality (1001)       None   \n",
       "14   1010                          Decreasing quality (1010)       None   \n",
       "15   1011                          Decreasing quality (1011)       None   \n",
       "16   1100                                     Lowest quality       None   \n",
       "17   1101               Quality so low that it is not useful       None   \n",
       "18   1110                                    L1B data faulty       None   \n",
       "19   1111      Not useful for any other reason/not processed       None   \n",
       "20      0                                        Climatology       None   \n",
       "21      1                                                Low       None   \n",
       "22     10                                            Average       None   \n",
       "23     11                                               High       None   \n",
       "24      0                                                 No       None   \n",
       "25      1                                                Yes       None   \n",
       "26      0                                                 No       None   \n",
       "27      1                                                Yes       None   \n",
       "28      0                                                 No       None   \n",
       "29      1                                                Yes       None   \n",
       "30      0                                      Shallow ocean       None   \n",
       "31      1                       Land (Nothing else but land)       None   \n",
       "32     10               Ocean coastlines and lake shorelines       None   \n",
       "33     11                               Shallow inland water       None   \n",
       "34    100                                    Ephemeral water       None   \n",
       "35    101                                  Deep inland water       None   \n",
       "36    110                      Moderate or continental ocean       None   \n",
       "37    111                                         Deep ocean       None   \n",
       "38      0                                                 No       None   \n",
       "39      1                                                Yes       None   \n",
       "40      0                                                 No       None   \n",
       "41      1                                                Yes       None   \n",
       "\n",
       "    Length  \n",
       "0        2  \n",
       "1        2  \n",
       "2        2  \n",
       "3        2  \n",
       "4        4  \n",
       "5        4  \n",
       "6        4  \n",
       "7        4  \n",
       "8        4  \n",
       "9        4  \n",
       "10       4  \n",
       "11       4  \n",
       "12       4  \n",
       "13       4  \n",
       "14       4  \n",
       "15       4  \n",
       "16       4  \n",
       "17       4  \n",
       "18       4  \n",
       "19       4  \n",
       "20       2  \n",
       "21       2  \n",
       "22       2  \n",
       "23       2  \n",
       "24       1  \n",
       "25       1  \n",
       "26       1  \n",
       "27       1  \n",
       "28       1  \n",
       "29       1  \n",
       "30       3  \n",
       "31       3  \n",
       "32       3  \n",
       "33       3  \n",
       "34       3  \n",
       "35       3  \n",
       "36       3  \n",
       "37       3  \n",
       "38       1  \n",
       "39       1  \n",
       "40       1  \n",
       "41       1  "
      ]
     },
     "execution_count": 6,
     "metadata": {},
     "output_type": "execute_result"
    }
   ],
   "source": [
    "qa_analytics.qa_defs[1]"
   ]
  },
  {
   "cell_type": "markdown",
   "metadata": {},
   "source": [
    "This definitely is more useful, we'll use the ```_1_km_16_days_VI_Quality``` QA layer to perform the analysis. It is neccesay now to set the QA definition into the ```qa_analytics``` object:"
   ]
  },
  {
   "cell_type": "code",
   "execution_count": 7,
   "metadata": {
    "ExecuteTime": {
     "end_time": "2019-06-05T22:07:01.238850Z",
     "start_time": "2019-06-05T22:07:01.231954Z"
    }
   },
   "outputs": [],
   "source": [
    "# Set the _1_km_16_days_VI_Quality (index 1) definition to be the one to perform the analysis\n",
    "qa_analytics.qa_def = qa_analytics.qa_defs[0]"
   ]
  },
  {
   "cell_type": "markdown",
   "metadata": {},
   "source": [
    "Now we can luanch the TATSSI QA analytics User Interface to select the QA flags that we consider adequate for out purposes.\n",
    "1. Click on one the ```QA Parameter name``` list that contains all the QA parameters for the selected product\n",
    "2. Then click on one or more of the ```Description``` list that contains the QA flag description. To select multiple descriptions you can click-and-drag or keep pressing the ```CTRL``` key and click on the description to select.\n",
    "\n",
    "Clicking on the ```SELECT ALL``` button will select **all** QA flags, this will be equivalent to have **all** the data without any masking.\n",
    "The ```Default selection``` button selects the first QA flag from each QA parameter."
   ]
  },
  {
   "cell_type": "code",
   "execution_count": 8,
   "metadata": {
    "ExecuteTime": {
     "end_time": "2019-06-05T22:07:01.357384Z",
     "start_time": "2019-06-05T22:07:01.242224Z"
    }
   },
   "outputs": [
    {
     "data": {
      "application/vnd.jupyter.widget-view+json": {
       "model_id": "4dbf41bc9a274fdea6fe4ae8b5fc9f8c",
       "version_major": 2,
       "version_minor": 0
      },
      "text/plain": [
       "HTML(value='<b>_1_km_16_days_pixel_reliability</b>', description='QA layer:')"
      ]
     },
     "metadata": {},
     "output_type": "display_data"
    },
    {
     "data": {
      "application/vnd.jupyter.widget-view+json": {
       "model_id": "6a73374d402d4df689cd829c72caa2c8",
       "version_major": 2,
       "version_minor": 0
      },
      "text/plain": [
       "HBox(children=(VBox(children=(Select(description='QA Parameter name:', layout=Layout(width='400px'), options=(…"
      ]
     },
     "metadata": {},
     "output_type": "display_data"
    },
    {
     "data": {
      "application/vnd.jupyter.widget-view+json": {
       "model_id": "834ccd4d589d472f8f27e465c9140cb5",
       "version_major": 2,
       "version_minor": 0
      },
      "text/plain": [
       "HBox(children=(Button(description='Select ALL', layout=Layout(width='20%'), style=ButtonStyle()), Button(descr…"
      ]
     },
     "metadata": {},
     "output_type": "display_data"
    },
    {
     "data": {
      "application/vnd.jupyter.widget-view+json": {
       "model_id": "",
       "version_major": 2,
       "version_minor": 0
      },
      "text/plain": [
       "IntProgress(value=0, layout=Layout(width='50%'), max=1, style=ProgressStyle(description_width='initial'))"
      ]
     },
     "metadata": {},
     "output_type": "display_data"
    },
    {
     "data": {
      "application/vnd.jupyter.widget-view+json": {
       "model_id": "",
       "version_major": 2,
       "version_minor": 0
      },
      "text/plain": [
       "IntProgress(value=0, description='Computing max gap length...', layout=Layout(width='50%'), max=10, style=Prog…"
      ]
     },
     "metadata": {},
     "output_type": "display_data"
    }
   ],
   "source": [
    "# Launch the TATSSI QA analytics User Interface\n",
    "qa_analytics.ui()"
   ]
  },
  {
   "cell_type": "markdown",
   "metadata": {},
   "source": [
    "We can examine now the user QA selection, it is stored in the ```qa_analytics.user_qa_selection``` dictionary:"
   ]
  },
  {
   "cell_type": "code",
   "execution_count": 11,
   "metadata": {
    "ExecuteTime": {
     "end_time": "2019-06-05T22:07:39.235780Z",
     "start_time": "2019-06-05T22:07:39.222346Z"
    }
   },
   "outputs": [
    {
     "data": {
      "text/plain": [
       "OrderedDict([('MODLAND',\n",
       "              ('Good data, use with confidence',\n",
       "               'Marginal data, Useful, but look at other QA information'))])"
      ]
     },
     "execution_count": 11,
     "metadata": {},
     "output_type": "execute_result"
    }
   ],
   "source": [
    "qa_analytics.user_qa_selection"
   ]
  },
  {
   "cell_type": "code",
   "execution_count": 13,
   "metadata": {
    "ExecuteTime": {
     "end_time": "2019-06-05T22:07:44.142281Z",
     "start_time": "2019-06-05T22:07:43.771319Z"
    }
   },
   "outputs": [
    {
     "data": {
      "application/javascript": [
       "/* Put everything inside the global mpl namespace */\n",
       "window.mpl = {};\n",
       "\n",
       "\n",
       "mpl.get_websocket_type = function() {\n",
       "    if (typeof(WebSocket) !== 'undefined') {\n",
       "        return WebSocket;\n",
       "    } else if (typeof(MozWebSocket) !== 'undefined') {\n",
       "        return MozWebSocket;\n",
       "    } else {\n",
       "        alert('Your browser does not have WebSocket support.' +\n",
       "              'Please try Chrome, Safari or Firefox ≥ 6. ' +\n",
       "              'Firefox 4 and 5 are also supported but you ' +\n",
       "              'have to enable WebSockets in about:config.');\n",
       "    };\n",
       "}\n",
       "\n",
       "mpl.figure = function(figure_id, websocket, ondownload, parent_element) {\n",
       "    this.id = figure_id;\n",
       "\n",
       "    this.ws = websocket;\n",
       "\n",
       "    this.supports_binary = (this.ws.binaryType != undefined);\n",
       "\n",
       "    if (!this.supports_binary) {\n",
       "        var warnings = document.getElementById(\"mpl-warnings\");\n",
       "        if (warnings) {\n",
       "            warnings.style.display = 'block';\n",
       "            warnings.textContent = (\n",
       "                \"This browser does not support binary websocket messages. \" +\n",
       "                    \"Performance may be slow.\");\n",
       "        }\n",
       "    }\n",
       "\n",
       "    this.imageObj = new Image();\n",
       "\n",
       "    this.context = undefined;\n",
       "    this.message = undefined;\n",
       "    this.canvas = undefined;\n",
       "    this.rubberband_canvas = undefined;\n",
       "    this.rubberband_context = undefined;\n",
       "    this.format_dropdown = undefined;\n",
       "\n",
       "    this.image_mode = 'full';\n",
       "\n",
       "    this.root = $('<div/>');\n",
       "    this._root_extra_style(this.root)\n",
       "    this.root.attr('style', 'display: inline-block');\n",
       "\n",
       "    $(parent_element).append(this.root);\n",
       "\n",
       "    this._init_header(this);\n",
       "    this._init_canvas(this);\n",
       "    this._init_toolbar(this);\n",
       "\n",
       "    var fig = this;\n",
       "\n",
       "    this.waiting = false;\n",
       "\n",
       "    this.ws.onopen =  function () {\n",
       "            fig.send_message(\"supports_binary\", {value: fig.supports_binary});\n",
       "            fig.send_message(\"send_image_mode\", {});\n",
       "            if (mpl.ratio != 1) {\n",
       "                fig.send_message(\"set_dpi_ratio\", {'dpi_ratio': mpl.ratio});\n",
       "            }\n",
       "            fig.send_message(\"refresh\", {});\n",
       "        }\n",
       "\n",
       "    this.imageObj.onload = function() {\n",
       "            if (fig.image_mode == 'full') {\n",
       "                // Full images could contain transparency (where diff images\n",
       "                // almost always do), so we need to clear the canvas so that\n",
       "                // there is no ghosting.\n",
       "                fig.context.clearRect(0, 0, fig.canvas.width, fig.canvas.height);\n",
       "            }\n",
       "            fig.context.drawImage(fig.imageObj, 0, 0);\n",
       "        };\n",
       "\n",
       "    this.imageObj.onunload = function() {\n",
       "        fig.ws.close();\n",
       "    }\n",
       "\n",
       "    this.ws.onmessage = this._make_on_message_function(this);\n",
       "\n",
       "    this.ondownload = ondownload;\n",
       "}\n",
       "\n",
       "mpl.figure.prototype._init_header = function() {\n",
       "    var titlebar = $(\n",
       "        '<div class=\"ui-dialog-titlebar ui-widget-header ui-corner-all ' +\n",
       "        'ui-helper-clearfix\"/>');\n",
       "    var titletext = $(\n",
       "        '<div class=\"ui-dialog-title\" style=\"width: 100%; ' +\n",
       "        'text-align: center; padding: 3px;\"/>');\n",
       "    titlebar.append(titletext)\n",
       "    this.root.append(titlebar);\n",
       "    this.header = titletext[0];\n",
       "}\n",
       "\n",
       "\n",
       "\n",
       "mpl.figure.prototype._canvas_extra_style = function(canvas_div) {\n",
       "\n",
       "}\n",
       "\n",
       "\n",
       "mpl.figure.prototype._root_extra_style = function(canvas_div) {\n",
       "\n",
       "}\n",
       "\n",
       "mpl.figure.prototype._init_canvas = function() {\n",
       "    var fig = this;\n",
       "\n",
       "    var canvas_div = $('<div/>');\n",
       "\n",
       "    canvas_div.attr('style', 'position: relative; clear: both; outline: 0');\n",
       "\n",
       "    function canvas_keyboard_event(event) {\n",
       "        return fig.key_event(event, event['data']);\n",
       "    }\n",
       "\n",
       "    canvas_div.keydown('key_press', canvas_keyboard_event);\n",
       "    canvas_div.keyup('key_release', canvas_keyboard_event);\n",
       "    this.canvas_div = canvas_div\n",
       "    this._canvas_extra_style(canvas_div)\n",
       "    this.root.append(canvas_div);\n",
       "\n",
       "    var canvas = $('<canvas/>');\n",
       "    canvas.addClass('mpl-canvas');\n",
       "    canvas.attr('style', \"left: 0; top: 0; z-index: 0; outline: 0\")\n",
       "\n",
       "    this.canvas = canvas[0];\n",
       "    this.context = canvas[0].getContext(\"2d\");\n",
       "\n",
       "    var backingStore = this.context.backingStorePixelRatio ||\n",
       "\tthis.context.webkitBackingStorePixelRatio ||\n",
       "\tthis.context.mozBackingStorePixelRatio ||\n",
       "\tthis.context.msBackingStorePixelRatio ||\n",
       "\tthis.context.oBackingStorePixelRatio ||\n",
       "\tthis.context.backingStorePixelRatio || 1;\n",
       "\n",
       "    mpl.ratio = (window.devicePixelRatio || 1) / backingStore;\n",
       "\n",
       "    var rubberband = $('<canvas/>');\n",
       "    rubberband.attr('style', \"position: absolute; left: 0; top: 0; z-index: 1;\")\n",
       "\n",
       "    var pass_mouse_events = true;\n",
       "\n",
       "    canvas_div.resizable({\n",
       "        start: function(event, ui) {\n",
       "            pass_mouse_events = false;\n",
       "        },\n",
       "        resize: function(event, ui) {\n",
       "            fig.request_resize(ui.size.width, ui.size.height);\n",
       "        },\n",
       "        stop: function(event, ui) {\n",
       "            pass_mouse_events = true;\n",
       "            fig.request_resize(ui.size.width, ui.size.height);\n",
       "        },\n",
       "    });\n",
       "\n",
       "    function mouse_event_fn(event) {\n",
       "        if (pass_mouse_events)\n",
       "            return fig.mouse_event(event, event['data']);\n",
       "    }\n",
       "\n",
       "    rubberband.mousedown('button_press', mouse_event_fn);\n",
       "    rubberband.mouseup('button_release', mouse_event_fn);\n",
       "    // Throttle sequential mouse events to 1 every 20ms.\n",
       "    rubberband.mousemove('motion_notify', mouse_event_fn);\n",
       "\n",
       "    rubberband.mouseenter('figure_enter', mouse_event_fn);\n",
       "    rubberband.mouseleave('figure_leave', mouse_event_fn);\n",
       "\n",
       "    canvas_div.on(\"wheel\", function (event) {\n",
       "        event = event.originalEvent;\n",
       "        event['data'] = 'scroll'\n",
       "        if (event.deltaY < 0) {\n",
       "            event.step = 1;\n",
       "        } else {\n",
       "            event.step = -1;\n",
       "        }\n",
       "        mouse_event_fn(event);\n",
       "    });\n",
       "\n",
       "    canvas_div.append(canvas);\n",
       "    canvas_div.append(rubberband);\n",
       "\n",
       "    this.rubberband = rubberband;\n",
       "    this.rubberband_canvas = rubberband[0];\n",
       "    this.rubberband_context = rubberband[0].getContext(\"2d\");\n",
       "    this.rubberband_context.strokeStyle = \"#000000\";\n",
       "\n",
       "    this._resize_canvas = function(width, height) {\n",
       "        // Keep the size of the canvas, canvas container, and rubber band\n",
       "        // canvas in synch.\n",
       "        canvas_div.css('width', width)\n",
       "        canvas_div.css('height', height)\n",
       "\n",
       "        canvas.attr('width', width * mpl.ratio);\n",
       "        canvas.attr('height', height * mpl.ratio);\n",
       "        canvas.attr('style', 'width: ' + width + 'px; height: ' + height + 'px;');\n",
       "\n",
       "        rubberband.attr('width', width);\n",
       "        rubberband.attr('height', height);\n",
       "    }\n",
       "\n",
       "    // Set the figure to an initial 600x600px, this will subsequently be updated\n",
       "    // upon first draw.\n",
       "    this._resize_canvas(600, 600);\n",
       "\n",
       "    // Disable right mouse context menu.\n",
       "    $(this.rubberband_canvas).bind(\"contextmenu\",function(e){\n",
       "        return false;\n",
       "    });\n",
       "\n",
       "    function set_focus () {\n",
       "        canvas.focus();\n",
       "        canvas_div.focus();\n",
       "    }\n",
       "\n",
       "    window.setTimeout(set_focus, 100);\n",
       "}\n",
       "\n",
       "mpl.figure.prototype._init_toolbar = function() {\n",
       "    var fig = this;\n",
       "\n",
       "    var nav_element = $('<div/>')\n",
       "    nav_element.attr('style', 'width: 100%');\n",
       "    this.root.append(nav_element);\n",
       "\n",
       "    // Define a callback function for later on.\n",
       "    function toolbar_event(event) {\n",
       "        return fig.toolbar_button_onclick(event['data']);\n",
       "    }\n",
       "    function toolbar_mouse_event(event) {\n",
       "        return fig.toolbar_button_onmouseover(event['data']);\n",
       "    }\n",
       "\n",
       "    for(var toolbar_ind in mpl.toolbar_items) {\n",
       "        var name = mpl.toolbar_items[toolbar_ind][0];\n",
       "        var tooltip = mpl.toolbar_items[toolbar_ind][1];\n",
       "        var image = mpl.toolbar_items[toolbar_ind][2];\n",
       "        var method_name = mpl.toolbar_items[toolbar_ind][3];\n",
       "\n",
       "        if (!name) {\n",
       "            // put a spacer in here.\n",
       "            continue;\n",
       "        }\n",
       "        var button = $('<button/>');\n",
       "        button.addClass('ui-button ui-widget ui-state-default ui-corner-all ' +\n",
       "                        'ui-button-icon-only');\n",
       "        button.attr('role', 'button');\n",
       "        button.attr('aria-disabled', 'false');\n",
       "        button.click(method_name, toolbar_event);\n",
       "        button.mouseover(tooltip, toolbar_mouse_event);\n",
       "\n",
       "        var icon_img = $('<span/>');\n",
       "        icon_img.addClass('ui-button-icon-primary ui-icon');\n",
       "        icon_img.addClass(image);\n",
       "        icon_img.addClass('ui-corner-all');\n",
       "\n",
       "        var tooltip_span = $('<span/>');\n",
       "        tooltip_span.addClass('ui-button-text');\n",
       "        tooltip_span.html(tooltip);\n",
       "\n",
       "        button.append(icon_img);\n",
       "        button.append(tooltip_span);\n",
       "\n",
       "        nav_element.append(button);\n",
       "    }\n",
       "\n",
       "    var fmt_picker_span = $('<span/>');\n",
       "\n",
       "    var fmt_picker = $('<select/>');\n",
       "    fmt_picker.addClass('mpl-toolbar-option ui-widget ui-widget-content');\n",
       "    fmt_picker_span.append(fmt_picker);\n",
       "    nav_element.append(fmt_picker_span);\n",
       "    this.format_dropdown = fmt_picker[0];\n",
       "\n",
       "    for (var ind in mpl.extensions) {\n",
       "        var fmt = mpl.extensions[ind];\n",
       "        var option = $(\n",
       "            '<option/>', {selected: fmt === mpl.default_extension}).html(fmt);\n",
       "        fmt_picker.append(option)\n",
       "    }\n",
       "\n",
       "    // Add hover states to the ui-buttons\n",
       "    $( \".ui-button\" ).hover(\n",
       "        function() { $(this).addClass(\"ui-state-hover\");},\n",
       "        function() { $(this).removeClass(\"ui-state-hover\");}\n",
       "    );\n",
       "\n",
       "    var status_bar = $('<span class=\"mpl-message\"/>');\n",
       "    nav_element.append(status_bar);\n",
       "    this.message = status_bar[0];\n",
       "}\n",
       "\n",
       "mpl.figure.prototype.request_resize = function(x_pixels, y_pixels) {\n",
       "    // Request matplotlib to resize the figure. Matplotlib will then trigger a resize in the client,\n",
       "    // which will in turn request a refresh of the image.\n",
       "    this.send_message('resize', {'width': x_pixels, 'height': y_pixels});\n",
       "}\n",
       "\n",
       "mpl.figure.prototype.send_message = function(type, properties) {\n",
       "    properties['type'] = type;\n",
       "    properties['figure_id'] = this.id;\n",
       "    this.ws.send(JSON.stringify(properties));\n",
       "}\n",
       "\n",
       "mpl.figure.prototype.send_draw_message = function() {\n",
       "    if (!this.waiting) {\n",
       "        this.waiting = true;\n",
       "        this.ws.send(JSON.stringify({type: \"draw\", figure_id: this.id}));\n",
       "    }\n",
       "}\n",
       "\n",
       "\n",
       "mpl.figure.prototype.handle_save = function(fig, msg) {\n",
       "    var format_dropdown = fig.format_dropdown;\n",
       "    var format = format_dropdown.options[format_dropdown.selectedIndex].value;\n",
       "    fig.ondownload(fig, format);\n",
       "}\n",
       "\n",
       "\n",
       "mpl.figure.prototype.handle_resize = function(fig, msg) {\n",
       "    var size = msg['size'];\n",
       "    if (size[0] != fig.canvas.width || size[1] != fig.canvas.height) {\n",
       "        fig._resize_canvas(size[0], size[1]);\n",
       "        fig.send_message(\"refresh\", {});\n",
       "    };\n",
       "}\n",
       "\n",
       "mpl.figure.prototype.handle_rubberband = function(fig, msg) {\n",
       "    var x0 = msg['x0'] / mpl.ratio;\n",
       "    var y0 = (fig.canvas.height - msg['y0']) / mpl.ratio;\n",
       "    var x1 = msg['x1'] / mpl.ratio;\n",
       "    var y1 = (fig.canvas.height - msg['y1']) / mpl.ratio;\n",
       "    x0 = Math.floor(x0) + 0.5;\n",
       "    y0 = Math.floor(y0) + 0.5;\n",
       "    x1 = Math.floor(x1) + 0.5;\n",
       "    y1 = Math.floor(y1) + 0.5;\n",
       "    var min_x = Math.min(x0, x1);\n",
       "    var min_y = Math.min(y0, y1);\n",
       "    var width = Math.abs(x1 - x0);\n",
       "    var height = Math.abs(y1 - y0);\n",
       "\n",
       "    fig.rubberband_context.clearRect(\n",
       "        0, 0, fig.canvas.width, fig.canvas.height);\n",
       "\n",
       "    fig.rubberband_context.strokeRect(min_x, min_y, width, height);\n",
       "}\n",
       "\n",
       "mpl.figure.prototype.handle_figure_label = function(fig, msg) {\n",
       "    // Updates the figure title.\n",
       "    fig.header.textContent = msg['label'];\n",
       "}\n",
       "\n",
       "mpl.figure.prototype.handle_cursor = function(fig, msg) {\n",
       "    var cursor = msg['cursor'];\n",
       "    switch(cursor)\n",
       "    {\n",
       "    case 0:\n",
       "        cursor = 'pointer';\n",
       "        break;\n",
       "    case 1:\n",
       "        cursor = 'default';\n",
       "        break;\n",
       "    case 2:\n",
       "        cursor = 'crosshair';\n",
       "        break;\n",
       "    case 3:\n",
       "        cursor = 'move';\n",
       "        break;\n",
       "    }\n",
       "    fig.rubberband_canvas.style.cursor = cursor;\n",
       "}\n",
       "\n",
       "mpl.figure.prototype.handle_message = function(fig, msg) {\n",
       "    fig.message.textContent = msg['message'];\n",
       "}\n",
       "\n",
       "mpl.figure.prototype.handle_draw = function(fig, msg) {\n",
       "    // Request the server to send over a new figure.\n",
       "    fig.send_draw_message();\n",
       "}\n",
       "\n",
       "mpl.figure.prototype.handle_image_mode = function(fig, msg) {\n",
       "    fig.image_mode = msg['mode'];\n",
       "}\n",
       "\n",
       "mpl.figure.prototype.updated_canvas_event = function() {\n",
       "    // Called whenever the canvas gets updated.\n",
       "    this.send_message(\"ack\", {});\n",
       "}\n",
       "\n",
       "// A function to construct a web socket function for onmessage handling.\n",
       "// Called in the figure constructor.\n",
       "mpl.figure.prototype._make_on_message_function = function(fig) {\n",
       "    return function socket_on_message(evt) {\n",
       "        if (evt.data instanceof Blob) {\n",
       "            /* FIXME: We get \"Resource interpreted as Image but\n",
       "             * transferred with MIME type text/plain:\" errors on\n",
       "             * Chrome.  But how to set the MIME type?  It doesn't seem\n",
       "             * to be part of the websocket stream */\n",
       "            evt.data.type = \"image/png\";\n",
       "\n",
       "            /* Free the memory for the previous frames */\n",
       "            if (fig.imageObj.src) {\n",
       "                (window.URL || window.webkitURL).revokeObjectURL(\n",
       "                    fig.imageObj.src);\n",
       "            }\n",
       "\n",
       "            fig.imageObj.src = (window.URL || window.webkitURL).createObjectURL(\n",
       "                evt.data);\n",
       "            fig.updated_canvas_event();\n",
       "            fig.waiting = false;\n",
       "            return;\n",
       "        }\n",
       "        else if (typeof evt.data === 'string' && evt.data.slice(0, 21) == \"data:image/png;base64\") {\n",
       "            fig.imageObj.src = evt.data;\n",
       "            fig.updated_canvas_event();\n",
       "            fig.waiting = false;\n",
       "            return;\n",
       "        }\n",
       "\n",
       "        var msg = JSON.parse(evt.data);\n",
       "        var msg_type = msg['type'];\n",
       "\n",
       "        // Call the  \"handle_{type}\" callback, which takes\n",
       "        // the figure and JSON message as its only arguments.\n",
       "        try {\n",
       "            var callback = fig[\"handle_\" + msg_type];\n",
       "        } catch (e) {\n",
       "            console.log(\"No handler for the '\" + msg_type + \"' message type: \", msg);\n",
       "            return;\n",
       "        }\n",
       "\n",
       "        if (callback) {\n",
       "            try {\n",
       "                // console.log(\"Handling '\" + msg_type + \"' message: \", msg);\n",
       "                callback(fig, msg);\n",
       "            } catch (e) {\n",
       "                console.log(\"Exception inside the 'handler_\" + msg_type + \"' callback:\", e, e.stack, msg);\n",
       "            }\n",
       "        }\n",
       "    };\n",
       "}\n",
       "\n",
       "// from http://stackoverflow.com/questions/1114465/getting-mouse-location-in-canvas\n",
       "mpl.findpos = function(e) {\n",
       "    //this section is from http://www.quirksmode.org/js/events_properties.html\n",
       "    var targ;\n",
       "    if (!e)\n",
       "        e = window.event;\n",
       "    if (e.target)\n",
       "        targ = e.target;\n",
       "    else if (e.srcElement)\n",
       "        targ = e.srcElement;\n",
       "    if (targ.nodeType == 3) // defeat Safari bug\n",
       "        targ = targ.parentNode;\n",
       "\n",
       "    // jQuery normalizes the pageX and pageY\n",
       "    // pageX,Y are the mouse positions relative to the document\n",
       "    // offset() returns the position of the element relative to the document\n",
       "    var x = e.pageX - $(targ).offset().left;\n",
       "    var y = e.pageY - $(targ).offset().top;\n",
       "\n",
       "    return {\"x\": x, \"y\": y};\n",
       "};\n",
       "\n",
       "/*\n",
       " * return a copy of an object with only non-object keys\n",
       " * we need this to avoid circular references\n",
       " * http://stackoverflow.com/a/24161582/3208463\n",
       " */\n",
       "function simpleKeys (original) {\n",
       "  return Object.keys(original).reduce(function (obj, key) {\n",
       "    if (typeof original[key] !== 'object')\n",
       "        obj[key] = original[key]\n",
       "    return obj;\n",
       "  }, {});\n",
       "}\n",
       "\n",
       "mpl.figure.prototype.mouse_event = function(event, name) {\n",
       "    var canvas_pos = mpl.findpos(event)\n",
       "\n",
       "    if (name === 'button_press')\n",
       "    {\n",
       "        this.canvas.focus();\n",
       "        this.canvas_div.focus();\n",
       "    }\n",
       "\n",
       "    var x = canvas_pos.x * mpl.ratio;\n",
       "    var y = canvas_pos.y * mpl.ratio;\n",
       "\n",
       "    this.send_message(name, {x: x, y: y, button: event.button,\n",
       "                             step: event.step,\n",
       "                             guiEvent: simpleKeys(event)});\n",
       "\n",
       "    /* This prevents the web browser from automatically changing to\n",
       "     * the text insertion cursor when the button is pressed.  We want\n",
       "     * to control all of the cursor setting manually through the\n",
       "     * 'cursor' event from matplotlib */\n",
       "    event.preventDefault();\n",
       "    return false;\n",
       "}\n",
       "\n",
       "mpl.figure.prototype._key_event_extra = function(event, name) {\n",
       "    // Handle any extra behaviour associated with a key event\n",
       "}\n",
       "\n",
       "mpl.figure.prototype.key_event = function(event, name) {\n",
       "\n",
       "    // Prevent repeat events\n",
       "    if (name == 'key_press')\n",
       "    {\n",
       "        if (event.which === this._key)\n",
       "            return;\n",
       "        else\n",
       "            this._key = event.which;\n",
       "    }\n",
       "    if (name == 'key_release')\n",
       "        this._key = null;\n",
       "\n",
       "    var value = '';\n",
       "    if (event.ctrlKey && event.which != 17)\n",
       "        value += \"ctrl+\";\n",
       "    if (event.altKey && event.which != 18)\n",
       "        value += \"alt+\";\n",
       "    if (event.shiftKey && event.which != 16)\n",
       "        value += \"shift+\";\n",
       "\n",
       "    value += 'k';\n",
       "    value += event.which.toString();\n",
       "\n",
       "    this._key_event_extra(event, name);\n",
       "\n",
       "    this.send_message(name, {key: value,\n",
       "                             guiEvent: simpleKeys(event)});\n",
       "    return false;\n",
       "}\n",
       "\n",
       "mpl.figure.prototype.toolbar_button_onclick = function(name) {\n",
       "    if (name == 'download') {\n",
       "        this.handle_save(this, null);\n",
       "    } else {\n",
       "        this.send_message(\"toolbar_button\", {name: name});\n",
       "    }\n",
       "};\n",
       "\n",
       "mpl.figure.prototype.toolbar_button_onmouseover = function(tooltip) {\n",
       "    this.message.textContent = tooltip;\n",
       "};\n",
       "mpl.toolbar_items = [[\"Home\", \"Reset original view\", \"fa fa-home icon-home\", \"home\"], [\"Back\", \"Back to  previous view\", \"fa fa-arrow-left icon-arrow-left\", \"back\"], [\"Forward\", \"Forward to next view\", \"fa fa-arrow-right icon-arrow-right\", \"forward\"], [\"\", \"\", \"\", \"\"], [\"Pan\", \"Pan axes with left mouse, zoom with right\", \"fa fa-arrows icon-move\", \"pan\"], [\"Zoom\", \"Zoom to rectangle\", \"fa fa-square-o icon-check-empty\", \"zoom\"], [\"\", \"\", \"\", \"\"], [\"Download\", \"Download plot\", \"fa fa-floppy-o icon-save\", \"download\"]];\n",
       "\n",
       "mpl.extensions = [\"eps\", \"jpeg\", \"pdf\", \"png\", \"ps\", \"raw\", \"svg\", \"tif\"];\n",
       "\n",
       "mpl.default_extension = \"png\";var comm_websocket_adapter = function(comm) {\n",
       "    // Create a \"websocket\"-like object which calls the given IPython comm\n",
       "    // object with the appropriate methods. Currently this is a non binary\n",
       "    // socket, so there is still some room for performance tuning.\n",
       "    var ws = {};\n",
       "\n",
       "    ws.close = function() {\n",
       "        comm.close()\n",
       "    };\n",
       "    ws.send = function(m) {\n",
       "        //console.log('sending', m);\n",
       "        comm.send(m);\n",
       "    };\n",
       "    // Register the callback with on_msg.\n",
       "    comm.on_msg(function(msg) {\n",
       "        //console.log('receiving', msg['content']['data'], msg);\n",
       "        // Pass the mpl event to the overriden (by mpl) onmessage function.\n",
       "        ws.onmessage(msg['content']['data'])\n",
       "    });\n",
       "    return ws;\n",
       "}\n",
       "\n",
       "mpl.mpl_figure_comm = function(comm, msg) {\n",
       "    // This is the function which gets called when the mpl process\n",
       "    // starts-up an IPython Comm through the \"matplotlib\" channel.\n",
       "\n",
       "    var id = msg.content.data.id;\n",
       "    // Get hold of the div created by the display call when the Comm\n",
       "    // socket was opened in Python.\n",
       "    var element = $(\"#\" + id);\n",
       "    var ws_proxy = comm_websocket_adapter(comm)\n",
       "\n",
       "    function ondownload(figure, format) {\n",
       "        window.open(figure.imageObj.src);\n",
       "    }\n",
       "\n",
       "    var fig = new mpl.figure(id, ws_proxy,\n",
       "                           ondownload,\n",
       "                           element.get(0));\n",
       "\n",
       "    // Call onopen now - mpl needs it, as it is assuming we've passed it a real\n",
       "    // web socket which is closed, not our websocket->open comm proxy.\n",
       "    ws_proxy.onopen();\n",
       "\n",
       "    fig.parent_element = element.get(0);\n",
       "    fig.cell_info = mpl.find_output_cell(\"<div id='\" + id + \"'></div>\");\n",
       "    if (!fig.cell_info) {\n",
       "        console.error(\"Failed to find cell for figure\", id, fig);\n",
       "        return;\n",
       "    }\n",
       "\n",
       "    var output_index = fig.cell_info[2]\n",
       "    var cell = fig.cell_info[0];\n",
       "\n",
       "};\n",
       "\n",
       "mpl.figure.prototype.handle_close = function(fig, msg) {\n",
       "    var width = fig.canvas.width/mpl.ratio\n",
       "    fig.root.unbind('remove')\n",
       "\n",
       "    // Update the output cell to use the data from the current canvas.\n",
       "    fig.push_to_output();\n",
       "    var dataURL = fig.canvas.toDataURL();\n",
       "    // Re-enable the keyboard manager in IPython - without this line, in FF,\n",
       "    // the notebook keyboard shortcuts fail.\n",
       "    IPython.keyboard_manager.enable()\n",
       "    $(fig.parent_element).html('<img src=\"' + dataURL + '\" width=\"' + width + '\">');\n",
       "    fig.close_ws(fig, msg);\n",
       "}\n",
       "\n",
       "mpl.figure.prototype.close_ws = function(fig, msg){\n",
       "    fig.send_message('closing', msg);\n",
       "    // fig.ws.close()\n",
       "}\n",
       "\n",
       "mpl.figure.prototype.push_to_output = function(remove_interactive) {\n",
       "    // Turn the data on the canvas into data in the output cell.\n",
       "    var width = this.canvas.width/mpl.ratio\n",
       "    var dataURL = this.canvas.toDataURL();\n",
       "    this.cell_info[1]['text/html'] = '<img src=\"' + dataURL + '\" width=\"' + width + '\">';\n",
       "}\n",
       "\n",
       "mpl.figure.prototype.updated_canvas_event = function() {\n",
       "    // Tell IPython that the notebook contents must change.\n",
       "    IPython.notebook.set_dirty(true);\n",
       "    this.send_message(\"ack\", {});\n",
       "    var fig = this;\n",
       "    // Wait a second, then push the new image to the DOM so\n",
       "    // that it is saved nicely (might be nice to debounce this).\n",
       "    setTimeout(function () { fig.push_to_output() }, 1000);\n",
       "}\n",
       "\n",
       "mpl.figure.prototype._init_toolbar = function() {\n",
       "    var fig = this;\n",
       "\n",
       "    var nav_element = $('<div/>')\n",
       "    nav_element.attr('style', 'width: 100%');\n",
       "    this.root.append(nav_element);\n",
       "\n",
       "    // Define a callback function for later on.\n",
       "    function toolbar_event(event) {\n",
       "        return fig.toolbar_button_onclick(event['data']);\n",
       "    }\n",
       "    function toolbar_mouse_event(event) {\n",
       "        return fig.toolbar_button_onmouseover(event['data']);\n",
       "    }\n",
       "\n",
       "    for(var toolbar_ind in mpl.toolbar_items){\n",
       "        var name = mpl.toolbar_items[toolbar_ind][0];\n",
       "        var tooltip = mpl.toolbar_items[toolbar_ind][1];\n",
       "        var image = mpl.toolbar_items[toolbar_ind][2];\n",
       "        var method_name = mpl.toolbar_items[toolbar_ind][3];\n",
       "\n",
       "        if (!name) { continue; };\n",
       "\n",
       "        var button = $('<button class=\"btn btn-default\" href=\"#\" title=\"' + name + '\"><i class=\"fa ' + image + ' fa-lg\"></i></button>');\n",
       "        button.click(method_name, toolbar_event);\n",
       "        button.mouseover(tooltip, toolbar_mouse_event);\n",
       "        nav_element.append(button);\n",
       "    }\n",
       "\n",
       "    // Add the status bar.\n",
       "    var status_bar = $('<span class=\"mpl-message\" style=\"text-align:right; float: right;\"/>');\n",
       "    nav_element.append(status_bar);\n",
       "    this.message = status_bar[0];\n",
       "\n",
       "    // Add the close button to the window.\n",
       "    var buttongrp = $('<div class=\"btn-group inline pull-right\"></div>');\n",
       "    var button = $('<button class=\"btn btn-mini btn-primary\" href=\"#\" title=\"Stop Interaction\"><i class=\"fa fa-power-off icon-remove icon-large\"></i></button>');\n",
       "    button.click(function (evt) { fig.handle_close(fig, {}); } );\n",
       "    button.mouseover('Stop Interaction', toolbar_mouse_event);\n",
       "    buttongrp.append(button);\n",
       "    var titlebar = this.root.find($('.ui-dialog-titlebar'));\n",
       "    titlebar.prepend(buttongrp);\n",
       "}\n",
       "\n",
       "mpl.figure.prototype._root_extra_style = function(el){\n",
       "    var fig = this\n",
       "    el.on(\"remove\", function(){\n",
       "\tfig.close_ws(fig, {});\n",
       "    });\n",
       "}\n",
       "\n",
       "mpl.figure.prototype._canvas_extra_style = function(el){\n",
       "    // this is important to make the div 'focusable\n",
       "    el.attr('tabindex', 0)\n",
       "    // reach out to IPython and tell the keyboard manager to turn it's self\n",
       "    // off when our div gets focus\n",
       "\n",
       "    // location in version 3\n",
       "    if (IPython.notebook.keyboard_manager) {\n",
       "        IPython.notebook.keyboard_manager.register_events(el);\n",
       "    }\n",
       "    else {\n",
       "        // location in version 2\n",
       "        IPython.keyboard_manager.register_events(el);\n",
       "    }\n",
       "\n",
       "}\n",
       "\n",
       "mpl.figure.prototype._key_event_extra = function(event, name) {\n",
       "    var manager = IPython.notebook.keyboard_manager;\n",
       "    if (!manager)\n",
       "        manager = IPython.keyboard_manager;\n",
       "\n",
       "    // Check for shift+enter\n",
       "    if (event.shiftKey && event.which == 13) {\n",
       "        this.canvas_div.blur();\n",
       "        event.shiftKey = false;\n",
       "        // Send a \"J\" for go to next cell\n",
       "        event.which = 74;\n",
       "        event.keyCode = 74;\n",
       "        manager.command_mode();\n",
       "        manager.handle_keydown(event);\n",
       "    }\n",
       "}\n",
       "\n",
       "mpl.figure.prototype.handle_save = function(fig, msg) {\n",
       "    fig.ondownload(fig, null);\n",
       "}\n",
       "\n",
       "\n",
       "mpl.find_output_cell = function(html_output) {\n",
       "    // Return the cell and output element which can be found *uniquely* in the notebook.\n",
       "    // Note - this is a bit hacky, but it is done because the \"notebook_saving.Notebook\"\n",
       "    // IPython event is triggered only after the cells have been serialised, which for\n",
       "    // our purposes (turning an active figure into a static one), is too late.\n",
       "    var cells = IPython.notebook.get_cells();\n",
       "    var ncells = cells.length;\n",
       "    for (var i=0; i<ncells; i++) {\n",
       "        var cell = cells[i];\n",
       "        if (cell.cell_type === 'code'){\n",
       "            for (var j=0; j<cell.output_area.outputs.length; j++) {\n",
       "                var data = cell.output_area.outputs[j];\n",
       "                if (data.data) {\n",
       "                    // IPython >= 3 moved mimebundle to data attribute of output\n",
       "                    data = data.data;\n",
       "                }\n",
       "                if (data['text/html'] == html_output) {\n",
       "                    return [cell, data, j];\n",
       "                }\n",
       "            }\n",
       "        }\n",
       "    }\n",
       "}\n",
       "\n",
       "// Register the function which deals with the matplotlib target/channel.\n",
       "// The kernel may be null if the page has been refreshed.\n",
       "if (IPython.notebook.kernel != null) {\n",
       "    IPython.notebook.kernel.comm_manager.register_target('matplotlib', mpl.mpl_figure_comm);\n",
       "}\n"
      ],
      "text/plain": [
       "<IPython.core.display.Javascript object>"
      ]
     },
     "metadata": {},
     "output_type": "display_data"
    },
    {
     "data": {
      "text/html": [
       "<img src=\"data:image/png;base64,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\" width=\"900\">"
      ],
      "text/plain": [
       "<IPython.core.display.HTML object>"
      ]
     },
     "metadata": {},
     "output_type": "display_data"
    }
   ],
   "source": [
    "# Time series of EVI\n",
    "p = PlotTimeSeries()\n",
    "\n",
    "p.plot(qa_analytics.ts.data._1_km_16_days_EVI,\n",
    "       qa_analytics.ts.data._1_km_16_days_EVI * qa_analytics.mask)\n",
    "\n",
    "\n",
    "#p.plot(ts.data._1_km_16_days_EVI, ts.qa.qa_1_km_16_days_VI_Quality.Land_Water_Mask)\n",
    "#p.plot(ts.data.data_vars['_1_km_16_days_EVI'] * temporal_mask,\n",
    "#       ts.qa.qa_1_km_16_days_VI_Quality.Land_Water_Mask)"
   ]
  },
  {
   "cell_type": "code",
   "execution_count": null,
   "metadata": {
    "ExecuteTime": {
     "end_time": "2019-06-05T22:07:03.808322Z",
     "start_time": "2019-06-05T22:06:59.956Z"
    }
   },
   "outputs": [],
   "source": [
    "help(p.left_ds.plot)"
   ]
  }
 ],
 "metadata": {
  "kernelspec": {
   "display_name": "Python 3",
   "language": "python",
   "name": "python3"
  },
  "language_info": {
   "codemirror_mode": {
    "name": "ipython",
    "version": 3
   },
   "file_extension": ".py",
   "mimetype": "text/x-python",
   "name": "python",
   "nbconvert_exporter": "python",
   "pygments_lexer": "ipython3",
   "version": "3.6.4"
  },
  "toc": {
   "base_numbering": 1,
   "nav_menu": {},
   "number_sections": false,
   "sideBar": false,
   "skip_h1_title": false,
   "title_cell": "Table of Contents",
   "title_sidebar": "Contents",
   "toc_cell": false,
   "toc_position": {},
   "toc_section_display": false,
   "toc_window_display": false
  },
  "widgets": {
   "application/vnd.jupyter.widget-state+json": {
    "state": {
     "0023433664ca4a9a9085c27cd27b7ac1": {
      "model_module": "@jupyter-widgets/controls",
      "model_module_version": "1.4.0",
      "model_name": "ButtonModel",
      "state": {
       "description": "Select ALL",
       "layout": "IPY_MODEL_7adf8aaf111b4802bdb33867b50e3a4e",
       "style": "IPY_MODEL_ae366eb7e36c41e0b131617b94d1d136"
      }
     },
     "0045939765b2409eb0d1315b3c2bb14a": {
      "model_module": "@jupyter-widgets/controls",
      "model_module_version": "1.4.0",
      "model_name": "ButtonStyleModel",
      "state": {}
     },
     "006b6cb6da394a33a75d4b5ca18823d6": {
      "model_module": "@jupyter-widgets/base",
      "model_module_version": "1.1.0",
      "model_name": "LayoutModel",
      "state": {
       "width": "30%"
      }
     },
     "0083739d68114ec5950e8d3e87570139": {
      "model_module": "@jupyter-widgets/base",
      "model_module_version": "1.1.0",
      "model_name": "LayoutModel",
      "state": {}
     },
     "008fbe5a943a47d197df13ea7ff59eb0": {
      "model_module": "@jupyter-widgets/controls",
      "model_module_version": "1.4.0",
      "model_name": "DescriptionStyleModel",
      "state": {
       "description_width": "initial"
      }
     },
     "009394dd95d6437b8dfbe97d5bfb500a": {
      "model_module": "@jupyter-widgets/controls",
      "model_module_version": "1.4.0",
      "model_name": "HBoxModel",
      "state": {
       "children": [
        "IPY_MODEL_641bbcd9ffef47eb810b8f999871a85c",
        "IPY_MODEL_43f3b8014dc24b6792a3f6aa62ac2d02"
       ],
       "layout": "IPY_MODEL_f8347bd09709449bb9128d6c63ed5e32"
      }
     },
     "00a328bf1ce44f648d8504512b01d346": {
      "model_module": "@jupyter-widgets/controls",
      "model_module_version": "1.4.0",
      "model_name": "ButtonStyleModel",
      "state": {}
     },
     "00b3b3ea86094f0c85dec64664ad042a": {
      "model_module": "@jupyter-widgets/base",
      "model_module_version": "1.1.0",
      "model_name": "LayoutModel",
      "state": {}
     },
     "017ea2dea1b84f8fbaf99081aced9d28": {
      "model_module": "@jupyter-widgets/controls",
      "model_module_version": "1.4.0",
      "model_name": "ButtonStyleModel",
      "state": {}
     },
     "01b239f66c4a4effb8b8ed033b6f843e": {
      "model_module": "@jupyter-widgets/base",
      "model_module_version": "1.1.0",
      "model_name": "LayoutModel",
      "state": {
       "width": "30%"
      }
     },
     "01d45602d17943fc8810c770008ce4cb": {
      "model_module": "@jupyter-widgets/controls",
      "model_module_version": "1.4.0",
      "model_name": "HBoxModel",
      "state": {
       "children": [
        "IPY_MODEL_c3578ea35da94028b6af4b245d9b0ab3",
        "IPY_MODEL_8b8fa6b334d84a87adf9e1d6d13c4f56",
        "IPY_MODEL_faa57e72de8949a6a1e8129e694dc575",
        "IPY_MODEL_bf4c2e4c87d24522953d7e3a9edff5a7"
       ],
       "layout": "IPY_MODEL_2318ec78e6134c2dafc8c4e0b5ef2cb2"
      }
     },
     "01e76db0ef5a43aa9b229e24e26edf45": {
      "model_module": "@jupyter-widgets/controls",
      "model_module_version": "1.4.0",
      "model_name": "ButtonStyleModel",
      "state": {}
     },
     "01f146b593744138aed2ddd804a25edd": {
      "model_module": "@jupyter-widgets/controls",
      "model_module_version": "1.4.0",
      "model_name": "HTMLModel",
      "state": {
       "description": "QA layer:",
       "layout": "IPY_MODEL_37864395e7774c68ac6e984be5cff1c6",
       "style": "IPY_MODEL_e4c362775fd241129f8b22651d0ca1d8",
       "value": "<b>_1_km_16_days_VI_Quality</b>"
      }
     },
     "01f1e5006e0b47e8ae60e1a532ace08b": {
      "model_module": "@jupyter-widgets/controls",
      "model_module_version": "1.4.0",
      "model_name": "ButtonStyleModel",
      "state": {}
     },
     "01fdc74ea57f4d828ee9bc2ccd4b0284": {
      "model_module": "@jupyter-widgets/base",
      "model_module_version": "1.1.0",
      "model_name": "LayoutModel",
      "state": {
       "width": "20%"
      }
     },
     "023ddd5fce2f4aa88b203887b52afb12": {
      "model_module": "@jupyter-widgets/base",
      "model_module_version": "1.1.0",
      "model_name": "LayoutModel",
      "state": {}
     },
     "0257e0ad1aff4b3690a257c4b28dd7b7": {
      "model_module": "@jupyter-widgets/base",
      "model_module_version": "1.1.0",
      "model_name": "LayoutModel",
      "state": {
       "width": "400px"
      }
     },
     "025f9c35ec5542fca8951ef2e04984bf": {
      "model_module": "@jupyter-widgets/base",
      "model_module_version": "1.1.0",
      "model_name": "LayoutModel",
      "state": {}
     },
     "02662f2fc1c5418683082586e484a182": {
      "model_module": "@jupyter-widgets/base",
      "model_module_version": "1.1.0",
      "model_name": "LayoutModel",
      "state": {
       "width": "20%"
      }
     },
     "029d75e9960f4d07aaf72aeafcb7d275": {
      "model_module": "@jupyter-widgets/base",
      "model_module_version": "1.1.0",
      "model_name": "LayoutModel",
      "state": {}
     },
     "02d5e159b36240328771cfafaf5d713a": {
      "model_module": "@jupyter-widgets/controls",
      "model_module_version": "1.4.0",
      "model_name": "HBoxModel",
      "state": {
       "children": [
        "IPY_MODEL_5efa89d587c0451a9fd99f038016a778",
        "IPY_MODEL_5dfd10ba8ec5432284c9c527f1ca8f55"
       ],
       "layout": "IPY_MODEL_bf5a1de0e5594940ad7d0f5937bf9ba7"
      }
     },
     "02de2a24cfbe4a76a46b5251ead96a25": {
      "model_module": "@jupyter-widgets/base",
      "model_module_version": "1.1.0",
      "model_name": "LayoutModel",
      "state": {
       "width": "400px"
      }
     },
     "02f7385231b54992a700c537a6574b66": {
      "model_module": "@jupyter-widgets/base",
      "model_module_version": "1.1.0",
      "model_name": "LayoutModel",
      "state": {}
     },
     "030acbeacb0044a5933324eba59fa130": {
      "model_module": "@jupyter-widgets/base",
      "model_module_version": "1.1.0",
      "model_name": "LayoutModel",
      "state": {}
     },
     "03271fc1058f4f2095af0b18f0223913": {
      "model_module": "@jupyter-widgets/controls",
      "model_module_version": "1.4.0",
      "model_name": "ProgressStyleModel",
      "state": {
       "description_width": ""
      }
     },
     "033285fd855f49b8a504ffb3c17124b1": {
      "model_module": "@jupyter-widgets/base",
      "model_module_version": "1.1.0",
      "model_name": "LayoutModel",
      "state": {}
     },
     "033cb84edb714141b361aed1c856a6ed": {
      "model_module": "@jupyter-widgets/controls",
      "model_module_version": "1.4.0",
      "model_name": "ButtonStyleModel",
      "state": {}
     },
     "0356813bbe3743d68be4366d62939d50": {
      "model_module": "@jupyter-widgets/controls",
      "model_module_version": "1.4.0",
      "model_name": "ButtonModel",
      "state": {
       "description": "Select ALL",
       "layout": "IPY_MODEL_da0a222ccb9e429bbd513a5c7cbb3edd",
       "style": "IPY_MODEL_199e4515c0ab408382cfaef757179d46"
      }
     },
     "036ec536a4994008b8252cccf69eedb6": {
      "model_module": "@jupyter-widgets/controls",
      "model_module_version": "1.4.0",
      "model_name": "DescriptionStyleModel",
      "state": {
       "description_width": "initial"
      }
     },
     "037109c2e2cc45fb847cb71d91e09946": {
      "model_module": "@jupyter-widgets/controls",
      "model_module_version": "1.4.0",
      "model_name": "SelectMultipleModel",
      "state": {
       "_options_labels": [
        "VI produced, good quality",
        "VI produced, but check other QA",
        "Pixel produced, but most probably cloudy",
        "Pixel not produced due to other reasons than clouds"
       ],
       "description": "Description",
       "index": [
        0
       ],
       "layout": "IPY_MODEL_0c3ecf5a2d7f4efc8f1cbb64522a1d56",
       "rows": 4,
       "style": "IPY_MODEL_61a3efc25757401e8bf33cdd8831c848"
      }
     },
     "038fb9217813473b8d1a37a33062000d": {
      "model_module": "@jupyter-widgets/controls",
      "model_module_version": "1.4.0",
      "model_name": "HBoxModel",
      "state": {
       "children": [
        "IPY_MODEL_cc2e00e7a8fb4ff38d376f4d6780b77e",
        "IPY_MODEL_f2f3a1e177de4a0fb2ffcf4dedbb14c6",
        "IPY_MODEL_39d1d954a91640cea3c1dd8f0890ee51"
       ],
       "layout": "IPY_MODEL_f600414b6c3a42b9a0f17ec53f71a249"
      }
     },
     "03b67576852f4a439fec3191a4e1d167": {
      "model_module": "@jupyter-widgets/controls",
      "model_module_version": "1.4.0",
      "model_name": "DescriptionStyleModel",
      "state": {
       "description_width": "initial"
      }
     },
     "040238f9d5b54467b3de806300b6bdf9": {
      "model_module": "@jupyter-widgets/base",
      "model_module_version": "1.1.0",
      "model_name": "LayoutModel",
      "state": {
       "width": "20%"
      }
     },
     "0405b417377e429185d1e88563ca549e": {
      "model_module": "@jupyter-widgets/base",
      "model_module_version": "1.1.0",
      "model_name": "LayoutModel",
      "state": {
       "width": "50%"
      }
     },
     "0464f71d6bae4b8bbae268200cb45c02": {
      "model_module": "@jupyter-widgets/base",
      "model_module_version": "1.1.0",
      "model_name": "LayoutModel",
      "state": {
       "width": "50%"
      }
     },
     "046715e1b4ac472a903d8a826ed4d0b5": {
      "model_module": "@jupyter-widgets/controls",
      "model_module_version": "1.4.0",
      "model_name": "ProgressStyleModel",
      "state": {
       "description_width": "initial"
      }
     },
     "04c1c77090b94427a69a3183681deed4": {
      "model_module": "@jupyter-widgets/base",
      "model_module_version": "1.1.0",
      "model_name": "LayoutModel",
      "state": {}
     },
     "04fd2c460ba04f20abc40432b055ae54": {
      "model_module": "@jupyter-widgets/base",
      "model_module_version": "1.1.0",
      "model_name": "LayoutModel",
      "state": {}
     },
     "0532aaa07447410aa64eb818a8484104": {
      "model_module": "@jupyter-widgets/controls",
      "model_module_version": "1.4.0",
      "model_name": "ButtonStyleModel",
      "state": {}
     },
     "0563bbd9266e46d2be64f91912f24747": {
      "model_module": "@jupyter-widgets/controls",
      "model_module_version": "1.4.0",
      "model_name": "HBoxModel",
      "state": {
       "children": [
        "IPY_MODEL_c2ea3065c88740ce81fd1b60f3844437",
        "IPY_MODEL_7eeb19ffb23644ca824d1f96346d199d"
       ],
       "layout": "IPY_MODEL_094af03731f64e93bef5e29f197e5400"
      }
     },
     "058e4ff390da43d6927852f05afedfc8": {
      "model_module": "@jupyter-widgets/controls",
      "model_module_version": "1.4.0",
      "model_name": "VBoxModel",
      "state": {
       "children": [
        "IPY_MODEL_4048056fd9a644cd9adae25fac611238"
       ],
       "layout": "IPY_MODEL_3539a202b73b46da93f27bdb033e9767"
      }
     },
     "060b7b96c4e64220b3f14fa101dd37dd": {
      "model_module": "@jupyter-widgets/controls",
      "model_module_version": "1.4.0",
      "model_name": "HTMLModel",
      "state": {
       "description": "QA layer:",
       "layout": "IPY_MODEL_04fd2c460ba04f20abc40432b055ae54",
       "style": "IPY_MODEL_2e08207dc2b24a1cb9f6fb381bc4a29c",
       "value": "<b>_1_km_16_days_VI_Quality</b>"
      }
     },
     "061b993b993549a19680cd06f0fc7b1d": {
      "model_module": "@jupyter-widgets/controls",
      "model_module_version": "1.4.0",
      "model_name": "HTMLModel",
      "state": {
       "description": "QA layer:",
       "layout": "IPY_MODEL_c05abb40ecad43f0b4d50a25261e7dfa",
       "style": "IPY_MODEL_150a07a378364ce9814f8bdd06abdb61",
       "value": "<b>_1_km_16_days_VI_Quality</b>"
      }
     },
     "0641ef1bf18d4a629cec1ccb4a11f292": {
      "model_module": "@jupyter-widgets/base",
      "model_module_version": "1.1.0",
      "model_name": "LayoutModel",
      "state": {
       "width": "400px"
      }
     },
     "0646030b1d574bf391586343eb47d359": {
      "model_module": "@jupyter-widgets/controls",
      "model_module_version": "1.4.0",
      "model_name": "ButtonModel",
      "state": {
       "description": "QA analytics",
       "layout": "IPY_MODEL_fc27629ce17d451a8166ad149620b233",
       "style": "IPY_MODEL_a03a7c46090c4283a56dd740716f5266"
      }
     },
     "06498e42077e4888bae5827de0a2f102": {
      "model_module": "@jupyter-widgets/controls",
      "model_module_version": "1.4.0",
      "model_name": "DescriptionStyleModel",
      "state": {
       "description_width": "initial"
      }
     },
     "06632d5fc0dc493f80d7714b94e6a2d6": {
      "model_module": "@jupyter-widgets/controls",
      "model_module_version": "1.4.0",
      "model_name": "HBoxModel",
      "state": {
       "children": [
        "IPY_MODEL_7a47feb02993435998b20eb8d2912942",
        "IPY_MODEL_2e1b9bea68624ecc9af7e68a9f7f4ef6",
        "IPY_MODEL_1fdceeb6d61d4c21b8e51a24edfe0f78"
       ],
       "layout": "IPY_MODEL_3eb6df4f84c64d57978ad426b507420c"
      }
     },
     "06683aae51e24f019faf6d9788c98df0": {
      "model_module": "@jupyter-widgets/base",
      "model_module_version": "1.1.0",
      "model_name": "LayoutModel",
      "state": {
       "width": "400px"
      }
     },
     "066abc017b36405ebfdf22f8d061f2d7": {
      "model_module": "@jupyter-widgets/controls",
      "model_module_version": "1.4.0",
      "model_name": "DescriptionStyleModel",
      "state": {
       "description_width": "initial"
      }
     },
     "06907f4932e34d879638b52b3749f9fc": {
      "model_module": "@jupyter-widgets/controls",
      "model_module_version": "1.4.0",
      "model_name": "ButtonStyleModel",
      "state": {}
     },
     "06d3c8c314ae4602a919a611de4d5909": {
      "model_module": "@jupyter-widgets/base",
      "model_module_version": "1.1.0",
      "model_name": "LayoutModel",
      "state": {
       "height": "350px",
       "width": "99%"
      }
     },
     "06f3798cd43741c88320f56520861ff7": {
      "model_module": "@jupyter-widgets/base",
      "model_module_version": "1.1.0",
      "model_name": "LayoutModel",
      "state": {
       "width": "30%"
      }
     },
     "0730c9a238a74e948bcb2b42dde56df9": {
      "model_module": "@jupyter-widgets/base",
      "model_module_version": "1.1.0",
      "model_name": "LayoutModel",
      "state": {}
     },
     "075280ff991e4e57b45411286aa487b8": {
      "model_module": "@jupyter-widgets/base",
      "model_module_version": "1.1.0",
      "model_name": "LayoutModel",
      "state": {
       "width": "400px"
      }
     },
     "07677bb86e5a4cf39a7cf38f671dea3c": {
      "model_module": "@jupyter-widgets/controls",
      "model_module_version": "1.4.0",
      "model_name": "ButtonModel",
      "state": {
       "description": "Default selection",
       "layout": "IPY_MODEL_2397d79dbc5b4689a62c4f36fb34f522",
       "style": "IPY_MODEL_1321cdeaeba64387bb00189ea8be4f5c"
      }
     },
     "07b69bed9bfb41f49da601f9506a0c35": {
      "model_module": "@jupyter-widgets/controls",
      "model_module_version": "1.4.0",
      "model_name": "DescriptionStyleModel",
      "state": {
       "description_width": "initial"
      }
     },
     "07cd8d62d7e0437a9bdbf418326a94aa": {
      "model_module": "@jupyter-widgets/controls",
      "model_module_version": "1.4.0",
      "model_name": "SelectMultipleModel",
      "state": {
       "_options_labels": [
        "VI produced, good quality",
        "VI produced, but check other QA",
        "Pixel produced, but most probably cloudy",
        "Pixel not produced due to other reasons than clouds"
       ],
       "description": "Description",
       "index": [
        0
       ],
       "layout": "IPY_MODEL_df7496f883ad41e7b3503e1893fe69bb",
       "rows": 4,
       "style": "IPY_MODEL_76ede610c65647529380081b40377804"
      }
     },
     "07e56314e17c449ab61bb15a5db47634": {
      "model_module": "@jupyter-widgets/base",
      "model_module_version": "1.1.0",
      "model_name": "LayoutModel",
      "state": {}
     },
     "0803d1479974468fbc032f0f12ddaf0f": {
      "model_module": "@jupyter-widgets/base",
      "model_module_version": "1.1.0",
      "model_name": "LayoutModel",
      "state": {}
     },
     "08225e7b8e744f4bb47a7c8435a149de": {
      "model_module": "@jupyter-widgets/base",
      "model_module_version": "1.1.0",
      "model_name": "LayoutModel",
      "state": {
       "width": "20%"
      }
     },
     "08681ec616594ab5b7c886705b482e4c": {
      "model_module": "@jupyter-widgets/controls",
      "model_module_version": "1.4.0",
      "model_name": "ButtonModel",
      "state": {
       "description": "Select ALL",
       "layout": "IPY_MODEL_d7589883c2564030a1d27c4107be68e5",
       "style": "IPY_MODEL_db0ed4ef4d8042aebb776312a67901e3"
      }
     },
     "086ddf4760514770be93e4c3062c0e2a": {
      "model_module": "@jupyter-widgets/base",
      "model_module_version": "1.1.0",
      "model_name": "LayoutModel",
      "state": {}
     },
     "0876b48354694ae5b29cb6a8a21a6bdc": {
      "model_module": "@jupyter-widgets/controls",
      "model_module_version": "1.4.0",
      "model_name": "SelectModel",
      "state": {
       "_options_labels": [
        "MODLAND",
        "VI Usefulness",
        "Aerosol Quantity",
        "Adjacent cloud detected",
        "Atmosphere BRDF Correction",
        "Mixed Clouds",
        "Land/Water Mask",
        "Possible snow/ice",
        "Possible shadow"
       ],
       "description": "QA Parameter name:",
       "index": 0,
       "layout": "IPY_MODEL_72ff21b784564cc282b6921a528ebf2e",
       "rows": 9,
       "style": "IPY_MODEL_a6c94002f5fc4ddcbbecc64512b13eb0"
      }
     },
     "0895a4464aa647ed8bcd168c2b082afc": {
      "model_module": "@jupyter-widgets/base",
      "model_module_version": "1.1.0",
      "model_name": "LayoutModel",
      "state": {
       "width": "20%"
      }
     },
     "08c1ba36a5b344e1a61d271f11ca7167": {
      "model_module": "@jupyter-widgets/base",
      "model_module_version": "1.1.0",
      "model_name": "LayoutModel",
      "state": {
       "width": "400px"
      }
     },
     "08fc074dda834c7184d1d721baa9f296": {
      "model_module": "@jupyter-widgets/base",
      "model_module_version": "1.1.0",
      "model_name": "LayoutModel",
      "state": {
       "width": "20%"
      }
     },
     "0909e03188db450aa7bf107aa6fdc746": {
      "model_module": "@jupyter-widgets/base",
      "model_module_version": "1.1.0",
      "model_name": "LayoutModel",
      "state": {
       "width": "50%"
      }
     },
     "093da263196b447f88cf6f921aef316c": {
      "model_module": "@jupyter-widgets/base",
      "model_module_version": "1.1.0",
      "model_name": "LayoutModel",
      "state": {}
     },
     "094af03731f64e93bef5e29f197e5400": {
      "model_module": "@jupyter-widgets/base",
      "model_module_version": "1.1.0",
      "model_name": "LayoutModel",
      "state": {
       "height": "200px",
       "width": "99%"
      }
     },
     "09562fa34a0c4d1f98253c66928fc10f": {
      "model_module": "@jupyter-widgets/base",
      "model_module_version": "1.1.0",
      "model_name": "LayoutModel",
      "state": {}
     },
     "0962c92e08ac4b6d8d394e87a7dbd062": {
      "model_module": "@jupyter-widgets/controls",
      "model_module_version": "1.4.0",
      "model_name": "ButtonModel",
      "state": {
       "description": "Select ALL",
       "layout": "IPY_MODEL_7a3005bffd4f49cc8feb11c7cfb18466",
       "style": "IPY_MODEL_a4c7576ddf63466b9b5bca8991a7d26c"
      }
     },
     "09891aea639b4dd789b05e464481a157": {
      "model_module": "@jupyter-widgets/base",
      "model_module_version": "1.1.0",
      "model_name": "LayoutModel",
      "state": {
       "width": "20%"
      }
     },
     "09cf0a0d028748549ee3ecbf1eeac748": {
      "model_module": "@jupyter-widgets/controls",
      "model_module_version": "1.4.0",
      "model_name": "ButtonModel",
      "state": {
       "description": "Default selection",
       "layout": "IPY_MODEL_27c2c7c675cc4858a184a4cc4b70e0a4",
       "style": "IPY_MODEL_1b54900f14004f408712dca575e441c4"
      }
     },
     "09efffc7584242fea9da9e6fcc612eab": {
      "model_module": "@jupyter-widgets/base",
      "model_module_version": "1.1.0",
      "model_name": "LayoutModel",
      "state": {}
     },
     "0a1baaa7a46a40f18b93a6175c548bba": {
      "model_module": "@jupyter-widgets/base",
      "model_module_version": "1.1.0",
      "model_name": "LayoutModel",
      "state": {
       "width": "50%"
      }
     },
     "0a2949cf914644c1a1bce9a3844ed794": {
      "model_module": "@jupyter-widgets/controls",
      "model_module_version": "1.4.0",
      "model_name": "DescriptionStyleModel",
      "state": {
       "description_width": "initial"
      }
     },
     "0a3fdc0a29444cc7a7dd89698b0fb279": {
      "model_module": "@jupyter-widgets/controls",
      "model_module_version": "1.4.0",
      "model_name": "HTMLModel",
      "state": {
       "description": "QA layer:",
       "layout": "IPY_MODEL_6f7c528f2c8b4ab79f3a85f6e7d9c10a",
       "style": "IPY_MODEL_d113c7d53da24ad2a2fc26ad304665d9",
       "value": "<b>_1_km_16_days_VI_Quality</b>"
      }
     },
     "0a68b17e81f44f528bf13fbd597ee2e9": {
      "model_module": "@jupyter-widgets/controls",
      "model_module_version": "1.4.0",
      "model_name": "HBoxModel",
      "state": {
       "children": [
        "IPY_MODEL_2e157b567b8e4ce1bb74824576afd43d",
        "IPY_MODEL_6f844d6eb59b4eca88fbe467002a0d4f"
       ],
       "layout": "IPY_MODEL_570631ef64d34985aa4419e0e56b633e"
      }
     },
     "0b1746c0054b406381838007aa48bfb2": {
      "model_module": "@jupyter-widgets/controls",
      "model_module_version": "1.4.0",
      "model_name": "HTMLModel",
      "state": {
       "description": "QA layer:",
       "layout": "IPY_MODEL_ddc0715aec5c4436b9f6a7732d4d1cc6",
       "style": "IPY_MODEL_cfc9346e0eeb4cd7a55d3bc366da1113",
       "value": "<b>_1_km_16_days_VI_Quality</b>"
      }
     },
     "0b1d06c1ddb14140bbef9dd011ac8443": {
      "model_module": "@jupyter-widgets/controls",
      "model_module_version": "1.4.0",
      "model_name": "HBoxModel",
      "state": {
       "children": [
        "IPY_MODEL_6ff18d46b22147539215ae1b1759739b",
        "IPY_MODEL_bdcf2a8fc9a8456db4c68d98475050e3",
        "IPY_MODEL_1f765ab97a55415899415d72936dc98a"
       ],
       "layout": "IPY_MODEL_62b87c49856846309157e1ad0e3c97c6"
      }
     },
     "0b72c69063d44946bd4d5c621a954f9c": {
      "model_module": "@jupyter-widgets/base",
      "model_module_version": "1.1.0",
      "model_name": "LayoutModel",
      "state": {}
     },
     "0b7fb4db6b284dc885fe0ea8c0b71842": {
      "model_module": "@jupyter-widgets/controls",
      "model_module_version": "1.4.0",
      "model_name": "ButtonModel",
      "state": {
       "description": "Select ALL",
       "layout": "IPY_MODEL_cc4c8f2f9caf4dfbbc6a949daea1db6c",
       "style": "IPY_MODEL_ad1279537e074363af57b271901f7a13"
      }
     },
     "0c19fd283539455d875ecf05e6c8c039": {
      "model_module": "@jupyter-widgets/base",
      "model_module_version": "1.1.0",
      "model_name": "LayoutModel",
      "state": {}
     },
     "0c203d6ef98747acb55133e9dc3ca8d8": {
      "model_module": "@jupyter-widgets/base",
      "model_module_version": "1.1.0",
      "model_name": "LayoutModel",
      "state": {
       "width": "400px"
      }
     },
     "0c223f8e75e0485b835285595b78f9fe": {
      "model_module": "@jupyter-widgets/base",
      "model_module_version": "1.1.0",
      "model_name": "LayoutModel",
      "state": {}
     },
     "0c3ecf5a2d7f4efc8f1cbb64522a1d56": {
      "model_module": "@jupyter-widgets/base",
      "model_module_version": "1.1.0",
      "model_name": "LayoutModel",
      "state": {
       "width": "400px"
      }
     },
     "0cac349d40e14e598854fb7669976aa7": {
      "model_module": "@jupyter-widgets/base",
      "model_module_version": "1.1.0",
      "model_name": "LayoutModel",
      "state": {
       "width": "20%"
      }
     },
     "0cb15f86f316478f917b7305ff00bbad": {
      "model_module": "@jupyter-widgets/controls",
      "model_module_version": "1.4.0",
      "model_name": "ButtonModel",
      "state": {
       "description": "Default selection",
       "layout": "IPY_MODEL_a284776e6f4b4c73bec7e6c9d6054816",
       "style": "IPY_MODEL_e2745682ea334edfad94031610851668"
      }
     },
     "0cfc670b52b2499788d6049a63b5c1fa": {
      "model_module": "@jupyter-widgets/base",
      "model_module_version": "1.1.0",
      "model_name": "LayoutModel",
      "state": {
       "width": "400px"
      }
     },
     "0d1ea90fc73f4bf695e5e5a440c61fea": {
      "model_module": "@jupyter-widgets/controls",
      "model_module_version": "1.4.0",
      "model_name": "ButtonModel",
      "state": {
       "description": "Select ALL",
       "layout": "IPY_MODEL_21b123bc10454efda4f1638cfe53cc39",
       "style": "IPY_MODEL_918c7c457e0b438fa481c3cdf72d8694"
      }
     },
     "0d453c892154499ab192f604d45c71b1": {
      "model_module": "@jupyter-widgets/controls",
      "model_module_version": "1.4.0",
      "model_name": "DescriptionStyleModel",
      "state": {
       "description_width": "initial"
      }
     },
     "0d5f46beb7f246daa7007c761e9b622b": {
      "model_module": "@jupyter-widgets/base",
      "model_module_version": "1.1.0",
      "model_name": "LayoutModel",
      "state": {
       "width": "20%"
      }
     },
     "0d627ee69bc146f280fc8969d43389e5": {
      "model_module": "@jupyter-widgets/controls",
      "model_module_version": "1.4.0",
      "model_name": "ButtonModel",
      "state": {
       "description": "Select ALL",
       "layout": "IPY_MODEL_bcf8d6b59f174a9abf4cf25a5d307737",
       "style": "IPY_MODEL_137c2b0130bd43cb8a103f395eba4363"
      }
     },
     "0db7ed4aede84a07b378fc860cad3c8c": {
      "model_module": "@jupyter-widgets/controls",
      "model_module_version": "1.4.0",
      "model_name": "ButtonStyleModel",
      "state": {}
     },
     "0dcd2b87b4b144a9b4a63eb2efc2cee7": {
      "model_module": "@jupyter-widgets/controls",
      "model_module_version": "1.4.0",
      "model_name": "ButtonModel",
      "state": {
       "description": "Select ALL",
       "layout": "IPY_MODEL_ca4bc37d01cb449db39457e4b392cebd",
       "style": "IPY_MODEL_3ab12e99723946329c761cceefb190b7"
      }
     },
     "0de453db826347a9aafa5acf2e83588d": {
      "model_module": "@jupyter-widgets/controls",
      "model_module_version": "1.4.0",
      "model_name": "ButtonStyleModel",
      "state": {}
     },
     "0e04b0f48ded4fe0bae872ab793d4490": {
      "model_module": "@jupyter-widgets/controls",
      "model_module_version": "1.4.0",
      "model_name": "ButtonStyleModel",
      "state": {}
     },
     "0e24dd01646144f58c4d92fe2c97d552": {
      "model_module": "@jupyter-widgets/controls",
      "model_module_version": "1.4.0",
      "model_name": "HBoxModel",
      "state": {
       "children": [
        "IPY_MODEL_4daf4afcab8946609bcf6f161619d363",
        "IPY_MODEL_fadf6ec74aba416281aff0b6a5704999",
        "IPY_MODEL_29fcf80829ca4754bef8db6f75067eda",
        "IPY_MODEL_e9528f60ec684fa5a50665aeba05c167"
       ],
       "layout": "IPY_MODEL_64f7d7e8a5384be6aff81da5fb63f495"
      }
     },
     "0e4c33e692d84618ae660c66f14fe888": {
      "model_module": "@jupyter-widgets/controls",
      "model_module_version": "1.4.0",
      "model_name": "ButtonStyleModel",
      "state": {}
     },
     "0e4f2f0eab9f47ee91397f1fd1c8efb9": {
      "model_module": "@jupyter-widgets/base",
      "model_module_version": "1.1.0",
      "model_name": "LayoutModel",
      "state": {}
     },
     "0e62a609e9f543cabde53d9c083d601e": {
      "model_module": "@jupyter-widgets/controls",
      "model_module_version": "1.4.0",
      "model_name": "ButtonStyleModel",
      "state": {}
     },
     "0e79237d7c02468b98fa75358d40c427": {
      "model_module": "@jupyter-widgets/controls",
      "model_module_version": "1.4.0",
      "model_name": "DescriptionStyleModel",
      "state": {
       "description_width": ""
      }
     },
     "0ea50f36b4b240bda3ae9977bfcc7ef9": {
      "model_module": "@jupyter-widgets/base",
      "model_module_version": "1.1.0",
      "model_name": "LayoutModel",
      "state": {}
     },
     "0ec7b17239374d958da8aad790a8f3d0": {
      "model_module": "@jupyter-widgets/base",
      "model_module_version": "1.1.0",
      "model_name": "LayoutModel",
      "state": {
       "width": "20%"
      }
     },
     "0ef4aafff3654812bd030f8abd45024b": {
      "model_module": "@jupyter-widgets/base",
      "model_module_version": "1.1.0",
      "model_name": "LayoutModel",
      "state": {
       "height": "200px",
       "width": "99%"
      }
     },
     "0f166cd47bbe4db8af8f1af9c5c1476f": {
      "model_module": "@jupyter-widgets/controls",
      "model_module_version": "1.4.0",
      "model_name": "IntProgressModel",
      "state": {
       "description": "Computing max gap length...",
       "layout": "IPY_MODEL_90a1b806194f43ab8cc9bbe870d58201",
       "max": 1440000,
       "style": "IPY_MODEL_79f579763ecf4bbbafb67c5341700eee",
       "value": 14756
      }
     },
     "0f67cdb9227048479caff2764e681f68": {
      "model_module": "@jupyter-widgets/controls",
      "model_module_version": "1.4.0",
      "model_name": "ButtonStyleModel",
      "state": {}
     },
     "0f709ebe198d40999aebe87bbea653ec": {
      "model_module": "@jupyter-widgets/controls",
      "model_module_version": "1.4.0",
      "model_name": "VBoxModel",
      "state": {
       "children": [
        "IPY_MODEL_8b851cf553a94ff7969adbc979fa175e"
       ],
       "layout": "IPY_MODEL_65ab104d8e184bfbad9c7547365dc882"
      }
     },
     "0f8d1030b4894254adfc4b4417a0baa4": {
      "model_module": "@jupyter-widgets/controls",
      "model_module_version": "1.4.0",
      "model_name": "ButtonModel",
      "state": {
       "description": "Default selection",
       "layout": "IPY_MODEL_3750a09228234ee08cb676d83a8b713a",
       "style": "IPY_MODEL_5022a4c6335f4c2c955ed66da52f7d84"
      }
     },
     "0fa7cab60afa4132b45c90a2b3208bd4": {
      "model_module": "@jupyter-widgets/controls",
      "model_module_version": "1.4.0",
      "model_name": "ButtonStyleModel",
      "state": {}
     },
     "0fd3e4f0b8ef4e7aa052d0ea15b4a399": {
      "model_module": "@jupyter-widgets/base",
      "model_module_version": "1.1.0",
      "model_name": "LayoutModel",
      "state": {
       "width": "20%"
      }
     },
     "0fe1c182ae7546668b3d481ba149ff7e": {
      "model_module": "@jupyter-widgets/base",
      "model_module_version": "1.1.0",
      "model_name": "LayoutModel",
      "state": {
       "height": "300px",
       "width": "99%"
      }
     },
     "10095ffa10a7459780c928edb7ff6548": {
      "model_module": "@jupyter-widgets/controls",
      "model_module_version": "1.4.0",
      "model_name": "HTMLModel",
      "state": {
       "description": "QA layer:",
       "layout": "IPY_MODEL_ae5d1b456c49495fa5c2b212c3efd6c2",
       "style": "IPY_MODEL_618492c7566d41d7b93bb1fcd9a1be80",
       "value": "<b>_1_km_16_days_VI_Quality</b>"
      }
     },
     "1019d200dd5e4127a1f0638e6edc30c3": {
      "model_module": "@jupyter-widgets/base",
      "model_module_version": "1.1.0",
      "model_name": "LayoutModel",
      "state": {
       "width": "30%"
      }
     },
     "10c5352651ec40b19a178b178f1c5bc1": {
      "model_module": "@jupyter-widgets/base",
      "model_module_version": "1.1.0",
      "model_name": "LayoutModel",
      "state": {
       "width": "50%"
      }
     },
     "110460a919114d6d868f7bffc39a72f6": {
      "model_module": "@jupyter-widgets/controls",
      "model_module_version": "1.4.0",
      "model_name": "ButtonStyleModel",
      "state": {}
     },
     "1123933e3ebd49ce88fe40c0e0798f02": {
      "model_module": "@jupyter-widgets/controls",
      "model_module_version": "1.4.0",
      "model_name": "HTMLModel",
      "state": {
       "description": "QA layer:",
       "layout": "IPY_MODEL_cd95123da3c74b2881beaf98d832b54e",
       "style": "IPY_MODEL_cd3333debf1041b0b95612f19fa47f9b",
       "value": "<b>_1_km_16_days_VI_Quality</b>"
      }
     },
     "112cdb285da040aa8ec2377991efe4fe": {
      "model_module": "@jupyter-widgets/controls",
      "model_module_version": "1.4.0",
      "model_name": "HBoxModel",
      "state": {
       "children": [
        "IPY_MODEL_d4fdf635475b45c99649273055dd3cff",
        "IPY_MODEL_8542350df8d94276b12672b297514ba8"
       ],
       "layout": "IPY_MODEL_bab35d3d57c54920b3c0c0db55f765e7"
      }
     },
     "115397dd86f548c8bbf6d0d6bc3a7685": {
      "model_module": "@jupyter-widgets/controls",
      "model_module_version": "1.4.0",
      "model_name": "HBoxModel",
      "state": {
       "children": [
        "IPY_MODEL_53702125c8e54d37b3944fc945ed0569",
        "IPY_MODEL_fdec7c6e39764bac8ee5a7ffdc5d924f",
        "IPY_MODEL_65127ee2cfad49e0b2f136130be4dc44"
       ],
       "layout": "IPY_MODEL_65d349baef1a49718b565cc42ae097ed"
      }
     },
     "11806b3b4f17413b83e08305d7303fac": {
      "model_module": "@jupyter-widgets/base",
      "model_module_version": "1.1.0",
      "model_name": "LayoutModel",
      "state": {
       "width": "20%"
      }
     },
     "11b92ebe95c44d979f434a621b378df2": {
      "model_module": "@jupyter-widgets/base",
      "model_module_version": "1.1.0",
      "model_name": "LayoutModel",
      "state": {
       "width": "20%"
      }
     },
     "11c083c86d2b419e8f2f379206d18b10": {
      "model_module": "@jupyter-widgets/controls",
      "model_module_version": "1.4.0",
      "model_name": "DescriptionStyleModel",
      "state": {
       "description_width": ""
      }
     },
     "11e5bae68a9d42d19647897c53e1244c": {
      "model_module": "@jupyter-widgets/base",
      "model_module_version": "1.1.0",
      "model_name": "LayoutModel",
      "state": {
       "height": "350px",
       "width": "99%"
      }
     },
     "11fd92e9e7284289bec33b19db0c6547": {
      "model_module": "@jupyter-widgets/base",
      "model_module_version": "1.1.0",
      "model_name": "LayoutModel",
      "state": {
       "width": "400px"
      }
     },
     "120945fac4c945a2ad5c617ccb5201c3": {
      "model_module": "@jupyter-widgets/base",
      "model_module_version": "1.1.0",
      "model_name": "LayoutModel",
      "state": {
       "width": "50%"
      }
     },
     "122038fbf76844088f5500bf6cbac854": {
      "model_module": "@jupyter-widgets/base",
      "model_module_version": "1.1.0",
      "model_name": "LayoutModel",
      "state": {
       "width": "50%"
      }
     },
     "1248ab1901c047eb9d926a1f0db6ed3c": {
      "model_module": "@jupyter-widgets/base",
      "model_module_version": "1.1.0",
      "model_name": "LayoutModel",
      "state": {}
     },
     "127923edfe184be0ab35f94b5e1059c5": {
      "model_module": "@jupyter-widgets/base",
      "model_module_version": "1.1.0",
      "model_name": "LayoutModel",
      "state": {
       "height": "300px",
       "width": "99%"
      }
     },
     "1288e162fc4443bd882e1fceb4c4a9dc": {
      "model_module": "@jupyter-widgets/base",
      "model_module_version": "1.1.0",
      "model_name": "LayoutModel",
      "state": {
       "width": "400px"
      }
     },
     "1293c5335dc04acfb3bc6bee8962fbc0": {
      "model_module": "@jupyter-widgets/controls",
      "model_module_version": "1.4.0",
      "model_name": "DescriptionStyleModel",
      "state": {
       "description_width": ""
      }
     },
     "12bac710042143f88f675e70662b5bba": {
      "model_module": "@jupyter-widgets/controls",
      "model_module_version": "1.4.0",
      "model_name": "ButtonModel",
      "state": {
       "description": "Default selection",
       "layout": "IPY_MODEL_3047c53770ec49aab3216f51456ea688",
       "style": "IPY_MODEL_8bb26497835143b2a3debd18ef938afa"
      }
     },
     "12dd10672b32451eb87adadd520fc344": {
      "model_module": "@jupyter-widgets/controls",
      "model_module_version": "1.4.0",
      "model_name": "ButtonStyleModel",
      "state": {}
     },
     "1321cdeaeba64387bb00189ea8be4f5c": {
      "model_module": "@jupyter-widgets/controls",
      "model_module_version": "1.4.0",
      "model_name": "ButtonStyleModel",
      "state": {}
     },
     "1359ad95eed74adf9fda865364ad4abf": {
      "model_module": "@jupyter-widgets/controls",
      "model_module_version": "1.4.0",
      "model_name": "ButtonModel",
      "state": {
       "description": "Default selection",
       "layout": "IPY_MODEL_c9ba821732e848e58facfaea2bfd1cd2",
       "style": "IPY_MODEL_17e810b64f89441899322c4c2192bc52"
      }
     },
     "137c2b0130bd43cb8a103f395eba4363": {
      "model_module": "@jupyter-widgets/controls",
      "model_module_version": "1.4.0",
      "model_name": "ButtonStyleModel",
      "state": {}
     },
     "138563f039854c5ebe13ce908372bd40": {
      "model_module": "@jupyter-widgets/controls",
      "model_module_version": "1.4.0",
      "model_name": "ButtonStyleModel",
      "state": {}
     },
     "13f900f9989e45a498df4e20172817a1": {
      "model_module": "@jupyter-widgets/base",
      "model_module_version": "1.1.0",
      "model_name": "LayoutModel",
      "state": {}
     },
     "1420dbfcf1f946b88cff3a0cfcf86859": {
      "model_module": "@jupyter-widgets/controls",
      "model_module_version": "1.4.0",
      "model_name": "ButtonModel",
      "state": {
       "description": "Create mask and max gap length",
       "layout": "IPY_MODEL_19c96c1748a243a8b47e361bf1634da3",
       "style": "IPY_MODEL_c168dbb147ca41478e115c4d355a0559"
      }
     },
     "1439d407b9db4a3d86f112e5151207f8": {
      "model_module": "@jupyter-widgets/controls",
      "model_module_version": "1.4.0",
      "model_name": "HBoxModel",
      "state": {
       "children": [
        "IPY_MODEL_8aac1537c3864b36ae9404bc64b1c1e3",
        "IPY_MODEL_c1bdf4a75f604103804d55abf1a6a25b",
        "IPY_MODEL_b4f5e2a7bc844f1f912b3c5e3d127d30",
        "IPY_MODEL_7d76ad2290be4b47877f6ca200600282"
       ],
       "layout": "IPY_MODEL_06d3c8c314ae4602a919a611de4d5909"
      }
     },
     "1455f5f5ad8f48ec81a513bd44a861d7": {
      "model_module": "@jupyter-widgets/controls",
      "model_module_version": "1.4.0",
      "model_name": "SelectMultipleModel",
      "state": {
       "_options_labels": [
        "VI produced, good quality",
        "VI produced, but check other QA",
        "Pixel produced, but most probably cloudy",
        "Pixel not produced due to other reasons than clouds"
       ],
       "description": "Description",
       "index": [
        0
       ],
       "layout": "IPY_MODEL_075280ff991e4e57b45411286aa487b8",
       "rows": 4,
       "style": "IPY_MODEL_03b67576852f4a439fec3191a4e1d167"
      }
     },
     "147335332e414a29b69ccfe3d42fcc66": {
      "model_module": "@jupyter-widgets/controls",
      "model_module_version": "1.4.0",
      "model_name": "ButtonModel",
      "state": {
       "description": "Default selection",
       "layout": "IPY_MODEL_09891aea639b4dd789b05e464481a157",
       "style": "IPY_MODEL_2cddd8f3ea8a4973955295bf64754e25"
      }
     },
     "148eafa7397f47f8a893af4b850e2910": {
      "model_module": "@jupyter-widgets/controls",
      "model_module_version": "1.4.0",
      "model_name": "SelectModel",
      "state": {
       "_options_labels": [
        "MODLAND",
        "VI Usefulness",
        "Aerosol Quantity",
        "Adjacent cloud detected",
        "Atmosphere BRDF Correction",
        "Mixed Clouds",
        "Land/Water Mask",
        "Possible snow/ice",
        "Possible shadow"
       ],
       "description": "QA Parameter name:",
       "index": 0,
       "layout": "IPY_MODEL_83ae6899af82490aa42fc41ad81c847e",
       "rows": 9,
       "style": "IPY_MODEL_4dba8375cb064b1da6bbfcd0b4198088"
      }
     },
     "14c221ea8124410a9839ac7579144b81": {
      "model_module": "@jupyter-widgets/base",
      "model_module_version": "1.1.0",
      "model_name": "LayoutModel",
      "state": {
       "width": "20%"
      }
     },
     "14ef014eb3cd4694a03fa7d15daf71b5": {
      "model_module": "@jupyter-widgets/base",
      "model_module_version": "1.1.0",
      "model_name": "LayoutModel",
      "state": {
       "width": "20%"
      }
     },
     "1506581605334134baa59296d702dae1": {
      "model_module": "@jupyter-widgets/controls",
      "model_module_version": "1.4.0",
      "model_name": "VBoxModel",
      "state": {
       "children": [
        "IPY_MODEL_73656e9ae27b4fa79c26dacd2524d8be"
       ],
       "layout": "IPY_MODEL_56fa71f71c7d4fc0a12dbd3c81e162bc"
      }
     },
     "150a07a378364ce9814f8bdd06abdb61": {
      "model_module": "@jupyter-widgets/controls",
      "model_module_version": "1.4.0",
      "model_name": "DescriptionStyleModel",
      "state": {
       "description_width": ""
      }
     },
     "15107522eb3a4d1593a38724b99c6e20": {
      "model_module": "@jupyter-widgets/controls",
      "model_module_version": "1.4.0",
      "model_name": "SelectMultipleModel",
      "state": {
       "_options_labels": [
        "VI produced, good quality",
        "VI produced, but check other QA",
        "Pixel produced, but most probably cloudy",
        "Pixel not produced due to other reasons than clouds"
       ],
       "description": "Description",
       "index": [
        0
       ],
       "layout": "IPY_MODEL_02de2a24cfbe4a76a46b5251ead96a25",
       "rows": 4,
       "style": "IPY_MODEL_dfbffee918c44d21b3310380e0c682c7"
      }
     },
     "151a9f1994424c52bd8e3b8857d4c5b3": {
      "model_module": "@jupyter-widgets/controls",
      "model_module_version": "1.4.0",
      "model_name": "DescriptionStyleModel",
      "state": {
       "description_width": "initial"
      }
     },
     "157ad0ce64ab488389736479595a6dbb": {
      "model_module": "@jupyter-widgets/base",
      "model_module_version": "1.1.0",
      "model_name": "LayoutModel",
      "state": {
       "width": "400px"
      }
     },
     "15911de183c24d57a83ec5de479584f4": {
      "model_module": "@jupyter-widgets/controls",
      "model_module_version": "1.4.0",
      "model_name": "ButtonModel",
      "state": {
       "description": "Default selection",
       "layout": "IPY_MODEL_bb5dd41c300343238d4920555fa1848d",
       "style": "IPY_MODEL_6964bb158dc848528b1d66e0e69e19a9"
      }
     },
     "15e77c6cecc945c4bfd2349d5e8a169e": {
      "model_module": "@jupyter-widgets/controls",
      "model_module_version": "1.4.0",
      "model_name": "HBoxModel",
      "state": {
       "children": [
        "IPY_MODEL_8ec7803e2ceb43ec97491943428a5738",
        "IPY_MODEL_1e565c97be9c4a858f578b6702dcf97f"
       ],
       "layout": "IPY_MODEL_5ce3455a57d04a03a3aac19a93ef9889"
      }
     },
     "1627db996dbe48a2b51d14549d9c4242": {
      "model_module": "@jupyter-widgets/controls",
      "model_module_version": "1.4.0",
      "model_name": "SelectModel",
      "state": {
       "_options_labels": [
        "MODLAND",
        "VI Usefulness",
        "Aerosol Quantity",
        "Adjacent cloud detected",
        "Atmosphere BRDF Correction",
        "Mixed Clouds",
        "Land/Water Mask",
        "Possible snow/ice",
        "Possible shadow"
       ],
       "description": "QA Parameter name:",
       "index": 0,
       "layout": "IPY_MODEL_b4d448e70b4647febddcdd85e4b7fbd2",
       "rows": 9,
       "style": "IPY_MODEL_974bb8709fa54253b04084c19bc946ed"
      }
     },
     "163f622fee8d48f3bd16c2e5c6a4b75a": {
      "model_module": "@jupyter-widgets/controls",
      "model_module_version": "1.4.0",
      "model_name": "ButtonModel",
      "state": {
       "description": "Select ALL",
       "layout": "IPY_MODEL_6df791593b9f49b081f4f6d42c7f0d1d",
       "style": "IPY_MODEL_00a328bf1ce44f648d8504512b01d346"
      }
     },
     "1644fc17384b42e69e4b7219f35fd17a": {
      "model_module": "@jupyter-widgets/controls",
      "model_module_version": "1.4.0",
      "model_name": "HTMLModel",
      "state": {
       "description": "QA layer:",
       "layout": "IPY_MODEL_a1a8c4fb332044238159be1cb15938ff",
       "style": "IPY_MODEL_d31e286c787647419c35505d2269ede0",
       "value": "<b>_1_km_16_days_VI_Quality</b>"
      }
     },
     "164c3606166545eab27b42ce03421019": {
      "model_module": "@jupyter-widgets/controls",
      "model_module_version": "1.4.0",
      "model_name": "DescriptionStyleModel",
      "state": {
       "description_width": "initial"
      }
     },
     "164c3cd08c184fe0abae6e1b66a2423c": {
      "model_module": "@jupyter-widgets/controls",
      "model_module_version": "1.4.0",
      "model_name": "ButtonModel",
      "state": {
       "description": "Create mask and max gap length",
       "layout": "IPY_MODEL_af7d8ccb0a0d493dbd50f20ec7512f96",
       "style": "IPY_MODEL_94dbda32a3cb425f96a87f1bb3362e97"
      }
     },
     "165ed080d63243408b37e35580bc8a19": {
      "model_module": "@jupyter-widgets/controls",
      "model_module_version": "1.4.0",
      "model_name": "DescriptionStyleModel",
      "state": {
       "description_width": "initial"
      }
     },
     "1688b2d833ab48039046a11709a0cda6": {
      "model_module": "@jupyter-widgets/base",
      "model_module_version": "1.1.0",
      "model_name": "LayoutModel",
      "state": {
       "width": "50%"
      }
     },
     "16d60379d4534000ad83b11d0b5d6ef5": {
      "model_module": "@jupyter-widgets/controls",
      "model_module_version": "1.4.0",
      "model_name": "SelectMultipleModel",
      "state": {
       "_options_labels": [
        "VI produced, good quality",
        "VI produced, but check other QA",
        "Pixel produced, but most probably cloudy",
        "Pixel not produced due to other reasons than clouds"
       ],
       "description": "Description",
       "index": [
        0
       ],
       "layout": "IPY_MODEL_450a8f4f75b247019b4e08f99bb401a3",
       "rows": 4,
       "style": "IPY_MODEL_2f8df66b7ea3401c9fc3f43f458bcf48"
      }
     },
     "16de96baa6f44d1cbf168e334caf4632": {
      "model_module": "@jupyter-widgets/controls",
      "model_module_version": "1.4.0",
      "model_name": "ProgressStyleModel",
      "state": {
       "description_width": "initial"
      }
     },
     "172ab49d86324f368a8317d7df1f4cc5": {
      "model_module": "@jupyter-widgets/controls",
      "model_module_version": "1.4.0",
      "model_name": "ButtonModel",
      "state": {
       "description": "Default selection",
       "layout": "IPY_MODEL_2ef14051eff84b7292974e8f2ba3cea8",
       "style": "IPY_MODEL_033cb84edb714141b361aed1c856a6ed"
      }
     },
     "17680aed17ee4f29870a68981657ba8c": {
      "model_module": "@jupyter-widgets/controls",
      "model_module_version": "1.4.0",
      "model_name": "ButtonModel",
      "state": {
       "description": "Select ALL",
       "layout": "IPY_MODEL_c60d4d48d5924e6a8661cb3be15419f0",
       "style": "IPY_MODEL_74f8d7564dba40be8242870760b7bc83"
      }
     },
     "17798a680f2f4dcc94c81abacedd1833": {
      "model_module": "@jupyter-widgets/controls",
      "model_module_version": "1.4.0",
      "model_name": "SelectModel",
      "state": {
       "_options_labels": [
        "MODLAND",
        "VI Usefulness",
        "Aerosol Quantity",
        "Adjacent cloud detected",
        "Atmosphere BRDF Correction",
        "Mixed Clouds",
        "Land/Water Mask",
        "Possible snow/ice",
        "Possible shadow"
       ],
       "description": "QA Parameter name:",
       "index": 0,
       "layout": "IPY_MODEL_d9585e819d194337a4263a52d8456ffc",
       "rows": 9,
       "style": "IPY_MODEL_1ab72810c1b54f4da94531d20497190b"
      }
     },
     "178137a0403741a396587a26f0a13c07": {
      "model_module": "@jupyter-widgets/base",
      "model_module_version": "1.1.0",
      "model_name": "LayoutModel",
      "state": {
       "width": "350px"
      }
     },
     "17a2ed406bee4098bb0b2d32b200a987": {
      "model_module": "@jupyter-widgets/base",
      "model_module_version": "1.1.0",
      "model_name": "LayoutModel",
      "state": {}
     },
     "17ad27edc6524f83a3701e14084b72aa": {
      "model_module": "@jupyter-widgets/controls",
      "model_module_version": "1.4.0",
      "model_name": "VBoxModel",
      "state": {
       "children": [
        "IPY_MODEL_c058fa4e0a7843578bfed52c840a6d3e"
       ],
       "layout": "IPY_MODEL_0083739d68114ec5950e8d3e87570139"
      }
     },
     "17c7fb0079224c0da5e91750e661f8c8": {
      "model_module": "@jupyter-widgets/base",
      "model_module_version": "1.1.0",
      "model_name": "LayoutModel",
      "state": {}
     },
     "17e810b64f89441899322c4c2192bc52": {
      "model_module": "@jupyter-widgets/controls",
      "model_module_version": "1.4.0",
      "model_name": "ButtonStyleModel",
      "state": {}
     },
     "17e9fb66fd3b43399961e0933a5e0a7b": {
      "model_module": "@jupyter-widgets/controls",
      "model_module_version": "1.4.0",
      "model_name": "VBoxModel",
      "state": {
       "children": [
        "IPY_MODEL_fffa665b389143c0867d99cf4e3d2cc8"
       ],
       "layout": "IPY_MODEL_9399ce62d65a470c9574d782b7a4c982"
      }
     },
     "1806bda9153b426dbc293361a9563bfe": {
      "model_module": "@jupyter-widgets/controls",
      "model_module_version": "1.4.0",
      "model_name": "ButtonModel",
      "state": {
       "description": "QA analytics",
       "layout": "IPY_MODEL_d360fde4d573419ea29dcba79423df79",
       "style": "IPY_MODEL_fd2a1bab6a0e48bcaa62115df7244eef"
      }
     },
     "1809703dcc774933bf329b54cf289c91": {
      "model_module": "@jupyter-widgets/base",
      "model_module_version": "1.1.0",
      "model_name": "LayoutModel",
      "state": {
       "width": "400px"
      }
     },
     "1809b905ea1042889b214cbb779bbc4b": {
      "model_module": "@jupyter-widgets/controls",
      "model_module_version": "1.4.0",
      "model_name": "DescriptionStyleModel",
      "state": {
       "description_width": ""
      }
     },
     "18276ea9f674426e9913e686b9c30474": {
      "model_module": "@jupyter-widgets/controls",
      "model_module_version": "1.4.0",
      "model_name": "ProgressStyleModel",
      "state": {
       "description_width": "initial"
      }
     },
     "184b7b0868af4000b0c4e49f2bb31337": {
      "model_module": "@jupyter-widgets/base",
      "model_module_version": "1.1.0",
      "model_name": "LayoutModel",
      "state": {
       "width": "50%"
      }
     },
     "1852a04783154906841712febafd9290": {
      "model_module": "@jupyter-widgets/base",
      "model_module_version": "1.1.0",
      "model_name": "LayoutModel",
      "state": {}
     },
     "1873f7fe28ac48a391591019b8637ee8": {
      "model_module": "@jupyter-widgets/controls",
      "model_module_version": "1.4.0",
      "model_name": "HTMLModel",
      "state": {
       "description": "QA layer:",
       "layout": "IPY_MODEL_643744c79b1447a196dca6db0b0604a3",
       "style": "IPY_MODEL_dd54b9e2b947419e8634d942676ab5a6",
       "value": "<b>_1_km_16_days_VI_Quality</b>"
      }
     },
     "18a749ee2ac64d9daebbfb8c7ec74636": {
      "model_module": "@jupyter-widgets/controls",
      "model_module_version": "1.4.0",
      "model_name": "VBoxModel",
      "state": {
       "children": [
        "IPY_MODEL_2155a60d512a430085377e3726a7c69b"
       ],
       "layout": "IPY_MODEL_7340e644504544668c18d24d3220f2dd"
      }
     },
     "18b7dbbb7f0d4990bd1a35bf4c32a615": {
      "model_module": "@jupyter-widgets/base",
      "model_module_version": "1.1.0",
      "model_name": "LayoutModel",
      "state": {
       "width": "30%"
      }
     },
     "18ba67a6f1574c35bef7c2c1ede1ac8b": {
      "model_module": "@jupyter-widgets/controls",
      "model_module_version": "1.4.0",
      "model_name": "ButtonStyleModel",
      "state": {}
     },
     "18c04d45bfce49ce8c78eeffd393e326": {
      "model_module": "@jupyter-widgets/controls",
      "model_module_version": "1.4.0",
      "model_name": "ButtonStyleModel",
      "state": {}
     },
     "18ddce6892254e50897ba5d5b5aba449": {
      "model_module": "@jupyter-widgets/controls",
      "model_module_version": "1.4.0",
      "model_name": "ButtonModel",
      "state": {
       "description": "QA analytics",
       "layout": "IPY_MODEL_758759c0385a40f589dcfeea5fda3699",
       "style": "IPY_MODEL_c8c9089d011e45179619a4f29c75aa5e"
      }
     },
     "193691638d634287ae015126b45b578b": {
      "model_module": "@jupyter-widgets/controls",
      "model_module_version": "1.4.0",
      "model_name": "DescriptionStyleModel",
      "state": {
       "description_width": ""
      }
     },
     "1957792f479c4b34ac3e25f9f5a990ae": {
      "model_module": "@jupyter-widgets/controls",
      "model_module_version": "1.4.0",
      "model_name": "SelectModel",
      "state": {
       "_options_labels": [
        "MODLAND",
        "VI Usefulness",
        "Aerosol Quantity",
        "Adjacent cloud detected",
        "Atmosphere BRDF Correction",
        "Mixed Clouds",
        "Land/Water Mask",
        "Possible snow/ice",
        "Possible shadow"
       ],
       "description": "QA Parameter name:",
       "index": 1,
       "layout": "IPY_MODEL_b4adbad661954973ac26b40dc4e620cf",
       "rows": 9,
       "style": "IPY_MODEL_27aba4500c2a4896b0d8257fe9243269"
      }
     },
     "199e4515c0ab408382cfaef757179d46": {
      "model_module": "@jupyter-widgets/controls",
      "model_module_version": "1.4.0",
      "model_name": "ButtonStyleModel",
      "state": {}
     },
     "19ba217154594e419c20a056cb97b23f": {
      "model_module": "@jupyter-widgets/controls",
      "model_module_version": "1.4.0",
      "model_name": "HBoxModel",
      "state": {
       "children": [
        "IPY_MODEL_1627db996dbe48a2b51d14549d9c4242",
        "IPY_MODEL_f25dac2ce4b441bc99b2b6a62389f8d2",
        "IPY_MODEL_6ed861cf0ce247bd8a6856083407dd13",
        "IPY_MODEL_b6074627bb784547be5ae97ce9eb988c"
       ],
       "layout": "IPY_MODEL_eee29aae4df94dc2871e393a7aecc6d8"
      }
     },
     "19c96c1748a243a8b47e361bf1634da3": {
      "model_module": "@jupyter-widgets/base",
      "model_module_version": "1.1.0",
      "model_name": "LayoutModel",
      "state": {
       "width": "30%"
      }
     },
     "1a02e57e07ca42268404c8642de03dd5": {
      "model_module": "@jupyter-widgets/controls",
      "model_module_version": "1.4.0",
      "model_name": "HBoxModel",
      "state": {
       "children": [
        "IPY_MODEL_abc9839fc770441c88d8064cc7947660",
        "IPY_MODEL_a3abd56012d74a478c850898eebea7ee",
        "IPY_MODEL_9ce687bb65e64e4cb5b51675f2b6c4f7",
        "IPY_MODEL_e0ea05f9721a4de094a25709e95f2ac3"
       ],
       "layout": "IPY_MODEL_f82b45a4efd64003b88816411d6f89bb"
      }
     },
     "1a31a1c44c5042bf9db30ab3f1f711d1": {
      "model_module": "@jupyter-widgets/controls",
      "model_module_version": "1.4.0",
      "model_name": "VBoxModel",
      "state": {
       "children": [
        "IPY_MODEL_fab1431e98fa4858801ae82f34101422"
       ],
       "layout": "IPY_MODEL_823a8e6cbdb34702a93ba2842e43c896"
      }
     },
     "1a5fcf2176a7496182cc3ebb4c7d2af7": {
      "model_module": "@jupyter-widgets/controls",
      "model_module_version": "1.4.0",
      "model_name": "ButtonStyleModel",
      "state": {}
     },
     "1a85d58e7a544d92b1b9f549c560f48b": {
      "model_module": "@jupyter-widgets/base",
      "model_module_version": "1.1.0",
      "model_name": "LayoutModel",
      "state": {}
     },
     "1a890a6bc21e4e01ae8d3bf0c5e8d510": {
      "model_module": "@jupyter-widgets/controls",
      "model_module_version": "1.4.0",
      "model_name": "SelectMultipleModel",
      "state": {
       "_options_labels": [
        "VI produced, good quality",
        "VI produced, but check other QA",
        "Pixel produced, but most probably cloudy",
        "Pixel not produced due to other reasons than clouds"
       ],
       "description": "Description",
       "index": [
        0
       ],
       "layout": "IPY_MODEL_86acf9271098444ea9fd0feb2da696e0",
       "rows": 4,
       "style": "IPY_MODEL_f756bd161d774cd9aed2a8ca34142bc8"
      }
     },
     "1ab72810c1b54f4da94531d20497190b": {
      "model_module": "@jupyter-widgets/controls",
      "model_module_version": "1.4.0",
      "model_name": "DescriptionStyleModel",
      "state": {
       "description_width": "initial"
      }
     },
     "1ada5af6993e484b833110c65d7406e3": {
      "model_module": "@jupyter-widgets/controls",
      "model_module_version": "1.4.0",
      "model_name": "ButtonStyleModel",
      "state": {}
     },
     "1ae6bf9034724031819f24eb5b721e26": {
      "model_module": "@jupyter-widgets/base",
      "model_module_version": "1.1.0",
      "model_name": "LayoutModel",
      "state": {}
     },
     "1b283f67bb3e435bb486833439f4e15d": {
      "model_module": "@jupyter-widgets/controls",
      "model_module_version": "1.4.0",
      "model_name": "ButtonModel",
      "state": {
       "description": "Select ALL",
       "layout": "IPY_MODEL_55241db938be408cb3af63a4c0b3f1da",
       "style": "IPY_MODEL_bb237c7cc4714b11a4fe00a424278f1a"
      }
     },
     "1b54900f14004f408712dca575e441c4": {
      "model_module": "@jupyter-widgets/controls",
      "model_module_version": "1.4.0",
      "model_name": "ButtonStyleModel",
      "state": {}
     },
     "1b7fc13927f04404bbdd4805e4f28b7e": {
      "model_module": "@jupyter-widgets/base",
      "model_module_version": "1.1.0",
      "model_name": "LayoutModel",
      "state": {}
     },
     "1b8acd06078a442bb5879cee12828968": {
      "model_module": "@jupyter-widgets/controls",
      "model_module_version": "1.4.0",
      "model_name": "HBoxModel",
      "state": {
       "children": [
        "IPY_MODEL_e4c4a3c9872749b0959ad08734ed11d8",
        "IPY_MODEL_fa2a637bf8594122b3a1b808b7cdd11f"
       ],
       "layout": "IPY_MODEL_63fe4385663346bba7a6f10035f53760"
      }
     },
     "1b8dbc569ff84478881fa431c104181e": {
      "model_module": "@jupyter-widgets/base",
      "model_module_version": "1.1.0",
      "model_name": "LayoutModel",
      "state": {
       "width": "20%"
      }
     },
     "1c1cfdc572a54d52a1a5be61b02bcc6f": {
      "model_module": "@jupyter-widgets/controls",
      "model_module_version": "1.4.0",
      "model_name": "ButtonModel",
      "state": {
       "description": "Default selection",
       "layout": "IPY_MODEL_ee7ae93b36e148328f3393ba157074bb",
       "style": "IPY_MODEL_e2d6249afae645c3bfd37f64c299ef81"
      }
     },
     "1c3ff150ae174d8cb4add0b19704de99": {
      "model_module": "@jupyter-widgets/controls",
      "model_module_version": "1.4.0",
      "model_name": "HTMLModel",
      "state": {
       "description": "QA layer:",
       "layout": "IPY_MODEL_b866cc744e8542f5a2cb65a69eb4a556",
       "style": "IPY_MODEL_82c9b80f394d48a3b0e67adfec86639c",
       "value": "<b>_1_km_16_days_VI_Quality</b>"
      }
     },
     "1c69aefdb3d148e4bbf6ae0bc29ae2ff": {
      "model_module": "@jupyter-widgets/controls",
      "model_module_version": "1.4.0",
      "model_name": "DescriptionStyleModel",
      "state": {
       "description_width": ""
      }
     },
     "1c7c0c01c49a4c67987327ff95bb4856": {
      "model_module": "@jupyter-widgets/controls",
      "model_module_version": "1.4.0",
      "model_name": "VBoxModel",
      "state": {
       "children": [
        "IPY_MODEL_763945f19e8f4bfeaa80636411ff7302"
       ],
       "layout": "IPY_MODEL_7f4ca7631df243e4acd3b247659ccfc6"
      }
     },
     "1c8c0498cc7149d7b9600e87d2e84fa2": {
      "model_module": "@jupyter-widgets/base",
      "model_module_version": "1.1.0",
      "model_name": "LayoutModel",
      "state": {
       "width": "20%"
      }
     },
     "1cf241f00d74428c9ff362b5b910e757": {
      "model_module": "@jupyter-widgets/base",
      "model_module_version": "1.1.0",
      "model_name": "LayoutModel",
      "state": {
       "width": "50%"
      }
     },
     "1d64871329bd4a1381d201899d7f4f16": {
      "model_module": "@jupyter-widgets/controls",
      "model_module_version": "1.4.0",
      "model_name": "HTMLModel",
      "state": {
       "description": "QA layer:",
       "layout": "IPY_MODEL_2028c398e4fb4a159e8098000da6c6ae",
       "style": "IPY_MODEL_54c2f70c01d64fb69813df8c2fa446dd",
       "value": "<b>_1_km_16_days_VI_Quality</b>"
      }
     },
     "1d795a102ae94aeaad891d01b85a7c50": {
      "model_module": "@jupyter-widgets/controls",
      "model_module_version": "1.4.0",
      "model_name": "DescriptionStyleModel",
      "state": {
       "description_width": ""
      }
     },
     "1dabc728b6134ed689dce9734f368e56": {
      "model_module": "@jupyter-widgets/controls",
      "model_module_version": "1.4.0",
      "model_name": "ButtonStyleModel",
      "state": {}
     },
     "1ddabc68fd754b798d56012756d8a7ce": {
      "model_module": "@jupyter-widgets/base",
      "model_module_version": "1.1.0",
      "model_name": "LayoutModel",
      "state": {}
     },
     "1e36e758d3e74e08940f3c291d7764ea": {
      "model_module": "@jupyter-widgets/controls",
      "model_module_version": "1.4.0",
      "model_name": "ButtonStyleModel",
      "state": {}
     },
     "1e3a4d9b79b44b2792709a9414361554": {
      "model_module": "@jupyter-widgets/controls",
      "model_module_version": "1.4.0",
      "model_name": "SelectModel",
      "state": {
       "_options_labels": [
        "MODLAND",
        "VI Usefulness",
        "Aerosol Quantity",
        "Adjacent cloud detected",
        "Atmosphere BRDF Correction",
        "Mixed Clouds",
        "Land/Water Mask",
        "Possible snow/ice",
        "Possible shadow"
       ],
       "description": "QA Parameter name:",
       "index": 0,
       "layout": "IPY_MODEL_8f3239b606624f29815035ede0c161f4",
       "rows": 9,
       "style": "IPY_MODEL_626381dc39eb4bc280433a3c68f7d2e6"
      }
     },
     "1e565c97be9c4a858f578b6702dcf97f": {
      "model_module": "@jupyter-widgets/controls",
      "model_module_version": "1.4.0",
      "model_name": "VBoxModel",
      "state": {
       "children": [
        "IPY_MODEL_1455f5f5ad8f48ec81a513bd44a861d7"
       ],
       "layout": "IPY_MODEL_0803d1479974468fbc032f0f12ddaf0f"
      }
     },
     "1e5e2a6bda804c848055fed26c8fc423": {
      "model_module": "@jupyter-widgets/base",
      "model_module_version": "1.1.0",
      "model_name": "LayoutModel",
      "state": {}
     },
     "1e8cff59b5204b6a93a14bf6384e70e4": {
      "model_module": "@jupyter-widgets/controls",
      "model_module_version": "1.4.0",
      "model_name": "ProgressStyleModel",
      "state": {
       "description_width": "initial"
      }
     },
     "1ea68c1f34ec4f568971b528c1288e9d": {
      "model_module": "@jupyter-widgets/controls",
      "model_module_version": "1.4.0",
      "model_name": "SelectMultipleModel",
      "state": {
       "_options_labels": [
        "VI produced, good quality",
        "VI produced, but check other QA",
        "Pixel produced, but most probably cloudy",
        "Pixel not produced due to other reasons than clouds"
       ],
       "description": "Description",
       "index": [
        0
       ],
       "layout": "IPY_MODEL_bed16365a8024e9f8542eb1d3fc19f3c",
       "rows": 4,
       "style": "IPY_MODEL_f5ed86dc5a834e85b8e28552f145a067"
      }
     },
     "1eaad0d0ade14976994c4f10d4cd9a83": {
      "model_module": "@jupyter-widgets/controls",
      "model_module_version": "1.4.0",
      "model_name": "ProgressStyleModel",
      "state": {
       "description_width": "initial"
      }
     },
     "1eb720346ad6446ab53748dd8dada53a": {
      "model_module": "@jupyter-widgets/controls",
      "model_module_version": "1.4.0",
      "model_name": "HTMLModel",
      "state": {
       "description": "QA layer:",
       "layout": "IPY_MODEL_81b827b100b54be2bd170f67c97ed768",
       "style": "IPY_MODEL_c734e6d873c149b48fbc5eca103ca356",
       "value": "<b>_1_km_16_days_VI_Quality</b>"
      }
     },
     "1f1c0f5ef49f4ec288bf05812aae3643": {
      "model_module": "@jupyter-widgets/controls",
      "model_module_version": "1.4.0",
      "model_name": "DescriptionStyleModel",
      "state": {
       "description_width": "initial"
      }
     },
     "1f3a8fcc0a214771bef5f425a1604201": {
      "model_module": "@jupyter-widgets/controls",
      "model_module_version": "1.4.0",
      "model_name": "ButtonModel",
      "state": {
       "description": "Default selection",
       "layout": "IPY_MODEL_08225e7b8e744f4bb47a7c8435a149de",
       "style": "IPY_MODEL_f18f808d6f7146698d9dd74a65cb8713"
      }
     },
     "1f660fbaebfd44ecbf2cc1486c58056f": {
      "model_module": "@jupyter-widgets/controls",
      "model_module_version": "1.4.0",
      "model_name": "VBoxModel",
      "state": {
       "children": [
        "IPY_MODEL_2db0146b5a284a0dad93c39f2e54d8fb"
       ],
       "layout": "IPY_MODEL_470d9f058df84a1daa94c38ec716d962"
      }
     },
     "1f73854a354e441f92bbe2691f8f30b4": {
      "model_module": "@jupyter-widgets/base",
      "model_module_version": "1.1.0",
      "model_name": "LayoutModel",
      "state": {
       "width": "400px"
      }
     },
     "1f765ab97a55415899415d72936dc98a": {
      "model_module": "@jupyter-widgets/controls",
      "model_module_version": "1.4.0",
      "model_name": "ButtonModel",
      "state": {
       "description": "QA analytics",
       "layout": "IPY_MODEL_667c600504814b269435372c40c43332",
       "style": "IPY_MODEL_4bec6398b9c14549a59b720fc0d5ade5"
      }
     },
     "1f7684738bf347458fa06ee6018f79c5": {
      "model_module": "@jupyter-widgets/controls",
      "model_module_version": "1.4.0",
      "model_name": "SelectMultipleModel",
      "state": {
       "_options_labels": [
        "VI produced, good quality",
        "VI produced, but check other QA",
        "Pixel produced, but most probably cloudy",
        "Pixel not produced due to other reasons than clouds"
       ],
       "description": "Description",
       "index": [
        0
       ],
       "layout": "IPY_MODEL_6f4354cb40524901b40f70d26f6f2c75",
       "rows": 4,
       "style": "IPY_MODEL_27fa614808fb4cf0a7323d2aea744681"
      }
     },
     "1f9160e0f2184a09aeb42fe1190ebfd3": {
      "model_module": "@jupyter-widgets/controls",
      "model_module_version": "1.4.0",
      "model_name": "VBoxModel",
      "state": {
       "children": [
        "IPY_MODEL_ef3b9c96dd6441f9bf5100255edef921"
       ],
       "layout": "IPY_MODEL_82cacee4a3944312a597faff1300ba88"
      }
     },
     "1fa09f9222ad40ed9816f93194a568cb": {
      "model_module": "@jupyter-widgets/base",
      "model_module_version": "1.1.0",
      "model_name": "LayoutModel",
      "state": {}
     },
     "1fcc3a665eea4f208dd0962bcf1a98c6": {
      "model_module": "@jupyter-widgets/base",
      "model_module_version": "1.1.0",
      "model_name": "LayoutModel",
      "state": {
       "width": "30%"
      }
     },
     "1fdceeb6d61d4c21b8e51a24edfe0f78": {
      "model_module": "@jupyter-widgets/controls",
      "model_module_version": "1.4.0",
      "model_name": "ButtonModel",
      "state": {
       "description": "Create mask",
       "layout": "IPY_MODEL_42c574036d984e16b4940d365ed33c8e",
       "style": "IPY_MODEL_5a95a5c50a684f33883f1b46bd962172"
      }
     },
     "20165f298ef0477d845e098ba3efcf64": {
      "model_module": "@jupyter-widgets/controls",
      "model_module_version": "1.4.0",
      "model_name": "SelectModel",
      "state": {
       "_options_labels": [
        "MODLAND",
        "VI Usefulness",
        "Aerosol Quantity",
        "Adjacent cloud detected",
        "Atmosphere BRDF Correction",
        "Mixed Clouds",
        "Land/Water Mask",
        "Possible snow/ice",
        "Possible shadow"
       ],
       "description": "QA Parameter name:",
       "index": 0,
       "layout": "IPY_MODEL_6672e42daac74193b0a9ad4e0612742f",
       "rows": 9,
       "style": "IPY_MODEL_a64f3ca25aad45028f9fe770ace4be30"
      }
     },
     "2028c398e4fb4a159e8098000da6c6ae": {
      "model_module": "@jupyter-widgets/base",
      "model_module_version": "1.1.0",
      "model_name": "LayoutModel",
      "state": {}
     },
     "203fe867a08946ba8254270d26987f44": {
      "model_module": "@jupyter-widgets/base",
      "model_module_version": "1.1.0",
      "model_name": "LayoutModel",
      "state": {
       "width": "50%"
      }
     },
     "204ad9e64da94f8eb74548b81a423638": {
      "model_module": "@jupyter-widgets/controls",
      "model_module_version": "1.4.0",
      "model_name": "DescriptionStyleModel",
      "state": {
       "description_width": "initial"
      }
     },
     "2073319bd3874bb0a000dc44ba150c7b": {
      "model_module": "@jupyter-widgets/base",
      "model_module_version": "1.1.0",
      "model_name": "LayoutModel",
      "state": {
       "width": "20%"
      }
     },
     "209e9203467a46a6b0453c9c7bc2920b": {
      "model_module": "@jupyter-widgets/controls",
      "model_module_version": "1.4.0",
      "model_name": "ButtonStyleModel",
      "state": {}
     },
     "20ac4f7babf64243a36c6f1071ba7673": {
      "model_module": "@jupyter-widgets/base",
      "model_module_version": "1.1.0",
      "model_name": "LayoutModel",
      "state": {
       "width": "30%"
      }
     },
     "20e79d7039ca453a9e4e2338c274a673": {
      "model_module": "@jupyter-widgets/controls",
      "model_module_version": "1.4.0",
      "model_name": "HTMLModel",
      "state": {
       "description": "QA layer:",
       "layout": "IPY_MODEL_412ee85c2c864108a7b6975c854d5b8d",
       "style": "IPY_MODEL_b98fdd05d5bb4b0c945cae4937986f47",
       "value": "<b>_1_km_16_days_VI_Quality</b>"
      }
     },
     "20fd842c8adb4280b5d974bb26bd643a": {
      "model_module": "@jupyter-widgets/base",
      "model_module_version": "1.1.0",
      "model_name": "LayoutModel",
      "state": {}
     },
     "210a149f055e496b862d667f96a6e7d7": {
      "model_module": "@jupyter-widgets/base",
      "model_module_version": "1.1.0",
      "model_name": "LayoutModel",
      "state": {}
     },
     "21168dd3a71c4a49bc2df901cfb4176e": {
      "model_module": "@jupyter-widgets/controls",
      "model_module_version": "1.4.0",
      "model_name": "SelectMultipleModel",
      "state": {
       "_options_labels": [
        "VI produced, good quality",
        "VI produced, but check other QA",
        "Pixel produced, but most probably cloudy",
        "Pixel not produced due to other reasons than clouds"
       ],
       "description": "Description",
       "index": [
        0
       ],
       "layout": "IPY_MODEL_cfaccfe167a84a61a66d7f27884c380b",
       "rows": 4,
       "style": "IPY_MODEL_7d92ef463979456abdb12b67cd72eaad"
      }
     },
     "211993c2440241d78a3344d3c8f7e137": {
      "model_module": "@jupyter-widgets/controls",
      "model_module_version": "1.4.0",
      "model_name": "HBoxModel",
      "state": {
       "children": [
        "IPY_MODEL_9772246476b5447b866afa4a3abdd167",
        "IPY_MODEL_2bb3ce1b44d647feb34709478beda153"
       ],
       "layout": "IPY_MODEL_a9c867dc1fdd440f9d1b1b7e1adc3c77"
      }
     },
     "214df4efd9154b2f87fd27bca10d928a": {
      "model_module": "@jupyter-widgets/controls",
      "model_module_version": "1.4.0",
      "model_name": "VBoxModel",
      "state": {
       "children": [
        "IPY_MODEL_e6cd23e9ba2c4fb6be08d3368ee20853"
       ],
       "layout": "IPY_MODEL_44439a7ac4b8448585a5e654772f3a28"
      }
     },
     "2155a60d512a430085377e3726a7c69b": {
      "model_module": "@jupyter-widgets/controls",
      "model_module_version": "1.4.0",
      "model_name": "SelectMultipleModel",
      "state": {
       "_options_labels": [
        "VI produced, good quality",
        "VI produced, but check other QA",
        "Pixel produced, but most probably cloudy",
        "Pixel not produced due to other reasons than clouds"
       ],
       "description": "Description",
       "index": [
        0
       ],
       "layout": "IPY_MODEL_4ee2cca749ef4b4b8c8fd4f946c91cd1",
       "rows": 4,
       "style": "IPY_MODEL_46b3f5afb70d427e975bc5e41db04fa8"
      }
     },
     "216e24d6deb2434a952896293e5e0b0c": {
      "model_module": "@jupyter-widgets/controls",
      "model_module_version": "1.4.0",
      "model_name": "SelectMultipleModel",
      "state": {
       "_options_labels": [
        "VI produced, good quality",
        "VI produced, but check other QA",
        "Pixel produced, but most probably cloudy",
        "Pixel not produced due to other reasons than clouds"
       ],
       "description": "Description",
       "index": [
        0
       ],
       "layout": "IPY_MODEL_e74a089bb90543a990e964dd0af92db3",
       "rows": 4,
       "style": "IPY_MODEL_ad3730c6be4b47be8535ce2c65aa74a5"
      }
     },
     "217132024abd40cd9621fbffae20bcbc": {
      "model_module": "@jupyter-widgets/base",
      "model_module_version": "1.1.0",
      "model_name": "LayoutModel",
      "state": {
       "width": "20%"
      }
     },
     "217b8e4d42084ab68f43b0a537e7bdcc": {
      "model_module": "@jupyter-widgets/base",
      "model_module_version": "1.1.0",
      "model_name": "LayoutModel",
      "state": {
       "width": "50%"
      }
     },
     "21827b1c753c4d6c8bf93bf28d9d54d5": {
      "model_module": "@jupyter-widgets/controls",
      "model_module_version": "1.4.0",
      "model_name": "DescriptionStyleModel",
      "state": {
       "description_width": ""
      }
     },
     "21b123bc10454efda4f1638cfe53cc39": {
      "model_module": "@jupyter-widgets/base",
      "model_module_version": "1.1.0",
      "model_name": "LayoutModel",
      "state": {
       "width": "20%"
      }
     },
     "21f8c17101ab492c8da53a3ff5269194": {
      "model_module": "@jupyter-widgets/controls",
      "model_module_version": "1.4.0",
      "model_name": "ButtonStyleModel",
      "state": {}
     },
     "2202afdaa02c48ac9ec0f355d66a0afa": {
      "model_module": "@jupyter-widgets/controls",
      "model_module_version": "1.4.0",
      "model_name": "VBoxModel",
      "state": {
       "children": [
        "IPY_MODEL_9092dcd67e704fc38f71977d4e922de9"
       ],
       "layout": "IPY_MODEL_fca92984db2a4f7db89793712c9a7428"
      }
     },
     "2204d94a445f40fd8e23ac9ee376437d": {
      "model_module": "@jupyter-widgets/controls",
      "model_module_version": "1.4.0",
      "model_name": "DescriptionStyleModel",
      "state": {
       "description_width": ""
      }
     },
     "221573275ec44d648ac7fbf41d748588": {
      "model_module": "@jupyter-widgets/controls",
      "model_module_version": "1.4.0",
      "model_name": "DescriptionStyleModel",
      "state": {
       "description_width": "initial"
      }
     },
     "222d24536c2b4de9b08b437f6e3a8768": {
      "model_module": "@jupyter-widgets/base",
      "model_module_version": "1.1.0",
      "model_name": "LayoutModel",
      "state": {
       "width": "20%"
      }
     },
     "223012d925fb43bdb96dad48992ee40b": {
      "model_module": "@jupyter-widgets/base",
      "model_module_version": "1.1.0",
      "model_name": "LayoutModel",
      "state": {
       "width": "30%"
      }
     },
     "228ceb9dbe0f485fbe4bc2d17ab40e0e": {
      "model_module": "@jupyter-widgets/controls",
      "model_module_version": "1.4.0",
      "model_name": "DescriptionStyleModel",
      "state": {
       "description_width": "initial"
      }
     },
     "228da76ba67d4667a9d3052c9750d891": {
      "model_module": "@jupyter-widgets/controls",
      "model_module_version": "1.4.0",
      "model_name": "HBoxModel",
      "state": {
       "children": [
        "IPY_MODEL_b5abab89dbef4b529b7ea31ba4717e04",
        "IPY_MODEL_e7e45b1e058c4e95912e0d76594fa03c",
        "IPY_MODEL_a3c1cbdcc93a4d13a588a50502e87fdd"
       ],
       "layout": "IPY_MODEL_04c1c77090b94427a69a3183681deed4"
      }
     },
     "22a90c59c656411ba675bbec2708322f": {
      "model_module": "@jupyter-widgets/controls",
      "model_module_version": "1.4.0",
      "model_name": "ButtonStyleModel",
      "state": {}
     },
     "22e13510e0e34cccb0c7122aeffcb989": {
      "model_module": "@jupyter-widgets/controls",
      "model_module_version": "1.4.0",
      "model_name": "HTMLModel",
      "state": {
       "description": "QA layer:",
       "layout": "IPY_MODEL_9f1495f28bfd4144a8e939badbbd1352",
       "style": "IPY_MODEL_58ca972e2d9344509cd6ff4d098664a9",
       "value": "<b>_1_km_16_days_VI_Quality</b>"
      }
     },
     "2309e09855b047a89c533a58bcbc560c": {
      "model_module": "@jupyter-widgets/controls",
      "model_module_version": "1.4.0",
      "model_name": "ProgressStyleModel",
      "state": {
       "description_width": "initial"
      }
     },
     "230e662c65c14751a02fbc0d1d1bbfab": {
      "model_module": "@jupyter-widgets/controls",
      "model_module_version": "1.4.0",
      "model_name": "ButtonModel",
      "state": {
       "description": "Select ALL",
       "layout": "IPY_MODEL_0ec7b17239374d958da8aad790a8f3d0",
       "style": "IPY_MODEL_c2f3b5fa479644f9a1882f7e3f0f5b07"
      }
     },
     "2315ea5e1fd7443fb4b57a40294f6c36": {
      "model_module": "@jupyter-widgets/controls",
      "model_module_version": "1.4.0",
      "model_name": "HBoxModel",
      "state": {
       "children": [
        "IPY_MODEL_957c290faa3d42acb759ee9572af4b3e",
        "IPY_MODEL_45b97ba841ae4b77813d88fede96ca7a"
       ],
       "layout": "IPY_MODEL_658efcf1ce5345789d7a13b731f2a38f"
      }
     },
     "2318ec78e6134c2dafc8c4e0b5ef2cb2": {
      "model_module": "@jupyter-widgets/base",
      "model_module_version": "1.1.0",
      "model_name": "LayoutModel",
      "state": {
       "height": "350px",
       "width": "99%"
      }
     },
     "238938819d6549b48c60cb09167b4447": {
      "model_module": "@jupyter-widgets/base",
      "model_module_version": "1.1.0",
      "model_name": "LayoutModel",
      "state": {
       "width": "400px"
      }
     },
     "2390a3ec2b844b0880264df26fea6bf0": {
      "model_module": "@jupyter-widgets/base",
      "model_module_version": "1.1.0",
      "model_name": "LayoutModel",
      "state": {}
     },
     "2397d79dbc5b4689a62c4f36fb34f522": {
      "model_module": "@jupyter-widgets/base",
      "model_module_version": "1.1.0",
      "model_name": "LayoutModel",
      "state": {
       "width": "20%"
      }
     },
     "239bd33b331a45a998b144ff925cff7e": {
      "model_module": "@jupyter-widgets/base",
      "model_module_version": "1.1.0",
      "model_name": "LayoutModel",
      "state": {
       "width": "20%"
      }
     },
     "23b9e9b274bb4983a54f4c03c295f58d": {
      "model_module": "@jupyter-widgets/controls",
      "model_module_version": "1.4.0",
      "model_name": "ButtonModel",
      "state": {
       "description": "Select ALL",
       "layout": "IPY_MODEL_0895a4464aa647ed8bcd168c2b082afc",
       "style": "IPY_MODEL_4b1135e2471844748152c415d1bb47d1"
      }
     },
     "2402ed7a8a6c45ffb630baf06b0afbf6": {
      "model_module": "@jupyter-widgets/base",
      "model_module_version": "1.1.0",
      "model_name": "LayoutModel",
      "state": {
       "width": "400px"
      }
     },
     "240567731c34423db95656da655e14ce": {
      "model_module": "@jupyter-widgets/controls",
      "model_module_version": "1.4.0",
      "model_name": "HBoxModel",
      "state": {
       "children": [
        "IPY_MODEL_61e95be702954133a783b4bde84d3ad6",
        "IPY_MODEL_62b0ad0856fe4ddca0ba6a3e140e86ce"
       ],
       "layout": "IPY_MODEL_88fd52833675491399e34475a72c2103"
      }
     },
     "243f9cfbb4884b87871b2deb6d47e765": {
      "model_module": "@jupyter-widgets/controls",
      "model_module_version": "1.4.0",
      "model_name": "VBoxModel",
      "state": {
       "children": [
        "IPY_MODEL_b4abd675f1ac430bbb8115b12040e508"
       ],
       "layout": "IPY_MODEL_c1077fc28e1e4d87bfabb07a3ececa40"
      }
     },
     "24573989349a4a88bef1aa29ad73d3b8": {
      "model_module": "@jupyter-widgets/controls",
      "model_module_version": "1.4.0",
      "model_name": "HBoxModel",
      "state": {
       "children": [
        "IPY_MODEL_acf79ecc0d194cccadabb8039ccfe7b2",
        "IPY_MODEL_e32843efc1d749bfb9e33d91ab4465df"
       ],
       "layout": "IPY_MODEL_0fe1c182ae7546668b3d481ba149ff7e"
      }
     },
     "2461d477850e4d1fabd6be43bdee873f": {
      "model_module": "@jupyter-widgets/base",
      "model_module_version": "1.1.0",
      "model_name": "LayoutModel",
      "state": {}
     },
     "248c9676964f49a4a7adcfb97df1d8b2": {
      "model_module": "@jupyter-widgets/controls",
      "model_module_version": "1.4.0",
      "model_name": "HBoxModel",
      "state": {
       "children": [
        "IPY_MODEL_1b283f67bb3e435bb486833439f4e15d",
        "IPY_MODEL_c6e474b257504120801bf5cf47c25673",
        "IPY_MODEL_64a740b9436f44aaa0cfc998be5bbacf"
       ],
       "layout": "IPY_MODEL_920ba9f7922142f3aca9c323e0825cc8"
      }
     },
     "249b0a489e7641d29fefa57c779e57d4": {
      "model_module": "@jupyter-widgets/base",
      "model_module_version": "1.1.0",
      "model_name": "LayoutModel",
      "state": {}
     },
     "24a0079b86c44579bb0b72d47e9aa9e1": {
      "model_module": "@jupyter-widgets/base",
      "model_module_version": "1.1.0",
      "model_name": "LayoutModel",
      "state": {
       "width": "20%"
      }
     },
     "24b8343f3aaf421d82bd41de58ccf06d": {
      "model_module": "@jupyter-widgets/base",
      "model_module_version": "1.1.0",
      "model_name": "LayoutModel",
      "state": {
       "width": "20%"
      }
     },
     "24fd6c9dd6c9434ea7244642035ea6e6": {
      "model_module": "@jupyter-widgets/base",
      "model_module_version": "1.1.0",
      "model_name": "LayoutModel",
      "state": {
       "width": "400px"
      }
     },
     "25066a0254274b978b78d676b1e6f0ff": {
      "model_module": "@jupyter-widgets/base",
      "model_module_version": "1.1.0",
      "model_name": "LayoutModel",
      "state": {
       "width": "50%"
      }
     },
     "2554c7ecebe34df9b09c3c5ef23d5504": {
      "model_module": "@jupyter-widgets/controls",
      "model_module_version": "1.4.0",
      "model_name": "ProgressStyleModel",
      "state": {
       "description_width": "initial"
      }
     },
     "2572bfd03a524f67a39f0af9549804c0": {
      "model_module": "@jupyter-widgets/controls",
      "model_module_version": "1.4.0",
      "model_name": "ButtonModel",
      "state": {
       "description": "Select ALL",
       "layout": "IPY_MODEL_5dd04bab801641ab99ee5d1aed119628",
       "style": "IPY_MODEL_bcf2472d805b40479621d2bebb8c97d5"
      }
     },
     "259f52eb93d04c00b084f5039e6e2de0": {
      "model_module": "@jupyter-widgets/base",
      "model_module_version": "1.1.0",
      "model_name": "LayoutModel",
      "state": {
       "width": "50%"
      }
     },
     "25bad9bdf5274c2ebd8a349fe1c8ba0c": {
      "model_module": "@jupyter-widgets/controls",
      "model_module_version": "1.4.0",
      "model_name": "SelectMultipleModel",
      "state": {
       "_options_labels": [
        "VI produced, good quality",
        "VI produced, but check other QA",
        "Pixel produced, but most probably cloudy",
        "Pixel not produced due to other reasons than clouds"
       ],
       "description": "Description",
       "index": [
        0
       ],
       "layout": "IPY_MODEL_ae509636cd934201bea56594dba6b625",
       "rows": 4,
       "style": "IPY_MODEL_2cdbb64c357f458b8cf2cadb39166c8b"
      }
     },
     "264112a1921c4cb4a91516a009535fad": {
      "model_module": "@jupyter-widgets/controls",
      "model_module_version": "1.4.0",
      "model_name": "SelectModel",
      "state": {
       "_options_labels": [
        "MODLAND",
        "VI Usefulness",
        "Aerosol Quantity",
        "Adjacent cloud detected",
        "Atmosphere BRDF Correction",
        "Mixed Clouds",
        "Land/Water Mask",
        "Possible snow/ice",
        "Possible shadow"
       ],
       "description": "QA Parameter name:",
       "index": 0,
       "layout": "IPY_MODEL_d401a8fbf26c49759194f70a59890fe4",
       "rows": 9,
       "style": "IPY_MODEL_d14444cc5a6e4d29a435550cc0fef159"
      }
     },
     "266c4a07dec245d698e3656b8a78a9a8": {
      "model_module": "@jupyter-widgets/base",
      "model_module_version": "1.1.0",
      "model_name": "LayoutModel",
      "state": {
       "width": "400px"
      }
     },
     "26d58705abb2428ea90969620b2a14ff": {
      "model_module": "@jupyter-widgets/controls",
      "model_module_version": "1.4.0",
      "model_name": "SelectModel",
      "state": {
       "_options_labels": [
        "MODLAND",
        "VI Usefulness",
        "Aerosol Quantity",
        "Adjacent cloud detected",
        "Atmosphere BRDF Correction",
        "Mixed Clouds",
        "Land/Water Mask",
        "Possible snow/ice",
        "Possible shadow"
       ],
       "description": "QA Parameter name:",
       "index": 8,
       "layout": "IPY_MODEL_9fb7ac70b9e949bda5859962e0518365",
       "rows": 9,
       "style": "IPY_MODEL_389ff2b4ebba446fb91fe16f2c42e716"
      }
     },
     "270e387467d64ff4b87bbbc9c60951a7": {
      "model_module": "@jupyter-widgets/base",
      "model_module_version": "1.1.0",
      "model_name": "LayoutModel",
      "state": {}
     },
     "274d52bb670345e38529fecf2138691d": {
      "model_module": "@jupyter-widgets/controls",
      "model_module_version": "1.4.0",
      "model_name": "DescriptionStyleModel",
      "state": {
       "description_width": ""
      }
     },
     "274fa190e5b847059e8265b409031bf2": {
      "model_module": "@jupyter-widgets/controls",
      "model_module_version": "1.4.0",
      "model_name": "DescriptionStyleModel",
      "state": {
       "description_width": ""
      }
     },
     "27aba4500c2a4896b0d8257fe9243269": {
      "model_module": "@jupyter-widgets/controls",
      "model_module_version": "1.4.0",
      "model_name": "DescriptionStyleModel",
      "state": {
       "description_width": "initial"
      }
     },
     "27c2c7c675cc4858a184a4cc4b70e0a4": {
      "model_module": "@jupyter-widgets/base",
      "model_module_version": "1.1.0",
      "model_name": "LayoutModel",
      "state": {
       "width": "20%"
      }
     },
     "27cf21b124fd40c3988f837b27c70557": {
      "model_module": "@jupyter-widgets/base",
      "model_module_version": "1.1.0",
      "model_name": "LayoutModel",
      "state": {
       "width": "400px"
      }
     },
     "27dd7585e8bc427a86ead79324609d5a": {
      "model_module": "@jupyter-widgets/controls",
      "model_module_version": "1.4.0",
      "model_name": "DescriptionStyleModel",
      "state": {
       "description_width": "initial"
      }
     },
     "27fa614808fb4cf0a7323d2aea744681": {
      "model_module": "@jupyter-widgets/controls",
      "model_module_version": "1.4.0",
      "model_name": "DescriptionStyleModel",
      "state": {
       "description_width": "initial"
      }
     },
     "28222368c77540849f9a0ac991025fc7": {
      "model_module": "@jupyter-widgets/base",
      "model_module_version": "1.1.0",
      "model_name": "LayoutModel",
      "state": {
       "width": "400px"
      }
     },
     "2834ac86181145cab7982e96ec8a5bf5": {
      "model_module": "@jupyter-widgets/controls",
      "model_module_version": "1.4.0",
      "model_name": "VBoxModel",
      "state": {
       "children": [
        "IPY_MODEL_533710720958450f9f06970d32d8b522"
       ],
       "layout": "IPY_MODEL_60ed67b3afd84a88a024fb90bb3d15d8"
      }
     },
     "28472946049a4892b887400bdff41433": {
      "model_module": "@jupyter-widgets/base",
      "model_module_version": "1.1.0",
      "model_name": "LayoutModel",
      "state": {}
     },
     "28527b93eceb4cf2b343126440d4be0a": {
      "model_module": "@jupyter-widgets/controls",
      "model_module_version": "1.4.0",
      "model_name": "ButtonStyleModel",
      "state": {}
     },
     "28bf80f859424696a83d0d48ebab201e": {
      "model_module": "@jupyter-widgets/controls",
      "model_module_version": "1.4.0",
      "model_name": "ButtonModel",
      "state": {
       "description": "QA analytics",
       "layout": "IPY_MODEL_3e4be94961704d5c98a5bd5c4bcc520a",
       "style": "IPY_MODEL_5e6fcfd840174106a12abb62897c52b2"
      }
     },
     "2903db63948d404d961d236b79eafd5f": {
      "model_module": "@jupyter-widgets/controls",
      "model_module_version": "1.4.0",
      "model_name": "ButtonStyleModel",
      "state": {}
     },
     "295a6c50dbb141a287fc6f1390e4bc04": {
      "model_module": "@jupyter-widgets/base",
      "model_module_version": "1.1.0",
      "model_name": "LayoutModel",
      "state": {
       "width": "20%"
      }
     },
     "29952583964b48e49209bbd948ae891e": {
      "model_module": "@jupyter-widgets/controls",
      "model_module_version": "1.4.0",
      "model_name": "HBoxModel",
      "state": {
       "children": [
        "IPY_MODEL_de6c210076fc4243b7049c4e328f9a71",
        "IPY_MODEL_49f4ac03e54d4a5787b2259f0364020e"
       ],
       "layout": "IPY_MODEL_ae29bb78e12044ae825d516ba95597cb"
      }
     },
     "29b518c557b245e7a8cd9a7928845b4c": {
      "model_module": "@jupyter-widgets/base",
      "model_module_version": "1.1.0",
      "model_name": "LayoutModel",
      "state": {
       "width": "400px"
      }
     },
     "29b997cd7a0a4f15b8b8806b90fa7eca": {
      "model_module": "@jupyter-widgets/controls",
      "model_module_version": "1.4.0",
      "model_name": "ButtonModel",
      "state": {
       "description": "Create mask",
       "layout": "IPY_MODEL_1c8c0498cc7149d7b9600e87d2e84fa2",
       "style": "IPY_MODEL_4eb68b496f1142a580f4dd0a53b6e184"
      }
     },
     "29e12c2d860d4bdaa0c7d048ed917825": {
      "model_module": "@jupyter-widgets/controls",
      "model_module_version": "1.4.0",
      "model_name": "HBoxModel",
      "state": {
       "children": [
        "IPY_MODEL_08681ec616594ab5b7c886705b482e4c",
        "IPY_MODEL_7918498bd3584f9391995c9b5df740e8",
        "IPY_MODEL_925c45d052e94c5ea2c3aa6e222e0e73"
       ],
       "layout": "IPY_MODEL_94a1dcec3ec34142b91a606a87bfe28a"
      }
     },
     "29f76712931c4302a61be18be160a238": {
      "model_module": "@jupyter-widgets/base",
      "model_module_version": "1.1.0",
      "model_name": "LayoutModel",
      "state": {}
     },
     "29fcf80829ca4754bef8db6f75067eda": {
      "model_module": "@jupyter-widgets/controls",
      "model_module_version": "1.4.0",
      "model_name": "ButtonModel",
      "state": {
       "description": "Select ALL",
       "layout": "IPY_MODEL_6583165a108b4220b9ca1ba2718bcde9",
       "style": "IPY_MODEL_2c95a0973e954d2fafa2cb9af69442b8"
      }
     },
     "2a0ffeb939ca40f2997e7d8d9023c6bb": {
      "model_module": "@jupyter-widgets/controls",
      "model_module_version": "1.4.0",
      "model_name": "VBoxModel",
      "state": {
       "children": [
        "IPY_MODEL_4daf4afcab8946609bcf6f161619d363"
       ],
       "layout": "IPY_MODEL_2461d477850e4d1fabd6be43bdee873f"
      }
     },
     "2a220d8bcbc04eaaa506020f594cd136": {
      "model_module": "@jupyter-widgets/controls",
      "model_module_version": "1.4.0",
      "model_name": "ButtonStyleModel",
      "state": {}
     },
     "2a4a5d52e1eb4a0abbe1d7d94e458ab5": {
      "model_module": "@jupyter-widgets/base",
      "model_module_version": "1.1.0",
      "model_name": "LayoutModel",
      "state": {}
     },
     "2a71b3ca41584cfdbdbdcbf72dd7f48f": {
      "model_module": "@jupyter-widgets/controls",
      "model_module_version": "1.4.0",
      "model_name": "ButtonStyleModel",
      "state": {}
     },
     "2a81d16840c341b6983a14f9cc07b136": {
      "model_module": "@jupyter-widgets/controls",
      "model_module_version": "1.4.0",
      "model_name": "HTMLModel",
      "state": {
       "description": "QA layer:",
       "layout": "IPY_MODEL_c53f2de9fd4d4ce3b5a32b4d9bf69e1a",
       "style": "IPY_MODEL_fba4426550a54ccdab33d8110f1d0f34",
       "value": "<b>_1_km_16_days_VI_Quality</b>"
      }
     },
     "2abbf3d69d7846fabbf6c4f1d2e6c6c9": {
      "model_module": "@jupyter-widgets/base",
      "model_module_version": "1.1.0",
      "model_name": "LayoutModel",
      "state": {
       "width": "400px"
      }
     },
     "2abe893524f24559aacab9c690b7994a": {
      "model_module": "@jupyter-widgets/base",
      "model_module_version": "1.1.0",
      "model_name": "LayoutModel",
      "state": {}
     },
     "2b17cc7c13884f0292bb2532b0eae484": {
      "model_module": "@jupyter-widgets/base",
      "model_module_version": "1.1.0",
      "model_name": "LayoutModel",
      "state": {
       "width": "400px"
      }
     },
     "2b286b9eff0b486593590c2f8fa05e79": {
      "model_module": "@jupyter-widgets/controls",
      "model_module_version": "1.4.0",
      "model_name": "VBoxModel",
      "state": {
       "children": [
        "IPY_MODEL_1a890a6bc21e4e01ae8d3bf0c5e8d510"
       ],
       "layout": "IPY_MODEL_2abe893524f24559aacab9c690b7994a"
      }
     },
     "2b34fe26dbd64f98ac45cd34778c7876": {
      "model_module": "@jupyter-widgets/base",
      "model_module_version": "1.1.0",
      "model_name": "LayoutModel",
      "state": {}
     },
     "2b3e8d4971c042219c52a80ac84c83a6": {
      "model_module": "@jupyter-widgets/controls",
      "model_module_version": "1.4.0",
      "model_name": "DescriptionStyleModel",
      "state": {
       "description_width": "initial"
      }
     },
     "2b80b8efdcd14e75979bdf1712bfa52a": {
      "model_module": "@jupyter-widgets/base",
      "model_module_version": "1.1.0",
      "model_name": "LayoutModel",
      "state": {
       "width": "20%"
      }
     },
     "2b99ea60a2eb47d3b3bf0361bf21731a": {
      "model_module": "@jupyter-widgets/base",
      "model_module_version": "1.1.0",
      "model_name": "LayoutModel",
      "state": {
       "width": "400px"
      }
     },
     "2b9c21ce1d274cd995eb2f48b54a21d7": {
      "model_module": "@jupyter-widgets/base",
      "model_module_version": "1.1.0",
      "model_name": "LayoutModel",
      "state": {}
     },
     "2bb3ce1b44d647feb34709478beda153": {
      "model_module": "@jupyter-widgets/controls",
      "model_module_version": "1.4.0",
      "model_name": "VBoxModel",
      "state": {
       "children": [
        "IPY_MODEL_25bad9bdf5274c2ebd8a349fe1c8ba0c"
       ],
       "layout": "IPY_MODEL_871ea2aafa8549eb8c49a5075c024373"
      }
     },
     "2bc4b9792f5048f19ec2c8fc3cefc2cf": {
      "model_module": "@jupyter-widgets/base",
      "model_module_version": "1.1.0",
      "model_name": "LayoutModel",
      "state": {
       "width": "400px"
      }
     },
     "2bd1f74660874bb1b00483bbb55f3b0b": {
      "model_module": "@jupyter-widgets/base",
      "model_module_version": "1.1.0",
      "model_name": "LayoutModel",
      "state": {}
     },
     "2bf0a7ee93014f08836cb3780afb6e98": {
      "model_module": "@jupyter-widgets/controls",
      "model_module_version": "1.4.0",
      "model_name": "DescriptionStyleModel",
      "state": {
       "description_width": ""
      }
     },
     "2c376ff915e940f1908da7b7efd36b61": {
      "model_module": "@jupyter-widgets/base",
      "model_module_version": "1.1.0",
      "model_name": "LayoutModel",
      "state": {
       "width": "20%"
      }
     },
     "2c4e274ef0654d5dbfe671549c94cbea": {
      "model_module": "@jupyter-widgets/base",
      "model_module_version": "1.1.0",
      "model_name": "LayoutModel",
      "state": {}
     },
     "2c66ba0adb034a08b33ca35b6ee5a142": {
      "model_module": "@jupyter-widgets/controls",
      "model_module_version": "1.4.0",
      "model_name": "ButtonModel",
      "state": {
       "description": "Default selection",
       "layout": "IPY_MODEL_80b17b7a58b64bf785335225e22967b4",
       "style": "IPY_MODEL_556556c154074e1c9f14b373b8c7b8c4"
      }
     },
     "2c6c800aa6e144b7bee27b9e597a5d34": {
      "model_module": "@jupyter-widgets/controls",
      "model_module_version": "1.4.0",
      "model_name": "ProgressStyleModel",
      "state": {
       "description_width": "initial"
      }
     },
     "2c95a0973e954d2fafa2cb9af69442b8": {
      "model_module": "@jupyter-widgets/controls",
      "model_module_version": "1.4.0",
      "model_name": "ButtonStyleModel",
      "state": {}
     },
     "2ca84de7e3d145f1838bf3ef11d2ec6d": {
      "model_module": "@jupyter-widgets/base",
      "model_module_version": "1.1.0",
      "model_name": "LayoutModel",
      "state": {
       "width": "400px"
      }
     },
     "2cac40d73da14cc4b7d8a43bd76f0cfe": {
      "model_module": "@jupyter-widgets/controls",
      "model_module_version": "1.4.0",
      "model_name": "SelectMultipleModel",
      "state": {
       "_options_labels": [
        "VI produced, good quality",
        "VI produced, but check other QA",
        "Pixel produced, but most probably cloudy",
        "Pixel not produced due to other reasons than clouds"
       ],
       "description": "Description",
       "index": [
        0
       ],
       "layout": "IPY_MODEL_464b12aae835474faa1cd4c27b064e62",
       "rows": 4,
       "style": "IPY_MODEL_65e2abd0d07a434d82146a415ea41a71"
      }
     },
     "2cba1d10c2d94b7abeb0391d7273124a": {
      "model_module": "@jupyter-widgets/base",
      "model_module_version": "1.1.0",
      "model_name": "LayoutModel",
      "state": {}
     },
     "2cbf54e0e3e5401ca843d1919eb97d83": {
      "model_module": "@jupyter-widgets/base",
      "model_module_version": "1.1.0",
      "model_name": "LayoutModel",
      "state": {
       "width": "400px"
      }
     },
     "2cdbb64c357f458b8cf2cadb39166c8b": {
      "model_module": "@jupyter-widgets/controls",
      "model_module_version": "1.4.0",
      "model_name": "DescriptionStyleModel",
      "state": {
       "description_width": "initial"
      }
     },
     "2cddd8f3ea8a4973955295bf64754e25": {
      "model_module": "@jupyter-widgets/controls",
      "model_module_version": "1.4.0",
      "model_name": "ButtonStyleModel",
      "state": {}
     },
     "2ce44ceeb5034fc1ba4688bf6979c902": {
      "model_module": "@jupyter-widgets/controls",
      "model_module_version": "1.4.0",
      "model_name": "HTMLModel",
      "state": {
       "description": "QA layer:",
       "layout": "IPY_MODEL_6642f33871aa4d4eb04e8edf8b75bff6",
       "style": "IPY_MODEL_a3fe0091d5514ca791a18081dfe133c7",
       "value": "<b>_1_km_16_days_VI_Quality</b>"
      }
     },
     "2d03a538860744daac70ec3a566574d8": {
      "model_module": "@jupyter-widgets/base",
      "model_module_version": "1.1.0",
      "model_name": "LayoutModel",
      "state": {
       "width": "20%"
      }
     },
     "2d04215c11f94c00a3f55d025b872108": {
      "model_module": "@jupyter-widgets/controls",
      "model_module_version": "1.4.0",
      "model_name": "HTMLModel",
      "state": {
       "description": "QA layer:",
       "layout": "IPY_MODEL_1ddabc68fd754b798d56012756d8a7ce",
       "style": "IPY_MODEL_ca9fa59691104ae19853d213b0de015e",
       "value": "<b>_1_km_16_days_VI_Quality</b>"
      }
     },
     "2d26346c5bc84438872963fcbb3b12c0": {
      "model_module": "@jupyter-widgets/controls",
      "model_module_version": "1.4.0",
      "model_name": "ButtonModel",
      "state": {
       "description": "Select ALL",
       "layout": "IPY_MODEL_c1c1b80c211647f1903cf7f33fa71556",
       "style": "IPY_MODEL_c52a94c0f9a94687bc580a4b7974285d"
      }
     },
     "2d39ca88f1dd4458b536d54083d77912": {
      "model_module": "@jupyter-widgets/base",
      "model_module_version": "1.1.0",
      "model_name": "LayoutModel",
      "state": {
       "height": "350px",
       "width": "99%"
      }
     },
     "2d5fc16dc6d748669955e1f41342b500": {
      "model_module": "@jupyter-widgets/controls",
      "model_module_version": "1.4.0",
      "model_name": "HTMLModel",
      "state": {
       "description": "QA layer:",
       "layout": "IPY_MODEL_49c9c258b2734cb2952ed13cd1a46594",
       "style": "IPY_MODEL_d596834e527d40d29d0d61eb1b27a7a7",
       "value": "<b>_1_km_16_days_VI_Quality</b>"
      }
     },
     "2d705405e176413db6586a5c5094726e": {
      "model_module": "@jupyter-widgets/controls",
      "model_module_version": "1.4.0",
      "model_name": "DescriptionStyleModel",
      "state": {
       "description_width": "initial"
      }
     },
     "2d7d283c7a9a43de9e20047eea12c715": {
      "model_module": "@jupyter-widgets/base",
      "model_module_version": "1.1.0",
      "model_name": "LayoutModel",
      "state": {
       "height": "300px",
       "width": "99%"
      }
     },
     "2da6360d9a674ff2a13be7c561f9b6eb": {
      "model_module": "@jupyter-widgets/base",
      "model_module_version": "1.1.0",
      "model_name": "LayoutModel",
      "state": {}
     },
     "2db0146b5a284a0dad93c39f2e54d8fb": {
      "model_module": "@jupyter-widgets/controls",
      "model_module_version": "1.4.0",
      "model_name": "SelectMultipleModel",
      "state": {
       "_options_labels": [
        "No",
        "Yes"
       ],
       "description": "Description",
       "index": [
        0,
        1
       ],
       "layout": "IPY_MODEL_238938819d6549b48c60cb09167b4447",
       "rows": 2,
       "style": "IPY_MODEL_0a2949cf914644c1a1bce9a3844ed794"
      }
     },
     "2dc03a341cc34a57b150909b33aa950e": {
      "model_module": "@jupyter-widgets/controls",
      "model_module_version": "1.4.0",
      "model_name": "ButtonStyleModel",
      "state": {}
     },
     "2dc3b1b90b774ccc857c3f6baec3d677": {
      "model_module": "@jupyter-widgets/controls",
      "model_module_version": "1.4.0",
      "model_name": "SelectModel",
      "state": {
       "_options_labels": [
        "MODLAND",
        "VI Usefulness",
        "Aerosol Quantity",
        "Adjacent cloud detected",
        "Atmosphere BRDF Correction",
        "Mixed Clouds",
        "Land/Water Mask",
        "Possible snow/ice",
        "Possible shadow"
       ],
       "description": "QA Parameter name:",
       "index": 8,
       "layout": "IPY_MODEL_2abbf3d69d7846fabbf6c4f1d2e6c6c9",
       "rows": 9,
       "style": "IPY_MODEL_a0d8eb47340340f2901f6c5154615b67"
      }
     },
     "2dcf6882506b4d5ebf5e484d686f2272": {
      "model_module": "@jupyter-widgets/controls",
      "model_module_version": "1.4.0",
      "model_name": "SelectMultipleModel",
      "state": {
       "_options_labels": [
        "VI produced, good quality",
        "VI produced, but check other QA",
        "Pixel produced, but most probably cloudy",
        "Pixel not produced due to other reasons than clouds"
       ],
       "description": "Description",
       "index": [
        0
       ],
       "layout": "IPY_MODEL_2402ed7a8a6c45ffb630baf06b0afbf6",
       "rows": 4,
       "style": "IPY_MODEL_42513564edb143feae49a61a107ca53e"
      }
     },
     "2de4330e2c604875b6056e95a286d15f": {
      "model_module": "@jupyter-widgets/controls",
      "model_module_version": "1.4.0",
      "model_name": "ButtonModel",
      "state": {
       "description": "Default selection",
       "layout": "IPY_MODEL_e1fc1647f6644814b341305b0b79af17",
       "style": "IPY_MODEL_0532aaa07447410aa64eb818a8484104"
      }
     },
     "2e08207dc2b24a1cb9f6fb381bc4a29c": {
      "model_module": "@jupyter-widgets/controls",
      "model_module_version": "1.4.0",
      "model_name": "DescriptionStyleModel",
      "state": {
       "description_width": ""
      }
     },
     "2e0fa5774b1d4b0f89b379eaba7865cc": {
      "model_module": "@jupyter-widgets/base",
      "model_module_version": "1.1.0",
      "model_name": "LayoutModel",
      "state": {
       "width": "20%"
      }
     },
     "2e157b567b8e4ce1bb74824576afd43d": {
      "model_module": "@jupyter-widgets/controls",
      "model_module_version": "1.4.0",
      "model_name": "VBoxModel",
      "state": {
       "children": [
        "IPY_MODEL_5c5a211e79bd455694ae69cb73733ecb"
       ],
       "layout": "IPY_MODEL_02f7385231b54992a700c537a6574b66"
      }
     },
     "2e1b9bea68624ecc9af7e68a9f7f4ef6": {
      "model_module": "@jupyter-widgets/controls",
      "model_module_version": "1.4.0",
      "model_name": "ButtonModel",
      "state": {
       "description": "Default selection",
       "layout": "IPY_MODEL_9583f87bddaf46239f4d88fa676c4b00",
       "style": "IPY_MODEL_a2ca52b8f2bc4656ad95b7c8ddffab76"
      }
     },
     "2e435fbc493c4f0cb415a8fec10171e2": {
      "model_module": "@jupyter-widgets/controls",
      "model_module_version": "1.4.0",
      "model_name": "ButtonStyleModel",
      "state": {}
     },
     "2e6e060aaec945fcac57f540103c8494": {
      "model_module": "@jupyter-widgets/controls",
      "model_module_version": "1.4.0",
      "model_name": "ButtonStyleModel",
      "state": {}
     },
     "2e88afd67c8e4831a81cbcdad4a0a928": {
      "model_module": "@jupyter-widgets/base",
      "model_module_version": "1.1.0",
      "model_name": "LayoutModel",
      "state": {
       "width": "400px"
      }
     },
     "2ea85195a4d6482b8092fe05d734a502": {
      "model_module": "@jupyter-widgets/controls",
      "model_module_version": "1.4.0",
      "model_name": "SelectMultipleModel",
      "state": {
       "_options_labels": [
        "No",
        "Yes"
       ],
       "description": "Description",
       "index": [
        0
       ],
       "layout": "IPY_MODEL_81d46869bcc7453c9744f4bd264c9059",
       "rows": 2,
       "style": "IPY_MODEL_0d453c892154499ab192f604d45c71b1"
      }
     },
     "2ed6be27893341e994f7320225441a3b": {
      "model_module": "@jupyter-widgets/controls",
      "model_module_version": "1.4.0",
      "model_name": "ButtonStyleModel",
      "state": {}
     },
     "2ef14051eff84b7292974e8f2ba3cea8": {
      "model_module": "@jupyter-widgets/base",
      "model_module_version": "1.1.0",
      "model_name": "LayoutModel",
      "state": {
       "width": "20%"
      }
     },
     "2f02b6fff31844c6b21f2f3aba108245": {
      "model_module": "@jupyter-widgets/base",
      "model_module_version": "1.1.0",
      "model_name": "LayoutModel",
      "state": {
       "width": "20%"
      }
     },
     "2f412c971dc44cac871aa202008f54fe": {
      "model_module": "@jupyter-widgets/base",
      "model_module_version": "1.1.0",
      "model_name": "LayoutModel",
      "state": {}
     },
     "2f8c9f2ec17c4e87b538c987d3dfc49d": {
      "model_module": "@jupyter-widgets/controls",
      "model_module_version": "1.4.0",
      "model_name": "ButtonStyleModel",
      "state": {}
     },
     "2f8df66b7ea3401c9fc3f43f458bcf48": {
      "model_module": "@jupyter-widgets/controls",
      "model_module_version": "1.4.0",
      "model_name": "DescriptionStyleModel",
      "state": {
       "description_width": "initial"
      }
     },
     "3047c53770ec49aab3216f51456ea688": {
      "model_module": "@jupyter-widgets/base",
      "model_module_version": "1.1.0",
      "model_name": "LayoutModel",
      "state": {
       "width": "20%"
      }
     },
     "3076fff0f0d64fb299c8f7cbf9b076da": {
      "model_module": "@jupyter-widgets/base",
      "model_module_version": "1.1.0",
      "model_name": "LayoutModel",
      "state": {}
     },
     "3077541acf6444caa244c937aa00a621": {
      "model_module": "@jupyter-widgets/controls",
      "model_module_version": "1.4.0",
      "model_name": "VBoxModel",
      "state": {
       "children": [
        "IPY_MODEL_d0a821561ed943e4b53923d5185f405e"
       ],
       "layout": "IPY_MODEL_92101dde13d2497ebe8967ffbbcc2933"
      }
     },
     "3092a3fbf2764d22b306ce7a788f38a1": {
      "model_module": "@jupyter-widgets/controls",
      "model_module_version": "1.4.0",
      "model_name": "HTMLModel",
      "state": {
       "description": "QA layer:",
       "layout": "IPY_MODEL_2b34fe26dbd64f98ac45cd34778c7876",
       "style": "IPY_MODEL_274d52bb670345e38529fecf2138691d",
       "value": "<b>_1_km_16_days_VI_Quality</b>"
      }
     },
     "30951e5b9fba48edba688d70e9712d01": {
      "model_module": "@jupyter-widgets/controls",
      "model_module_version": "1.4.0",
      "model_name": "SelectModel",
      "state": {
       "_options_labels": [
        "MODLAND",
        "VI Usefulness",
        "Aerosol Quantity",
        "Adjacent cloud detected",
        "Atmosphere BRDF Correction",
        "Mixed Clouds",
        "Land/Water Mask",
        "Possible snow/ice",
        "Possible shadow"
       ],
       "description": "QA Parameter name:",
       "index": 0,
       "layout": "IPY_MODEL_fcb6143ce1a6499caf785a99c4fa0afc",
       "rows": 9,
       "style": "IPY_MODEL_37844a4e40b84621b8b55097fff095eb"
      }
     },
     "30cb908f1c4b45ecb71b3e670d61d4ea": {
      "model_module": "@jupyter-widgets/controls",
      "model_module_version": "1.4.0",
      "model_name": "HTMLModel",
      "state": {
       "description": "QA layer:",
       "layout": "IPY_MODEL_4dc03e0ffe8140a8b0a9e0efc94ae836",
       "style": "IPY_MODEL_c625062ae77a4f359c72fef93871eebc",
       "value": "<b>_1_km_16_days_VI_Quality</b>"
      }
     },
     "30d0afb23be14d628bae09b41e0631d2": {
      "model_module": "@jupyter-widgets/base",
      "model_module_version": "1.1.0",
      "model_name": "LayoutModel",
      "state": {
       "width": "20%"
      }
     },
     "30da3984e5fe48f5ba24e9709dec8f91": {
      "model_module": "@jupyter-widgets/base",
      "model_module_version": "1.1.0",
      "model_name": "LayoutModel",
      "state": {
       "height": "300px",
       "width": "99%"
      }
     },
     "30dba7168a774088965d35f2bbe1b24e": {
      "model_module": "@jupyter-widgets/controls",
      "model_module_version": "1.4.0",
      "model_name": "ButtonStyleModel",
      "state": {}
     },
     "313d190ea8bb47f6ab75c5b23d166ac1": {
      "model_module": "@jupyter-widgets/controls",
      "model_module_version": "1.4.0",
      "model_name": "HTMLModel",
      "state": {
       "description": "QA layer:",
       "layout": "IPY_MODEL_3fc2a42aea354a4188fb570ccad5846c",
       "style": "IPY_MODEL_ad1c8ed474b24b5cae4f5423b354df6c",
       "value": "<b>_1_km_16_days_pixel_reliability</b>"
      }
     },
     "3147842e03b44f0a9cdb5ea510519392": {
      "model_module": "@jupyter-widgets/controls",
      "model_module_version": "1.4.0",
      "model_name": "ButtonStyleModel",
      "state": {}
     },
     "3149d2704d804440823fa64d79ea934c": {
      "model_module": "@jupyter-widgets/controls",
      "model_module_version": "1.4.0",
      "model_name": "ButtonModel",
      "state": {
       "description": "Default selection",
       "layout": "IPY_MODEL_edd52ff7ab0647e9bbea5871a97b717d",
       "style": "IPY_MODEL_2ed6be27893341e994f7320225441a3b"
      }
     },
     "316c2209c1244d159ea0ad41032cea18": {
      "model_module": "@jupyter-widgets/base",
      "model_module_version": "1.1.0",
      "model_name": "LayoutModel",
      "state": {}
     },
     "319eedc4e2bf4903b06bf630c7e4eafc": {
      "model_module": "@jupyter-widgets/base",
      "model_module_version": "1.1.0",
      "model_name": "LayoutModel",
      "state": {}
     },
     "3247faf3a5804705ac0203819db802fc": {
      "model_module": "@jupyter-widgets/controls",
      "model_module_version": "1.4.0",
      "model_name": "DescriptionStyleModel",
      "state": {
       "description_width": "initial"
      }
     },
     "328f3dd70fb448e8bb85c071a337f132": {
      "model_module": "@jupyter-widgets/base",
      "model_module_version": "1.1.0",
      "model_name": "LayoutModel",
      "state": {
       "width": "50%"
      }
     },
     "32c4e8ea507d4af59da623bc3f925453": {
      "model_module": "@jupyter-widgets/controls",
      "model_module_version": "1.4.0",
      "model_name": "HTMLModel",
      "state": {
       "description": "QA layer:",
       "layout": "IPY_MODEL_5303ad3fba83404f89b0e294bd17eccb",
       "style": "IPY_MODEL_69814ca2040e425fb96e904e404a62af",
       "value": "<b>_1_km_16_days_VI_Quality</b>"
      }
     },
     "3316d7604c464b54bfaf368b9946ecba": {
      "model_module": "@jupyter-widgets/controls",
      "model_module_version": "1.4.0",
      "model_name": "ButtonStyleModel",
      "state": {}
     },
     "334017913c7a402aabde7a853c31363b": {
      "model_module": "@jupyter-widgets/controls",
      "model_module_version": "1.4.0",
      "model_name": "ButtonStyleModel",
      "state": {}
     },
     "3377a39b84aa45f89fc6aff04f169216": {
      "model_module": "@jupyter-widgets/controls",
      "model_module_version": "1.4.0",
      "model_name": "VBoxModel",
      "state": {
       "children": [
        "IPY_MODEL_a002be20c79044db8718a47ba3ddf2d3"
       ],
       "layout": "IPY_MODEL_b0f470ea3a5844afa51f61c54a378baf"
      }
     },
     "3386ccc9581e4874b6f426375112e0f4": {
      "model_module": "@jupyter-widgets/controls",
      "model_module_version": "1.4.0",
      "model_name": "DescriptionStyleModel",
      "state": {
       "description_width": "initial"
      }
     },
     "339eb2c2b4d743c88e62bc01ba585f01": {
      "model_module": "@jupyter-widgets/base",
      "model_module_version": "1.1.0",
      "model_name": "LayoutModel",
      "state": {
       "width": "50%"
      }
     },
     "33b704aab6d44277b5c1a673ccee9bc0": {
      "model_module": "@jupyter-widgets/controls",
      "model_module_version": "1.4.0",
      "model_name": "HBoxModel",
      "state": {
       "children": [
        "IPY_MODEL_2834ac86181145cab7982e96ec8a5bf5",
        "IPY_MODEL_c575b1cb8ac04441b7610d7bfec0166e"
       ],
       "layout": "IPY_MODEL_b0437aecd5e448979c0f6f796a41909d"
      }
     },
     "33c938526aee48fa8c4a57c2455261cd": {
      "model_module": "@jupyter-widgets/controls",
      "model_module_version": "1.4.0",
      "model_name": "ButtonStyleModel",
      "state": {}
     },
     "33d32f0b1d084ed09213a28ee47410b3": {
      "model_module": "@jupyter-widgets/controls",
      "model_module_version": "1.4.0",
      "model_name": "VBoxModel",
      "state": {
       "children": [
        "IPY_MODEL_fc87876d70b449168d76c4110de2c6a0"
       ],
       "layout": "IPY_MODEL_cc556288185e4ecf8866a7824bdf4e12"
      }
     },
     "33f50ae5b5e34608b2e4d09de5e347f5": {
      "model_module": "@jupyter-widgets/base",
      "model_module_version": "1.1.0",
      "model_name": "LayoutModel",
      "state": {
       "width": "400px"
      }
     },
     "33fb51f8fb1e4a26b3fe428bc718ecf9": {
      "model_module": "@jupyter-widgets/controls",
      "model_module_version": "1.4.0",
      "model_name": "ButtonModel",
      "state": {
       "description": "Select ALL",
       "layout": "IPY_MODEL_a1105c87cbfc49d89bb6181832302945",
       "style": "IPY_MODEL_138563f039854c5ebe13ce908372bd40"
      }
     },
     "3400e41ba610485e8742c717649d34a0": {
      "model_module": "@jupyter-widgets/base",
      "model_module_version": "1.1.0",
      "model_name": "LayoutModel",
      "state": {
       "width": "49%"
      }
     },
     "34a179cf34b5442fbaae55e10db5f7b4": {
      "model_module": "@jupyter-widgets/base",
      "model_module_version": "1.1.0",
      "model_name": "LayoutModel",
      "state": {
       "height": "350px",
       "width": "99%"
      }
     },
     "351df6b21dfc4b27b51b540b5ddda4da": {
      "model_module": "@jupyter-widgets/base",
      "model_module_version": "1.1.0",
      "model_name": "LayoutModel",
      "state": {}
     },
     "3539a202b73b46da93f27bdb033e9767": {
      "model_module": "@jupyter-widgets/base",
      "model_module_version": "1.1.0",
      "model_name": "LayoutModel",
      "state": {}
     },
     "35473008c8e3445cb056e12aaa0b79ec": {
      "model_module": "@jupyter-widgets/controls",
      "model_module_version": "1.4.0",
      "model_name": "SelectMultipleModel",
      "state": {
       "_options_labels": [
        "VI produced, good quality",
        "VI produced, but check other QA",
        "Pixel produced, but most probably cloudy",
        "Pixel not produced due to other reasons than clouds"
       ],
       "description": "Description",
       "index": [
        0
       ],
       "layout": "IPY_MODEL_1288e162fc4443bd882e1fceb4c4a9dc",
       "rows": 4,
       "style": "IPY_MODEL_9569ab31c9ae47c087fedef5ef40f43f"
      }
     },
     "3551277058f745198282e3cf08bb6251": {
      "model_module": "@jupyter-widgets/controls",
      "model_module_version": "1.4.0",
      "model_name": "VBoxModel",
      "state": {
       "children": [
        "IPY_MODEL_35473008c8e3445cb056e12aaa0b79ec"
       ],
       "layout": "IPY_MODEL_92ab97ebff8e421ca6d3bdffb634b228"
      }
     },
     "357c9fc9267040e880c0bd505c2ffcc2": {
      "model_module": "@jupyter-widgets/base",
      "model_module_version": "1.1.0",
      "model_name": "LayoutModel",
      "state": {}
     },
     "35a4e9785ba44a1ba4b700421ae00552": {
      "model_module": "@jupyter-widgets/controls",
      "model_module_version": "1.4.0",
      "model_name": "DescriptionStyleModel",
      "state": {
       "description_width": "initial"
      }
     },
     "35f1132ff90441e496b723e9cf337539": {
      "model_module": "@jupyter-widgets/controls",
      "model_module_version": "1.4.0",
      "model_name": "DescriptionStyleModel",
      "state": {
       "description_width": "initial"
      }
     },
     "35fc3f33dd584121b1a5aca02bb53a5d": {
      "model_module": "@jupyter-widgets/controls",
      "model_module_version": "1.4.0",
      "model_name": "ButtonModel",
      "state": {
       "description": "Default selection",
       "layout": "IPY_MODEL_ae4e99b6b3de4ee79f888bfeec25fee6",
       "style": "IPY_MODEL_79d3d05ba4a74ba793e9d1ccc8e9e389"
      }
     },
     "369da348771543148f0fd1e50d0cdc87": {
      "model_module": "@jupyter-widgets/base",
      "model_module_version": "1.1.0",
      "model_name": "LayoutModel",
      "state": {}
     },
     "36af847586f1410a8831434418832718": {
      "model_module": "@jupyter-widgets/base",
      "model_module_version": "1.1.0",
      "model_name": "LayoutModel",
      "state": {
       "width": "20%"
      }
     },
     "36ea5c7085b7419e9c9b208648a05967": {
      "model_module": "@jupyter-widgets/controls",
      "model_module_version": "1.4.0",
      "model_name": "ProgressStyleModel",
      "state": {
       "description_width": "initial"
      }
     },
     "36fbd7cdba034eaab147c97dcc8133d3": {
      "model_module": "@jupyter-widgets/base",
      "model_module_version": "1.1.0",
      "model_name": "LayoutModel",
      "state": {
       "width": "400px"
      }
     },
     "3702ac33c0e44d10a60bca979a999dd7": {
      "model_module": "@jupyter-widgets/controls",
      "model_module_version": "1.4.0",
      "model_name": "DescriptionStyleModel",
      "state": {
       "description_width": ""
      }
     },
     "370b9060558a46a0972614895d3472bb": {
      "model_module": "@jupyter-widgets/base",
      "model_module_version": "1.1.0",
      "model_name": "LayoutModel",
      "state": {}
     },
     "370c724799c444b6b17b619a1722d481": {
      "model_module": "@jupyter-widgets/controls",
      "model_module_version": "1.4.0",
      "model_name": "ButtonModel",
      "state": {
       "description": "Select ALL",
       "layout": "IPY_MODEL_9d7113f31bd74ea4b0ee2128f5e290ca",
       "style": "IPY_MODEL_b233f60d9c904692ac5740fe02ae53d9"
      }
     },
     "371aa72cca204abdb87cfe1fbd501b14": {
      "model_module": "@jupyter-widgets/base",
      "model_module_version": "1.1.0",
      "model_name": "LayoutModel",
      "state": {
       "width": "400px"
      }
     },
     "3745ad6943794a1d9ebffe1cd6bc1f88": {
      "model_module": "@jupyter-widgets/controls",
      "model_module_version": "1.4.0",
      "model_name": "ProgressStyleModel",
      "state": {
       "description_width": "initial"
      }
     },
     "3750a09228234ee08cb676d83a8b713a": {
      "model_module": "@jupyter-widgets/base",
      "model_module_version": "1.1.0",
      "model_name": "LayoutModel",
      "state": {
       "width": "20%"
      }
     },
     "37844a4e40b84621b8b55097fff095eb": {
      "model_module": "@jupyter-widgets/controls",
      "model_module_version": "1.4.0",
      "model_name": "DescriptionStyleModel",
      "state": {
       "description_width": "initial"
      }
     },
     "37864395e7774c68ac6e984be5cff1c6": {
      "model_module": "@jupyter-widgets/base",
      "model_module_version": "1.1.0",
      "model_name": "LayoutModel",
      "state": {}
     },
     "3788059c8bba4688b64d741687ce5742": {
      "model_module": "@jupyter-widgets/base",
      "model_module_version": "1.1.0",
      "model_name": "LayoutModel",
      "state": {}
     },
     "37f0a27ea89243449b5c5bad4b501942": {
      "model_module": "@jupyter-widgets/base",
      "model_module_version": "1.1.0",
      "model_name": "LayoutModel",
      "state": {
       "width": "20%"
      }
     },
     "383a79ad9e9d4a00b4312a4159735a74": {
      "model_module": "@jupyter-widgets/base",
      "model_module_version": "1.1.0",
      "model_name": "LayoutModel",
      "state": {
       "width": "30%"
      }
     },
     "389ff2b4ebba446fb91fe16f2c42e716": {
      "model_module": "@jupyter-widgets/controls",
      "model_module_version": "1.4.0",
      "model_name": "DescriptionStyleModel",
      "state": {
       "description_width": "initial"
      }
     },
     "38eb957940e94386b29920f326e3a7af": {
      "model_module": "@jupyter-widgets/base",
      "model_module_version": "1.1.0",
      "model_name": "LayoutModel",
      "state": {
       "height": "300px",
       "width": "99%"
      }
     },
     "38fe4e89d9804b96822239db5958e0f4": {
      "model_module": "@jupyter-widgets/base",
      "model_module_version": "1.1.0",
      "model_name": "LayoutModel",
      "state": {
       "width": "50%"
      }
     },
     "3902f59ac4ed4d68b408cf395ca6635b": {
      "model_module": "@jupyter-widgets/controls",
      "model_module_version": "1.4.0",
      "model_name": "VBoxModel",
      "state": {
       "children": [
        "IPY_MODEL_20165f298ef0477d845e098ba3efcf64"
       ],
       "layout": "IPY_MODEL_316c2209c1244d159ea0ad41032cea18"
      }
     },
     "3954c909bf2b46e29c2e863728ceca52": {
      "model_module": "@jupyter-widgets/controls",
      "model_module_version": "1.4.0",
      "model_name": "ButtonStyleModel",
      "state": {}
     },
     "397c091aa6894aa1bb6edc353115afda": {
      "model_module": "@jupyter-widgets/controls",
      "model_module_version": "1.4.0",
      "model_name": "ProgressStyleModel",
      "state": {
       "description_width": "initial"
      }
     },
     "397c5735834f442f8c2116447c472421": {
      "model_module": "@jupyter-widgets/controls",
      "model_module_version": "1.4.0",
      "model_name": "DescriptionStyleModel",
      "state": {
       "description_width": "initial"
      }
     },
     "39819f6505294f8ba16542d0dd6fa8b3": {
      "model_module": "@jupyter-widgets/controls",
      "model_module_version": "1.4.0",
      "model_name": "VBoxModel",
      "state": {
       "children": [
        "IPY_MODEL_f3ad8b16ec314fcda83be5da3f0c6a65"
       ],
       "layout": "IPY_MODEL_fe216738383a4fd29a8425d0329efade"
      }
     },
     "3994e4675af14176ab8345001b3ae705": {
      "model_module": "@jupyter-widgets/controls",
      "model_module_version": "1.4.0",
      "model_name": "SelectModel",
      "state": {
       "_options_labels": [
        "MODLAND",
        "VI Usefulness",
        "Aerosol Quantity",
        "Adjacent cloud detected",
        "Atmosphere BRDF Correction",
        "Mixed Clouds",
        "Land/Water Mask",
        "Possible snow/ice",
        "Possible shadow"
       ],
       "description": "QA Parameter name:",
       "index": 8,
       "layout": "IPY_MODEL_2ca84de7e3d145f1838bf3ef11d2ec6d",
       "rows": 9,
       "style": "IPY_MODEL_d34e057ce23c47e7b4f36a419d18fba4"
      }
     },
     "3999127778ad4d6eb657b92e563cf9f3": {
      "model_module": "@jupyter-widgets/controls",
      "model_module_version": "1.4.0",
      "model_name": "DescriptionStyleModel",
      "state": {
       "description_width": "initial"
      }
     },
     "39b7bedef60d4fd99d01ec3ca07d234f": {
      "model_module": "@jupyter-widgets/controls",
      "model_module_version": "1.4.0",
      "model_name": "VBoxModel",
      "state": {
       "children": [
        "IPY_MODEL_bdcb2fa91b0e469bac8fe486bd5e0e73"
       ],
       "layout": "IPY_MODEL_a475424f0a8f4b018321d0224be04fb7"
      }
     },
     "39d1d954a91640cea3c1dd8f0890ee51": {
      "model_module": "@jupyter-widgets/controls",
      "model_module_version": "1.4.0",
      "model_name": "ButtonModel",
      "state": {
       "description": "QA analytics",
       "layout": "IPY_MODEL_d8e391f6a98e447cb193560bd4ece120",
       "style": "IPY_MODEL_18c04d45bfce49ce8c78eeffd393e326"
      }
     },
     "39d3fa30850e4e96aa7f22c1655cc341": {
      "model_module": "@jupyter-widgets/base",
      "model_module_version": "1.1.0",
      "model_name": "LayoutModel",
      "state": {}
     },
     "3a00d78c49854041893f2e0596a8da9e": {
      "model_module": "@jupyter-widgets/controls",
      "model_module_version": "1.4.0",
      "model_name": "ButtonModel",
      "state": {
       "description": "Default selection",
       "layout": "IPY_MODEL_b995b90c7a084ed597e3c5a712ec3460",
       "style": "IPY_MODEL_f88b5724957f4224a76af72c5f0b4615"
      }
     },
     "3a28d54993824abf9f131323bba244a8": {
      "model_module": "@jupyter-widgets/controls",
      "model_module_version": "1.4.0",
      "model_name": "SelectMultipleModel",
      "state": {
       "_options_labels": [
        "VI produced, good quality",
        "VI produced, but check other QA",
        "Pixel produced, but most probably cloudy",
        "Pixel not produced due to other reasons than clouds"
       ],
       "description": "Description",
       "index": [
        0
       ],
       "layout": "IPY_MODEL_4d29ee000be942809c32a9313addfea2",
       "rows": 4,
       "style": "IPY_MODEL_e1f06265b35d485886bdb2805469c66e"
      }
     },
     "3a2e2907f0174d30ae432ab427a2dc3d": {
      "model_module": "@jupyter-widgets/base",
      "model_module_version": "1.1.0",
      "model_name": "LayoutModel",
      "state": {
       "width": "30%"
      }
     },
     "3a314e6d98834bbe823bc71b56eec991": {
      "model_module": "@jupyter-widgets/controls",
      "model_module_version": "1.4.0",
      "model_name": "SelectModel",
      "state": {
       "_options_labels": [
        "MODLAND",
        "VI Usefulness",
        "Aerosol Quantity",
        "Adjacent cloud detected",
        "Atmosphere BRDF Correction",
        "Mixed Clouds",
        "Land/Water Mask",
        "Possible snow/ice",
        "Possible shadow"
       ],
       "description": "QA Parameter name:",
       "index": 0,
       "layout": "IPY_MODEL_66989a7d6dee4d77bc6a5c3d35995f84",
       "rows": 9,
       "style": "IPY_MODEL_07b69bed9bfb41f49da601f9506a0c35"
      }
     },
     "3a366bb9fdc04c90a9843a6feab8b5bd": {
      "model_module": "@jupyter-widgets/controls",
      "model_module_version": "1.4.0",
      "model_name": "ButtonStyleModel",
      "state": {}
     },
     "3a5c51fae1a743bbb41a188ca298fcc2": {
      "model_module": "@jupyter-widgets/controls",
      "model_module_version": "1.4.0",
      "model_name": "DescriptionStyleModel",
      "state": {
       "description_width": ""
      }
     },
     "3a79954b385a474cbc755198dc2c2a20": {
      "model_module": "@jupyter-widgets/controls",
      "model_module_version": "1.4.0",
      "model_name": "VBoxModel",
      "state": {
       "children": [
        "IPY_MODEL_865d5d75a72b4b23b864cef1c57a9af4"
       ],
       "layout": "IPY_MODEL_55e3689d62f34e6aa8c8bdc54d866fbe"
      }
     },
     "3a80d8a0c40d447abe26f1443f6d90e3": {
      "model_module": "@jupyter-widgets/controls",
      "model_module_version": "1.4.0",
      "model_name": "VBoxModel",
      "state": {
       "children": [
        "IPY_MODEL_93192ff5326f4a00930c4b460cf749e0"
       ],
       "layout": "IPY_MODEL_e319e1f2c2e5485ba5b7a05063365b5f"
      }
     },
     "3aa240466fef436a88426fff3c3af406": {
      "model_module": "@jupyter-widgets/base",
      "model_module_version": "1.1.0",
      "model_name": "LayoutModel",
      "state": {}
     },
     "3ab12e99723946329c761cceefb190b7": {
      "model_module": "@jupyter-widgets/controls",
      "model_module_version": "1.4.0",
      "model_name": "ButtonStyleModel",
      "state": {}
     },
     "3b2478b27bba4b40be0edec4f51cddeb": {
      "model_module": "@jupyter-widgets/controls",
      "model_module_version": "1.4.0",
      "model_name": "DescriptionStyleModel",
      "state": {
       "description_width": "initial"
      }
     },
     "3b5e020b0ac44694b52bb4e68720069f": {
      "model_module": "@jupyter-widgets/controls",
      "model_module_version": "1.4.0",
      "model_name": "ProgressStyleModel",
      "state": {
       "description_width": "initial"
      }
     },
     "3b6ba1c07780461aaa5e0a8d64c2a7aa": {
      "model_module": "@jupyter-widgets/controls",
      "model_module_version": "1.4.0",
      "model_name": "ButtonStyleModel",
      "state": {}
     },
     "3b7e49b740884f6597ac899512af11f0": {
      "model_module": "@jupyter-widgets/base",
      "model_module_version": "1.1.0",
      "model_name": "LayoutModel",
      "state": {
       "width": "30%"
      }
     },
     "3b8aed1749de42c98d51d5859270759f": {
      "model_module": "@jupyter-widgets/controls",
      "model_module_version": "1.4.0",
      "model_name": "DescriptionStyleModel",
      "state": {
       "description_width": "initial"
      }
     },
     "3bab113c61034554b8ea974a8c9560f0": {
      "model_module": "@jupyter-widgets/controls",
      "model_module_version": "1.4.0",
      "model_name": "ButtonStyleModel",
      "state": {}
     },
     "3bc78b05ea2c4fb0be71cce557305797": {
      "model_module": "@jupyter-widgets/controls",
      "model_module_version": "1.4.0",
      "model_name": "ButtonStyleModel",
      "state": {}
     },
     "3bd97194314846e5949bf9766f6c12d3": {
      "model_module": "@jupyter-widgets/base",
      "model_module_version": "1.1.0",
      "model_name": "LayoutModel",
      "state": {}
     },
     "3beb57b351db41d4b8c9bc303bfba7fd": {
      "model_module": "@jupyter-widgets/controls",
      "model_module_version": "1.4.0",
      "model_name": "VBoxModel",
      "state": {
       "children": [
        "IPY_MODEL_a5b4c16a578f4f45a27cda6004781a14"
       ],
       "layout": "IPY_MODEL_7b0e4f5165044e83aaf10185d875c5a7"
      }
     },
     "3beb85f3eabb41f4865d0e2c92600d9f": {
      "model_module": "@jupyter-widgets/base",
      "model_module_version": "1.1.0",
      "model_name": "LayoutModel",
      "state": {
       "height": "350px",
       "width": "99%"
      }
     },
     "3c04bc7f11d74912ac0dcb206294ae5f": {
      "model_module": "@jupyter-widgets/controls",
      "model_module_version": "1.4.0",
      "model_name": "ButtonModel",
      "state": {
       "description": "Default selection",
       "layout": "IPY_MODEL_837bb709f6fd477898a01e8401a4e46a",
       "style": "IPY_MODEL_a604dd00f1fa400584ade9ed2e06047e"
      }
     },
     "3c072c4a228c4a2d86a9440ab837de69": {
      "model_module": "@jupyter-widgets/controls",
      "model_module_version": "1.4.0",
      "model_name": "ButtonModel",
      "state": {
       "description": "Create mask",
       "layout": "IPY_MODEL_8dc7032a9913455c8daaa4286e37d3a9",
       "style": "IPY_MODEL_ec89ff03698f49bd960d5b9481273993"
      }
     },
     "3c34f0d6c46b4c7591fa286d2752c894": {
      "model_module": "@jupyter-widgets/controls",
      "model_module_version": "1.4.0",
      "model_name": "ButtonStyleModel",
      "state": {}
     },
     "3c4f0e23d1a84376aa529137515f6421": {
      "model_module": "@jupyter-widgets/controls",
      "model_module_version": "1.4.0",
      "model_name": "ButtonModel",
      "state": {
       "description": "Select ALL",
       "layout": "IPY_MODEL_6bf16b10ebac4aabb6b644a715822338",
       "style": "IPY_MODEL_eed76eac15504d6190be8798a6124ad1"
      }
     },
     "3c52e697f82649a3a0d6bc3faeb6fffe": {
      "model_module": "@jupyter-widgets/controls",
      "model_module_version": "1.4.0",
      "model_name": "HBoxModel",
      "state": {
       "children": [
        "IPY_MODEL_e9c48cc239954d60bf93455e721bb0ba",
        "IPY_MODEL_3149d2704d804440823fa64d79ea934c",
        "IPY_MODEL_28bf80f859424696a83d0d48ebab201e"
       ],
       "layout": "IPY_MODEL_9cb59ab36152487c80c255ca677829c0"
      }
     },
     "3d14843199d0442d841213d41e8a929d": {
      "model_module": "@jupyter-widgets/controls",
      "model_module_version": "1.4.0",
      "model_name": "DescriptionStyleModel",
      "state": {
       "description_width": "initial"
      }
     },
     "3dc2e53569e84b71a9f2e014da41d093": {
      "model_module": "@jupyter-widgets/base",
      "model_module_version": "1.1.0",
      "model_name": "LayoutModel",
      "state": {
       "height": "200px",
       "width": "99%"
      }
     },
     "3dc3e4989bb54d8081698f91d3415d8b": {
      "model_module": "@jupyter-widgets/base",
      "model_module_version": "1.1.0",
      "model_name": "LayoutModel",
      "state": {
       "height": "300px",
       "width": "99%"
      }
     },
     "3dc9160e5bc240058879d8a219ac009d": {
      "model_module": "@jupyter-widgets/controls",
      "model_module_version": "1.4.0",
      "model_name": "SelectModel",
      "state": {
       "_options_labels": [
        "MODLAND",
        "VI Usefulness",
        "Aerosol Quantity",
        "Adjacent cloud detected",
        "Atmosphere BRDF Correction",
        "Mixed Clouds",
        "Land/Water Mask",
        "Possible snow/ice",
        "Possible shadow"
       ],
       "description": "QA Parameter name:",
       "index": 0,
       "layout": "IPY_MODEL_f774325fda184bb8acb55c832cd73d5b",
       "rows": 9,
       "style": "IPY_MODEL_bb8c811a6aee466f9c080498efc6013f"
      }
     },
     "3de2d77639524ec480d49fcbfb3eff11": {
      "model_module": "@jupyter-widgets/base",
      "model_module_version": "1.1.0",
      "model_name": "LayoutModel",
      "state": {}
     },
     "3e3ecea6762d4fab8b5d456dfdc8eb64": {
      "model_module": "@jupyter-widgets/controls",
      "model_module_version": "1.4.0",
      "model_name": "VBoxModel",
      "state": {
       "children": [
        "IPY_MODEL_1ea68c1f34ec4f568971b528c1288e9d"
       ],
       "layout": "IPY_MODEL_efa9a168d1af4e1fa3cf7c875667bdc8"
      }
     },
     "3e4be94961704d5c98a5bd5c4bcc520a": {
      "model_module": "@jupyter-widgets/base",
      "model_module_version": "1.1.0",
      "model_name": "LayoutModel",
      "state": {
       "width": "30%"
      }
     },
     "3e6661e4702a40e0bcb270b6e0fac3a4": {
      "model_module": "@jupyter-widgets/base",
      "model_module_version": "1.1.0",
      "model_name": "LayoutModel",
      "state": {
       "width": "20%"
      }
     },
     "3e96e531fb98423d85203ae65a56e4a0": {
      "model_module": "@jupyter-widgets/base",
      "model_module_version": "1.1.0",
      "model_name": "LayoutModel",
      "state": {}
     },
     "3eb6df4f84c64d57978ad426b507420c": {
      "model_module": "@jupyter-widgets/base",
      "model_module_version": "1.1.0",
      "model_name": "LayoutModel",
      "state": {}
     },
     "3ec126f887fe4eaf87093af657dedea3": {
      "model_module": "@jupyter-widgets/base",
      "model_module_version": "1.1.0",
      "model_name": "LayoutModel",
      "state": {
       "width": "20%"
      }
     },
     "3f06e2f98d18495b9acd601cf3f4e169": {
      "model_module": "@jupyter-widgets/controls",
      "model_module_version": "1.4.0",
      "model_name": "ButtonModel",
      "state": {
       "description": "QA analytics",
       "layout": "IPY_MODEL_673f7029c2304bcc8c04c96a7a32a103",
       "style": "IPY_MODEL_44d13e6a3836430ba32785461b68f1b3"
      }
     },
     "3f1d2741d91f46d9931c3632e9568a00": {
      "model_module": "@jupyter-widgets/controls",
      "model_module_version": "1.4.0",
      "model_name": "DescriptionStyleModel",
      "state": {
       "description_width": "initial"
      }
     },
     "3f22da0b23a5484f98daa3a47f61118d": {
      "model_module": "@jupyter-widgets/base",
      "model_module_version": "1.1.0",
      "model_name": "LayoutModel",
      "state": {
       "width": "50%"
      }
     },
     "3f44b0860ff640d1a084940067f099bb": {
      "model_module": "@jupyter-widgets/controls",
      "model_module_version": "1.4.0",
      "model_name": "HBoxModel",
      "state": {
       "children": [
        "IPY_MODEL_0f709ebe198d40999aebe87bbea653ec",
        "IPY_MODEL_865bac97272a40828ad52e9aaa96dda7"
       ],
       "layout": "IPY_MODEL_30da3984e5fe48f5ba24e9709dec8f91"
      }
     },
     "3f83f069813940ad870a8f44e155d129": {
      "model_module": "@jupyter-widgets/base",
      "model_module_version": "1.1.0",
      "model_name": "LayoutModel",
      "state": {
       "height": "300px",
       "width": "99%"
      }
     },
     "3f9c7528a8964f43b787a490da0452ec": {
      "model_module": "@jupyter-widgets/controls",
      "model_module_version": "1.4.0",
      "model_name": "SelectModel",
      "state": {
       "_options_labels": [
        "MODLAND",
        "VI Usefulness",
        "Aerosol Quantity",
        "Adjacent cloud detected",
        "Atmosphere BRDF Correction",
        "Mixed Clouds",
        "Land/Water Mask",
        "Possible snow/ice",
        "Possible shadow"
       ],
       "description": "QA Parameter name:",
       "index": 7,
       "layout": "IPY_MODEL_703e9aa2642a4c9bbaf01352076d26d7",
       "rows": 9,
       "style": "IPY_MODEL_ef2b9f2ed0c54c999e3a5dc8a8e8a322"
      }
     },
     "3fc2a42aea354a4188fb570ccad5846c": {
      "model_module": "@jupyter-widgets/base",
      "model_module_version": "1.1.0",
      "model_name": "LayoutModel",
      "state": {}
     },
     "3fd8c6a02e03484e994a9b758dbaf38d": {
      "model_module": "@jupyter-widgets/base",
      "model_module_version": "1.1.0",
      "model_name": "LayoutModel",
      "state": {
       "width": "400px"
      }
     },
     "4004e93a34094382a62a81e30478ff95": {
      "model_module": "@jupyter-widgets/base",
      "model_module_version": "1.1.0",
      "model_name": "LayoutModel",
      "state": {}
     },
     "4024377a0adf4b2db5c3bdd36e263d05": {
      "model_module": "@jupyter-widgets/base",
      "model_module_version": "1.1.0",
      "model_name": "LayoutModel",
      "state": {
       "width": "30%"
      }
     },
     "403b922e63854e2ea5e9d0d688f98318": {
      "model_module": "@jupyter-widgets/base",
      "model_module_version": "1.1.0",
      "model_name": "LayoutModel",
      "state": {
       "width": "30%"
      }
     },
     "4048056fd9a644cd9adae25fac611238": {
      "model_module": "@jupyter-widgets/controls",
      "model_module_version": "1.4.0",
      "model_name": "SelectModel",
      "state": {
       "_options_labels": [
        "MODLAND"
       ],
       "description": "QA Parameter name:",
       "index": 0,
       "layout": "IPY_MODEL_1f73854a354e441f92bbe2691f8f30b4",
       "rows": 1,
       "style": "IPY_MODEL_2b3e8d4971c042219c52a80ac84c83a6"
      }
     },
     "404b203f2209483291574c6b70c5b8c9": {
      "model_module": "@jupyter-widgets/base",
      "model_module_version": "1.1.0",
      "model_name": "LayoutModel",
      "state": {}
     },
     "404d6c6bc57549d5bed2fbdf01687740": {
      "model_module": "@jupyter-widgets/base",
      "model_module_version": "1.1.0",
      "model_name": "LayoutModel",
      "state": {
       "width": "20%"
      }
     },
     "4077e52987a24108b735932fc5e0998f": {
      "model_module": "@jupyter-widgets/controls",
      "model_module_version": "1.4.0",
      "model_name": "SelectModel",
      "state": {
       "_options_labels": [
        "MODLAND",
        "VI Usefulness",
        "Aerosol Quantity",
        "Adjacent cloud detected",
        "Atmosphere BRDF Correction",
        "Mixed Clouds",
        "Land/Water Mask",
        "Possible snow/ice",
        "Possible shadow"
       ],
       "description": "QA Parameter name:",
       "index": 0,
       "layout": "IPY_MODEL_f0d55c216d4d4ba3984a5f8e7225e671",
       "rows": 9,
       "style": "IPY_MODEL_5cf2436875f34c569df33428a8262af6"
      }
     },
     "40786aa5b99c4dabb8b6d42e1270bc6f": {
      "model_module": "@jupyter-widgets/controls",
      "model_module_version": "1.4.0",
      "model_name": "HTMLModel",
      "state": {
       "description": "QA layer:",
       "layout": "IPY_MODEL_13f900f9989e45a498df4e20172817a1",
       "style": "IPY_MODEL_a6fb7237920b485294d9621d739ede41",
       "value": "<b>_1_km_16_days_VI_Quality</b>"
      }
     },
     "408c024faf2648b3a1aa3ae082a8112b": {
      "model_module": "@jupyter-widgets/controls",
      "model_module_version": "1.4.0",
      "model_name": "DescriptionStyleModel",
      "state": {
       "description_width": ""
      }
     },
     "40a9fefe3c9d4b449be2298bdabf330d": {
      "model_module": "@jupyter-widgets/controls",
      "model_module_version": "1.4.0",
      "model_name": "ButtonModel",
      "state": {
       "description": "Select ALL",
       "layout": "IPY_MODEL_c52770712e7d4a289435a24af87c3058",
       "style": "IPY_MODEL_73fcbd36ee104fea85b02c401cf48db1"
      }
     },
     "4104275dad8748afb1624ea0237d19ea": {
      "model_module": "@jupyter-widgets/controls",
      "model_module_version": "1.4.0",
      "model_name": "SelectMultipleModel",
      "state": {
       "_options_labels": [
        "VI produced, good quality",
        "VI produced, but check other QA",
        "Pixel produced, but most probably cloudy",
        "Pixel not produced due to other reasons than clouds"
       ],
       "description": "Description",
       "index": [
        0,
        1,
        2,
        3
       ],
       "layout": "IPY_MODEL_6a1f4757ad65444080fd63ecca562556",
       "rows": 4,
       "style": "IPY_MODEL_9d123fb8be38401b9cf2adac2a8c4463"
      }
     },
     "41291ccd965f497ba122cc4420b1aa37": {
      "model_module": "@jupyter-widgets/controls",
      "model_module_version": "1.4.0",
      "model_name": "ProgressStyleModel",
      "state": {
       "description_width": "initial"
      }
     },
     "41292a925a3e4d759617f20b9429b09c": {
      "model_module": "@jupyter-widgets/controls",
      "model_module_version": "1.4.0",
      "model_name": "HTMLModel",
      "state": {
       "description": "QA layer:",
       "layout": "IPY_MODEL_656e819332564b3484998fa64374ddad",
       "style": "IPY_MODEL_1d795a102ae94aeaad891d01b85a7c50",
       "value": "<b>_1_km_16_days_VI_Quality</b>"
      }
     },
     "412e3e6934c44f4fae33b06a50da8ca1": {
      "model_module": "@jupyter-widgets/controls",
      "model_module_version": "1.4.0",
      "model_name": "ButtonStyleModel",
      "state": {}
     },
     "412ee85c2c864108a7b6975c854d5b8d": {
      "model_module": "@jupyter-widgets/base",
      "model_module_version": "1.1.0",
      "model_name": "LayoutModel",
      "state": {}
     },
     "413b852107ae41078f8517ced7733951": {
      "model_module": "@jupyter-widgets/base",
      "model_module_version": "1.1.0",
      "model_name": "LayoutModel",
      "state": {
       "width": "20%"
      }
     },
     "413ed81f3c784b6e99006aaba048171b": {
      "model_module": "@jupyter-widgets/base",
      "model_module_version": "1.1.0",
      "model_name": "LayoutModel",
      "state": {
       "width": "20%"
      }
     },
     "414325fb59fa48f6854a28a34095d572": {
      "model_module": "@jupyter-widgets/controls",
      "model_module_version": "1.4.0",
      "model_name": "VBoxModel",
      "state": {
       "children": [
        "IPY_MODEL_9f6e2182cb204146b1f02ab950ce195d"
       ],
       "layout": "IPY_MODEL_030acbeacb0044a5933324eba59fa130"
      }
     },
     "415689515de041919da605dfd0acce89": {
      "model_module": "@jupyter-widgets/base",
      "model_module_version": "1.1.0",
      "model_name": "LayoutModel",
      "state": {
       "width": "400px"
      }
     },
     "415f1aea7628465ba1293622416acf7f": {
      "model_module": "@jupyter-widgets/controls",
      "model_module_version": "1.4.0",
      "model_name": "ButtonModel",
      "state": {
       "description": "QA analytics",
       "layout": "IPY_MODEL_1fcc3a665eea4f208dd0962bcf1a98c6",
       "style": "IPY_MODEL_82c2873e424140f9b8e328132670422c"
      }
     },
     "417a7c9aa41b419396c2ed473a64bf86": {
      "model_module": "@jupyter-widgets/controls",
      "model_module_version": "1.4.0",
      "model_name": "ButtonModel",
      "state": {
       "description": "Default selection",
       "layout": "IPY_MODEL_bdc416d6251d4946ae2967de37279db6",
       "style": "IPY_MODEL_209e9203467a46a6b0453c9c7bc2920b"
      }
     },
     "417e30e590e04fb1a97b6330261d4644": {
      "model_module": "@jupyter-widgets/controls",
      "model_module_version": "1.4.0",
      "model_name": "DescriptionStyleModel",
      "state": {
       "description_width": ""
      }
     },
     "41ebdb9852114e6787ca3df77b6ae3c3": {
      "model_module": "@jupyter-widgets/base",
      "model_module_version": "1.1.0",
      "model_name": "LayoutModel",
      "state": {
       "width": "20%"
      }
     },
     "41ec28fc660f4ce681d3f473639113c1": {
      "model_module": "@jupyter-widgets/base",
      "model_module_version": "1.1.0",
      "model_name": "LayoutModel",
      "state": {
       "width": "20%"
      }
     },
     "4225e6b71382405f9709a962e34a558a": {
      "model_module": "@jupyter-widgets/controls",
      "model_module_version": "1.4.0",
      "model_name": "VBoxModel",
      "state": {
       "children": [
        "IPY_MODEL_4c51d4fcfa014adaa9ce6b7b277e36d1"
       ],
       "layout": "IPY_MODEL_7d21b1c111f249f6a2004723e8ef221e"
      }
     },
     "42513564edb143feae49a61a107ca53e": {
      "model_module": "@jupyter-widgets/controls",
      "model_module_version": "1.4.0",
      "model_name": "DescriptionStyleModel",
      "state": {
       "description_width": "initial"
      }
     },
     "4251e955e1b84e398a88153b1b02b70c": {
      "model_module": "@jupyter-widgets/controls",
      "model_module_version": "1.4.0",
      "model_name": "DescriptionStyleModel",
      "state": {
       "description_width": "initial"
      }
     },
     "426a1e1cba7844b892475106e5ec47ff": {
      "model_module": "@jupyter-widgets/controls",
      "model_module_version": "1.4.0",
      "model_name": "DescriptionStyleModel",
      "state": {
       "description_width": "initial"
      }
     },
     "429141028ec84446a2ae9a64256609c8": {
      "model_module": "@jupyter-widgets/controls",
      "model_module_version": "1.4.0",
      "model_name": "DescriptionStyleModel",
      "state": {
       "description_width": "initial"
      }
     },
     "42abd81e59de41efbfd0dbb588380c0f": {
      "model_module": "@jupyter-widgets/controls",
      "model_module_version": "1.4.0",
      "model_name": "ButtonStyleModel",
      "state": {}
     },
     "42c574036d984e16b4940d365ed33c8e": {
      "model_module": "@jupyter-widgets/base",
      "model_module_version": "1.1.0",
      "model_name": "LayoutModel",
      "state": {
       "width": "20%"
      }
     },
     "42ff0711bb4c4287a99696cf4e22e768": {
      "model_module": "@jupyter-widgets/base",
      "model_module_version": "1.1.0",
      "model_name": "LayoutModel",
      "state": {
       "width": "400px"
      }
     },
     "430f72d236b34871a2c7109730288ead": {
      "model_module": "@jupyter-widgets/base",
      "model_module_version": "1.1.0",
      "model_name": "LayoutModel",
      "state": {
       "height": "200px",
       "width": "99%"
      }
     },
     "43138292ae9a453e99e3e5aa576d99f9": {
      "model_module": "@jupyter-widgets/controls",
      "model_module_version": "1.4.0",
      "model_name": "SelectModel",
      "state": {
       "_options_labels": [
        "MODLAND",
        "VI Usefulness",
        "Aerosol Quantity",
        "Adjacent cloud detected",
        "Atmosphere BRDF Correction",
        "Mixed Clouds",
        "Land/Water Mask",
        "Possible snow/ice",
        "Possible shadow"
       ],
       "description": "QA Parameter name:",
       "index": 0,
       "layout": "IPY_MODEL_76eeb0cb23f849e690c5ea543e402677",
       "rows": 9,
       "style": "IPY_MODEL_d434fa6ec1914e2bbac3fbb922ed8a56"
      }
     },
     "43438f4f18ca448da34092c851142d13": {
      "model_module": "@jupyter-widgets/controls",
      "model_module_version": "1.4.0",
      "model_name": "ButtonModel",
      "state": {
       "description": "QA analytics",
       "layout": "IPY_MODEL_20ac4f7babf64243a36c6f1071ba7673",
       "style": "IPY_MODEL_a51126f73c5942ed9443c7d5a4f8d85f"
      }
     },
     "43760133edc54e58ae2f8f8414975cea": {
      "model_module": "@jupyter-widgets/controls",
      "model_module_version": "1.4.0",
      "model_name": "HBoxModel",
      "state": {
       "children": [
        "IPY_MODEL_706bdcc81d5648c09198ae27abc79e70",
        "IPY_MODEL_83dba7a1b87749c996b1134c2c54715c"
       ],
       "layout": "IPY_MODEL_5769ed21f60b435f810ae0620d9a835f"
      }
     },
     "439730b4b96d4d37bd9d6de2d776c33c": {
      "model_module": "@jupyter-widgets/controls",
      "model_module_version": "1.4.0",
      "model_name": "ButtonStyleModel",
      "state": {}
     },
     "43f3b8014dc24b6792a3f6aa62ac2d02": {
      "model_module": "@jupyter-widgets/controls",
      "model_module_version": "1.4.0",
      "model_name": "VBoxModel",
      "state": {
       "children": [
        "IPY_MODEL_c43f54d5876446cd867f8d003de13a6e"
       ],
       "layout": "IPY_MODEL_c462d80abc9547cf929f112593980988"
      }
     },
     "4411573fec8b4df4bff3f5e79dadfd50": {
      "model_module": "@jupyter-widgets/controls",
      "model_module_version": "1.4.0",
      "model_name": "VBoxModel",
      "state": {
       "children": [
        "IPY_MODEL_aa51325fd38f494fb5d54f0f0acd307c"
       ],
       "layout": "IPY_MODEL_4f9e41c43a904440a9b95d7b441f78b9"
      }
     },
     "442cf7c762604f4292e019387b991d60": {
      "model_module": "@jupyter-widgets/controls",
      "model_module_version": "1.4.0",
      "model_name": "VBoxModel",
      "state": {
       "children": [
        "IPY_MODEL_f605799b77fb45cab74dbec6f25073de"
       ],
       "layout": "IPY_MODEL_aa5f596601eb468f91b56a0d0bc9179a"
      }
     },
     "44399d40d9304ec5b1e68ac7b7e8db2d": {
      "model_module": "@jupyter-widgets/base",
      "model_module_version": "1.1.0",
      "model_name": "LayoutModel",
      "state": {}
     },
     "44439a7ac4b8448585a5e654772f3a28": {
      "model_module": "@jupyter-widgets/base",
      "model_module_version": "1.1.0",
      "model_name": "LayoutModel",
      "state": {}
     },
     "4454ae662d8d48f79fe82161d666cdea": {
      "model_module": "@jupyter-widgets/controls",
      "model_module_version": "1.4.0",
      "model_name": "ButtonStyleModel",
      "state": {}
     },
     "44572303469e434fa2fff0eab8f74e68": {
      "model_module": "@jupyter-widgets/base",
      "model_module_version": "1.1.0",
      "model_name": "LayoutModel",
      "state": {
       "width": "30%"
      }
     },
     "44589ab4f9c14c23a4a1b17a8d645cc1": {
      "model_module": "@jupyter-widgets/controls",
      "model_module_version": "1.4.0",
      "model_name": "HBoxModel",
      "state": {
       "children": [
        "IPY_MODEL_e87ebd5f61ee420d9ef1c3c3b9a6abdd",
        "IPY_MODEL_6cf608e62013485e8a91bbaeaf2f2765",
        "IPY_MODEL_3f06e2f98d18495b9acd601cf3f4e169"
       ],
       "layout": "IPY_MODEL_249b0a489e7641d29fefa57c779e57d4"
      }
     },
     "44a2b80b202f49288b8ae0844359c755": {
      "model_module": "@jupyter-widgets/controls",
      "model_module_version": "1.4.0",
      "model_name": "DescriptionStyleModel",
      "state": {
       "description_width": "initial"
      }
     },
     "44d13e6a3836430ba32785461b68f1b3": {
      "model_module": "@jupyter-widgets/controls",
      "model_module_version": "1.4.0",
      "model_name": "ButtonStyleModel",
      "state": {}
     },
     "450a8f4f75b247019b4e08f99bb401a3": {
      "model_module": "@jupyter-widgets/base",
      "model_module_version": "1.1.0",
      "model_name": "LayoutModel",
      "state": {
       "width": "400px"
      }
     },
     "451f080a9979470d89f1067d321d5d5e": {
      "model_module": "@jupyter-widgets/controls",
      "model_module_version": "1.4.0",
      "model_name": "ProgressStyleModel",
      "state": {
       "description_width": "initial"
      }
     },
     "453aadba60534514bf836f62a873cfa6": {
      "model_module": "@jupyter-widgets/base",
      "model_module_version": "1.1.0",
      "model_name": "LayoutModel",
      "state": {}
     },
     "4550d77588174c8b94f5de7598922ce2": {
      "model_module": "@jupyter-widgets/controls",
      "model_module_version": "1.4.0",
      "model_name": "ButtonStyleModel",
      "state": {}
     },
     "4579f207b3534ae0857b4b276cf621fc": {
      "model_module": "@jupyter-widgets/base",
      "model_module_version": "1.1.0",
      "model_name": "LayoutModel",
      "state": {}
     },
     "45b97ba841ae4b77813d88fede96ca7a": {
      "model_module": "@jupyter-widgets/controls",
      "model_module_version": "1.4.0",
      "model_name": "VBoxModel",
      "state": {
       "children": [
        "IPY_MODEL_c99251d9320a4b029aafe4163a9331c2"
       ],
       "layout": "IPY_MODEL_029d75e9960f4d07aaf72aeafcb7d275"
      }
     },
     "45c05c6bb2e14c55a3d65429fde508c0": {
      "model_module": "@jupyter-widgets/controls",
      "model_module_version": "1.4.0",
      "model_name": "VBoxModel",
      "state": {
       "children": [
        "IPY_MODEL_9fc3d10736134f0687fef32f9c7638bb"
       ],
       "layout": "IPY_MODEL_07e56314e17c449ab61bb15a5db47634"
      }
     },
     "45f99bd1aad4425cbec22207429af8d9": {
      "model_module": "@jupyter-widgets/base",
      "model_module_version": "1.1.0",
      "model_name": "LayoutModel",
      "state": {}
     },
     "46362a471d774723818b9534cb86256e": {
      "model_module": "@jupyter-widgets/base",
      "model_module_version": "1.1.0",
      "model_name": "LayoutModel",
      "state": {}
     },
     "464b12aae835474faa1cd4c27b064e62": {
      "model_module": "@jupyter-widgets/base",
      "model_module_version": "1.1.0",
      "model_name": "LayoutModel",
      "state": {
       "width": "400px"
      }
     },
     "465bc6971a8e4212b4fc04c0398f07a8": {
      "model_module": "@jupyter-widgets/controls",
      "model_module_version": "1.4.0",
      "model_name": "SelectMultipleModel",
      "state": {
       "_options_labels": [
        "No",
        "Yes"
       ],
       "description": "Description",
       "index": [
        0
       ],
       "layout": "IPY_MODEL_bcf9cdab7c924a82a7aeac1d526c5165",
       "rows": 2,
       "style": "IPY_MODEL_066abc017b36405ebfdf22f8d061f2d7"
      }
     },
     "46677bd8c1be4e2e9571187cc0d31712": {
      "model_module": "@jupyter-widgets/controls",
      "model_module_version": "1.4.0",
      "model_name": "VBoxModel",
      "state": {
       "children": [
        "IPY_MODEL_d45c2164d441488e933a0b47d6567b8b"
       ],
       "layout": "IPY_MODEL_404b203f2209483291574c6b70c5b8c9"
      }
     },
     "46b3f5afb70d427e975bc5e41db04fa8": {
      "model_module": "@jupyter-widgets/controls",
      "model_module_version": "1.4.0",
      "model_name": "DescriptionStyleModel",
      "state": {
       "description_width": "initial"
      }
     },
     "46e65524c60b4e9d91534eb746915907": {
      "model_module": "@jupyter-widgets/base",
      "model_module_version": "1.1.0",
      "model_name": "LayoutModel",
      "state": {
       "width": "30%"
      }
     },
     "46e8b1feaf6345a29940b8b36d896bcf": {
      "model_module": "@jupyter-widgets/controls",
      "model_module_version": "1.4.0",
      "model_name": "SelectMultipleModel",
      "state": {
       "_options_labels": [
        "No",
        "Yes"
       ],
       "description": "Description",
       "index": [
        0,
        1
       ],
       "layout": "IPY_MODEL_a6318a1a39ea4723826d7d05d8cac313",
       "rows": 2,
       "style": "IPY_MODEL_606cdb70d60448c89ac2aa3c1d283a73"
      }
     },
     "4705152479114acd9053ba7231924c05": {
      "model_module": "@jupyter-widgets/controls",
      "model_module_version": "1.4.0",
      "model_name": "VBoxModel",
      "state": {
       "children": [
        "IPY_MODEL_a19c32162792415491aba390dbef743d"
       ],
       "layout": "IPY_MODEL_7f5afbe3035541378a9bb909589f288c"
      }
     },
     "470b14a2a96e4c78a0b581ec20b19131": {
      "model_module": "@jupyter-widgets/base",
      "model_module_version": "1.1.0",
      "model_name": "LayoutModel",
      "state": {
       "width": "20%"
      }
     },
     "470d9f058df84a1daa94c38ec716d962": {
      "model_module": "@jupyter-widgets/base",
      "model_module_version": "1.1.0",
      "model_name": "LayoutModel",
      "state": {}
     },
     "4773aec33e0b498bb7684f63e612262c": {
      "model_module": "@jupyter-widgets/controls",
      "model_module_version": "1.4.0",
      "model_name": "DescriptionStyleModel",
      "state": {
       "description_width": ""
      }
     },
     "477c28c444c844a9ba5ea64e0365d5a4": {
      "model_module": "@jupyter-widgets/controls",
      "model_module_version": "1.4.0",
      "model_name": "ButtonStyleModel",
      "state": {}
     },
     "47beca00f01e41ceae880e7c41cfeadb": {
      "model_module": "@jupyter-widgets/base",
      "model_module_version": "1.1.0",
      "model_name": "LayoutModel",
      "state": {}
     },
     "47f3bc48fd6949a49c9bc431fe71d1ed": {
      "model_module": "@jupyter-widgets/controls",
      "model_module_version": "1.4.0",
      "model_name": "VBoxModel",
      "state": {
       "children": [
        "IPY_MODEL_4077e52987a24108b735932fc5e0998f"
       ],
       "layout": "IPY_MODEL_d8b63eac71e749f4ad0481dda5a18fcd"
      }
     },
     "4807db10e0a94c78926726749d8195c0": {
      "model_module": "@jupyter-widgets/base",
      "model_module_version": "1.1.0",
      "model_name": "LayoutModel",
      "state": {
       "width": "30%"
      }
     },
     "4827f07116694afe8520bc17cb57897c": {
      "model_module": "@jupyter-widgets/base",
      "model_module_version": "1.1.0",
      "model_name": "LayoutModel",
      "state": {}
     },
     "482f410617a1480683b3d84b0d8dd72c": {
      "model_module": "@jupyter-widgets/base",
      "model_module_version": "1.1.0",
      "model_name": "LayoutModel",
      "state": {
       "width": "20%"
      }
     },
     "48c3298966d14aa0a3e45b8ab3cf6cb7": {
      "model_module": "@jupyter-widgets/controls",
      "model_module_version": "1.4.0",
      "model_name": "VBoxModel",
      "state": {
       "children": [
        "IPY_MODEL_c3578ea35da94028b6af4b245d9b0ab3"
       ],
       "layout": "IPY_MODEL_c88a43527a22464386edcbf6fa87682f"
      }
     },
     "491a220489fa4252ac9c9b8533a567ef": {
      "model_module": "@jupyter-widgets/base",
      "model_module_version": "1.1.0",
      "model_name": "LayoutModel",
      "state": {
       "width": "20%"
      }
     },
     "49a0b22f0c2b4293b51f21b055bc32bb": {
      "model_module": "@jupyter-widgets/controls",
      "model_module_version": "1.4.0",
      "model_name": "SelectMultipleModel",
      "state": {
       "_options_labels": [
        "VI produced, good quality",
        "VI produced, but check other QA",
        "Pixel produced, but most probably cloudy",
        "Pixel not produced due to other reasons than clouds"
       ],
       "description": "Description",
       "index": [
        0
       ],
       "layout": "IPY_MODEL_27cf21b124fd40c3988f837b27c70557",
       "rows": 4,
       "style": "IPY_MODEL_429141028ec84446a2ae9a64256609c8"
      }
     },
     "49ad328bf77940c6b3ab8866554b983f": {
      "model_module": "@jupyter-widgets/controls",
      "model_module_version": "1.4.0",
      "model_name": "ButtonModel",
      "state": {
       "description": "Select ALL",
       "layout": "IPY_MODEL_dd8545e0de8d43e6b469931e36bd6154",
       "style": "IPY_MODEL_d4a45b76983e41c6b7be47355d17fddf"
      }
     },
     "49bc17bfdea84301b6b95a06ebe96aa5": {
      "model_module": "@jupyter-widgets/base",
      "model_module_version": "1.1.0",
      "model_name": "LayoutModel",
      "state": {
       "height": "300px",
       "width": "99%"
      }
     },
     "49c9c258b2734cb2952ed13cd1a46594": {
      "model_module": "@jupyter-widgets/base",
      "model_module_version": "1.1.0",
      "model_name": "LayoutModel",
      "state": {}
     },
     "49e69b7701194554abbb4854640ecd2d": {
      "model_module": "@jupyter-widgets/controls",
      "model_module_version": "1.4.0",
      "model_name": "DescriptionStyleModel",
      "state": {
       "description_width": ""
      }
     },
     "49f4ac03e54d4a5787b2259f0364020e": {
      "model_module": "@jupyter-widgets/controls",
      "model_module_version": "1.4.0",
      "model_name": "VBoxModel",
      "state": {
       "children": [
        "IPY_MODEL_4c9ddbfe33314ca4bc6242dfacfd8f03"
       ],
       "layout": "IPY_MODEL_ec5cf9ba693c4063ba9c771d7d150c1e"
      }
     },
     "4a08bccdb94d43e6a99ad921977ad292": {
      "model_module": "@jupyter-widgets/base",
      "model_module_version": "1.1.0",
      "model_name": "LayoutModel",
      "state": {
       "width": "50%"
      }
     },
     "4a17b4d61f424fde972e6d4d3f258a9a": {
      "model_module": "@jupyter-widgets/base",
      "model_module_version": "1.1.0",
      "model_name": "LayoutModel",
      "state": {}
     },
     "4a64696e4f3246fda1cb57ea86986372": {
      "model_module": "@jupyter-widgets/controls",
      "model_module_version": "1.4.0",
      "model_name": "SelectModel",
      "state": {
       "_options_labels": [
        "MODLAND",
        "VI Usefulness",
        "Aerosol Quantity",
        "Adjacent cloud detected",
        "Atmosphere BRDF Correction",
        "Mixed Clouds",
        "Land/Water Mask",
        "Possible snow/ice",
        "Possible shadow"
       ],
       "description": "QA Parameter name:",
       "index": 0,
       "layout": "IPY_MODEL_0cfc670b52b2499788d6049a63b5c1fa",
       "rows": 9,
       "style": "IPY_MODEL_dda50d3d990b4fc39cd0527d0fd8ad8c"
      }
     },
     "4a6a2aa52c504b3a8b0bff70f01ec090": {
      "model_module": "@jupyter-widgets/controls",
      "model_module_version": "1.4.0",
      "model_name": "HBoxModel",
      "state": {
       "children": [
        "IPY_MODEL_ff5cb15920034bc49f1157ea962ab346",
        "IPY_MODEL_39b7bedef60d4fd99d01ec3ca07d234f"
       ],
       "layout": "IPY_MODEL_d682e0c67c5c4eb399d6cd1007e109c1"
      }
     },
     "4a7053c91cb34e9cb51e5187ea0789cb": {
      "model_module": "@jupyter-widgets/base",
      "model_module_version": "1.1.0",
      "model_name": "LayoutModel",
      "state": {
       "width": "20%"
      }
     },
     "4b08f128148e4564bbfff52764456642": {
      "model_module": "@jupyter-widgets/controls",
      "model_module_version": "1.4.0",
      "model_name": "SelectMultipleModel",
      "state": {
       "_options_labels": [
        "VI produced, good quality",
        "VI produced, but check other QA",
        "Pixel produced, but most probably cloudy",
        "Pixel not produced due to other reasons than clouds"
       ],
       "description": "Description",
       "index": [
        0
       ],
       "layout": "IPY_MODEL_d775570db50842b88d8ec58715eda83a",
       "rows": 4,
       "style": "IPY_MODEL_036ec536a4994008b8252cccf69eedb6"
      }
     },
     "4b1135e2471844748152c415d1bb47d1": {
      "model_module": "@jupyter-widgets/controls",
      "model_module_version": "1.4.0",
      "model_name": "ButtonStyleModel",
      "state": {}
     },
     "4b26135ef451485fad1ea6f912bfaeb9": {
      "model_module": "@jupyter-widgets/base",
      "model_module_version": "1.1.0",
      "model_name": "LayoutModel",
      "state": {}
     },
     "4b2b3188fca54bf5b000ec062f73549e": {
      "model_module": "@jupyter-widgets/base",
      "model_module_version": "1.1.0",
      "model_name": "LayoutModel",
      "state": {
       "width": "400px"
      }
     },
     "4b56a5e517f2478baf4b6cc7475d11bc": {
      "model_module": "@jupyter-widgets/controls",
      "model_module_version": "1.4.0",
      "model_name": "DescriptionStyleModel",
      "state": {
       "description_width": "initial"
      }
     },
     "4b801745bc5e4adbb294ccfc5ffb1062": {
      "model_module": "@jupyter-widgets/controls",
      "model_module_version": "1.4.0",
      "model_name": "HBoxModel",
      "state": {
       "children": [
        "IPY_MODEL_a931e7080c61496ba892de8e74d578c0",
        "IPY_MODEL_bff65775889a4b3e94fc1aacd17027b7"
       ],
       "layout": "IPY_MODEL_0ef4aafff3654812bd030f8abd45024b"
      }
     },
     "4bca563f4f4c4ba09a9d0abd33b75c68": {
      "model_module": "@jupyter-widgets/controls",
      "model_module_version": "1.4.0",
      "model_name": "DescriptionStyleModel",
      "state": {
       "description_width": "initial"
      }
     },
     "4bec6398b9c14549a59b720fc0d5ade5": {
      "model_module": "@jupyter-widgets/controls",
      "model_module_version": "1.4.0",
      "model_name": "ButtonStyleModel",
      "state": {}
     },
     "4bfcd34ef8924da689afaa2a25e348c2": {
      "model_module": "@jupyter-widgets/base",
      "model_module_version": "1.1.0",
      "model_name": "LayoutModel",
      "state": {}
     },
     "4c3cfeb448ba4387b258d1d784236924": {
      "model_module": "@jupyter-widgets/controls",
      "model_module_version": "1.4.0",
      "model_name": "SelectMultipleModel",
      "state": {
       "_options_labels": [
        "VI produced, good quality",
        "VI produced, but check other QA",
        "Pixel produced, but most probably cloudy",
        "Pixel not produced due to other reasons than clouds"
       ],
       "description": "Description",
       "index": [
        0
       ],
       "layout": "IPY_MODEL_28222368c77540849f9a0ac991025fc7",
       "rows": 4,
       "style": "IPY_MODEL_df67c2efcefb462f83e5f4ac72393475"
      }
     },
     "4c51d4fcfa014adaa9ce6b7b277e36d1": {
      "model_module": "@jupyter-widgets/controls",
      "model_module_version": "1.4.0",
      "model_name": "SelectMultipleModel",
      "state": {
       "_options_labels": [
        "VI produced, good quality",
        "VI produced, but check other QA",
        "Pixel produced, but most probably cloudy",
        "Pixel not produced due to other reasons than clouds"
       ],
       "description": "Description",
       "index": [
        0
       ],
       "layout": "IPY_MODEL_0c203d6ef98747acb55133e9dc3ca8d8",
       "rows": 4,
       "style": "IPY_MODEL_68e3939f9cba42459e06e4e3101d3cc1"
      }
     },
     "4c57cc20e9b342c08544a9b919b3fdec": {
      "model_module": "@jupyter-widgets/base",
      "model_module_version": "1.1.0",
      "model_name": "LayoutModel",
      "state": {
       "height": "300px",
       "width": "99%"
      }
     },
     "4c72624f76ca45c8b6462089ada40259": {
      "model_module": "@jupyter-widgets/controls",
      "model_module_version": "1.4.0",
      "model_name": "SelectModel",
      "state": {
       "_options_labels": [
        "MODLAND",
        "VI Usefulness",
        "Aerosol Quantity",
        "Adjacent cloud detected",
        "Atmosphere BRDF Correction",
        "Mixed Clouds",
        "Land/Water Mask",
        "Possible snow/ice",
        "Possible shadow"
       ],
       "description": "QA Parameter name:",
       "index": 0,
       "layout": "IPY_MODEL_df339e73ce634f0682edcbf2f47e31c0",
       "rows": 9,
       "style": "IPY_MODEL_9891e4888b9a469bb943cafb884892d5"
      }
     },
     "4c9ddbfe33314ca4bc6242dfacfd8f03": {
      "model_module": "@jupyter-widgets/controls",
      "model_module_version": "1.4.0",
      "model_name": "SelectMultipleModel",
      "state": {
       "_options_labels": [
        "VI produced, good quality",
        "VI produced, but check other QA",
        "Pixel produced, but most probably cloudy",
        "Pixel not produced due to other reasons than clouds"
       ],
       "description": "Description",
       "index": [
        0
       ],
       "layout": "IPY_MODEL_5afdc1d110cb45699234215ac916ea59",
       "rows": 4,
       "style": "IPY_MODEL_e7b6e98612994d08bfaf7cf80d82482c"
      }
     },
     "4cd2445bdec545bfb2107ad9df51eec2": {
      "model_module": "@jupyter-widgets/base",
      "model_module_version": "1.1.0",
      "model_name": "LayoutModel",
      "state": {
       "width": "50%"
      }
     },
     "4d0520158e8c4a3aa7b3c3b8562e3f26": {
      "model_module": "@jupyter-widgets/controls",
      "model_module_version": "1.4.0",
      "model_name": "SelectModel",
      "state": {
       "_options_labels": [
        "MODLAND",
        "VI Usefulness",
        "Aerosol Quantity",
        "Adjacent cloud detected",
        "Atmosphere BRDF Correction",
        "Mixed Clouds",
        "Land/Water Mask",
        "Possible snow/ice",
        "Possible shadow"
       ],
       "description": "QA Parameter name:",
       "index": 0,
       "layout": "IPY_MODEL_42ff0711bb4c4287a99696cf4e22e768",
       "rows": 9,
       "style": "IPY_MODEL_5d843a44bebc421cac8a4c50bd13c2a6"
      }
     },
     "4d08613da8314ca2a6bfaef9becc7a8b": {
      "model_module": "@jupyter-widgets/base",
      "model_module_version": "1.1.0",
      "model_name": "LayoutModel",
      "state": {}
     },
     "4d17a2e6a10e48bfb68b376e7e008844": {
      "model_module": "@jupyter-widgets/controls",
      "model_module_version": "1.4.0",
      "model_name": "ButtonStyleModel",
      "state": {}
     },
     "4d29ee000be942809c32a9313addfea2": {
      "model_module": "@jupyter-widgets/base",
      "model_module_version": "1.1.0",
      "model_name": "LayoutModel",
      "state": {
       "width": "400px"
      }
     },
     "4d7f4842c0524e07976c42fe4839f985": {
      "model_module": "@jupyter-widgets/controls",
      "model_module_version": "1.4.0",
      "model_name": "HBoxModel",
      "state": {
       "children": [
        "IPY_MODEL_50b289771ff3476480e1f470e0ac7d1b",
        "IPY_MODEL_2c66ba0adb034a08b33ca35b6ee5a142",
        "IPY_MODEL_d6a8f0b622744e3a8fd021b5e0d941b6"
       ],
       "layout": "IPY_MODEL_a808d02e81614d80a0492b2ebf77b2fd"
      }
     },
     "4d8f3831f3e340fa9d29910da752b97d": {
      "model_module": "@jupyter-widgets/base",
      "model_module_version": "1.1.0",
      "model_name": "LayoutModel",
      "state": {
       "height": "200px",
       "width": "99%"
      }
     },
     "4daf4afcab8946609bcf6f161619d363": {
      "model_module": "@jupyter-widgets/controls",
      "model_module_version": "1.4.0",
      "model_name": "SelectModel",
      "state": {
       "_options_labels": [
        "MODLAND",
        "VI Usefulness",
        "Aerosol Quantity",
        "Adjacent cloud detected",
        "Atmosphere BRDF Correction",
        "Mixed Clouds",
        "Land/Water Mask",
        "Possible snow/ice",
        "Possible shadow"
       ],
       "description": "QA Parameter name:",
       "index": 0,
       "layout": "IPY_MODEL_929457be0ec5433ea9aa52201dd5dde6",
       "rows": 9,
       "style": "IPY_MODEL_f160077f7087419ca8e9cc192ea853c9"
      }
     },
     "4dba8375cb064b1da6bbfcd0b4198088": {
      "model_module": "@jupyter-widgets/controls",
      "model_module_version": "1.4.0",
      "model_name": "DescriptionStyleModel",
      "state": {
       "description_width": "initial"
      }
     },
     "4dbf41bc9a274fdea6fe4ae8b5fc9f8c": {
      "model_module": "@jupyter-widgets/controls",
      "model_module_version": "1.4.0",
      "model_name": "HTMLModel",
      "state": {
       "description": "QA layer:",
       "layout": "IPY_MODEL_8f6898f517db41c89ee542643045baed",
       "style": "IPY_MODEL_e55a20e23f0b47c681c28c2de5b4d609",
       "value": "<b>_1_km_16_days_pixel_reliability</b>"
      }
     },
     "4dc03e0ffe8140a8b0a9e0efc94ae836": {
      "model_module": "@jupyter-widgets/base",
      "model_module_version": "1.1.0",
      "model_name": "LayoutModel",
      "state": {}
     },
     "4dfb4f7131384f628aecfbb89df53beb": {
      "model_module": "@jupyter-widgets/controls",
      "model_module_version": "1.4.0",
      "model_name": "ProgressStyleModel",
      "state": {
       "description_width": "initial"
      }
     },
     "4e502768f9fe4f33bf410f839386b5f2": {
      "model_module": "@jupyter-widgets/controls",
      "model_module_version": "1.4.0",
      "model_name": "HBoxModel",
      "state": {
       "children": [
        "IPY_MODEL_c867f1eb865243a0aa16481de05d39f3",
        "IPY_MODEL_fdbecdb5c6c941b79f6a6ba127f7f4cf"
       ],
       "layout": "IPY_MODEL_72f75701f6c9430db9017d3435ab851e"
      }
     },
     "4e7817c293744bdba6ae99eb7e8dcc15": {
      "model_module": "@jupyter-widgets/base",
      "model_module_version": "1.1.0",
      "model_name": "LayoutModel",
      "state": {
       "width": "50%"
      }
     },
     "4eb68b496f1142a580f4dd0a53b6e184": {
      "model_module": "@jupyter-widgets/controls",
      "model_module_version": "1.4.0",
      "model_name": "ButtonStyleModel",
      "state": {}
     },
     "4ecefa34d214417faf4a269a4e0d7610": {
      "model_module": "@jupyter-widgets/controls",
      "model_module_version": "1.4.0",
      "model_name": "DescriptionStyleModel",
      "state": {
       "description_width": ""
      }
     },
     "4ee2cca749ef4b4b8c8fd4f946c91cd1": {
      "model_module": "@jupyter-widgets/base",
      "model_module_version": "1.1.0",
      "model_name": "LayoutModel",
      "state": {
       "width": "400px"
      }
     },
     "4ee4fa227f87439ebb7219b1e94873bb": {
      "model_module": "@jupyter-widgets/controls",
      "model_module_version": "1.4.0",
      "model_name": "DescriptionStyleModel",
      "state": {
       "description_width": ""
      }
     },
     "4f9e41c43a904440a9b95d7b441f78b9": {
      "model_module": "@jupyter-widgets/base",
      "model_module_version": "1.1.0",
      "model_name": "LayoutModel",
      "state": {}
     },
     "4fd15934f23a45a5a193c4bb3617e9c5": {
      "model_module": "@jupyter-widgets/base",
      "model_module_version": "1.1.0",
      "model_name": "LayoutModel",
      "state": {
       "width": "20%"
      }
     },
     "50038abcc552438cb69a324e48a81e1a": {
      "model_module": "@jupyter-widgets/base",
      "model_module_version": "1.1.0",
      "model_name": "LayoutModel",
      "state": {
       "width": "400px"
      }
     },
     "500dfab5039e449f8860d4514afdf8db": {
      "model_module": "@jupyter-widgets/controls",
      "model_module_version": "1.4.0",
      "model_name": "HBoxModel",
      "state": {
       "children": [
        "IPY_MODEL_163f622fee8d48f3bd16c2e5c6a4b75a",
        "IPY_MODEL_a4ea8d1f73894de78985d31cc28fcd2c",
        "IPY_MODEL_f5f4b4975aaa4fef848d595c0c0acb28"
       ],
       "layout": "IPY_MODEL_319eedc4e2bf4903b06bf630c7e4eafc"
      }
     },
     "5022a4c6335f4c2c955ed66da52f7d84": {
      "model_module": "@jupyter-widgets/controls",
      "model_module_version": "1.4.0",
      "model_name": "ButtonStyleModel",
      "state": {}
     },
     "505cf8403f9144858f40b3293ccf5f31": {
      "model_module": "@jupyter-widgets/base",
      "model_module_version": "1.1.0",
      "model_name": "LayoutModel",
      "state": {
       "width": "99%"
      }
     },
     "50671e0b3bd040b49423324b1e482fa1": {
      "model_module": "@jupyter-widgets/controls",
      "model_module_version": "1.4.0",
      "model_name": "DescriptionStyleModel",
      "state": {
       "description_width": "initial"
      }
     },
     "507fdbfb168d479eb022eb7bb5990a68": {
      "model_module": "@jupyter-widgets/controls",
      "model_module_version": "1.4.0",
      "model_name": "ButtonStyleModel",
      "state": {}
     },
     "509685375b3a4123ae943eb9bf4fa271": {
      "model_module": "@jupyter-widgets/base",
      "model_module_version": "1.1.0",
      "model_name": "LayoutModel",
      "state": {
       "width": "20%"
      }
     },
     "50b289771ff3476480e1f470e0ac7d1b": {
      "model_module": "@jupyter-widgets/controls",
      "model_module_version": "1.4.0",
      "model_name": "ButtonModel",
      "state": {
       "description": "Select ALL",
       "layout": "IPY_MODEL_72f622fb4ff947868f732c3d8948a443",
       "style": "IPY_MODEL_b4d5f6395c1842be9f8c374dbc7b0ed9"
      }
     },
     "5108165f32c34fdca39e2885816f5fc4": {
      "model_module": "@jupyter-widgets/controls",
      "model_module_version": "1.4.0",
      "model_name": "ButtonModel",
      "state": {
       "description": "Select ALL",
       "layout": "IPY_MODEL_14ef014eb3cd4694a03fa7d15daf71b5",
       "style": "IPY_MODEL_3bc78b05ea2c4fb0be71cce557305797"
      }
     },
     "5144c169910046bb9df46d7f1052f66e": {
      "model_module": "@jupyter-widgets/base",
      "model_module_version": "1.1.0",
      "model_name": "LayoutModel",
      "state": {}
     },
     "514d3f03ec2940edbf88f9d421cd4dd8": {
      "model_module": "@jupyter-widgets/controls",
      "model_module_version": "1.4.0",
      "model_name": "ButtonStyleModel",
      "state": {}
     },
     "516979254a17412ca5145113d05ab761": {
      "model_module": "@jupyter-widgets/base",
      "model_module_version": "1.1.0",
      "model_name": "LayoutModel",
      "state": {
       "width": "400px"
      }
     },
     "516bfc73f02748ab896814504190efa2": {
      "model_module": "@jupyter-widgets/controls",
      "model_module_version": "1.4.0",
      "model_name": "DescriptionStyleModel",
      "state": {
       "description_width": "initial"
      }
     },
     "5190b9adf1d04458a12a0223179c0cb8": {
      "model_module": "@jupyter-widgets/controls",
      "model_module_version": "1.4.0",
      "model_name": "DescriptionStyleModel",
      "state": {
       "description_width": ""
      }
     },
     "5196a405dbe6411b94bf3aba5ecf8ea9": {
      "model_module": "@jupyter-widgets/controls",
      "model_module_version": "1.4.0",
      "model_name": "HBoxModel",
      "state": {
       "children": [
        "IPY_MODEL_9ecba8087d934f27a0e0e54088cb7994",
        "IPY_MODEL_a853e8555bde4b73a7d7de6ba4513c37"
       ],
       "layout": "IPY_MODEL_49bc17bfdea84301b6b95a06ebe96aa5"
      }
     },
     "51998ac275bd4c66b31a54b9e0d0fbdf": {
      "model_module": "@jupyter-widgets/controls",
      "model_module_version": "1.4.0",
      "model_name": "VBoxModel",
      "state": {
       "children": [
        "IPY_MODEL_f2525a3280ab42f88beed30e611f91ce"
       ],
       "layout": "IPY_MODEL_543652cb537e44efa862d5ec1fc84ad9"
      }
     },
     "51ccda3694e346849b7f74a12796592b": {
      "model_module": "@jupyter-widgets/base",
      "model_module_version": "1.1.0",
      "model_name": "LayoutModel",
      "state": {}
     },
     "5214de4edc8942ebbf09caec6dc6871d": {
      "model_module": "@jupyter-widgets/controls",
      "model_module_version": "1.4.0",
      "model_name": "DescriptionStyleModel",
      "state": {
       "description_width": "initial"
      }
     },
     "5229d45b172e4dd481e9006d3803ff76": {
      "model_module": "@jupyter-widgets/base",
      "model_module_version": "1.1.0",
      "model_name": "LayoutModel",
      "state": {
       "width": "50%"
      }
     },
     "52306438c469461a8371230d65c6fcf5": {
      "model_module": "@jupyter-widgets/controls",
      "model_module_version": "1.4.0",
      "model_name": "HBoxModel",
      "state": {
       "children": [
        "IPY_MODEL_58c8aa31b8594da2999a8a2390d296d1",
        "IPY_MODEL_be50aaa13ad44bc1a6bc1ae70c9a94d4"
       ],
       "layout": "IPY_MODEL_2d7d283c7a9a43de9e20047eea12c715"
      }
     },
     "526bd6286a564fd9a418472b5835134d": {
      "model_module": "@jupyter-widgets/base",
      "model_module_version": "1.1.0",
      "model_name": "LayoutModel",
      "state": {}
     },
     "52a4c41d36ff49649083b18eb2d5f596": {
      "model_module": "@jupyter-widgets/controls",
      "model_module_version": "1.4.0",
      "model_name": "ProgressStyleModel",
      "state": {
       "description_width": "initial"
      }
     },
     "52be89f04ec3470da7e5e25fcd128a47": {
      "model_module": "@jupyter-widgets/base",
      "model_module_version": "1.1.0",
      "model_name": "LayoutModel",
      "state": {
       "width": "20%"
      }
     },
     "5303ad3fba83404f89b0e294bd17eccb": {
      "model_module": "@jupyter-widgets/base",
      "model_module_version": "1.1.0",
      "model_name": "LayoutModel",
      "state": {}
     },
     "533710720958450f9f06970d32d8b522": {
      "model_module": "@jupyter-widgets/controls",
      "model_module_version": "1.4.0",
      "model_name": "SelectModel",
      "state": {
       "_options_labels": [
        "MODLAND",
        "VI Usefulness",
        "Aerosol Quantity",
        "Adjacent cloud detected",
        "Atmosphere BRDF Correction",
        "Mixed Clouds",
        "Land/Water Mask",
        "Possible snow/ice",
        "Possible shadow"
       ],
       "description": "QA Parameter name:",
       "index": 8,
       "layout": "IPY_MODEL_cb0e49b84dd14b64b13ce8e217243717",
       "rows": 9,
       "style": "IPY_MODEL_d4df2e7de5ce4e04a54ff943f52187b3"
      }
     },
     "53702125c8e54d37b3944fc945ed0569": {
      "model_module": "@jupyter-widgets/controls",
      "model_module_version": "1.4.0",
      "model_name": "ButtonModel",
      "state": {
       "description": "Select ALL",
       "layout": "IPY_MODEL_295a6c50dbb141a287fc6f1390e4bc04",
       "style": "IPY_MODEL_53d9a6d05a1049309276720bb7fc9d7e"
      }
     },
     "5392920cccf4413ea27742cff19719b8": {
      "model_module": "@jupyter-widgets/controls",
      "model_module_version": "1.4.0",
      "model_name": "HTMLModel",
      "state": {
       "description": "QA layer:",
       "layout": "IPY_MODEL_fcf84d9eef464a71b35f15c4af8e37e5",
       "style": "IPY_MODEL_dda17bd7d46a4faf89875b5b9f634c95",
       "value": "<b>_1_km_16_days_VI_Quality</b>"
      }
     },
     "53b500286d7d41b29f672f0a77776658": {
      "model_module": "@jupyter-widgets/controls",
      "model_module_version": "1.4.0",
      "model_name": "ButtonModel",
      "state": {
       "description": "Default selection",
       "layout": "IPY_MODEL_bc0825599f3a4a1cbb032bc295239381",
       "style": "IPY_MODEL_be4ccb72df7e417687b1008eb8047133"
      }
     },
     "53c394994fb6413590d0a55c22a3fbd7": {
      "model_module": "@jupyter-widgets/controls",
      "model_module_version": "1.4.0",
      "model_name": "ButtonModel",
      "state": {
       "description": "Select ALL",
       "layout": "IPY_MODEL_222d24536c2b4de9b08b437f6e3a8768",
       "style": "IPY_MODEL_3954c909bf2b46e29c2e863728ceca52"
      }
     },
     "53c4f94f449141ecb32e8b4f502610e4": {
      "model_module": "@jupyter-widgets/base",
      "model_module_version": "1.1.0",
      "model_name": "LayoutModel",
      "state": {
       "width": "20%"
      }
     },
     "53d0a539716e4cb5b81e68089a405718": {
      "model_module": "@jupyter-widgets/base",
      "model_module_version": "1.1.0",
      "model_name": "LayoutModel",
      "state": {
       "height": "300px",
       "width": "99%"
      }
     },
     "53d9a6d05a1049309276720bb7fc9d7e": {
      "model_module": "@jupyter-widgets/controls",
      "model_module_version": "1.4.0",
      "model_name": "ButtonStyleModel",
      "state": {}
     },
     "542fcd0acd664e7d8d59f219ad5ad20c": {
      "model_module": "@jupyter-widgets/controls",
      "model_module_version": "1.4.0",
      "model_name": "SelectMultipleModel",
      "state": {
       "_options_labels": [
        "VI produced, good quality",
        "VI produced, but check other QA",
        "Pixel produced, but most probably cloudy",
        "Pixel not produced due to other reasons than clouds"
       ],
       "description": "Description",
       "index": [
        0
       ],
       "layout": "IPY_MODEL_157ad0ce64ab488389736479595a6dbb",
       "rows": 4,
       "style": "IPY_MODEL_4bca563f4f4c4ba09a9d0abd33b75c68"
      }
     },
     "543652cb537e44efa862d5ec1fc84ad9": {
      "model_module": "@jupyter-widgets/base",
      "model_module_version": "1.1.0",
      "model_name": "LayoutModel",
      "state": {}
     },
     "5479ac423afb4ac4b4b6e5baa73c83a2": {
      "model_module": "@jupyter-widgets/controls",
      "model_module_version": "1.4.0",
      "model_name": "VBoxModel",
      "state": {
       "children": [
        "IPY_MODEL_ad6fa6f1d81c45a2b1c85dd69807dc7b"
       ],
       "layout": "IPY_MODEL_1248ab1901c047eb9d926a1f0db6ed3c"
      }
     },
     "54c2f70c01d64fb69813df8c2fa446dd": {
      "model_module": "@jupyter-widgets/controls",
      "model_module_version": "1.4.0",
      "model_name": "DescriptionStyleModel",
      "state": {
       "description_width": ""
      }
     },
     "551a83dd3fe448ff915fb5bd9a3b5b51": {
      "model_module": "@jupyter-widgets/base",
      "model_module_version": "1.1.0",
      "model_name": "LayoutModel",
      "state": {
       "width": "400px"
      }
     },
     "551c8e36b16a45c3b98457b42bc31188": {
      "model_module": "@jupyter-widgets/controls",
      "model_module_version": "1.4.0",
      "model_name": "HBoxModel",
      "state": {
       "children": [
        "IPY_MODEL_8e15ca759fe74b61a975c190ae741c2d",
        "IPY_MODEL_eccac62a53e7469e89798cef481ea2b4",
        "IPY_MODEL_5ceb4b181d8d4a69b59b30b7a6423590"
       ],
       "layout": "IPY_MODEL_ca31844d6f1f4bb281e9511d6aede538"
      }
     },
     "55241db938be408cb3af63a4c0b3f1da": {
      "model_module": "@jupyter-widgets/base",
      "model_module_version": "1.1.0",
      "model_name": "LayoutModel",
      "state": {
       "width": "20%"
      }
     },
     "55427b0f7e74415cbb33735a878112b0": {
      "model_module": "@jupyter-widgets/base",
      "model_module_version": "1.1.0",
      "model_name": "LayoutModel",
      "state": {
       "width": "20%"
      }
     },
     "556556c154074e1c9f14b373b8c7b8c4": {
      "model_module": "@jupyter-widgets/controls",
      "model_module_version": "1.4.0",
      "model_name": "ButtonStyleModel",
      "state": {}
     },
     "556fdd7872cc42aa9ed7c74655aef5c5": {
      "model_module": "@jupyter-widgets/controls",
      "model_module_version": "1.4.0",
      "model_name": "ButtonModel",
      "state": {
       "description": "Select ALL",
       "layout": "IPY_MODEL_6ca5d921ca51446a83146600b227881f",
       "style": "IPY_MODEL_8c0b122bff644e2aa01d3d4f440660df"
      }
     },
     "55e252cd54bf435787b7a6961d4eb70b": {
      "model_module": "@jupyter-widgets/controls",
      "model_module_version": "1.4.0",
      "model_name": "SelectModel",
      "state": {
       "_options_labels": [
        "MODLAND",
        "VI Usefulness",
        "Aerosol Quantity",
        "Adjacent cloud detected",
        "Atmosphere BRDF Correction",
        "Mixed Clouds",
        "Land/Water Mask",
        "Possible snow/ice",
        "Possible shadow"
       ],
       "description": "QA Parameter name:",
       "index": 0,
       "layout": "IPY_MODEL_68dd5ffd107f416799fd0400f89d9533",
       "rows": 9,
       "style": "IPY_MODEL_151a9f1994424c52bd8e3b8857d4c5b3"
      }
     },
     "55e3689d62f34e6aa8c8bdc54d866fbe": {
      "model_module": "@jupyter-widgets/base",
      "model_module_version": "1.1.0",
      "model_name": "LayoutModel",
      "state": {}
     },
     "560f6461af364b9bbe299dda4710bda7": {
      "model_module": "@jupyter-widgets/controls",
      "model_module_version": "1.4.0",
      "model_name": "HBoxModel",
      "state": {
       "children": [
        "IPY_MODEL_fab1431e98fa4858801ae82f34101422",
        "IPY_MODEL_77d59c88146448a3bbdb8d197ad87a3d",
        "IPY_MODEL_0dcd2b87b4b144a9b4a63eb2efc2cee7",
        "IPY_MODEL_c99a1c8cf1ee418daa018e71510571c8"
       ],
       "layout": "IPY_MODEL_9618e3481d51475aa61c28533b709608"
      }
     },
     "5623fe92e7f348578d69ed867050a557": {
      "model_module": "@jupyter-widgets/controls",
      "model_module_version": "1.4.0",
      "model_name": "HBoxModel",
      "state": {
       "children": [
        "IPY_MODEL_657b0aa2f9d543ea80fd5d8d24bf671d",
        "IPY_MODEL_1f9160e0f2184a09aeb42fe1190ebfd3"
       ],
       "layout": "IPY_MODEL_e8e583fda1f44512bbd8dd95af9eacea"
      }
     },
     "562cedd210bd418cb954c4f84a36403c": {
      "model_module": "@jupyter-widgets/controls",
      "model_module_version": "1.4.0",
      "model_name": "ButtonStyleModel",
      "state": {}
     },
     "562d7240874341a7b54357e9c462ea4f": {
      "model_module": "@jupyter-widgets/controls",
      "model_module_version": "1.4.0",
      "model_name": "SelectMultipleModel",
      "state": {
       "_options_labels": [
        "VI produced, good quality",
        "VI produced, but check other QA",
        "Pixel produced, but most probably cloudy",
        "Pixel not produced due to other reasons than clouds"
       ],
       "description": "Description",
       "index": [
        0
       ],
       "layout": "IPY_MODEL_c92c8be87197426db2de16b86eef0104",
       "rows": 4,
       "style": "IPY_MODEL_e4ffb4de4d7e4fdcaa5c674888d3a612"
      }
     },
     "56aaeccfa6fd4fac9f2ec02ae83a5b21": {
      "model_module": "@jupyter-widgets/base",
      "model_module_version": "1.1.0",
      "model_name": "LayoutModel",
      "state": {
       "width": "350px"
      }
     },
     "56aaf97579424a94b587906476a101e1": {
      "model_module": "@jupyter-widgets/controls",
      "model_module_version": "1.4.0",
      "model_name": "VBoxModel",
      "state": {
       "children": [
        "IPY_MODEL_f71e3ab779594e4ab58d524d3e33fed1"
       ],
       "layout": "IPY_MODEL_b204f4dac7774b1cb3bef7c73d22294f"
      }
     },
     "56fa71f71c7d4fc0a12dbd3c81e162bc": {
      "model_module": "@jupyter-widgets/base",
      "model_module_version": "1.1.0",
      "model_name": "LayoutModel",
      "state": {}
     },
     "5700af2538844a6fb304d9fedcfa6949": {
      "model_module": "@jupyter-widgets/base",
      "model_module_version": "1.1.0",
      "model_name": "LayoutModel",
      "state": {
       "width": "20%"
      }
     },
     "570631ef64d34985aa4419e0e56b633e": {
      "model_module": "@jupyter-widgets/base",
      "model_module_version": "1.1.0",
      "model_name": "LayoutModel",
      "state": {
       "height": "300px",
       "width": "99%"
      }
     },
     "5716f2f99761400a8f11999439ffc8a7": {
      "model_module": "@jupyter-widgets/controls",
      "model_module_version": "1.4.0",
      "model_name": "ButtonStyleModel",
      "state": {}
     },
     "5769ed21f60b435f810ae0620d9a835f": {
      "model_module": "@jupyter-widgets/base",
      "model_module_version": "1.1.0",
      "model_name": "LayoutModel",
      "state": {
       "height": "300px",
       "width": "99%"
      }
     },
     "577340d6d0124ce8a7c619baf5550b33": {
      "model_module": "@jupyter-widgets/base",
      "model_module_version": "1.1.0",
      "model_name": "LayoutModel",
      "state": {
       "width": "20%"
      }
     },
     "57a4a7d8226a4287ade78b4f4b2baef1": {
      "model_module": "@jupyter-widgets/controls",
      "model_module_version": "1.4.0",
      "model_name": "VBoxModel",
      "state": {
       "children": [
        "IPY_MODEL_26d58705abb2428ea90969620b2a14ff"
       ],
       "layout": "IPY_MODEL_fe76640adfe647829a3db4d5d132e8b2"
      }
     },
     "57d7809918cb483eab4b01d89893ddb8": {
      "model_module": "@jupyter-widgets/base",
      "model_module_version": "1.1.0",
      "model_name": "LayoutModel",
      "state": {
       "width": "20%"
      }
     },
     "57f2ad859171475b84b70bb3b9c76838": {
      "model_module": "@jupyter-widgets/base",
      "model_module_version": "1.1.0",
      "model_name": "LayoutModel",
      "state": {}
     },
     "5802b974aa7a4068b97fd846d6814365": {
      "model_module": "@jupyter-widgets/controls",
      "model_module_version": "1.4.0",
      "model_name": "HBoxModel",
      "state": {
       "children": [
        "IPY_MODEL_62c49a1595cf4d208d65857366367830",
        "IPY_MODEL_fdaf36beaf564780b2c485e06b493db9"
       ],
       "layout": "IPY_MODEL_60942433b8a643d1839306073d85803d"
      }
     },
     "5803a4bccd5946a4a3d10a20a8da6d84": {
      "model_module": "@jupyter-widgets/base",
      "model_module_version": "1.1.0",
      "model_name": "LayoutModel",
      "state": {
       "width": "20%"
      }
     },
     "5814e99877f0413ea3a16f5be9efdd4a": {
      "model_module": "@jupyter-widgets/controls",
      "model_module_version": "1.4.0",
      "model_name": "SelectMultipleModel",
      "state": {
       "_options_labels": [
        "VI produced, good quality",
        "VI produced, but check other QA",
        "Pixel produced, but most probably cloudy",
        "Pixel not produced due to other reasons than clouds"
       ],
       "description": "Description",
       "index": [
        0
       ],
       "layout": "IPY_MODEL_79914e40cc1f4cacace01989fff78427",
       "rows": 4,
       "style": "IPY_MODEL_1f1c0f5ef49f4ec288bf05812aae3643"
      }
     },
     "5846c63ea3be45c48f3b86d15d1038dc": {
      "model_module": "@jupyter-widgets/controls",
      "model_module_version": "1.4.0",
      "model_name": "SelectModel",
      "state": {
       "_options_labels": [
        "MODLAND",
        "VI Usefulness",
        "Aerosol Quantity",
        "Adjacent cloud detected",
        "Atmosphere BRDF Correction",
        "Mixed Clouds",
        "Land/Water Mask",
        "Possible snow/ice",
        "Possible shadow"
       ],
       "description": "QA Parameter name:",
       "index": 0,
       "layout": "IPY_MODEL_6359783a01e14d12b768a91d54901b86",
       "rows": 9,
       "style": "IPY_MODEL_3247faf3a5804705ac0203819db802fc"
      }
     },
     "584c1e8f059947299210b5fdec6d287d": {
      "model_module": "@jupyter-widgets/controls",
      "model_module_version": "1.4.0",
      "model_name": "ButtonModel",
      "state": {
       "description": "Default selection",
       "layout": "IPY_MODEL_217132024abd40cd9621fbffae20bcbc",
       "style": "IPY_MODEL_c0d069e653e048eb9b8df2d15572a863"
      }
     },
     "586bb5fe232b460abe6315916a388e21": {
      "model_module": "@jupyter-widgets/base",
      "model_module_version": "1.1.0",
      "model_name": "LayoutModel",
      "state": {}
     },
     "58c569f2c8f54bd7b5dcbb4a5fc45ac3": {
      "model_module": "@jupyter-widgets/controls",
      "model_module_version": "1.4.0",
      "model_name": "HTMLModel",
      "state": {
       "description": "QA layer:",
       "layout": "IPY_MODEL_3de2d77639524ec480d49fcbfb3eff11",
       "style": "IPY_MODEL_f1d77d6b0c9542e2991632dcef174c63",
       "value": "<b>_1_km_16_days_VI_Quality</b>"
      }
     },
     "58c8aa31b8594da2999a8a2390d296d1": {
      "model_module": "@jupyter-widgets/controls",
      "model_module_version": "1.4.0",
      "model_name": "VBoxModel",
      "state": {
       "children": [
        "IPY_MODEL_8f9e361fef19417196b632b847cafca5"
       ],
       "layout": "IPY_MODEL_4a17b4d61f424fde972e6d4d3f258a9a"
      }
     },
     "58ca972e2d9344509cd6ff4d098664a9": {
      "model_module": "@jupyter-widgets/controls",
      "model_module_version": "1.4.0",
      "model_name": "DescriptionStyleModel",
      "state": {
       "description_width": ""
      }
     },
     "58d3c736fcbe412baf36bcfc50e57187": {
      "model_module": "@jupyter-widgets/controls",
      "model_module_version": "1.4.0",
      "model_name": "SelectMultipleModel",
      "state": {
       "_options_labels": [
        "VI produced, good quality",
        "VI produced, but check other QA",
        "Pixel produced, but most probably cloudy",
        "Pixel not produced due to other reasons than clouds"
       ],
       "description": "Description",
       "index": [
        0
       ],
       "layout": "IPY_MODEL_aa5fd3f8d342424c961f266838c2de4d",
       "rows": 4,
       "style": "IPY_MODEL_64fb3c3aa3144d99bab4d8642008c83c"
      }
     },
     "58e185423b094877b2bec8ab4fae0073": {
      "model_module": "@jupyter-widgets/base",
      "model_module_version": "1.1.0",
      "model_name": "LayoutModel",
      "state": {
       "height": "350px",
       "width": "99%"
      }
     },
     "58e4f92e80ce4cbdb1d57c334d4a6b21": {
      "model_module": "@jupyter-widgets/controls",
      "model_module_version": "1.4.0",
      "model_name": "SelectMultipleModel",
      "state": {
       "_options_labels": [
        "VI produced, good quality",
        "VI produced, but check other QA",
        "Pixel produced, but most probably cloudy",
        "Pixel not produced due to other reasons than clouds"
       ],
       "description": "Description",
       "index": [
        0
       ],
       "layout": "IPY_MODEL_e8fc7f1f018542b082928fdc5a7e57e6",
       "rows": 4,
       "style": "IPY_MODEL_f5f5155fb7f240dab1d801aaa9bf3bc6"
      }
     },
     "58e63a2336874e379b4826ba722acfb7": {
      "model_module": "@jupyter-widgets/controls",
      "model_module_version": "1.4.0",
      "model_name": "HBoxModel",
      "state": {
       "children": [
        "IPY_MODEL_d8cdf810f7914100857fa2db26db29bd",
        "IPY_MODEL_417a7c9aa41b419396c2ed473a64bf86",
        "IPY_MODEL_7936c81920e149d6829cfd93e6bee621"
       ],
       "layout": "IPY_MODEL_44399d40d9304ec5b1e68ac7b7e8db2d"
      }
     },
     "590dd1f2e9454af6ae8c5e114c808d35": {
      "model_module": "@jupyter-widgets/controls",
      "model_module_version": "1.4.0",
      "model_name": "ButtonModel",
      "state": {
       "description": "Select ALL",
       "layout": "IPY_MODEL_e5b7d6789f5c472fbe575c7011a23ada",
       "style": "IPY_MODEL_3316d7604c464b54bfaf368b9946ecba"
      }
     },
     "5977f2c725b54c98b8ab4ff60bd98a54": {
      "model_module": "@jupyter-widgets/base",
      "model_module_version": "1.1.0",
      "model_name": "LayoutModel",
      "state": {
       "width": "20%"
      }
     },
     "5993c7e5af4e4e66a639e2572e5dd48c": {
      "model_module": "@jupyter-widgets/controls",
      "model_module_version": "1.4.0",
      "model_name": "ButtonStyleModel",
      "state": {}
     },
     "59a0302633d74b41b7e9ea699ec9fc0c": {
      "model_module": "@jupyter-widgets/base",
      "model_module_version": "1.1.0",
      "model_name": "LayoutModel",
      "state": {
       "height": "200px",
       "width": "99%"
      }
     },
     "59f4ca0f0423442da642795c07b7365a": {
      "model_module": "@jupyter-widgets/controls",
      "model_module_version": "1.4.0",
      "model_name": "ButtonModel",
      "state": {
       "description": "Create mask",
       "layout": "IPY_MODEL_0cac349d40e14e598854fb7669976aa7",
       "style": "IPY_MODEL_8fb3d373ad274e8ebbb126c45725586b"
      }
     },
     "5a5f1c6d95754eb39b6c8aca323cc806": {
      "model_module": "@jupyter-widgets/controls",
      "model_module_version": "1.4.0",
      "model_name": "SelectMultipleModel",
      "state": {
       "_options_labels": [
        "Shallow ocean",
        "Land (Nothing else but land)",
        "Ocean coastlines and lake shorelines",
        "Shallow inland water",
        "Ephemeral water",
        "Deep inland water",
        "Moderate or continental ocean",
        "Deep ocean"
       ],
       "description": "Description",
       "index": [
        1
       ],
       "layout": "IPY_MODEL_c8f68c41bcee4c7ab1c9c0d5549396ea",
       "rows": 8,
       "style": "IPY_MODEL_837746741ba24f9881300a22100ef141"
      }
     },
     "5a74e4f8221d45ef96c8d96ff081be48": {
      "model_module": "@jupyter-widgets/base",
      "model_module_version": "1.1.0",
      "model_name": "LayoutModel",
      "state": {
       "width": "20%"
      }
     },
     "5a76b6f1997a46c490def1e9bb09518e": {
      "model_module": "@jupyter-widgets/controls",
      "model_module_version": "1.4.0",
      "model_name": "DescriptionStyleModel",
      "state": {
       "description_width": "initial"
      }
     },
     "5a95a5c50a684f33883f1b46bd962172": {
      "model_module": "@jupyter-widgets/controls",
      "model_module_version": "1.4.0",
      "model_name": "ButtonStyleModel",
      "state": {}
     },
     "5aa259bf9abb4529871c5b6f813382f6": {
      "model_module": "@jupyter-widgets/controls",
      "model_module_version": "1.4.0",
      "model_name": "VBoxModel",
      "state": {
       "children": [
        "IPY_MODEL_542fcd0acd664e7d8d59f219ad5ad20c"
       ],
       "layout": "IPY_MODEL_758006c7b90840aaa9a3116f957abd54"
      }
     },
     "5acaef2fd45841fbb39906bee1aefd4b": {
      "model_module": "@jupyter-widgets/base",
      "model_module_version": "1.1.0",
      "model_name": "LayoutModel",
      "state": {
       "width": "20%"
      }
     },
     "5afdc1d110cb45699234215ac916ea59": {
      "model_module": "@jupyter-widgets/base",
      "model_module_version": "1.1.0",
      "model_name": "LayoutModel",
      "state": {
       "width": "400px"
      }
     },
     "5b1446b240c24a7f93c5c1d5b20a53f2": {
      "model_module": "@jupyter-widgets/base",
      "model_module_version": "1.1.0",
      "model_name": "LayoutModel",
      "state": {
       "width": "400px"
      }
     },
     "5b17a4185e064482a6edc09f4d0e11e7": {
      "model_module": "@jupyter-widgets/controls",
      "model_module_version": "1.4.0",
      "model_name": "ButtonStyleModel",
      "state": {}
     },
     "5b6c3ebc5e57401f98c660890ac4d8ab": {
      "model_module": "@jupyter-widgets/base",
      "model_module_version": "1.1.0",
      "model_name": "LayoutModel",
      "state": {}
     },
     "5b7f8d15f07c458da82fa6c1211d9a04": {
      "model_module": "@jupyter-widgets/controls",
      "model_module_version": "1.4.0",
      "model_name": "ButtonStyleModel",
      "state": {}
     },
     "5bb332ab52c64b7a9c52758392ddcca1": {
      "model_module": "@jupyter-widgets/controls",
      "model_module_version": "1.4.0",
      "model_name": "ButtonModel",
      "state": {
       "description": "Default selection",
       "layout": "IPY_MODEL_899d9e87b20948d28982f312d1c81ddc",
       "style": "IPY_MODEL_f8a35aaf9c3d4cc2ad9cffac91469e72"
      }
     },
     "5bcf0e8a32a7429f82454a5f1f8e3f0a": {
      "model_module": "@jupyter-widgets/base",
      "model_module_version": "1.1.0",
      "model_name": "LayoutModel",
      "state": {}
     },
     "5c5a211e79bd455694ae69cb73733ecb": {
      "model_module": "@jupyter-widgets/controls",
      "model_module_version": "1.4.0",
      "model_name": "SelectModel",
      "state": {
       "_options_labels": [
        "MODLAND"
       ],
       "description": "QA Parameter name:",
       "index": 0,
       "layout": "IPY_MODEL_a9549642783c41e6a5aa3bef35f8c911",
       "rows": 1,
       "style": "IPY_MODEL_5214de4edc8942ebbf09caec6dc6871d"
      }
     },
     "5c8e3dd34aad47f09ff09c1f2454ea10": {
      "model_module": "@jupyter-widgets/base",
      "model_module_version": "1.1.0",
      "model_name": "LayoutModel",
      "state": {
       "width": "20%"
      }
     },
     "5c9571edc43f4eeda4f4df7327ddf5c4": {
      "model_module": "@jupyter-widgets/controls",
      "model_module_version": "1.4.0",
      "model_name": "ButtonModel",
      "state": {
       "description": "Create mask and max gap length",
       "layout": "IPY_MODEL_223012d925fb43bdb96dad48992ee40b",
       "style": "IPY_MODEL_1dabc728b6134ed689dce9734f368e56"
      }
     },
     "5cc0094fe313461186cdf16587d650d0": {
      "model_module": "@jupyter-widgets/base",
      "model_module_version": "1.1.0",
      "model_name": "LayoutModel",
      "state": {}
     },
     "5ce3455a57d04a03a3aac19a93ef9889": {
      "model_module": "@jupyter-widgets/base",
      "model_module_version": "1.1.0",
      "model_name": "LayoutModel",
      "state": {
       "height": "100px",
       "width": "99%"
      }
     },
     "5ceb4b181d8d4a69b59b30b7a6423590": {
      "model_module": "@jupyter-widgets/controls",
      "model_module_version": "1.4.0",
      "model_name": "ButtonModel",
      "state": {
       "description": "QA analytics",
       "layout": "IPY_MODEL_ff01652771a44acbb362f8a8500895a7",
       "style": "IPY_MODEL_2e6e060aaec945fcac57f540103c8494"
      }
     },
     "5cf2436875f34c569df33428a8262af6": {
      "model_module": "@jupyter-widgets/controls",
      "model_module_version": "1.4.0",
      "model_name": "DescriptionStyleModel",
      "state": {
       "description_width": "initial"
      }
     },
     "5d5d2d0afd8b46cba4a1ef6a84f0ed2e": {
      "model_module": "@jupyter-widgets/base",
      "model_module_version": "1.1.0",
      "model_name": "LayoutModel",
      "state": {
       "width": "400px"
      }
     },
     "5d843a44bebc421cac8a4c50bd13c2a6": {
      "model_module": "@jupyter-widgets/controls",
      "model_module_version": "1.4.0",
      "model_name": "DescriptionStyleModel",
      "state": {
       "description_width": "initial"
      }
     },
     "5db78c4d230d4b5e9fc0fa8a07d59c12": {
      "model_module": "@jupyter-widgets/base",
      "model_module_version": "1.1.0",
      "model_name": "LayoutModel",
      "state": {
       "width": "20%"
      }
     },
     "5dd04bab801641ab99ee5d1aed119628": {
      "model_module": "@jupyter-widgets/base",
      "model_module_version": "1.1.0",
      "model_name": "LayoutModel",
      "state": {
       "width": "20%"
      }
     },
     "5dfd10ba8ec5432284c9c527f1ca8f55": {
      "model_module": "@jupyter-widgets/controls",
      "model_module_version": "1.4.0",
      "model_name": "VBoxModel",
      "state": {
       "children": [
        "IPY_MODEL_e062cd00c75841a1ad39794e58087a5f"
       ],
       "layout": "IPY_MODEL_dfdcc3376b9547a78f049ada75850a63"
      }
     },
     "5e1c0574e5de4d6399e1dc647c362074": {
      "model_module": "@jupyter-widgets/base",
      "model_module_version": "1.1.0",
      "model_name": "LayoutModel",
      "state": {}
     },
     "5e5171afa59344999e13cc90db0be61e": {
      "model_module": "@jupyter-widgets/controls",
      "model_module_version": "1.4.0",
      "model_name": "ButtonModel",
      "state": {
       "description": "Select ALL",
       "layout": "IPY_MODEL_67b67df610734216952394a2d72db2bd",
       "style": "IPY_MODEL_18ba67a6f1574c35bef7c2c1ede1ac8b"
      }
     },
     "5e6fcfd840174106a12abb62897c52b2": {
      "model_module": "@jupyter-widgets/controls",
      "model_module_version": "1.4.0",
      "model_name": "ButtonStyleModel",
      "state": {}
     },
     "5e7d375288af4e839bbd0a3458aa799a": {
      "model_module": "@jupyter-widgets/controls",
      "model_module_version": "1.4.0",
      "model_name": "ButtonStyleModel",
      "state": {}
     },
     "5e7f6d6ca20c415898833157d6f7b18f": {
      "model_module": "@jupyter-widgets/base",
      "model_module_version": "1.1.0",
      "model_name": "LayoutModel",
      "state": {
       "width": "400px"
      }
     },
     "5e81d6d94ccb41d3b11fa6c770ad4a92": {
      "model_module": "@jupyter-widgets/base",
      "model_module_version": "1.1.0",
      "model_name": "LayoutModel",
      "state": {
       "width": "400px"
      }
     },
     "5e89dc63a24e418fa012cf02ab1dc5de": {
      "model_module": "@jupyter-widgets/base",
      "model_module_version": "1.1.0",
      "model_name": "LayoutModel",
      "state": {}
     },
     "5ea35eafdc4c498f8cbedcad25131678": {
      "model_module": "@jupyter-widgets/controls",
      "model_module_version": "1.4.0",
      "model_name": "ButtonModel",
      "state": {
       "description": "QA analytics",
       "layout": "IPY_MODEL_7e655a02e1014ffd84d20e68e3f5fed6",
       "style": "IPY_MODEL_3bab113c61034554b8ea974a8c9560f0"
      }
     },
     "5eb1c23cb8634e78aa3d015e2ee6519f": {
      "model_module": "@jupyter-widgets/controls",
      "model_module_version": "1.4.0",
      "model_name": "ButtonModel",
      "state": {
       "description": "Select ALL",
       "layout": "IPY_MODEL_7424e55c8b93451e9b21914f1367236b",
       "style": "IPY_MODEL_b84625cb16254e74ada1af7880a3c357"
      }
     },
     "5efa89d587c0451a9fd99f038016a778": {
      "model_module": "@jupyter-widgets/controls",
      "model_module_version": "1.4.0",
      "model_name": "VBoxModel",
      "state": {
       "children": [
        "IPY_MODEL_6c22cbbaaf0449d9a1c945504123e5bb"
       ],
       "layout": "IPY_MODEL_b057e3bc2bff4398b3965e983d368e31"
      }
     },
     "5f084b6f12de4a56a08e9204f6ab1d77": {
      "model_module": "@jupyter-widgets/controls",
      "model_module_version": "1.4.0",
      "model_name": "SelectModel",
      "state": {
       "_options_labels": [
        "MODLAND",
        "VI Usefulness",
        "Aerosol Quantity",
        "Adjacent cloud detected",
        "Atmosphere BRDF Correction",
        "Mixed Clouds",
        "Land/Water Mask",
        "Possible snow/ice",
        "Possible shadow"
       ],
       "description": "QA Parameter name:",
       "index": 0,
       "layout": "IPY_MODEL_eb6f94f265c64d638b86000b9aacda6b",
       "rows": 9,
       "style": "IPY_MODEL_be75db788c3246519751ff13d4cbe5a0"
      }
     },
     "5f0c7ceb362e4ed7933bb7b388a15d01": {
      "model_module": "@jupyter-widgets/base",
      "model_module_version": "1.1.0",
      "model_name": "LayoutModel",
      "state": {}
     },
     "5f8afce93a3f4fd09547cd820915cc75": {
      "model_module": "@jupyter-widgets/base",
      "model_module_version": "1.1.0",
      "model_name": "LayoutModel",
      "state": {}
     },
     "5fa812b34bfc4b9f9887a34f13d5ae3d": {
      "model_module": "@jupyter-widgets/controls",
      "model_module_version": "1.4.0",
      "model_name": "VBoxModel",
      "state": {
       "children": [
        "IPY_MODEL_f88ab3864eac4bd6945cde3a38bca592"
       ],
       "layout": "IPY_MODEL_a79dba3cf4a145afa7aaf78c44576a07"
      }
     },
     "5fc4c441ddc24fcf8f03a357be10416a": {
      "model_module": "@jupyter-widgets/controls",
      "model_module_version": "1.4.0",
      "model_name": "ButtonStyleModel",
      "state": {}
     },
     "5fdbc68a208a47e4a29532ad54ded650": {
      "model_module": "@jupyter-widgets/controls",
      "model_module_version": "1.4.0",
      "model_name": "ButtonStyleModel",
      "state": {}
     },
     "5ffaf2c5f23c433fa5751e82c37fd03b": {
      "model_module": "@jupyter-widgets/controls",
      "model_module_version": "1.4.0",
      "model_name": "ButtonModel",
      "state": {
       "description": "Default selection",
       "layout": "IPY_MODEL_0fd3e4f0b8ef4e7aa052d0ea15b4a399",
       "style": "IPY_MODEL_776ca41e269b416aae6276b01e0b9808"
      }
     },
     "602473fe70ac404ca6b6c11a749c1277": {
      "model_module": "@jupyter-widgets/controls",
      "model_module_version": "1.4.0",
      "model_name": "VBoxModel",
      "state": {
       "children": [
        "IPY_MODEL_61ae087bf29c46d580279bf0df717b72"
       ],
       "layout": "IPY_MODEL_1ae6bf9034724031819f24eb5b721e26"
      }
     },
     "60545437560340bfbdc6427755ef25dc": {
      "model_module": "@jupyter-widgets/base",
      "model_module_version": "1.1.0",
      "model_name": "LayoutModel",
      "state": {
       "width": "400px"
      }
     },
     "6066dce1009b4480ad3211e0021c7083": {
      "model_module": "@jupyter-widgets/controls",
      "model_module_version": "1.4.0",
      "model_name": "ButtonStyleModel",
      "state": {}
     },
     "606cdb70d60448c89ac2aa3c1d283a73": {
      "model_module": "@jupyter-widgets/controls",
      "model_module_version": "1.4.0",
      "model_name": "DescriptionStyleModel",
      "state": {
       "description_width": "initial"
      }
     },
     "607b7115bd2743f7857d2eb291608721": {
      "model_module": "@jupyter-widgets/controls",
      "model_module_version": "1.4.0",
      "model_name": "ButtonModel",
      "state": {
       "description": "Default selection",
       "layout": "IPY_MODEL_66f5be8bd0be4227bc3d194633895e30",
       "style": "IPY_MODEL_610245c464d14ee78b431d73378457b8"
      }
     },
     "60942433b8a643d1839306073d85803d": {
      "model_module": "@jupyter-widgets/base",
      "model_module_version": "1.1.0",
      "model_name": "LayoutModel",
      "state": {
       "height": "350px",
       "width": "99%"
      }
     },
     "60968d9873914b34902ec527d05fa78e": {
      "model_module": "@jupyter-widgets/base",
      "model_module_version": "1.1.0",
      "model_name": "LayoutModel",
      "state": {}
     },
     "60ed67b3afd84a88a024fb90bb3d15d8": {
      "model_module": "@jupyter-widgets/base",
      "model_module_version": "1.1.0",
      "model_name": "LayoutModel",
      "state": {}
     },
     "610245c464d14ee78b431d73378457b8": {
      "model_module": "@jupyter-widgets/controls",
      "model_module_version": "1.4.0",
      "model_name": "ButtonStyleModel",
      "state": {}
     },
     "610c6e032f3745e1a66fc2d6cb47b3f4": {
      "model_module": "@jupyter-widgets/controls",
      "model_module_version": "1.4.0",
      "model_name": "DescriptionStyleModel",
      "state": {
       "description_width": ""
      }
     },
     "611cc2ffe82846f2b07232844c3229d4": {
      "model_module": "@jupyter-widgets/base",
      "model_module_version": "1.1.0",
      "model_name": "LayoutModel",
      "state": {
       "width": "20%"
      }
     },
     "6155682d2093467c8dbaa8dd62fa87f2": {
      "model_module": "@jupyter-widgets/controls",
      "model_module_version": "1.4.0",
      "model_name": "DescriptionStyleModel",
      "state": {
       "description_width": "initial"
      }
     },
     "618083d0432149878a2c5fd9bd040e78": {
      "model_module": "@jupyter-widgets/base",
      "model_module_version": "1.1.0",
      "model_name": "LayoutModel",
      "state": {
       "width": "20%"
      }
     },
     "618492c7566d41d7b93bb1fcd9a1be80": {
      "model_module": "@jupyter-widgets/controls",
      "model_module_version": "1.4.0",
      "model_name": "DescriptionStyleModel",
      "state": {
       "description_width": ""
      }
     },
     "6192e3e7cf374d658991d858045838d8": {
      "model_module": "@jupyter-widgets/controls",
      "model_module_version": "1.4.0",
      "model_name": "HBoxModel",
      "state": {
       "children": [
        "IPY_MODEL_5846c63ea3be45c48f3b86d15d1038dc",
        "IPY_MODEL_bb85f5f75efb458fa1054eabac395ba8",
        "IPY_MODEL_5eb1c23cb8634e78aa3d015e2ee6519f",
        "IPY_MODEL_d4db1d4f785c4a9bb57ecadf2bc3c22e"
       ],
       "layout": "IPY_MODEL_df9ba61d1a0140a4968f14f350ad336d"
      }
     },
     "61a3efc25757401e8bf33cdd8831c848": {
      "model_module": "@jupyter-widgets/controls",
      "model_module_version": "1.4.0",
      "model_name": "DescriptionStyleModel",
      "state": {
       "description_width": "initial"
      }
     },
     "61ae087bf29c46d580279bf0df717b72": {
      "model_module": "@jupyter-widgets/controls",
      "model_module_version": "1.4.0",
      "model_name": "SelectModel",
      "state": {
       "_options_labels": [
        "MODLAND",
        "VI Usefulness",
        "Aerosol Quantity",
        "Adjacent cloud detected",
        "Atmosphere BRDF Correction",
        "Mixed Clouds",
        "Land/Water Mask",
        "Possible snow/ice",
        "Possible shadow"
       ],
       "description": "QA Parameter name:",
       "index": 8,
       "layout": "IPY_MODEL_bf30e775f2fc49c38f225bb82b960bed",
       "rows": 9,
       "style": "IPY_MODEL_8ada1905e30d43f1bbab612d5b8afc29"
      }
     },
     "61e95be702954133a783b4bde84d3ad6": {
      "model_module": "@jupyter-widgets/controls",
      "model_module_version": "1.4.0",
      "model_name": "VBoxModel",
      "state": {
       "children": [
        "IPY_MODEL_ddcd74c306f24425ad759cc02711ccd6"
       ],
       "layout": "IPY_MODEL_3788059c8bba4688b64d741687ce5742"
      }
     },
     "61fb9d0622764885a92fa771a4ff8692": {
      "model_module": "@jupyter-widgets/controls",
      "model_module_version": "1.4.0",
      "model_name": "ButtonStyleModel",
      "state": {}
     },
     "626381dc39eb4bc280433a3c68f7d2e6": {
      "model_module": "@jupyter-widgets/controls",
      "model_module_version": "1.4.0",
      "model_name": "DescriptionStyleModel",
      "state": {
       "description_width": "initial"
      }
     },
     "62b0ad0856fe4ddca0ba6a3e140e86ce": {
      "model_module": "@jupyter-widgets/controls",
      "model_module_version": "1.4.0",
      "model_name": "VBoxModel",
      "state": {
       "children": [
        "IPY_MODEL_216e24d6deb2434a952896293e5e0b0c"
       ],
       "layout": "IPY_MODEL_51ccda3694e346849b7f74a12796592b"
      }
     },
     "62b87c49856846309157e1ad0e3c97c6": {
      "model_module": "@jupyter-widgets/base",
      "model_module_version": "1.1.0",
      "model_name": "LayoutModel",
      "state": {}
     },
     "62c49a1595cf4d208d65857366367830": {
      "model_module": "@jupyter-widgets/controls",
      "model_module_version": "1.4.0",
      "model_name": "VBoxModel",
      "state": {
       "children": [
        "IPY_MODEL_63029e6f15784c7bab1caff4b181b309"
       ],
       "layout": "IPY_MODEL_20fd842c8adb4280b5d974bb26bd643a"
      }
     },
     "62e474cd2ac745179f6cd7511acc8eb5": {
      "model_module": "@jupyter-widgets/controls",
      "model_module_version": "1.4.0",
      "model_name": "DescriptionStyleModel",
      "state": {
       "description_width": "initial"
      }
     },
     "62ece105d92d47a39168ba5ee839e037": {
      "model_module": "@jupyter-widgets/base",
      "model_module_version": "1.1.0",
      "model_name": "LayoutModel",
      "state": {}
     },
     "63029e6f15784c7bab1caff4b181b309": {
      "model_module": "@jupyter-widgets/controls",
      "model_module_version": "1.4.0",
      "model_name": "SelectModel",
      "state": {
       "_options_labels": [
        "MODLAND",
        "VI Usefulness",
        "Aerosol Quantity",
        "Adjacent cloud detected",
        "Atmosphere BRDF Correction",
        "Mixed Clouds",
        "Land/Water Mask",
        "Possible snow/ice",
        "Possible shadow"
       ],
       "description": "QA Parameter name:",
       "index": 0,
       "layout": "IPY_MODEL_505cf8403f9144858f40b3293ccf5f31",
       "rows": 9,
       "style": "IPY_MODEL_b0597ef7908c44339be7ecf0c445e87d"
      }
     },
     "633196f9f1c14406955c0547caf5e86c": {
      "model_module": "@jupyter-widgets/controls",
      "model_module_version": "1.4.0",
      "model_name": "DescriptionStyleModel",
      "state": {
       "description_width": "initial"
      }
     },
     "6359783a01e14d12b768a91d54901b86": {
      "model_module": "@jupyter-widgets/base",
      "model_module_version": "1.1.0",
      "model_name": "LayoutModel",
      "state": {
       "width": "350px"
      }
     },
     "635a6813025e45ebaa4a63ee3b74041d": {
      "model_module": "@jupyter-widgets/controls",
      "model_module_version": "1.4.0",
      "model_name": "HBoxModel",
      "state": {
       "children": [
        "IPY_MODEL_e75ebf4d18ab435c9e6688d337276072",
        "IPY_MODEL_147335332e414a29b69ccfe3d42fcc66",
        "IPY_MODEL_18ddce6892254e50897ba5d5b5aba449"
       ],
       "layout": "IPY_MODEL_1e5e2a6bda804c848055fed26c8fc423"
      }
     },
     "639a450e33ae42a7a1fa3040982d74f4": {
      "model_module": "@jupyter-widgets/base",
      "model_module_version": "1.1.0",
      "model_name": "LayoutModel",
      "state": {
       "width": "20%"
      }
     },
     "63d4cc1ed9e444e3b9a1018b5a47cd7f": {
      "model_module": "@jupyter-widgets/base",
      "model_module_version": "1.1.0",
      "model_name": "LayoutModel",
      "state": {}
     },
     "63e9f5dbc2dc45d3a0f3440639b9b539": {
      "model_module": "@jupyter-widgets/controls",
      "model_module_version": "1.4.0",
      "model_name": "VBoxModel",
      "state": {
       "children": [
        "IPY_MODEL_cdf2cad5ac184ac481e8c3f8d0d358d9"
       ],
       "layout": "IPY_MODEL_7cdb2798d77d4674a6b9661a04a7594b"
      }
     },
     "63fe4385663346bba7a6f10035f53760": {
      "model_module": "@jupyter-widgets/base",
      "model_module_version": "1.1.0",
      "model_name": "LayoutModel",
      "state": {
       "height": "200px",
       "width": "99%"
      }
     },
     "6410b741df6d41cb97cb2e40e88ad97b": {
      "model_module": "@jupyter-widgets/controls",
      "model_module_version": "1.4.0",
      "model_name": "HBoxModel",
      "state": {
       "children": [
        "IPY_MODEL_590dd1f2e9454af6ae8c5e114c808d35",
        "IPY_MODEL_bb79e7091e5548f29fe310f6777d4637",
        "IPY_MODEL_ccb8b48f28ea4d8bb40dfaaa4bb2a1e5"
       ],
       "layout": "IPY_MODEL_88ea6771376f424dbcb8dddd580fc3be"
      }
     },
     "641bbcd9ffef47eb810b8f999871a85c": {
      "model_module": "@jupyter-widgets/controls",
      "model_module_version": "1.4.0",
      "model_name": "VBoxModel",
      "state": {
       "children": [
        "IPY_MODEL_6b08386345454dcb8ba31bc4c363e746"
       ],
       "layout": "IPY_MODEL_2f412c971dc44cac871aa202008f54fe"
      }
     },
     "643744c79b1447a196dca6db0b0604a3": {
      "model_module": "@jupyter-widgets/base",
      "model_module_version": "1.1.0",
      "model_name": "LayoutModel",
      "state": {}
     },
     "64454f71f4844e6da3edb580d05149a4": {
      "model_module": "@jupyter-widgets/base",
      "model_module_version": "1.1.0",
      "model_name": "LayoutModel",
      "state": {
       "width": "20%"
      }
     },
     "6484d3f1b3bd4d3295977af834ae8a33": {
      "model_module": "@jupyter-widgets/controls",
      "model_module_version": "1.4.0",
      "model_name": "SelectMultipleModel",
      "state": {
       "_options_labels": [
        "VI produced, good quality",
        "VI produced, but check other QA",
        "Pixel produced, but most probably cloudy",
        "Pixel not produced due to other reasons than clouds"
       ],
       "description": "Description",
       "index": [
        0
       ],
       "layout": "IPY_MODEL_371aa72cca204abdb87cfe1fbd501b14",
       "rows": 4,
       "style": "IPY_MODEL_633196f9f1c14406955c0547caf5e86c"
      }
     },
     "64a6650c14ff4b3cb8f65a9c3d8d690c": {
      "model_module": "@jupyter-widgets/base",
      "model_module_version": "1.1.0",
      "model_name": "LayoutModel",
      "state": {
       "width": "20%"
      }
     },
     "64a740b9436f44aaa0cfc998be5bbacf": {
      "model_module": "@jupyter-widgets/controls",
      "model_module_version": "1.4.0",
      "model_name": "ButtonModel",
      "state": {
       "description": "Create mask",
       "layout": "IPY_MODEL_3ec126f887fe4eaf87093af657dedea3",
       "style": "IPY_MODEL_d886493be3b245dcbc38337f8206b41b"
      }
     },
     "64dbe5ee1b474593a4ac43ba65f09e52": {
      "model_module": "@jupyter-widgets/base",
      "model_module_version": "1.1.0",
      "model_name": "LayoutModel",
      "state": {
       "width": "50%"
      }
     },
     "64ec396762094618950605eb1073a9c6": {
      "model_module": "@jupyter-widgets/base",
      "model_module_version": "1.1.0",
      "model_name": "LayoutModel",
      "state": {
       "width": "30%"
      }
     },
     "64f7d7e8a5384be6aff81da5fb63f495": {
      "model_module": "@jupyter-widgets/base",
      "model_module_version": "1.1.0",
      "model_name": "LayoutModel",
      "state": {
       "height": "350px",
       "width": "99%"
      }
     },
     "64fb3c3aa3144d99bab4d8642008c83c": {
      "model_module": "@jupyter-widgets/controls",
      "model_module_version": "1.4.0",
      "model_name": "DescriptionStyleModel",
      "state": {
       "description_width": "initial"
      }
     },
     "65127ee2cfad49e0b2f136130be4dc44": {
      "model_module": "@jupyter-widgets/controls",
      "model_module_version": "1.4.0",
      "model_name": "ButtonModel",
      "state": {
       "description": "QA analytics",
       "layout": "IPY_MODEL_6f5049e6963e4445a4a36f041abb7051",
       "style": "IPY_MODEL_e6721040263d4125b87a00c211a3dce6"
      }
     },
     "6514d89454914db48cc7a7f5a025272a": {
      "model_module": "@jupyter-widgets/base",
      "model_module_version": "1.1.0",
      "model_name": "LayoutModel",
      "state": {
       "width": "30%"
      }
     },
     "6545e502898c42faa59caeb2785c21ba": {
      "model_module": "@jupyter-widgets/controls",
      "model_module_version": "1.4.0",
      "model_name": "HTMLModel",
      "state": {
       "description": "QA layer:",
       "layout": "IPY_MODEL_0b72c69063d44946bd4d5c621a954f9c",
       "style": "IPY_MODEL_ffa8f5a83a66460ca16813206496b3c6",
       "value": "<b>_1_km_16_days_VI_Quality</b>"
      }
     },
     "656e819332564b3484998fa64374ddad": {
      "model_module": "@jupyter-widgets/base",
      "model_module_version": "1.1.0",
      "model_name": "LayoutModel",
      "state": {}
     },
     "657b0aa2f9d543ea80fd5d8d24bf671d": {
      "model_module": "@jupyter-widgets/controls",
      "model_module_version": "1.4.0",
      "model_name": "VBoxModel",
      "state": {
       "children": [
        "IPY_MODEL_f8f297ec4554400ca60c04e14866c190"
       ],
       "layout": "IPY_MODEL_add0e2076d9049ffa8c441edafd64696"
      }
     },
     "6583165a108b4220b9ca1ba2718bcde9": {
      "model_module": "@jupyter-widgets/base",
      "model_module_version": "1.1.0",
      "model_name": "LayoutModel",
      "state": {
       "width": "20%"
      }
     },
     "658efcf1ce5345789d7a13b731f2a38f": {
      "model_module": "@jupyter-widgets/base",
      "model_module_version": "1.1.0",
      "model_name": "LayoutModel",
      "state": {
       "height": "350px",
       "width": "99%"
      }
     },
     "65ab104d8e184bfbad9c7547365dc882": {
      "model_module": "@jupyter-widgets/base",
      "model_module_version": "1.1.0",
      "model_name": "LayoutModel",
      "state": {}
     },
     "65d349baef1a49718b565cc42ae097ed": {
      "model_module": "@jupyter-widgets/base",
      "model_module_version": "1.1.0",
      "model_name": "LayoutModel",
      "state": {}
     },
     "65e2abd0d07a434d82146a415ea41a71": {
      "model_module": "@jupyter-widgets/controls",
      "model_module_version": "1.4.0",
      "model_name": "DescriptionStyleModel",
      "state": {
       "description_width": "initial"
      }
     },
     "662f290cc086498fb8a908f435da1364": {
      "model_module": "@jupyter-widgets/controls",
      "model_module_version": "1.4.0",
      "model_name": "VBoxModel",
      "state": {
       "children": [
        "IPY_MODEL_7c74efdbf1294a3cb4514fdc2dd1cc77"
       ],
       "layout": "IPY_MODEL_5e89dc63a24e418fa012cf02ab1dc5de"
      }
     },
     "6642f33871aa4d4eb04e8edf8b75bff6": {
      "model_module": "@jupyter-widgets/base",
      "model_module_version": "1.1.0",
      "model_name": "LayoutModel",
      "state": {}
     },
     "6672e42daac74193b0a9ad4e0612742f": {
      "model_module": "@jupyter-widgets/base",
      "model_module_version": "1.1.0",
      "model_name": "LayoutModel",
      "state": {
       "width": "400px"
      }
     },
     "667c600504814b269435372c40c43332": {
      "model_module": "@jupyter-widgets/base",
      "model_module_version": "1.1.0",
      "model_name": "LayoutModel",
      "state": {
       "width": "30%"
      }
     },
     "66989a7d6dee4d77bc6a5c3d35995f84": {
      "model_module": "@jupyter-widgets/base",
      "model_module_version": "1.1.0",
      "model_name": "LayoutModel",
      "state": {
       "width": "400px"
      }
     },
     "669c5196d73c4b05942c86415209df39": {
      "model_module": "@jupyter-widgets/controls",
      "model_module_version": "1.4.0",
      "model_name": "ButtonModel",
      "state": {
       "description": "Default selection",
       "layout": "IPY_MODEL_4a7053c91cb34e9cb51e5187ea0789cb",
       "style": "IPY_MODEL_d76199888ec04e39916246aec25faacc"
      }
     },
     "66a582cea3744c2dbfcf951e3fa5d0f1": {
      "model_module": "@jupyter-widgets/base",
      "model_module_version": "1.1.0",
      "model_name": "LayoutModel",
      "state": {
       "width": "400px"
      }
     },
     "66d1e8cd93324d92bf41a70b987e0c78": {
      "model_module": "@jupyter-widgets/base",
      "model_module_version": "1.1.0",
      "model_name": "LayoutModel",
      "state": {}
     },
     "66e9f11254d7462d868edf249f91744e": {
      "model_module": "@jupyter-widgets/controls",
      "model_module_version": "1.4.0",
      "model_name": "ButtonStyleModel",
      "state": {}
     },
     "66ed4669845144a1a607f662f792066b": {
      "model_module": "@jupyter-widgets/base",
      "model_module_version": "1.1.0",
      "model_name": "LayoutModel",
      "state": {}
     },
     "66f5be8bd0be4227bc3d194633895e30": {
      "model_module": "@jupyter-widgets/base",
      "model_module_version": "1.1.0",
      "model_name": "LayoutModel",
      "state": {
       "width": "20%"
      }
     },
     "67147a2fd02544b9ae17f8f156f287b2": {
      "model_module": "@jupyter-widgets/controls",
      "model_module_version": "1.4.0",
      "model_name": "HBoxModel",
      "state": {
       "children": [
        "IPY_MODEL_4411573fec8b4df4bff3f5e79dadfd50",
        "IPY_MODEL_39819f6505294f8ba16542d0dd6fa8b3"
       ],
       "layout": "IPY_MODEL_127923edfe184be0ab35f94b5e1059c5"
      }
     },
     "6734ec232d6642b6bb46fbaaa4dfe527": {
      "model_module": "@jupyter-widgets/controls",
      "model_module_version": "1.4.0",
      "model_name": "DescriptionStyleModel",
      "state": {
       "description_width": ""
      }
     },
     "673f7029c2304bcc8c04c96a7a32a103": {
      "model_module": "@jupyter-widgets/base",
      "model_module_version": "1.1.0",
      "model_name": "LayoutModel",
      "state": {
       "width": "30%"
      }
     },
     "675141f0da9447eb911cb294f0c0eb3d": {
      "model_module": "@jupyter-widgets/controls",
      "model_module_version": "1.4.0",
      "model_name": "HTMLModel",
      "state": {
       "description": "QA layer:",
       "layout": "IPY_MODEL_80e3834b190d48a4881807a3077ec19e",
       "style": "IPY_MODEL_2bf0a7ee93014f08836cb3780afb6e98",
       "value": "<b>_1_km_16_days_VI_Quality</b>"
      }
     },
     "67b67df610734216952394a2d72db2bd": {
      "model_module": "@jupyter-widgets/base",
      "model_module_version": "1.1.0",
      "model_name": "LayoutModel",
      "state": {
       "width": "20%"
      }
     },
     "6822cf64342f43f5a34b94c95dd84302": {
      "model_module": "@jupyter-widgets/base",
      "model_module_version": "1.1.0",
      "model_name": "LayoutModel",
      "state": {}
     },
     "686b8bc137914495bcf2a48509daf7c6": {
      "model_module": "@jupyter-widgets/controls",
      "model_module_version": "1.4.0",
      "model_name": "ButtonStyleModel",
      "state": {}
     },
     "686d9827695e40bd9f232bd207de3318": {
      "model_module": "@jupyter-widgets/controls",
      "model_module_version": "1.4.0",
      "model_name": "VBoxModel",
      "state": {
       "children": [
        "IPY_MODEL_58e4f92e80ce4cbdb1d57c334d4a6b21"
       ],
       "layout": "IPY_MODEL_5b6c3ebc5e57401f98c660890ac4d8ab"
      }
     },
     "686ec12a4bf54e2398af14aa26ba0585": {
      "model_module": "@jupyter-widgets/controls",
      "model_module_version": "1.4.0",
      "model_name": "HTMLModel",
      "state": {
       "description": "QA layer:",
       "layout": "IPY_MODEL_00b3b3ea86094f0c85dec64664ad042a",
       "style": "IPY_MODEL_6ad6740762974e7695e3ccb8bd66b733",
       "value": "<b>_1_km_16_days_VI_Quality</b>"
      }
     },
     "68aeaf11168340ccb0dafd643aba2efe": {
      "model_module": "@jupyter-widgets/controls",
      "model_module_version": "1.4.0",
      "model_name": "HBoxModel",
      "state": {
       "children": [
        "IPY_MODEL_0d1ea90fc73f4bf695e5e5a440c61fea",
        "IPY_MODEL_1359ad95eed74adf9fda865364ad4abf",
        "IPY_MODEL_1420dbfcf1f946b88cff3a0cfcf86859"
       ],
       "layout": "IPY_MODEL_858a4bd718644c8b9678c908d8ca03f7"
      }
     },
     "68bdd79b1ee64eacacd3ac8b548f559e": {
      "model_module": "@jupyter-widgets/controls",
      "model_module_version": "1.4.0",
      "model_name": "HBoxModel",
      "state": {
       "children": [
        "IPY_MODEL_d4adbf70cb774c4ea5a7dd5ec036e1da",
        "IPY_MODEL_d3d383d7d13d4f99821161ea2f24115b",
        "IPY_MODEL_71a4490699324bd5a73721ff651f1f3a"
       ],
       "layout": "IPY_MODEL_988c0265008049f1971e848606a62ac9"
      }
     },
     "68c5c426f5334843bd7bafd7375bae3d": {
      "model_module": "@jupyter-widgets/base",
      "model_module_version": "1.1.0",
      "model_name": "LayoutModel",
      "state": {
       "width": "30%"
      }
     },
     "68cd4309072d438f9cdf5a8e2d233446": {
      "model_module": "@jupyter-widgets/controls",
      "model_module_version": "1.4.0",
      "model_name": "ProgressStyleModel",
      "state": {
       "description_width": "initial"
      }
     },
     "68dd5ffd107f416799fd0400f89d9533": {
      "model_module": "@jupyter-widgets/base",
      "model_module_version": "1.1.0",
      "model_name": "LayoutModel",
      "state": {
       "width": "400px"
      }
     },
     "68e3939f9cba42459e06e4e3101d3cc1": {
      "model_module": "@jupyter-widgets/controls",
      "model_module_version": "1.4.0",
      "model_name": "DescriptionStyleModel",
      "state": {
       "description_width": "initial"
      }
     },
     "68e796c631df492a95200f7fe660a357": {
      "model_module": "@jupyter-widgets/controls",
      "model_module_version": "1.4.0",
      "model_name": "ButtonStyleModel",
      "state": {}
     },
     "6957e5d15bb144b2865ec887f9532391": {
      "model_module": "@jupyter-widgets/controls",
      "model_module_version": "1.4.0",
      "model_name": "VBoxModel",
      "state": {
       "children": [
        "IPY_MODEL_abc9839fc770441c88d8064cc7947660"
       ],
       "layout": "IPY_MODEL_956b8232871148c599b1b8acd59c987b"
      }
     },
     "6964bb158dc848528b1d66e0e69e19a9": {
      "model_module": "@jupyter-widgets/controls",
      "model_module_version": "1.4.0",
      "model_name": "ButtonStyleModel",
      "state": {}
     },
     "69814ca2040e425fb96e904e404a62af": {
      "model_module": "@jupyter-widgets/controls",
      "model_module_version": "1.4.0",
      "model_name": "DescriptionStyleModel",
      "state": {
       "description_width": ""
      }
     },
     "69bf364762ef4985b297d884e531107e": {
      "model_module": "@jupyter-widgets/controls",
      "model_module_version": "1.4.0",
      "model_name": "ButtonStyleModel",
      "state": {}
     },
     "69de4c3edaa0429c9878ae31b7f79d1f": {
      "model_module": "@jupyter-widgets/base",
      "model_module_version": "1.1.0",
      "model_name": "LayoutModel",
      "state": {}
     },
     "69f3bd0790914c07af9a7653c3ce8918": {
      "model_module": "@jupyter-widgets/controls",
      "model_module_version": "1.4.0",
      "model_name": "ButtonModel",
      "state": {
       "description": "Create mask",
       "layout": "IPY_MODEL_a766c3a37a214469a58542268e8d8203",
       "style": "IPY_MODEL_b0e2599305114330a928669da5df8c22"
      }
     },
     "6a0f7ea9a314403ea5d85714f771f4ff": {
      "model_module": "@jupyter-widgets/controls",
      "model_module_version": "1.4.0",
      "model_name": "SelectMultipleModel",
      "state": {
       "_options_labels": [
        "VI produced, good quality",
        "VI produced, but check other QA",
        "Pixel produced, but most probably cloudy",
        "Pixel not produced due to other reasons than clouds"
       ],
       "description": "Description",
       "index": [
        0
       ],
       "layout": "IPY_MODEL_1809703dcc774933bf329b54cf289c91",
       "rows": 4,
       "style": "IPY_MODEL_b0c940a547ec49c6953ef180c723ce4a"
      }
     },
     "6a14390c157c4ff4a4d4a7e35aedbde5": {
      "model_module": "@jupyter-widgets/controls",
      "model_module_version": "1.4.0",
      "model_name": "SelectModel",
      "state": {
       "_options_labels": [
        "MODLAND",
        "VI Usefulness",
        "Aerosol Quantity",
        "Adjacent cloud detected",
        "Atmosphere BRDF Correction",
        "Mixed Clouds",
        "Land/Water Mask",
        "Possible snow/ice",
        "Possible shadow"
       ],
       "description": "QA Parameter name:",
       "index": 8,
       "layout": "IPY_MODEL_5e7f6d6ca20c415898833157d6f7b18f",
       "rows": 9,
       "style": "IPY_MODEL_35a4e9785ba44a1ba4b700421ae00552"
      }
     },
     "6a1f4757ad65444080fd63ecca562556": {
      "model_module": "@jupyter-widgets/base",
      "model_module_version": "1.1.0",
      "model_name": "LayoutModel",
      "state": {
       "width": "400px"
      }
     },
     "6a2ff90de0124bf684b40e9be502b867": {
      "model_module": "@jupyter-widgets/base",
      "model_module_version": "1.1.0",
      "model_name": "LayoutModel",
      "state": {}
     },
     "6a73374d402d4df689cd829c72caa2c8": {
      "model_module": "@jupyter-widgets/controls",
      "model_module_version": "1.4.0",
      "model_name": "HBoxModel",
      "state": {
       "children": [
        "IPY_MODEL_cfa2d2ed6b484fb0a2414da0ba6f52e7",
        "IPY_MODEL_bea77ae13dc64bbbaf443007950cb53a"
       ],
       "layout": "IPY_MODEL_b13544aa1feb456198b6e05e01517d2d"
      }
     },
     "6a81f8f34c644bdf915d7cba7633dc3c": {
      "model_module": "@jupyter-widgets/base",
      "model_module_version": "1.1.0",
      "model_name": "LayoutModel",
      "state": {
       "width": "50%"
      }
     },
     "6aa967f7a51c46edb2e4bda52da28321": {
      "model_module": "@jupyter-widgets/controls",
      "model_module_version": "1.4.0",
      "model_name": "ButtonStyleModel",
      "state": {}
     },
     "6ad52e61b9cf4c2f91998aada9e966f6": {
      "model_module": "@jupyter-widgets/controls",
      "model_module_version": "1.4.0",
      "model_name": "HTMLModel",
      "state": {
       "description": "QA layer:",
       "layout": "IPY_MODEL_09562fa34a0c4d1f98253c66928fc10f",
       "style": "IPY_MODEL_408c024faf2648b3a1aa3ae082a8112b",
       "value": "<b>_1_km_16_days_VI_Quality</b>"
      }
     },
     "6ad6740762974e7695e3ccb8bd66b733": {
      "model_module": "@jupyter-widgets/controls",
      "model_module_version": "1.4.0",
      "model_name": "DescriptionStyleModel",
      "state": {
       "description_width": ""
      }
     },
     "6af2f706b84a43fa8306a3ccd1855e78": {
      "model_module": "@jupyter-widgets/base",
      "model_module_version": "1.1.0",
      "model_name": "LayoutModel",
      "state": {
       "width": "400px"
      }
     },
     "6b08386345454dcb8ba31bc4c363e746": {
      "model_module": "@jupyter-widgets/controls",
      "model_module_version": "1.4.0",
      "model_name": "SelectModel",
      "state": {
       "_options_labels": [
        "MODLAND",
        "VI Usefulness",
        "Aerosol Quantity",
        "Adjacent cloud detected",
        "Atmosphere BRDF Correction",
        "Mixed Clouds",
        "Land/Water Mask",
        "Possible snow/ice",
        "Possible shadow"
       ],
       "description": "QA Parameter name:",
       "index": 0,
       "layout": "IPY_MODEL_77897c6fc30e42a2a424a2373bda6ef3",
       "rows": 9,
       "style": "IPY_MODEL_816bdc88b98f4237b093075df223700a"
      }
     },
     "6b125f43972a4e0ebacab9166143b8a0": {
      "model_module": "@jupyter-widgets/controls",
      "model_module_version": "1.4.0",
      "model_name": "SelectMultipleModel",
      "state": {
       "_options_labels": [
        "VI produced, good quality",
        "VI produced, but check other QA",
        "Pixel produced, but most probably cloudy",
        "Pixel not produced due to other reasons than clouds"
       ],
       "description": "Description",
       "index": [
        0
       ],
       "layout": "IPY_MODEL_08c1ba36a5b344e1a61d271f11ca7167",
       "rows": 4,
       "style": "IPY_MODEL_4251e955e1b84e398a88153b1b02b70c"
      }
     },
     "6b8b3f5f24134aee94a1eb48dda6283c": {
      "model_module": "@jupyter-widgets/controls",
      "model_module_version": "1.4.0",
      "model_name": "ButtonModel",
      "state": {
       "description": "Select ALL",
       "layout": "IPY_MODEL_41ebdb9852114e6787ca3df77b6ae3c3",
       "style": "IPY_MODEL_3147842e03b44f0a9cdb5ea510519392"
      }
     },
     "6bc34c08b7dc42daaa10ae5c47359a0b": {
      "model_module": "@jupyter-widgets/controls",
      "model_module_version": "1.4.0",
      "model_name": "DescriptionStyleModel",
      "state": {
       "description_width": "initial"
      }
     },
     "6bf16b10ebac4aabb6b644a715822338": {
      "model_module": "@jupyter-widgets/base",
      "model_module_version": "1.1.0",
      "model_name": "LayoutModel",
      "state": {
       "width": "20%"
      }
     },
     "6c22cbbaaf0449d9a1c945504123e5bb": {
      "model_module": "@jupyter-widgets/controls",
      "model_module_version": "1.4.0",
      "model_name": "SelectModel",
      "state": {
       "_options_labels": [
        "MODLAND",
        "VI Usefulness",
        "Aerosol Quantity",
        "Adjacent cloud detected",
        "Atmosphere BRDF Correction",
        "Mixed Clouds",
        "Land/Water Mask",
        "Possible snow/ice",
        "Possible shadow"
       ],
       "description": "QA Parameter name:",
       "index": 0,
       "layout": "IPY_MODEL_a9b3a979622047088da9f74ea1816bd8",
       "rows": 9,
       "style": "IPY_MODEL_a126d403dde5434d80d5108b207473e4"
      }
     },
     "6c986ef4739b492487aba6bac4e1d8c0": {
      "model_module": "@jupyter-widgets/controls",
      "model_module_version": "1.4.0",
      "model_name": "ButtonModel",
      "state": {
       "description": "QA analytics",
       "layout": "IPY_MODEL_4024377a0adf4b2db5c3bdd36e263d05",
       "style": "IPY_MODEL_1a5fcf2176a7496182cc3ebb4c7d2af7"
      }
     },
     "6ca5d921ca51446a83146600b227881f": {
      "model_module": "@jupyter-widgets/base",
      "model_module_version": "1.1.0",
      "model_name": "LayoutModel",
      "state": {
       "width": "20%"
      }
     },
     "6cb3c5733a0244bdbe50ee681135d4b2": {
      "model_module": "@jupyter-widgets/controls",
      "model_module_version": "1.4.0",
      "model_name": "VBoxModel",
      "state": {
       "children": [
        "IPY_MODEL_5a5f1c6d95754eb39b6c8aca323cc806"
       ],
       "layout": "IPY_MODEL_92b6d4e8dd1649ebbd880a1081d99924"
      }
     },
     "6cca35ea9d3845b283b1c1df3a91cd3c": {
      "model_module": "@jupyter-widgets/base",
      "model_module_version": "1.1.0",
      "model_name": "LayoutModel",
      "state": {}
     },
     "6ce9925048b644a99ab070cf51dd07d5": {
      "model_module": "@jupyter-widgets/base",
      "model_module_version": "1.1.0",
      "model_name": "LayoutModel",
      "state": {}
     },
     "6cf608e62013485e8a91bbaeaf2f2765": {
      "model_module": "@jupyter-widgets/controls",
      "model_module_version": "1.4.0",
      "model_name": "ButtonModel",
      "state": {
       "description": "Default selection",
       "layout": "IPY_MODEL_24a0079b86c44579bb0b72d47e9aa9e1",
       "style": "IPY_MODEL_b49a91845a464c27a586ed84cfa66b14"
      }
     },
     "6d572e5b0ea447d09cd198a8dc558ab3": {
      "model_module": "@jupyter-widgets/controls",
      "model_module_version": "1.4.0",
      "model_name": "DescriptionStyleModel",
      "state": {
       "description_width": "initial"
      }
     },
     "6d7710bf8a7447c78c9c29e6be7ed952": {
      "model_module": "@jupyter-widgets/base",
      "model_module_version": "1.1.0",
      "model_name": "LayoutModel",
      "state": {}
     },
     "6d970b4207dd4a0a835ca391a1246f1f": {
      "model_module": "@jupyter-widgets/controls",
      "model_module_version": "1.4.0",
      "model_name": "HTMLModel",
      "state": {
       "description": "QA layer:",
       "layout": "IPY_MODEL_46362a471d774723818b9534cb86256e",
       "style": "IPY_MODEL_610c6e032f3745e1a66fc2d6cb47b3f4",
       "value": "<b>_1_km_16_days_VI_Quality</b>"
      }
     },
     "6dbc26bdfe9944fda2c7caa0a98d0e0b": {
      "model_module": "@jupyter-widgets/controls",
      "model_module_version": "1.4.0",
      "model_name": "VBoxModel",
      "state": {
       "children": [
        "IPY_MODEL_8aac1537c3864b36ae9404bc64b1c1e3"
       ],
       "layout": "IPY_MODEL_1a85d58e7a544d92b1b9f549c560f48b"
      }
     },
     "6ddadab5d8774832ae66455267fe7338": {
      "model_module": "@jupyter-widgets/base",
      "model_module_version": "1.1.0",
      "model_name": "LayoutModel",
      "state": {
       "width": "400px"
      }
     },
     "6dddf507b4844565981746969defb074": {
      "model_module": "@jupyter-widgets/controls",
      "model_module_version": "1.4.0",
      "model_name": "DescriptionStyleModel",
      "state": {
       "description_width": "initial"
      }
     },
     "6df05bc5f10c4fb081a9d7f7d9f3365e": {
      "model_module": "@jupyter-widgets/base",
      "model_module_version": "1.1.0",
      "model_name": "LayoutModel",
      "state": {
       "width": "400px"
      }
     },
     "6df5c536eb4643dc951c5c1ad39baf82": {
      "model_module": "@jupyter-widgets/base",
      "model_module_version": "1.1.0",
      "model_name": "LayoutModel",
      "state": {
       "width": "400px"
      }
     },
     "6df791593b9f49b081f4f6d42c7f0d1d": {
      "model_module": "@jupyter-widgets/base",
      "model_module_version": "1.1.0",
      "model_name": "LayoutModel",
      "state": {
       "width": "20%"
      }
     },
     "6e1587e04ca34f01a0780e8681c4cf22": {
      "model_module": "@jupyter-widgets/controls",
      "model_module_version": "1.4.0",
      "model_name": "ProgressStyleModel",
      "state": {
       "description_width": "initial"
      }
     },
     "6e16ed82a64147c790de71d32556b5ac": {
      "model_module": "@jupyter-widgets/base",
      "model_module_version": "1.1.0",
      "model_name": "LayoutModel",
      "state": {
       "height": "300px",
       "width": "99%"
      }
     },
     "6e1ada2802e6440aa02a00adc75a0a61": {
      "model_module": "@jupyter-widgets/base",
      "model_module_version": "1.1.0",
      "model_name": "LayoutModel",
      "state": {
       "height": "200px",
       "width": "99%"
      }
     },
     "6e96e55d28fa4063a44f26efc9f069a8": {
      "model_module": "@jupyter-widgets/base",
      "model_module_version": "1.1.0",
      "model_name": "LayoutModel",
      "state": {}
     },
     "6e9d2a200e3e44b69e218f12e368d029": {
      "model_module": "@jupyter-widgets/controls",
      "model_module_version": "1.4.0",
      "model_name": "ProgressStyleModel",
      "state": {
       "description_width": "initial"
      }
     },
     "6eaecffa43664ceaa55123383d3e4be5": {
      "model_module": "@jupyter-widgets/controls",
      "model_module_version": "1.4.0",
      "model_name": "VBoxModel",
      "state": {
       "children": [
        "IPY_MODEL_dd16c4d14d504e68b243d7ac165d6d5e"
       ],
       "layout": "IPY_MODEL_60968d9873914b34902ec527d05fa78e"
      }
     },
     "6ed861cf0ce247bd8a6856083407dd13": {
      "model_module": "@jupyter-widgets/controls",
      "model_module_version": "1.4.0",
      "model_name": "ButtonModel",
      "state": {
       "description": "Select ALL",
       "layout": "IPY_MODEL_f80a7c41ad8147988f3b638b5ebc0188",
       "style": "IPY_MODEL_76fa5063b88b47c38973dbb156768fe2"
      }
     },
     "6f1cf183935d4cda9dd5b8acbde883a4": {
      "model_module": "@jupyter-widgets/controls",
      "model_module_version": "1.4.0",
      "model_name": "HBoxModel",
      "state": {
       "children": [
        "IPY_MODEL_058e4ff390da43d6927852f05afedfc8",
        "IPY_MODEL_be1de8da87e648df801fdf2159024af1"
       ],
       "layout": "IPY_MODEL_3dc3e4989bb54d8081698f91d3415d8b"
      }
     },
     "6f278978813244bfb180497044182964": {
      "model_module": "@jupyter-widgets/controls",
      "model_module_version": "1.4.0",
      "model_name": "ButtonModel",
      "state": {
       "description": "Default selection",
       "layout": "IPY_MODEL_14c221ea8124410a9839ac7579144b81",
       "style": "IPY_MODEL_7b8d5e6989e245858dc58aac47c09013"
      }
     },
     "6f2b4d5e82ba42ed86957b231adec960": {
      "model_module": "@jupyter-widgets/controls",
      "model_module_version": "1.4.0",
      "model_name": "HBoxModel",
      "state": {
       "children": [
        "IPY_MODEL_5e5171afa59344999e13cc90db0be61e",
        "IPY_MODEL_9d723fe165f1403dab0bab6ba161067d",
        "IPY_MODEL_d3afdbac390442abb7305434172a744d"
       ],
       "layout": "IPY_MODEL_7d29c1e2cc484c4b8aaed75fbd0fb02f"
      }
     },
     "6f313e753ec4441ca79bfc9b4ae3a80d": {
      "model_module": "@jupyter-widgets/controls",
      "model_module_version": "1.4.0",
      "model_name": "ButtonStyleModel",
      "state": {}
     },
     "6f4354cb40524901b40f70d26f6f2c75": {
      "model_module": "@jupyter-widgets/base",
      "model_module_version": "1.1.0",
      "model_name": "LayoutModel",
      "state": {
       "width": "400px"
      }
     },
     "6f49fbb5e692435884802d977dd0f8e9": {
      "model_module": "@jupyter-widgets/controls",
      "model_module_version": "1.4.0",
      "model_name": "SelectMultipleModel",
      "state": {
       "_options_labels": [
        "VI produced, good quality",
        "VI produced, but check other QA",
        "Pixel produced, but most probably cloudy",
        "Pixel not produced due to other reasons than clouds"
       ],
       "description": "Description",
       "index": [
        0
       ],
       "layout": "IPY_MODEL_8bf2db0bc32843689d7e8371064729f2",
       "rows": 4,
       "style": "IPY_MODEL_008fbe5a943a47d197df13ea7ff59eb0"
      }
     },
     "6f5049e6963e4445a4a36f041abb7051": {
      "model_module": "@jupyter-widgets/base",
      "model_module_version": "1.1.0",
      "model_name": "LayoutModel",
      "state": {
       "width": "30%"
      }
     },
     "6f7c528f2c8b4ab79f3a85f6e7d9c10a": {
      "model_module": "@jupyter-widgets/base",
      "model_module_version": "1.1.0",
      "model_name": "LayoutModel",
      "state": {}
     },
     "6f844d6eb59b4eca88fbe467002a0d4f": {
      "model_module": "@jupyter-widgets/controls",
      "model_module_version": "1.4.0",
      "model_name": "VBoxModel",
      "state": {
       "children": [
        "IPY_MODEL_7bd5b4fbc6bd481eb4f7e7a97232493e"
       ],
       "layout": "IPY_MODEL_86120358616c41818157771dfe258da8"
      }
     },
     "6fc2adbfaf02420fac62c070637c20d6": {
      "model_module": "@jupyter-widgets/base",
      "model_module_version": "1.1.0",
      "model_name": "LayoutModel",
      "state": {}
     },
     "6ff18d46b22147539215ae1b1759739b": {
      "model_module": "@jupyter-widgets/controls",
      "model_module_version": "1.4.0",
      "model_name": "ButtonModel",
      "state": {
       "description": "Select ALL",
       "layout": "IPY_MODEL_7c52ac37a81f4d888a2ace023025939e",
       "style": "IPY_MODEL_4550d77588174c8b94f5de7598922ce2"
      }
     },
     "7007bdaf74a74596ae5465eb1f642384": {
      "model_module": "@jupyter-widgets/base",
      "model_module_version": "1.1.0",
      "model_name": "LayoutModel",
      "state": {}
     },
     "700f0fcdb384446ba6a27cbed9c970cc": {
      "model_module": "@jupyter-widgets/controls",
      "model_module_version": "1.4.0",
      "model_name": "ButtonStyleModel",
      "state": {}
     },
     "702100f4360f446ebc0b2025b46c372f": {
      "model_module": "@jupyter-widgets/base",
      "model_module_version": "1.1.0",
      "model_name": "LayoutModel",
      "state": {}
     },
     "7024fa028d234ed7a25475d7954cf289": {
      "model_module": "@jupyter-widgets/controls",
      "model_module_version": "1.4.0",
      "model_name": "ButtonModel",
      "state": {
       "description": "Default selection",
       "layout": "IPY_MODEL_a69efe3e986e4aac84aa55bf85b350e3",
       "style": "IPY_MODEL_7d92448815ef49588cf0336e22ceecb1"
      }
     },
     "703e9aa2642a4c9bbaf01352076d26d7": {
      "model_module": "@jupyter-widgets/base",
      "model_module_version": "1.1.0",
      "model_name": "LayoutModel",
      "state": {
       "width": "400px"
      }
     },
     "704e3484e77b472ba8376dab198b6d63": {
      "model_module": "@jupyter-widgets/controls",
      "model_module_version": "1.4.0",
      "model_name": "VBoxModel",
      "state": {
       "children": [
        "IPY_MODEL_b67d35f1269542ad9f83aa086db3d60d"
       ],
       "layout": "IPY_MODEL_2bd1f74660874bb1b00483bbb55f3b0b"
      }
     },
     "706bdcc81d5648c09198ae27abc79e70": {
      "model_module": "@jupyter-widgets/controls",
      "model_module_version": "1.4.0",
      "model_name": "VBoxModel",
      "state": {
       "children": [
        "IPY_MODEL_2dc3b1b90b774ccc857c3f6baec3d677"
       ],
       "layout": "IPY_MODEL_f3cdb2b7276a46bf952e61c655edaf1c"
      }
     },
     "71158aa1f78e45d98b9edf86474b016f": {
      "model_module": "@jupyter-widgets/base",
      "model_module_version": "1.1.0",
      "model_name": "LayoutModel",
      "state": {}
     },
     "718594f1987d4670af379d9bc3668cc7": {
      "model_module": "@jupyter-widgets/controls",
      "model_module_version": "1.4.0",
      "model_name": "DescriptionStyleModel",
      "state": {
       "description_width": ""
      }
     },
     "718dfee5a2dd4dda97c07d919306ae4b": {
      "model_module": "@jupyter-widgets/controls",
      "model_module_version": "1.4.0",
      "model_name": "HTMLModel",
      "state": {
       "description": "QA layer:",
       "layout": "IPY_MODEL_d49d5f488b4e4d4fad8c1c1f7a25b64b",
       "style": "IPY_MODEL_a88ad1be6009414e84682972a96f94d8",
       "value": "<b>_1_km_16_days_VI_Quality</b>"
      }
     },
     "71a4490699324bd5a73721ff651f1f3a": {
      "model_module": "@jupyter-widgets/controls",
      "model_module_version": "1.4.0",
      "model_name": "ButtonModel",
      "state": {
       "description": "QA analytics",
       "layout": "IPY_MODEL_1019d200dd5e4127a1f0638e6edc30c3",
       "style": "IPY_MODEL_562cedd210bd418cb954c4f84a36403c"
      }
     },
     "71a708ac88bd4fbea1cbc2a859aea447": {
      "model_module": "@jupyter-widgets/controls",
      "model_module_version": "1.4.0",
      "model_name": "HBoxModel",
      "state": {
       "children": [
        "IPY_MODEL_704e3484e77b472ba8376dab198b6d63",
        "IPY_MODEL_f4a45bfa2b264bc1ae7c8ead9f896692"
       ],
       "layout": "IPY_MODEL_9e5d119f74c94544a2b3af0e49c6c28c"
      }
     },
     "7239d97ff1d44365ac17c5cb81a6fbd4": {
      "model_module": "@jupyter-widgets/controls",
      "model_module_version": "1.4.0",
      "model_name": "HBoxModel",
      "state": {
       "children": [
        "IPY_MODEL_cd78950b392c4730aaf93eb0645ed6ef",
        "IPY_MODEL_f0da8691a0ea4a128c1d8506470fe75f",
        "IPY_MODEL_ed3fdeab2bcf4c85887214f690b3c4f3"
       ],
       "layout": "IPY_MODEL_586bb5fe232b460abe6315916a388e21"
      }
     },
     "723e5ccfcf334ec2b671755038ecaf40": {
      "model_module": "@jupyter-widgets/base",
      "model_module_version": "1.1.0",
      "model_name": "LayoutModel",
      "state": {}
     },
     "72418b43dd994da8a0d022993f080fcb": {
      "model_module": "@jupyter-widgets/base",
      "model_module_version": "1.1.0",
      "model_name": "LayoutModel",
      "state": {}
     },
     "727b31ee67554957a12f374f12446ea5": {
      "model_module": "@jupyter-widgets/controls",
      "model_module_version": "1.4.0",
      "model_name": "DescriptionStyleModel",
      "state": {
       "description_width": "initial"
      }
     },
     "7281f93790b64aba85d1816157b0ef1a": {
      "model_module": "@jupyter-widgets/controls",
      "model_module_version": "1.4.0",
      "model_name": "DescriptionStyleModel",
      "state": {
       "description_width": "initial"
      }
     },
     "729a2ad1e1f546749dde94932af3924a": {
      "model_module": "@jupyter-widgets/base",
      "model_module_version": "1.1.0",
      "model_name": "LayoutModel",
      "state": {
       "width": "400px"
      }
     },
     "729b4d68dbcb4f77b928154d74643260": {
      "model_module": "@jupyter-widgets/controls",
      "model_module_version": "1.4.0",
      "model_name": "HBoxModel",
      "state": {
       "children": [
        "IPY_MODEL_945f092b9380479a968e3b30d1e88885",
        "IPY_MODEL_75651600273a4cd69f968249bee8b0a6"
       ],
       "layout": "IPY_MODEL_fda1ee3ab6674c77a88ed9513eecbbcd"
      }
     },
     "72aeb786b84943ad98ef2af08a4c4834": {
      "model_module": "@jupyter-widgets/controls",
      "model_module_version": "1.4.0",
      "model_name": "HTMLModel",
      "state": {
       "description": "QA layer:",
       "layout": "IPY_MODEL_a1c8b531d1d5435b8c7e3a67b7eaf4d4",
       "style": "IPY_MODEL_0e79237d7c02468b98fa75358d40c427",
       "value": "<b>_1_km_16_days_VI_Quality</b>"
      }
     },
     "72f622fb4ff947868f732c3d8948a443": {
      "model_module": "@jupyter-widgets/base",
      "model_module_version": "1.1.0",
      "model_name": "LayoutModel",
      "state": {
       "width": "20%"
      }
     },
     "72f75701f6c9430db9017d3435ab851e": {
      "model_module": "@jupyter-widgets/base",
      "model_module_version": "1.1.0",
      "model_name": "LayoutModel",
      "state": {
       "height": "300px",
       "width": "99%"
      }
     },
     "72ff21b784564cc282b6921a528ebf2e": {
      "model_module": "@jupyter-widgets/base",
      "model_module_version": "1.1.0",
      "model_name": "LayoutModel",
      "state": {
       "width": "400px"
      }
     },
     "7324d6ca2467460a96ba9f8d6f0ec27f": {
      "model_module": "@jupyter-widgets/controls",
      "model_module_version": "1.4.0",
      "model_name": "DescriptionStyleModel",
      "state": {
       "description_width": "initial"
      }
     },
     "7340e644504544668c18d24d3220f2dd": {
      "model_module": "@jupyter-widgets/base",
      "model_module_version": "1.1.0",
      "model_name": "LayoutModel",
      "state": {}
     },
     "73462efce06a49659ff43e2f1d68b1e2": {
      "model_module": "@jupyter-widgets/base",
      "model_module_version": "1.1.0",
      "model_name": "LayoutModel",
      "state": {}
     },
     "7356499705ef4ca08c1c7c4bad558234": {
      "model_module": "@jupyter-widgets/controls",
      "model_module_version": "1.4.0",
      "model_name": "HBoxModel",
      "state": {
       "children": [
        "IPY_MODEL_a8c045949e934184a0f1435429cc8280",
        "IPY_MODEL_2b286b9eff0b486593590c2f8fa05e79"
       ],
       "layout": "IPY_MODEL_a7819211aa9e4147a396898c9465cff1"
      }
     },
     "73656e9ae27b4fa79c26dacd2524d8be": {
      "model_module": "@jupyter-widgets/controls",
      "model_module_version": "1.4.0",
      "model_name": "SelectModel",
      "state": {
       "_options_labels": [
        "MODLAND",
        "VI Usefulness",
        "Aerosol Quantity",
        "Adjacent cloud detected",
        "Atmosphere BRDF Correction",
        "Mixed Clouds",
        "Land/Water Mask",
        "Possible snow/ice",
        "Possible shadow"
       ],
       "description": "QA Parameter name:",
       "index": 3,
       "layout": "IPY_MODEL_92d9d89a2ad947d5b061ca030d6d5e08",
       "rows": 9,
       "style": "IPY_MODEL_f30728f4572d4f0ab23dd69ea57be6e1"
      }
     },
     "738e8f2485704aceba8d864ed7313867": {
      "model_module": "@jupyter-widgets/controls",
      "model_module_version": "1.4.0",
      "model_name": "DescriptionStyleModel",
      "state": {
       "description_width": ""
      }
     },
     "73c45db3c2aa4725a408c9429017553e": {
      "model_module": "@jupyter-widgets/controls",
      "model_module_version": "1.4.0",
      "model_name": "HBoxModel",
      "state": {
       "children": [
        "IPY_MODEL_b1b7da47e8e54217abc4df408ddbbe08",
        "IPY_MODEL_73e82ae3bcac49eda97bb4878fa5f4ef"
       ],
       "layout": "IPY_MODEL_98cdc8aa76b34954b1a5dc9b16202fea"
      }
     },
     "73d6eca11dfd48fbbf49454db4caca11": {
      "model_module": "@jupyter-widgets/controls",
      "model_module_version": "1.4.0",
      "model_name": "ButtonStyleModel",
      "state": {}
     },
     "73dfb3893cdd46f1b6085be8f98e812b": {
      "model_module": "@jupyter-widgets/controls",
      "model_module_version": "1.4.0",
      "model_name": "ButtonModel",
      "state": {
       "description": "Select ALL",
       "layout": "IPY_MODEL_2b80b8efdcd14e75979bdf1712bfa52a",
       "style": "IPY_MODEL_e11e1279d51a4591b57a941916031741"
      }
     },
     "73e82ae3bcac49eda97bb4878fa5f4ef": {
      "model_module": "@jupyter-widgets/controls",
      "model_module_version": "1.4.0",
      "model_name": "VBoxModel",
      "state": {
       "children": [
        "IPY_MODEL_b27ada6560dc4c1990e260423cc2abd3"
       ],
       "layout": "IPY_MODEL_0ea50f36b4b240bda3ae9977bfcc7ef9"
      }
     },
     "73fcbd36ee104fea85b02c401cf48db1": {
      "model_module": "@jupyter-widgets/controls",
      "model_module_version": "1.4.0",
      "model_name": "ButtonStyleModel",
      "state": {}
     },
     "7424e55c8b93451e9b21914f1367236b": {
      "model_module": "@jupyter-widgets/base",
      "model_module_version": "1.1.0",
      "model_name": "LayoutModel",
      "state": {
       "width": "20%"
      }
     },
     "743e3606c19d4c92a74622cf9760d865": {
      "model_module": "@jupyter-widgets/controls",
      "model_module_version": "1.4.0",
      "model_name": "ButtonModel",
      "state": {
       "description": "Default selection",
       "layout": "IPY_MODEL_e82947d0fdcb4772b42bf1a6e0e3f330",
       "style": "IPY_MODEL_959892dec6cb406dbf4961cd324591f5"
      }
     },
     "7469c4ebecb547d9b88488d055a35631": {
      "model_module": "@jupyter-widgets/controls",
      "model_module_version": "1.4.0",
      "model_name": "SelectModel",
      "state": {
       "_options_labels": [
        "MODLAND",
        "VI Usefulness",
        "Aerosol Quantity",
        "Adjacent cloud detected",
        "Atmosphere BRDF Correction",
        "Mixed Clouds",
        "Land/Water Mask",
        "Possible snow/ice",
        "Possible shadow"
       ],
       "description": "QA Parameter name:",
       "index": 0,
       "layout": "IPY_MODEL_8d94f0746fb24c1992fb26fbcea009e6",
       "rows": 9,
       "style": "IPY_MODEL_787f3a58c81341e9acb55cf065a62c02"
      }
     },
     "747aebafeced4e77bbd990b586154698": {
      "model_module": "@jupyter-widgets/controls",
      "model_module_version": "1.4.0",
      "model_name": "ButtonModel",
      "state": {
       "description": "QA analytics",
       "layout": "IPY_MODEL_3a2e2907f0174d30ae432ab427a2dc3d",
       "style": "IPY_MODEL_9056e51520e54ee2986ea4a932883b21"
      }
     },
     "74bb935408a948f0a33e64e118c73429": {
      "model_module": "@jupyter-widgets/controls",
      "model_module_version": "1.4.0",
      "model_name": "HBoxModel",
      "state": {
       "children": [
        "IPY_MODEL_763945f19e8f4bfeaa80636411ff7302",
        "IPY_MODEL_8e71180ef3524fdf9ae29b423c451d48",
        "IPY_MODEL_0962c92e08ac4b6d8d394e87a7dbd062",
        "IPY_MODEL_09cf0a0d028748549ee3ecbf1eeac748"
       ],
       "layout": "IPY_MODEL_2d39ca88f1dd4458b536d54083d77912"
      }
     },
     "74cb56f0fdcd42ae9cb0d5c4ebb2e842": {
      "model_module": "@jupyter-widgets/controls",
      "model_module_version": "1.4.0",
      "model_name": "ButtonStyleModel",
      "state": {}
     },
     "74f8d7564dba40be8242870760b7bc83": {
      "model_module": "@jupyter-widgets/controls",
      "model_module_version": "1.4.0",
      "model_name": "ButtonStyleModel",
      "state": {}
     },
     "75002102f00440e4a2c8d815dd1ce9a0": {
      "model_module": "@jupyter-widgets/controls",
      "model_module_version": "1.4.0",
      "model_name": "HBoxModel",
      "state": {
       "children": [
        "IPY_MODEL_aa678b29560843338ca934374de44776",
        "IPY_MODEL_b388c447d36a4825b7fed33849b046ad"
       ],
       "layout": "IPY_MODEL_98d68d0aaaa944c18cf4fea2a6d73c7c"
      }
     },
     "750b1036a33640deab6b9f10da8fd898": {
      "model_module": "@jupyter-widgets/controls",
      "model_module_version": "1.4.0",
      "model_name": "SelectModel",
      "state": {
       "_options_labels": [
        "MODLAND"
       ],
       "description": "QA Parameter name:",
       "index": 0,
       "layout": "IPY_MODEL_9d4410b927e4426f9cf4eed2df129d82",
       "rows": 1,
       "style": "IPY_MODEL_afe40347b0634931bb1e9c8b5918a31e"
      }
     },
     "75569b4f127041acbff8d12684b4d325": {
      "model_module": "@jupyter-widgets/base",
      "model_module_version": "1.1.0",
      "model_name": "LayoutModel",
      "state": {
       "width": "20%"
      }
     },
     "75651600273a4cd69f968249bee8b0a6": {
      "model_module": "@jupyter-widgets/controls",
      "model_module_version": "1.4.0",
      "model_name": "VBoxModel",
      "state": {
       "children": [
        "IPY_MODEL_4c3cfeb448ba4387b258d1d784236924"
       ],
       "layout": "IPY_MODEL_6cca35ea9d3845b283b1c1df3a91cd3c"
      }
     },
     "7569dec42c824b95a22efa325ded8ce4": {
      "model_module": "@jupyter-widgets/base",
      "model_module_version": "1.1.0",
      "model_name": "LayoutModel",
      "state": {
       "width": "400px"
      }
     },
     "758006c7b90840aaa9a3116f957abd54": {
      "model_module": "@jupyter-widgets/base",
      "model_module_version": "1.1.0",
      "model_name": "LayoutModel",
      "state": {}
     },
     "758759c0385a40f589dcfeea5fda3699": {
      "model_module": "@jupyter-widgets/base",
      "model_module_version": "1.1.0",
      "model_name": "LayoutModel",
      "state": {
       "width": "30%"
      }
     },
     "759f9a5c46b3427c80092deb787608c5": {
      "model_module": "@jupyter-widgets/controls",
      "model_module_version": "1.4.0",
      "model_name": "HBoxModel",
      "state": {
       "children": [
        "IPY_MODEL_3beb57b351db41d4b8c9bc303bfba7fd",
        "IPY_MODEL_7eff846613414d549162ae96b96f9512"
       ],
       "layout": "IPY_MODEL_bc9ebbd9307a42d9b17f7ada872e3fcd"
      }
     },
     "75aeb2861d63477189ccc134fade6245": {
      "model_module": "@jupyter-widgets/base",
      "model_module_version": "1.1.0",
      "model_name": "LayoutModel",
      "state": {}
     },
     "75cfdd1f449c4b97b3ffa779898f157e": {
      "model_module": "@jupyter-widgets/controls",
      "model_module_version": "1.4.0",
      "model_name": "DescriptionStyleModel",
      "state": {
       "description_width": "initial"
      }
     },
     "75f665509cfc4584bb421804d37f0ddb": {
      "model_module": "@jupyter-widgets/controls",
      "model_module_version": "1.4.0",
      "model_name": "HBoxModel",
      "state": {
       "children": [
        "IPY_MODEL_57a4a7d8226a4287ade78b4f4b2baef1",
        "IPY_MODEL_17ad27edc6524f83a3701e14084b72aa"
       ],
       "layout": "IPY_MODEL_78c5d5284e784db5b99d70c3655091ba"
      }
     },
     "763945f19e8f4bfeaa80636411ff7302": {
      "model_module": "@jupyter-widgets/controls",
      "model_module_version": "1.4.0",
      "model_name": "SelectModel",
      "state": {
       "_options_labels": [
        "MODLAND",
        "VI Usefulness",
        "Aerosol Quantity",
        "Adjacent cloud detected",
        "Atmosphere BRDF Correction",
        "Mixed Clouds",
        "Land/Water Mask",
        "Possible snow/ice",
        "Possible shadow"
       ],
       "description": "QA Parameter name:",
       "index": 0,
       "layout": "IPY_MODEL_56aaeccfa6fd4fac9f2ec02ae83a5b21",
       "rows": 9,
       "style": "IPY_MODEL_a8e4d97f9ca94dea8df107aee95e0642"
      }
     },
     "766eea6ebcb14502aa5ca6ba9ada8a1a": {
      "model_module": "@jupyter-widgets/controls",
      "model_module_version": "1.4.0",
      "model_name": "VBoxModel",
      "state": {
       "children": [
        "IPY_MODEL_1e3a4d9b79b44b2792709a9414361554"
       ],
       "layout": "IPY_MODEL_f1a290073a7349538c1f622c3ed1686b"
      }
     },
     "767f8e33fdbd435481df1a1992e8cc3e": {
      "model_module": "@jupyter-widgets/controls",
      "model_module_version": "1.4.0",
      "model_name": "HTMLModel",
      "state": {
       "description": "QA layer:",
       "layout": "IPY_MODEL_9a16f1e216f44ccd8281ee224ffd1474",
       "style": "IPY_MODEL_95bee077fed94f94b64c866894bd461d",
       "value": "<b>_1_km_16_days_VI_Quality</b>"
      }
     },
     "76989e168f61425fb5ac04f695e3696b": {
      "model_module": "@jupyter-widgets/controls",
      "model_module_version": "1.4.0",
      "model_name": "HBoxModel",
      "state": {
       "children": [
        "IPY_MODEL_73656e9ae27b4fa79c26dacd2524d8be",
        "IPY_MODEL_662f290cc086498fb8a908f435da1364",
        "IPY_MODEL_230e662c65c14751a02fbc0d1d1bbfab",
        "IPY_MODEL_a1a2c8d08519450c98cce96ca2614bca"
       ],
       "layout": "IPY_MODEL_ccaf1b9ea75041ddbd13dea3de1e6718"
      }
     },
     "76a819b4578445b9b203b0d513a693b8": {
      "model_module": "@jupyter-widgets/controls",
      "model_module_version": "1.4.0",
      "model_name": "HTMLModel",
      "state": {
       "description": "QA layer:",
       "layout": "IPY_MODEL_71158aa1f78e45d98b9edf86474b016f",
       "style": "IPY_MODEL_274fa190e5b847059e8265b409031bf2",
       "value": "<b>_1_km_16_days_VI_Quality</b>"
      }
     },
     "76b421e5eb954d4095e2e40bf34d96e9": {
      "model_module": "@jupyter-widgets/controls",
      "model_module_version": "1.4.0",
      "model_name": "ButtonStyleModel",
      "state": {}
     },
     "76c0157e03634c979fd52f69bec06b22": {
      "model_module": "@jupyter-widgets/controls",
      "model_module_version": "1.4.0",
      "model_name": "HTMLModel",
      "state": {
       "description": "QA layer:",
       "layout": "IPY_MODEL_4004e93a34094382a62a81e30478ff95",
       "style": "IPY_MODEL_4773aec33e0b498bb7684f63e612262c",
       "value": "<b>_1_km_16_days_VI_Quality</b>"
      }
     },
     "76ede610c65647529380081b40377804": {
      "model_module": "@jupyter-widgets/controls",
      "model_module_version": "1.4.0",
      "model_name": "DescriptionStyleModel",
      "state": {
       "description_width": "initial"
      }
     },
     "76eeb0cb23f849e690c5ea543e402677": {
      "model_module": "@jupyter-widgets/base",
      "model_module_version": "1.1.0",
      "model_name": "LayoutModel",
      "state": {
       "width": "400px"
      }
     },
     "76fa5063b88b47c38973dbb156768fe2": {
      "model_module": "@jupyter-widgets/controls",
      "model_module_version": "1.4.0",
      "model_name": "ButtonStyleModel",
      "state": {}
     },
     "773cff4abaed433ca3929971bb16386e": {
      "model_module": "@jupyter-widgets/base",
      "model_module_version": "1.1.0",
      "model_name": "LayoutModel",
      "state": {}
     },
     "776ca41e269b416aae6276b01e0b9808": {
      "model_module": "@jupyter-widgets/controls",
      "model_module_version": "1.4.0",
      "model_name": "ButtonStyleModel",
      "state": {}
     },
     "777072fe74ed4c9f8477c85e0df3a4b0": {
      "model_module": "@jupyter-widgets/controls",
      "model_module_version": "1.4.0",
      "model_name": "ButtonModel",
      "state": {
       "description": "Default selection",
       "layout": "IPY_MODEL_b132844f2847403592e95f3cc468af55",
       "style": "IPY_MODEL_b1130c0b68aa49eab1f4e458a2347d44"
      }
     },
     "77886378f0a4415c9e419a8a2f2c9c89": {
      "model_module": "@jupyter-widgets/controls",
      "model_module_version": "1.4.0",
      "model_name": "ProgressStyleModel",
      "state": {
       "description_width": "initial"
      }
     },
     "77897c6fc30e42a2a424a2373bda6ef3": {
      "model_module": "@jupyter-widgets/base",
      "model_module_version": "1.1.0",
      "model_name": "LayoutModel",
      "state": {
       "width": "400px"
      }
     },
     "778ec761d3434880a60f75977e82ced3": {
      "model_module": "@jupyter-widgets/controls",
      "model_module_version": "1.4.0",
      "model_name": "HBoxModel",
      "state": {
       "children": [
        "IPY_MODEL_b205d3cb0c9d4e1492eb4f0cf17e1c33",
        "IPY_MODEL_1f660fbaebfd44ecbf2cc1486c58056f"
       ],
       "layout": "IPY_MODEL_3f83f069813940ad870a8f44e155d129"
      }
     },
     "77c0c8487d4a432d9a2455ebf721ab30": {
      "model_module": "@jupyter-widgets/controls",
      "model_module_version": "1.4.0",
      "model_name": "ButtonStyleModel",
      "state": {}
     },
     "77c4c56b369549fcaa7a2f1b49850147": {
      "model_module": "@jupyter-widgets/controls",
      "model_module_version": "1.4.0",
      "model_name": "ButtonStyleModel",
      "state": {}
     },
     "77d59c88146448a3bbdb8d197ad87a3d": {
      "model_module": "@jupyter-widgets/controls",
      "model_module_version": "1.4.0",
      "model_name": "VBoxModel",
      "state": {
       "children": [
        "IPY_MODEL_6b125f43972a4e0ebacab9166143b8a0"
       ],
       "layout": "IPY_MODEL_f28305c77879433891e7b33908e1b043"
      }
     },
     "77e3ee1d86494ebdb7ebb7a45858031e": {
      "model_module": "@jupyter-widgets/controls",
      "model_module_version": "1.4.0",
      "model_name": "HBoxModel",
      "state": {
       "children": [
        "IPY_MODEL_77e9947615e94467a38cb9216d857c1b",
        "IPY_MODEL_eed7939d7ac2433db3197ee07e8ba05e"
       ],
       "layout": "IPY_MODEL_53d0a539716e4cb5b81e68089a405718"
      }
     },
     "77e9947615e94467a38cb9216d857c1b": {
      "model_module": "@jupyter-widgets/controls",
      "model_module_version": "1.4.0",
      "model_name": "VBoxModel",
      "state": {
       "children": [
        "IPY_MODEL_17798a680f2f4dcc94c81abacedd1833"
       ],
       "layout": "IPY_MODEL_e58cd7683d76480a812121d34e2beee4"
      }
     },
     "781542e3c7be47708cc5dd75019e5886": {
      "model_module": "@jupyter-widgets/controls",
      "model_module_version": "1.4.0",
      "model_name": "ButtonModel",
      "state": {
       "description": "Default selection",
       "layout": "IPY_MODEL_860b8bce48674335b84242d61915c821",
       "style": "IPY_MODEL_66e9f11254d7462d868edf249f91744e"
      }
     },
     "782c72d2943c4531b70f5404c6b9733a": {
      "model_module": "@jupyter-widgets/controls",
      "model_module_version": "1.4.0",
      "model_name": "DescriptionStyleModel",
      "state": {
       "description_width": "initial"
      }
     },
     "7848df38a25346c4871c99d6c4608fed": {
      "model_module": "@jupyter-widgets/base",
      "model_module_version": "1.1.0",
      "model_name": "LayoutModel",
      "state": {}
     },
     "7873065d08c147e38780097eb904b857": {
      "model_module": "@jupyter-widgets/base",
      "model_module_version": "1.1.0",
      "model_name": "LayoutModel",
      "state": {}
     },
     "787f3a58c81341e9acb55cf065a62c02": {
      "model_module": "@jupyter-widgets/controls",
      "model_module_version": "1.4.0",
      "model_name": "DescriptionStyleModel",
      "state": {
       "description_width": "initial"
      }
     },
     "78c5d5284e784db5b99d70c3655091ba": {
      "model_module": "@jupyter-widgets/base",
      "model_module_version": "1.1.0",
      "model_name": "LayoutModel",
      "state": {
       "height": "300px",
       "width": "99%"
      }
     },
     "78c63633e56147398882aebf45437987": {
      "model_module": "@jupyter-widgets/base",
      "model_module_version": "1.1.0",
      "model_name": "LayoutModel",
      "state": {
       "width": "350px"
      }
     },
     "7918498bd3584f9391995c9b5df740e8": {
      "model_module": "@jupyter-widgets/controls",
      "model_module_version": "1.4.0",
      "model_name": "ButtonModel",
      "state": {
       "description": "Default selection",
       "layout": "IPY_MODEL_e37bb57b33a747b4b931a7e75c914574",
       "style": "IPY_MODEL_f9fd3a1ef5794c4c948bc76d387f9359"
      }
     },
     "7936c81920e149d6829cfd93e6bee621": {
      "model_module": "@jupyter-widgets/controls",
      "model_module_version": "1.4.0",
      "model_name": "ButtonModel",
      "state": {
       "description": "QA analytics",
       "layout": "IPY_MODEL_006b6cb6da394a33a75d4b5ca18823d6",
       "style": "IPY_MODEL_28527b93eceb4cf2b343126440d4be0a"
      }
     },
     "796abd022c2e4fc69ca730ecdf9848a2": {
      "model_module": "@jupyter-widgets/base",
      "model_module_version": "1.1.0",
      "model_name": "LayoutModel",
      "state": {}
     },
     "79914e40cc1f4cacace01989fff78427": {
      "model_module": "@jupyter-widgets/base",
      "model_module_version": "1.1.0",
      "model_name": "LayoutModel",
      "state": {
       "width": "400px"
      }
     },
     "79c71a0a01a7417484676927383cefeb": {
      "model_module": "@jupyter-widgets/base",
      "model_module_version": "1.1.0",
      "model_name": "LayoutModel",
      "state": {
       "width": "20%"
      }
     },
     "79d38e7bbfde4b86b08ec639eacc55f6": {
      "model_module": "@jupyter-widgets/controls",
      "model_module_version": "1.4.0",
      "model_name": "ButtonStyleModel",
      "state": {}
     },
     "79d3d05ba4a74ba793e9d1ccc8e9e389": {
      "model_module": "@jupyter-widgets/controls",
      "model_module_version": "1.4.0",
      "model_name": "ButtonStyleModel",
      "state": {}
     },
     "79dd0a7760324c2ca5eb04eede531e70": {
      "model_module": "@jupyter-widgets/controls",
      "model_module_version": "1.4.0",
      "model_name": "DescriptionStyleModel",
      "state": {
       "description_width": "initial"
      }
     },
     "79f15613ccfc420ba73962d28d149700": {
      "model_module": "@jupyter-widgets/controls",
      "model_module_version": "1.4.0",
      "model_name": "SelectModel",
      "state": {
       "_options_labels": [
        "MODLAND",
        "VI Usefulness",
        "Aerosol Quantity",
        "Adjacent cloud detected",
        "Atmosphere BRDF Correction",
        "Mixed Clouds",
        "Land/Water Mask",
        "Possible snow/ice",
        "Possible shadow"
       ],
       "description": "QA Parameter name:",
       "index": 0,
       "layout": "IPY_MODEL_83275533fb9c40a2af70e943f9895422",
       "rows": 9,
       "style": "IPY_MODEL_221573275ec44d648ac7fbf41d748588"
      }
     },
     "79f579763ecf4bbbafb67c5341700eee": {
      "model_module": "@jupyter-widgets/controls",
      "model_module_version": "1.4.0",
      "model_name": "ProgressStyleModel",
      "state": {
       "description_width": "initial"
      }
     },
     "7a0192fe2fb44991ab33499841033428": {
      "model_module": "@jupyter-widgets/controls",
      "model_module_version": "1.4.0",
      "model_name": "ProgressStyleModel",
      "state": {
       "description_width": "initial"
      }
     },
     "7a3005bffd4f49cc8feb11c7cfb18466": {
      "model_module": "@jupyter-widgets/base",
      "model_module_version": "1.1.0",
      "model_name": "LayoutModel",
      "state": {
       "width": "20%"
      }
     },
     "7a47feb02993435998b20eb8d2912942": {
      "model_module": "@jupyter-widgets/controls",
      "model_module_version": "1.4.0",
      "model_name": "ButtonModel",
      "state": {
       "description": "Select ALL",
       "layout": "IPY_MODEL_d9a64b03db9148be924848d1ce2ab435",
       "style": "IPY_MODEL_fb0662a9c8c84158b83f717c3cdbba88"
      }
     },
     "7a48e46611674e58a60077602853c01c": {
      "model_module": "@jupyter-widgets/base",
      "model_module_version": "1.1.0",
      "model_name": "LayoutModel",
      "state": {
       "height": "300px",
       "width": "99%"
      }
     },
     "7a552c11d658460b83aac29591860869": {
      "model_module": "@jupyter-widgets/base",
      "model_module_version": "1.1.0",
      "model_name": "LayoutModel",
      "state": {}
     },
     "7a6a754524c94003891dd9235c3ca93f": {
      "model_module": "@jupyter-widgets/controls",
      "model_module_version": "1.4.0",
      "model_name": "ProgressStyleModel",
      "state": {
       "description_width": "initial"
      }
     },
     "7a6c73341b854b0fbdcb1abeb72920d4": {
      "model_module": "@jupyter-widgets/controls",
      "model_module_version": "1.4.0",
      "model_name": "HBoxModel",
      "state": {
       "children": [
        "IPY_MODEL_214df4efd9154b2f87fd27bca10d928a",
        "IPY_MODEL_d462dbcf7ba64f95be571306e5fdb438"
       ],
       "layout": "IPY_MODEL_cabaffd368104961b995bce6830e9384"
      }
     },
     "7a6f2e16a51a471fad3c428f8df2b971": {
      "model_module": "@jupyter-widgets/controls",
      "model_module_version": "1.4.0",
      "model_name": "DescriptionStyleModel",
      "state": {
       "description_width": "initial"
      }
     },
     "7ad20d6a388e4279af8a55b47ac80974": {
      "model_module": "@jupyter-widgets/controls",
      "model_module_version": "1.4.0",
      "model_name": "ButtonStyleModel",
      "state": {}
     },
     "7adf8aaf111b4802bdb33867b50e3a4e": {
      "model_module": "@jupyter-widgets/base",
      "model_module_version": "1.1.0",
      "model_name": "LayoutModel",
      "state": {
       "width": "20%"
      }
     },
     "7afedca9337146e196e51db5d9176229": {
      "model_module": "@jupyter-widgets/controls",
      "model_module_version": "1.4.0",
      "model_name": "HBoxModel",
      "state": {
       "children": [
        "IPY_MODEL_3077541acf6444caa244c937aa00a621",
        "IPY_MODEL_fbd65f671fd44b859d149b9f3bdc2d53"
       ],
       "layout": "IPY_MODEL_ed3379e051cd4a639a819b247c65bdcf"
      }
     },
     "7b0e4f5165044e83aaf10185d875c5a7": {
      "model_module": "@jupyter-widgets/base",
      "model_module_version": "1.1.0",
      "model_name": "LayoutModel",
      "state": {}
     },
     "7b8ceb53865f452a8577b10a53506263": {
      "model_module": "@jupyter-widgets/base",
      "model_module_version": "1.1.0",
      "model_name": "LayoutModel",
      "state": {
       "width": "20%"
      }
     },
     "7b8d5e6989e245858dc58aac47c09013": {
      "model_module": "@jupyter-widgets/controls",
      "model_module_version": "1.4.0",
      "model_name": "ButtonStyleModel",
      "state": {}
     },
     "7bad61a7080c47178e92ad2e348f1622": {
      "model_module": "@jupyter-widgets/base",
      "model_module_version": "1.1.0",
      "model_name": "LayoutModel",
      "state": {
       "width": "400px"
      }
     },
     "7bb2ac8a8952408fa68c257ab8388df0": {
      "model_module": "@jupyter-widgets/base",
      "model_module_version": "1.1.0",
      "model_name": "LayoutModel",
      "state": {
       "width": "20%"
      }
     },
     "7bd5b4fbc6bd481eb4f7e7a97232493e": {
      "model_module": "@jupyter-widgets/controls",
      "model_module_version": "1.4.0",
      "model_name": "SelectMultipleModel",
      "state": {
       "_options_labels": [
        "Good data, use with confidence",
        "Marginal data, Useful, but look at other QA information",
        "Snow/Ice Target covered with snow/ice",
        "Cloudy data, Target not visible, covered with cloud"
       ],
       "description": "Description",
       "index": [
        0,
        1
       ],
       "layout": "IPY_MODEL_8645dab5d48a4000adbe619ce66f684e",
       "rows": 4,
       "style": "IPY_MODEL_7a6f2e16a51a471fad3c428f8df2b971"
      }
     },
     "7c2559d43e544a1c8181c2c144408303": {
      "model_module": "@jupyter-widgets/base",
      "model_module_version": "1.1.0",
      "model_name": "LayoutModel",
      "state": {}
     },
     "7c2e1d3d25d6480db3da49114058d706": {
      "model_module": "@jupyter-widgets/controls",
      "model_module_version": "1.4.0",
      "model_name": "ButtonModel",
      "state": {
       "description": "Select ALL",
       "layout": "IPY_MODEL_11b92ebe95c44d979f434a621b378df2",
       "style": "IPY_MODEL_a7040bcfdcac4e9593df3aba046a72cb"
      }
     },
     "7c381343aac644798e45fb9e92371fb8": {
      "model_module": "@jupyter-widgets/controls",
      "model_module_version": "1.4.0",
      "model_name": "HTMLModel",
      "state": {
       "description": "QA layer:",
       "layout": "IPY_MODEL_4b26135ef451485fad1ea6f912bfaeb9",
       "style": "IPY_MODEL_a653b4826a0944bfb33455b953035ff5",
       "value": "<b>_1_km_16_days_VI_Quality</b>"
      }
     },
     "7c52ac37a81f4d888a2ace023025939e": {
      "model_module": "@jupyter-widgets/base",
      "model_module_version": "1.1.0",
      "model_name": "LayoutModel",
      "state": {
       "width": "20%"
      }
     },
     "7c6518a8aed74ed18961db69ea90894e": {
      "model_module": "@jupyter-widgets/base",
      "model_module_version": "1.1.0",
      "model_name": "LayoutModel",
      "state": {
       "width": "30%"
      }
     },
     "7c6bd17b193d4254831b8d3cb6ecd1a4": {
      "model_module": "@jupyter-widgets/controls",
      "model_module_version": "1.4.0",
      "model_name": "HBoxModel",
      "state": {
       "children": [
        "IPY_MODEL_d0ef88c3e50f4c56badf35052ee145f6",
        "IPY_MODEL_faae7520e9d2483b8ca67610d3adb319"
       ],
       "layout": "IPY_MODEL_ad57e51c212043e993ffeef386a33578"
      }
     },
     "7c74efdbf1294a3cb4514fdc2dd1cc77": {
      "model_module": "@jupyter-widgets/controls",
      "model_module_version": "1.4.0",
      "model_name": "SelectMultipleModel",
      "state": {
       "_options_labels": [
        "No",
        "Yes"
       ],
       "description": "Description",
       "index": [
        0
       ],
       "layout": "IPY_MODEL_2bc4b9792f5048f19ec2c8fc3cefc2cf",
       "rows": 2,
       "style": "IPY_MODEL_6d572e5b0ea447d09cd198a8dc558ab3"
      }
     },
     "7ca3d3c085944b2c9f816214e9fa7eab": {
      "model_module": "@jupyter-widgets/controls",
      "model_module_version": "1.4.0",
      "model_name": "SelectMultipleModel",
      "state": {
       "_options_labels": [
        "VI produced, good quality",
        "VI produced, but check other QA",
        "Pixel produced, but most probably cloudy",
        "Pixel not produced due to other reasons than clouds"
       ],
       "description": "Description",
       "index": [
        0
       ],
       "layout": "IPY_MODEL_06683aae51e24f019faf6d9788c98df0",
       "rows": 4,
       "style": "IPY_MODEL_934284de91cb4bca990038d831666077"
      }
     },
     "7ca5e751f68444e485ecf98edfe1c91d": {
      "model_module": "@jupyter-widgets/controls",
      "model_module_version": "1.4.0",
      "model_name": "HTMLModel",
      "state": {
       "description": "QA layer:",
       "layout": "IPY_MODEL_bbd40368fdc4490aa645ffab2e292361",
       "style": "IPY_MODEL_1809b905ea1042889b214cbb779bbc4b",
       "value": "<b>_1_km_16_days_VI_Quality</b>"
      }
     },
     "7cd618a1edfb4715acc433aff0c99303": {
      "model_module": "@jupyter-widgets/base",
      "model_module_version": "1.1.0",
      "model_name": "LayoutModel",
      "state": {
       "height": "300px",
       "width": "99%"
      }
     },
     "7cdb2798d77d4674a6b9661a04a7594b": {
      "model_module": "@jupyter-widgets/base",
      "model_module_version": "1.1.0",
      "model_name": "LayoutModel",
      "state": {}
     },
     "7d21b1c111f249f6a2004723e8ef221e": {
      "model_module": "@jupyter-widgets/base",
      "model_module_version": "1.1.0",
      "model_name": "LayoutModel",
      "state": {}
     },
     "7d21e53550864e97a4f87eade08a6b1f": {
      "model_module": "@jupyter-widgets/controls",
      "model_module_version": "1.4.0",
      "model_name": "SelectMultipleModel",
      "state": {
       "_options_labels": [
        "No",
        "Yes"
       ],
       "description": "Description",
       "index": [
        0,
        1
       ],
       "layout": "IPY_MODEL_7ec528752d5240219b28918bfb765bc5",
       "rows": 2,
       "style": "IPY_MODEL_165ed080d63243408b37e35580bc8a19"
      }
     },
     "7d29c1e2cc484c4b8aaed75fbd0fb02f": {
      "model_module": "@jupyter-widgets/base",
      "model_module_version": "1.1.0",
      "model_name": "LayoutModel",
      "state": {}
     },
     "7d5b3c6fc8434957a2ee1106be439544": {
      "model_module": "@jupyter-widgets/controls",
      "model_module_version": "1.4.0",
      "model_name": "HBoxModel",
      "state": {
       "children": [
        "IPY_MODEL_ad53c7c8eba14e49a8767f45f93a9a9f",
        "IPY_MODEL_ed2c5f0a306b4a4f841926a92d5ed326"
       ],
       "layout": "IPY_MODEL_7de2c5f9c44740eb861742c80e009ecb"
      }
     },
     "7d6f139aab56461e86ffc2b2832ff9a5": {
      "model_module": "@jupyter-widgets/controls",
      "model_module_version": "1.4.0",
      "model_name": "ButtonModel",
      "state": {
       "description": "Default selection",
       "layout": "IPY_MODEL_dee0bbf0664f465798c1393743da58db",
       "style": "IPY_MODEL_b363bc51a72e4fc0ad3f597f9fabd0b7"
      }
     },
     "7d76ad2290be4b47877f6ca200600282": {
      "model_module": "@jupyter-widgets/controls",
      "model_module_version": "1.4.0",
      "model_name": "ButtonModel",
      "state": {
       "description": "Default selection",
       "layout": "IPY_MODEL_413ed81f3c784b6e99006aaba048171b",
       "style": "IPY_MODEL_d6c3d1f452f94565936c0f7583083aad"
      }
     },
     "7d92448815ef49588cf0336e22ceecb1": {
      "model_module": "@jupyter-widgets/controls",
      "model_module_version": "1.4.0",
      "model_name": "ButtonStyleModel",
      "state": {}
     },
     "7d92ef463979456abdb12b67cd72eaad": {
      "model_module": "@jupyter-widgets/controls",
      "model_module_version": "1.4.0",
      "model_name": "DescriptionStyleModel",
      "state": {
       "description_width": "initial"
      }
     },
     "7dabf6be4f08499fae72b5131b2cb3af": {
      "model_module": "@jupyter-widgets/controls",
      "model_module_version": "1.4.0",
      "model_name": "DescriptionStyleModel",
      "state": {
       "description_width": ""
      }
     },
     "7db2effc18c54e05a6429ce74b85922a": {
      "model_module": "@jupyter-widgets/controls",
      "model_module_version": "1.4.0",
      "model_name": "ProgressStyleModel",
      "state": {
       "description_width": "initial"
      }
     },
     "7de2c5f9c44740eb861742c80e009ecb": {
      "model_module": "@jupyter-widgets/base",
      "model_module_version": "1.1.0",
      "model_name": "LayoutModel",
      "state": {
       "height": "300px",
       "width": "99%"
      }
     },
     "7e655a02e1014ffd84d20e68e3f5fed6": {
      "model_module": "@jupyter-widgets/base",
      "model_module_version": "1.1.0",
      "model_name": "LayoutModel",
      "state": {
       "width": "30%"
      }
     },
     "7e669a786bd24dd7a9275f3e7a91b0e5": {
      "model_module": "@jupyter-widgets/controls",
      "model_module_version": "1.4.0",
      "model_name": "SelectModel",
      "state": {
       "_options_labels": [
        "MODLAND",
        "VI Usefulness",
        "Aerosol Quantity",
        "Adjacent cloud detected",
        "Atmosphere BRDF Correction",
        "Mixed Clouds",
        "Land/Water Mask",
        "Possible snow/ice",
        "Possible shadow"
       ],
       "description": "QA Parameter name:",
       "index": 0,
       "layout": "IPY_MODEL_7569dec42c824b95a22efa325ded8ce4",
       "rows": 9,
       "style": "IPY_MODEL_c64e371b3fbe4311a0d28e7649eb9862"
      }
     },
     "7ec528752d5240219b28918bfb765bc5": {
      "model_module": "@jupyter-widgets/base",
      "model_module_version": "1.1.0",
      "model_name": "LayoutModel",
      "state": {
       "width": "400px"
      }
     },
     "7eccd491f8174f198de97e7ae0691db6": {
      "model_module": "@jupyter-widgets/base",
      "model_module_version": "1.1.0",
      "model_name": "LayoutModel",
      "state": {
       "width": "50%"
      }
     },
     "7eeb19ffb23644ca824d1f96346d199d": {
      "model_module": "@jupyter-widgets/controls",
      "model_module_version": "1.4.0",
      "model_name": "VBoxModel",
      "state": {
       "children": [
        "IPY_MODEL_7ca3d3c085944b2c9f816214e9fa7eab"
       ],
       "layout": "IPY_MODEL_7848df38a25346c4871c99d6c4608fed"
      }
     },
     "7efb363610ff420ea896fbb350656ed8": {
      "model_module": "@jupyter-widgets/base",
      "model_module_version": "1.1.0",
      "model_name": "LayoutModel",
      "state": {
       "width": "50%"
      }
     },
     "7eff846613414d549162ae96b96f9512": {
      "model_module": "@jupyter-widgets/controls",
      "model_module_version": "1.4.0",
      "model_name": "VBoxModel",
      "state": {
       "children": [
        "IPY_MODEL_465bc6971a8e4212b4fc04c0398f07a8"
       ],
       "layout": "IPY_MODEL_723e5ccfcf334ec2b671755038ecaf40"
      }
     },
     "7f37a6f05d044b4d9b04aec78b83ed95": {
      "model_module": "@jupyter-widgets/base",
      "model_module_version": "1.1.0",
      "model_name": "LayoutModel",
      "state": {
       "width": "50%"
      }
     },
     "7f4ca7631df243e4acd3b247659ccfc6": {
      "model_module": "@jupyter-widgets/base",
      "model_module_version": "1.1.0",
      "model_name": "LayoutModel",
      "state": {}
     },
     "7f4e27e3c85a431c87be05bd42bc5d3c": {
      "model_module": "@jupyter-widgets/controls",
      "model_module_version": "1.4.0",
      "model_name": "ProgressStyleModel",
      "state": {
       "description_width": "initial"
      }
     },
     "7f5afbe3035541378a9bb909589f288c": {
      "model_module": "@jupyter-widgets/base",
      "model_module_version": "1.1.0",
      "model_name": "LayoutModel",
      "state": {}
     },
     "7fd08c1d06024fa5aba90e3e0d7ebdb0": {
      "model_module": "@jupyter-widgets/base",
      "model_module_version": "1.1.0",
      "model_name": "LayoutModel",
      "state": {
       "width": "20%"
      }
     },
     "7fd1e893a5d84fe48fb7c0bc37c2122e": {
      "model_module": "@jupyter-widgets/controls",
      "model_module_version": "1.4.0",
      "model_name": "ButtonModel",
      "state": {
       "description": "Default selection",
       "layout": "IPY_MODEL_2f02b6fff31844c6b21f2f3aba108245",
       "style": "IPY_MODEL_0e4c33e692d84618ae660c66f14fe888"
      }
     },
     "7fdb599637eb47cea0494c3940c9be76": {
      "model_module": "@jupyter-widgets/controls",
      "model_module_version": "1.4.0",
      "model_name": "ButtonModel",
      "state": {
       "description": "Select ALL",
       "layout": "IPY_MODEL_86c2b58bf01940bf80b2315578a96679",
       "style": "IPY_MODEL_c3301fec047148fe96ff0409b080bcf8"
      }
     },
     "7fe7fa5d61154aada3ad5b32d8d09a62": {
      "model_module": "@jupyter-widgets/base",
      "model_module_version": "1.1.0",
      "model_name": "LayoutModel",
      "state": {
       "height": "200px",
       "width": "99%"
      }
     },
     "7ffa67f1dec74172a21b0bbe78f5b115": {
      "model_module": "@jupyter-widgets/base",
      "model_module_version": "1.1.0",
      "model_name": "LayoutModel",
      "state": {}
     },
     "8005e2949237452e8359fccf67c87810": {
      "model_module": "@jupyter-widgets/controls",
      "model_module_version": "1.4.0",
      "model_name": "ButtonStyleModel",
      "state": {}
     },
     "800675b8a99446198dc44ccb3c9f922d": {
      "model_module": "@jupyter-widgets/controls",
      "model_module_version": "1.4.0",
      "model_name": "SelectModel",
      "state": {
       "_options_labels": [
        "MODLAND",
        "VI Usefulness",
        "Aerosol Quantity",
        "Adjacent cloud detected",
        "Atmosphere BRDF Correction",
        "Mixed Clouds",
        "Land/Water Mask",
        "Possible snow/ice",
        "Possible shadow"
       ],
       "description": "QA Parameter name:",
       "index": 0,
       "layout": "IPY_MODEL_8990599484714199af800415ad96a1e3",
       "rows": 9,
       "style": "IPY_MODEL_87234e8687244990be2a1056309c8c2f"
      }
     },
     "801b78a2b1634135ac11369692f5079a": {
      "model_module": "@jupyter-widgets/controls",
      "model_module_version": "1.4.0",
      "model_name": "SelectMultipleModel",
      "state": {
       "_options_labels": [
        "Good data, use with confidence",
        "Marginal data, Useful, but look at other QA information",
        "Snow/Ice Target covered with snow/ice",
        "Cloudy data, Target not visible, covered with cloud"
       ],
       "description": "Description",
       "index": [
        0
       ],
       "layout": "IPY_MODEL_a1c2d147b974467f954aa0dea80d7360",
       "rows": 4,
       "style": "IPY_MODEL_dc2ad029ac5449fc9688bc4c907fc1a9"
      }
     },
     "802e4114968d4311bb379cebb4c26781": {
      "model_module": "@jupyter-widgets/base",
      "model_module_version": "1.1.0",
      "model_name": "LayoutModel",
      "state": {
       "width": "350px"
      }
     },
     "80b17b7a58b64bf785335225e22967b4": {
      "model_module": "@jupyter-widgets/base",
      "model_module_version": "1.1.0",
      "model_name": "LayoutModel",
      "state": {
       "width": "20%"
      }
     },
     "80b5a73dca5f420e8feb850c8671b3b8": {
      "model_module": "@jupyter-widgets/base",
      "model_module_version": "1.1.0",
      "model_name": "LayoutModel",
      "state": {
       "width": "20%"
      }
     },
     "80d500df191845678ba7726d3954d8a2": {
      "model_module": "@jupyter-widgets/controls",
      "model_module_version": "1.4.0",
      "model_name": "SelectModel",
      "state": {
       "_options_labels": [
        "MODLAND",
        "VI Usefulness",
        "Aerosol Quantity",
        "Adjacent cloud detected",
        "Atmosphere BRDF Correction",
        "Mixed Clouds",
        "Land/Water Mask",
        "Possible snow/ice",
        "Possible shadow"
       ],
       "description": "QA Parameter name:",
       "index": 0,
       "layout": "IPY_MODEL_802e4114968d4311bb379cebb4c26781",
       "rows": 9,
       "style": "IPY_MODEL_397c5735834f442f8c2116447c472421"
      }
     },
     "80da1ccb4c804c13869f6be258513656": {
      "model_module": "@jupyter-widgets/base",
      "model_module_version": "1.1.0",
      "model_name": "LayoutModel",
      "state": {}
     },
     "80e3834b190d48a4881807a3077ec19e": {
      "model_module": "@jupyter-widgets/base",
      "model_module_version": "1.1.0",
      "model_name": "LayoutModel",
      "state": {}
     },
     "80efeb2adc6844b0a029f31603987c56": {
      "model_module": "@jupyter-widgets/base",
      "model_module_version": "1.1.0",
      "model_name": "LayoutModel",
      "state": {
       "width": "20%"
      }
     },
     "816bdc88b98f4237b093075df223700a": {
      "model_module": "@jupyter-widgets/controls",
      "model_module_version": "1.4.0",
      "model_name": "DescriptionStyleModel",
      "state": {
       "description_width": "initial"
      }
     },
     "81a731469d82445eaa1c14243888d666": {
      "model_module": "@jupyter-widgets/base",
      "model_module_version": "1.1.0",
      "model_name": "LayoutModel",
      "state": {
       "width": "20%"
      }
     },
     "81ab7c116d8847fb93f2b108cfa1a6c2": {
      "model_module": "@jupyter-widgets/controls",
      "model_module_version": "1.4.0",
      "model_name": "ButtonModel",
      "state": {
       "description": "Default selection",
       "layout": "IPY_MODEL_509685375b3a4123ae943eb9bf4fa271",
       "style": "IPY_MODEL_fc08d2e9c9694437905fd52943614030"
      }
     },
     "81b827b100b54be2bd170f67c97ed768": {
      "model_module": "@jupyter-widgets/base",
      "model_module_version": "1.1.0",
      "model_name": "LayoutModel",
      "state": {}
     },
     "81d46869bcc7453c9744f4bd264c9059": {
      "model_module": "@jupyter-widgets/base",
      "model_module_version": "1.1.0",
      "model_name": "LayoutModel",
      "state": {
       "width": "400px"
      }
     },
     "8234a167a446405997b8d7e0407a0475": {
      "model_module": "@jupyter-widgets/base",
      "model_module_version": "1.1.0",
      "model_name": "LayoutModel",
      "state": {
       "width": "20%"
      }
     },
     "823a8e6cbdb34702a93ba2842e43c896": {
      "model_module": "@jupyter-widgets/base",
      "model_module_version": "1.1.0",
      "model_name": "LayoutModel",
      "state": {}
     },
     "82c2873e424140f9b8e328132670422c": {
      "model_module": "@jupyter-widgets/controls",
      "model_module_version": "1.4.0",
      "model_name": "ButtonStyleModel",
      "state": {}
     },
     "82c9b80f394d48a3b0e67adfec86639c": {
      "model_module": "@jupyter-widgets/controls",
      "model_module_version": "1.4.0",
      "model_name": "DescriptionStyleModel",
      "state": {
       "description_width": ""
      }
     },
     "82cacee4a3944312a597faff1300ba88": {
      "model_module": "@jupyter-widgets/base",
      "model_module_version": "1.1.0",
      "model_name": "LayoutModel",
      "state": {}
     },
     "82d7aa33c76f420ea32daf03fe61ed88": {
      "model_module": "@jupyter-widgets/controls",
      "model_module_version": "1.4.0",
      "model_name": "DescriptionStyleModel",
      "state": {
       "description_width": "initial"
      }
     },
     "8324b74168ac4fa6a93336a8b042f54e": {
      "model_module": "@jupyter-widgets/controls",
      "model_module_version": "1.4.0",
      "model_name": "DescriptionStyleModel",
      "state": {
       "description_width": ""
      }
     },
     "83275533fb9c40a2af70e943f9895422": {
      "model_module": "@jupyter-widgets/base",
      "model_module_version": "1.1.0",
      "model_name": "LayoutModel",
      "state": {
       "width": "400px"
      }
     },
     "8328244c84794b599c848d9d2c51ee4b": {
      "model_module": "@jupyter-widgets/controls",
      "model_module_version": "1.4.0",
      "model_name": "ButtonModel",
      "state": {
       "description": "Select ALL",
       "layout": "IPY_MODEL_cc3f4a329cce4ce3b04477dab01f681e",
       "style": "IPY_MODEL_f4025728a33c4b5f8de9a439c1ec9885"
      }
     },
     "83363ceb73b04701bfb15c011990cbc4": {
      "model_module": "@jupyter-widgets/controls",
      "model_module_version": "1.4.0",
      "model_name": "DescriptionStyleModel",
      "state": {
       "description_width": "initial"
      }
     },
     "8338942bc53b4bc891af4461dcc9d6f4": {
      "model_module": "@jupyter-widgets/controls",
      "model_module_version": "1.4.0",
      "model_name": "DescriptionStyleModel",
      "state": {
       "description_width": "initial"
      }
     },
     "834ccd4d589d472f8f27e465c9140cb5": {
      "model_module": "@jupyter-widgets/controls",
      "model_module_version": "1.4.0",
      "model_name": "HBoxModel",
      "state": {
       "children": [
        "IPY_MODEL_0023433664ca4a9a9085c27cd27b7ac1",
        "IPY_MODEL_c5f8a2ae485443539fd9bc0f11287cef",
        "IPY_MODEL_43438f4f18ca448da34092c851142d13"
       ],
       "layout": "IPY_MODEL_773cff4abaed433ca3929971bb16386e"
      }
     },
     "836c064d8add44268caed17acf658d81": {
      "model_module": "@jupyter-widgets/controls",
      "model_module_version": "1.4.0",
      "model_name": "ButtonStyleModel",
      "state": {}
     },
     "837746741ba24f9881300a22100ef141": {
      "model_module": "@jupyter-widgets/controls",
      "model_module_version": "1.4.0",
      "model_name": "DescriptionStyleModel",
      "state": {
       "description_width": "initial"
      }
     },
     "837bb709f6fd477898a01e8401a4e46a": {
      "model_module": "@jupyter-widgets/base",
      "model_module_version": "1.1.0",
      "model_name": "LayoutModel",
      "state": {
       "width": "20%"
      }
     },
     "838b8872894d4cbdad54ca8d4ab797c0": {
      "model_module": "@jupyter-widgets/controls",
      "model_module_version": "1.4.0",
      "model_name": "ButtonModel",
      "state": {
       "description": "Select ALL",
       "layout": "IPY_MODEL_41ec28fc660f4ce681d3f473639113c1",
       "style": "IPY_MODEL_c41b1e59b828486cb0938df6e09baff8"
      }
     },
     "83ae6899af82490aa42fc41ad81c847e": {
      "model_module": "@jupyter-widgets/base",
      "model_module_version": "1.1.0",
      "model_name": "LayoutModel",
      "state": {
       "width": "400px"
      }
     },
     "83cd6db10aa64748bcb6749c95925565": {
      "model_module": "@jupyter-widgets/base",
      "model_module_version": "1.1.0",
      "model_name": "LayoutModel",
      "state": {}
     },
     "83dba7a1b87749c996b1134c2c54715c": {
      "model_module": "@jupyter-widgets/controls",
      "model_module_version": "1.4.0",
      "model_name": "VBoxModel",
      "state": {
       "children": [
        "IPY_MODEL_7d21e53550864e97a4f87eade08a6b1f"
       ],
       "layout": "IPY_MODEL_dbfdadf97dcf4308bdf8cd6e1bfb57e6"
      }
     },
     "84017450133649d69559e4eefc3d7a8e": {
      "model_module": "@jupyter-widgets/controls",
      "model_module_version": "1.4.0",
      "model_name": "ButtonModel",
      "state": {
       "description": "Select ALL",
       "layout": "IPY_MODEL_a1e3a29f948944d2af007875ba7db07a",
       "style": "IPY_MODEL_a381de81e9a24d70ae15a73a1ac2d6ce"
      }
     },
     "846db7c86a5240c186fefc927bb24484": {
      "model_module": "@jupyter-widgets/controls",
      "model_module_version": "1.4.0",
      "model_name": "HBoxModel",
      "state": {
       "children": [
        "IPY_MODEL_bfb9640297ac44738af48c5420f26f48",
        "IPY_MODEL_414325fb59fa48f6854a28a34095d572"
       ],
       "layout": "IPY_MODEL_a7ffae7a635e447699b733c9b0f1bc6a"
      }
     },
     "84d0c2ff82cf448dbab2e008e1a4e01d": {
      "model_module": "@jupyter-widgets/base",
      "model_module_version": "1.1.0",
      "model_name": "LayoutModel",
      "state": {}
     },
     "8542350df8d94276b12672b297514ba8": {
      "model_module": "@jupyter-widgets/controls",
      "model_module_version": "1.4.0",
      "model_name": "VBoxModel",
      "state": {
       "children": [
        "IPY_MODEL_5814e99877f0413ea3a16f5be9efdd4a"
       ],
       "layout": "IPY_MODEL_e58434f7ebe341298b35cb438fc6dbcb"
      }
     },
     "858a4bd718644c8b9678c908d8ca03f7": {
      "model_module": "@jupyter-widgets/base",
      "model_module_version": "1.1.0",
      "model_name": "LayoutModel",
      "state": {}
     },
     "85b90f71dc0d4c6ebf720dae374c21e2": {
      "model_module": "@jupyter-widgets/base",
      "model_module_version": "1.1.0",
      "model_name": "LayoutModel",
      "state": {
       "width": "20%"
      }
     },
     "86015f56a34c4d5f9b04c2660a089be6": {
      "model_module": "@jupyter-widgets/controls",
      "model_module_version": "1.4.0",
      "model_name": "ButtonModel",
      "state": {
       "description": "Default selection",
       "layout": "IPY_MODEL_81a731469d82445eaa1c14243888d666",
       "style": "IPY_MODEL_e1237b882c1c4eea87212a766abefd87"
      }
     },
     "860b8bce48674335b84242d61915c821": {
      "model_module": "@jupyter-widgets/base",
      "model_module_version": "1.1.0",
      "model_name": "LayoutModel",
      "state": {
       "width": "20%"
      }
     },
     "8611fbe5bd9f402d9ff45cf8f7a5f70f": {
      "model_module": "@jupyter-widgets/base",
      "model_module_version": "1.1.0",
      "model_name": "LayoutModel",
      "state": {}
     },
     "86120358616c41818157771dfe258da8": {
      "model_module": "@jupyter-widgets/base",
      "model_module_version": "1.1.0",
      "model_name": "LayoutModel",
      "state": {}
     },
     "8645dab5d48a4000adbe619ce66f684e": {
      "model_module": "@jupyter-widgets/base",
      "model_module_version": "1.1.0",
      "model_name": "LayoutModel",
      "state": {
       "width": "400px"
      }
     },
     "865074ec7dcf4eb8a31766503e8e443a": {
      "model_module": "@jupyter-widgets/base",
      "model_module_version": "1.1.0",
      "model_name": "LayoutModel",
      "state": {
       "width": "20%"
      }
     },
     "865bac97272a40828ad52e9aaa96dda7": {
      "model_module": "@jupyter-widgets/controls",
      "model_module_version": "1.4.0",
      "model_name": "VBoxModel",
      "state": {
       "children": [
        "IPY_MODEL_e531b1d7c2714ac2a6b022b9f2663561"
       ],
       "layout": "IPY_MODEL_2b9c21ce1d274cd995eb2f48b54a21d7"
      }
     },
     "865d5d75a72b4b23b864cef1c57a9af4": {
      "model_module": "@jupyter-widgets/controls",
      "model_module_version": "1.4.0",
      "model_name": "SelectModel",
      "state": {
       "_options_labels": [
        "MODLAND",
        "VI Usefulness",
        "Aerosol Quantity",
        "Adjacent cloud detected",
        "Atmosphere BRDF Correction",
        "Mixed Clouds",
        "Land/Water Mask",
        "Possible snow/ice",
        "Possible shadow"
       ],
       "description": "QA Parameter name:",
       "index": 0,
       "layout": "IPY_MODEL_a72529c088a94387b2b82ae1eff82ade",
       "rows": 9,
       "style": "IPY_MODEL_62e474cd2ac745179f6cd7511acc8eb5"
      }
     },
     "865ef147cbb1401aad06c575742905b5": {
      "model_module": "@jupyter-widgets/controls",
      "model_module_version": "1.4.0",
      "model_name": "ButtonModel",
      "state": {
       "description": "QA analytics",
       "layout": "IPY_MODEL_f510d3104aeb4b9893c1c5d29b47523f",
       "style": "IPY_MODEL_5e7d375288af4e839bbd0a3458aa799a"
      }
     },
     "86ab92724a8c44e6b0b75f713ed72d84": {
      "model_module": "@jupyter-widgets/controls",
      "model_module_version": "1.4.0",
      "model_name": "HBoxModel",
      "state": {
       "children": [
        "IPY_MODEL_ad6fa6f1d81c45a2b1c85dd69807dc7b",
        "IPY_MODEL_3377a39b84aa45f89fc6aff04f169216",
        "IPY_MODEL_0356813bbe3743d68be4366d62939d50",
        "IPY_MODEL_781542e3c7be47708cc5dd75019e5886"
       ],
       "layout": "IPY_MODEL_3beb85f3eabb41f4865d0e2c92600d9f"
      }
     },
     "86acf9271098444ea9fd0feb2da696e0": {
      "model_module": "@jupyter-widgets/base",
      "model_module_version": "1.1.0",
      "model_name": "LayoutModel",
      "state": {
       "width": "400px"
      }
     },
     "86b26502ef124d3198be799353b12bba": {
      "model_module": "@jupyter-widgets/base",
      "model_module_version": "1.1.0",
      "model_name": "LayoutModel",
      "state": {
       "width": "20%"
      }
     },
     "86b2fbf937fc47a1a285e3b0f1896154": {
      "model_module": "@jupyter-widgets/controls",
      "model_module_version": "1.4.0",
      "model_name": "ButtonModel",
      "state": {
       "description": "Default selection",
       "layout": "IPY_MODEL_040238f9d5b54467b3de806300b6bdf9",
       "style": "IPY_MODEL_c05a8e9a7ff6446fb9dd69ff603d3d88"
      }
     },
     "86c2b58bf01940bf80b2315578a96679": {
      "model_module": "@jupyter-widgets/base",
      "model_module_version": "1.1.0",
      "model_name": "LayoutModel",
      "state": {
       "width": "20%"
      }
     },
     "86f1afa8e2504721b34d1b99875a5eaf": {
      "model_module": "@jupyter-widgets/base",
      "model_module_version": "1.1.0",
      "model_name": "LayoutModel",
      "state": {
       "width": "50%"
      }
     },
     "8701aeed8e404a549311d57e3cbce686": {
      "model_module": "@jupyter-widgets/base",
      "model_module_version": "1.1.0",
      "model_name": "LayoutModel",
      "state": {
       "width": "400px"
      }
     },
     "8706edb1305548a9ac138626c7ff89e6": {
      "model_module": "@jupyter-widgets/controls",
      "model_module_version": "1.4.0",
      "model_name": "ButtonModel",
      "state": {
       "description": "QA analytics",
       "layout": "IPY_MODEL_06f3798cd43741c88320f56520861ff7",
       "style": "IPY_MODEL_5993c7e5af4e4e66a639e2572e5dd48c"
      }
     },
     "871ea2aafa8549eb8c49a5075c024373": {
      "model_module": "@jupyter-widgets/base",
      "model_module_version": "1.1.0",
      "model_name": "LayoutModel",
      "state": {}
     },
     "87234e8687244990be2a1056309c8c2f": {
      "model_module": "@jupyter-widgets/controls",
      "model_module_version": "1.4.0",
      "model_name": "DescriptionStyleModel",
      "state": {
       "description_width": "initial"
      }
     },
     "87768870d8654c2c9f78419b02512435": {
      "model_module": "@jupyter-widgets/controls",
      "model_module_version": "1.4.0",
      "model_name": "VBoxModel",
      "state": {
       "children": [
        "IPY_MODEL_46e8b1feaf6345a29940b8b36d896bcf"
       ],
       "layout": "IPY_MODEL_63d4cc1ed9e444e3b9a1018b5a47cd7f"
      }
     },
     "87b80f7a56b2494db76ae5d785c22930": {
      "model_module": "@jupyter-widgets/controls",
      "model_module_version": "1.4.0",
      "model_name": "SelectModel",
      "state": {
       "_options_labels": [
        "MODLAND",
        "VI Usefulness",
        "Aerosol Quantity",
        "Adjacent cloud detected",
        "Atmosphere BRDF Correction",
        "Mixed Clouds",
        "Land/Water Mask",
        "Possible snow/ice",
        "Possible shadow"
       ],
       "description": "QA Parameter name:",
       "index": 0,
       "layout": "IPY_MODEL_7bad61a7080c47178e92ad2e348f1622",
       "rows": 9,
       "style": "IPY_MODEL_27dd7585e8bc427a86ead79324609d5a"
      }
     },
     "87be2ee1064a43dca40272f9b4cda698": {
      "model_module": "@jupyter-widgets/base",
      "model_module_version": "1.1.0",
      "model_name": "LayoutModel",
      "state": {}
     },
     "87c67b05e94246a487bb6ea4898207a3": {
      "model_module": "@jupyter-widgets/controls",
      "model_module_version": "1.4.0",
      "model_name": "VBoxModel",
      "state": {
       "children": [
        "IPY_MODEL_0876b48354694ae5b29cb6a8a21a6bdc"
       ],
       "layout": "IPY_MODEL_3aa240466fef436a88426fff3c3af406"
      }
     },
     "87f04aae42344dc9b3ebc2bd0c16ca10": {
      "model_module": "@jupyter-widgets/controls",
      "model_module_version": "1.4.0",
      "model_name": "ButtonStyleModel",
      "state": {}
     },
     "88300c7af4824441a0375e26f1c8a558": {
      "model_module": "@jupyter-widgets/controls",
      "model_module_version": "1.4.0",
      "model_name": "SelectMultipleModel",
      "state": {
       "_options_labels": [
        "VI produced, good quality",
        "VI produced, but check other QA",
        "Pixel produced, but most probably cloudy",
        "Pixel not produced due to other reasons than clouds"
       ],
       "description": "Description",
       "index": [
        0
       ],
       "layout": "IPY_MODEL_729a2ad1e1f546749dde94932af3924a",
       "rows": 4,
       "style": "IPY_MODEL_782c72d2943c4531b70f5404c6b9733a"
      }
     },
     "884eef90db484de2b501f009504d978f": {
      "model_module": "@jupyter-widgets/base",
      "model_module_version": "1.1.0",
      "model_name": "LayoutModel",
      "state": {
       "width": "400px"
      }
     },
     "88d11798ed62459e98f6604fab6e6775": {
      "model_module": "@jupyter-widgets/controls",
      "model_module_version": "1.4.0",
      "model_name": "HTMLModel",
      "state": {
       "description": "QA layer:",
       "layout": "IPY_MODEL_ad8b731cfb004c04bc354b6c19f2de16",
       "style": "IPY_MODEL_b0775e2a5629465a94e5f3abdef7f22e",
       "value": "<b>_1_km_16_days_VI_Quality</b>"
      }
     },
     "88d1343765f14143a1035a73de13522b": {
      "model_module": "@jupyter-widgets/controls",
      "model_module_version": "1.4.0",
      "model_name": "DescriptionStyleModel",
      "state": {
       "description_width": "initial"
      }
     },
     "88ea6771376f424dbcb8dddd580fc3be": {
      "model_module": "@jupyter-widgets/base",
      "model_module_version": "1.1.0",
      "model_name": "LayoutModel",
      "state": {}
     },
     "88fd52833675491399e34475a72c2103": {
      "model_module": "@jupyter-widgets/base",
      "model_module_version": "1.1.0",
      "model_name": "LayoutModel",
      "state": {
       "height": "350px",
       "width": "99%"
      }
     },
     "896fc00edd9a4bde9ff8abef37c73da2": {
      "model_module": "@jupyter-widgets/base",
      "model_module_version": "1.1.0",
      "model_name": "LayoutModel",
      "state": {}
     },
     "8990599484714199af800415ad96a1e3": {
      "model_module": "@jupyter-widgets/base",
      "model_module_version": "1.1.0",
      "model_name": "LayoutModel",
      "state": {
       "width": "400px"
      }
     },
     "899d9e87b20948d28982f312d1c81ddc": {
      "model_module": "@jupyter-widgets/base",
      "model_module_version": "1.1.0",
      "model_name": "LayoutModel",
      "state": {
       "width": "20%"
      }
     },
     "89fe34c39d72404eaaa4f9513e078f1c": {
      "model_module": "@jupyter-widgets/controls",
      "model_module_version": "1.4.0",
      "model_name": "VBoxModel",
      "state": {
       "children": [
        "IPY_MODEL_58d3c736fcbe412baf36bcfc50e57187"
       ],
       "layout": "IPY_MODEL_0e4f2f0eab9f47ee91397f1fd1c8efb9"
      }
     },
     "89ffaf17126941f2a60a5a8a00f8af03": {
      "model_module": "@jupyter-widgets/controls",
      "model_module_version": "1.4.0",
      "model_name": "ButtonStyleModel",
      "state": {}
     },
     "8a248a57851045b0ba8a7c60f642b5cb": {
      "model_module": "@jupyter-widgets/controls",
      "model_module_version": "1.4.0",
      "model_name": "SelectModel",
      "state": {
       "_options_labels": [
        "MODLAND",
        "VI Usefulness",
        "Aerosol Quantity",
        "Adjacent cloud detected",
        "Atmosphere BRDF Correction",
        "Mixed Clouds",
        "Land/Water Mask",
        "Possible snow/ice",
        "Possible shadow"
       ],
       "description": "QA Parameter name:",
       "index": 0,
       "layout": "IPY_MODEL_bcba5a9fd6414b41b9cf034d1dbe3b5a",
       "rows": 9,
       "style": "IPY_MODEL_efad78ae57914de09e24c2e656c38e18"
      }
     },
     "8a61a1c998f145c3b595eb166f9c70cf": {
      "model_module": "@jupyter-widgets/controls",
      "model_module_version": "1.4.0",
      "model_name": "ButtonStyleModel",
      "state": {}
     },
     "8a96944491ad4f279a63e182e6a34951": {
      "model_module": "@jupyter-widgets/base",
      "model_module_version": "1.1.0",
      "model_name": "LayoutModel",
      "state": {}
     },
     "8aac1537c3864b36ae9404bc64b1c1e3": {
      "model_module": "@jupyter-widgets/controls",
      "model_module_version": "1.4.0",
      "model_name": "SelectModel",
      "state": {
       "_options_labels": [
        "MODLAND",
        "VI Usefulness",
        "Aerosol Quantity",
        "Adjacent cloud detected",
        "Atmosphere BRDF Correction",
        "Mixed Clouds",
        "Land/Water Mask",
        "Possible snow/ice",
        "Possible shadow"
       ],
       "description": "QA Parameter name:",
       "index": 0,
       "layout": "IPY_MODEL_9efd796111e3424f9438f3acdbe40c80",
       "rows": 9,
       "style": "IPY_MODEL_35f1132ff90441e496b723e9cf337539"
      }
     },
     "8acae312aa4644a489a15bb89cbebf20": {
      "model_module": "@jupyter-widgets/controls",
      "model_module_version": "1.4.0",
      "model_name": "HBoxModel",
      "state": {
       "children": [
        "IPY_MODEL_370c724799c444b6b17b619a1722d481",
        "IPY_MODEL_1c1cfdc572a54d52a1a5be61b02bcc6f",
        "IPY_MODEL_865ef147cbb1401aad06c575742905b5"
       ],
       "layout": "IPY_MODEL_a4099c5bf08f4769b613fa3e00d2e027"
      }
     },
     "8ad802d33e1742f484344acbe24ef20d": {
      "model_module": "@jupyter-widgets/controls",
      "model_module_version": "1.4.0",
      "model_name": "ButtonStyleModel",
      "state": {}
     },
     "8ada1905e30d43f1bbab612d5b8afc29": {
      "model_module": "@jupyter-widgets/controls",
      "model_module_version": "1.4.0",
      "model_name": "DescriptionStyleModel",
      "state": {
       "description_width": "initial"
      }
     },
     "8b7b69eac62341de9e98500e1ed35b43": {
      "model_module": "@jupyter-widgets/base",
      "model_module_version": "1.1.0",
      "model_name": "LayoutModel",
      "state": {
       "height": "200px",
       "width": "99%"
      }
     },
     "8b851cf553a94ff7969adbc979fa175e": {
      "model_module": "@jupyter-widgets/controls",
      "model_module_version": "1.4.0",
      "model_name": "SelectModel",
      "state": {
       "_options_labels": [
        "MODLAND",
        "VI Usefulness",
        "Aerosol Quantity",
        "Adjacent cloud detected",
        "Atmosphere BRDF Correction",
        "Mixed Clouds",
        "Land/Water Mask",
        "Possible snow/ice",
        "Possible shadow"
       ],
       "description": "QA Parameter name:",
       "index": 0,
       "layout": "IPY_MODEL_6ddadab5d8774832ae66455267fe7338",
       "rows": 9,
       "style": "IPY_MODEL_164c3606166545eab27b42ce03421019"
      }
     },
     "8b8fa6b334d84a87adf9e1d6d13c4f56": {
      "model_module": "@jupyter-widgets/controls",
      "model_module_version": "1.4.0",
      "model_name": "VBoxModel",
      "state": {
       "children": [
        "IPY_MODEL_2cac40d73da14cc4b7d8a43bd76f0cfe"
       ],
       "layout": "IPY_MODEL_023ddd5fce2f4aa88b203887b52afb12"
      }
     },
     "8bad5a19aff447fd90e6f4ab91d4814f": {
      "model_module": "@jupyter-widgets/controls",
      "model_module_version": "1.4.0",
      "model_name": "ButtonModel",
      "state": {
       "description": "QA analytics",
       "layout": "IPY_MODEL_64ec396762094618950605eb1073a9c6",
       "style": "IPY_MODEL_21f8c17101ab492c8da53a3ff5269194"
      }
     },
     "8bb26497835143b2a3debd18ef938afa": {
      "model_module": "@jupyter-widgets/controls",
      "model_module_version": "1.4.0",
      "model_name": "ButtonStyleModel",
      "state": {}
     },
     "8bec2e5fc1ce4fc3a39a8db55adc5ea0": {
      "model_module": "@jupyter-widgets/controls",
      "model_module_version": "1.4.0",
      "model_name": "ProgressStyleModel",
      "state": {
       "description_width": "initial"
      }
     },
     "8bf2db0bc32843689d7e8371064729f2": {
      "model_module": "@jupyter-widgets/base",
      "model_module_version": "1.1.0",
      "model_name": "LayoutModel",
      "state": {
       "width": "400px"
      }
     },
     "8c0b122bff644e2aa01d3d4f440660df": {
      "model_module": "@jupyter-widgets/controls",
      "model_module_version": "1.4.0",
      "model_name": "ButtonStyleModel",
      "state": {}
     },
     "8c9fb151fbc04c218bcb5cae834c9902": {
      "model_module": "@jupyter-widgets/controls",
      "model_module_version": "1.4.0",
      "model_name": "DescriptionStyleModel",
      "state": {
       "description_width": ""
      }
     },
     "8cb2217adddb4fbbb1f1e9c307f9c55a": {
      "model_module": "@jupyter-widgets/controls",
      "model_module_version": "1.4.0",
      "model_name": "DescriptionStyleModel",
      "state": {
       "description_width": "initial"
      }
     },
     "8cfd6013f3404f1c9520d6f0139b422c": {
      "model_module": "@jupyter-widgets/base",
      "model_module_version": "1.1.0",
      "model_name": "LayoutModel",
      "state": {
       "width": "20%"
      }
     },
     "8d03aa5f8a214bdf8bdfec033d1bae71": {
      "model_module": "@jupyter-widgets/controls",
      "model_module_version": "1.4.0",
      "model_name": "HBoxModel",
      "state": {
       "children": [
        "IPY_MODEL_f4f07962b534434dbce867176e0ee543",
        "IPY_MODEL_777072fe74ed4c9f8477c85e0df3a4b0",
        "IPY_MODEL_98c8aa49e3314551a2a66ee9978ed0cd"
       ],
       "layout": "IPY_MODEL_17c7fb0079224c0da5e91750e661f8c8"
      }
     },
     "8d0e3151a460483e9022429732cd15ab": {
      "model_module": "@jupyter-widgets/base",
      "model_module_version": "1.1.0",
      "model_name": "LayoutModel",
      "state": {
       "width": "50%"
      }
     },
     "8d14f8f5e88249b5b20c4255ea87081a": {
      "model_module": "@jupyter-widgets/controls",
      "model_module_version": "1.4.0",
      "model_name": "ProgressStyleModel",
      "state": {
       "description_width": "initial"
      }
     },
     "8d21980aecd54a83b60b4862aa461ee8": {
      "model_module": "@jupyter-widgets/controls",
      "model_module_version": "1.4.0",
      "model_name": "ButtonStyleModel",
      "state": {}
     },
     "8d3b7905995a474383b06b53f7c090c4": {
      "model_module": "@jupyter-widgets/base",
      "model_module_version": "1.1.0",
      "model_name": "LayoutModel",
      "state": {
       "width": "20%"
      }
     },
     "8d94f0746fb24c1992fb26fbcea009e6": {
      "model_module": "@jupyter-widgets/base",
      "model_module_version": "1.1.0",
      "model_name": "LayoutModel",
      "state": {
       "width": "400px"
      }
     },
     "8d9e2012786444e4a653e561d3b460d6": {
      "model_module": "@jupyter-widgets/controls",
      "model_module_version": "1.4.0",
      "model_name": "ButtonModel",
      "state": {
       "description": "Select ALL",
       "layout": "IPY_MODEL_2c376ff915e940f1908da7b7efd36b61",
       "style": "IPY_MODEL_2f8c9f2ec17c4e87b538c987d3dfc49d"
      }
     },
     "8dc7032a9913455c8daaa4286e37d3a9": {
      "model_module": "@jupyter-widgets/base",
      "model_module_version": "1.1.0",
      "model_name": "LayoutModel",
      "state": {
       "width": "20%"
      }
     },
     "8e08b5e37d324f6880a0238090609c5c": {
      "model_module": "@jupyter-widgets/controls",
      "model_module_version": "1.4.0",
      "model_name": "ProgressStyleModel",
      "state": {
       "description_width": "initial"
      }
     },
     "8e15ca759fe74b61a975c190ae741c2d": {
      "model_module": "@jupyter-widgets/controls",
      "model_module_version": "1.4.0",
      "model_name": "ButtonModel",
      "state": {
       "description": "Select ALL",
       "layout": "IPY_MODEL_639a450e33ae42a7a1fa3040982d74f4",
       "style": "IPY_MODEL_0045939765b2409eb0d1315b3c2bb14a"
      }
     },
     "8e1cfa88126a41e2b3d9f0dd3dd68ba9": {
      "model_module": "@jupyter-widgets/controls",
      "model_module_version": "1.4.0",
      "model_name": "HTMLModel",
      "state": {
       "description": "QA layer:",
       "layout": "IPY_MODEL_e009d2afe7384071ba457eff78633f6f",
       "style": "IPY_MODEL_21827b1c753c4d6c8bf93bf28d9d54d5",
       "value": "<b>_1_km_16_days_VI_Quality</b>"
      }
     },
     "8e71180ef3524fdf9ae29b423c451d48": {
      "model_module": "@jupyter-widgets/controls",
      "model_module_version": "1.4.0",
      "model_name": "VBoxModel",
      "state": {
       "children": [
        "IPY_MODEL_a7c0d5e6e9444da49c2987677a745293"
       ],
       "layout": "IPY_MODEL_80da1ccb4c804c13869f6be258513656"
      }
     },
     "8eae9065ee55489e94567865a5580872": {
      "model_module": "@jupyter-widgets/controls",
      "model_module_version": "1.4.0",
      "model_name": "HBoxModel",
      "state": {
       "children": [
        "IPY_MODEL_b34148e9147e45138002fdb03e232144",
        "IPY_MODEL_eae92b97e30c450b84ea7040c80bbf9e",
        "IPY_MODEL_3c072c4a228c4a2d86a9440ab837de69"
       ],
       "layout": "IPY_MODEL_97759ca0b17a49ad8e1d4cd96247f58a"
      }
     },
     "8ec7803e2ceb43ec97491943428a5738": {
      "model_module": "@jupyter-widgets/controls",
      "model_module_version": "1.4.0",
      "model_name": "VBoxModel",
      "state": {
       "children": [
        "IPY_MODEL_55e252cd54bf435787b7a6961d4eb70b"
       ],
       "layout": "IPY_MODEL_47beca00f01e41ceae880e7c41cfeadb"
      }
     },
     "8ee99dec17f24749a77e6ae3fadf0ba5": {
      "model_module": "@jupyter-widgets/base",
      "model_module_version": "1.1.0",
      "model_name": "LayoutModel",
      "state": {}
     },
     "8efd9dbd5ac14310a0cc697f47839a15": {
      "model_module": "@jupyter-widgets/controls",
      "model_module_version": "1.4.0",
      "model_name": "ButtonModel",
      "state": {
       "description": "Default selection",
       "layout": "IPY_MODEL_b2f718a20e76423eb44a5f8715134e47",
       "style": "IPY_MODEL_8005e2949237452e8359fccf67c87810"
      }
     },
     "8f1132a7420742f189504cf4e5de3500": {
      "model_module": "@jupyter-widgets/controls",
      "model_module_version": "1.4.0",
      "model_name": "VBoxModel",
      "state": {
       "children": [
        "IPY_MODEL_9ed67707fc284bfc9f621f874c7c6412"
       ],
       "layout": "IPY_MODEL_c30ddfbbfd954b25ab18fde09ca918db"
      }
     },
     "8f3239b606624f29815035ede0c161f4": {
      "model_module": "@jupyter-widgets/base",
      "model_module_version": "1.1.0",
      "model_name": "LayoutModel",
      "state": {
       "width": "350px"
      }
     },
     "8f51d715eedd49908d24657fae200e11": {
      "model_module": "@jupyter-widgets/base",
      "model_module_version": "1.1.0",
      "model_name": "LayoutModel",
      "state": {}
     },
     "8f62922319aa456cadbe8f84321b5fd7": {
      "model_module": "@jupyter-widgets/controls",
      "model_module_version": "1.4.0",
      "model_name": "ButtonModel",
      "state": {
       "description": "Default selection",
       "layout": "IPY_MODEL_2d03a538860744daac70ec3a566574d8",
       "style": "IPY_MODEL_c59eadbccadf4d708ae80d5afd0d8ce8"
      }
     },
     "8f6898f517db41c89ee542643045baed": {
      "model_module": "@jupyter-widgets/base",
      "model_module_version": "1.1.0",
      "model_name": "LayoutModel",
      "state": {}
     },
     "8f8c6d5398e34630939973fe60cf1703": {
      "model_module": "@jupyter-widgets/controls",
      "model_module_version": "1.4.0",
      "model_name": "ButtonStyleModel",
      "state": {}
     },
     "8f9e361fef19417196b632b847cafca5": {
      "model_module": "@jupyter-widgets/controls",
      "model_module_version": "1.4.0",
      "model_name": "SelectModel",
      "state": {
       "_options_labels": [
        "MODLAND",
        "VI Usefulness",
        "Aerosol Quantity",
        "Adjacent cloud detected",
        "Atmosphere BRDF Correction",
        "Mixed Clouds",
        "Land/Water Mask",
        "Possible snow/ice",
        "Possible shadow"
       ],
       "description": "QA Parameter name:",
       "index": 0,
       "layout": "IPY_MODEL_5e81d6d94ccb41d3b11fa6c770ad4a92",
       "rows": 9,
       "style": "IPY_MODEL_ae7a997e4d96438d9742769dee049086"
      }
     },
     "8fb0a7e1480448d98802c7ef49da278a": {
      "model_module": "@jupyter-widgets/controls",
      "model_module_version": "1.4.0",
      "model_name": "HBoxModel",
      "state": {
       "children": [
        "IPY_MODEL_17680aed17ee4f29870a68981657ba8c",
        "IPY_MODEL_f8277e0399b8476d9dea0d769a620292",
        "IPY_MODEL_e3316da9f47046fcbefb0ca0dd35cabd"
       ],
       "layout": "IPY_MODEL_453aadba60534514bf836f62a873cfa6"
      }
     },
     "8fb3d373ad274e8ebbb126c45725586b": {
      "model_module": "@jupyter-widgets/controls",
      "model_module_version": "1.4.0",
      "model_name": "ButtonStyleModel",
      "state": {}
     },
     "9049030abb914393a79255766850f866": {
      "model_module": "@jupyter-widgets/base",
      "model_module_version": "1.1.0",
      "model_name": "LayoutModel",
      "state": {
       "width": "350px"
      }
     },
     "90519339d5a346c3a7eaaf5974075e2f": {
      "model_module": "@jupyter-widgets/base",
      "model_module_version": "1.1.0",
      "model_name": "LayoutModel",
      "state": {}
     },
     "9056e51520e54ee2986ea4a932883b21": {
      "model_module": "@jupyter-widgets/controls",
      "model_module_version": "1.4.0",
      "model_name": "ButtonStyleModel",
      "state": {}
     },
     "90862690a1644e76bcfa1798322934f7": {
      "model_module": "@jupyter-widgets/base",
      "model_module_version": "1.1.0",
      "model_name": "LayoutModel",
      "state": {
       "width": "400px"
      }
     },
     "9092dcd67e704fc38f71977d4e922de9": {
      "model_module": "@jupyter-widgets/controls",
      "model_module_version": "1.4.0",
      "model_name": "SelectModel",
      "state": {
       "_options_labels": [
        "MODLAND",
        "VI Usefulness",
        "Aerosol Quantity",
        "Adjacent cloud detected",
        "Atmosphere BRDF Correction",
        "Mixed Clouds",
        "Land/Water Mask",
        "Possible snow/ice",
        "Possible shadow"
       ],
       "description": "QA Parameter name:",
       "index": 0,
       "layout": "IPY_MODEL_5b1446b240c24a7f93c5c1d5b20a53f2",
       "rows": 9,
       "style": "IPY_MODEL_ecbca6e7366f4e12ae0379a8c5895a9f"
      }
     },
     "90a1b806194f43ab8cc9bbe870d58201": {
      "model_module": "@jupyter-widgets/base",
      "model_module_version": "1.1.0",
      "model_name": "LayoutModel",
      "state": {
       "width": "50%"
      }
     },
     "90bfccce59ad4319b6a4a66207002c5f": {
      "model_module": "@jupyter-widgets/controls",
      "model_module_version": "1.4.0",
      "model_name": "DescriptionStyleModel",
      "state": {
       "description_width": "initial"
      }
     },
     "90eeef66bbf549a4930c7a40adf1348a": {
      "model_module": "@jupyter-widgets/controls",
      "model_module_version": "1.4.0",
      "model_name": "DescriptionStyleModel",
      "state": {
       "description_width": ""
      }
     },
     "90f4b021336f4b4cbe4883fefb999473": {
      "model_module": "@jupyter-widgets/controls",
      "model_module_version": "1.4.0",
      "model_name": "ProgressStyleModel",
      "state": {
       "description_width": "initial"
      }
     },
     "914f5779e8c54b13afe4fe3166f77d65": {
      "model_module": "@jupyter-widgets/base",
      "model_module_version": "1.1.0",
      "model_name": "LayoutModel",
      "state": {}
     },
     "9165e64b44c842439dcd55f921fbe716": {
      "model_module": "@jupyter-widgets/base",
      "model_module_version": "1.1.0",
      "model_name": "LayoutModel",
      "state": {
       "width": "50%"
      }
     },
     "918c7c457e0b438fa481c3cdf72d8694": {
      "model_module": "@jupyter-widgets/controls",
      "model_module_version": "1.4.0",
      "model_name": "ButtonStyleModel",
      "state": {}
     },
     "91cad4b52db748ee9e428e02e70251f6": {
      "model_module": "@jupyter-widgets/controls",
      "model_module_version": "1.4.0",
      "model_name": "SelectMultipleModel",
      "state": {
       "_options_labels": [
        "VI produced, good quality",
        "VI produced, but check other QA",
        "Pixel produced, but most probably cloudy",
        "Pixel not produced due to other reasons than clouds"
       ],
       "description": "Description",
       "index": [
        0,
        1,
        2,
        3
       ],
       "layout": "IPY_MODEL_884eef90db484de2b501f009504d978f",
       "rows": 4,
       "style": "IPY_MODEL_933a00607823424abbd5343dd9a29b0e"
      }
     },
     "91f42e1909564d16b7fd14f3b1a74c03": {
      "model_module": "@jupyter-widgets/base",
      "model_module_version": "1.1.0",
      "model_name": "LayoutModel",
      "state": {}
     },
     "920ba9f7922142f3aca9c323e0825cc8": {
      "model_module": "@jupyter-widgets/base",
      "model_module_version": "1.1.0",
      "model_name": "LayoutModel",
      "state": {}
     },
     "92101dde13d2497ebe8967ffbbcc2933": {
      "model_module": "@jupyter-widgets/base",
      "model_module_version": "1.1.0",
      "model_name": "LayoutModel",
      "state": {}
     },
     "925c45d052e94c5ea2c3aa6e222e0e73": {
      "model_module": "@jupyter-widgets/controls",
      "model_module_version": "1.4.0",
      "model_name": "ButtonModel",
      "state": {
       "description": "QA analytics",
       "layout": "IPY_MODEL_3b7e49b740884f6597ac899512af11f0",
       "style": "IPY_MODEL_d18590cdd3e148e9ac05921978c3ac49"
      }
     },
     "9288d1b2ba09465a81ab839e5e9c0bb8": {
      "model_module": "@jupyter-widgets/controls",
      "model_module_version": "1.4.0",
      "model_name": "VBoxModel",
      "state": {
       "children": [
        "IPY_MODEL_e9358eddb9ce43a7959cee74cf907df8"
       ],
       "layout": "IPY_MODEL_6ce9925048b644a99ab070cf51dd07d5"
      }
     },
     "929457be0ec5433ea9aa52201dd5dde6": {
      "model_module": "@jupyter-widgets/base",
      "model_module_version": "1.1.0",
      "model_name": "LayoutModel",
      "state": {
       "width": "350px"
      }
     },
     "929f0137b0c94963a639daa14b860577": {
      "model_module": "@jupyter-widgets/controls",
      "model_module_version": "1.4.0",
      "model_name": "ButtonModel",
      "state": {
       "description": "Default selection",
       "layout": "IPY_MODEL_af79e66c774b4f699dc1bc5ae89300a4",
       "style": "IPY_MODEL_b2f45a6e9800476f8c7f9d5db69b923e"
      }
     },
     "92ab97ebff8e421ca6d3bdffb634b228": {
      "model_module": "@jupyter-widgets/base",
      "model_module_version": "1.1.0",
      "model_name": "LayoutModel",
      "state": {}
     },
     "92b6d4e8dd1649ebbd880a1081d99924": {
      "model_module": "@jupyter-widgets/base",
      "model_module_version": "1.1.0",
      "model_name": "LayoutModel",
      "state": {}
     },
     "92c17b07efe64eb598be8731c186bf78": {
      "model_module": "@jupyter-widgets/controls",
      "model_module_version": "1.4.0",
      "model_name": "SelectMultipleModel",
      "state": {
       "_options_labels": [
        "VI produced, good quality",
        "VI produced, but check other QA",
        "Pixel produced, but most probably cloudy",
        "Pixel not produced due to other reasons than clouds"
       ],
       "description": "Description",
       "index": [
        0
       ],
       "layout": "IPY_MODEL_c58b7c225e194868ae7afc16a49f76d1",
       "rows": 4,
       "style": "IPY_MODEL_eea431aa5758404e901e4b8a8b0020ef"
      }
     },
     "92d9d89a2ad947d5b061ca030d6d5e08": {
      "model_module": "@jupyter-widgets/base",
      "model_module_version": "1.1.0",
      "model_name": "LayoutModel",
      "state": {
       "width": "350px"
      }
     },
     "92e9bcd6834a46c9adf90601c7e3283c": {
      "model_module": "@jupyter-widgets/controls",
      "model_module_version": "1.4.0",
      "model_name": "HTMLModel",
      "state": {
       "description": "QA layer:",
       "layout": "IPY_MODEL_39d3fa30850e4e96aa7f22c1655cc341",
       "style": "IPY_MODEL_11c083c86d2b419e8f2f379206d18b10",
       "value": "<b>_1_km_16_days_VI_Quality</b>"
      }
     },
     "930c74fe121c4c889b9fed8ac880ef34": {
      "model_module": "@jupyter-widgets/controls",
      "model_module_version": "1.4.0",
      "model_name": "ProgressStyleModel",
      "state": {
       "description_width": "initial"
      }
     },
     "93192ff5326f4a00930c4b460cf749e0": {
      "model_module": "@jupyter-widgets/controls",
      "model_module_version": "1.4.0",
      "model_name": "SelectMultipleModel",
      "state": {
       "_options_labels": [
        "No",
        "Yes"
       ],
       "description": "Description",
       "index": [
        0
       ],
       "layout": "IPY_MODEL_5d5d2d0afd8b46cba4a1ef6a84f0ed2e",
       "rows": 2,
       "style": "IPY_MODEL_b89e17b512fd4c9c8c665a58442784cc"
      }
     },
     "932591a1b29242b69b6afb53a404363b": {
      "model_module": "@jupyter-widgets/base",
      "model_module_version": "1.1.0",
      "model_name": "LayoutModel",
      "state": {
       "width": "20%"
      }
     },
     "933a00607823424abbd5343dd9a29b0e": {
      "model_module": "@jupyter-widgets/controls",
      "model_module_version": "1.4.0",
      "model_name": "DescriptionStyleModel",
      "state": {
       "description_width": "initial"
      }
     },
     "934284de91cb4bca990038d831666077": {
      "model_module": "@jupyter-widgets/controls",
      "model_module_version": "1.4.0",
      "model_name": "DescriptionStyleModel",
      "state": {
       "description_width": "initial"
      }
     },
     "9399ce62d65a470c9574d782b7a4c982": {
      "model_module": "@jupyter-widgets/base",
      "model_module_version": "1.1.0",
      "model_name": "LayoutModel",
      "state": {}
     },
     "93ddd334c215453ba041a56a4a498b4f": {
      "model_module": "@jupyter-widgets/controls",
      "model_module_version": "1.4.0",
      "model_name": "HBoxModel",
      "state": {
       "children": [
        "IPY_MODEL_865d5d75a72b4b23b864cef1c57a9af4",
        "IPY_MODEL_b50b2813672443f8a7852b909e353c86",
        "IPY_MODEL_c6acf869544f4602860af9c9e16fb026",
        "IPY_MODEL_e712a3c96b9e4389bbfdfc59e803156e"
       ],
       "layout": "IPY_MODEL_adbcf688175e4dd4a6873beefc6d2931"
      }
     },
     "94450a86e863446f8bfaa45ea461bd9b": {
      "model_module": "@jupyter-widgets/controls",
      "model_module_version": "1.4.0",
      "model_name": "HTMLModel",
      "state": {
       "description": "QA layer:",
       "layout": "IPY_MODEL_fdeb4c30776a45bb8b427760fc243339",
       "style": "IPY_MODEL_2204d94a445f40fd8e23ac9ee376437d",
       "value": "<b>_1_km_16_days_VI_Quality</b>"
      }
     },
     "945f092b9380479a968e3b30d1e88885": {
      "model_module": "@jupyter-widgets/controls",
      "model_module_version": "1.4.0",
      "model_name": "VBoxModel",
      "state": {
       "children": [
        "IPY_MODEL_dc6ef7c43dba40cdb1f28a750126b920"
       ],
       "layout": "IPY_MODEL_d89a35070a6944979d33e93f4fa83b31"
      }
     },
     "94a1dcec3ec34142b91a606a87bfe28a": {
      "model_module": "@jupyter-widgets/base",
      "model_module_version": "1.1.0",
      "model_name": "LayoutModel",
      "state": {}
     },
     "94b9d01c48cb403094b02936985d0529": {
      "model_module": "@jupyter-widgets/controls",
      "model_module_version": "1.4.0",
      "model_name": "DescriptionStyleModel",
      "state": {
       "description_width": "initial"
      }
     },
     "94dbda32a3cb425f96a87f1bb3362e97": {
      "model_module": "@jupyter-widgets/controls",
      "model_module_version": "1.4.0",
      "model_name": "ButtonStyleModel",
      "state": {}
     },
     "950472f2a95843bba84db94adf297967": {
      "model_module": "@jupyter-widgets/controls",
      "model_module_version": "1.4.0",
      "model_name": "HBoxModel",
      "state": {
       "children": [
        "IPY_MODEL_c1d86a99a4d94e0989031018dd0db047",
        "IPY_MODEL_c51ccf00cf224f8da1aa199686562613",
        "IPY_MODEL_f2fb4d944e5041dc892b29b44e75a910",
        "IPY_MODEL_7d6f139aab56461e86ffc2b2832ff9a5"
       ],
       "layout": "IPY_MODEL_11e5bae68a9d42d19647897c53e1244c"
      }
     },
     "953d61d27f2a4a82a6751b418304f624": {
      "model_module": "@jupyter-widgets/controls",
      "model_module_version": "1.4.0",
      "model_name": "VBoxModel",
      "state": {
       "children": [
        "IPY_MODEL_264112a1921c4cb4a91516a009535fad"
       ],
       "layout": "IPY_MODEL_45f99bd1aad4425cbec22207429af8d9"
      }
     },
     "954fc36289c94d8d9b0932074c9c5b5c": {
      "model_module": "@jupyter-widgets/base",
      "model_module_version": "1.1.0",
      "model_name": "LayoutModel",
      "state": {
       "width": "20%"
      }
     },
     "9559301433194b4997347b0388a57f6f": {
      "model_module": "@jupyter-widgets/controls",
      "model_module_version": "1.4.0",
      "model_name": "ButtonModel",
      "state": {
       "description": "Default selection",
       "layout": "IPY_MODEL_64454f71f4844e6da3edb580d05149a4",
       "style": "IPY_MODEL_bbaf5fa32fe94494b69588857d69e90b"
      }
     },
     "9569ab31c9ae47c087fedef5ef40f43f": {
      "model_module": "@jupyter-widgets/controls",
      "model_module_version": "1.4.0",
      "model_name": "DescriptionStyleModel",
      "state": {
       "description_width": "initial"
      }
     },
     "956b8232871148c599b1b8acd59c987b": {
      "model_module": "@jupyter-widgets/base",
      "model_module_version": "1.1.0",
      "model_name": "LayoutModel",
      "state": {}
     },
     "957c290faa3d42acb759ee9572af4b3e": {
      "model_module": "@jupyter-widgets/controls",
      "model_module_version": "1.4.0",
      "model_name": "VBoxModel",
      "state": {
       "children": [
        "IPY_MODEL_5f084b6f12de4a56a08e9204f6ab1d77"
       ],
       "layout": "IPY_MODEL_4827f07116694afe8520bc17cb57897c"
      }
     },
     "9583f87bddaf46239f4d88fa676c4b00": {
      "model_module": "@jupyter-widgets/base",
      "model_module_version": "1.1.0",
      "model_name": "LayoutModel",
      "state": {
       "width": "20%"
      }
     },
     "959892dec6cb406dbf4961cd324591f5": {
      "model_module": "@jupyter-widgets/controls",
      "model_module_version": "1.4.0",
      "model_name": "ButtonStyleModel",
      "state": {}
     },
     "95aa62d5383349f0891e4b270b8aaf3d": {
      "model_module": "@jupyter-widgets/controls",
      "model_module_version": "1.4.0",
      "model_name": "ButtonModel",
      "state": {
       "description": "Select ALL",
       "layout": "IPY_MODEL_d5f2886c34d84ec390792a0a11a56174",
       "style": "IPY_MODEL_2a220d8bcbc04eaaa506020f594cd136"
      }
     },
     "95bee077fed94f94b64c866894bd461d": {
      "model_module": "@jupyter-widgets/controls",
      "model_module_version": "1.4.0",
      "model_name": "DescriptionStyleModel",
      "state": {
       "description_width": ""
      }
     },
     "95e60c245d294f2d8e7e0f9e19d02e1b": {
      "model_module": "@jupyter-widgets/base",
      "model_module_version": "1.1.0",
      "model_name": "LayoutModel",
      "state": {
       "height": "300px",
       "width": "99%"
      }
     },
     "95f50222990a48fdb7691ca85a7bc6a4": {
      "model_module": "@jupyter-widgets/controls",
      "model_module_version": "1.4.0",
      "model_name": "ProgressStyleModel",
      "state": {
       "description_width": "initial"
      }
     },
     "9618e3481d51475aa61c28533b709608": {
      "model_module": "@jupyter-widgets/base",
      "model_module_version": "1.1.0",
      "model_name": "LayoutModel",
      "state": {
       "height": "350px",
       "width": "99%"
      }
     },
     "962dd78b5e6c49f899231c6731df23ed": {
      "model_module": "@jupyter-widgets/base",
      "model_module_version": "1.1.0",
      "model_name": "LayoutModel",
      "state": {
       "width": "20%"
      }
     },
     "965cc0b374944f7e94f9f56e4f8b27f7": {
      "model_module": "@jupyter-widgets/controls",
      "model_module_version": "1.4.0",
      "model_name": "HBoxModel",
      "state": {
       "children": [
        "IPY_MODEL_da5da6bd3060480faa51ee678c64df09",
        "IPY_MODEL_3551277058f745198282e3cf08bb6251"
       ],
       "layout": "IPY_MODEL_9ce2db0dc08644afba1c25d8d7e36535"
      }
     },
     "96651f0c9a1844a9a7b8572c9b145310": {
      "model_module": "@jupyter-widgets/base",
      "model_module_version": "1.1.0",
      "model_name": "LayoutModel",
      "state": {}
     },
     "96654593b8a94607b5ac74233e15820e": {
      "model_module": "@jupyter-widgets/controls",
      "model_module_version": "1.4.0",
      "model_name": "DescriptionStyleModel",
      "state": {
       "description_width": "initial"
      }
     },
     "96bdfeedc9454f3fa37c3c6c8fd89952": {
      "model_module": "@jupyter-widgets/controls",
      "model_module_version": "1.4.0",
      "model_name": "ButtonModel",
      "state": {
       "description": "Default selection",
       "layout": "IPY_MODEL_8d3b7905995a474383b06b53f7c090c4",
       "style": "IPY_MODEL_4d17a2e6a10e48bfb68b376e7e008844"
      }
     },
     "974bb8709fa54253b04084c19bc946ed": {
      "model_module": "@jupyter-widgets/controls",
      "model_module_version": "1.4.0",
      "model_name": "DescriptionStyleModel",
      "state": {
       "description_width": "initial"
      }
     },
     "9759accb8ca74699b04835a73b0a38a2": {
      "model_module": "@jupyter-widgets/controls",
      "model_module_version": "1.4.0",
      "model_name": "SelectMultipleModel",
      "state": {
       "_options_labels": [
        "No",
        "Yes"
       ],
       "description": "Description",
       "index": [
        0,
        1
       ],
       "layout": "IPY_MODEL_551a83dd3fe448ff915fb5bd9a3b5b51",
       "rows": 2,
       "style": "IPY_MODEL_727b31ee67554957a12f374f12446ea5"
      }
     },
     "9771736f26714ff59c6c130f5feb21d5": {
      "model_module": "@jupyter-widgets/controls",
      "model_module_version": "1.4.0",
      "model_name": "HTMLModel",
      "state": {
       "description": "QA layer:",
       "layout": "IPY_MODEL_09efffc7584242fea9da9e6fcc612eab",
       "style": "IPY_MODEL_8c9fb151fbc04c218bcb5cae834c9902",
       "value": "<b>_1_km_16_days_VI_Quality</b>"
      }
     },
     "9772246476b5447b866afa4a3abdd167": {
      "model_module": "@jupyter-widgets/controls",
      "model_module_version": "1.4.0",
      "model_name": "VBoxModel",
      "state": {
       "children": [
        "IPY_MODEL_8a248a57851045b0ba8a7c60f642b5cb"
       ],
       "layout": "IPY_MODEL_6822cf64342f43f5a34b94c95dd84302"
      }
     },
     "97759ca0b17a49ad8e1d4cd96247f58a": {
      "model_module": "@jupyter-widgets/base",
      "model_module_version": "1.1.0",
      "model_name": "LayoutModel",
      "state": {}
     },
     "97b59966679441669f227cb3118bb5a8": {
      "model_module": "@jupyter-widgets/base",
      "model_module_version": "1.1.0",
      "model_name": "LayoutModel",
      "state": {
       "width": "30%"
      }
     },
     "988c0265008049f1971e848606a62ac9": {
      "model_module": "@jupyter-widgets/base",
      "model_module_version": "1.1.0",
      "model_name": "LayoutModel",
      "state": {}
     },
     "9891e4888b9a469bb943cafb884892d5": {
      "model_module": "@jupyter-widgets/controls",
      "model_module_version": "1.4.0",
      "model_name": "DescriptionStyleModel",
      "state": {
       "description_width": "initial"
      }
     },
     "98ad305165f64a4cb64ccb95177681be": {
      "model_module": "@jupyter-widgets/controls",
      "model_module_version": "1.4.0",
      "model_name": "VBoxModel",
      "state": {
       "children": [
        "IPY_MODEL_037109c2e2cc45fb847cb71d91e09946"
       ],
       "layout": "IPY_MODEL_c34fe0b7df18477cb0aa4c7b2ef160e5"
      }
     },
     "98c047fee8f74a23bc256ef5848ba52e": {
      "model_module": "@jupyter-widgets/controls",
      "model_module_version": "1.4.0",
      "model_name": "ButtonModel",
      "state": {
       "description": "Default selection",
       "layout": "IPY_MODEL_5acaef2fd45841fbb39906bee1aefd4b",
       "style": "IPY_MODEL_1ada5af6993e484b833110c65d7406e3"
      }
     },
     "98c8aa49e3314551a2a66ee9978ed0cd": {
      "model_module": "@jupyter-widgets/controls",
      "model_module_version": "1.4.0",
      "model_name": "ButtonModel",
      "state": {
       "description": "Create mask and max gap length",
       "layout": "IPY_MODEL_d77a030125284d20a2aed0c9051ef52a",
       "style": "IPY_MODEL_cedbfb480fae47d09300060c38e0b3ca"
      }
     },
     "98cdc8aa76b34954b1a5dc9b16202fea": {
      "model_module": "@jupyter-widgets/base",
      "model_module_version": "1.1.0",
      "model_name": "LayoutModel",
      "state": {
       "height": "300px",
       "width": "99%"
      }
     },
     "98d24a0c94e844d991bb856f894686f6": {
      "model_module": "@jupyter-widgets/controls",
      "model_module_version": "1.4.0",
      "model_name": "ProgressStyleModel",
      "state": {
       "description_width": "initial"
      }
     },
     "98d68d0aaaa944c18cf4fea2a6d73c7c": {
      "model_module": "@jupyter-widgets/base",
      "model_module_version": "1.1.0",
      "model_name": "LayoutModel",
      "state": {}
     },
     "9911ca01d5b84f3caca818db56ea0498": {
      "model_module": "@jupyter-widgets/controls",
      "model_module_version": "1.4.0",
      "model_name": "HBoxModel",
      "state": {
       "children": [
        "IPY_MODEL_953d61d27f2a4a82a6751b418304f624",
        "IPY_MODEL_8f1132a7420742f189504cf4e5de3500"
       ],
       "layout": "IPY_MODEL_8b7b69eac62341de9e98500e1ed35b43"
      }
     },
     "99572f3a064b4dc8bd985caab306d80f": {
      "model_module": "@jupyter-widgets/controls",
      "model_module_version": "1.4.0",
      "model_name": "ButtonStyleModel",
      "state": {}
     },
     "995b679499954ac6a36cef35284b0991": {
      "model_module": "@jupyter-widgets/controls",
      "model_module_version": "1.4.0",
      "model_name": "HTMLModel",
      "state": {
       "description": "QA layer:",
       "layout": "IPY_MODEL_8ee99dec17f24749a77e6ae3fadf0ba5",
       "style": "IPY_MODEL_eaf6e5b37029410697f9b50b14bf7fd2",
       "value": "<b>_1_km_16_days_VI_Quality</b>"
      }
     },
     "99687474083446e79f611aa970875735": {
      "model_module": "@jupyter-widgets/base",
      "model_module_version": "1.1.0",
      "model_name": "LayoutModel",
      "state": {}
     },
     "997019bd7b7c464ca54309f9c2e6cf66": {
      "model_module": "@jupyter-widgets/controls",
      "model_module_version": "1.4.0",
      "model_name": "HTMLModel",
      "state": {
       "description": "QA layer:",
       "layout": "IPY_MODEL_7a552c11d658460b83aac29591860869",
       "style": "IPY_MODEL_adbc46a536244d87a751ce931145b450",
       "value": "<b>_1_km_16_days_VI_Quality</b>"
      }
     },
     "997a1dea6575423a9a09d253539053d4": {
      "model_module": "@jupyter-widgets/controls",
      "model_module_version": "1.4.0",
      "model_name": "ProgressStyleModel",
      "state": {
       "description_width": "initial"
      }
     },
     "99cf3acd58764e2daee66c230c13631b": {
      "model_module": "@jupyter-widgets/controls",
      "model_module_version": "1.4.0",
      "model_name": "ButtonStyleModel",
      "state": {}
     },
     "99de7d72fbd143f0b96f5ef97328a8a2": {
      "model_module": "@jupyter-widgets/base",
      "model_module_version": "1.1.0",
      "model_name": "LayoutModel",
      "state": {}
     },
     "9a147b0d1b1643d3bf3e55770002353b": {
      "model_module": "@jupyter-widgets/controls",
      "model_module_version": "1.4.0",
      "model_name": "IntProgressModel",
      "state": {
       "description": "Computing max gap length...",
       "layout": "IPY_MODEL_6a81f8f34c644bdf915d7cba7633dc3c",
       "max": 10,
       "style": "IPY_MODEL_f907fc73ba9546889d549f9b241b57e3"
      }
     },
     "9a16f1e216f44ccd8281ee224ffd1474": {
      "model_module": "@jupyter-widgets/base",
      "model_module_version": "1.1.0",
      "model_name": "LayoutModel",
      "state": {}
     },
     "9a69698e79cb417a99e1ff80209bf140": {
      "model_module": "@jupyter-widgets/controls",
      "model_module_version": "1.4.0",
      "model_name": "HBoxModel",
      "state": {
       "children": [
        "IPY_MODEL_2202afdaa02c48ac9ec0f355d66a0afa",
        "IPY_MODEL_89fe34c39d72404eaaa4f9513e078f1c"
       ],
       "layout": "IPY_MODEL_b82a4f004ea04779822b792a623542aa"
      }
     },
     "9a7aca9ba36146c1ac4604fe94363bb3": {
      "model_module": "@jupyter-widgets/base",
      "model_module_version": "1.1.0",
      "model_name": "LayoutModel",
      "state": {
       "width": "30%"
      }
     },
     "9ae80a992b94425d91bd5dbe97cbd3ac": {
      "model_module": "@jupyter-widgets/base",
      "model_module_version": "1.1.0",
      "model_name": "LayoutModel",
      "state": {}
     },
     "9b7add23f6a44bbc95265a91f24427e3": {
      "model_module": "@jupyter-widgets/controls",
      "model_module_version": "1.4.0",
      "model_name": "HTMLModel",
      "state": {
       "description": "QA layer:",
       "layout": "IPY_MODEL_a892a29e65bc4eb99fa6e73c23657d08",
       "style": "IPY_MODEL_49e69b7701194554abbb4854640ecd2d",
       "value": "<b>_1_km_16_days_VI_Quality</b>"
      }
     },
     "9bf6c2a7278840509f5c6526da783bf7": {
      "model_module": "@jupyter-widgets/base",
      "model_module_version": "1.1.0",
      "model_name": "LayoutModel",
      "state": {}
     },
     "9c2f748dd38347af817f01eaa4b1e35e": {
      "model_module": "@jupyter-widgets/controls",
      "model_module_version": "1.4.0",
      "model_name": "HBoxModel",
      "state": {
       "children": [
        "IPY_MODEL_f0fbbc4e03004a8eacbf2d306504c9dd",
        "IPY_MODEL_86b2fbf937fc47a1a285e3b0f1896154",
        "IPY_MODEL_b062072f98394c48b50039f1638693d6"
       ],
       "layout": "IPY_MODEL_086ddf4760514770be93e4c3062c0e2a"
      }
     },
     "9cb59ab36152487c80c255ca677829c0": {
      "model_module": "@jupyter-widgets/base",
      "model_module_version": "1.1.0",
      "model_name": "LayoutModel",
      "state": {}
     },
     "9ce2db0dc08644afba1c25d8d7e36535": {
      "model_module": "@jupyter-widgets/base",
      "model_module_version": "1.1.0",
      "model_name": "LayoutModel",
      "state": {
       "height": "200px",
       "width": "99%"
      }
     },
     "9ce687bb65e64e4cb5b51675f2b6c4f7": {
      "model_module": "@jupyter-widgets/controls",
      "model_module_version": "1.4.0",
      "model_name": "ButtonModel",
      "state": {
       "description": "Select ALL",
       "layout": "IPY_MODEL_a70b57df69ca4ca883cff7e6b56bc4c2",
       "style": "IPY_MODEL_01f1e5006e0b47e8ae60e1a532ace08b"
      }
     },
     "9cf6ed325e5f496ebaeda994d4ac4503": {
      "model_module": "@jupyter-widgets/controls",
      "model_module_version": "1.4.0",
      "model_name": "ButtonModel",
      "state": {
       "description": "Select ALL",
       "layout": "IPY_MODEL_b736d2717b8f4822867a12751a520128",
       "style": "IPY_MODEL_afe5f7d54973483ba4ad2472becf9012"
      }
     },
     "9d123fb8be38401b9cf2adac2a8c4463": {
      "model_module": "@jupyter-widgets/controls",
      "model_module_version": "1.4.0",
      "model_name": "DescriptionStyleModel",
      "state": {
       "description_width": "initial"
      }
     },
     "9d23418ccd894690a5abed9e144c2abd": {
      "model_module": "@jupyter-widgets/base",
      "model_module_version": "1.1.0",
      "model_name": "LayoutModel",
      "state": {}
     },
     "9d4410b927e4426f9cf4eed2df129d82": {
      "model_module": "@jupyter-widgets/base",
      "model_module_version": "1.1.0",
      "model_name": "LayoutModel",
      "state": {
       "width": "400px"
      }
     },
     "9d70a5fded6143f6b7734f7ab8d5eae9": {
      "model_module": "@jupyter-widgets/controls",
      "model_module_version": "1.4.0",
      "model_name": "HBoxModel",
      "state": {
       "children": [
        "IPY_MODEL_a19c32162792415491aba390dbef743d",
        "IPY_MODEL_e6c32407b25a47709440802adc753a50",
        "IPY_MODEL_fda36595450e4b7e89fc7101e36dd76b",
        "IPY_MODEL_3a00d78c49854041893f2e0596a8da9e"
       ],
       "layout": "IPY_MODEL_58e185423b094877b2bec8ab4fae0073"
      }
     },
     "9d7113f31bd74ea4b0ee2128f5e290ca": {
      "model_module": "@jupyter-widgets/base",
      "model_module_version": "1.1.0",
      "model_name": "LayoutModel",
      "state": {
       "width": "20%"
      }
     },
     "9d723fe165f1403dab0bab6ba161067d": {
      "model_module": "@jupyter-widgets/controls",
      "model_module_version": "1.4.0",
      "model_name": "ButtonModel",
      "state": {
       "description": "Default selection",
       "layout": "IPY_MODEL_5db78c4d230d4b5e9fc0fa8a07d59c12",
       "style": "IPY_MODEL_5fdbc68a208a47e4a29532ad54ded650"
      }
     },
     "9d7e3802bb054f2295e930d57caef346": {
      "model_module": "@jupyter-widgets/controls",
      "model_module_version": "1.4.0",
      "model_name": "HTMLModel",
      "state": {
       "description": "QA layer:",
       "layout": "IPY_MODEL_4d08613da8314ca2a6bfaef9becc7a8b",
       "style": "IPY_MODEL_8324b74168ac4fa6a93336a8b042f54e",
       "value": "<b>_1_km_16_days_VI_Quality</b>"
      }
     },
     "9dc04b4c7dac40fd973a5aee71b334cd": {
      "model_module": "@jupyter-widgets/controls",
      "model_module_version": "1.4.0",
      "model_name": "SelectMultipleModel",
      "state": {
       "_options_labels": [
        "VI produced, good quality",
        "VI produced, but check other QA",
        "Pixel produced, but most probably cloudy",
        "Pixel not produced due to other reasons than clouds"
       ],
       "description": "Description",
       "index": [
        0
       ],
       "layout": "IPY_MODEL_50038abcc552438cb69a324e48a81e1a",
       "rows": 4,
       "style": "IPY_MODEL_228ceb9dbe0f485fbe4bc2d17ab40e0e"
      }
     },
     "9e2fb3e321444ecf811d5254cc4b6f80": {
      "model_module": "@jupyter-widgets/controls",
      "model_module_version": "1.4.0",
      "model_name": "SelectModel",
      "state": {
       "_options_labels": [
        "MODLAND",
        "VI Usefulness",
        "Aerosol Quantity",
        "Adjacent cloud detected",
        "Atmosphere BRDF Correction",
        "Mixed Clouds",
        "Land/Water Mask",
        "Possible snow/ice",
        "Possible shadow"
       ],
       "description": "QA Parameter name:",
       "index": 0,
       "layout": "IPY_MODEL_f1b688e8bf40459683ec0d1259a151d1",
       "rows": 9,
       "style": "IPY_MODEL_edb2ed43f53a4ea096c256e91ea187bb"
      }
     },
     "9e5d119f74c94544a2b3af0e49c6c28c": {
      "model_module": "@jupyter-widgets/base",
      "model_module_version": "1.1.0",
      "model_name": "LayoutModel",
      "state": {
       "height": "300px",
       "width": "99%"
      }
     },
     "9e714ee398ec4271b99bf554064fee1f": {
      "model_module": "@jupyter-widgets/controls",
      "model_module_version": "1.4.0",
      "model_name": "ButtonModel",
      "state": {
       "description": "Select ALL",
       "layout": "IPY_MODEL_d7b5b7034f744be6ac802b05a7f9d487",
       "style": "IPY_MODEL_fbce0a3501c04c01b5be8c6e7fd80c3f"
      }
     },
     "9e7e45ce8f8f4ae08e4ceddaed2c0f3e": {
      "model_module": "@jupyter-widgets/controls",
      "model_module_version": "1.4.0",
      "model_name": "VBoxModel",
      "state": {
       "children": [
        "IPY_MODEL_1f7684738bf347458fa06ee6018f79c5"
       ],
       "layout": "IPY_MODEL_c779139728bc4da593518f855c8a7d42"
      }
     },
     "9ecba8087d934f27a0e0e54088cb7994": {
      "model_module": "@jupyter-widgets/controls",
      "model_module_version": "1.4.0",
      "model_name": "VBoxModel",
      "state": {
       "children": [
        "IPY_MODEL_9e2fb3e321444ecf811d5254cc4b6f80"
       ],
       "layout": "IPY_MODEL_e4af34dfdc9c4211a64463439ee76043"
      }
     },
     "9ed67707fc284bfc9f621f874c7c6412": {
      "model_module": "@jupyter-widgets/controls",
      "model_module_version": "1.4.0",
      "model_name": "SelectMultipleModel",
      "state": {
       "_options_labels": [
        "VI produced, good quality",
        "VI produced, but check other QA",
        "Pixel produced, but most probably cloudy",
        "Pixel not produced due to other reasons than clouds"
       ],
       "description": "Description",
       "index": [
        0
       ],
       "layout": "IPY_MODEL_f7ce89c0318b47e08df875d2a4d9715c",
       "rows": 4,
       "style": "IPY_MODEL_8cb2217adddb4fbbb1f1e9c307f9c55a"
      }
     },
     "9efd796111e3424f9438f3acdbe40c80": {
      "model_module": "@jupyter-widgets/base",
      "model_module_version": "1.1.0",
      "model_name": "LayoutModel",
      "state": {
       "width": "350px"
      }
     },
     "9f1495f28bfd4144a8e939badbbd1352": {
      "model_module": "@jupyter-widgets/base",
      "model_module_version": "1.1.0",
      "model_name": "LayoutModel",
      "state": {}
     },
     "9f20245641334288bc287baabcacb6ce": {
      "model_module": "@jupyter-widgets/controls",
      "model_module_version": "1.4.0",
      "model_name": "VBoxModel",
      "state": {
       "children": [
        "IPY_MODEL_07cd8d62d7e0437a9bdbf418326a94aa"
       ],
       "layout": "IPY_MODEL_c1aed131da824eb7b4a332611ab79439"
      }
     },
     "9f5f58d71de44443b4fb9cf79ffa87db": {
      "model_module": "@jupyter-widgets/base",
      "model_module_version": "1.1.0",
      "model_name": "LayoutModel",
      "state": {}
     },
     "9f6918f3ae8c4f78990990157c61d328": {
      "model_module": "@jupyter-widgets/controls",
      "model_module_version": "1.4.0",
      "model_name": "DescriptionStyleModel",
      "state": {
       "description_width": ""
      }
     },
     "9f6e2182cb204146b1f02ab950ce195d": {
      "model_module": "@jupyter-widgets/controls",
      "model_module_version": "1.4.0",
      "model_name": "SelectMultipleModel",
      "state": {
       "_options_labels": [
        "Good data, use with confidence",
        "Marginal data, Useful, but look at other QA information",
        "Snow/Ice Target covered with snow/ice",
        "Cloudy data, Target not visible, covered with cloud"
       ],
       "description": "Description",
       "index": [
        0,
        1
       ],
       "layout": "IPY_MODEL_b60d37269f6b4e7c915b4c257d952376",
       "rows": 4,
       "style": "IPY_MODEL_e6056ff3b2224e0e9384f9253359dd3c"
      }
     },
     "9fb7ac70b9e949bda5859962e0518365": {
      "model_module": "@jupyter-widgets/base",
      "model_module_version": "1.1.0",
      "model_name": "LayoutModel",
      "state": {
       "width": "400px"
      }
     },
     "9fc3d10736134f0687fef32f9c7638bb": {
      "model_module": "@jupyter-widgets/controls",
      "model_module_version": "1.4.0",
      "model_name": "SelectModel",
      "state": {
       "_options_labels": [
        "MODLAND",
        "VI Usefulness",
        "Aerosol Quantity",
        "Adjacent cloud detected",
        "Atmosphere BRDF Correction",
        "Mixed Clouds",
        "Land/Water Mask",
        "Possible snow/ice",
        "Possible shadow"
       ],
       "description": "QA Parameter name:",
       "index": 0,
       "layout": "IPY_MODEL_e36660d93b8047728a1d8e0db312ded0",
       "rows": 9,
       "style": "IPY_MODEL_aaaed25475b14c35b955a52ea85a6180"
      }
     },
     "a002be20c79044db8718a47ba3ddf2d3": {
      "model_module": "@jupyter-widgets/controls",
      "model_module_version": "1.4.0",
      "model_name": "SelectMultipleModel",
      "state": {
       "_options_labels": [
        "VI produced, good quality",
        "VI produced, but check other QA",
        "Pixel produced, but most probably cloudy",
        "Pixel not produced due to other reasons than clouds"
       ],
       "description": "Description",
       "index": [
        0
       ],
       "layout": "IPY_MODEL_266c4a07dec245d698e3656b8a78a9a8",
       "rows": 4,
       "style": "IPY_MODEL_3386ccc9581e4874b6f426375112e0f4"
      }
     },
     "a00f3801f8c147cdb7cc41889a66c09e": {
      "model_module": "@jupyter-widgets/base",
      "model_module_version": "1.1.0",
      "model_name": "LayoutModel",
      "state": {}
     },
     "a03a7c46090c4283a56dd740716f5266": {
      "model_module": "@jupyter-widgets/controls",
      "model_module_version": "1.4.0",
      "model_name": "ButtonStyleModel",
      "state": {}
     },
     "a0590c75f52c4816b053bba563b67d07": {
      "model_module": "@jupyter-widgets/base",
      "model_module_version": "1.1.0",
      "model_name": "LayoutModel",
      "state": {
       "width": "400px"
      }
     },
     "a0737f03d36f45ec9297c37805b1f780": {
      "model_module": "@jupyter-widgets/controls",
      "model_module_version": "1.4.0",
      "model_name": "SelectModel",
      "state": {
       "_options_labels": [
        "MODLAND",
        "VI Usefulness",
        "Aerosol Quantity",
        "Adjacent cloud detected",
        "Atmosphere BRDF Correction",
        "Mixed Clouds",
        "Land/Water Mask",
        "Possible snow/ice",
        "Possible shadow"
       ],
       "description": "QA Parameter name:",
       "index": 0,
       "layout": "IPY_MODEL_d7634c8e99324dd18d104466e974a5c7",
       "rows": 9,
       "style": "IPY_MODEL_be1925841d3d4a90aa0c83ee5a9ad47a"
      }
     },
     "a09cd3b9c5c44bc2936deb28da726826": {
      "model_module": "@jupyter-widgets/controls",
      "model_module_version": "1.4.0",
      "model_name": "DescriptionStyleModel",
      "state": {
       "description_width": "initial"
      }
     },
     "a0ab3fa7d74445e6bdd2b644285bda33": {
      "model_module": "@jupyter-widgets/controls",
      "model_module_version": "1.4.0",
      "model_name": "VBoxModel",
      "state": {
       "children": [
        "IPY_MODEL_b7bf2ae98c7740caa668f1d6f4abbb16"
       ],
       "layout": "IPY_MODEL_025f9c35ec5542fca8951ef2e04984bf"
      }
     },
     "a0d8eb47340340f2901f6c5154615b67": {
      "model_module": "@jupyter-widgets/controls",
      "model_module_version": "1.4.0",
      "model_name": "DescriptionStyleModel",
      "state": {
       "description_width": "initial"
      }
     },
     "a1105c87cbfc49d89bb6181832302945": {
      "model_module": "@jupyter-widgets/base",
      "model_module_version": "1.1.0",
      "model_name": "LayoutModel",
      "state": {
       "width": "20%"
      }
     },
     "a126d403dde5434d80d5108b207473e4": {
      "model_module": "@jupyter-widgets/controls",
      "model_module_version": "1.4.0",
      "model_name": "DescriptionStyleModel",
      "state": {
       "description_width": "initial"
      }
     },
     "a145a18415b54cebb89da5b4c38dcdf1": {
      "model_module": "@jupyter-widgets/controls",
      "model_module_version": "1.4.0",
      "model_name": "VBoxModel",
      "state": {
       "children": [
        "IPY_MODEL_7469c4ebecb547d9b88488d055a35631"
       ],
       "layout": "IPY_MODEL_8611fbe5bd9f402d9ff45cf8f7a5f70f"
      }
     },
     "a14be49e2e624059aea8e0ca0d883109": {
      "model_module": "@jupyter-widgets/controls",
      "model_module_version": "1.4.0",
      "model_name": "ButtonModel",
      "state": {
       "description": "Select ALL",
       "layout": "IPY_MODEL_2e0fa5774b1d4b0f89b379eaba7865cc",
       "style": "IPY_MODEL_5b7f8d15f07c458da82fa6c1211d9a04"
      }
     },
     "a16effd177ca4a349d1ca4d31330233e": {
      "model_module": "@jupyter-widgets/base",
      "model_module_version": "1.1.0",
      "model_name": "LayoutModel",
      "state": {
       "width": "20%"
      }
     },
     "a19c32162792415491aba390dbef743d": {
      "model_module": "@jupyter-widgets/controls",
      "model_module_version": "1.4.0",
      "model_name": "SelectModel",
      "state": {
       "_options_labels": [
        "MODLAND",
        "VI Usefulness",
        "Aerosol Quantity",
        "Adjacent cloud detected",
        "Atmosphere BRDF Correction",
        "Mixed Clouds",
        "Land/Water Mask",
        "Possible snow/ice",
        "Possible shadow"
       ],
       "description": "QA Parameter name:",
       "index": 0,
       "layout": "IPY_MODEL_78c63633e56147398882aebf45437987",
       "rows": 9,
       "style": "IPY_MODEL_2d705405e176413db6586a5c5094726e"
      }
     },
     "a1a02dde174a4f8187ddb9aa685672d5": {
      "model_module": "@jupyter-widgets/controls",
      "model_module_version": "1.4.0",
      "model_name": "ButtonModel",
      "state": {
       "description": "Select ALL",
       "layout": "IPY_MODEL_30d0afb23be14d628bae09b41e0631d2",
       "style": "IPY_MODEL_12dd10672b32451eb87adadd520fc344"
      }
     },
     "a1a2c8d08519450c98cce96ca2614bca": {
      "model_module": "@jupyter-widgets/controls",
      "model_module_version": "1.4.0",
      "model_name": "ButtonModel",
      "state": {
       "description": "Default selection",
       "layout": "IPY_MODEL_f94fc59073d4464fb9b50c7606547b30",
       "style": "IPY_MODEL_06907f4932e34d879638b52b3749f9fc"
      }
     },
     "a1a8c4fb332044238159be1cb15938ff": {
      "model_module": "@jupyter-widgets/base",
      "model_module_version": "1.1.0",
      "model_name": "LayoutModel",
      "state": {}
     },
     "a1c2d147b974467f954aa0dea80d7360": {
      "model_module": "@jupyter-widgets/base",
      "model_module_version": "1.1.0",
      "model_name": "LayoutModel",
      "state": {
       "width": "400px"
      }
     },
     "a1c318a5959a41cb8f360f3fa40edb04": {
      "model_module": "@jupyter-widgets/controls",
      "model_module_version": "1.4.0",
      "model_name": "HTMLModel",
      "state": {
       "description": "QA layer:",
       "layout": "IPY_MODEL_3076fff0f0d64fb299c8f7cbf9b076da",
       "style": "IPY_MODEL_aa8672c915214a24ad54779bdb7e9ed2",
       "value": "<b>_1_km_16_days_VI_Quality</b>"
      }
     },
     "a1c8b531d1d5435b8c7e3a67b7eaf4d4": {
      "model_module": "@jupyter-widgets/base",
      "model_module_version": "1.1.0",
      "model_name": "LayoutModel",
      "state": {}
     },
     "a1e3a29f948944d2af007875ba7db07a": {
      "model_module": "@jupyter-widgets/base",
      "model_module_version": "1.1.0",
      "model_name": "LayoutModel",
      "state": {
       "width": "20%"
      }
     },
     "a22544860bda43ed905e7c2927bfdd65": {
      "model_module": "@jupyter-widgets/controls",
      "model_module_version": "1.4.0",
      "model_name": "SelectModel",
      "state": {
       "_options_labels": [
        "MODLAND"
       ],
       "description": "QA Parameter name:",
       "index": 0,
       "layout": "IPY_MODEL_ed257a97fb12455692677ddacbb88fb9",
       "rows": 1,
       "style": "IPY_MODEL_6155682d2093467c8dbaa8dd62fa87f2"
      }
     },
     "a263dcf074634b7f993e9fa96ab6997f": {
      "model_module": "@jupyter-widgets/base",
      "model_module_version": "1.1.0",
      "model_name": "LayoutModel",
      "state": {
       "height": "200px",
       "width": "99%"
      }
     },
     "a284776e6f4b4c73bec7e6c9d6054816": {
      "model_module": "@jupyter-widgets/base",
      "model_module_version": "1.1.0",
      "model_name": "LayoutModel",
      "state": {
       "width": "20%"
      }
     },
     "a29ef499a407431292bd33cb30789145": {
      "model_module": "@jupyter-widgets/controls",
      "model_module_version": "1.4.0",
      "model_name": "HBoxModel",
      "state": {
       "children": [
        "IPY_MODEL_80d500df191845678ba7726d3954d8a2",
        "IPY_MODEL_33d32f0b1d084ed09213a28ee47410b3",
        "IPY_MODEL_c24d679f331e4c7eaf46a3716c721897",
        "IPY_MODEL_7024fa028d234ed7a25475d7954cf289"
       ],
       "layout": "IPY_MODEL_34a179cf34b5442fbaae55e10db5f7b4"
      }
     },
     "a2ca52b8f2bc4656ad95b7c8ddffab76": {
      "model_module": "@jupyter-widgets/controls",
      "model_module_version": "1.4.0",
      "model_name": "ButtonStyleModel",
      "state": {}
     },
     "a36c3caa205840ccaaedf979df1f9de8": {
      "model_module": "@jupyter-widgets/controls",
      "model_module_version": "1.4.0",
      "model_name": "SelectModel",
      "state": {
       "_options_labels": [
        "MODLAND",
        "VI Usefulness",
        "Aerosol Quantity",
        "Adjacent cloud detected",
        "Atmosphere BRDF Correction",
        "Mixed Clouds",
        "Land/Water Mask",
        "Possible snow/ice",
        "Possible shadow"
       ],
       "description": "QA Parameter name:",
       "index": 8,
       "layout": "IPY_MODEL_d84baeb1685243f484a7bde09e103814",
       "rows": 9,
       "style": "IPY_MODEL_6bc34c08b7dc42daaa10ae5c47359a0b"
      }
     },
     "a381de81e9a24d70ae15a73a1ac2d6ce": {
      "model_module": "@jupyter-widgets/controls",
      "model_module_version": "1.4.0",
      "model_name": "ButtonStyleModel",
      "state": {}
     },
     "a38ff1de06c64ed398eb81b6c84e66d3": {
      "model_module": "@jupyter-widgets/base",
      "model_module_version": "1.1.0",
      "model_name": "LayoutModel",
      "state": {
       "height": "300px",
       "width": "99%"
      }
     },
     "a3abd56012d74a478c850898eebea7ee": {
      "model_module": "@jupyter-widgets/controls",
      "model_module_version": "1.4.0",
      "model_name": "VBoxModel",
      "state": {
       "children": [
        "IPY_MODEL_3a28d54993824abf9f131323bba244a8"
       ],
       "layout": "IPY_MODEL_fc1b45949ef44887a3e78d3af01a98dc"
      }
     },
     "a3c1cbdcc93a4d13a588a50502e87fdd": {
      "model_module": "@jupyter-widgets/controls",
      "model_module_version": "1.4.0",
      "model_name": "ButtonModel",
      "state": {
       "description": "QA analytics",
       "layout": "IPY_MODEL_44572303469e434fa2fff0eab8f74e68",
       "style": "IPY_MODEL_c7e86b3f79a64e398ee4704df1007b33"
      }
     },
     "a3fe0091d5514ca791a18081dfe133c7": {
      "model_module": "@jupyter-widgets/controls",
      "model_module_version": "1.4.0",
      "model_name": "DescriptionStyleModel",
      "state": {
       "description_width": ""
      }
     },
     "a4099c5bf08f4769b613fa3e00d2e027": {
      "model_module": "@jupyter-widgets/base",
      "model_module_version": "1.1.0",
      "model_name": "LayoutModel",
      "state": {}
     },
     "a4636a4d4f234479b544daff50643093": {
      "model_module": "@jupyter-widgets/controls",
      "model_module_version": "1.4.0",
      "model_name": "HTMLModel",
      "state": {
       "description": "QA layer:",
       "layout": "IPY_MODEL_f8da3c21038a41b7be547c572eded264",
       "style": "IPY_MODEL_aa5f1c3e7cc5461b955531fcf757ca26",
       "value": "<b>_1_km_16_days_VI_Quality</b>"
      }
     },
     "a475424f0a8f4b018321d0224be04fb7": {
      "model_module": "@jupyter-widgets/base",
      "model_module_version": "1.1.0",
      "model_name": "LayoutModel",
      "state": {}
     },
     "a4c7576ddf63466b9b5bca8991a7d26c": {
      "model_module": "@jupyter-widgets/controls",
      "model_module_version": "1.4.0",
      "model_name": "ButtonStyleModel",
      "state": {}
     },
     "a4ea8d1f73894de78985d31cc28fcd2c": {
      "model_module": "@jupyter-widgets/controls",
      "model_module_version": "1.4.0",
      "model_name": "ButtonModel",
      "state": {
       "description": "Default selection",
       "layout": "IPY_MODEL_4fd15934f23a45a5a193c4bb3617e9c5",
       "style": "IPY_MODEL_0db7ed4aede84a07b378fc860cad3c8c"
      }
     },
     "a51126f73c5942ed9443c7d5a4f8d85f": {
      "model_module": "@jupyter-widgets/controls",
      "model_module_version": "1.4.0",
      "model_name": "ButtonStyleModel",
      "state": {}
     },
     "a553d77654254052b708e06d089278c5": {
      "model_module": "@jupyter-widgets/controls",
      "model_module_version": "1.4.0",
      "model_name": "VBoxModel",
      "state": {
       "children": [
        "IPY_MODEL_c47e43bcf34d41e2876e150cf27af53e"
       ],
       "layout": "IPY_MODEL_d660bce74b844368917b75de6d133f81"
      }
     },
     "a598006ce02044f494625cb901835060": {
      "model_module": "@jupyter-widgets/base",
      "model_module_version": "1.1.0",
      "model_name": "LayoutModel",
      "state": {
       "width": "400px"
      }
     },
     "a5b4c16a578f4f45a27cda6004781a14": {
      "model_module": "@jupyter-widgets/controls",
      "model_module_version": "1.4.0",
      "model_name": "SelectModel",
      "state": {
       "_options_labels": [
        "MODLAND",
        "VI Usefulness",
        "Aerosol Quantity",
        "Adjacent cloud detected",
        "Atmosphere BRDF Correction",
        "Mixed Clouds",
        "Land/Water Mask",
        "Possible snow/ice",
        "Possible shadow"
       ],
       "description": "QA Parameter name:",
       "index": 8,
       "layout": "IPY_MODEL_a9260f159dcb4b83a362be6a311b0740",
       "rows": 9,
       "style": "IPY_MODEL_cfee4f1afe1340c3b70d3149ff05e508"
      }
     },
     "a5e74cd31475490aa3a995dd05215aaa": {
      "model_module": "@jupyter-widgets/base",
      "model_module_version": "1.1.0",
      "model_name": "LayoutModel",
      "state": {}
     },
     "a6010c48e316496190249c12f4094ed5": {
      "model_module": "@jupyter-widgets/controls",
      "model_module_version": "1.4.0",
      "model_name": "DescriptionStyleModel",
      "state": {
       "description_width": "initial"
      }
     },
     "a604dd00f1fa400584ade9ed2e06047e": {
      "model_module": "@jupyter-widgets/controls",
      "model_module_version": "1.4.0",
      "model_name": "ButtonStyleModel",
      "state": {}
     },
     "a6318a1a39ea4723826d7d05d8cac313": {
      "model_module": "@jupyter-widgets/base",
      "model_module_version": "1.1.0",
      "model_name": "LayoutModel",
      "state": {
       "width": "400px"
      }
     },
     "a64f3ca25aad45028f9fe770ace4be30": {
      "model_module": "@jupyter-widgets/controls",
      "model_module_version": "1.4.0",
      "model_name": "DescriptionStyleModel",
      "state": {
       "description_width": "initial"
      }
     },
     "a653b4826a0944bfb33455b953035ff5": {
      "model_module": "@jupyter-widgets/controls",
      "model_module_version": "1.4.0",
      "model_name": "DescriptionStyleModel",
      "state": {
       "description_width": ""
      }
     },
     "a69efe3e986e4aac84aa55bf85b350e3": {
      "model_module": "@jupyter-widgets/base",
      "model_module_version": "1.1.0",
      "model_name": "LayoutModel",
      "state": {
       "width": "20%"
      }
     },
     "a6c94002f5fc4ddcbbecc64512b13eb0": {
      "model_module": "@jupyter-widgets/controls",
      "model_module_version": "1.4.0",
      "model_name": "DescriptionStyleModel",
      "state": {
       "description_width": "initial"
      }
     },
     "a6fb7237920b485294d9621d739ede41": {
      "model_module": "@jupyter-widgets/controls",
      "model_module_version": "1.4.0",
      "model_name": "DescriptionStyleModel",
      "state": {
       "description_width": ""
      }
     },
     "a7040bcfdcac4e9593df3aba046a72cb": {
      "model_module": "@jupyter-widgets/controls",
      "model_module_version": "1.4.0",
      "model_name": "ButtonStyleModel",
      "state": {}
     },
     "a70b57df69ca4ca883cff7e6b56bc4c2": {
      "model_module": "@jupyter-widgets/base",
      "model_module_version": "1.1.0",
      "model_name": "LayoutModel",
      "state": {
       "width": "20%"
      }
     },
     "a70b9743983b4f9a91ff058e20b486ce": {
      "model_module": "@jupyter-widgets/controls",
      "model_module_version": "1.4.0",
      "model_name": "ButtonStyleModel",
      "state": {}
     },
     "a72529c088a94387b2b82ae1eff82ade": {
      "model_module": "@jupyter-widgets/base",
      "model_module_version": "1.1.0",
      "model_name": "LayoutModel",
      "state": {
       "width": "350px"
      }
     },
     "a735ff8e3d704d2f909f25595729832d": {
      "model_module": "@jupyter-widgets/base",
      "model_module_version": "1.1.0",
      "model_name": "LayoutModel",
      "state": {
       "width": "50%"
      }
     },
     "a766c3a37a214469a58542268e8d8203": {
      "model_module": "@jupyter-widgets/base",
      "model_module_version": "1.1.0",
      "model_name": "LayoutModel",
      "state": {
       "width": "20%"
      }
     },
     "a7819211aa9e4147a396898c9465cff1": {
      "model_module": "@jupyter-widgets/base",
      "model_module_version": "1.1.0",
      "model_name": "LayoutModel",
      "state": {
       "height": "250px",
       "width": "99%"
      }
     },
     "a792ab8d91ca4e63bd2b059f6be5f3fe": {
      "model_module": "@jupyter-widgets/controls",
      "model_module_version": "1.4.0",
      "model_name": "HBoxModel",
      "state": {
       "children": [
        "IPY_MODEL_d784c6b3e69042d99de9de59e3a772ac",
        "IPY_MODEL_18a749ee2ac64d9daebbfb8c7ec74636"
       ],
       "layout": "IPY_MODEL_e147d3abae9a49f2a9700ba6faacdc21"
      }
     },
     "a79a6c886eb546a680c33d2e3ec1c7b9": {
      "model_module": "@jupyter-widgets/base",
      "model_module_version": "1.1.0",
      "model_name": "LayoutModel",
      "state": {}
     },
     "a79dba3cf4a145afa7aaf78c44576a07": {
      "model_module": "@jupyter-widgets/base",
      "model_module_version": "1.1.0",
      "model_name": "LayoutModel",
      "state": {}
     },
     "a7a8dfd2286c4c22b3f12c73e999d49e": {
      "model_module": "@jupyter-widgets/controls",
      "model_module_version": "1.4.0",
      "model_name": "SelectMultipleModel",
      "state": {
       "_options_labels": [
        "VI produced, good quality",
        "VI produced, but check other QA",
        "Pixel produced, but most probably cloudy",
        "Pixel not produced due to other reasons than clouds"
       ],
       "description": "Description",
       "index": [
        0
       ],
       "layout": "IPY_MODEL_29b518c557b245e7a8cd9a7928845b4c",
       "rows": 4,
       "style": "IPY_MODEL_06498e42077e4888bae5827de0a2f102"
      }
     },
     "a7c0d5e6e9444da49c2987677a745293": {
      "model_module": "@jupyter-widgets/controls",
      "model_module_version": "1.4.0",
      "model_name": "SelectMultipleModel",
      "state": {
       "_options_labels": [
        "VI produced, good quality",
        "VI produced, but check other QA",
        "Pixel produced, but most probably cloudy",
        "Pixel not produced due to other reasons than clouds"
       ],
       "description": "Description",
       "index": [
        0
       ],
       "layout": "IPY_MODEL_d5db99f748a94d0ca071b1a5a094699d",
       "rows": 4,
       "style": "IPY_MODEL_b504cb52d1ed40cead538da1e8e46e8c"
      }
     },
     "a7ffae7a635e447699b733c9b0f1bc6a": {
      "model_module": "@jupyter-widgets/base",
      "model_module_version": "1.1.0",
      "model_name": "LayoutModel",
      "state": {
       "height": "300px",
       "width": "99%"
      }
     },
     "a808d02e81614d80a0492b2ebf77b2fd": {
      "model_module": "@jupyter-widgets/base",
      "model_module_version": "1.1.0",
      "model_name": "LayoutModel",
      "state": {}
     },
     "a851f9dd3ae64b93bf7dd66e67e73c0f": {
      "model_module": "@jupyter-widgets/controls",
      "model_module_version": "1.4.0",
      "model_name": "HBoxModel",
      "state": {
       "children": [
        "IPY_MODEL_87c67b05e94246a487bb6ea4898207a3",
        "IPY_MODEL_686d9827695e40bd9f232bd207de3318"
       ],
       "layout": "IPY_MODEL_430f72d236b34871a2c7109730288ead"
      }
     },
     "a853e8555bde4b73a7d7de6ba4513c37": {
      "model_module": "@jupyter-widgets/controls",
      "model_module_version": "1.4.0",
      "model_name": "VBoxModel",
      "state": {
       "children": [
        "IPY_MODEL_91cad4b52db748ee9e428e02e70251f6"
       ],
       "layout": "IPY_MODEL_3bd97194314846e5949bf9766f6c12d3"
      }
     },
     "a861c68657b247fcbe557d2bdce2d94a": {
      "model_module": "@jupyter-widgets/controls",
      "model_module_version": "1.4.0",
      "model_name": "HBoxModel",
      "state": {
       "children": [
        "IPY_MODEL_47f3bc48fd6949a49c9bc431fe71d1ed",
        "IPY_MODEL_3e3ecea6762d4fab8b5d456dfdc8eb64"
       ],
       "layout": "IPY_MODEL_7cd618a1edfb4715acc433aff0c99303"
      }
     },
     "a88ad1be6009414e84682972a96f94d8": {
      "model_module": "@jupyter-widgets/controls",
      "model_module_version": "1.4.0",
      "model_name": "DescriptionStyleModel",
      "state": {
       "description_width": ""
      }
     },
     "a892a29e65bc4eb99fa6e73c23657d08": {
      "model_module": "@jupyter-widgets/base",
      "model_module_version": "1.1.0",
      "model_name": "LayoutModel",
      "state": {}
     },
     "a8c045949e934184a0f1435429cc8280": {
      "model_module": "@jupyter-widgets/controls",
      "model_module_version": "1.4.0",
      "model_name": "VBoxModel",
      "state": {
       "children": [
        "IPY_MODEL_4a64696e4f3246fda1cb57ea86986372"
       ],
       "layout": "IPY_MODEL_2da6360d9a674ff2a13be7c561f9b6eb"
      }
     },
     "a8e4d97f9ca94dea8df107aee95e0642": {
      "model_module": "@jupyter-widgets/controls",
      "model_module_version": "1.4.0",
      "model_name": "DescriptionStyleModel",
      "state": {
       "description_width": "initial"
      }
     },
     "a901948002f8438b8f2dad3887c30571": {
      "model_module": "@jupyter-widgets/controls",
      "model_module_version": "1.4.0",
      "model_name": "VBoxModel",
      "state": {
       "children": [
        "IPY_MODEL_6a14390c157c4ff4a4d4a7e35aedbde5"
       ],
       "layout": "IPY_MODEL_66d1e8cd93324d92bf41a70b987e0c78"
      }
     },
     "a92338001abc434d967ae1710235ecbd": {
      "model_module": "@jupyter-widgets/controls",
      "model_module_version": "1.4.0",
      "model_name": "SelectMultipleModel",
      "state": {
       "_options_labels": [
        "VI produced, good quality",
        "VI produced, but check other QA",
        "Pixel produced, but most probably cloudy",
        "Pixel not produced due to other reasons than clouds"
       ],
       "description": "Description",
       "index": [
        0
       ],
       "layout": "IPY_MODEL_36fbd7cdba034eaab147c97dcc8133d3",
       "rows": 4,
       "style": "IPY_MODEL_90bfccce59ad4319b6a4a66207002c5f"
      }
     },
     "a9260f159dcb4b83a362be6a311b0740": {
      "model_module": "@jupyter-widgets/base",
      "model_module_version": "1.1.0",
      "model_name": "LayoutModel",
      "state": {
       "width": "400px"
      }
     },
     "a92cdea91b4b472e89d0a89a4bc5af97": {
      "model_module": "@jupyter-widgets/controls",
      "model_module_version": "1.4.0",
      "model_name": "HTMLModel",
      "state": {
       "description": "QA layer:",
       "layout": "IPY_MODEL_fb6bf275a3424571befd1f1f26e54b99",
       "style": "IPY_MODEL_193691638d634287ae015126b45b578b",
       "value": "<b>_1_km_16_days_pixel_reliability</b>"
      }
     },
     "a931e7080c61496ba892de8e74d578c0": {
      "model_module": "@jupyter-widgets/controls",
      "model_module_version": "1.4.0",
      "model_name": "VBoxModel",
      "state": {
       "children": [
        "IPY_MODEL_e7c9dbb596b84bbea7ddd323ea1e42a3"
       ],
       "layout": "IPY_MODEL_75aeb2861d63477189ccc134fade6245"
      }
     },
     "a9549642783c41e6a5aa3bef35f8c911": {
      "model_module": "@jupyter-widgets/base",
      "model_module_version": "1.1.0",
      "model_name": "LayoutModel",
      "state": {
       "width": "400px"
      }
     },
     "a9b3a979622047088da9f74ea1816bd8": {
      "model_module": "@jupyter-widgets/base",
      "model_module_version": "1.1.0",
      "model_name": "LayoutModel",
      "state": {
       "width": "400px"
      }
     },
     "a9c867dc1fdd440f9d1b1b7e1adc3c77": {
      "model_module": "@jupyter-widgets/base",
      "model_module_version": "1.1.0",
      "model_name": "LayoutModel",
      "state": {
       "height": "300px",
       "width": "99%"
      }
     },
     "a9f5f88e7bc044d18b4fc11444af91b6": {
      "model_module": "@jupyter-widgets/controls",
      "model_module_version": "1.4.0",
      "model_name": "HBoxModel",
      "state": {
       "children": [
        "IPY_MODEL_bd294d36b73d4092a46a452ba28e5e15",
        "IPY_MODEL_51998ac275bd4c66b31a54b9e0d0fbdf"
       ],
       "layout": "IPY_MODEL_4c57cc20e9b342c08544a9b919b3fdec"
      }
     },
     "aa1561aa50924bb28f9d65f7888bd503": {
      "model_module": "@jupyter-widgets/controls",
      "model_module_version": "1.4.0",
      "model_name": "DescriptionStyleModel",
      "state": {
       "description_width": "initial"
      }
     },
     "aa51325fd38f494fb5d54f0f0acd307c": {
      "model_module": "@jupyter-widgets/controls",
      "model_module_version": "1.4.0",
      "model_name": "SelectModel",
      "state": {
       "_options_labels": [
        "MODLAND",
        "VI Usefulness",
        "Aerosol Quantity",
        "Adjacent cloud detected",
        "Atmosphere BRDF Correction",
        "Mixed Clouds",
        "Land/Water Mask",
        "Possible snow/ice",
        "Possible shadow"
       ],
       "description": "QA Parameter name:",
       "index": 0,
       "layout": "IPY_MODEL_fdd7e4d7149f4908906a01b2f1276cc8",
       "rows": 9,
       "style": "IPY_MODEL_e5f2107ce39c497cbfb4e0990b864cbb"
      }
     },
     "aa54196610634190b5d2a7c4383fb1fb": {
      "model_module": "@jupyter-widgets/controls",
      "model_module_version": "1.4.0",
      "model_name": "DescriptionStyleModel",
      "state": {
       "description_width": ""
      }
     },
     "aa5f1c3e7cc5461b955531fcf757ca26": {
      "model_module": "@jupyter-widgets/controls",
      "model_module_version": "1.4.0",
      "model_name": "DescriptionStyleModel",
      "state": {
       "description_width": ""
      }
     },
     "aa5f596601eb468f91b56a0d0bc9179a": {
      "model_module": "@jupyter-widgets/base",
      "model_module_version": "1.1.0",
      "model_name": "LayoutModel",
      "state": {}
     },
     "aa5fd3f8d342424c961f266838c2de4d": {
      "model_module": "@jupyter-widgets/base",
      "model_module_version": "1.1.0",
      "model_name": "LayoutModel",
      "state": {
       "width": "400px"
      }
     },
     "aa61e27630e64d50a1990f89bc771911": {
      "model_module": "@jupyter-widgets/base",
      "model_module_version": "1.1.0",
      "model_name": "LayoutModel",
      "state": {
       "width": "350px"
      }
     },
     "aa635167f25a4cb38c6ac1c9fd67417c": {
      "model_module": "@jupyter-widgets/base",
      "model_module_version": "1.1.0",
      "model_name": "LayoutModel",
      "state": {
       "width": "30%"
      }
     },
     "aa678b29560843338ca934374de44776": {
      "model_module": "@jupyter-widgets/controls",
      "model_module_version": "1.4.0",
      "model_name": "ButtonModel",
      "state": {
       "description": "Select ALL",
       "layout": "IPY_MODEL_8234a167a446405997b8d7e0407a0475",
       "style": "IPY_MODEL_3a366bb9fdc04c90a9843a6feab8b5bd"
      }
     },
     "aa859502b50b405ca9bcc72cdd81eb35": {
      "model_module": "@jupyter-widgets/controls",
      "model_module_version": "1.4.0",
      "model_name": "ButtonModel",
      "state": {
       "description": "Default selection",
       "layout": "IPY_MODEL_52be89f04ec3470da7e5e25fcd128a47",
       "style": "IPY_MODEL_507fdbfb168d479eb022eb7bb5990a68"
      }
     },
     "aa8672c915214a24ad54779bdb7e9ed2": {
      "model_module": "@jupyter-widgets/controls",
      "model_module_version": "1.4.0",
      "model_name": "DescriptionStyleModel",
      "state": {
       "description_width": ""
      }
     },
     "aa8aa7d309bc42aab37d31dd58aff056": {
      "model_module": "@jupyter-widgets/base",
      "model_module_version": "1.1.0",
      "model_name": "LayoutModel",
      "state": {
       "width": "50%"
      }
     },
     "aa946834f5d64512a74ec3cbaf167f42": {
      "model_module": "@jupyter-widgets/controls",
      "model_module_version": "1.4.0",
      "model_name": "VBoxModel",
      "state": {
       "children": [
        "IPY_MODEL_6a0f7ea9a314403ea5d85714f771f4ff"
       ],
       "layout": "IPY_MODEL_e1bdab738c0f42859222b24f72aa9364"
      }
     },
     "aaaed25475b14c35b955a52ea85a6180": {
      "model_module": "@jupyter-widgets/controls",
      "model_module_version": "1.4.0",
      "model_name": "DescriptionStyleModel",
      "state": {
       "description_width": "initial"
      }
     },
     "aabc4d6b611b48aca4b15b9115436f19": {
      "model_module": "@jupyter-widgets/base",
      "model_module_version": "1.1.0",
      "model_name": "LayoutModel",
      "state": {}
     },
     "abb7d9ad96214e5883b4b235b6083743": {
      "model_module": "@jupyter-widgets/base",
      "model_module_version": "1.1.0",
      "model_name": "LayoutModel",
      "state": {
       "width": "50%"
      }
     },
     "abc9839fc770441c88d8064cc7947660": {
      "model_module": "@jupyter-widgets/controls",
      "model_module_version": "1.4.0",
      "model_name": "SelectModel",
      "state": {
       "_options_labels": [
        "MODLAND",
        "VI Usefulness",
        "Aerosol Quantity",
        "Adjacent cloud detected",
        "Atmosphere BRDF Correction",
        "Mixed Clouds",
        "Land/Water Mask",
        "Possible snow/ice",
        "Possible shadow"
       ],
       "description": "QA Parameter name:",
       "index": 0,
       "layout": "IPY_MODEL_e96258befb254b38ae6539ac63c26042",
       "rows": 9,
       "style": "IPY_MODEL_3f1d2741d91f46d9931c3632e9568a00"
      }
     },
     "ac07851c2ac2479c8dba920c25201ecd": {
      "model_module": "@jupyter-widgets/base",
      "model_module_version": "1.1.0",
      "model_name": "LayoutModel",
      "state": {}
     },
     "ac0ac2aac3e54adf986d7331f7a77426": {
      "model_module": "@jupyter-widgets/controls",
      "model_module_version": "1.4.0",
      "model_name": "ButtonModel",
      "state": {
       "description": "Create mask",
       "layout": "IPY_MODEL_01fdc74ea57f4d828ee9bc2ccd4b0284",
       "style": "IPY_MODEL_2dc03a341cc34a57b150909b33aa950e"
      }
     },
     "ac4d8b5e144841b1ab78f7548c6a6ffe": {
      "model_module": "@jupyter-widgets/base",
      "model_module_version": "1.1.0",
      "model_name": "LayoutModel",
      "state": {}
     },
     "ac542b1f5a1540c6ac01e999db5b1bcf": {
      "model_module": "@jupyter-widgets/controls",
      "model_module_version": "1.4.0",
      "model_name": "HBoxModel",
      "state": {
       "children": [
        "IPY_MODEL_45c05c6bb2e14c55a3d65429fde508c0",
        "IPY_MODEL_9f20245641334288bc287baabcacb6ce"
       ],
       "layout": "IPY_MODEL_6e1ada2802e6440aa02a00adc75a0a61"
      }
     },
     "acf79ecc0d194cccadabb8039ccfe7b2": {
      "model_module": "@jupyter-widgets/controls",
      "model_module_version": "1.4.0",
      "model_name": "VBoxModel",
      "state": {
       "children": [
        "IPY_MODEL_f53df63387e540b7a8731d844f324a5e"
       ],
       "layout": "IPY_MODEL_69de4c3edaa0429c9878ae31b7f79d1f"
      }
     },
     "ad1279537e074363af57b271901f7a13": {
      "model_module": "@jupyter-widgets/controls",
      "model_module_version": "1.4.0",
      "model_name": "ButtonStyleModel",
      "state": {}
     },
     "ad1c8ed474b24b5cae4f5423b354df6c": {
      "model_module": "@jupyter-widgets/controls",
      "model_module_version": "1.4.0",
      "model_name": "DescriptionStyleModel",
      "state": {
       "description_width": ""
      }
     },
     "ad3730c6be4b47be8535ce2c65aa74a5": {
      "model_module": "@jupyter-widgets/controls",
      "model_module_version": "1.4.0",
      "model_name": "DescriptionStyleModel",
      "state": {
       "description_width": "initial"
      }
     },
     "ad53c7c8eba14e49a8767f45f93a9a9f": {
      "model_module": "@jupyter-widgets/controls",
      "model_module_version": "1.4.0",
      "model_name": "VBoxModel",
      "state": {
       "children": [
        "IPY_MODEL_3f9c7528a8964f43b787a490da0452ec"
       ],
       "layout": "IPY_MODEL_8a96944491ad4f279a63e182e6a34951"
      }
     },
     "ad57e51c212043e993ffeef386a33578": {
      "model_module": "@jupyter-widgets/base",
      "model_module_version": "1.1.0",
      "model_name": "LayoutModel",
      "state": {
       "height": "200px",
       "width": "99%"
      }
     },
     "ad6fa6f1d81c45a2b1c85dd69807dc7b": {
      "model_module": "@jupyter-widgets/controls",
      "model_module_version": "1.4.0",
      "model_name": "SelectModel",
      "state": {
       "_options_labels": [
        "MODLAND",
        "VI Usefulness",
        "Aerosol Quantity",
        "Adjacent cloud detected",
        "Atmosphere BRDF Correction",
        "Mixed Clouds",
        "Land/Water Mask",
        "Possible snow/ice",
        "Possible shadow"
       ],
       "description": "QA Parameter name:",
       "index": 0,
       "layout": "IPY_MODEL_ae8282798e884571bf4cbd73b39a590b",
       "rows": 9,
       "style": "IPY_MODEL_b5e20fac174048c690440961ce6189f6"
      }
     },
     "ad8b731cfb004c04bc354b6c19f2de16": {
      "model_module": "@jupyter-widgets/base",
      "model_module_version": "1.1.0",
      "model_name": "LayoutModel",
      "state": {}
     },
     "ada603c63a544e2f96592b4d5f20ecb4": {
      "model_module": "@jupyter-widgets/controls",
      "model_module_version": "1.4.0",
      "model_name": "ProgressStyleModel",
      "state": {
       "description_width": "initial"
      }
     },
     "adbc46a536244d87a751ce931145b450": {
      "model_module": "@jupyter-widgets/controls",
      "model_module_version": "1.4.0",
      "model_name": "DescriptionStyleModel",
      "state": {
       "description_width": ""
      }
     },
     "adbcf688175e4dd4a6873beefc6d2931": {
      "model_module": "@jupyter-widgets/base",
      "model_module_version": "1.1.0",
      "model_name": "LayoutModel",
      "state": {
       "height": "350px",
       "width": "99%"
      }
     },
     "add0e2076d9049ffa8c441edafd64696": {
      "model_module": "@jupyter-widgets/base",
      "model_module_version": "1.1.0",
      "model_name": "LayoutModel",
      "state": {}
     },
     "adec4c5b6f53406da1a0279d8d8ced7f": {
      "model_module": "@jupyter-widgets/base",
      "model_module_version": "1.1.0",
      "model_name": "LayoutModel",
      "state": {
       "width": "400px"
      }
     },
     "adfea26ff92247858f8ee758db6c5993": {
      "model_module": "@jupyter-widgets/controls",
      "model_module_version": "1.4.0",
      "model_name": "HTMLModel",
      "state": {
       "description": "QA layer:",
       "layout": "IPY_MODEL_f858f712b95c4fa4830b2014a3f1f270",
       "style": "IPY_MODEL_7dabf6be4f08499fae72b5131b2cb3af",
       "value": "<b>_1_km_16_days_VI_Quality</b>"
      }
     },
     "ae0a96cd6443457e96f003d7d9ec3726": {
      "model_module": "@jupyter-widgets/base",
      "model_module_version": "1.1.0",
      "model_name": "LayoutModel",
      "state": {
       "width": "350px"
      }
     },
     "ae29bb78e12044ae825d516ba95597cb": {
      "model_module": "@jupyter-widgets/base",
      "model_module_version": "1.1.0",
      "model_name": "LayoutModel",
      "state": {
       "height": "300px",
       "width": "99%"
      }
     },
     "ae366eb7e36c41e0b131617b94d1d136": {
      "model_module": "@jupyter-widgets/controls",
      "model_module_version": "1.4.0",
      "model_name": "ButtonStyleModel",
      "state": {}
     },
     "ae4e99b6b3de4ee79f888bfeec25fee6": {
      "model_module": "@jupyter-widgets/base",
      "model_module_version": "1.1.0",
      "model_name": "LayoutModel",
      "state": {
       "width": "20%"
      }
     },
     "ae509636cd934201bea56594dba6b625": {
      "model_module": "@jupyter-widgets/base",
      "model_module_version": "1.1.0",
      "model_name": "LayoutModel",
      "state": {
       "width": "400px"
      }
     },
     "ae5d1b456c49495fa5c2b212c3efd6c2": {
      "model_module": "@jupyter-widgets/base",
      "model_module_version": "1.1.0",
      "model_name": "LayoutModel",
      "state": {}
     },
     "ae5d5deae6cf43a29ee1f99bf2262e75": {
      "model_module": "@jupyter-widgets/base",
      "model_module_version": "1.1.0",
      "model_name": "LayoutModel",
      "state": {}
     },
     "ae7a997e4d96438d9742769dee049086": {
      "model_module": "@jupyter-widgets/controls",
      "model_module_version": "1.4.0",
      "model_name": "DescriptionStyleModel",
      "state": {
       "description_width": "initial"
      }
     },
     "ae8282798e884571bf4cbd73b39a590b": {
      "model_module": "@jupyter-widgets/base",
      "model_module_version": "1.1.0",
      "model_name": "LayoutModel",
      "state": {
       "width": "350px"
      }
     },
     "ae853592bb744025927bda530e9a621f": {
      "model_module": "@jupyter-widgets/controls",
      "model_module_version": "1.4.0",
      "model_name": "HBoxModel",
      "state": {
       "children": [
        "IPY_MODEL_9e714ee398ec4271b99bf554064fee1f",
        "IPY_MODEL_96bdfeedc9454f3fa37c3c6c8fd89952",
        "IPY_MODEL_ef0146609f5243938bf9b0cdaf6c4749"
       ],
       "layout": "IPY_MODEL_db29418121a54585abf29d620bfc6367"
      }
     },
     "ae995d8d074e404aa7c0d91e23a7c448": {
      "model_module": "@jupyter-widgets/controls",
      "model_module_version": "1.4.0",
      "model_name": "ButtonModel",
      "state": {
       "description": "Select ALL",
       "layout": "IPY_MODEL_3e6661e4702a40e0bcb270b6e0fac3a4",
       "style": "IPY_MODEL_77c0c8487d4a432d9a2455ebf721ab30"
      }
     },
     "aeaab68086f041f1a4732ecf045457e6": {
      "model_module": "@jupyter-widgets/base",
      "model_module_version": "1.1.0",
      "model_name": "LayoutModel",
      "state": {
       "width": "50%"
      }
     },
     "af2e9d6e89ca40bfb786fb35ccc1014f": {
      "model_module": "@jupyter-widgets/base",
      "model_module_version": "1.1.0",
      "model_name": "LayoutModel",
      "state": {
       "height": "350px",
       "width": "99%"
      }
     },
     "af465a9817be4038b554f5fb73d16f64": {
      "model_module": "@jupyter-widgets/base",
      "model_module_version": "1.1.0",
      "model_name": "LayoutModel",
      "state": {
       "width": "50%"
      }
     },
     "af6065f3018549c3bec705dc8a482da4": {
      "model_module": "@jupyter-widgets/controls",
      "model_module_version": "1.4.0",
      "model_name": "HBoxModel",
      "state": {
       "children": [
        "IPY_MODEL_a901948002f8438b8f2dad3887c30571",
        "IPY_MODEL_87768870d8654c2c9f78419b02512435"
       ],
       "layout": "IPY_MODEL_7a48e46611674e58a60077602853c01c"
      }
     },
     "af6e35e2eb2449a0937af94610ad5fb9": {
      "model_module": "@jupyter-widgets/controls",
      "model_module_version": "1.4.0",
      "model_name": "HTMLModel",
      "state": {
       "description": "QA layer:",
       "layout": "IPY_MODEL_b05317c5909d44b496af8d3720ecb018",
       "style": "IPY_MODEL_aa54196610634190b5d2a7c4383fb1fb",
       "value": "<b>_1_km_16_days_VI_Quality</b>"
      }
     },
     "af79e66c774b4f699dc1bc5ae89300a4": {
      "model_module": "@jupyter-widgets/base",
      "model_module_version": "1.1.0",
      "model_name": "LayoutModel",
      "state": {
       "width": "20%"
      }
     },
     "af7d8ccb0a0d493dbd50f20ec7512f96": {
      "model_module": "@jupyter-widgets/base",
      "model_module_version": "1.1.0",
      "model_name": "LayoutModel",
      "state": {
       "width": "20%"
      }
     },
     "afb32b22f9af4430aba03dcba1ccc961": {
      "model_module": "@jupyter-widgets/controls",
      "model_module_version": "1.4.0",
      "model_name": "DescriptionStyleModel",
      "state": {
       "description_width": "initial"
      }
     },
     "afca662e09784efb8d11a85eeb18c8a0": {
      "model_module": "@jupyter-widgets/base",
      "model_module_version": "1.1.0",
      "model_name": "LayoutModel",
      "state": {}
     },
     "afe40347b0634931bb1e9c8b5918a31e": {
      "model_module": "@jupyter-widgets/controls",
      "model_module_version": "1.4.0",
      "model_name": "DescriptionStyleModel",
      "state": {
       "description_width": "initial"
      }
     },
     "afe5f7d54973483ba4ad2472becf9012": {
      "model_module": "@jupyter-widgets/controls",
      "model_module_version": "1.4.0",
      "model_name": "ButtonStyleModel",
      "state": {}
     },
     "b02a604a0faf49919843bdbcf6f2eea5": {
      "model_module": "@jupyter-widgets/controls",
      "model_module_version": "1.4.0",
      "model_name": "ButtonModel",
      "state": {
       "description": "Select ALL",
       "layout": "IPY_MODEL_85b90f71dc0d4c6ebf720dae374c21e2",
       "style": "IPY_MODEL_439730b4b96d4d37bd9d6de2d776c33c"
      }
     },
     "b0437aecd5e448979c0f6f796a41909d": {
      "model_module": "@jupyter-widgets/base",
      "model_module_version": "1.1.0",
      "model_name": "LayoutModel",
      "state": {
       "height": "300px",
       "width": "99%"
      }
     },
     "b05317c5909d44b496af8d3720ecb018": {
      "model_module": "@jupyter-widgets/base",
      "model_module_version": "1.1.0",
      "model_name": "LayoutModel",
      "state": {}
     },
     "b057e3bc2bff4398b3965e983d368e31": {
      "model_module": "@jupyter-widgets/base",
      "model_module_version": "1.1.0",
      "model_name": "LayoutModel",
      "state": {}
     },
     "b0597ef7908c44339be7ecf0c445e87d": {
      "model_module": "@jupyter-widgets/controls",
      "model_module_version": "1.4.0",
      "model_name": "DescriptionStyleModel",
      "state": {
       "description_width": "initial"
      }
     },
     "b062072f98394c48b50039f1638693d6": {
      "model_module": "@jupyter-widgets/controls",
      "model_module_version": "1.4.0",
      "model_name": "ButtonModel",
      "state": {
       "description": "QA analytics",
       "layout": "IPY_MODEL_aa635167f25a4cb38c6ac1c9fd67417c",
       "style": "IPY_MODEL_22a90c59c656411ba675bbec2708322f"
      }
     },
     "b0775e2a5629465a94e5f3abdef7f22e": {
      "model_module": "@jupyter-widgets/controls",
      "model_module_version": "1.4.0",
      "model_name": "DescriptionStyleModel",
      "state": {
       "description_width": ""
      }
     },
     "b0a8acdcc9a3443d8b5ee8d233533e1b": {
      "model_module": "@jupyter-widgets/base",
      "model_module_version": "1.1.0",
      "model_name": "LayoutModel",
      "state": {
       "width": "400px"
      }
     },
     "b0c940a547ec49c6953ef180c723ce4a": {
      "model_module": "@jupyter-widgets/controls",
      "model_module_version": "1.4.0",
      "model_name": "DescriptionStyleModel",
      "state": {
       "description_width": "initial"
      }
     },
     "b0e2599305114330a928669da5df8c22": {
      "model_module": "@jupyter-widgets/controls",
      "model_module_version": "1.4.0",
      "model_name": "ButtonStyleModel",
      "state": {}
     },
     "b0f470ea3a5844afa51f61c54a378baf": {
      "model_module": "@jupyter-widgets/base",
      "model_module_version": "1.1.0",
      "model_name": "LayoutModel",
      "state": {}
     },
     "b1130c0b68aa49eab1f4e458a2347d44": {
      "model_module": "@jupyter-widgets/controls",
      "model_module_version": "1.4.0",
      "model_name": "ButtonStyleModel",
      "state": {}
     },
     "b132844f2847403592e95f3cc468af55": {
      "model_module": "@jupyter-widgets/base",
      "model_module_version": "1.1.0",
      "model_name": "LayoutModel",
      "state": {
       "width": "20%"
      }
     },
     "b13544aa1feb456198b6e05e01517d2d": {
      "model_module": "@jupyter-widgets/base",
      "model_module_version": "1.1.0",
      "model_name": "LayoutModel",
      "state": {
       "height": "300px",
       "width": "99%"
      }
     },
     "b1620665afae4e6a87f7b0bc4c50f8ce": {
      "model_module": "@jupyter-widgets/controls",
      "model_module_version": "1.4.0",
      "model_name": "HBoxModel",
      "state": {
       "children": [
        "IPY_MODEL_2572bfd03a524f67a39f0af9549804c0",
        "IPY_MODEL_929f0137b0c94963a639daa14b860577",
        "IPY_MODEL_59f4ca0f0423442da642795c07b7365a"
       ],
       "layout": "IPY_MODEL_dac7cc1255be42e8b5ea7a20bd0a61a4"
      }
     },
     "b162b7297bef4077baf24c837f7cedf6": {
      "model_module": "@jupyter-widgets/controls",
      "model_module_version": "1.4.0",
      "model_name": "ProgressStyleModel",
      "state": {
       "description_width": "initial"
      }
     },
     "b1b7da47e8e54217abc4df408ddbbe08": {
      "model_module": "@jupyter-widgets/controls",
      "model_module_version": "1.4.0",
      "model_name": "VBoxModel",
      "state": {
       "children": [
        "IPY_MODEL_79f15613ccfc420ba73962d28d149700"
       ],
       "layout": "IPY_MODEL_17a2ed406bee4098bb0b2d32b200a987"
      }
     },
     "b1e7f48346cf4c90b0e3ecd8f1346611": {
      "model_module": "@jupyter-widgets/controls",
      "model_module_version": "1.4.0",
      "model_name": "HBoxModel",
      "state": {
       "children": [
        "IPY_MODEL_fff3c4aa955a4d878bccbc7da1fb62de",
        "IPY_MODEL_8f62922319aa456cadbe8f84321b5fd7",
        "IPY_MODEL_cca002bb1ca047fb8ba2f34fa743a1fb"
       ],
       "layout": "IPY_MODEL_270e387467d64ff4b87bbbc9c60951a7"
      }
     },
     "b204f4dac7774b1cb3bef7c73d22294f": {
      "model_module": "@jupyter-widgets/base",
      "model_module_version": "1.1.0",
      "model_name": "LayoutModel",
      "state": {}
     },
     "b205d3cb0c9d4e1492eb4f0cf17e1c33": {
      "model_module": "@jupyter-widgets/controls",
      "model_module_version": "1.4.0",
      "model_name": "VBoxModel",
      "state": {
       "children": [
        "IPY_MODEL_a36c3caa205840ccaaedf979df1f9de8"
       ],
       "layout": "IPY_MODEL_cac62d519f534eb6a482903f9111e5fe"
      }
     },
     "b233f60d9c904692ac5740fe02ae53d9": {
      "model_module": "@jupyter-widgets/controls",
      "model_module_version": "1.4.0",
      "model_name": "ButtonStyleModel",
      "state": {}
     },
     "b27ada6560dc4c1990e260423cc2abd3": {
      "model_module": "@jupyter-widgets/controls",
      "model_module_version": "1.4.0",
      "model_name": "SelectMultipleModel",
      "state": {
       "_options_labels": [
        "VI produced, good quality",
        "VI produced, but check other QA",
        "Pixel produced, but most probably cloudy",
        "Pixel not produced due to other reasons than clouds"
       ],
       "description": "Description",
       "index": [
        0
       ],
       "layout": "IPY_MODEL_90862690a1644e76bcfa1798322934f7",
       "rows": 4,
       "style": "IPY_MODEL_44a2b80b202f49288b8ae0844359c755"
      }
     },
     "b2b1be67c2354dfabbd0cdf6afd5bc55": {
      "model_module": "@jupyter-widgets/controls",
      "model_module_version": "1.4.0",
      "model_name": "ButtonModel",
      "state": {
       "description": "Select ALL",
       "layout": "IPY_MODEL_5803a4bccd5946a4a3d10a20a8da6d84",
       "style": "IPY_MODEL_3b6ba1c07780461aaa5e0a8d64c2a7aa"
      }
     },
     "b2f45a6e9800476f8c7f9d5db69b923e": {
      "model_module": "@jupyter-widgets/controls",
      "model_module_version": "1.4.0",
      "model_name": "ButtonStyleModel",
      "state": {}
     },
     "b2f718a20e76423eb44a5f8715134e47": {
      "model_module": "@jupyter-widgets/base",
      "model_module_version": "1.1.0",
      "model_name": "LayoutModel",
      "state": {
       "width": "20%"
      }
     },
     "b34148e9147e45138002fdb03e232144": {
      "model_module": "@jupyter-widgets/controls",
      "model_module_version": "1.4.0",
      "model_name": "ButtonModel",
      "state": {
       "description": "Select ALL",
       "layout": "IPY_MODEL_5977f2c725b54c98b8ab4ff60bd98a54",
       "style": "IPY_MODEL_2a71b3ca41584cfdbdbdcbf72dd7f48f"
      }
     },
     "b363bc51a72e4fc0ad3f597f9fabd0b7": {
      "model_module": "@jupyter-widgets/controls",
      "model_module_version": "1.4.0",
      "model_name": "ButtonStyleModel",
      "state": {}
     },
     "b388c447d36a4825b7fed33849b046ad": {
      "model_module": "@jupyter-widgets/controls",
      "model_module_version": "1.4.0",
      "model_name": "ButtonModel",
      "state": {
       "description": "Default selection",
       "layout": "IPY_MODEL_ee29b06a86ab4d92b5e023e9e3b58af7",
       "style": "IPY_MODEL_74cb56f0fdcd42ae9cb0d5c4ebb2e842"
      }
     },
     "b3b510c4e0344012863d3be7b0190cf9": {
      "model_module": "@jupyter-widgets/base",
      "model_module_version": "1.1.0",
      "model_name": "LayoutModel",
      "state": {
       "width": "400px"
      }
     },
     "b41e1cdff33148468a9ccdc2e9fbae3e": {
      "model_module": "@jupyter-widgets/controls",
      "model_module_version": "1.4.0",
      "model_name": "ButtonModel",
      "state": {
       "description": "Default selection",
       "layout": "IPY_MODEL_239bd33b331a45a998b144ff925cff7e",
       "style": "IPY_MODEL_01e76db0ef5a43aa9b229e24e26edf45"
      }
     },
     "b47bc9414089457484a20e442a9cb073": {
      "model_module": "@jupyter-widgets/controls",
      "model_module_version": "1.4.0",
      "model_name": "HTMLModel",
      "state": {
       "description": "QA layer:",
       "layout": "IPY_MODEL_351df6b21dfc4b27b51b540b5ddda4da",
       "style": "IPY_MODEL_417e30e590e04fb1a97b6330261d4644",
       "value": "<b>_1_km_16_days_VI_Quality</b>"
      }
     },
     "b49a91845a464c27a586ed84cfa66b14": {
      "model_module": "@jupyter-widgets/controls",
      "model_module_version": "1.4.0",
      "model_name": "ButtonStyleModel",
      "state": {}
     },
     "b4abd675f1ac430bbb8115b12040e508": {
      "model_module": "@jupyter-widgets/controls",
      "model_module_version": "1.4.0",
      "model_name": "SelectModel",
      "state": {
       "_options_labels": [
        "MODLAND",
        "VI Usefulness",
        "Aerosol Quantity",
        "Adjacent cloud detected",
        "Atmosphere BRDF Correction",
        "Mixed Clouds",
        "Land/Water Mask",
        "Possible snow/ice",
        "Possible shadow"
       ],
       "description": "QA Parameter name:",
       "index": 0,
       "layout": "IPY_MODEL_0641ef1bf18d4a629cec1ccb4a11f292",
       "rows": 9,
       "style": "IPY_MODEL_ecddd67569584447beb4106c4d67e451"
      }
     },
     "b4adbad661954973ac26b40dc4e620cf": {
      "model_module": "@jupyter-widgets/base",
      "model_module_version": "1.1.0",
      "model_name": "LayoutModel",
      "state": {
       "width": "400px"
      }
     },
     "b4d448e70b4647febddcdd85e4b7fbd2": {
      "model_module": "@jupyter-widgets/base",
      "model_module_version": "1.1.0",
      "model_name": "LayoutModel",
      "state": {
       "width": "350px"
      }
     },
     "b4d5f6395c1842be9f8c374dbc7b0ed9": {
      "model_module": "@jupyter-widgets/controls",
      "model_module_version": "1.4.0",
      "model_name": "ButtonStyleModel",
      "state": {}
     },
     "b4f5e2a7bc844f1f912b3c5e3d127d30": {
      "model_module": "@jupyter-widgets/controls",
      "model_module_version": "1.4.0",
      "model_name": "ButtonModel",
      "state": {
       "description": "Select ALL",
       "layout": "IPY_MODEL_80efeb2adc6844b0a029f31603987c56",
       "style": "IPY_MODEL_5b17a4185e064482a6edc09f4d0e11e7"
      }
     },
     "b504cb52d1ed40cead538da1e8e46e8c": {
      "model_module": "@jupyter-widgets/controls",
      "model_module_version": "1.4.0",
      "model_name": "DescriptionStyleModel",
      "state": {
       "description_width": "initial"
      }
     },
     "b50b2813672443f8a7852b909e353c86": {
      "model_module": "@jupyter-widgets/controls",
      "model_module_version": "1.4.0",
      "model_name": "VBoxModel",
      "state": {
       "children": [
        "IPY_MODEL_b602b067ea7a4abb9d5cc91fe7caee7f"
       ],
       "layout": "IPY_MODEL_526bd6286a564fd9a418472b5835134d"
      }
     },
     "b5129acc15b54bdcbc4945450f882bf4": {
      "model_module": "@jupyter-widgets/base",
      "model_module_version": "1.1.0",
      "model_name": "LayoutModel",
      "state": {}
     },
     "b54a203cdf1442b3ba8ede9db413d74f": {
      "model_module": "@jupyter-widgets/base",
      "model_module_version": "1.1.0",
      "model_name": "LayoutModel",
      "state": {
       "width": "400px"
      }
     },
     "b55d807bc43944c28006bdf145a05c3c": {
      "model_module": "@jupyter-widgets/controls",
      "model_module_version": "1.4.0",
      "model_name": "VBoxModel",
      "state": {
       "children": [
        "IPY_MODEL_5846c63ea3be45c48f3b86d15d1038dc"
       ],
       "layout": "IPY_MODEL_896fc00edd9a4bde9ff8abef37c73da2"
      }
     },
     "b5abab89dbef4b529b7ea31ba4717e04": {
      "model_module": "@jupyter-widgets/controls",
      "model_module_version": "1.4.0",
      "model_name": "ButtonModel",
      "state": {
       "description": "Select ALL",
       "layout": "IPY_MODEL_865074ec7dcf4eb8a31766503e8e443a",
       "style": "IPY_MODEL_7ad20d6a388e4279af8a55b47ac80974"
      }
     },
     "b5e20fac174048c690440961ce6189f6": {
      "model_module": "@jupyter-widgets/controls",
      "model_module_version": "1.4.0",
      "model_name": "DescriptionStyleModel",
      "state": {
       "description_width": "initial"
      }
     },
     "b602b067ea7a4abb9d5cc91fe7caee7f": {
      "model_module": "@jupyter-widgets/controls",
      "model_module_version": "1.4.0",
      "model_name": "SelectMultipleModel",
      "state": {
       "_options_labels": [
        "VI produced, good quality",
        "VI produced, but check other QA",
        "Pixel produced, but most probably cloudy",
        "Pixel not produced due to other reasons than clouds"
       ],
       "description": "Description",
       "index": [
        0
       ],
       "layout": "IPY_MODEL_ca67552208be4c0ebd05b1ce0c25138f",
       "rows": 4,
       "style": "IPY_MODEL_6dddf507b4844565981746969defb074"
      }
     },
     "b6074627bb784547be5ae97ce9eb988c": {
      "model_module": "@jupyter-widgets/controls",
      "model_module_version": "1.4.0",
      "model_name": "ButtonModel",
      "state": {
       "description": "Default selection",
       "layout": "IPY_MODEL_c32130e27d4e4c4f8302988415dbb543",
       "style": "IPY_MODEL_4454ae662d8d48f79fe82161d666cdea"
      }
     },
     "b60d37269f6b4e7c915b4c257d952376": {
      "model_module": "@jupyter-widgets/base",
      "model_module_version": "1.1.0",
      "model_name": "LayoutModel",
      "state": {
       "width": "400px"
      }
     },
     "b67d35f1269542ad9f83aa086db3d60d": {
      "model_module": "@jupyter-widgets/controls",
      "model_module_version": "1.4.0",
      "model_name": "SelectModel",
      "state": {
       "_options_labels": [
        "MODLAND",
        "VI Usefulness",
        "Aerosol Quantity",
        "Adjacent cloud detected",
        "Atmosphere BRDF Correction",
        "Mixed Clouds",
        "Land/Water Mask",
        "Possible snow/ice",
        "Possible shadow"
       ],
       "description": "QA Parameter name:",
       "index": 0,
       "layout": "IPY_MODEL_adec4c5b6f53406da1a0279d8d8ced7f",
       "rows": 9,
       "style": "IPY_MODEL_79dd0a7760324c2ca5eb04eede531e70"
      }
     },
     "b736d2717b8f4822867a12751a520128": {
      "model_module": "@jupyter-widgets/base",
      "model_module_version": "1.1.0",
      "model_name": "LayoutModel",
      "state": {
       "width": "20%"
      }
     },
     "b7bf2ae98c7740caa668f1d6f4abbb16": {
      "model_module": "@jupyter-widgets/controls",
      "model_module_version": "1.4.0",
      "model_name": "SelectMultipleModel",
      "state": {
       "_options_labels": [
        "VI produced, good quality",
        "VI produced, but check other QA",
        "Pixel produced, but most probably cloudy",
        "Pixel not produced due to other reasons than clouds"
       ],
       "description": "Description",
       "index": [
        0,
        1,
        2,
        3
       ],
       "layout": "IPY_MODEL_2cbf54e0e3e5401ca843d1919eb97d83",
       "rows": 4,
       "style": "IPY_MODEL_96654593b8a94607b5ac74233e15820e"
      }
     },
     "b7d0649d62f2469caf513bf83c1704a3": {
      "model_module": "@jupyter-widgets/controls",
      "model_module_version": "1.4.0",
      "model_name": "ButtonStyleModel",
      "state": {}
     },
     "b82a4f004ea04779822b792a623542aa": {
      "model_module": "@jupyter-widgets/base",
      "model_module_version": "1.1.0",
      "model_name": "LayoutModel",
      "state": {
       "height": "200px",
       "width": "99%"
      }
     },
     "b8325c66602d40f79641bae47eca42f4": {
      "model_module": "@jupyter-widgets/controls",
      "model_module_version": "1.4.0",
      "model_name": "DescriptionStyleModel",
      "state": {
       "description_width": "initial"
      }
     },
     "b835901740de4399bfb0868af17526fd": {
      "model_module": "@jupyter-widgets/controls",
      "model_module_version": "1.4.0",
      "model_name": "HBoxModel",
      "state": {
       "children": [
        "IPY_MODEL_ef3b7c62a1f144ec96517caf59b704df",
        "IPY_MODEL_c348f81e47374ef5bf9645b05390180b"
       ],
       "layout": "IPY_MODEL_95e60c245d294f2d8e7e0f9e19d02e1b"
      }
     },
     "b84625cb16254e74ada1af7880a3c357": {
      "model_module": "@jupyter-widgets/controls",
      "model_module_version": "1.4.0",
      "model_name": "ButtonStyleModel",
      "state": {}
     },
     "b866cc744e8542f5a2cb65a69eb4a556": {
      "model_module": "@jupyter-widgets/base",
      "model_module_version": "1.1.0",
      "model_name": "LayoutModel",
      "state": {}
     },
     "b89e17b512fd4c9c8c665a58442784cc": {
      "model_module": "@jupyter-widgets/controls",
      "model_module_version": "1.4.0",
      "model_name": "DescriptionStyleModel",
      "state": {
       "description_width": "initial"
      }
     },
     "b8a54eacce074ca3b36373d9fb4c2d25": {
      "model_module": "@jupyter-widgets/controls",
      "model_module_version": "1.4.0",
      "model_name": "ButtonModel",
      "state": {
       "description": "Select ALL",
       "layout": "IPY_MODEL_2073319bd3874bb0a000dc44ba150c7b",
       "style": "IPY_MODEL_f333eca906b44e089805a6bacbb2b0c7"
      }
     },
     "b9457f540c7a45beafc54ef99df49295": {
      "model_module": "@jupyter-widgets/controls",
      "model_module_version": "1.4.0",
      "model_name": "HBoxModel",
      "state": {
       "children": [
        "IPY_MODEL_e88b704d13b742578b9871147b745de6",
        "IPY_MODEL_17e9fb66fd3b43399961e0933a5e0a7b"
       ],
       "layout": "IPY_MODEL_38eb957940e94386b29920f326e3a7af"
      }
     },
     "b98fdd05d5bb4b0c945cae4937986f47": {
      "model_module": "@jupyter-widgets/controls",
      "model_module_version": "1.4.0",
      "model_name": "DescriptionStyleModel",
      "state": {
       "description_width": ""
      }
     },
     "b995b90c7a084ed597e3c5a712ec3460": {
      "model_module": "@jupyter-widgets/base",
      "model_module_version": "1.1.0",
      "model_name": "LayoutModel",
      "state": {
       "width": "20%"
      }
     },
     "b9a4c266f49e43dea795236288de9ff4": {
      "model_module": "@jupyter-widgets/controls",
      "model_module_version": "1.4.0",
      "model_name": "ProgressStyleModel",
      "state": {
       "description_width": "initial"
      }
     },
     "baaca349d88d4c2daa70fd24c87341f7": {
      "model_module": "@jupyter-widgets/controls",
      "model_module_version": "1.4.0",
      "model_name": "ProgressStyleModel",
      "state": {
       "description_width": "initial"
      }
     },
     "bab35d3d57c54920b3c0c0db55f765e7": {
      "model_module": "@jupyter-widgets/base",
      "model_module_version": "1.1.0",
      "model_name": "LayoutModel",
      "state": {
       "height": "300px",
       "width": "99%"
      }
     },
     "badbe5fb620746de98be84685a415823": {
      "model_module": "@jupyter-widgets/base",
      "model_module_version": "1.1.0",
      "model_name": "LayoutModel",
      "state": {}
     },
     "bae8522ab5914e65a23779b3675593a7": {
      "model_module": "@jupyter-widgets/controls",
      "model_module_version": "1.4.0",
      "model_name": "VBoxModel",
      "state": {
       "children": [
        "IPY_MODEL_1627db996dbe48a2b51d14549d9c4242"
       ],
       "layout": "IPY_MODEL_b5129acc15b54bdcbc4945450f882bf4"
      }
     },
     "bb237c7cc4714b11a4fe00a424278f1a": {
      "model_module": "@jupyter-widgets/controls",
      "model_module_version": "1.4.0",
      "model_name": "ButtonStyleModel",
      "state": {}
     },
     "bb476f47b308487ea9e64ab89f7b5712": {
      "model_module": "@jupyter-widgets/controls",
      "model_module_version": "1.4.0",
      "model_name": "DescriptionStyleModel",
      "state": {
       "description_width": "initial"
      }
     },
     "bb5dd41c300343238d4920555fa1848d": {
      "model_module": "@jupyter-widgets/base",
      "model_module_version": "1.1.0",
      "model_name": "LayoutModel",
      "state": {
       "width": "20%"
      }
     },
     "bb79e7091e5548f29fe310f6777d4637": {
      "model_module": "@jupyter-widgets/controls",
      "model_module_version": "1.4.0",
      "model_name": "ButtonModel",
      "state": {
       "description": "Default selection",
       "layout": "IPY_MODEL_470b14a2a96e4c78a0b581ec20b19131",
       "style": "IPY_MODEL_dfeb91fa296b47d5b5604cd40dd38dc2"
      }
     },
     "bb85f5f75efb458fa1054eabac395ba8": {
      "model_module": "@jupyter-widgets/controls",
      "model_module_version": "1.4.0",
      "model_name": "VBoxModel",
      "state": {
       "children": [
        "IPY_MODEL_6f49fbb5e692435884802d977dd0f8e9"
       ],
       "layout": "IPY_MODEL_0c223f8e75e0485b835285595b78f9fe"
      }
     },
     "bb8ad8eb336141b1ba737daa74da1861": {
      "model_module": "@jupyter-widgets/base",
      "model_module_version": "1.1.0",
      "model_name": "LayoutModel",
      "state": {}
     },
     "bb8c811a6aee466f9c080498efc6013f": {
      "model_module": "@jupyter-widgets/controls",
      "model_module_version": "1.4.0",
      "model_name": "DescriptionStyleModel",
      "state": {
       "description_width": "initial"
      }
     },
     "bbaf5fa32fe94494b69588857d69e90b": {
      "model_module": "@jupyter-widgets/controls",
      "model_module_version": "1.4.0",
      "model_name": "ButtonStyleModel",
      "state": {}
     },
     "bbd40368fdc4490aa645ffab2e292361": {
      "model_module": "@jupyter-widgets/base",
      "model_module_version": "1.1.0",
      "model_name": "LayoutModel",
      "state": {}
     },
     "bbe67f7068d44e23a8ef3dced42a54b0": {
      "model_module": "@jupyter-widgets/base",
      "model_module_version": "1.1.0",
      "model_name": "LayoutModel",
      "state": {}
     },
     "bc07217b606f4f8f872d521d7701cc04": {
      "model_module": "@jupyter-widgets/base",
      "model_module_version": "1.1.0",
      "model_name": "LayoutModel",
      "state": {
       "width": "400px"
      }
     },
     "bc0825599f3a4a1cbb032bc295239381": {
      "model_module": "@jupyter-widgets/base",
      "model_module_version": "1.1.0",
      "model_name": "LayoutModel",
      "state": {
       "width": "20%"
      }
     },
     "bc2fabf5c3ee48f6be2af42ce9102e14": {
      "model_module": "@jupyter-widgets/base",
      "model_module_version": "1.1.0",
      "model_name": "LayoutModel",
      "state": {
       "width": "400px"
      }
     },
     "bc5f51300f71491881422846d7406c25": {
      "model_module": "@jupyter-widgets/base",
      "model_module_version": "1.1.0",
      "model_name": "LayoutModel",
      "state": {
       "height": "350px",
       "width": "99%"
      }
     },
     "bc9ebbd9307a42d9b17f7ada872e3fcd": {
      "model_module": "@jupyter-widgets/base",
      "model_module_version": "1.1.0",
      "model_name": "LayoutModel",
      "state": {
       "height": "200px",
       "width": "99%"
      }
     },
     "bcba5a9fd6414b41b9cf034d1dbe3b5a": {
      "model_module": "@jupyter-widgets/base",
      "model_module_version": "1.1.0",
      "model_name": "LayoutModel",
      "state": {
       "width": "400px"
      }
     },
     "bce450e565ad48abbda81f7d2813fe90": {
      "model_module": "@jupyter-widgets/controls",
      "model_module_version": "1.4.0",
      "model_name": "HBoxModel",
      "state": {
       "children": [
        "IPY_MODEL_46677bd8c1be4e2e9571187cc0d31712",
        "IPY_MODEL_a0ab3fa7d74445e6bdd2b644285bda33"
       ],
       "layout": "IPY_MODEL_6e16ed82a64147c790de71d32556b5ac"
      }
     },
     "bcf2472d805b40479621d2bebb8c97d5": {
      "model_module": "@jupyter-widgets/controls",
      "model_module_version": "1.4.0",
      "model_name": "ButtonStyleModel",
      "state": {}
     },
     "bcf8d6b59f174a9abf4cf25a5d307737": {
      "model_module": "@jupyter-widgets/base",
      "model_module_version": "1.1.0",
      "model_name": "LayoutModel",
      "state": {
       "width": "20%"
      }
     },
     "bcf9cdab7c924a82a7aeac1d526c5165": {
      "model_module": "@jupyter-widgets/base",
      "model_module_version": "1.1.0",
      "model_name": "LayoutModel",
      "state": {
       "width": "400px"
      }
     },
     "bd294d36b73d4092a46a452ba28e5e15": {
      "model_module": "@jupyter-widgets/controls",
      "model_module_version": "1.4.0",
      "model_name": "VBoxModel",
      "state": {
       "children": [
        "IPY_MODEL_3a314e6d98834bbe823bc71b56eec991"
       ],
       "layout": "IPY_MODEL_e5930db6f3844ac7a63fdc6f206f9949"
      }
     },
     "bd7d882e970c46a79061917312326620": {
      "model_module": "@jupyter-widgets/base",
      "model_module_version": "1.1.0",
      "model_name": "LayoutModel",
      "state": {}
     },
     "bdafb50d3a424956b7b08b6206b98106": {
      "model_module": "@jupyter-widgets/controls",
      "model_module_version": "1.4.0",
      "model_name": "ButtonModel",
      "state": {
       "description": "QA analytics",
       "layout": "IPY_MODEL_01b239f66c4a4effb8b8ed033b6f843e",
       "style": "IPY_MODEL_1e36e758d3e74e08940f3c291d7764ea"
      }
     },
     "bdc416d6251d4946ae2967de37279db6": {
      "model_module": "@jupyter-widgets/base",
      "model_module_version": "1.1.0",
      "model_name": "LayoutModel",
      "state": {
       "width": "20%"
      }
     },
     "bdcb2fa91b0e469bac8fe486bd5e0e73": {
      "model_module": "@jupyter-widgets/controls",
      "model_module_version": "1.4.0",
      "model_name": "SelectMultipleModel",
      "state": {
       "_options_labels": [
        "VI produced, good quality",
        "VI produced, but check other QA",
        "Pixel produced, but most probably cloudy",
        "Pixel not produced due to other reasons than clouds"
       ],
       "description": "Description",
       "index": [
        0
       ],
       "layout": "IPY_MODEL_24fd6c9dd6c9434ea7244642035ea6e6",
       "rows": 4,
       "style": "IPY_MODEL_afb32b22f9af4430aba03dcba1ccc961"
      }
     },
     "bdcf2a8fc9a8456db4c68d98475050e3": {
      "model_module": "@jupyter-widgets/controls",
      "model_module_version": "1.4.0",
      "model_name": "ButtonModel",
      "state": {
       "description": "Default selection",
       "layout": "IPY_MODEL_0d5f46beb7f246daa7007c761e9b622b",
       "style": "IPY_MODEL_61fb9d0622764885a92fa771a4ff8692"
      }
     },
     "be1925841d3d4a90aa0c83ee5a9ad47a": {
      "model_module": "@jupyter-widgets/controls",
      "model_module_version": "1.4.0",
      "model_name": "DescriptionStyleModel",
      "state": {
       "description_width": "initial"
      }
     },
     "be1de8da87e648df801fdf2159024af1": {
      "model_module": "@jupyter-widgets/controls",
      "model_module_version": "1.4.0",
      "model_name": "VBoxModel",
      "state": {
       "children": [
        "IPY_MODEL_d8958cb97d384167a89d8671434d6a33"
       ],
       "layout": "IPY_MODEL_cee8dcc3321e4a70b6bb1f0dfb154b47"
      }
     },
     "be4ccb72df7e417687b1008eb8047133": {
      "model_module": "@jupyter-widgets/controls",
      "model_module_version": "1.4.0",
      "model_name": "ButtonStyleModel",
      "state": {}
     },
     "be50aaa13ad44bc1a6bc1ae70c9a94d4": {
      "model_module": "@jupyter-widgets/controls",
      "model_module_version": "1.4.0",
      "model_name": "VBoxModel",
      "state": {
       "children": [
        "IPY_MODEL_9dc04b4c7dac40fd973a5aee71b334cd"
       ],
       "layout": "IPY_MODEL_702100f4360f446ebc0b2025b46c372f"
      }
     },
     "be75db788c3246519751ff13d4cbe5a0": {
      "model_module": "@jupyter-widgets/controls",
      "model_module_version": "1.4.0",
      "model_name": "DescriptionStyleModel",
      "state": {
       "description_width": "initial"
      }
     },
     "bea77ae13dc64bbbaf443007950cb53a": {
      "model_module": "@jupyter-widgets/controls",
      "model_module_version": "1.4.0",
      "model_name": "VBoxModel",
      "state": {
       "children": [
        "IPY_MODEL_ef556bd6bf0048819a354cdaad82406d"
       ],
       "layout": "IPY_MODEL_d549fccca1cb4d4ea02af219ff6a5089"
      }
     },
     "bec46cfb23d5432789bedcab90f4c224": {
      "model_module": "@jupyter-widgets/base",
      "model_module_version": "1.1.0",
      "model_name": "LayoutModel",
      "state": {
       "width": "50%"
      }
     },
     "beccbb63915d428aab4d2ee7d17c48c9": {
      "model_module": "@jupyter-widgets/controls",
      "model_module_version": "1.4.0",
      "model_name": "HTMLModel",
      "state": {
       "description": "QA layer:",
       "layout": "IPY_MODEL_73462efce06a49659ff43e2f1d68b1e2",
       "style": "IPY_MODEL_3a5c51fae1a743bbb41a188ca298fcc2",
       "value": "<b>_1_km_16_days_VI_Quality</b>"
      }
     },
     "bed16365a8024e9f8542eb1d3fc19f3c": {
      "model_module": "@jupyter-widgets/base",
      "model_module_version": "1.1.0",
      "model_name": "LayoutModel",
      "state": {
       "width": "400px"
      }
     },
     "bf1fa8036ecd425cb30c0722caefe497": {
      "model_module": "@jupyter-widgets/controls",
      "model_module_version": "1.4.0",
      "model_name": "ProgressStyleModel",
      "state": {
       "description_width": "initial"
      }
     },
     "bf30e775f2fc49c38f225bb82b960bed": {
      "model_module": "@jupyter-widgets/base",
      "model_module_version": "1.1.0",
      "model_name": "LayoutModel",
      "state": {
       "width": "350px"
      }
     },
     "bf4c2e4c87d24522953d7e3a9edff5a7": {
      "model_module": "@jupyter-widgets/controls",
      "model_module_version": "1.4.0",
      "model_name": "ButtonModel",
      "state": {
       "description": "Default selection",
       "layout": "IPY_MODEL_a16effd177ca4a349d1ca4d31330233e",
       "style": "IPY_MODEL_d71a6461f8bc43e69010849213708430"
      }
     },
     "bf5a1de0e5594940ad7d0f5937bf9ba7": {
      "model_module": "@jupyter-widgets/base",
      "model_module_version": "1.1.0",
      "model_name": "LayoutModel",
      "state": {
       "height": "300px",
       "width": "99%"
      }
     },
     "bf989bf2e3244e4885f826c38234beb3": {
      "model_module": "@jupyter-widgets/base",
      "model_module_version": "1.1.0",
      "model_name": "LayoutModel",
      "state": {}
     },
     "bfb51148ea924c4eab725ebe3ed036c0": {
      "model_module": "@jupyter-widgets/base",
      "model_module_version": "1.1.0",
      "model_name": "LayoutModel",
      "state": {
       "width": "400px"
      }
     },
     "bfb9640297ac44738af48c5420f26f48": {
      "model_module": "@jupyter-widgets/controls",
      "model_module_version": "1.4.0",
      "model_name": "VBoxModel",
      "state": {
       "children": [
        "IPY_MODEL_750b1036a33640deab6b9f10da8fd898"
       ],
       "layout": "IPY_MODEL_9f5f58d71de44443b4fb9cf79ffa87db"
      }
     },
     "bff65775889a4b3e94fc1aacd17027b7": {
      "model_module": "@jupyter-widgets/controls",
      "model_module_version": "1.4.0",
      "model_name": "VBoxModel",
      "state": {
       "children": [
        "IPY_MODEL_2dcf6882506b4d5ebf5e484d686f2272"
       ],
       "layout": "IPY_MODEL_57f2ad859171475b84b70bb3b9c76838"
      }
     },
     "c058fa4e0a7843578bfed52c840a6d3e": {
      "model_module": "@jupyter-widgets/controls",
      "model_module_version": "1.4.0",
      "model_name": "SelectMultipleModel",
      "state": {
       "_options_labels": [
        "No",
        "Yes"
       ],
       "description": "Description",
       "index": [
        0,
        1
       ],
       "layout": "IPY_MODEL_6df05bc5f10c4fb081a9d7f7d9f3365e",
       "rows": 2,
       "style": "IPY_MODEL_d562accff913468ebd51c16708efc21e"
      }
     },
     "c05a8e9a7ff6446fb9dd69ff603d3d88": {
      "model_module": "@jupyter-widgets/controls",
      "model_module_version": "1.4.0",
      "model_name": "ButtonStyleModel",
      "state": {}
     },
     "c05abb40ecad43f0b4d50a25261e7dfa": {
      "model_module": "@jupyter-widgets/base",
      "model_module_version": "1.1.0",
      "model_name": "LayoutModel",
      "state": {}
     },
     "c0d069e653e048eb9b8df2d15572a863": {
      "model_module": "@jupyter-widgets/controls",
      "model_module_version": "1.4.0",
      "model_name": "ButtonStyleModel",
      "state": {}
     },
     "c1077fc28e1e4d87bfabb07a3ececa40": {
      "model_module": "@jupyter-widgets/base",
      "model_module_version": "1.1.0",
      "model_name": "LayoutModel",
      "state": {}
     },
     "c133ebfad16d4c70a1a7b74030389192": {
      "model_module": "@jupyter-widgets/controls",
      "model_module_version": "1.4.0",
      "model_name": "VBoxModel",
      "state": {
       "children": [
        "IPY_MODEL_a7a8dfd2286c4c22b3f12c73e999d49e"
       ],
       "layout": "IPY_MODEL_90519339d5a346c3a7eaaf5974075e2f"
      }
     },
     "c168dbb147ca41478e115c4d355a0559": {
      "model_module": "@jupyter-widgets/controls",
      "model_module_version": "1.4.0",
      "model_name": "ButtonStyleModel",
      "state": {}
     },
     "c1aed131da824eb7b4a332611ab79439": {
      "model_module": "@jupyter-widgets/base",
      "model_module_version": "1.1.0",
      "model_name": "LayoutModel",
      "state": {}
     },
     "c1bdf4a75f604103804d55abf1a6a25b": {
      "model_module": "@jupyter-widgets/controls",
      "model_module_version": "1.4.0",
      "model_name": "VBoxModel",
      "state": {
       "children": [
        "IPY_MODEL_4b08f128148e4564bbfff52764456642"
       ],
       "layout": "IPY_MODEL_ac07851c2ac2479c8dba920c25201ecd"
      }
     },
     "c1bfb79b30c74c70b732a8b069ec7107": {
      "model_module": "@jupyter-widgets/base",
      "model_module_version": "1.1.0",
      "model_name": "LayoutModel",
      "state": {
       "width": "400px"
      }
     },
     "c1c1b80c211647f1903cf7f33fa71556": {
      "model_module": "@jupyter-widgets/base",
      "model_module_version": "1.1.0",
      "model_name": "LayoutModel",
      "state": {
       "width": "20%"
      }
     },
     "c1d86a99a4d94e0989031018dd0db047": {
      "model_module": "@jupyter-widgets/controls",
      "model_module_version": "1.4.0",
      "model_name": "SelectModel",
      "state": {
       "_options_labels": [
        "MODLAND",
        "VI Usefulness",
        "Aerosol Quantity",
        "Adjacent cloud detected",
        "Atmosphere BRDF Correction",
        "Mixed Clouds",
        "Land/Water Mask",
        "Possible snow/ice",
        "Possible shadow"
       ],
       "description": "QA Parameter name:",
       "index": 0,
       "layout": "IPY_MODEL_ae0a96cd6443457e96f003d7d9ec3726",
       "rows": 9,
       "style": "IPY_MODEL_3999127778ad4d6eb657b92e563cf9f3"
      }
     },
     "c220ecef5ea3471da03b57577494aaf5": {
      "model_module": "@jupyter-widgets/controls",
      "model_module_version": "1.4.0",
      "model_name": "ButtonStyleModel",
      "state": {}
     },
     "c24d679f331e4c7eaf46a3716c721897": {
      "model_module": "@jupyter-widgets/controls",
      "model_module_version": "1.4.0",
      "model_name": "ButtonModel",
      "state": {
       "description": "Select ALL",
       "layout": "IPY_MODEL_d8dbeffe925a42b8932f18708b979f38",
       "style": "IPY_MODEL_c220ecef5ea3471da03b57577494aaf5"
      }
     },
     "c2a9956d70144bc0a81ee9a6be081294": {
      "model_module": "@jupyter-widgets/controls",
      "model_module_version": "1.4.0",
      "model_name": "ButtonStyleModel",
      "state": {}
     },
     "c2b84b38d5654e6e88a6708609bb0122": {
      "model_module": "@jupyter-widgets/base",
      "model_module_version": "1.1.0",
      "model_name": "LayoutModel",
      "state": {}
     },
     "c2bc2234e0f04cd580c324de053d29c8": {
      "model_module": "@jupyter-widgets/controls",
      "model_module_version": "1.4.0",
      "model_name": "ButtonModel",
      "state": {
       "description": "Default selection",
       "layout": "IPY_MODEL_37f0a27ea89243449b5c5bad4b501942",
       "style": "IPY_MODEL_110460a919114d6d868f7bffc39a72f6"
      }
     },
     "c2bf878ebf664ff5b0d158bbf7c0028d": {
      "model_module": "@jupyter-widgets/controls",
      "model_module_version": "1.4.0",
      "model_name": "ButtonStyleModel",
      "state": {}
     },
     "c2d82b35eb5041cc89240a8583913873": {
      "model_module": "@jupyter-widgets/base",
      "model_module_version": "1.1.0",
      "model_name": "LayoutModel",
      "state": {
       "width": "400px"
      }
     },
     "c2ea3065c88740ce81fd1b60f3844437": {
      "model_module": "@jupyter-widgets/controls",
      "model_module_version": "1.4.0",
      "model_name": "VBoxModel",
      "state": {
       "children": [
        "IPY_MODEL_4c72624f76ca45c8b6462089ada40259"
       ],
       "layout": "IPY_MODEL_e4da7748e982466d891181a844c87a16"
      }
     },
     "c2f3b5fa479644f9a1882f7e3f0f5b07": {
      "model_module": "@jupyter-widgets/controls",
      "model_module_version": "1.4.0",
      "model_name": "ButtonStyleModel",
      "state": {}
     },
     "c30ddfbbfd954b25ab18fde09ca918db": {
      "model_module": "@jupyter-widgets/base",
      "model_module_version": "1.1.0",
      "model_name": "LayoutModel",
      "state": {}
     },
     "c32130e27d4e4c4f8302988415dbb543": {
      "model_module": "@jupyter-widgets/base",
      "model_module_version": "1.1.0",
      "model_name": "LayoutModel",
      "state": {
       "width": "20%"
      }
     },
     "c3301fec047148fe96ff0409b080bcf8": {
      "model_module": "@jupyter-widgets/controls",
      "model_module_version": "1.4.0",
      "model_name": "ButtonStyleModel",
      "state": {}
     },
     "c335dd47092e494789b824cad96581e6": {
      "model_module": "@jupyter-widgets/controls",
      "model_module_version": "1.4.0",
      "model_name": "VBoxModel",
      "state": {
       "children": [
        "IPY_MODEL_f637328ab4054f1c8c51f03e87dc2e05"
       ],
       "layout": "IPY_MODEL_1fa09f9222ad40ed9816f93194a568cb"
      }
     },
     "c348f81e47374ef5bf9645b05390180b": {
      "model_module": "@jupyter-widgets/controls",
      "model_module_version": "1.4.0",
      "model_name": "VBoxModel",
      "state": {
       "children": [
        "IPY_MODEL_4104275dad8748afb1624ea0237d19ea"
       ],
       "layout": "IPY_MODEL_66ed4669845144a1a607f662f792066b"
      }
     },
     "c34fe0b7df18477cb0aa4c7b2ef160e5": {
      "model_module": "@jupyter-widgets/base",
      "model_module_version": "1.1.0",
      "model_name": "LayoutModel",
      "state": {}
     },
     "c3578ea35da94028b6af4b245d9b0ab3": {
      "model_module": "@jupyter-widgets/controls",
      "model_module_version": "1.4.0",
      "model_name": "SelectModel",
      "state": {
       "_options_labels": [
        "MODLAND",
        "VI Usefulness",
        "Aerosol Quantity",
        "Adjacent cloud detected",
        "Atmosphere BRDF Correction",
        "Mixed Clouds",
        "Land/Water Mask",
        "Possible snow/ice",
        "Possible shadow"
       ],
       "description": "QA Parameter name:",
       "index": 0,
       "layout": "IPY_MODEL_9049030abb914393a79255766850f866",
       "rows": 9,
       "style": "IPY_MODEL_d5b18c2186814c0983761885665e3647"
      }
     },
     "c3becd7c445946d2aa495261e7f3d391": {
      "model_module": "@jupyter-widgets/controls",
      "model_module_version": "1.4.0",
      "model_name": "DescriptionStyleModel",
      "state": {
       "description_width": "initial"
      }
     },
     "c3c313d315ff4bb489fb81c5efd56d5e": {
      "model_module": "@jupyter-widgets/controls",
      "model_module_version": "1.4.0",
      "model_name": "HTMLModel",
      "state": {
       "description": "QA layer:",
       "layout": "IPY_MODEL_d8845f06a5a341a99a8c49d9867a3e98",
       "style": "IPY_MODEL_4ecefa34d214417faf4a269a4e0d7610",
       "value": "<b>_1_km_16_days_VI_Quality</b>"
      }
     },
     "c41b1e59b828486cb0938df6e09baff8": {
      "model_module": "@jupyter-widgets/controls",
      "model_module_version": "1.4.0",
      "model_name": "ButtonStyleModel",
      "state": {}
     },
     "c43f54d5876446cd867f8d003de13a6e": {
      "model_module": "@jupyter-widgets/controls",
      "model_module_version": "1.4.0",
      "model_name": "SelectMultipleModel",
      "state": {
       "_options_labels": [
        "VI produced, good quality",
        "VI produced, but check other QA",
        "Pixel produced, but most probably cloudy",
        "Pixel not produced due to other reasons than clouds"
       ],
       "description": "Description",
       "index": [
        0
       ],
       "layout": "IPY_MODEL_c2d82b35eb5041cc89240a8583913873",
       "rows": 4,
       "style": "IPY_MODEL_7324d6ca2467460a96ba9f8d6f0ec27f"
      }
     },
     "c45203201a3c4456a8f7e54d0c0e8777": {
      "model_module": "@jupyter-widgets/controls",
      "model_module_version": "1.4.0",
      "model_name": "HTMLModel",
      "state": {
       "description": "QA layer:",
       "layout": "IPY_MODEL_6a2ff90de0124bf684b40e9be502b867",
       "style": "IPY_MODEL_9f6918f3ae8c4f78990990157c61d328",
       "value": "<b>_1_km_16_days_VI_Quality</b>"
      }
     },
     "c462d80abc9547cf929f112593980988": {
      "model_module": "@jupyter-widgets/base",
      "model_module_version": "1.1.0",
      "model_name": "LayoutModel",
      "state": {}
     },
     "c47df2ca894b4e9aa727fc86c6a8ed74": {
      "model_module": "@jupyter-widgets/controls",
      "model_module_version": "1.4.0",
      "model_name": "HBoxModel",
      "state": {
       "children": [
        "IPY_MODEL_a553d77654254052b708e06d089278c5",
        "IPY_MODEL_9e7e45ce8f8f4ae08e4ceddaed2c0f3e"
       ],
       "layout": "IPY_MODEL_3dc2e53569e84b71a9f2e014da41d093"
      }
     },
     "c47e43bcf34d41e2876e150cf27af53e": {
      "model_module": "@jupyter-widgets/controls",
      "model_module_version": "1.4.0",
      "model_name": "SelectModel",
      "state": {
       "_options_labels": [
        "MODLAND",
        "VI Usefulness",
        "Aerosol Quantity",
        "Adjacent cloud detected",
        "Atmosphere BRDF Correction",
        "Mixed Clouds",
        "Land/Water Mask",
        "Possible snow/ice",
        "Possible shadow"
       ],
       "description": "QA Parameter name:",
       "index": 0,
       "layout": "IPY_MODEL_b54a203cdf1442b3ba8ede9db413d74f",
       "rows": 9,
       "style": "IPY_MODEL_c3becd7c445946d2aa495261e7f3d391"
      }
     },
     "c51ccf00cf224f8da1aa199686562613": {
      "model_module": "@jupyter-widgets/controls",
      "model_module_version": "1.4.0",
      "model_name": "VBoxModel",
      "state": {
       "children": [
        "IPY_MODEL_88300c7af4824441a0375e26f1c8a558"
       ],
       "layout": "IPY_MODEL_4bfcd34ef8924da689afaa2a25e348c2"
      }
     },
     "c52770712e7d4a289435a24af87c3058": {
      "model_module": "@jupyter-widgets/base",
      "model_module_version": "1.1.0",
      "model_name": "LayoutModel",
      "state": {
       "width": "20%"
      }
     },
     "c52a94c0f9a94687bc580a4b7974285d": {
      "model_module": "@jupyter-widgets/controls",
      "model_module_version": "1.4.0",
      "model_name": "ButtonStyleModel",
      "state": {}
     },
     "c53f2de9fd4d4ce3b5a32b4d9bf69e1a": {
      "model_module": "@jupyter-widgets/base",
      "model_module_version": "1.1.0",
      "model_name": "LayoutModel",
      "state": {}
     },
     "c575b1cb8ac04441b7610d7bfec0166e": {
      "model_module": "@jupyter-widgets/controls",
      "model_module_version": "1.4.0",
      "model_name": "VBoxModel",
      "state": {
       "children": [
        "IPY_MODEL_2ea85195a4d6482b8092fe05d734a502"
       ],
       "layout": "IPY_MODEL_aabc4d6b611b48aca4b15b9115436f19"
      }
     },
     "c58b7c225e194868ae7afc16a49f76d1": {
      "model_module": "@jupyter-widgets/base",
      "model_module_version": "1.1.0",
      "model_name": "LayoutModel",
      "state": {
       "width": "400px"
      }
     },
     "c59eadbccadf4d708ae80d5afd0d8ce8": {
      "model_module": "@jupyter-widgets/controls",
      "model_module_version": "1.4.0",
      "model_name": "ButtonStyleModel",
      "state": {}
     },
     "c5c3ce3dbc3e4d68b0c31a3c5ae7027c": {
      "model_module": "@jupyter-widgets/controls",
      "model_module_version": "1.4.0",
      "model_name": "DescriptionStyleModel",
      "state": {
       "description_width": "initial"
      }
     },
     "c5f8a2ae485443539fd9bc0f11287cef": {
      "model_module": "@jupyter-widgets/controls",
      "model_module_version": "1.4.0",
      "model_name": "ButtonModel",
      "state": {
       "description": "Default selection",
       "layout": "IPY_MODEL_eaeac6e6ac244efab3a32059d10c16d8",
       "style": "IPY_MODEL_6aa967f7a51c46edb2e4bda52da28321"
      }
     },
     "c5ff0c9b31cb421fb9da46da7b30da85": {
      "model_module": "@jupyter-widgets/base",
      "model_module_version": "1.1.0",
      "model_name": "LayoutModel",
      "state": {
       "width": "20%"
      }
     },
     "c60d4d48d5924e6a8661cb3be15419f0": {
      "model_module": "@jupyter-widgets/base",
      "model_module_version": "1.1.0",
      "model_name": "LayoutModel",
      "state": {
       "width": "20%"
      }
     },
     "c625062ae77a4f359c72fef93871eebc": {
      "model_module": "@jupyter-widgets/controls",
      "model_module_version": "1.4.0",
      "model_name": "DescriptionStyleModel",
      "state": {
       "description_width": ""
      }
     },
     "c64e371b3fbe4311a0d28e7649eb9862": {
      "model_module": "@jupyter-widgets/controls",
      "model_module_version": "1.4.0",
      "model_name": "DescriptionStyleModel",
      "state": {
       "description_width": "initial"
      }
     },
     "c6acf869544f4602860af9c9e16fb026": {
      "model_module": "@jupyter-widgets/controls",
      "model_module_version": "1.4.0",
      "model_name": "ButtonModel",
      "state": {
       "description": "Select ALL",
       "layout": "IPY_MODEL_7fd08c1d06024fa5aba90e3e0d7ebdb0",
       "style": "IPY_MODEL_cb3a25581d0d4f3d8b499a906f3e1f83"
      }
     },
     "c6e474b257504120801bf5cf47c25673": {
      "model_module": "@jupyter-widgets/controls",
      "model_module_version": "1.4.0",
      "model_name": "ButtonModel",
      "state": {
       "description": "Default selection",
       "layout": "IPY_MODEL_5c8e3dd34aad47f09ff09c1f2454ea10",
       "style": "IPY_MODEL_eed9a544a8d84ec9bfc9db14e62180e2"
      }
     },
     "c6e95c1f026c427e96041be9cb1ef177": {
      "model_module": "@jupyter-widgets/controls",
      "model_module_version": "1.4.0",
      "model_name": "HBoxModel",
      "state": {
       "children": [
        "IPY_MODEL_f489c4b1d90942019ad096acee7e8e54",
        "IPY_MODEL_442cf7c762604f4292e019387b991d60"
       ],
       "layout": "IPY_MODEL_7fe7fa5d61154aada3ad5b32d8d09a62"
      }
     },
     "c734e6d873c149b48fbc5eca103ca356": {
      "model_module": "@jupyter-widgets/controls",
      "model_module_version": "1.4.0",
      "model_name": "DescriptionStyleModel",
      "state": {
       "description_width": ""
      }
     },
     "c779139728bc4da593518f855c8a7d42": {
      "model_module": "@jupyter-widgets/base",
      "model_module_version": "1.1.0",
      "model_name": "LayoutModel",
      "state": {}
     },
     "c77f7e3885b14f7ca0a7271fb2cd0354": {
      "model_module": "@jupyter-widgets/base",
      "model_module_version": "1.1.0",
      "model_name": "LayoutModel",
      "state": {
       "width": "400px"
      }
     },
     "c7990511f27048069ee4d022f9307ea1": {
      "model_module": "@jupyter-widgets/controls",
      "model_module_version": "1.4.0",
      "model_name": "DescriptionStyleModel",
      "state": {
       "description_width": ""
      }
     },
     "c7e86b3f79a64e398ee4704df1007b33": {
      "model_module": "@jupyter-widgets/controls",
      "model_module_version": "1.4.0",
      "model_name": "ButtonStyleModel",
      "state": {}
     },
     "c7e8a18386184e1f962f4b4b33054ac3": {
      "model_module": "@jupyter-widgets/base",
      "model_module_version": "1.1.0",
      "model_name": "LayoutModel",
      "state": {
       "width": "20%"
      }
     },
     "c817d3b0d388469c86af138f34587b07": {
      "model_module": "@jupyter-widgets/controls",
      "model_module_version": "1.4.0",
      "model_name": "HTMLModel",
      "state": {
       "description": "QA layer:",
       "layout": "IPY_MODEL_8f51d715eedd49908d24657fae200e11",
       "style": "IPY_MODEL_f4d8c79476c04a7fae44baea6bf7b413",
       "value": "<b>_1_km_16_days_VI_Quality</b>"
      }
     },
     "c827ec8a8c6b462b8e9e11481bbe6052": {
      "model_module": "@jupyter-widgets/controls",
      "model_module_version": "1.4.0",
      "model_name": "VBoxModel",
      "state": {
       "children": [
        "IPY_MODEL_c1d86a99a4d94e0989031018dd0db047"
       ],
       "layout": "IPY_MODEL_2cba1d10c2d94b7abeb0391d7273124a"
      }
     },
     "c867f1eb865243a0aa16481de05d39f3": {
      "model_module": "@jupyter-widgets/controls",
      "model_module_version": "1.4.0",
      "model_name": "VBoxModel",
      "state": {
       "children": [
        "IPY_MODEL_4d0520158e8c4a3aa7b3c3b8562e3f26"
       ],
       "layout": "IPY_MODEL_033285fd855f49b8a504ffb3c17124b1"
      }
     },
     "c88a43527a22464386edcbf6fa87682f": {
      "model_module": "@jupyter-widgets/base",
      "model_module_version": "1.1.0",
      "model_name": "LayoutModel",
      "state": {}
     },
     "c8a51140561f466d86c0347556036ce7": {
      "model_module": "@jupyter-widgets/controls",
      "model_module_version": "1.4.0",
      "model_name": "ButtonStyleModel",
      "state": {}
     },
     "c8c9089d011e45179619a4f29c75aa5e": {
      "model_module": "@jupyter-widgets/controls",
      "model_module_version": "1.4.0",
      "model_name": "ButtonStyleModel",
      "state": {}
     },
     "c8f1f919eeaa4006989347ddf461527d": {
      "model_module": "@jupyter-widgets/controls",
      "model_module_version": "1.4.0",
      "model_name": "HBoxModel",
      "state": {
       "children": [
        "IPY_MODEL_f88ab3864eac4bd6945cde3a38bca592",
        "IPY_MODEL_aa946834f5d64512a74ec3cbaf167f42",
        "IPY_MODEL_49ad328bf77940c6b3ab8866554b983f",
        "IPY_MODEL_6f278978813244bfb180497044182964"
       ],
       "layout": "IPY_MODEL_af2e9d6e89ca40bfb786fb35ccc1014f"
      }
     },
     "c8f68c41bcee4c7ab1c9c0d5549396ea": {
      "model_module": "@jupyter-widgets/base",
      "model_module_version": "1.1.0",
      "model_name": "LayoutModel",
      "state": {
       "width": "400px"
      }
     },
     "c905f3df6d29482c9e82239f7de3181d": {
      "model_module": "@jupyter-widgets/controls",
      "model_module_version": "1.4.0",
      "model_name": "HTMLModel",
      "state": {
       "description": "QA layer:",
       "layout": "IPY_MODEL_ac4d8b5e144841b1ab78f7548c6a6ffe",
       "style": "IPY_MODEL_eba5403057cf499ab7cebb2eb3d9cb70",
       "value": "<b>_1_km_16_days_pixel_reliability</b>"
      }
     },
     "c92c8be87197426db2de16b86eef0104": {
      "model_module": "@jupyter-widgets/base",
      "model_module_version": "1.1.0",
      "model_name": "LayoutModel",
      "state": {
       "width": "400px"
      }
     },
     "c99251d9320a4b029aafe4163a9331c2": {
      "model_module": "@jupyter-widgets/controls",
      "model_module_version": "1.4.0",
      "model_name": "SelectMultipleModel",
      "state": {
       "_options_labels": [
        "VI produced, good quality",
        "VI produced, but check other QA",
        "Pixel produced, but most probably cloudy",
        "Pixel not produced due to other reasons than clouds"
       ],
       "description": "Description",
       "index": [
        0
       ],
       "layout": "IPY_MODEL_b3b510c4e0344012863d3be7b0190cf9",
       "rows": 4,
       "style": "IPY_MODEL_b8325c66602d40f79641bae47eca42f4"
      }
     },
     "c99a1c8cf1ee418daa018e71510571c8": {
      "model_module": "@jupyter-widgets/controls",
      "model_module_version": "1.4.0",
      "model_name": "ButtonModel",
      "state": {
       "description": "Default selection",
       "layout": "IPY_MODEL_86b26502ef124d3198be799353b12bba",
       "style": "IPY_MODEL_8a61a1c998f145c3b595eb166f9c70cf"
      }
     },
     "c9b41a6e99ea4848b391dc610d88f153": {
      "model_module": "@jupyter-widgets/base",
      "model_module_version": "1.1.0",
      "model_name": "LayoutModel",
      "state": {}
     },
     "c9ba821732e848e58facfaea2bfd1cd2": {
      "model_module": "@jupyter-widgets/base",
      "model_module_version": "1.1.0",
      "model_name": "LayoutModel",
      "state": {
       "width": "20%"
      }
     },
     "c9c40abe3ba6408796e7a45f693b27c1": {
      "model_module": "@jupyter-widgets/base",
      "model_module_version": "1.1.0",
      "model_name": "LayoutModel",
      "state": {}
     },
     "c9fae44c1b9d473f96ec0f651896208c": {
      "model_module": "@jupyter-widgets/base",
      "model_module_version": "1.1.0",
      "model_name": "LayoutModel",
      "state": {
       "width": "50%"
      }
     },
     "ca31844d6f1f4bb281e9511d6aede538": {
      "model_module": "@jupyter-widgets/base",
      "model_module_version": "1.1.0",
      "model_name": "LayoutModel",
      "state": {}
     },
     "ca4bc37d01cb449db39457e4b392cebd": {
      "model_module": "@jupyter-widgets/base",
      "model_module_version": "1.1.0",
      "model_name": "LayoutModel",
      "state": {
       "width": "20%"
      }
     },
     "ca67552208be4c0ebd05b1ce0c25138f": {
      "model_module": "@jupyter-widgets/base",
      "model_module_version": "1.1.0",
      "model_name": "LayoutModel",
      "state": {
       "width": "400px"
      }
     },
     "ca9fa59691104ae19853d213b0de015e": {
      "model_module": "@jupyter-widgets/controls",
      "model_module_version": "1.4.0",
      "model_name": "DescriptionStyleModel",
      "state": {
       "description_width": ""
      }
     },
     "cabaffd368104961b995bce6830e9384": {
      "model_module": "@jupyter-widgets/base",
      "model_module_version": "1.1.0",
      "model_name": "LayoutModel",
      "state": {
       "height": "300px",
       "width": "99%"
      }
     },
     "cac62d519f534eb6a482903f9111e5fe": {
      "model_module": "@jupyter-widgets/base",
      "model_module_version": "1.1.0",
      "model_name": "LayoutModel",
      "state": {}
     },
     "cad2f12102eb490f99898005c693a621": {
      "model_module": "@jupyter-widgets/controls",
      "model_module_version": "1.4.0",
      "model_name": "SelectMultipleModel",
      "state": {
       "_options_labels": [
        "VI produced, good quality",
        "VI produced, but check other QA",
        "Pixel produced, but most probably cloudy",
        "Pixel not produced due to other reasons than clouds"
       ],
       "description": "Description",
       "index": [
        0
       ],
       "layout": "IPY_MODEL_66a582cea3744c2dbfcf951e3fa5d0f1",
       "rows": 4,
       "style": "IPY_MODEL_50671e0b3bd040b49423324b1e482fa1"
      }
     },
     "cb0e49b84dd14b64b13ce8e217243717": {
      "model_module": "@jupyter-widgets/base",
      "model_module_version": "1.1.0",
      "model_name": "LayoutModel",
      "state": {
       "width": "400px"
      }
     },
     "cb1452f68d764cfd81e12530538ace3e": {
      "model_module": "@jupyter-widgets/base",
      "model_module_version": "1.1.0",
      "model_name": "LayoutModel",
      "state": {}
     },
     "cb279dce53a44916bb48a2d0e07edad5": {
      "model_module": "@jupyter-widgets/controls",
      "model_module_version": "1.4.0",
      "model_name": "HBoxModel",
      "state": {
       "children": [
        "IPY_MODEL_a1a02dde174a4f8187ddb9aa685672d5",
        "IPY_MODEL_9559301433194b4997347b0388a57f6f",
        "IPY_MODEL_6c986ef4739b492487aba6bac4e1d8c0"
       ],
       "layout": "IPY_MODEL_370b9060558a46a0972614895d3472bb"
      }
     },
     "cb3a25581d0d4f3d8b499a906f3e1f83": {
      "model_module": "@jupyter-widgets/controls",
      "model_module_version": "1.4.0",
      "model_name": "ButtonStyleModel",
      "state": {}
     },
     "cb597abe7ca5444f9a14a707b6bd5945": {
      "model_module": "@jupyter-widgets/controls",
      "model_module_version": "1.4.0",
      "model_name": "HTMLModel",
      "state": {
       "description": "QA layer:",
       "layout": "IPY_MODEL_91f42e1909564d16b7fd14f3b1a74c03",
       "style": "IPY_MODEL_c7990511f27048069ee4d022f9307ea1",
       "value": "<b>_1_km_16_days_VI_Quality</b>"
      }
     },
     "cb88a70c67614772b9440cea9276926c": {
      "model_module": "@jupyter-widgets/controls",
      "model_module_version": "1.4.0",
      "model_name": "DescriptionStyleModel",
      "state": {
       "description_width": "initial"
      }
     },
     "cbd2addc97cc44b5b6f02e115a12bda4": {
      "model_module": "@jupyter-widgets/controls",
      "model_module_version": "1.4.0",
      "model_name": "ButtonStyleModel",
      "state": {}
     },
     "cc2e00e7a8fb4ff38d376f4d6780b77e": {
      "model_module": "@jupyter-widgets/controls",
      "model_module_version": "1.4.0",
      "model_name": "ButtonModel",
      "state": {
       "description": "Select ALL",
       "layout": "IPY_MODEL_482f410617a1480683b3d84b0d8dd72c",
       "style": "IPY_MODEL_d527aa7c9e36401e9057c2a29008f467"
      }
     },
     "cc3f4a329cce4ce3b04477dab01f681e": {
      "model_module": "@jupyter-widgets/base",
      "model_module_version": "1.1.0",
      "model_name": "LayoutModel",
      "state": {
       "width": "20%"
      }
     },
     "cc4c8f2f9caf4dfbbc6a949daea1db6c": {
      "model_module": "@jupyter-widgets/base",
      "model_module_version": "1.1.0",
      "model_name": "LayoutModel",
      "state": {
       "width": "20%"
      }
     },
     "cc556288185e4ecf8866a7824bdf4e12": {
      "model_module": "@jupyter-widgets/base",
      "model_module_version": "1.1.0",
      "model_name": "LayoutModel",
      "state": {}
     },
     "cca002bb1ca047fb8ba2f34fa743a1fb": {
      "model_module": "@jupyter-widgets/controls",
      "model_module_version": "1.4.0",
      "model_name": "ButtonModel",
      "state": {
       "description": "QA analytics",
       "layout": "IPY_MODEL_68c5c426f5334843bd7bafd7375bae3d",
       "style": "IPY_MODEL_33c938526aee48fa8c4a57c2455261cd"
      }
     },
     "ccaf1b9ea75041ddbd13dea3de1e6718": {
      "model_module": "@jupyter-widgets/base",
      "model_module_version": "1.1.0",
      "model_name": "LayoutModel",
      "state": {
       "height": "350px",
       "width": "99%"
      }
     },
     "ccb8b48f28ea4d8bb40dfaaa4bb2a1e5": {
      "model_module": "@jupyter-widgets/controls",
      "model_module_version": "1.4.0",
      "model_name": "ButtonModel",
      "state": {
       "description": "QA analytics",
       "layout": "IPY_MODEL_383a79ad9e9d4a00b4312a4159735a74",
       "style": "IPY_MODEL_0de453db826347a9aafa5acf2e83588d"
      }
     },
     "ccfdd8139eaf42409351b3bdc1687d31": {
      "model_module": "@jupyter-widgets/controls",
      "model_module_version": "1.4.0",
      "model_name": "DescriptionStyleModel",
      "state": {
       "description_width": "initial"
      }
     },
     "cd3333debf1041b0b95612f19fa47f9b": {
      "model_module": "@jupyter-widgets/controls",
      "model_module_version": "1.4.0",
      "model_name": "DescriptionStyleModel",
      "state": {
       "description_width": ""
      }
     },
     "cd78950b392c4730aaf93eb0645ed6ef": {
      "model_module": "@jupyter-widgets/controls",
      "model_module_version": "1.4.0",
      "model_name": "ButtonModel",
      "state": {
       "description": "Select ALL",
       "layout": "IPY_MODEL_79c71a0a01a7417484676927383cefeb",
       "style": "IPY_MODEL_68e796c631df492a95200f7fe660a357"
      }
     },
     "cd95123da3c74b2881beaf98d832b54e": {
      "model_module": "@jupyter-widgets/base",
      "model_module_version": "1.1.0",
      "model_name": "LayoutModel",
      "state": {}
     },
     "cdb3321327574c28aada1f2f4a47baee": {
      "model_module": "@jupyter-widgets/controls",
      "model_module_version": "1.4.0",
      "model_name": "HBoxModel",
      "state": {
       "children": [
        "IPY_MODEL_5108165f32c34fdca39e2885816f5fc4",
        "IPY_MODEL_5bb332ab52c64b7a9c52758392ddcca1",
        "IPY_MODEL_747aebafeced4e77bbd990b586154698"
       ],
       "layout": "IPY_MODEL_210a149f055e496b862d667f96a6e7d7"
      }
     },
     "cdf2cad5ac184ac481e8c3f8d0d358d9": {
      "model_module": "@jupyter-widgets/controls",
      "model_module_version": "1.4.0",
      "model_name": "SelectModel",
      "state": {
       "_options_labels": [
        "MODLAND",
        "VI Usefulness",
        "Aerosol Quantity",
        "Adjacent cloud detected",
        "Atmosphere BRDF Correction",
        "Mixed Clouds",
        "Land/Water Mask",
        "Possible snow/ice",
        "Possible shadow"
       ],
       "description": "QA Parameter name:",
       "index": 0,
       "layout": "IPY_MODEL_bfb51148ea924c4eab725ebe3ed036c0",
       "rows": 9,
       "style": "IPY_MODEL_4b56a5e517f2478baf4b6cc7475d11bc"
      }
     },
     "cdfe21ddef034760b6211aee0d70bf94": {
      "model_module": "@jupyter-widgets/base",
      "model_module_version": "1.1.0",
      "model_name": "LayoutModel",
      "state": {
       "width": "50%"
      }
     },
     "ce2d9629825848588c70d42d1ca68c61": {
      "model_module": "@jupyter-widgets/controls",
      "model_module_version": "1.4.0",
      "model_name": "ButtonStyleModel",
      "state": {}
     },
     "ce60d2099c02437eac08488bcb6950dd": {
      "model_module": "@jupyter-widgets/controls",
      "model_module_version": "1.4.0",
      "model_name": "HBoxModel",
      "state": {
       "children": [
        "IPY_MODEL_243f9cfbb4884b87871b2deb6d47e765",
        "IPY_MODEL_4225e6b71382405f9709a962e34a558a"
       ],
       "layout": "IPY_MODEL_a263dcf074634b7f993e9fa96ab6997f"
      }
     },
     "cebf06df4d76446b8b04d756d8672ba6": {
      "model_module": "@jupyter-widgets/base",
      "model_module_version": "1.1.0",
      "model_name": "LayoutModel",
      "state": {
       "height": "350px",
       "width": "99%"
      }
     },
     "cedbfb480fae47d09300060c38e0b3ca": {
      "model_module": "@jupyter-widgets/controls",
      "model_module_version": "1.4.0",
      "model_name": "ButtonStyleModel",
      "state": {}
     },
     "cee8dcc3321e4a70b6bb1f0dfb154b47": {
      "model_module": "@jupyter-widgets/base",
      "model_module_version": "1.1.0",
      "model_name": "LayoutModel",
      "state": {}
     },
     "cf31c1cc6f734f4cb25d240952231326": {
      "model_module": "@jupyter-widgets/controls",
      "model_module_version": "1.4.0",
      "model_name": "HTMLModel",
      "state": {
       "description": "QA layer:",
       "layout": "IPY_MODEL_9ae80a992b94425d91bd5dbe97cbd3ac",
       "style": "IPY_MODEL_1c69aefdb3d148e4bbf6ae0bc29ae2ff",
       "value": "<b>_1_km_16_days_VI_Quality</b>"
      }
     },
     "cf79d4e97f844c63bd618aa73a610b92": {
      "model_module": "@jupyter-widgets/controls",
      "model_module_version": "1.4.0",
      "model_name": "ButtonModel",
      "state": {
       "description": "Select ALL",
       "layout": "IPY_MODEL_11806b3b4f17413b83e08305d7303fac",
       "style": "IPY_MODEL_77c4c56b369549fcaa7a2f1b49850147"
      }
     },
     "cf83a41ddc9a41d8acd9b43a9c129ad8": {
      "model_module": "@jupyter-widgets/controls",
      "model_module_version": "1.4.0",
      "model_name": "DescriptionStyleModel",
      "state": {
       "description_width": ""
      }
     },
     "cfa2d2ed6b484fb0a2414da0ba6f52e7": {
      "model_module": "@jupyter-widgets/controls",
      "model_module_version": "1.4.0",
      "model_name": "VBoxModel",
      "state": {
       "children": [
        "IPY_MODEL_a22544860bda43ed905e7c2927bfdd65"
       ],
       "layout": "IPY_MODEL_c2b84b38d5654e6e88a6708609bb0122"
      }
     },
     "cfaccfe167a84a61a66d7f27884c380b": {
      "model_module": "@jupyter-widgets/base",
      "model_module_version": "1.1.0",
      "model_name": "LayoutModel",
      "state": {
       "width": "99%"
      }
     },
     "cfc9346e0eeb4cd7a55d3bc366da1113": {
      "model_module": "@jupyter-widgets/controls",
      "model_module_version": "1.4.0",
      "model_name": "DescriptionStyleModel",
      "state": {
       "description_width": ""
      }
     },
     "cfee4f1afe1340c3b70d3149ff05e508": {
      "model_module": "@jupyter-widgets/controls",
      "model_module_version": "1.4.0",
      "model_name": "DescriptionStyleModel",
      "state": {
       "description_width": "initial"
      }
     },
     "d03c42a3bb0742aa82fe1b22a725ad9d": {
      "model_module": "@jupyter-widgets/controls",
      "model_module_version": "1.4.0",
      "model_name": "HTMLModel",
      "state": {
       "description": "QA layer:",
       "layout": "IPY_MODEL_e66879a0ad9741dbb5fbf64d0b8084d2",
       "style": "IPY_MODEL_6734ec232d6642b6bb46fbaaa4dfe527",
       "value": "<b>_1_km_16_days_VI_Quality</b>"
      }
     },
     "d044b01e04b24e278a29fa6f3b0a8787": {
      "model_module": "@jupyter-widgets/base",
      "model_module_version": "1.1.0",
      "model_name": "LayoutModel",
      "state": {
       "width": "30%"
      }
     },
     "d0a821561ed943e4b53923d5185f405e": {
      "model_module": "@jupyter-widgets/controls",
      "model_module_version": "1.4.0",
      "model_name": "SelectModel",
      "state": {
       "_options_labels": [
        "MODLAND",
        "VI Usefulness",
        "Aerosol Quantity",
        "Adjacent cloud detected",
        "Atmosphere BRDF Correction",
        "Mixed Clouds",
        "Land/Water Mask",
        "Possible snow/ice",
        "Possible shadow"
       ],
       "description": "QA Parameter name:",
       "index": 0,
       "layout": "IPY_MODEL_60545437560340bfbdc6427755ef25dc",
       "rows": 9,
       "style": "IPY_MODEL_3b2478b27bba4b40be0edec4f51cddeb"
      }
     },
     "d0ef88c3e50f4c56badf35052ee145f6": {
      "model_module": "@jupyter-widgets/controls",
      "model_module_version": "1.4.0",
      "model_name": "VBoxModel",
      "state": {
       "children": [
        "IPY_MODEL_7e669a786bd24dd7a9275f3e7a91b0e5"
       ],
       "layout": "IPY_MODEL_4579f207b3534ae0857b4b276cf621fc"
      }
     },
     "d113c7d53da24ad2a2fc26ad304665d9": {
      "model_module": "@jupyter-widgets/controls",
      "model_module_version": "1.4.0",
      "model_name": "DescriptionStyleModel",
      "state": {
       "description_width": ""
      }
     },
     "d14444cc5a6e4d29a435550cc0fef159": {
      "model_module": "@jupyter-widgets/controls",
      "model_module_version": "1.4.0",
      "model_name": "DescriptionStyleModel",
      "state": {
       "description_width": "initial"
      }
     },
     "d18590cdd3e148e9ac05921978c3ac49": {
      "model_module": "@jupyter-widgets/controls",
      "model_module_version": "1.4.0",
      "model_name": "ButtonStyleModel",
      "state": {}
     },
     "d19573abc2f24b8bb31d8e39d57893ce": {
      "model_module": "@jupyter-widgets/controls",
      "model_module_version": "1.4.0",
      "model_name": "HTMLModel",
      "state": {
       "description": "QA layer:",
       "layout": "IPY_MODEL_2390a3ec2b844b0880264df26fea6bf0",
       "style": "IPY_MODEL_f451a58c505a4090b6a8fd0a3cff9f20",
       "value": "<b>_1_km_16_days_VI_Quality</b>"
      }
     },
     "d1daf33ec1054034ae4c8f42c30d6dbb": {
      "model_module": "@jupyter-widgets/controls",
      "model_module_version": "1.4.0",
      "model_name": "ButtonStyleModel",
      "state": {}
     },
     "d1ffd01f9bbc4992bec0bdabf7b4976b": {
      "model_module": "@jupyter-widgets/controls",
      "model_module_version": "1.4.0",
      "model_name": "ButtonModel",
      "state": {
       "description": "Default selection",
       "layout": "IPY_MODEL_ddf2e8812e864a5a8a90de257bead483",
       "style": "IPY_MODEL_d48abe00c77a4ca7a67ef81e5341d136"
      }
     },
     "d21264f069bf475e90291e0f9caa46e3": {
      "model_module": "@jupyter-widgets/controls",
      "model_module_version": "1.4.0",
      "model_name": "DescriptionStyleModel",
      "state": {
       "description_width": "initial"
      }
     },
     "d27670f454d24a4da99f115cf5f47f3a": {
      "model_module": "@jupyter-widgets/base",
      "model_module_version": "1.1.0",
      "model_name": "LayoutModel",
      "state": {
       "height": "300px",
       "width": "99%"
      }
     },
     "d2f466526976472399af8422c8489160": {
      "model_module": "@jupyter-widgets/controls",
      "model_module_version": "1.4.0",
      "model_name": "HTMLModel",
      "state": {
       "description": "QA layer:",
       "layout": "IPY_MODEL_72418b43dd994da8a0d022993f080fcb",
       "style": "IPY_MODEL_cf83a41ddc9a41d8acd9b43a9c129ad8",
       "value": "<b>_1_km_16_days_VI_Quality</b>"
      }
     },
     "d31e286c787647419c35505d2269ede0": {
      "model_module": "@jupyter-widgets/controls",
      "model_module_version": "1.4.0",
      "model_name": "DescriptionStyleModel",
      "state": {
       "description_width": ""
      }
     },
     "d34e057ce23c47e7b4f36a419d18fba4": {
      "model_module": "@jupyter-widgets/controls",
      "model_module_version": "1.4.0",
      "model_name": "DescriptionStyleModel",
      "state": {
       "description_width": "initial"
      }
     },
     "d360fde4d573419ea29dcba79423df79": {
      "model_module": "@jupyter-widgets/base",
      "model_module_version": "1.1.0",
      "model_name": "LayoutModel",
      "state": {
       "width": "30%"
      }
     },
     "d3afdbac390442abb7305434172a744d": {
      "model_module": "@jupyter-widgets/controls",
      "model_module_version": "1.4.0",
      "model_name": "ButtonModel",
      "state": {
       "description": "QA analytics",
       "layout": "IPY_MODEL_e7cdb29f45a94e04b1a196fe62b40ef6",
       "style": "IPY_MODEL_8f8c6d5398e34630939973fe60cf1703"
      }
     },
     "d3d383d7d13d4f99821161ea2f24115b": {
      "model_module": "@jupyter-widgets/controls",
      "model_module_version": "1.4.0",
      "model_name": "ButtonModel",
      "state": {
       "description": "Default selection",
       "layout": "IPY_MODEL_55427b0f7e74415cbb33735a878112b0",
       "style": "IPY_MODEL_836c064d8add44268caed17acf658d81"
      }
     },
     "d401a8fbf26c49759194f70a59890fe4": {
      "model_module": "@jupyter-widgets/base",
      "model_module_version": "1.1.0",
      "model_name": "LayoutModel",
      "state": {
       "width": "400px"
      }
     },
     "d434fa6ec1914e2bbac3fbb922ed8a56": {
      "model_module": "@jupyter-widgets/controls",
      "model_module_version": "1.4.0",
      "model_name": "DescriptionStyleModel",
      "state": {
       "description_width": "initial"
      }
     },
     "d43cbe35756b4942b8769d893565ede7": {
      "model_module": "@jupyter-widgets/controls",
      "model_module_version": "1.4.0",
      "model_name": "HTMLModel",
      "state": {
       "description": "QA layer:",
       "layout": "IPY_MODEL_6d7710bf8a7447c78c9c29e6be7ed952",
       "style": "IPY_MODEL_90eeef66bbf549a4930c7a40adf1348a",
       "value": "<b>_1_km_16_days_VI_Quality</b>"
      }
     },
     "d45c2164d441488e933a0b47d6567b8b": {
      "model_module": "@jupyter-widgets/controls",
      "model_module_version": "1.4.0",
      "model_name": "SelectModel",
      "state": {
       "_options_labels": [
        "MODLAND",
        "VI Usefulness",
        "Aerosol Quantity",
        "Adjacent cloud detected",
        "Atmosphere BRDF Correction",
        "Mixed Clouds",
        "Land/Water Mask",
        "Possible snow/ice",
        "Possible shadow"
       ],
       "description": "QA Parameter name:",
       "index": 0,
       "layout": "IPY_MODEL_bc07217b606f4f8f872d521d7701cc04",
       "rows": 9,
       "style": "IPY_MODEL_ccfdd8139eaf42409351b3bdc1687d31"
      }
     },
     "d462dbcf7ba64f95be571306e5fdb438": {
      "model_module": "@jupyter-widgets/controls",
      "model_module_version": "1.4.0",
      "model_name": "VBoxModel",
      "state": {
       "children": [
        "IPY_MODEL_801b78a2b1634135ac11369692f5079a"
       ],
       "layout": "IPY_MODEL_0730c9a238a74e948bcb2b42dde56df9"
      }
     },
     "d46c71e8da8e47d9900d84a623afa5c2": {
      "model_module": "@jupyter-widgets/controls",
      "model_module_version": "1.4.0",
      "model_name": "ProgressStyleModel",
      "state": {
       "description_width": "initial"
      }
     },
     "d4773e83c9dd4a508e26db2106acb3be": {
      "model_module": "@jupyter-widgets/controls",
      "model_module_version": "1.4.0",
      "model_name": "IntProgressModel",
      "state": {
       "description": "Computing max gap length...",
       "layout": "IPY_MODEL_203fe867a08946ba8254270d26987f44",
       "max": 10,
       "style": "IPY_MODEL_7f4e27e3c85a431c87be05bd42bc5d3c",
       "value": 2
      }
     },
     "d48abe00c77a4ca7a67ef81e5341d136": {
      "model_module": "@jupyter-widgets/controls",
      "model_module_version": "1.4.0",
      "model_name": "ButtonStyleModel",
      "state": {}
     },
     "d49d5f488b4e4d4fad8c1c1f7a25b64b": {
      "model_module": "@jupyter-widgets/base",
      "model_module_version": "1.1.0",
      "model_name": "LayoutModel",
      "state": {}
     },
     "d4a45b76983e41c6b7be47355d17fddf": {
      "model_module": "@jupyter-widgets/controls",
      "model_module_version": "1.4.0",
      "model_name": "ButtonStyleModel",
      "state": {}
     },
     "d4adbf70cb774c4ea5a7dd5ec036e1da": {
      "model_module": "@jupyter-widgets/controls",
      "model_module_version": "1.4.0",
      "model_name": "ButtonModel",
      "state": {
       "description": "Select ALL",
       "layout": "IPY_MODEL_24b8343f3aaf421d82bd41de58ccf06d",
       "style": "IPY_MODEL_fa02fa034e7345188df7b669a86452cd"
      }
     },
     "d4db1d4f785c4a9bb57ecadf2bc3c22e": {
      "model_module": "@jupyter-widgets/controls",
      "model_module_version": "1.4.0",
      "model_name": "ButtonModel",
      "state": {
       "description": "Default selection",
       "layout": "IPY_MODEL_80b5a73dca5f420e8feb850c8671b3b8",
       "style": "IPY_MODEL_477c28c444c844a9ba5ea64e0365d5a4"
      }
     },
     "d4df2e7de5ce4e04a54ff943f52187b3": {
      "model_module": "@jupyter-widgets/controls",
      "model_module_version": "1.4.0",
      "model_name": "DescriptionStyleModel",
      "state": {
       "description_width": "initial"
      }
     },
     "d4f930c5a9904f5b8fa8722221db9040": {
      "model_module": "@jupyter-widgets/base",
      "model_module_version": "1.1.0",
      "model_name": "LayoutModel",
      "state": {
       "width": "50%"
      }
     },
     "d4fdf635475b45c99649273055dd3cff": {
      "model_module": "@jupyter-widgets/controls",
      "model_module_version": "1.4.0",
      "model_name": "VBoxModel",
      "state": {
       "children": [
        "IPY_MODEL_3dc9160e5bc240058879d8a219ac009d"
       ],
       "layout": "IPY_MODEL_f9cb42fc5ad74aab88e03e1c4442c96a"
      }
     },
     "d51ef3ba35ca49ef80f885300bf5564f": {
      "model_module": "@jupyter-widgets/controls",
      "model_module_version": "1.4.0",
      "model_name": "HBoxModel",
      "state": {
       "children": [
        "IPY_MODEL_ae995d8d074e404aa7c0d91e23a7c448",
        "IPY_MODEL_35fc3f33dd584121b1a5aca02bb53a5d",
        "IPY_MODEL_e40d004346bc4513a1781b83bf9ee0af"
       ],
       "layout": "IPY_MODEL_87be2ee1064a43dca40272f9b4cda698"
      }
     },
     "d527aa7c9e36401e9057c2a29008f467": {
      "model_module": "@jupyter-widgets/controls",
      "model_module_version": "1.4.0",
      "model_name": "ButtonStyleModel",
      "state": {}
     },
     "d549fccca1cb4d4ea02af219ff6a5089": {
      "model_module": "@jupyter-widgets/base",
      "model_module_version": "1.1.0",
      "model_name": "LayoutModel",
      "state": {}
     },
     "d562accff913468ebd51c16708efc21e": {
      "model_module": "@jupyter-widgets/controls",
      "model_module_version": "1.4.0",
      "model_name": "DescriptionStyleModel",
      "state": {
       "description_width": "initial"
      }
     },
     "d596834e527d40d29d0d61eb1b27a7a7": {
      "model_module": "@jupyter-widgets/controls",
      "model_module_version": "1.4.0",
      "model_name": "DescriptionStyleModel",
      "state": {
       "description_width": ""
      }
     },
     "d5b13bbd7cc54462bda7ca5591f03c51": {
      "model_module": "@jupyter-widgets/base",
      "model_module_version": "1.1.0",
      "model_name": "LayoutModel",
      "state": {
       "width": "50%"
      }
     },
     "d5b18c2186814c0983761885665e3647": {
      "model_module": "@jupyter-widgets/controls",
      "model_module_version": "1.4.0",
      "model_name": "DescriptionStyleModel",
      "state": {
       "description_width": "initial"
      }
     },
     "d5db99f748a94d0ca071b1a5a094699d": {
      "model_module": "@jupyter-widgets/base",
      "model_module_version": "1.1.0",
      "model_name": "LayoutModel",
      "state": {
       "width": "400px"
      }
     },
     "d5f2886c34d84ec390792a0a11a56174": {
      "model_module": "@jupyter-widgets/base",
      "model_module_version": "1.1.0",
      "model_name": "LayoutModel",
      "state": {
       "width": "20%"
      }
     },
     "d5ffc504e0914b6ab711dca0d650bd5a": {
      "model_module": "@jupyter-widgets/base",
      "model_module_version": "1.1.0",
      "model_name": "LayoutModel",
      "state": {}
     },
     "d6339813af284c6fb7f1d2e412845926": {
      "model_module": "@jupyter-widgets/controls",
      "model_module_version": "1.4.0",
      "model_name": "HBoxModel",
      "state": {
       "children": [
        "IPY_MODEL_b2b1be67c2354dfabbd0cdf6afd5bc55",
        "IPY_MODEL_669c5196d73c4b05942c86415209df39",
        "IPY_MODEL_164c3cd08c184fe0abae6e1b66a2423c"
       ],
       "layout": "IPY_MODEL_bd7d882e970c46a79061917312326620"
      }
     },
     "d65e4a70747f4e62b6e1227ecd722de8": {
      "model_module": "@jupyter-widgets/controls",
      "model_module_version": "1.4.0",
      "model_name": "DescriptionStyleModel",
      "state": {
       "description_width": "initial"
      }
     },
     "d660bce74b844368917b75de6d133f81": {
      "model_module": "@jupyter-widgets/base",
      "model_module_version": "1.1.0",
      "model_name": "LayoutModel",
      "state": {}
     },
     "d682e0c67c5c4eb399d6cd1007e109c1": {
      "model_module": "@jupyter-widgets/base",
      "model_module_version": "1.1.0",
      "model_name": "LayoutModel",
      "state": {
       "height": "300px",
       "width": "99%"
      }
     },
     "d6845dbbae3f412cbf4312a44443b06c": {
      "model_module": "@jupyter-widgets/controls",
      "model_module_version": "1.4.0",
      "model_name": "HBoxModel",
      "state": {
       "children": [
        "IPY_MODEL_61ae087bf29c46d580279bf0df717b72",
        "IPY_MODEL_3a80d8a0c40d447abe26f1443f6d90e3",
        "IPY_MODEL_23b9e9b274bb4983a54f4c03c295f58d",
        "IPY_MODEL_743e3606c19d4c92a74622cf9760d865"
       ],
       "layout": "IPY_MODEL_bc5f51300f71491881422846d7406c25"
      }
     },
     "d6870dd14f6a4b99afb7833169a4e923": {
      "model_module": "@jupyter-widgets/base",
      "model_module_version": "1.1.0",
      "model_name": "LayoutModel",
      "state": {}
     },
     "d6a8f0b622744e3a8fd021b5e0d941b6": {
      "model_module": "@jupyter-widgets/controls",
      "model_module_version": "1.4.0",
      "model_name": "ButtonModel",
      "state": {
       "description": "Create mask",
       "layout": "IPY_MODEL_f4a71096f5694088919fe451a94ab08c",
       "style": "IPY_MODEL_6066dce1009b4480ad3211e0021c7083"
      }
     },
     "d6b566a893a1464ab2750f83da5cf24f": {
      "model_module": "@jupyter-widgets/controls",
      "model_module_version": "1.4.0",
      "model_name": "HBoxModel",
      "state": {
       "children": [
        "IPY_MODEL_ea1e0454de2742bb9cc4875c9c2b7ba7",
        "IPY_MODEL_0cb15f86f316478f917b7305ff00bbad",
        "IPY_MODEL_8bad5a19aff447fd90e6f4ab91d4814f"
       ],
       "layout": "IPY_MODEL_83cd6db10aa64748bcb6749c95925565"
      }
     },
     "d6c3d1f452f94565936c0f7583083aad": {
      "model_module": "@jupyter-widgets/controls",
      "model_module_version": "1.4.0",
      "model_name": "ButtonStyleModel",
      "state": {}
     },
     "d71a6461f8bc43e69010849213708430": {
      "model_module": "@jupyter-widgets/controls",
      "model_module_version": "1.4.0",
      "model_name": "ButtonStyleModel",
      "state": {}
     },
     "d7589883c2564030a1d27c4107be68e5": {
      "model_module": "@jupyter-widgets/base",
      "model_module_version": "1.1.0",
      "model_name": "LayoutModel",
      "state": {
       "width": "20%"
      }
     },
     "d76199888ec04e39916246aec25faacc": {
      "model_module": "@jupyter-widgets/controls",
      "model_module_version": "1.4.0",
      "model_name": "ButtonStyleModel",
      "state": {}
     },
     "d7634c8e99324dd18d104466e974a5c7": {
      "model_module": "@jupyter-widgets/base",
      "model_module_version": "1.1.0",
      "model_name": "LayoutModel",
      "state": {
       "width": "400px"
      }
     },
     "d775570db50842b88d8ec58715eda83a": {
      "model_module": "@jupyter-widgets/base",
      "model_module_version": "1.1.0",
      "model_name": "LayoutModel",
      "state": {
       "width": "400px"
      }
     },
     "d775da67a9934938b1aa7f9ac394f9c7": {
      "model_module": "@jupyter-widgets/controls",
      "model_module_version": "1.4.0",
      "model_name": "ButtonModel",
      "state": {
       "description": "QA analytics",
       "layout": "IPY_MODEL_7c6518a8aed74ed18961db69ea90894e",
       "style": "IPY_MODEL_e425180bae6d47c8bf2c1eeaaf14292c"
      }
     },
     "d77a030125284d20a2aed0c9051ef52a": {
      "model_module": "@jupyter-widgets/base",
      "model_module_version": "1.1.0",
      "model_name": "LayoutModel",
      "state": {
       "width": "30%"
      }
     },
     "d784c6b3e69042d99de9de59e3a772ac": {
      "model_module": "@jupyter-widgets/controls",
      "model_module_version": "1.4.0",
      "model_name": "VBoxModel",
      "state": {
       "children": [
        "IPY_MODEL_30951e5b9fba48edba688d70e9712d01"
       ],
       "layout": "IPY_MODEL_7ffa67f1dec74172a21b0bbe78f5b115"
      }
     },
     "d7b5b7034f744be6ac802b05a7f9d487": {
      "model_module": "@jupyter-widgets/base",
      "model_module_version": "1.1.0",
      "model_name": "LayoutModel",
      "state": {
       "width": "20%"
      }
     },
     "d84baeb1685243f484a7bde09e103814": {
      "model_module": "@jupyter-widgets/base",
      "model_module_version": "1.1.0",
      "model_name": "LayoutModel",
      "state": {
       "width": "400px"
      }
     },
     "d8845f06a5a341a99a8c49d9867a3e98": {
      "model_module": "@jupyter-widgets/base",
      "model_module_version": "1.1.0",
      "model_name": "LayoutModel",
      "state": {}
     },
     "d886493be3b245dcbc38337f8206b41b": {
      "model_module": "@jupyter-widgets/controls",
      "model_module_version": "1.4.0",
      "model_name": "ButtonStyleModel",
      "state": {}
     },
     "d8958cb97d384167a89d8671434d6a33": {
      "model_module": "@jupyter-widgets/controls",
      "model_module_version": "1.4.0",
      "model_name": "SelectMultipleModel",
      "state": {
       "_options_labels": [
        "Good data, use with confidence",
        "Marginal data, Useful, but look at other QA information",
        "Snow/Ice Target covered with snow/ice",
        "Cloudy data, Target not visible, covered with cloud"
       ],
       "description": "Description",
       "index": [
        0,
        1
       ],
       "layout": "IPY_MODEL_a0590c75f52c4816b053bba563b67d07",
       "rows": 4,
       "style": "IPY_MODEL_3d14843199d0442d841213d41e8a929d"
      }
     },
     "d89a35070a6944979d33e93f4fa83b31": {
      "model_module": "@jupyter-widgets/base",
      "model_module_version": "1.1.0",
      "model_name": "LayoutModel",
      "state": {}
     },
     "d8b63eac71e749f4ad0481dda5a18fcd": {
      "model_module": "@jupyter-widgets/base",
      "model_module_version": "1.1.0",
      "model_name": "LayoutModel",
      "state": {}
     },
     "d8cdf810f7914100857fa2db26db29bd": {
      "model_module": "@jupyter-widgets/controls",
      "model_module_version": "1.4.0",
      "model_name": "ButtonModel",
      "state": {
       "description": "Select ALL",
       "layout": "IPY_MODEL_53c4f94f449141ecb32e8b4f502610e4",
       "style": "IPY_MODEL_cbd2addc97cc44b5b6f02e115a12bda4"
      }
     },
     "d8d163eda7a945c7abb863a591d5ae07": {
      "model_module": "@jupyter-widgets/controls",
      "model_module_version": "1.4.0",
      "model_name": "ButtonModel",
      "state": {
       "description": "Create mask",
       "layout": "IPY_MODEL_611cc2ffe82846f2b07232844c3229d4",
       "style": "IPY_MODEL_8d21980aecd54a83b60b4862aa461ee8"
      }
     },
     "d8dbeffe925a42b8932f18708b979f38": {
      "model_module": "@jupyter-widgets/base",
      "model_module_version": "1.1.0",
      "model_name": "LayoutModel",
      "state": {
       "width": "20%"
      }
     },
     "d8e391f6a98e447cb193560bd4ece120": {
      "model_module": "@jupyter-widgets/base",
      "model_module_version": "1.1.0",
      "model_name": "LayoutModel",
      "state": {
       "width": "30%"
      }
     },
     "d902963b0573403294aad2db554686d0": {
      "model_module": "@jupyter-widgets/controls",
      "model_module_version": "1.4.0",
      "model_name": "HTMLModel",
      "state": {
       "description": "QA layer:",
       "layout": "IPY_MODEL_cb1452f68d764cfd81e12530538ace3e",
       "style": "IPY_MODEL_fb663ad86f454a718b1377ae592fb93c",
       "value": "<b>_1_km_16_days_VI_Quality</b>"
      }
     },
     "d9585e819d194337a4263a52d8456ffc": {
      "model_module": "@jupyter-widgets/base",
      "model_module_version": "1.1.0",
      "model_name": "LayoutModel",
      "state": {
       "width": "400px"
      }
     },
     "d97724099817420890773dbae80f4783": {
      "model_module": "@jupyter-widgets/controls",
      "model_module_version": "1.4.0",
      "model_name": "ProgressStyleModel",
      "state": {
       "description_width": "initial"
      }
     },
     "d9a64b03db9148be924848d1ce2ab435": {
      "model_module": "@jupyter-widgets/base",
      "model_module_version": "1.1.0",
      "model_name": "LayoutModel",
      "state": {
       "width": "20%"
      }
     },
     "d9c25d636d0e4721bed5f4de31f22ea9": {
      "model_module": "@jupyter-widgets/controls",
      "model_module_version": "1.4.0",
      "model_name": "HTMLModel",
      "state": {
       "description": "QA layer:",
       "layout": "IPY_MODEL_d5ffc504e0914b6ab711dca0d650bd5a",
       "style": "IPY_MODEL_f711c6e3bceb4280a32017af3e51d9ca",
       "value": "<b>_1_km_16_days_pixel_reliability</b>"
      }
     },
     "da0a222ccb9e429bbd513a5c7cbb3edd": {
      "model_module": "@jupyter-widgets/base",
      "model_module_version": "1.1.0",
      "model_name": "LayoutModel",
      "state": {
       "width": "20%"
      }
     },
     "da5da6bd3060480faa51ee678c64df09": {
      "model_module": "@jupyter-widgets/controls",
      "model_module_version": "1.4.0",
      "model_name": "VBoxModel",
      "state": {
       "children": [
        "IPY_MODEL_43138292ae9a453e99e3e5aa576d99f9"
       ],
       "layout": "IPY_MODEL_6e96e55d28fa4063a44f26efc9f069a8"
      }
     },
     "da89436ee9fa4b6bb8a13c5dd234d56e": {
      "model_module": "@jupyter-widgets/base",
      "model_module_version": "1.1.0",
      "model_name": "LayoutModel",
      "state": {
       "width": "20%"
      }
     },
     "dac7cc1255be42e8b5ea7a20bd0a61a4": {
      "model_module": "@jupyter-widgets/base",
      "model_module_version": "1.1.0",
      "model_name": "LayoutModel",
      "state": {}
     },
     "dafe25788ab446be8246ee5a1125599f": {
      "model_module": "@jupyter-widgets/controls",
      "model_module_version": "1.4.0",
      "model_name": "DescriptionStyleModel",
      "state": {
       "description_width": ""
      }
     },
     "db0ed4ef4d8042aebb776312a67901e3": {
      "model_module": "@jupyter-widgets/controls",
      "model_module_version": "1.4.0",
      "model_name": "ButtonStyleModel",
      "state": {}
     },
     "db29418121a54585abf29d620bfc6367": {
      "model_module": "@jupyter-widgets/base",
      "model_module_version": "1.1.0",
      "model_name": "LayoutModel",
      "state": {}
     },
     "db42272650c34bec8c2544df16fb4596": {
      "model_module": "@jupyter-widgets/base",
      "model_module_version": "1.1.0",
      "model_name": "LayoutModel",
      "state": {
       "width": "20%"
      }
     },
     "db8c3d04399d4b90956a94ce6602ee60": {
      "model_module": "@jupyter-widgets/controls",
      "model_module_version": "1.4.0",
      "model_name": "ButtonModel",
      "state": {
       "description": "Select ALL",
       "layout": "IPY_MODEL_7bb2ac8a8952408fa68c257ab8388df0",
       "style": "IPY_MODEL_017ea2dea1b84f8fbaf99081aced9d28"
      }
     },
     "dbfdadf97dcf4308bdf8cd6e1bfb57e6": {
      "model_module": "@jupyter-widgets/base",
      "model_module_version": "1.1.0",
      "model_name": "LayoutModel",
      "state": {}
     },
     "dc2ad029ac5449fc9688bc4c907fc1a9": {
      "model_module": "@jupyter-widgets/controls",
      "model_module_version": "1.4.0",
      "model_name": "DescriptionStyleModel",
      "state": {
       "description_width": "initial"
      }
     },
     "dc6ef7c43dba40cdb1f28a750126b920": {
      "model_module": "@jupyter-widgets/controls",
      "model_module_version": "1.4.0",
      "model_name": "SelectModel",
      "state": {
       "_options_labels": [
        "MODLAND",
        "VI Usefulness",
        "Aerosol Quantity",
        "Adjacent cloud detected",
        "Atmosphere BRDF Correction",
        "Mixed Clouds",
        "Land/Water Mask",
        "Possible snow/ice",
        "Possible shadow"
       ],
       "description": "QA Parameter name:",
       "index": 0,
       "layout": "IPY_MODEL_bc2fabf5c3ee48f6be2af42ce9102e14",
       "rows": 9,
       "style": "IPY_MODEL_bb476f47b308487ea9e64ab89f7b5712"
      }
     },
     "dd0579df910e4ef19049b8d787b240c3": {
      "model_module": "@jupyter-widgets/controls",
      "model_module_version": "1.4.0",
      "model_name": "ButtonModel",
      "state": {
       "description": "Default selection",
       "layout": "IPY_MODEL_491a220489fa4252ac9c9b8533a567ef",
       "style": "IPY_MODEL_76b421e5eb954d4095e2e40bf34d96e9"
      }
     },
     "dd16c4d14d504e68b243d7ac165d6d5e": {
      "model_module": "@jupyter-widgets/controls",
      "model_module_version": "1.4.0",
      "model_name": "SelectMultipleModel",
      "state": {
       "_options_labels": [
        "VI produced, good quality",
        "VI produced, but check other QA",
        "Pixel produced, but most probably cloudy",
        "Pixel not produced due to other reasons than clouds"
       ],
       "description": "Description",
       "index": [
        0
       ],
       "layout": "IPY_MODEL_6df5c536eb4643dc951c5c1ad39baf82",
       "rows": 4,
       "style": "IPY_MODEL_7281f93790b64aba85d1816157b0ef1a"
      }
     },
     "dd304b9352484e1f8bc5b79b84057d7d": {
      "model_module": "@jupyter-widgets/base",
      "model_module_version": "1.1.0",
      "model_name": "LayoutModel",
      "state": {
       "width": "400px"
      }
     },
     "dd54b9e2b947419e8634d942676ab5a6": {
      "model_module": "@jupyter-widgets/controls",
      "model_module_version": "1.4.0",
      "model_name": "DescriptionStyleModel",
      "state": {
       "description_width": ""
      }
     },
     "dd8545e0de8d43e6b469931e36bd6154": {
      "model_module": "@jupyter-widgets/base",
      "model_module_version": "1.1.0",
      "model_name": "LayoutModel",
      "state": {
       "width": "20%"
      }
     },
     "dda17bd7d46a4faf89875b5b9f634c95": {
      "model_module": "@jupyter-widgets/controls",
      "model_module_version": "1.4.0",
      "model_name": "DescriptionStyleModel",
      "state": {
       "description_width": ""
      }
     },
     "dda50d3d990b4fc39cd0527d0fd8ad8c": {
      "model_module": "@jupyter-widgets/controls",
      "model_module_version": "1.4.0",
      "model_name": "DescriptionStyleModel",
      "state": {
       "description_width": "initial"
      }
     },
     "ddc0715aec5c4436b9f6a7732d4d1cc6": {
      "model_module": "@jupyter-widgets/base",
      "model_module_version": "1.1.0",
      "model_name": "LayoutModel",
      "state": {}
     },
     "ddcd74c306f24425ad759cc02711ccd6": {
      "model_module": "@jupyter-widgets/controls",
      "model_module_version": "1.4.0",
      "model_name": "SelectModel",
      "state": {
       "_options_labels": [
        "MODLAND",
        "VI Usefulness",
        "Aerosol Quantity",
        "Adjacent cloud detected",
        "Atmosphere BRDF Correction",
        "Mixed Clouds",
        "Land/Water Mask",
        "Possible snow/ice",
        "Possible shadow"
       ],
       "description": "QA Parameter name:",
       "index": 0,
       "layout": "IPY_MODEL_3400e41ba610485e8742c717649d34a0",
       "rows": 9,
       "style": "IPY_MODEL_83363ceb73b04701bfb15c011990cbc4"
      }
     },
     "ddf22bf0de2d40d1b8198e88c934519d": {
      "model_module": "@jupyter-widgets/base",
      "model_module_version": "1.1.0",
      "model_name": "LayoutModel",
      "state": {
       "width": "50%"
      }
     },
     "ddf2e8812e864a5a8a90de257bead483": {
      "model_module": "@jupyter-widgets/base",
      "model_module_version": "1.1.0",
      "model_name": "LayoutModel",
      "state": {
       "width": "20%"
      }
     },
     "de04e1aca6854f76afb599dcc005f678": {
      "model_module": "@jupyter-widgets/controls",
      "model_module_version": "1.4.0",
      "model_name": "HBoxModel",
      "state": {
       "children": [
        "IPY_MODEL_7c2e1d3d25d6480db3da49114058d706",
        "IPY_MODEL_e5ca5654d00b4552bcbf252f09e2f27d",
        "IPY_MODEL_f2ecce47635343b2a02e78a9ed3e4dae"
       ],
       "layout": "IPY_MODEL_bf989bf2e3244e4885f826c38234beb3"
      }
     },
     "de6c210076fc4243b7049c4e328f9a71": {
      "model_module": "@jupyter-widgets/controls",
      "model_module_version": "1.4.0",
      "model_name": "VBoxModel",
      "state": {
       "children": [
        "IPY_MODEL_e604ed83b29d46f091f72d68288c0160"
       ],
       "layout": "IPY_MODEL_ee0b560818f744c7b0817bc33c95d5eb"
      }
     },
     "de6e345b6a5d4df787f6934093e58f61": {
      "model_module": "@jupyter-widgets/controls",
      "model_module_version": "1.4.0",
      "model_name": "ProgressStyleModel",
      "state": {
       "description_width": "initial"
      }
     },
     "de90c9ac99954c22b22c7c4f2586ec4b": {
      "model_module": "@jupyter-widgets/base",
      "model_module_version": "1.1.0",
      "model_name": "LayoutModel",
      "state": {
       "width": "20%"
      }
     },
     "dee0bbf0664f465798c1393743da58db": {
      "model_module": "@jupyter-widgets/base",
      "model_module_version": "1.1.0",
      "model_name": "LayoutModel",
      "state": {
       "width": "20%"
      }
     },
     "def9089991f44e4fa7264e0de5ab4995": {
      "model_module": "@jupyter-widgets/controls",
      "model_module_version": "1.4.0",
      "model_name": "ButtonModel",
      "state": {
       "description": "Select ALL",
       "layout": "IPY_MODEL_1b8dbc569ff84478881fa431c104181e",
       "style": "IPY_MODEL_c2bf878ebf664ff5b0d158bbf7c0028d"
      }
     },
     "df339e73ce634f0682edcbf2f47e31c0": {
      "model_module": "@jupyter-widgets/base",
      "model_module_version": "1.1.0",
      "model_name": "LayoutModel",
      "state": {
       "width": "400px"
      }
     },
     "df67c2efcefb462f83e5f4ac72393475": {
      "model_module": "@jupyter-widgets/controls",
      "model_module_version": "1.4.0",
      "model_name": "DescriptionStyleModel",
      "state": {
       "description_width": "initial"
      }
     },
     "df6e91236a524068a02869e80f3bd793": {
      "model_module": "@jupyter-widgets/controls",
      "model_module_version": "1.4.0",
      "model_name": "ButtonModel",
      "state": {
       "description": "Select ALL",
       "layout": "IPY_MODEL_ffa831ff80c54237839e7a6d95ef86ef",
       "style": "IPY_MODEL_79d38e7bbfde4b86b08ec639eacc55f6"
      }
     },
     "df7496f883ad41e7b3503e1893fe69bb": {
      "model_module": "@jupyter-widgets/base",
      "model_module_version": "1.1.0",
      "model_name": "LayoutModel",
      "state": {
       "width": "400px"
      }
     },
     "df9ba61d1a0140a4968f14f350ad336d": {
      "model_module": "@jupyter-widgets/base",
      "model_module_version": "1.1.0",
      "model_name": "LayoutModel",
      "state": {
       "height": "350px",
       "width": "99%"
      }
     },
     "dfbffee918c44d21b3310380e0c682c7": {
      "model_module": "@jupyter-widgets/controls",
      "model_module_version": "1.4.0",
      "model_name": "DescriptionStyleModel",
      "state": {
       "description_width": "initial"
      }
     },
     "dfdcc3376b9547a78f049ada75850a63": {
      "model_module": "@jupyter-widgets/base",
      "model_module_version": "1.1.0",
      "model_name": "LayoutModel",
      "state": {}
     },
     "dfeb91fa296b47d5b5604cd40dd38dc2": {
      "model_module": "@jupyter-widgets/controls",
      "model_module_version": "1.4.0",
      "model_name": "ButtonStyleModel",
      "state": {}
     },
     "e009d2afe7384071ba457eff78633f6f": {
      "model_module": "@jupyter-widgets/base",
      "model_module_version": "1.1.0",
      "model_name": "LayoutModel",
      "state": {}
     },
     "e062cd00c75841a1ad39794e58087a5f": {
      "model_module": "@jupyter-widgets/controls",
      "model_module_version": "1.4.0",
      "model_name": "SelectMultipleModel",
      "state": {
       "_options_labels": [
        "VI produced, good quality",
        "VI produced, but check other QA",
        "Pixel produced, but most probably cloudy",
        "Pixel not produced due to other reasons than clouds"
       ],
       "description": "Description",
       "index": [
        0
       ],
       "layout": "IPY_MODEL_8701aeed8e404a549311d57e3cbce686",
       "rows": 4,
       "style": "IPY_MODEL_eff34cca477f4fe49289c25c89aa9dba"
      }
     },
     "e0ea05f9721a4de094a25709e95f2ac3": {
      "model_module": "@jupyter-widgets/controls",
      "model_module_version": "1.4.0",
      "model_name": "ButtonModel",
      "state": {
       "description": "Default selection",
       "layout": "IPY_MODEL_5a74e4f8221d45ef96c8d96ff081be48",
       "style": "IPY_MODEL_d1daf33ec1054034ae4c8f42c30d6dbb"
      }
     },
     "e0f00a2bfd064f4a90860e7d7ed7c830": {
      "model_module": "@jupyter-widgets/controls",
      "model_module_version": "1.4.0",
      "model_name": "HBoxModel",
      "state": {
       "children": [
        "IPY_MODEL_63e9f5dbc2dc45d3a0f3440639b9b539",
        "IPY_MODEL_98ad305165f64a4cb64ccb95177681be"
       ],
       "layout": "IPY_MODEL_59a0302633d74b41b7e9ea699ec9fc0c"
      }
     },
     "e11e1279d51a4591b57a941916031741": {
      "model_module": "@jupyter-widgets/controls",
      "model_module_version": "1.4.0",
      "model_name": "ButtonStyleModel",
      "state": {}
     },
     "e1237b882c1c4eea87212a766abefd87": {
      "model_module": "@jupyter-widgets/controls",
      "model_module_version": "1.4.0",
      "model_name": "ButtonStyleModel",
      "state": {}
     },
     "e147d3abae9a49f2a9700ba6faacdc21": {
      "model_module": "@jupyter-widgets/base",
      "model_module_version": "1.1.0",
      "model_name": "LayoutModel",
      "state": {
       "height": "200px",
       "width": "99%"
      }
     },
     "e176812e24284ab7a161cfaf7c94608c": {
      "model_module": "@jupyter-widgets/controls",
      "model_module_version": "1.4.0",
      "model_name": "ProgressStyleModel",
      "state": {
       "description_width": "initial"
      }
     },
     "e1bdab738c0f42859222b24f72aa9364": {
      "model_module": "@jupyter-widgets/base",
      "model_module_version": "1.1.0",
      "model_name": "LayoutModel",
      "state": {}
     },
     "e1cbb58cff9c4294a0ea58df70655b2b": {
      "model_module": "@jupyter-widgets/controls",
      "model_module_version": "1.4.0",
      "model_name": "HBoxModel",
      "state": {
       "children": [
        "IPY_MODEL_9cf6ed325e5f496ebaeda994d4ac4503",
        "IPY_MODEL_15911de183c24d57a83ec5de479584f4",
        "IPY_MODEL_ea4005d910474883a8088bfc768b5d83"
       ],
       "layout": "IPY_MODEL_99de7d72fbd143f0b96f5ef97328a8a2"
      }
     },
     "e1f06265b35d485886bdb2805469c66e": {
      "model_module": "@jupyter-widgets/controls",
      "model_module_version": "1.4.0",
      "model_name": "DescriptionStyleModel",
      "state": {
       "description_width": "initial"
      }
     },
     "e1fc1647f6644814b341305b0b79af17": {
      "model_module": "@jupyter-widgets/base",
      "model_module_version": "1.1.0",
      "model_name": "LayoutModel",
      "state": {
       "width": "20%"
      }
     },
     "e2745682ea334edfad94031610851668": {
      "model_module": "@jupyter-widgets/controls",
      "model_module_version": "1.4.0",
      "model_name": "ButtonStyleModel",
      "state": {}
     },
     "e2afa1114b5c4535abcb3b0b6a953639": {
      "model_module": "@jupyter-widgets/base",
      "model_module_version": "1.1.0",
      "model_name": "LayoutModel",
      "state": {
       "width": "50%"
      }
     },
     "e2d6249afae645c3bfd37f64c299ef81": {
      "model_module": "@jupyter-widgets/controls",
      "model_module_version": "1.4.0",
      "model_name": "ButtonStyleModel",
      "state": {}
     },
     "e3199631e1e3499ba50ed9c595d68ca2": {
      "model_module": "@jupyter-widgets/base",
      "model_module_version": "1.1.0",
      "model_name": "LayoutModel",
      "state": {
       "width": "20%"
      }
     },
     "e319e1f2c2e5485ba5b7a05063365b5f": {
      "model_module": "@jupyter-widgets/base",
      "model_module_version": "1.1.0",
      "model_name": "LayoutModel",
      "state": {}
     },
     "e31c5c62ae9a416991daf9542de4fa26": {
      "model_module": "@jupyter-widgets/controls",
      "model_module_version": "1.4.0",
      "model_name": "HBoxModel",
      "state": {
       "children": [
        "IPY_MODEL_fee63d18b90a4793b1ccd47562c68972",
        "IPY_MODEL_ff2009148c534fbf87cdd7b00be534c9"
       ],
       "layout": "IPY_MODEL_d27670f454d24a4da99f115cf5f47f3a"
      }
     },
     "e32843efc1d749bfb9e33d91ab4465df": {
      "model_module": "@jupyter-widgets/controls",
      "model_module_version": "1.4.0",
      "model_name": "VBoxModel",
      "state": {
       "children": [
        "IPY_MODEL_562d7240874341a7b54357e9c462ea4f"
       ],
       "layout": "IPY_MODEL_5f0c7ceb362e4ed7933bb7b388a15d01"
      }
     },
     "e3316da9f47046fcbefb0ca0dd35cabd": {
      "model_module": "@jupyter-widgets/controls",
      "model_module_version": "1.4.0",
      "model_name": "ButtonModel",
      "state": {
       "description": "QA analytics",
       "layout": "IPY_MODEL_46e65524c60b4e9d91534eb746915907",
       "style": "IPY_MODEL_69bf364762ef4985b297d884e531107e"
      }
     },
     "e34aece27a4f4b40bb31d79d1a49aa74": {
      "model_module": "@jupyter-widgets/base",
      "model_module_version": "1.1.0",
      "model_name": "LayoutModel",
      "state": {
       "width": "400px"
      }
     },
     "e36660d93b8047728a1d8e0db312ded0": {
      "model_module": "@jupyter-widgets/base",
      "model_module_version": "1.1.0",
      "model_name": "LayoutModel",
      "state": {
       "width": "400px"
      }
     },
     "e37bb57b33a747b4b931a7e75c914574": {
      "model_module": "@jupyter-widgets/base",
      "model_module_version": "1.1.0",
      "model_name": "LayoutModel",
      "state": {
       "width": "20%"
      }
     },
     "e396ceb38e7943fa999b91562e39a202": {
      "model_module": "@jupyter-widgets/controls",
      "model_module_version": "1.4.0",
      "model_name": "ButtonStyleModel",
      "state": {}
     },
     "e3d1db86432d421f91883d39ddd828c9": {
      "model_module": "@jupyter-widgets/controls",
      "model_module_version": "1.4.0",
      "model_name": "HBoxModel",
      "state": {
       "children": [
        "IPY_MODEL_def9089991f44e4fa7264e0de5ab4995",
        "IPY_MODEL_07677bb86e5a4cf39a7cf38f671dea3c",
        "IPY_MODEL_1806bda9153b426dbc293361a9563bfe"
       ],
       "layout": "IPY_MODEL_e9c657ee850c435294f33efbac12f5a5"
      }
     },
     "e3f656902f834251a2e068eb23634dff": {
      "model_module": "@jupyter-widgets/base",
      "model_module_version": "1.1.0",
      "model_name": "LayoutModel",
      "state": {
       "width": "50%"
      }
     },
     "e40d004346bc4513a1781b83bf9ee0af": {
      "model_module": "@jupyter-widgets/controls",
      "model_module_version": "1.4.0",
      "model_name": "ButtonModel",
      "state": {
       "description": "QA analytics",
       "layout": "IPY_MODEL_4807db10e0a94c78926726749d8195c0",
       "style": "IPY_MODEL_412e3e6934c44f4fae33b06a50da8ca1"
      }
     },
     "e425180bae6d47c8bf2c1eeaaf14292c": {
      "model_module": "@jupyter-widgets/controls",
      "model_module_version": "1.4.0",
      "model_name": "ButtonStyleModel",
      "state": {}
     },
     "e4af34dfdc9c4211a64463439ee76043": {
      "model_module": "@jupyter-widgets/base",
      "model_module_version": "1.1.0",
      "model_name": "LayoutModel",
      "state": {}
     },
     "e4c362775fd241129f8b22651d0ca1d8": {
      "model_module": "@jupyter-widgets/controls",
      "model_module_version": "1.4.0",
      "model_name": "DescriptionStyleModel",
      "state": {
       "description_width": ""
      }
     },
     "e4c4a3c9872749b0959ad08734ed11d8": {
      "model_module": "@jupyter-widgets/controls",
      "model_module_version": "1.4.0",
      "model_name": "VBoxModel",
      "state": {
       "children": [
        "IPY_MODEL_87b80f7a56b2494db76ae5d785c22930"
       ],
       "layout": "IPY_MODEL_fcd93c38e5b5486d91f623aba2e32f35"
      }
     },
     "e4da7748e982466d891181a844c87a16": {
      "model_module": "@jupyter-widgets/base",
      "model_module_version": "1.1.0",
      "model_name": "LayoutModel",
      "state": {}
     },
     "e4ffb4de4d7e4fdcaa5c674888d3a612": {
      "model_module": "@jupyter-widgets/controls",
      "model_module_version": "1.4.0",
      "model_name": "DescriptionStyleModel",
      "state": {
       "description_width": "initial"
      }
     },
     "e531b1d7c2714ac2a6b022b9f2663561": {
      "model_module": "@jupyter-widgets/controls",
      "model_module_version": "1.4.0",
      "model_name": "SelectMultipleModel",
      "state": {
       "_options_labels": [
        "VI produced, good quality",
        "VI produced, but check other QA",
        "Pixel produced, but most probably cloudy",
        "Pixel not produced due to other reasons than clouds"
       ],
       "description": "Description",
       "index": [
        0
       ],
       "layout": "IPY_MODEL_3fd8c6a02e03484e994a9b758dbaf38d",
       "rows": 4,
       "style": "IPY_MODEL_f01fdf39a9914ac1975b01289f2f0b30"
      }
     },
     "e55a20e23f0b47c681c28c2de5b4d609": {
      "model_module": "@jupyter-widgets/controls",
      "model_module_version": "1.4.0",
      "model_name": "DescriptionStyleModel",
      "state": {
       "description_width": ""
      }
     },
     "e58434f7ebe341298b35cb438fc6dbcb": {
      "model_module": "@jupyter-widgets/base",
      "model_module_version": "1.1.0",
      "model_name": "LayoutModel",
      "state": {}
     },
     "e58cd7683d76480a812121d34e2beee4": {
      "model_module": "@jupyter-widgets/base",
      "model_module_version": "1.1.0",
      "model_name": "LayoutModel",
      "state": {}
     },
     "e5930db6f3844ac7a63fdc6f206f9949": {
      "model_module": "@jupyter-widgets/base",
      "model_module_version": "1.1.0",
      "model_name": "LayoutModel",
      "state": {}
     },
     "e5b7d6789f5c472fbe575c7011a23ada": {
      "model_module": "@jupyter-widgets/base",
      "model_module_version": "1.1.0",
      "model_name": "LayoutModel",
      "state": {
       "width": "20%"
      }
     },
     "e5ca5654d00b4552bcbf252f09e2f27d": {
      "model_module": "@jupyter-widgets/controls",
      "model_module_version": "1.4.0",
      "model_name": "ButtonModel",
      "state": {
       "description": "Default selection",
       "layout": "IPY_MODEL_5700af2538844a6fb304d9fedcfa6949",
       "style": "IPY_MODEL_42abd81e59de41efbfd0dbb588380c0f"
      }
     },
     "e5f06704316f40e090093a2ae94a7468": {
      "model_module": "@jupyter-widgets/controls",
      "model_module_version": "1.4.0",
      "model_name": "ButtonStyleModel",
      "state": {}
     },
     "e5f2107ce39c497cbfb4e0990b864cbb": {
      "model_module": "@jupyter-widgets/controls",
      "model_module_version": "1.4.0",
      "model_name": "DescriptionStyleModel",
      "state": {
       "description_width": "initial"
      }
     },
     "e604ed83b29d46f091f72d68288c0160": {
      "model_module": "@jupyter-widgets/controls",
      "model_module_version": "1.4.0",
      "model_name": "SelectModel",
      "state": {
       "_options_labels": [
        "MODLAND",
        "VI Usefulness",
        "Aerosol Quantity",
        "Adjacent cloud detected",
        "Atmosphere BRDF Correction",
        "Mixed Clouds",
        "Land/Water Mask",
        "Possible snow/ice",
        "Possible shadow"
       ],
       "description": "QA Parameter name:",
       "index": 0,
       "layout": "IPY_MODEL_b0a8acdcc9a3443d8b5ee8d233533e1b",
       "rows": 9,
       "style": "IPY_MODEL_f7575b00918a424e885abef923cc7c20"
      }
     },
     "e6056ff3b2224e0e9384f9253359dd3c": {
      "model_module": "@jupyter-widgets/controls",
      "model_module_version": "1.4.0",
      "model_name": "DescriptionStyleModel",
      "state": {
       "description_width": "initial"
      }
     },
     "e61a733a94d346aaab0842aaa1629981": {
      "model_module": "@jupyter-widgets/controls",
      "model_module_version": "1.4.0",
      "model_name": "HBoxModel",
      "state": {
       "children": [
        "IPY_MODEL_df6e91236a524068a02869e80f3bd793",
        "IPY_MODEL_7fd1e893a5d84fe48fb7c0bc37c2122e",
        "IPY_MODEL_f7c3455c411b4621b6905cd9493883ae"
       ],
       "layout": "IPY_MODEL_badbe5fb620746de98be84685a415823"
      }
     },
     "e62231300ede40e689c9f482cddd0536": {
      "model_module": "@jupyter-widgets/controls",
      "model_module_version": "1.4.0",
      "model_name": "ButtonModel",
      "state": {
       "description": "QA analytics",
       "layout": "IPY_MODEL_18b7dbbb7f0d4990bd1a35bf4c32a615",
       "style": "IPY_MODEL_5716f2f99761400a8f11999439ffc8a7"
      }
     },
     "e63f4382f99e4a26b38ad6cb347da85a": {
      "model_module": "@jupyter-widgets/controls",
      "model_module_version": "1.4.0",
      "model_name": "HTMLModel",
      "state": {
       "description": "QA layer:",
       "layout": "IPY_MODEL_d6870dd14f6a4b99afb7833169a4e923",
       "style": "IPY_MODEL_ebfdd9c8efcc4b70b0d3f551ab772545",
       "value": "<b>_1_km_16_days_VI_Quality</b>"
      }
     },
     "e66879a0ad9741dbb5fbf64d0b8084d2": {
      "model_module": "@jupyter-widgets/base",
      "model_module_version": "1.1.0",
      "model_name": "LayoutModel",
      "state": {}
     },
     "e6721040263d4125b87a00c211a3dce6": {
      "model_module": "@jupyter-widgets/controls",
      "model_module_version": "1.4.0",
      "model_name": "ButtonStyleModel",
      "state": {}
     },
     "e6c32407b25a47709440802adc753a50": {
      "model_module": "@jupyter-widgets/controls",
      "model_module_version": "1.4.0",
      "model_name": "VBoxModel",
      "state": {
       "children": [
        "IPY_MODEL_cad2f12102eb490f99898005c693a621"
       ],
       "layout": "IPY_MODEL_7007bdaf74a74596ae5465eb1f642384"
      }
     },
     "e6cd23e9ba2c4fb6be08d3368ee20853": {
      "model_module": "@jupyter-widgets/controls",
      "model_module_version": "1.4.0",
      "model_name": "SelectModel",
      "state": {
       "_options_labels": [
        "MODLAND"
       ],
       "description": "QA Parameter name:",
       "index": 0,
       "layout": "IPY_MODEL_dd304b9352484e1f8bc5b79b84057d7d",
       "rows": 1,
       "style": "IPY_MODEL_a09cd3b9c5c44bc2936deb28da726826"
      }
     },
     "e712a3c96b9e4389bbfdfc59e803156e": {
      "model_module": "@jupyter-widgets/controls",
      "model_module_version": "1.4.0",
      "model_name": "ButtonModel",
      "state": {
       "description": "Default selection",
       "layout": "IPY_MODEL_64a6650c14ff4b3cb8f65a9c3d8d690c",
       "style": "IPY_MODEL_a70b9743983b4f9a91ff058e20b486ce"
      }
     },
     "e74a089bb90543a990e964dd0af92db3": {
      "model_module": "@jupyter-widgets/base",
      "model_module_version": "1.1.0",
      "model_name": "LayoutModel",
      "state": {
       "width": "49%"
      }
     },
     "e74fdd9a8be84c8d983588d68f6aaf6d": {
      "model_module": "@jupyter-widgets/controls",
      "model_module_version": "1.4.0",
      "model_name": "HTMLModel",
      "state": {
       "description": "QA layer:",
       "layout": "IPY_MODEL_a79a6c886eb546a680c33d2e3ec1c7b9",
       "style": "IPY_MODEL_738e8f2485704aceba8d864ed7313867",
       "value": "<b>_1_km_16_days_VI_Quality</b>"
      }
     },
     "e75016b253fd40feab4a47552b76ed1f": {
      "model_module": "@jupyter-widgets/base",
      "model_module_version": "1.1.0",
      "model_name": "LayoutModel",
      "state": {
       "width": "30%"
      }
     },
     "e75ebf4d18ab435c9e6688d337276072": {
      "model_module": "@jupyter-widgets/controls",
      "model_module_version": "1.4.0",
      "model_name": "ButtonModel",
      "state": {
       "description": "Select ALL",
       "layout": "IPY_MODEL_ef78dda1f536462ba94e2579bcb1040d",
       "style": "IPY_MODEL_ffc63419d5a94b95a819551e21f87f95"
      }
     },
     "e7b6e98612994d08bfaf7cf80d82482c": {
      "model_module": "@jupyter-widgets/controls",
      "model_module_version": "1.4.0",
      "model_name": "DescriptionStyleModel",
      "state": {
       "description_width": "initial"
      }
     },
     "e7c9dbb596b84bbea7ddd323ea1e42a3": {
      "model_module": "@jupyter-widgets/controls",
      "model_module_version": "1.4.0",
      "model_name": "SelectModel",
      "state": {
       "_options_labels": [
        "MODLAND",
        "VI Usefulness",
        "Aerosol Quantity",
        "Adjacent cloud detected",
        "Atmosphere BRDF Correction",
        "Mixed Clouds",
        "Land/Water Mask",
        "Possible snow/ice",
        "Possible shadow"
       ],
       "description": "QA Parameter name:",
       "index": 0,
       "layout": "IPY_MODEL_e34aece27a4f4b40bb31d79d1a49aa74",
       "rows": 9,
       "style": "IPY_MODEL_75cfdd1f449c4b97b3ffa779898f157e"
      }
     },
     "e7cdb29f45a94e04b1a196fe62b40ef6": {
      "model_module": "@jupyter-widgets/base",
      "model_module_version": "1.1.0",
      "model_name": "LayoutModel",
      "state": {
       "width": "30%"
      }
     },
     "e7e45b1e058c4e95912e0d76594fa03c": {
      "model_module": "@jupyter-widgets/controls",
      "model_module_version": "1.4.0",
      "model_name": "ButtonModel",
      "state": {
       "description": "Default selection",
       "layout": "IPY_MODEL_f1a3e0a809bc416e8a6f91bb971bbb00",
       "style": "IPY_MODEL_2903db63948d404d961d236b79eafd5f"
      }
     },
     "e82947d0fdcb4772b42bf1a6e0e3f330": {
      "model_module": "@jupyter-widgets/base",
      "model_module_version": "1.1.0",
      "model_name": "LayoutModel",
      "state": {
       "width": "20%"
      }
     },
     "e84e0234305743a0880b8f545e24cee0": {
      "model_module": "@jupyter-widgets/controls",
      "model_module_version": "1.4.0",
      "model_name": "DescriptionStyleModel",
      "state": {
       "description_width": "initial"
      }
     },
     "e87ebd5f61ee420d9ef1c3c3b9a6abdd": {
      "model_module": "@jupyter-widgets/controls",
      "model_module_version": "1.4.0",
      "model_name": "ButtonModel",
      "state": {
       "description": "Select ALL",
       "layout": "IPY_MODEL_08fc074dda834c7184d1d721baa9f296",
       "style": "IPY_MODEL_8ad802d33e1742f484344acbe24ef20d"
      }
     },
     "e88b704d13b742578b9871147b745de6": {
      "model_module": "@jupyter-widgets/controls",
      "model_module_version": "1.4.0",
      "model_name": "VBoxModel",
      "state": {
       "children": [
        "IPY_MODEL_1957792f479c4b34ac3e25f9f5a990ae"
       ],
       "layout": "IPY_MODEL_9d23418ccd894690a5abed9e144c2abd"
      }
     },
     "e8e583fda1f44512bbd8dd95af9eacea": {
      "model_module": "@jupyter-widgets/base",
      "model_module_version": "1.1.0",
      "model_name": "LayoutModel",
      "state": {
       "height": "350px",
       "width": "99%"
      }
     },
     "e8fc7f1f018542b082928fdc5a7e57e6": {
      "model_module": "@jupyter-widgets/base",
      "model_module_version": "1.1.0",
      "model_name": "LayoutModel",
      "state": {
       "width": "400px"
      }
     },
     "e9358eddb9ce43a7959cee74cf907df8": {
      "model_module": "@jupyter-widgets/controls",
      "model_module_version": "1.4.0",
      "model_name": "SelectModel",
      "state": {
       "_options_labels": [
        "MODLAND",
        "VI Usefulness",
        "Aerosol Quantity",
        "Adjacent cloud detected",
        "Atmosphere BRDF Correction",
        "Mixed Clouds",
        "Land/Water Mask",
        "Possible snow/ice",
        "Possible shadow"
       ],
       "description": "QA Parameter name:",
       "index": 6,
       "layout": "IPY_MODEL_0257e0ad1aff4b3690a257c4b28dd7b7",
       "rows": 9,
       "style": "IPY_MODEL_cb88a70c67614772b9440cea9276926c"
      }
     },
     "e9528f60ec684fa5a50665aeba05c167": {
      "model_module": "@jupyter-widgets/controls",
      "model_module_version": "1.4.0",
      "model_name": "ButtonModel",
      "state": {
       "description": "Default selection",
       "layout": "IPY_MODEL_02662f2fc1c5418683082586e484a182",
       "style": "IPY_MODEL_ce2d9629825848588c70d42d1ca68c61"
      }
     },
     "e96258befb254b38ae6539ac63c26042": {
      "model_module": "@jupyter-widgets/base",
      "model_module_version": "1.1.0",
      "model_name": "LayoutModel",
      "state": {
       "width": "350px"
      }
     },
     "e9c48cc239954d60bf93455e721bb0ba": {
      "model_module": "@jupyter-widgets/controls",
      "model_module_version": "1.4.0",
      "model_name": "ButtonModel",
      "state": {
       "description": "Select ALL",
       "layout": "IPY_MODEL_8cfd6013f3404f1c9520d6f0139b422c",
       "style": "IPY_MODEL_514d3f03ec2940edbf88f9d421cd4dd8"
      }
     },
     "e9c657ee850c435294f33efbac12f5a5": {
      "model_module": "@jupyter-widgets/base",
      "model_module_version": "1.1.0",
      "model_name": "LayoutModel",
      "state": {}
     },
     "ea1e0454de2742bb9cc4875c9c2b7ba7": {
      "model_module": "@jupyter-widgets/controls",
      "model_module_version": "1.4.0",
      "model_name": "ButtonModel",
      "state": {
       "description": "Select ALL",
       "layout": "IPY_MODEL_932591a1b29242b69b6afb53a404363b",
       "style": "IPY_MODEL_f3f7d175bc124d52871d164454cc5b03"
      }
     },
     "ea4005d910474883a8088bfc768b5d83": {
      "model_module": "@jupyter-widgets/controls",
      "model_module_version": "1.4.0",
      "model_name": "ButtonModel",
      "state": {
       "description": "Create mask",
       "layout": "IPY_MODEL_36af847586f1410a8831434418832718",
       "style": "IPY_MODEL_0e04b0f48ded4fe0bae872ab793d4490"
      }
     },
     "eae92b97e30c450b84ea7040c80bbf9e": {
      "model_module": "@jupyter-widgets/controls",
      "model_module_version": "1.4.0",
      "model_name": "ButtonModel",
      "state": {
       "description": "Default selection",
       "layout": "IPY_MODEL_75569b4f127041acbff8d12684b4d325",
       "style": "IPY_MODEL_686b8bc137914495bcf2a48509daf7c6"
      }
     },
     "eaeac6e6ac244efab3a32059d10c16d8": {
      "model_module": "@jupyter-widgets/base",
      "model_module_version": "1.1.0",
      "model_name": "LayoutModel",
      "state": {
       "width": "20%"
      }
     },
     "eaf6e5b37029410697f9b50b14bf7fd2": {
      "model_module": "@jupyter-widgets/controls",
      "model_module_version": "1.4.0",
      "model_name": "DescriptionStyleModel",
      "state": {
       "description_width": ""
      }
     },
     "eaf7190eb830408fa36bd892ec5ea9d5": {
      "model_module": "@jupyter-widgets/controls",
      "model_module_version": "1.4.0",
      "model_name": "ProgressStyleModel",
      "state": {
       "description_width": "initial"
      }
     },
     "eb0441e1df5b4412848127a94137f59b": {
      "model_module": "@jupyter-widgets/controls",
      "model_module_version": "1.4.0",
      "model_name": "ProgressStyleModel",
      "state": {
       "description_width": "initial"
      }
     },
     "eb6465a0b6164b619244bf33d5675ccc": {
      "model_module": "@jupyter-widgets/controls",
      "model_module_version": "1.4.0",
      "model_name": "HTMLModel",
      "state": {
       "description": "QA layer:",
       "layout": "IPY_MODEL_2a4a5d52e1eb4a0abbe1d7d94e458ab5",
       "style": "IPY_MODEL_1293c5335dc04acfb3bc6bee8962fbc0",
       "value": "<b>_1_km_16_days_VI_Quality</b>"
      }
     },
     "eb6f94f265c64d638b86000b9aacda6b": {
      "model_module": "@jupyter-widgets/base",
      "model_module_version": "1.1.0",
      "model_name": "LayoutModel",
      "state": {
       "width": "350px"
      }
     },
     "eb966d7bf11945f1bb69a90911e5cc29": {
      "model_module": "@jupyter-widgets/controls",
      "model_module_version": "1.4.0",
      "model_name": "HBoxModel",
      "state": {
       "children": [
        "IPY_MODEL_7fdb599637eb47cea0494c3940c9be76",
        "IPY_MODEL_584c1e8f059947299210b5fdec6d287d",
        "IPY_MODEL_e62231300ede40e689c9f482cddd0536"
       ],
       "layout": "IPY_MODEL_96651f0c9a1844a9a7b8572c9b145310"
      }
     },
     "eb9f156cb07b4e32a9f20eb419bb97be": {
      "model_module": "@jupyter-widgets/controls",
      "model_module_version": "1.4.0",
      "model_name": "SelectMultipleModel",
      "state": {
       "_options_labels": [
        "VI produced, good quality",
        "VI produced, but check other QA",
        "Pixel produced, but most probably cloudy",
        "Pixel not produced due to other reasons than clouds"
       ],
       "description": "Description",
       "index": [
        0
       ],
       "layout": "IPY_MODEL_415689515de041919da605dfd0acce89",
       "rows": 4,
       "style": "IPY_MODEL_a6010c48e316496190249c12f4094ed5"
      }
     },
     "eb9f852e78974333a803c795fb010a03": {
      "model_module": "@jupyter-widgets/controls",
      "model_module_version": "1.4.0",
      "model_name": "HTMLModel",
      "state": {
       "description": "QA layer:",
       "layout": "IPY_MODEL_6fc2adbfaf02420fac62c070637c20d6",
       "style": "IPY_MODEL_4ee4fa227f87439ebb7219b1e94873bb",
       "value": "<b>_1_km_16_days_VI_Quality</b>"
      }
     },
     "eba5403057cf499ab7cebb2eb3d9cb70": {
      "model_module": "@jupyter-widgets/controls",
      "model_module_version": "1.4.0",
      "model_name": "DescriptionStyleModel",
      "state": {
       "description_width": ""
      }
     },
     "ebdb01bfa4f948b2affa33caf6bdf0bb": {
      "model_module": "@jupyter-widgets/controls",
      "model_module_version": "1.4.0",
      "model_name": "ButtonModel",
      "state": {
       "description": "Default selection",
       "layout": "IPY_MODEL_57d7809918cb483eab4b01d89893ddb8",
       "style": "IPY_MODEL_e5f06704316f40e090093a2ae94a7468"
      }
     },
     "ebe127e00546463b9472c1345fdcd95c": {
      "model_module": "@jupyter-widgets/base",
      "model_module_version": "1.1.0",
      "model_name": "LayoutModel",
      "state": {
       "width": "50%"
      }
     },
     "ebe5be50344b4516a5981b3d992a8776": {
      "model_module": "@jupyter-widgets/controls",
      "model_module_version": "1.4.0",
      "model_name": "HBoxModel",
      "state": {
       "children": [
        "IPY_MODEL_1e3a4d9b79b44b2792709a9414361554",
        "IPY_MODEL_5aa259bf9abb4529871c5b6f813382f6",
        "IPY_MODEL_b8a54eacce074ca3b36373d9fb4c2d25",
        "IPY_MODEL_d1ffd01f9bbc4992bec0bdabf7b4976b"
       ],
       "layout": "IPY_MODEL_cebf06df4d76446b8b04d756d8672ba6"
      }
     },
     "ebfdd9c8efcc4b70b0d3f551ab772545": {
      "model_module": "@jupyter-widgets/controls",
      "model_module_version": "1.4.0",
      "model_name": "DescriptionStyleModel",
      "state": {
       "description_width": ""
      }
     },
     "ec34ddbcf1924daeb70e99c4b92de958": {
      "model_module": "@jupyter-widgets/controls",
      "model_module_version": "1.4.0",
      "model_name": "ButtonModel",
      "state": {
       "description": "QA analytics",
       "layout": "IPY_MODEL_e75016b253fd40feab4a47552b76ed1f",
       "style": "IPY_MODEL_5fc4c441ddc24fcf8f03a357be10416a"
      }
     },
     "ec3dbad485214fd8bfe12bf68ca78241": {
      "model_module": "@jupyter-widgets/controls",
      "model_module_version": "1.4.0",
      "model_name": "ButtonStyleModel",
      "state": {}
     },
     "ec5cf9ba693c4063ba9c771d7d150c1e": {
      "model_module": "@jupyter-widgets/base",
      "model_module_version": "1.1.0",
      "model_name": "LayoutModel",
      "state": {}
     },
     "ec5d08bd5192459c86cb6eae20f1215f": {
      "model_module": "@jupyter-widgets/base",
      "model_module_version": "1.1.0",
      "model_name": "LayoutModel",
      "state": {
       "height": "300px",
       "width": "99%"
      }
     },
     "ec89ff03698f49bd960d5b9481273993": {
      "model_module": "@jupyter-widgets/controls",
      "model_module_version": "1.4.0",
      "model_name": "ButtonStyleModel",
      "state": {}
     },
     "ecbca6e7366f4e12ae0379a8c5895a9f": {
      "model_module": "@jupyter-widgets/controls",
      "model_module_version": "1.4.0",
      "model_name": "DescriptionStyleModel",
      "state": {
       "description_width": "initial"
      }
     },
     "eccac62a53e7469e89798cef481ea2b4": {
      "model_module": "@jupyter-widgets/controls",
      "model_module_version": "1.4.0",
      "model_name": "ButtonModel",
      "state": {
       "description": "Default selection",
       "layout": "IPY_MODEL_618083d0432149878a2c5fd9bd040e78",
       "style": "IPY_MODEL_30dba7168a774088965d35f2bbe1b24e"
      }
     },
     "ecddd67569584447beb4106c4d67e451": {
      "model_module": "@jupyter-widgets/controls",
      "model_module_version": "1.4.0",
      "model_name": "DescriptionStyleModel",
      "state": {
       "description_width": "initial"
      }
     },
     "ed19a12170b34b4ab90ec0e08fbc365a": {
      "model_module": "@jupyter-widgets/controls",
      "model_module_version": "1.4.0",
      "model_name": "HBoxModel",
      "state": {
       "children": [
        "IPY_MODEL_cf79d4e97f844c63bd618aa73a610b92",
        "IPY_MODEL_81ab7c116d8847fb93f2b108cfa1a6c2",
        "IPY_MODEL_0646030b1d574bf391586343eb47d359"
       ],
       "layout": "IPY_MODEL_bbe67f7068d44e23a8ef3dced42a54b0"
      }
     },
     "ed257a97fb12455692677ddacbb88fb9": {
      "model_module": "@jupyter-widgets/base",
      "model_module_version": "1.1.0",
      "model_name": "LayoutModel",
      "state": {
       "width": "400px"
      }
     },
     "ed2c5f0a306b4a4f841926a92d5ed326": {
      "model_module": "@jupyter-widgets/controls",
      "model_module_version": "1.4.0",
      "model_name": "VBoxModel",
      "state": {
       "children": [
        "IPY_MODEL_9759accb8ca74699b04835a73b0a38a2"
       ],
       "layout": "IPY_MODEL_99687474083446e79f611aa970875735"
      }
     },
     "ed3379e051cd4a639a819b247c65bdcf": {
      "model_module": "@jupyter-widgets/base",
      "model_module_version": "1.1.0",
      "model_name": "LayoutModel",
      "state": {
       "height": "200px",
       "width": "99%"
      }
     },
     "ed3fdeab2bcf4c85887214f690b3c4f3": {
      "model_module": "@jupyter-widgets/controls",
      "model_module_version": "1.4.0",
      "model_name": "ButtonModel",
      "state": {
       "description": "QA analytics",
       "layout": "IPY_MODEL_d044b01e04b24e278a29fa6f3b0a8787",
       "style": "IPY_MODEL_73d6eca11dfd48fbbf49454db4caca11"
      }
     },
     "edb2ed43f53a4ea096c256e91ea187bb": {
      "model_module": "@jupyter-widgets/controls",
      "model_module_version": "1.4.0",
      "model_name": "DescriptionStyleModel",
      "state": {
       "description_width": "initial"
      }
     },
     "edb896b0e17041c4bc510882aa773803": {
      "model_module": "@jupyter-widgets/controls",
      "model_module_version": "1.4.0",
      "model_name": "ProgressStyleModel",
      "state": {
       "description_width": "initial"
      }
     },
     "edd52ff7ab0647e9bbea5871a97b717d": {
      "model_module": "@jupyter-widgets/base",
      "model_module_version": "1.1.0",
      "model_name": "LayoutModel",
      "state": {
       "width": "20%"
      }
     },
     "ee0b560818f744c7b0817bc33c95d5eb": {
      "model_module": "@jupyter-widgets/base",
      "model_module_version": "1.1.0",
      "model_name": "LayoutModel",
      "state": {}
     },
     "ee29b06a86ab4d92b5e023e9e3b58af7": {
      "model_module": "@jupyter-widgets/base",
      "model_module_version": "1.1.0",
      "model_name": "LayoutModel",
      "state": {
       "width": "20%"
      }
     },
     "ee7ae93b36e148328f3393ba157074bb": {
      "model_module": "@jupyter-widgets/base",
      "model_module_version": "1.1.0",
      "model_name": "LayoutModel",
      "state": {
       "width": "20%"
      }
     },
     "eea431aa5758404e901e4b8a8b0020ef": {
      "model_module": "@jupyter-widgets/controls",
      "model_module_version": "1.4.0",
      "model_name": "DescriptionStyleModel",
      "state": {
       "description_width": "initial"
      }
     },
     "eeb816e29c3044c7b4cc0fe79a5a08a2": {
      "model_module": "@jupyter-widgets/controls",
      "model_module_version": "1.4.0",
      "model_name": "HTMLModel",
      "state": {
       "description": "QA layer:",
       "layout": "IPY_MODEL_5e1c0574e5de4d6399e1dc647c362074",
       "style": "IPY_MODEL_f092436f3ebd4c69906d39a823fec4a9",
       "value": "<b>_1_km_16_days_VI_Quality</b>"
      }
     },
     "eebe7a9fe3874478b554a7ba21832c92": {
      "model_module": "@jupyter-widgets/controls",
      "model_module_version": "1.4.0",
      "model_name": "SelectMultipleModel",
      "state": {
       "_options_labels": [
        "VI produced, good quality",
        "VI produced, but check other QA",
        "Pixel produced, but most probably cloudy",
        "Pixel not produced due to other reasons than clouds"
       ],
       "description": "Description",
       "index": [
        0
       ],
       "layout": "IPY_MODEL_fb467cb081f14987a86d7f04f714d518",
       "rows": 4,
       "style": "IPY_MODEL_204ad9e64da94f8eb74548b81a423638"
      }
     },
     "eed76eac15504d6190be8798a6124ad1": {
      "model_module": "@jupyter-widgets/controls",
      "model_module_version": "1.4.0",
      "model_name": "ButtonStyleModel",
      "state": {}
     },
     "eed7939d7ac2433db3197ee07e8ba05e": {
      "model_module": "@jupyter-widgets/controls",
      "model_module_version": "1.4.0",
      "model_name": "VBoxModel",
      "state": {
       "children": [
        "IPY_MODEL_eebe7a9fe3874478b554a7ba21832c92"
       ],
       "layout": "IPY_MODEL_84d0c2ff82cf448dbab2e008e1a4e01d"
      }
     },
     "eed9a544a8d84ec9bfc9db14e62180e2": {
      "model_module": "@jupyter-widgets/controls",
      "model_module_version": "1.4.0",
      "model_name": "ButtonStyleModel",
      "state": {}
     },
     "eee29aae4df94dc2871e393a7aecc6d8": {
      "model_module": "@jupyter-widgets/base",
      "model_module_version": "1.1.0",
      "model_name": "LayoutModel",
      "state": {
       "height": "350px",
       "width": "99%"
      }
     },
     "eee41bfea6ad40ae8e88979313d6cbd4": {
      "model_module": "@jupyter-widgets/controls",
      "model_module_version": "1.4.0",
      "model_name": "VBoxModel",
      "state": {
       "children": [
        "IPY_MODEL_80d500df191845678ba7726d3954d8a2"
       ],
       "layout": "IPY_MODEL_0c19fd283539455d875ecf05e6c8c039"
      }
     },
     "eeeb4a706f7147158d176fdf552bb51c": {
      "model_module": "@jupyter-widgets/controls",
      "model_module_version": "1.4.0",
      "model_name": "HBoxModel",
      "state": {
       "children": [
        "IPY_MODEL_8328244c84794b599c848d9d2c51ee4b",
        "IPY_MODEL_ebdb01bfa4f948b2affa33caf6bdf0bb",
        "IPY_MODEL_d775da67a9934938b1aa7f9ac394f9c7"
       ],
       "layout": "IPY_MODEL_5144c169910046bb9df46d7f1052f66e"
      }
     },
     "ef0146609f5243938bf9b0cdaf6c4749": {
      "model_module": "@jupyter-widgets/controls",
      "model_module_version": "1.4.0",
      "model_name": "ButtonModel",
      "state": {
       "description": "QA analytics",
       "layout": "IPY_MODEL_97b59966679441669f227cb3118bb5a8",
       "style": "IPY_MODEL_0f67cdb9227048479caff2764e681f68"
      }
     },
     "ef24c8cbee76491e80b7b1303716a6da": {
      "model_module": "@jupyter-widgets/controls",
      "model_module_version": "1.4.0",
      "model_name": "HBoxModel",
      "state": {
       "children": [
        "IPY_MODEL_fb298b9d872243cca967c71cbd8226b1",
        "IPY_MODEL_2de4330e2c604875b6056e95a286d15f",
        "IPY_MODEL_415f1aea7628465ba1293622416acf7f"
       ],
       "layout": "IPY_MODEL_2c4e274ef0654d5dbfe671549c94cbea"
      }
     },
     "ef2b9f2ed0c54c999e3a5dc8a8e8a322": {
      "model_module": "@jupyter-widgets/controls",
      "model_module_version": "1.4.0",
      "model_name": "DescriptionStyleModel",
      "state": {
       "description_width": "initial"
      }
     },
     "ef3b7c62a1f144ec96517caf59b704df": {
      "model_module": "@jupyter-widgets/controls",
      "model_module_version": "1.4.0",
      "model_name": "VBoxModel",
      "state": {
       "children": [
        "IPY_MODEL_a0737f03d36f45ec9297c37805b1f780"
       ],
       "layout": "IPY_MODEL_c9b41a6e99ea4848b391dc610d88f153"
      }
     },
     "ef3b9c96dd6441f9bf5100255edef921": {
      "model_module": "@jupyter-widgets/controls",
      "model_module_version": "1.4.0",
      "model_name": "SelectMultipleModel",
      "state": {
       "_options_labels": [
        "VI produced, good quality",
        "VI produced, but check other QA",
        "Pixel produced, but most probably cloudy",
        "Pixel not produced due to other reasons than clouds"
       ],
       "description": "Description",
       "index": [
        0
       ],
       "layout": "IPY_MODEL_2e88afd67c8e4831a81cbcdad4a0a928",
       "rows": 4,
       "style": "IPY_MODEL_e84e0234305743a0880b8f545e24cee0"
      }
     },
     "ef556bd6bf0048819a354cdaad82406d": {
      "model_module": "@jupyter-widgets/controls",
      "model_module_version": "1.4.0",
      "model_name": "SelectMultipleModel",
      "state": {
       "_options_labels": [
        "Good data, use with confidence",
        "Marginal data, Useful, but look at other QA information",
        "Snow/Ice Target covered with snow/ice",
        "Cloudy data, Target not visible, covered with cloud"
       ],
       "description": "Description",
       "index": [
        0,
        1
       ],
       "layout": "IPY_MODEL_f768a5a53f2341f382cf796c63af922b",
       "rows": 4,
       "style": "IPY_MODEL_94b9d01c48cb403094b02936985d0529"
      }
     },
     "ef78dda1f536462ba94e2579bcb1040d": {
      "model_module": "@jupyter-widgets/base",
      "model_module_version": "1.1.0",
      "model_name": "LayoutModel",
      "state": {
       "width": "20%"
      }
     },
     "efa9a168d1af4e1fa3cf7c875667bdc8": {
      "model_module": "@jupyter-widgets/base",
      "model_module_version": "1.1.0",
      "model_name": "LayoutModel",
      "state": {}
     },
     "efad78ae57914de09e24c2e656c38e18": {
      "model_module": "@jupyter-widgets/controls",
      "model_module_version": "1.4.0",
      "model_name": "DescriptionStyleModel",
      "state": {
       "description_width": "initial"
      }
     },
     "eff34cca477f4fe49289c25c89aa9dba": {
      "model_module": "@jupyter-widgets/controls",
      "model_module_version": "1.4.0",
      "model_name": "DescriptionStyleModel",
      "state": {
       "description_width": "initial"
      }
     },
     "f01fdf39a9914ac1975b01289f2f0b30": {
      "model_module": "@jupyter-widgets/controls",
      "model_module_version": "1.4.0",
      "model_name": "DescriptionStyleModel",
      "state": {
       "description_width": "initial"
      }
     },
     "f092436f3ebd4c69906d39a823fec4a9": {
      "model_module": "@jupyter-widgets/controls",
      "model_module_version": "1.4.0",
      "model_name": "DescriptionStyleModel",
      "state": {
       "description_width": ""
      }
     },
     "f0d4275e7df040ce9da2375c69b24bb3": {
      "model_module": "@jupyter-widgets/controls",
      "model_module_version": "1.4.0",
      "model_name": "HBoxModel",
      "state": {
       "children": [
        "IPY_MODEL_2d26346c5bc84438872963fcbb3b12c0",
        "IPY_MODEL_86015f56a34c4d5f9b04c2660a089be6",
        "IPY_MODEL_5ea35eafdc4c498f8cbedcad25131678"
       ],
       "layout": "IPY_MODEL_093da263196b447f88cf6f921aef316c"
      }
     },
     "f0d55c216d4d4ba3984a5f8e7225e671": {
      "model_module": "@jupyter-widgets/base",
      "model_module_version": "1.1.0",
      "model_name": "LayoutModel",
      "state": {
       "width": "400px"
      }
     },
     "f0da8691a0ea4a128c1d8506470fe75f": {
      "model_module": "@jupyter-widgets/controls",
      "model_module_version": "1.4.0",
      "model_name": "ButtonModel",
      "state": {
       "description": "Default selection",
       "layout": "IPY_MODEL_e3199631e1e3499ba50ed9c595d68ca2",
       "style": "IPY_MODEL_700f0fcdb384446ba6a27cbed9c970cc"
      }
     },
     "f0fbbc4e03004a8eacbf2d306504c9dd": {
      "model_module": "@jupyter-widgets/controls",
      "model_module_version": "1.4.0",
      "model_name": "ButtonModel",
      "state": {
       "description": "Select ALL",
       "layout": "IPY_MODEL_954fc36289c94d8d9b0932074c9c5b5c",
       "style": "IPY_MODEL_2e435fbc493c4f0cb415a8fec10171e2"
      }
     },
     "f160077f7087419ca8e9cc192ea853c9": {
      "model_module": "@jupyter-widgets/controls",
      "model_module_version": "1.4.0",
      "model_name": "DescriptionStyleModel",
      "state": {
       "description_width": "initial"
      }
     },
     "f18f808d6f7146698d9dd74a65cb8713": {
      "model_module": "@jupyter-widgets/controls",
      "model_module_version": "1.4.0",
      "model_name": "ButtonStyleModel",
      "state": {}
     },
     "f1a290073a7349538c1f622c3ed1686b": {
      "model_module": "@jupyter-widgets/base",
      "model_module_version": "1.1.0",
      "model_name": "LayoutModel",
      "state": {}
     },
     "f1a3e0a809bc416e8a6f91bb971bbb00": {
      "model_module": "@jupyter-widgets/base",
      "model_module_version": "1.1.0",
      "model_name": "LayoutModel",
      "state": {
       "width": "20%"
      }
     },
     "f1b688e8bf40459683ec0d1259a151d1": {
      "model_module": "@jupyter-widgets/base",
      "model_module_version": "1.1.0",
      "model_name": "LayoutModel",
      "state": {
       "width": "400px"
      }
     },
     "f1c9f877de9940c69915f5754b2b6a4f": {
      "model_module": "@jupyter-widgets/controls",
      "model_module_version": "1.4.0",
      "model_name": "HTMLModel",
      "state": {
       "description": "QA layer:",
       "layout": "IPY_MODEL_5f8afce93a3f4fd09547cd820915cc75",
       "style": "IPY_MODEL_5190b9adf1d04458a12a0223179c0cb8",
       "value": "<b>_1_km_16_days_VI_Quality</b>"
      }
     },
     "f1d77d6b0c9542e2991632dcef174c63": {
      "model_module": "@jupyter-widgets/controls",
      "model_module_version": "1.4.0",
      "model_name": "DescriptionStyleModel",
      "state": {
       "description_width": ""
      }
     },
     "f22c5542739445938cf0e3fa66f3c7e7": {
      "model_module": "@jupyter-widgets/controls",
      "model_module_version": "1.4.0",
      "model_name": "HBoxModel",
      "state": {
       "children": [
        "IPY_MODEL_3902f59ac4ed4d68b408cf395ca6635b",
        "IPY_MODEL_56aaf97579424a94b587906476a101e1"
       ],
       "layout": "IPY_MODEL_4d8f3831f3e340fa9d29910da752b97d"
      }
     },
     "f24224433e494e8190e63d6801968e94": {
      "model_module": "@jupyter-widgets/controls",
      "model_module_version": "1.4.0",
      "model_name": "DescriptionStyleModel",
      "state": {
       "description_width": "initial"
      }
     },
     "f2525a3280ab42f88beed30e611f91ce": {
      "model_module": "@jupyter-widgets/controls",
      "model_module_version": "1.4.0",
      "model_name": "SelectMultipleModel",
      "state": {
       "_options_labels": [
        "VI produced, good quality",
        "VI produced, but check other QA",
        "Pixel produced, but most probably cloudy",
        "Pixel not produced due to other reasons than clouds"
       ],
       "description": "Description",
       "index": [
        0
       ],
       "layout": "IPY_MODEL_4b2b3188fca54bf5b000ec062f73549e",
       "rows": 4,
       "style": "IPY_MODEL_5a76b6f1997a46c490def1e9bb09518e"
      }
     },
     "f25dac2ce4b441bc99b2b6a62389f8d2": {
      "model_module": "@jupyter-widgets/controls",
      "model_module_version": "1.4.0",
      "model_name": "VBoxModel",
      "state": {
       "children": [
        "IPY_MODEL_49a0b22f0c2b4293b51f21b055bc32bb"
       ],
       "layout": "IPY_MODEL_afca662e09784efb8d11a85eeb18c8a0"
      }
     },
     "f28305c77879433891e7b33908e1b043": {
      "model_module": "@jupyter-widgets/base",
      "model_module_version": "1.1.0",
      "model_name": "LayoutModel",
      "state": {}
     },
     "f2ecce47635343b2a02e78a9ed3e4dae": {
      "model_module": "@jupyter-widgets/controls",
      "model_module_version": "1.4.0",
      "model_name": "ButtonModel",
      "state": {
       "description": "QA analytics",
       "layout": "IPY_MODEL_9a7aca9ba36146c1ac4604fe94363bb3",
       "style": "IPY_MODEL_89ffaf17126941f2a60a5a8a00f8af03"
      }
     },
     "f2f3a1e177de4a0fb2ffcf4dedbb14c6": {
      "model_module": "@jupyter-widgets/controls",
      "model_module_version": "1.4.0",
      "model_name": "ButtonModel",
      "state": {
       "description": "Default selection",
       "layout": "IPY_MODEL_db42272650c34bec8c2544df16fb4596",
       "style": "IPY_MODEL_ec3dbad485214fd8bfe12bf68ca78241"
      }
     },
     "f2fb4d944e5041dc892b29b44e75a910": {
      "model_module": "@jupyter-widgets/controls",
      "model_module_version": "1.4.0",
      "model_name": "ButtonModel",
      "state": {
       "description": "Select ALL",
       "layout": "IPY_MODEL_c5ff0c9b31cb421fb9da46da7b30da85",
       "style": "IPY_MODEL_c2a9956d70144bc0a81ee9a6be081294"
      }
     },
     "f30728f4572d4f0ab23dd69ea57be6e1": {
      "model_module": "@jupyter-widgets/controls",
      "model_module_version": "1.4.0",
      "model_name": "DescriptionStyleModel",
      "state": {
       "description_width": "initial"
      }
     },
     "f321fe39f44c46c0a0f0d5a7287845e8": {
      "model_module": "@jupyter-widgets/controls",
      "model_module_version": "1.4.0",
      "model_name": "SelectMultipleModel",
      "state": {
       "_options_labels": [
        "No",
        "Yes"
       ],
       "description": "Description",
       "index": [
        0
       ],
       "layout": "IPY_MODEL_33f50ae5b5e34608b2e4d09de5e347f5",
       "rows": 2,
       "style": "IPY_MODEL_d65e4a70747f4e62b6e1227ecd722de8"
      }
     },
     "f333eca906b44e089805a6bacbb2b0c7": {
      "model_module": "@jupyter-widgets/controls",
      "model_module_version": "1.4.0",
      "model_name": "ButtonStyleModel",
      "state": {}
     },
     "f3ad8b16ec314fcda83be5da3f0c6a65": {
      "model_module": "@jupyter-widgets/controls",
      "model_module_version": "1.4.0",
      "model_name": "SelectMultipleModel",
      "state": {
       "_options_labels": [
        "VI produced, good quality",
        "VI produced, but check other QA",
        "Pixel produced, but most probably cloudy",
        "Pixel not produced due to other reasons than clouds"
       ],
       "description": "Description",
       "index": [
        0
       ],
       "layout": "IPY_MODEL_2b99ea60a2eb47d3b3bf0361bf21731a",
       "rows": 4,
       "style": "IPY_MODEL_8338942bc53b4bc891af4461dcc9d6f4"
      }
     },
     "f3cdb2b7276a46bf952e61c655edaf1c": {
      "model_module": "@jupyter-widgets/base",
      "model_module_version": "1.1.0",
      "model_name": "LayoutModel",
      "state": {}
     },
     "f3f7d175bc124d52871d164454cc5b03": {
      "model_module": "@jupyter-widgets/controls",
      "model_module_version": "1.4.0",
      "model_name": "ButtonStyleModel",
      "state": {}
     },
     "f4025728a33c4b5f8de9a439c1ec9885": {
      "model_module": "@jupyter-widgets/controls",
      "model_module_version": "1.4.0",
      "model_name": "ButtonStyleModel",
      "state": {}
     },
     "f440b2d754b6490b876616ff4cd6deca": {
      "model_module": "@jupyter-widgets/controls",
      "model_module_version": "1.4.0",
      "model_name": "HTMLModel",
      "state": {
       "description": "QA layer:",
       "layout": "IPY_MODEL_914f5779e8c54b13afe4fe3166f77d65",
       "style": "IPY_MODEL_dafe25788ab446be8246ee5a1125599f",
       "value": "<b>_1_km_16_days_VI_Quality</b>"
      }
     },
     "f451a58c505a4090b6a8fd0a3cff9f20": {
      "model_module": "@jupyter-widgets/controls",
      "model_module_version": "1.4.0",
      "model_name": "DescriptionStyleModel",
      "state": {
       "description_width": ""
      }
     },
     "f489c4b1d90942019ad096acee7e8e54": {
      "model_module": "@jupyter-widgets/controls",
      "model_module_version": "1.4.0",
      "model_name": "VBoxModel",
      "state": {
       "children": [
        "IPY_MODEL_800675b8a99446198dc44ccb3c9f922d"
       ],
       "layout": "IPY_MODEL_796abd022c2e4fc69ca730ecdf9848a2"
      }
     },
     "f4a45bfa2b264bc1ae7c8ead9f896692": {
      "model_module": "@jupyter-widgets/controls",
      "model_module_version": "1.4.0",
      "model_name": "VBoxModel",
      "state": {
       "children": [
        "IPY_MODEL_92c17b07efe64eb598be8731c186bf78"
       ],
       "layout": "IPY_MODEL_28472946049a4892b887400bdff41433"
      }
     },
     "f4a71096f5694088919fe451a94ab08c": {
      "model_module": "@jupyter-widgets/base",
      "model_module_version": "1.1.0",
      "model_name": "LayoutModel",
      "state": {
       "width": "20%"
      }
     },
     "f4d161a4505047419310177fae9a98c0": {
      "model_module": "@jupyter-widgets/controls",
      "model_module_version": "1.4.0",
      "model_name": "HBoxModel",
      "state": {
       "children": [
        "IPY_MODEL_8d9e2012786444e4a653e561d3b460d6",
        "IPY_MODEL_f7ea5d9c0c9d422194f4c1532b84943e",
        "IPY_MODEL_8706edb1305548a9ac138626c7ff89e6"
       ],
       "layout": "IPY_MODEL_c9c40abe3ba6408796e7a45f693b27c1"
      }
     },
     "f4d8c79476c04a7fae44baea6bf7b413": {
      "model_module": "@jupyter-widgets/controls",
      "model_module_version": "1.4.0",
      "model_name": "DescriptionStyleModel",
      "state": {
       "description_width": ""
      }
     },
     "f4eb524abf35475e988fa2067df16b53": {
      "model_module": "@jupyter-widgets/controls",
      "model_module_version": "1.4.0",
      "model_name": "HBoxModel",
      "state": {
       "children": [
        "IPY_MODEL_a145a18415b54cebb89da5b4c38dcdf1",
        "IPY_MODEL_6eaecffa43664ceaa55123383d3e4be5"
       ],
       "layout": "IPY_MODEL_ec5d08bd5192459c86cb6eae20f1215f"
      }
     },
     "f4f07962b534434dbce867176e0ee543": {
      "model_module": "@jupyter-widgets/controls",
      "model_module_version": "1.4.0",
      "model_name": "ButtonModel",
      "state": {
       "description": "Select ALL",
       "layout": "IPY_MODEL_404d6c6bc57549d5bed2fbdf01687740",
       "style": "IPY_MODEL_e396ceb38e7943fa999b91562e39a202"
      }
     },
     "f510d3104aeb4b9893c1c5d29b47523f": {
      "model_module": "@jupyter-widgets/base",
      "model_module_version": "1.1.0",
      "model_name": "LayoutModel",
      "state": {
       "width": "30%"
      }
     },
     "f53df63387e540b7a8731d844f324a5e": {
      "model_module": "@jupyter-widgets/controls",
      "model_module_version": "1.4.0",
      "model_name": "SelectModel",
      "state": {
       "_options_labels": [
        "MODLAND",
        "VI Usefulness",
        "Aerosol Quantity",
        "Adjacent cloud detected",
        "Atmosphere BRDF Correction",
        "Mixed Clouds",
        "Land/Water Mask",
        "Possible snow/ice",
        "Possible shadow"
       ],
       "description": "QA Parameter name:",
       "index": 0,
       "layout": "IPY_MODEL_2b17cc7c13884f0292bb2532b0eae484",
       "rows": 9,
       "style": "IPY_MODEL_516bfc73f02748ab896814504190efa2"
      }
     },
     "f5ed86dc5a834e85b8e28552f145a067": {
      "model_module": "@jupyter-widgets/controls",
      "model_module_version": "1.4.0",
      "model_name": "DescriptionStyleModel",
      "state": {
       "description_width": "initial"
      }
     },
     "f5f4b4975aaa4fef848d595c0c0acb28": {
      "model_module": "@jupyter-widgets/controls",
      "model_module_version": "1.4.0",
      "model_name": "ButtonModel",
      "state": {
       "description": "QA analytics",
       "layout": "IPY_MODEL_6514d89454914db48cc7a7f5a025272a",
       "style": "IPY_MODEL_b7d0649d62f2469caf513bf83c1704a3"
      }
     },
     "f5f5155fb7f240dab1d801aaa9bf3bc6": {
      "model_module": "@jupyter-widgets/controls",
      "model_module_version": "1.4.0",
      "model_name": "DescriptionStyleModel",
      "state": {
       "description_width": "initial"
      }
     },
     "f600414b6c3a42b9a0f17ec53f71a249": {
      "model_module": "@jupyter-widgets/base",
      "model_module_version": "1.1.0",
      "model_name": "LayoutModel",
      "state": {}
     },
     "f605799b77fb45cab74dbec6f25073de": {
      "model_module": "@jupyter-widgets/controls",
      "model_module_version": "1.4.0",
      "model_name": "SelectMultipleModel",
      "state": {
       "_options_labels": [
        "VI produced, good quality",
        "VI produced, but check other QA",
        "Pixel produced, but most probably cloudy",
        "Pixel not produced due to other reasons than clouds"
       ],
       "description": "Description",
       "index": [
        0
       ],
       "layout": "IPY_MODEL_a598006ce02044f494625cb901835060",
       "rows": 4,
       "style": "IPY_MODEL_f24224433e494e8190e63d6801968e94"
      }
     },
     "f637328ab4054f1c8c51f03e87dc2e05": {
      "model_module": "@jupyter-widgets/controls",
      "model_module_version": "1.4.0",
      "model_name": "SelectModel",
      "state": {
       "_options_labels": [
        "MODLAND",
        "VI Usefulness",
        "Aerosol Quantity",
        "Adjacent cloud detected",
        "Atmosphere BRDF Correction",
        "Mixed Clouds",
        "Land/Water Mask",
        "Possible snow/ice",
        "Possible shadow"
       ],
       "description": "QA Parameter name:",
       "index": 0,
       "layout": "IPY_MODEL_6af2f706b84a43fa8306a3ccd1855e78",
       "rows": 9,
       "style": "IPY_MODEL_88d1343765f14143a1035a73de13522b"
      }
     },
     "f63b841129084ff8b1bff360a056792e": {
      "model_module": "@jupyter-widgets/base",
      "model_module_version": "1.1.0",
      "model_name": "LayoutModel",
      "state": {
       "width": "50%"
      }
     },
     "f66347072ae14dad84c11973280acac1": {
      "model_module": "@jupyter-widgets/controls",
      "model_module_version": "1.4.0",
      "model_name": "ProgressStyleModel",
      "state": {
       "description_width": "initial"
      }
     },
     "f6b7bda8920b4ad986f4fc15a200ec51": {
      "model_module": "@jupyter-widgets/controls",
      "model_module_version": "1.4.0",
      "model_name": "HTMLModel",
      "state": {
       "description": "QA layer:",
       "layout": "IPY_MODEL_369da348771543148f0fd1e50d0cdc87",
       "style": "IPY_MODEL_718594f1987d4670af379d9bc3668cc7",
       "value": "<b>_1_km_16_days_VI_Quality</b>"
      }
     },
     "f6bf0564a6eb4145a47bbb9e5e1cfbe5": {
      "model_module": "@jupyter-widgets/base",
      "model_module_version": "1.1.0",
      "model_name": "LayoutModel",
      "state": {
       "width": "50%"
      }
     },
     "f7038259a231469daa2dfcee13058714": {
      "model_module": "@jupyter-widgets/controls",
      "model_module_version": "1.4.0",
      "model_name": "ProgressStyleModel",
      "state": {
       "description_width": "initial"
      }
     },
     "f711c6e3bceb4280a32017af3e51d9ca": {
      "model_module": "@jupyter-widgets/controls",
      "model_module_version": "1.4.0",
      "model_name": "DescriptionStyleModel",
      "state": {
       "description_width": ""
      }
     },
     "f71e3ab779594e4ab58d524d3e33fed1": {
      "model_module": "@jupyter-widgets/controls",
      "model_module_version": "1.4.0",
      "model_name": "SelectMultipleModel",
      "state": {
       "_options_labels": [
        "VI produced, good quality",
        "VI produced, but check other QA",
        "Pixel produced, but most probably cloudy",
        "Pixel not produced due to other reasons than clouds"
       ],
       "description": "Description",
       "index": [
        0
       ],
       "layout": "IPY_MODEL_c77f7e3885b14f7ca0a7271fb2cd0354",
       "rows": 4,
       "style": "IPY_MODEL_3b8aed1749de42c98d51d5859270759f"
      }
     },
     "f73b452116474706a026947fc274ce08": {
      "model_module": "@jupyter-widgets/controls",
      "model_module_version": "1.4.0",
      "model_name": "HBoxModel",
      "state": {
       "children": [
        "IPY_MODEL_73dfb3893cdd46f1b6085be8f98e812b",
        "IPY_MODEL_1f3a8fcc0a214771bef5f425a1604201",
        "IPY_MODEL_5c9571edc43f4eeda4f4df7327ddf5c4"
       ],
       "layout": "IPY_MODEL_29f76712931c4302a61be18be160a238"
      }
     },
     "f756bd161d774cd9aed2a8ca34142bc8": {
      "model_module": "@jupyter-widgets/controls",
      "model_module_version": "1.4.0",
      "model_name": "DescriptionStyleModel",
      "state": {
       "description_width": "initial"
      }
     },
     "f7575b00918a424e885abef923cc7c20": {
      "model_module": "@jupyter-widgets/controls",
      "model_module_version": "1.4.0",
      "model_name": "DescriptionStyleModel",
      "state": {
       "description_width": "initial"
      }
     },
     "f768a5a53f2341f382cf796c63af922b": {
      "model_module": "@jupyter-widgets/base",
      "model_module_version": "1.1.0",
      "model_name": "LayoutModel",
      "state": {
       "width": "400px"
      }
     },
     "f774325fda184bb8acb55c832cd73d5b": {
      "model_module": "@jupyter-widgets/base",
      "model_module_version": "1.1.0",
      "model_name": "LayoutModel",
      "state": {
       "width": "400px"
      }
     },
     "f7bfd1536e494680b1f0d75e2f79a8ac": {
      "model_module": "@jupyter-widgets/controls",
      "model_module_version": "1.4.0",
      "model_name": "ProgressStyleModel",
      "state": {
       "description_width": "initial"
      }
     },
     "f7c3455c411b4621b6905cd9493883ae": {
      "model_module": "@jupyter-widgets/controls",
      "model_module_version": "1.4.0",
      "model_name": "ButtonModel",
      "state": {
       "description": "QA analytics",
       "layout": "IPY_MODEL_403b922e63854e2ea5e9d0d688f98318",
       "style": "IPY_MODEL_0fa7cab60afa4132b45c90a2b3208bd4"
      }
     },
     "f7ce89c0318b47e08df875d2a4d9715c": {
      "model_module": "@jupyter-widgets/base",
      "model_module_version": "1.1.0",
      "model_name": "LayoutModel",
      "state": {
       "width": "400px"
      }
     },
     "f7ea5d9c0c9d422194f4c1532b84943e": {
      "model_module": "@jupyter-widgets/controls",
      "model_module_version": "1.4.0",
      "model_name": "ButtonModel",
      "state": {
       "description": "Default selection",
       "layout": "IPY_MODEL_7b8ceb53865f452a8577b10a53506263",
       "style": "IPY_MODEL_0e62a609e9f543cabde53d9c083d601e"
      }
     },
     "f80a7c41ad8147988f3b638b5ebc0188": {
      "model_module": "@jupyter-widgets/base",
      "model_module_version": "1.1.0",
      "model_name": "LayoutModel",
      "state": {
       "width": "20%"
      }
     },
     "f8277e0399b8476d9dea0d769a620292": {
      "model_module": "@jupyter-widgets/controls",
      "model_module_version": "1.4.0",
      "model_name": "ButtonModel",
      "state": {
       "description": "Default selection",
       "layout": "IPY_MODEL_de90c9ac99954c22b22c7c4f2586ec4b",
       "style": "IPY_MODEL_3c34f0d6c46b4c7591fa286d2752c894"
      }
     },
     "f82b45a4efd64003b88816411d6f89bb": {
      "model_module": "@jupyter-widgets/base",
      "model_module_version": "1.1.0",
      "model_name": "LayoutModel",
      "state": {
       "height": "350px",
       "width": "99%"
      }
     },
     "f8347bd09709449bb9128d6c63ed5e32": {
      "model_module": "@jupyter-widgets/base",
      "model_module_version": "1.1.0",
      "model_name": "LayoutModel",
      "state": {
       "height": "300px",
       "width": "99%"
      }
     },
     "f858f712b95c4fa4830b2014a3f1f270": {
      "model_module": "@jupyter-widgets/base",
      "model_module_version": "1.1.0",
      "model_name": "LayoutModel",
      "state": {}
     },
     "f863f10a0f434166a2cbc29f03dd2540": {
      "model_module": "@jupyter-widgets/controls",
      "model_module_version": "1.4.0",
      "model_name": "HBoxModel",
      "state": {
       "children": [
        "IPY_MODEL_9288d1b2ba09465a81ab839e5e9c0bb8",
        "IPY_MODEL_6cb3c5733a0244bdbe50ee681135d4b2"
       ],
       "layout": "IPY_MODEL_a38ff1de06c64ed398eb81b6c84e66d3"
      }
     },
     "f88ab3864eac4bd6945cde3a38bca592": {
      "model_module": "@jupyter-widgets/controls",
      "model_module_version": "1.4.0",
      "model_name": "SelectModel",
      "state": {
       "_options_labels": [
        "MODLAND",
        "VI Usefulness",
        "Aerosol Quantity",
        "Adjacent cloud detected",
        "Atmosphere BRDF Correction",
        "Mixed Clouds",
        "Land/Water Mask",
        "Possible snow/ice",
        "Possible shadow"
       ],
       "description": "QA Parameter name:",
       "index": 0,
       "layout": "IPY_MODEL_178137a0403741a396587a26f0a13c07",
       "rows": 9,
       "style": "IPY_MODEL_c5c3ce3dbc3e4d68b0c31a3c5ae7027c"
      }
     },
     "f88b5724957f4224a76af72c5f0b4615": {
      "model_module": "@jupyter-widgets/controls",
      "model_module_version": "1.4.0",
      "model_name": "ButtonStyleModel",
      "state": {}
     },
     "f8a35aaf9c3d4cc2ad9cffac91469e72": {
      "model_module": "@jupyter-widgets/controls",
      "model_module_version": "1.4.0",
      "model_name": "ButtonStyleModel",
      "state": {}
     },
     "f8da3c21038a41b7be547c572eded264": {
      "model_module": "@jupyter-widgets/base",
      "model_module_version": "1.1.0",
      "model_name": "LayoutModel",
      "state": {}
     },
     "f8f297ec4554400ca60c04e14866c190": {
      "model_module": "@jupyter-widgets/controls",
      "model_module_version": "1.4.0",
      "model_name": "SelectModel",
      "state": {
       "_options_labels": [
        "MODLAND",
        "VI Usefulness",
        "Aerosol Quantity",
        "Adjacent cloud detected",
        "Atmosphere BRDF Correction",
        "Mixed Clouds",
        "Land/Water Mask",
        "Possible snow/ice",
        "Possible shadow"
       ],
       "description": "QA Parameter name:",
       "index": 0,
       "layout": "IPY_MODEL_516979254a17412ca5145113d05ab761",
       "rows": 9,
       "style": "IPY_MODEL_82d7aa33c76f420ea32daf03fe61ed88"
      }
     },
     "f907fc73ba9546889d549f9b241b57e3": {
      "model_module": "@jupyter-widgets/controls",
      "model_module_version": "1.4.0",
      "model_name": "ProgressStyleModel",
      "state": {
       "description_width": "initial"
      }
     },
     "f90d6bf69b5745eab46c46e79f689d28": {
      "model_module": "@jupyter-widgets/controls",
      "model_module_version": "1.4.0",
      "model_name": "HBoxModel",
      "state": {
       "children": [
        "IPY_MODEL_556fdd7872cc42aa9ed7c74655aef5c5",
        "IPY_MODEL_0f8d1030b4894254adfc4b4417a0baa4",
        "IPY_MODEL_bdafb50d3a424956b7b08b6206b98106"
       ],
       "layout": "IPY_MODEL_7c2559d43e544a1c8181c2c144408303"
      }
     },
     "f90efe83f91243b9a62189472277ebff": {
      "model_module": "@jupyter-widgets/controls",
      "model_module_version": "1.4.0",
      "model_name": "HBoxModel",
      "state": {
       "children": [
        "IPY_MODEL_c335dd47092e494789b824cad96581e6",
        "IPY_MODEL_c133ebfad16d4c70a1a7b74030389192"
       ],
       "layout": "IPY_MODEL_feb20c206fa44d3c9c812b43721e757c"
      }
     },
     "f90ff4bee84b4ce88c3828c7d9fe17ae": {
      "model_module": "@jupyter-widgets/controls",
      "model_module_version": "1.4.0",
      "model_name": "HTMLModel",
      "state": {
       "description": "QA layer:",
       "layout": "IPY_MODEL_9bf6c2a7278840509f5c6526da783bf7",
       "style": "IPY_MODEL_3702ac33c0e44d10a60bca979a999dd7",
       "value": "<b>_1_km_16_days_VI_Quality</b>"
      }
     },
     "f94fc59073d4464fb9b50c7606547b30": {
      "model_module": "@jupyter-widgets/base",
      "model_module_version": "1.1.0",
      "model_name": "LayoutModel",
      "state": {
       "width": "20%"
      }
     },
     "f9c482ac290d4bae8b0dee3533f3349f": {
      "model_module": "@jupyter-widgets/base",
      "model_module_version": "1.1.0",
      "model_name": "LayoutModel",
      "state": {
       "width": "20%"
      }
     },
     "f9cb42fc5ad74aab88e03e1c4442c96a": {
      "model_module": "@jupyter-widgets/base",
      "model_module_version": "1.1.0",
      "model_name": "LayoutModel",
      "state": {}
     },
     "f9fd3a1ef5794c4c948bc76d387f9359": {
      "model_module": "@jupyter-widgets/controls",
      "model_module_version": "1.4.0",
      "model_name": "ButtonStyleModel",
      "state": {}
     },
     "fa02fa034e7345188df7b669a86452cd": {
      "model_module": "@jupyter-widgets/controls",
      "model_module_version": "1.4.0",
      "model_name": "ButtonStyleModel",
      "state": {}
     },
     "fa2a637bf8594122b3a1b808b7cdd11f": {
      "model_module": "@jupyter-widgets/controls",
      "model_module_version": "1.4.0",
      "model_name": "VBoxModel",
      "state": {
       "children": [
        "IPY_MODEL_16d60379d4534000ad83b11d0b5d6ef5"
       ],
       "layout": "IPY_MODEL_a00f3801f8c147cdb7cc41889a66c09e"
      }
     },
     "faa57e72de8949a6a1e8129e694dc575": {
      "model_module": "@jupyter-widgets/controls",
      "model_module_version": "1.4.0",
      "model_name": "ButtonModel",
      "state": {
       "description": "Select ALL",
       "layout": "IPY_MODEL_577340d6d0124ce8a7c619baf5550b33",
       "style": "IPY_MODEL_99572f3a064b4dc8bd985caab306d80f"
      }
     },
     "faae7520e9d2483b8ca67610d3adb319": {
      "model_module": "@jupyter-widgets/controls",
      "model_module_version": "1.4.0",
      "model_name": "VBoxModel",
      "state": {
       "children": [
        "IPY_MODEL_6484d3f1b3bd4d3295977af834ae8a33"
       ],
       "layout": "IPY_MODEL_7873065d08c147e38780097eb904b857"
      }
     },
     "fab1431e98fa4858801ae82f34101422": {
      "model_module": "@jupyter-widgets/controls",
      "model_module_version": "1.4.0",
      "model_name": "SelectModel",
      "state": {
       "_options_labels": [
        "MODLAND",
        "VI Usefulness",
        "Aerosol Quantity",
        "Adjacent cloud detected",
        "Atmosphere BRDF Correction",
        "Mixed Clouds",
        "Land/Water Mask",
        "Possible snow/ice",
        "Possible shadow"
       ],
       "description": "QA Parameter name:",
       "index": 0,
       "layout": "IPY_MODEL_aa61e27630e64d50a1990f89bc771911",
       "rows": 9,
       "style": "IPY_MODEL_d21264f069bf475e90291e0f9caa46e3"
      }
     },
     "fadf6ec74aba416281aff0b6a5704999": {
      "model_module": "@jupyter-widgets/controls",
      "model_module_version": "1.4.0",
      "model_name": "VBoxModel",
      "state": {
       "children": [
        "IPY_MODEL_a92338001abc434d967ae1710235ecbd"
       ],
       "layout": "IPY_MODEL_a5e74cd31475490aa3a995dd05215aaa"
      }
     },
     "fb0662a9c8c84158b83f717c3cdbba88": {
      "model_module": "@jupyter-widgets/controls",
      "model_module_version": "1.4.0",
      "model_name": "ButtonStyleModel",
      "state": {}
     },
     "fb298b9d872243cca967c71cbd8226b1": {
      "model_module": "@jupyter-widgets/controls",
      "model_module_version": "1.4.0",
      "model_name": "ButtonModel",
      "state": {
       "description": "Select ALL",
       "layout": "IPY_MODEL_c7e8a18386184e1f962f4b4b33054ac3",
       "style": "IPY_MODEL_6f313e753ec4441ca79bfc9b4ae3a80d"
      }
     },
     "fb467cb081f14987a86d7f04f714d518": {
      "model_module": "@jupyter-widgets/base",
      "model_module_version": "1.1.0",
      "model_name": "LayoutModel",
      "state": {
       "width": "400px"
      }
     },
     "fb663ad86f454a718b1377ae592fb93c": {
      "model_module": "@jupyter-widgets/controls",
      "model_module_version": "1.4.0",
      "model_name": "DescriptionStyleModel",
      "state": {
       "description_width": ""
      }
     },
     "fb6bf275a3424571befd1f1f26e54b99": {
      "model_module": "@jupyter-widgets/base",
      "model_module_version": "1.1.0",
      "model_name": "LayoutModel",
      "state": {}
     },
     "fba4426550a54ccdab33d8110f1d0f34": {
      "model_module": "@jupyter-widgets/controls",
      "model_module_version": "1.4.0",
      "model_name": "DescriptionStyleModel",
      "state": {
       "description_width": ""
      }
     },
     "fbce0a3501c04c01b5be8c6e7fd80c3f": {
      "model_module": "@jupyter-widgets/controls",
      "model_module_version": "1.4.0",
      "model_name": "ButtonStyleModel",
      "state": {}
     },
     "fbd65f671fd44b859d149b9f3bdc2d53": {
      "model_module": "@jupyter-widgets/controls",
      "model_module_version": "1.4.0",
      "model_name": "VBoxModel",
      "state": {
       "children": [
        "IPY_MODEL_15107522eb3a4d1593a38724b99c6e20"
       ],
       "layout": "IPY_MODEL_3e96e531fb98423d85203ae65a56e4a0"
      }
     },
     "fc08d2e9c9694437905fd52943614030": {
      "model_module": "@jupyter-widgets/controls",
      "model_module_version": "1.4.0",
      "model_name": "ButtonStyleModel",
      "state": {}
     },
     "fc1b45949ef44887a3e78d3af01a98dc": {
      "model_module": "@jupyter-widgets/base",
      "model_module_version": "1.1.0",
      "model_name": "LayoutModel",
      "state": {}
     },
     "fc27629ce17d451a8166ad149620b233": {
      "model_module": "@jupyter-widgets/base",
      "model_module_version": "1.1.0",
      "model_name": "LayoutModel",
      "state": {
       "width": "30%"
      }
     },
     "fc7dae741fcf47b9817fecb1fccefee6": {
      "model_module": "@jupyter-widgets/controls",
      "model_module_version": "1.4.0",
      "model_name": "ProgressStyleModel",
      "state": {
       "description_width": "initial"
      }
     },
     "fc87876d70b449168d76c4110de2c6a0": {
      "model_module": "@jupyter-widgets/controls",
      "model_module_version": "1.4.0",
      "model_name": "SelectMultipleModel",
      "state": {
       "_options_labels": [
        "VI produced, good quality",
        "VI produced, but check other QA",
        "Pixel produced, but most probably cloudy",
        "Pixel not produced due to other reasons than clouds"
       ],
       "description": "Description",
       "index": [
        0
       ],
       "layout": "IPY_MODEL_c1bfb79b30c74c70b732a8b069ec7107",
       "rows": 4,
       "style": "IPY_MODEL_aa1561aa50924bb28f9d65f7888bd503"
      }
     },
     "fca92984db2a4f7db89793712c9a7428": {
      "model_module": "@jupyter-widgets/base",
      "model_module_version": "1.1.0",
      "model_name": "LayoutModel",
      "state": {}
     },
     "fcb6143ce1a6499caf785a99c4fa0afc": {
      "model_module": "@jupyter-widgets/base",
      "model_module_version": "1.1.0",
      "model_name": "LayoutModel",
      "state": {
       "width": "400px"
      }
     },
     "fcd93c38e5b5486d91f623aba2e32f35": {
      "model_module": "@jupyter-widgets/base",
      "model_module_version": "1.1.0",
      "model_name": "LayoutModel",
      "state": {}
     },
     "fcf84d9eef464a71b35f15c4af8e37e5": {
      "model_module": "@jupyter-widgets/base",
      "model_module_version": "1.1.0",
      "model_name": "LayoutModel",
      "state": {}
     },
     "fd2a1bab6a0e48bcaa62115df7244eef": {
      "model_module": "@jupyter-widgets/controls",
      "model_module_version": "1.4.0",
      "model_name": "ButtonStyleModel",
      "state": {}
     },
     "fda1ee3ab6674c77a88ed9513eecbbcd": {
      "model_module": "@jupyter-widgets/base",
      "model_module_version": "1.1.0",
      "model_name": "LayoutModel",
      "state": {
       "height": "200px",
       "width": "99%"
      }
     },
     "fda36595450e4b7e89fc7101e36dd76b": {
      "model_module": "@jupyter-widgets/controls",
      "model_module_version": "1.4.0",
      "model_name": "ButtonModel",
      "state": {
       "description": "Select ALL",
       "layout": "IPY_MODEL_413b852107ae41078f8517ced7733951",
       "style": "IPY_MODEL_c8a51140561f466d86c0347556036ce7"
      }
     },
     "fdaf36beaf564780b2c485e06b493db9": {
      "model_module": "@jupyter-widgets/controls",
      "model_module_version": "1.4.0",
      "model_name": "VBoxModel",
      "state": {
       "children": [
        "IPY_MODEL_21168dd3a71c4a49bc2df901cfb4176e"
       ],
       "layout": "IPY_MODEL_357c9fc9267040e880c0bd505c2ffcc2"
      }
     },
     "fdbecdb5c6c941b79f6a6ba127f7f4cf": {
      "model_module": "@jupyter-widgets/controls",
      "model_module_version": "1.4.0",
      "model_name": "VBoxModel",
      "state": {
       "children": [
        "IPY_MODEL_eb9f156cb07b4e32a9f20eb419bb97be"
       ],
       "layout": "IPY_MODEL_5cc0094fe313461186cdf16587d650d0"
      }
     },
     "fdd7e4d7149f4908906a01b2f1276cc8": {
      "model_module": "@jupyter-widgets/base",
      "model_module_version": "1.1.0",
      "model_name": "LayoutModel",
      "state": {
       "width": "400px"
      }
     },
     "fdeb4c30776a45bb8b427760fc243339": {
      "model_module": "@jupyter-widgets/base",
      "model_module_version": "1.1.0",
      "model_name": "LayoutModel",
      "state": {}
     },
     "fdec7c6e39764bac8ee5a7ffdc5d924f": {
      "model_module": "@jupyter-widgets/controls",
      "model_module_version": "1.4.0",
      "model_name": "ButtonModel",
      "state": {
       "description": "Default selection",
       "layout": "IPY_MODEL_962dd78b5e6c49f899231c6731df23ed",
       "style": "IPY_MODEL_334017913c7a402aabde7a853c31363b"
      }
     },
     "fe11d88ef1e74010ab65421dcfc851f3": {
      "model_module": "@jupyter-widgets/base",
      "model_module_version": "1.1.0",
      "model_name": "LayoutModel",
      "state": {
       "width": "50%"
      }
     },
     "fe216738383a4fd29a8425d0329efade": {
      "model_module": "@jupyter-widgets/base",
      "model_module_version": "1.1.0",
      "model_name": "LayoutModel",
      "state": {}
     },
     "fe49ce2cd26740bbbe74611cb350cf4a": {
      "model_module": "@jupyter-widgets/controls",
      "model_module_version": "1.4.0",
      "model_name": "HBoxModel",
      "state": {
       "children": [
        "IPY_MODEL_95aa62d5383349f0891e4b270b8aaf3d",
        "IPY_MODEL_53b500286d7d41b29f672f0a77776658",
        "IPY_MODEL_ec34ddbcf1924daeb70e99c4b92de958"
       ],
       "layout": "IPY_MODEL_5bcf0e8a32a7429f82454a5f1f8e3f0a"
      }
     },
     "fe76640adfe647829a3db4d5d132e8b2": {
      "model_module": "@jupyter-widgets/base",
      "model_module_version": "1.1.0",
      "model_name": "LayoutModel",
      "state": {}
     },
     "fe9ed20a4d0a44c99631e101ac1f83f8": {
      "model_module": "@jupyter-widgets/base",
      "model_module_version": "1.1.0",
      "model_name": "LayoutModel",
      "state": {
       "width": "50%"
      }
     },
     "feb20c206fa44d3c9c812b43721e757c": {
      "model_module": "@jupyter-widgets/base",
      "model_module_version": "1.1.0",
      "model_name": "LayoutModel",
      "state": {
       "height": "300px",
       "width": "99%"
      }
     },
     "fee63d18b90a4793b1ccd47562c68972": {
      "model_module": "@jupyter-widgets/controls",
      "model_module_version": "1.4.0",
      "model_name": "VBoxModel",
      "state": {
       "children": [
        "IPY_MODEL_3994e4675af14176ab8345001b3ae705"
       ],
       "layout": "IPY_MODEL_1b7fc13927f04404bbdd4805e4f28b7e"
      }
     },
     "ff01652771a44acbb362f8a8500895a7": {
      "model_module": "@jupyter-widgets/base",
      "model_module_version": "1.1.0",
      "model_name": "LayoutModel",
      "state": {
       "width": "30%"
      }
     },
     "ff09a4d4d1324505aa6d32b58588b8be": {
      "model_module": "@jupyter-widgets/controls",
      "model_module_version": "1.4.0",
      "model_name": "ButtonModel",
      "state": {
       "description": "Default selection",
       "layout": "IPY_MODEL_da89436ee9fa4b6bb8a13c5dd234d56e",
       "style": "IPY_MODEL_99cf3acd58764e2daee66c230c13631b"
      }
     },
     "ff2009148c534fbf87cdd7b00be534c9": {
      "model_module": "@jupyter-widgets/controls",
      "model_module_version": "1.4.0",
      "model_name": "VBoxModel",
      "state": {
       "children": [
        "IPY_MODEL_f321fe39f44c46c0a0f0d5a7287845e8"
       ],
       "layout": "IPY_MODEL_ae5d5deae6cf43a29ee1f99bf2262e75"
      }
     },
     "ff5cb15920034bc49f1157ea962ab346": {
      "model_module": "@jupyter-widgets/controls",
      "model_module_version": "1.4.0",
      "model_name": "VBoxModel",
      "state": {
       "children": [
        "IPY_MODEL_148eafa7397f47f8a893af4b850e2910"
       ],
       "layout": "IPY_MODEL_1852a04783154906841712febafd9290"
      }
     },
     "ffa831ff80c54237839e7a6d95ef86ef": {
      "model_module": "@jupyter-widgets/base",
      "model_module_version": "1.1.0",
      "model_name": "LayoutModel",
      "state": {
       "width": "20%"
      }
     },
     "ffa8f5a83a66460ca16813206496b3c6": {
      "model_module": "@jupyter-widgets/controls",
      "model_module_version": "1.4.0",
      "model_name": "DescriptionStyleModel",
      "state": {
       "description_width": ""
      }
     },
     "ffc63419d5a94b95a819551e21f87f95": {
      "model_module": "@jupyter-widgets/controls",
      "model_module_version": "1.4.0",
      "model_name": "ButtonStyleModel",
      "state": {}
     },
     "fff3c4aa955a4d878bccbc7da1fb62de": {
      "model_module": "@jupyter-widgets/controls",
      "model_module_version": "1.4.0",
      "model_name": "ButtonModel",
      "state": {
       "description": "Select ALL",
       "layout": "IPY_MODEL_f9c482ac290d4bae8b0dee3533f3349f",
       "style": "IPY_MODEL_87f04aae42344dc9b3ebc2bd0c16ca10"
      }
     },
     "fffa665b389143c0867d99cf4e3d2cc8": {
      "model_module": "@jupyter-widgets/controls",
      "model_module_version": "1.4.0",
      "model_name": "SelectMultipleModel",
      "state": {
       "_options_labels": [
        "Highest quality",
        "Lower quality",
        "Decreasing quality (0010)",
        "Decreasing quality (0011)",
        "Decreasing quality (0100)",
        "Decreasing quality (0101)",
        "Decreasing quality (0110)",
        "Decreasing quality (0111)",
        "Decreasing quality (1000)",
        "Decreasing quality (1001)",
        "Decreasing quality (1010)",
        "Decreasing quality (1011)",
        "Lowest quality",
        "Quality so low that it is not useful",
        "L1B data faulty",
        "Not useful for any other reason/not processed"
       ],
       "description": "Description",
       "index": [
        0
       ],
       "layout": "IPY_MODEL_11fd92e9e7284289bec33b19db0c6547",
       "rows": 16,
       "style": "IPY_MODEL_426a1e1cba7844b892475106e5ec47ff"
      }
     }
    },
    "version_major": 2,
    "version_minor": 0
   }
  }
 },
 "nbformat": 4,
 "nbformat_minor": 2
}
