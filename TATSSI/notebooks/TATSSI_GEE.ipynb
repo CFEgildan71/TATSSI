{
 "cells": [
  {
   "cell_type": "markdown",
   "metadata": {},
   "source": [
    "# Tools for Analyzing Time Series of Satellite Imagery (TATSSI)"
   ]
  },
  {
   "cell_type": "markdown",
   "metadata": {},
   "source": [
    "## Download data from the GEE\n",
    "TATSSI allows to dowload data products from Google Earth Engine [GEE](https://developers.google.com/earth-engine/datasets/) and create and process time series from different sensors such as:\n",
    "\n",
    "* Moderate Resolution Imaging Spectroradiometer [MODIS](https://lpdaac.usgs.gov/data/get-started-data/collection-overview/#MODIS_anchor)\n",
    "* Visible Infrared Imaging Radiometer Suite [VIIRS](https://lpdaac.usgs.gov/data/get-started-data/collection-overview/#S-NPPVIIRS_anchor)\n",
    "\n",
    "Downloading products from the GEE requires a Google Account, please, first regsiter as a user to get the login credentials and follow the instructions to authenticate to the Earth Engine using the [Python API](https://developers.google.com/earth-engine/python_install).\n",
    "\n",
    "1. Select your are of study, you can save it as a GeoJSON file, e.g. from the [geojson.io](http://geojson.io/) site.\n",
    "2. For the time being you need to match the official MODIS product bands and the GEE bands since the band names are not consistent.\n",
    "3. Generate the time series, you can then use the rest of the (awesome) TATSSI tools!"
   ]
  },
  {
   "cell_type": "code",
   "execution_count": null,
   "metadata": {
    "ExecuteTime": {
     "end_time": "2020-06-29T17:13:17.851846Z",
     "start_time": "2020-06-29T17:13:13.826919Z"
    }
   },
   "outputs": [],
   "source": [
    "# Import libraries\n",
    "import os\n",
    "import json\n",
    "\n",
    "import ee\n",
    "try:\n",
    "    ee.Initialize()\n",
    "except Exception as e:\n",
    "    ee.Authenticate()\n",
    "    ee.Initialize()\n",
    "\n",
    "from helpers import utils\n",
    "from TATSSI.download.gee_downloader import export_collection\n",
    "from TATSSI.time_series.generator import Generator"
   ]
  },
  {
   "cell_type": "code",
   "execution_count": null,
   "metadata": {
    "ExecuteTime": {
     "end_time": "2020-06-29T17:13:17.874914Z",
     "start_time": "2020-06-29T17:13:17.868567Z"
    },
    "hide_input": false,
    "scrolled": false
   },
   "outputs": [],
   "source": [
    "# Area of study\n",
    "with open('cordoba.geojson') as json_file:\n",
    "    region = json.load(json_file)\n",
    "    \n",
    "region = region['features'][0]['geometry']['coordinates']\n",
    "geometry = ee.Geometry.Polygon(region)\n",
    "print(geometry)"
   ]
  },
  {
   "cell_type": "markdown",
   "metadata": {},
   "source": [
    "For this example we will use the MODIS MOD13A2 product. Match the band names from the [LPDAAC](https://lpdaac.usgs.gov/products/mod13a2v006/) and the [GEE](https://developers.google.com/earth-engine/datasets/catalog/MODIS_006_MOD13A2)."
   ]
  },
  {
   "cell_type": "code",
   "execution_count": null,
   "metadata": {
    "ExecuteTime": {
     "end_time": "2020-06-29T17:13:24.082126Z",
     "start_time": "2020-06-29T17:13:24.075642Z"
    }
   },
   "outputs": [],
   "source": [
    "# Dictionary with \"GEE\" : \"LPDAAC\"\n",
    "bands = {\"DayOfYear\" : \"1_km_16_days_composite_day_of_the_year\",\n",
    "         \"EVI\" : \"1_km_16_days_EVI\",\n",
    "         \"RelativeAzimuth\" : \"1_km_16_days_relative_azimuth_angle\",\n",
    "         \"SummaryQA\" : \"1_km_16_days_pixel_reliability\",\n",
    "         \"sur_refl_b02\" : \"1_km_16_days_NIR_reflectance\",\n",
    "         \"sur_refl_b07\" : \"1_km_16_days_MIR_reflectance\",\n",
    "         \"DetailedQA\" : \"1_km_16_days_VI_Quality\",\n",
    "         \"NDVI\" : \"1_km_16_days_NDVI\",\n",
    "         \"SolarZenith\" : \"1_km_16_days_sun_zenith_angle\",\n",
    "         \"sur_refl_b01\" : \"1_km_16_days_red_reflectance\",\n",
    "         \"sur_refl_b03\" : \"1_km_16_days_blue_reflectance\",\n",
    "         \"ViewZenith\" : \"1_km_16_days_view_zenith_angle\"}"
   ]
  },
  {
   "cell_type": "markdown",
   "metadata": {},
   "source": [
    "Set the download parameters"
   ]
  },
  {
   "cell_type": "code",
   "execution_count": null,
   "metadata": {
    "ExecuteTime": {
     "end_time": "2020-06-29T17:13:29.779522Z",
     "start_time": "2020-06-29T17:13:29.758821Z"
    }
   },
   "outputs": [],
   "source": [
    "# Dates as YYYY-MM-DD\n",
    "start_date, end_date = '2015-01-01', '2020-03-31'\n",
    "\n",
    "# Get MODIS data\n",
    "product_name = 'MOD13A2'\n",
    "version = '006'\n",
    "\n",
    "# Product using GEE nomenclature\n",
    "product = f'MODIS/{version}/{product_name}'\n",
    "\n",
    "# Get GEE collection\n",
    "ee_collection = (ee.ImageCollection(product).\n",
    "                 filterBounds(geometry).\n",
    "                 filterDate(start_date, end_date))\n",
    "\n",
    "# Output directory\n",
    "output_dir = '/tmp/gls'"
   ]
  },
  {
   "cell_type": "markdown",
   "metadata": {},
   "source": [
    "Get the data!"
   ]
  },
  {
   "cell_type": "code",
   "execution_count": null,
   "metadata": {
    "ExecuteTime": {
     "end_time": "2020-06-29T17:19:27.948989Z",
     "start_time": "2020-06-29T17:13:33.090677Z"
    },
    "scrolled": true
   },
   "outputs": [],
   "source": [
    "datasets = export_collection(ee_collection, output_dir, bands=bands,\n",
    "                             product=product, version=version,\n",
    "                             scale=None, crs=None, region=region,\n",
    "                             file_per_band=True)"
   ]
  },
  {
   "cell_type": "markdown",
   "metadata": {},
   "source": [
    "Create TATSSI time series."
   ]
  },
  {
   "cell_type": "code",
   "execution_count": null,
   "metadata": {
    "ExecuteTime": {
     "end_time": "2020-06-29T17:20:31.413204Z",
     "start_time": "2020-06-29T17:19:38.568764Z"
    },
    "scrolled": true
   },
   "outputs": [],
   "source": [
    "# TATSSI Time Series Generator object\n",
    "tsg = Generator(source_dir=output_dir, product=product_name,\n",
    "                version=version, data_format='tif',\n",
    "                progressBar=None, preprocessed=True)\n",
    "\n",
    "# Create layerstacks\n",
    "tsg._Generator__datasets = datasets\n",
    "for dataset in tsg._Generator__datasets:\n",
    "    tsg._Generator__generate_layerstack(dataset, 'tif')\n",
    "\n",
    "# For the associated product layers, decode the corresponding QA bands\n",
    "tsg._Generator__decode_qa('tif')"
   ]
  },
  {
   "cell_type": "code",
   "execution_count": null,
   "metadata": {
    "ExecuteTime": {
     "end_time": "2020-06-29T17:29:53.930932Z",
     "start_time": "2020-06-29T17:29:53.898282Z"
    }
   },
   "outputs": [],
   "source": [
    "datasets"
   ]
  },
  {
   "cell_type": "code",
   "execution_count": null,
   "metadata": {},
   "outputs": [],
   "source": []
  }
 ],
 "metadata": {
  "kernelspec": {
   "display_name": "Python 3",
   "language": "python",
   "name": "python3"
  },
  "language_info": {
   "codemirror_mode": {
    "name": "ipython",
    "version": 3
   },
   "file_extension": ".py",
   "mimetype": "text/x-python",
   "name": "python",
   "nbconvert_exporter": "python",
   "pygments_lexer": "ipython3",
   "version": "3.7.3"
  },
  "toc": {
   "base_numbering": 1,
   "nav_menu": {},
   "number_sections": false,
   "sideBar": false,
   "skip_h1_title": false,
   "title_cell": "Table of Contents",
   "title_sidebar": "Contents",
   "toc_cell": false,
   "toc_position": {},
   "toc_section_display": false,
   "toc_window_display": false
  },
  "varInspector": {
   "cols": {
    "lenName": 16,
    "lenType": 16,
    "lenVar": 40
   },
   "kernels_config": {
    "python": {
     "delete_cmd_postfix": "",
     "delete_cmd_prefix": "del ",
     "library": "var_list.py",
     "varRefreshCmd": "print(var_dic_list())"
    },
    "r": {
     "delete_cmd_postfix": ") ",
     "delete_cmd_prefix": "rm(",
     "library": "var_list.r",
     "varRefreshCmd": "cat(var_dic_list()) "
    }
   },
   "types_to_exclude": [
    "module",
    "function",
    "builtin_function_or_method",
    "instance",
    "_Feature"
   ],
   "window_display": false
  }
 },
 "nbformat": 4,
 "nbformat_minor": 2
}
