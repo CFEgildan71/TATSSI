{
 "cells": [
  {
   "cell_type": "markdown",
   "metadata": {},
   "source": [
    "# Tools for Analyzing Time Series of Satellite Imagery (TATSSI)"
   ]
  },
  {
   "cell_type": "markdown",
   "metadata": {},
   "source": [
    "## Download data from the GEE\n",
    "TATSSI allows to dowload data products from Google Earth Engine [GEE](https://developers.google.com/earth-engine/datasets/) and create and process time series from different sensors such as:\n",
    "\n",
    "* Moderate Resolution Imaging Spectroradiometer [MODIS](https://lpdaac.usgs.gov/data/get-started-data/collection-overview/#MODIS_anchor)\n",
    "* Visible Infrared Imaging Radiometer Suite [VIIRS](https://lpdaac.usgs.gov/data/get-started-data/collection-overview/#S-NPPVIIRS_anchor)\n",
    "\n",
    "Downloading products from the GEE requires a Google Account, please, first regsiter as a user to get the login credentials and follow the instructions to authenticate to the Earth Engine using the [Python API](https://developers.google.com/earth-engine/python_install).\n",
    "\n",
    "1. Select your are of study, you can save it as a GeoJSON file, e.g. from the [geojson.io](http://geojson.io/) site.\n",
    "2. For the time being you need to match the official MODIS product bands and the GEE bands since the band names are not consistent.\n",
    "3. Generate the time series, you can then use the rest of the (awesome) TATSSI tools!"
   ]
  },
  {
   "cell_type": "code",
   "execution_count": 1,
   "metadata": {
    "ExecuteTime": {
     "end_time": "2020-06-30T18:55:51.182917Z",
     "start_time": "2020-06-30T18:55:47.254122Z"
    }
   },
   "outputs": [],
   "source": [
    "# Import libraries\n",
    "import os\n",
    "import json\n",
    "\n",
    "import ee\n",
    "try:\n",
    "    ee.Initialize()\n",
    "except Exception as e:\n",
    "    ee.Authenticate()\n",
    "    ee.Initialize()\n",
    "\n",
    "from helpers import utils\n",
    "from TATSSI.download.gee_downloader import export_collection\n",
    "from TATSSI.time_series.generator import Generator"
   ]
  },
  {
   "cell_type": "code",
   "execution_count": 2,
   "metadata": {
    "ExecuteTime": {
     "end_time": "2020-06-30T18:55:59.574003Z",
     "start_time": "2020-06-30T18:55:59.559782Z"
    },
    "hide_input": false,
    "scrolled": false
   },
   "outputs": [
    {
     "name": "stdout",
     "output_type": "stream",
     "text": [
      "ee.Geometry({\n",
      "  \"type\": \"Polygon\",\n",
      "  \"coordinates\": [\n",
      "    [\n",
      "      [\n",
      "        -64.1107177734375,\n",
      "        -20.535077326962796\n",
      "      ],\n",
      "      [\n",
      "        -63.02856445312499,\n",
      "        -20.535077326962796\n",
      "      ],\n",
      "      [\n",
      "        -63.02856445312499,\n",
      "        -19.580493479202513\n",
      "      ],\n",
      "      [\n",
      "        -64.1107177734375,\n",
      "        -19.580493479202513\n",
      "      ],\n",
      "      [\n",
      "        -64.1107177734375,\n",
      "        -20.535077326962796\n",
      "      ]\n",
      "    ]\n",
      "  ],\n",
      "  \"evenOdd\": true\n",
      "})\n"
     ]
    }
   ],
   "source": [
    "# Area of study\n",
    "with open('bolivia.geojson') as json_file:\n",
    "    region = json.load(json_file)\n",
    "    \n",
    "region = region['features'][0]['geometry']['coordinates']\n",
    "geometry = ee.Geometry.Polygon(region)\n",
    "print(geometry)"
   ]
  },
  {
   "cell_type": "markdown",
   "metadata": {},
   "source": [
    "For this example we will use the MODIS MOD13A2 product. Match the band names from the [LPDAAC](https://lpdaac.usgs.gov/products/mod13a2v006/) and the [GEE](https://developers.google.com/earth-engine/datasets/catalog/MODIS_006_MOD13A2)."
   ]
  },
  {
   "cell_type": "code",
   "execution_count": 3,
   "metadata": {
    "ExecuteTime": {
     "end_time": "2020-06-30T18:58:37.684339Z",
     "start_time": "2020-06-30T18:58:37.679425Z"
    }
   },
   "outputs": [],
   "source": [
    "# Dictionary with \"GEE\" : \"LPDAAC\"\n",
    "bands = {\"DayOfYear\" : \"1_km_16_days_composite_day_of_the_year\",\n",
    "         \"EVI\" : \"1_km_16_days_EVI\",\n",
    "         \"RelativeAzimuth\" : \"1_km_16_days_relative_azimuth_angle\",\n",
    "         \"SummaryQA\" : \"1_km_16_days_pixel_reliability\",\n",
    "         \"sur_refl_b02\" : \"1_km_16_days_NIR_reflectance\",\n",
    "         \"sur_refl_b07\" : \"1_km_16_days_MIR_reflectance\",\n",
    "         \"DetailedQA\" : \"1_km_16_days_VI_Quality\",\n",
    "         \"NDVI\" : \"1_km_16_days_NDVI\",\n",
    "         \"SolarZenith\" : \"1_km_16_days_sun_zenith_angle\",\n",
    "         \"sur_refl_b01\" : \"1_km_16_days_red_reflectance\",\n",
    "         \"sur_refl_b03\" : \"1_km_16_days_blue_reflectance\",\n",
    "         \"ViewZenith\" : \"1_km_16_days_view_zenith_angle\"}"
   ]
  },
  {
   "cell_type": "markdown",
   "metadata": {},
   "source": [
    "Set the download parameters"
   ]
  },
  {
   "cell_type": "code",
   "execution_count": 4,
   "metadata": {
    "ExecuteTime": {
     "end_time": "2020-06-30T18:58:51.934272Z",
     "start_time": "2020-06-30T18:58:51.927922Z"
    }
   },
   "outputs": [],
   "source": [
    "# Dates as YYYY-MM-DD\n",
    "start_date, end_date = '2017-06-01', '2020-06-30'\n",
    "\n",
    "# Get MODIS data\n",
    "product_name = 'MOD13A2'\n",
    "version = '006'\n",
    "\n",
    "# Product using GEE nomenclature\n",
    "product = f'MODIS/{version}/{product_name}'\n",
    "\n",
    "# Get GEE collection\n",
    "ee_collection = (ee.ImageCollection(product).\n",
    "                 filterBounds(geometry).\n",
    "                 filterDate(start_date, end_date))\n",
    "\n",
    "# Output directory\n",
    "output_dir = '/tmp/bolivia'"
   ]
  },
  {
   "cell_type": "markdown",
   "metadata": {},
   "source": [
    "Get the data!"
   ]
  },
  {
   "cell_type": "code",
   "execution_count": 5,
   "metadata": {
    "ExecuteTime": {
     "end_time": "2020-06-30T19:01:55.291587Z",
     "start_time": "2020-06-30T18:58:53.740380Z"
    },
    "scrolled": true
   },
   "outputs": [
    {
     "name": "stderr",
     "output_type": "stream",
     "text": [
      "INFO:googleapiclient.discovery:URL being requested: POST https://earthengine.googleapis.com/v1alpha/projects/earthengine-legacy/value:compute?prettyPrint=false&alt=json\n",
      "INFO:googleapiclient.discovery:URL being requested: POST https://earthengine.googleapis.com/v1alpha/projects/earthengine-legacy/value:compute?prettyPrint=false&alt=json\n",
      "INFO:TATSSI.download.gee_downloader:Total number of images: 70\n",
      "\n",
      "INFO:googleapiclient.discovery:URL being requested: POST https://earthengine.googleapis.com/v1alpha/projects/earthengine-legacy/value:compute?prettyPrint=false&alt=json\n",
      "INFO:TATSSI.download.gee_downloader:Exporting 1/70: 2017_06_10.tif\n",
      "INFO:googleapiclient.discovery:URL being requested: POST https://earthengine.googleapis.com/v1alpha/projects/earthengine-legacy/thumbnails?fields=name&alt=json\n"
     ]
    },
    {
     "name": "stdout",
     "output_type": "stream",
     "text": [
      "Generating URL ...\n"
     ]
    },
    {
     "name": "stderr",
     "output_type": "stream",
     "text": [
      "INFO:TATSSI.download.gee_downloader:Downloading data from https://earthengine.googleapis.com/v1alpha/projects/earthengine-legacy/thumbnails/f1fdb06f9810f33edc68b97e9968fdab-54c6574dc620e82987abba8bcf924e5a:getPixels\n",
      "Please wait ...\n",
      "INFO:TATSSI.download.gee_downloader:Data downloaded to /tmp/bolivia\n",
      "INFO:googleapiclient.discovery:URL being requested: POST https://earthengine.googleapis.com/v1alpha/projects/earthengine-legacy/value:compute?prettyPrint=false&alt=json\n",
      "INFO:TATSSI.download.gee_downloader:Exporting 2/70: 2017_06_26.tif\n",
      "INFO:googleapiclient.discovery:URL being requested: POST https://earthengine.googleapis.com/v1alpha/projects/earthengine-legacy/thumbnails?fields=name&alt=json\n"
     ]
    },
    {
     "name": "stdout",
     "output_type": "stream",
     "text": [
      "Generating URL ...\n"
     ]
    },
    {
     "name": "stderr",
     "output_type": "stream",
     "text": [
      "INFO:TATSSI.download.gee_downloader:Downloading data from https://earthengine.googleapis.com/v1alpha/projects/earthengine-legacy/thumbnails/82e60365a7b464651aeacde200175d88-b010acd339f3ed1e4e8309fadf9bb0f4:getPixels\n",
      "Please wait ...\n",
      "INFO:TATSSI.download.gee_downloader:Data downloaded to /tmp/bolivia\n",
      "INFO:googleapiclient.discovery:URL being requested: POST https://earthengine.googleapis.com/v1alpha/projects/earthengine-legacy/value:compute?prettyPrint=false&alt=json\n",
      "INFO:TATSSI.download.gee_downloader:Exporting 3/70: 2017_07_12.tif\n",
      "INFO:googleapiclient.discovery:URL being requested: POST https://earthengine.googleapis.com/v1alpha/projects/earthengine-legacy/thumbnails?fields=name&alt=json\n"
     ]
    },
    {
     "name": "stdout",
     "output_type": "stream",
     "text": [
      "Generating URL ...\n"
     ]
    },
    {
     "name": "stderr",
     "output_type": "stream",
     "text": [
      "INFO:TATSSI.download.gee_downloader:Downloading data from https://earthengine.googleapis.com/v1alpha/projects/earthengine-legacy/thumbnails/7ac56918cdd3e13e846718249dd5d8dc-7c2683899635a81e6f8e284b08dd6309:getPixels\n",
      "Please wait ...\n",
      "INFO:TATSSI.download.gee_downloader:Data downloaded to /tmp/bolivia\n",
      "INFO:googleapiclient.discovery:URL being requested: POST https://earthengine.googleapis.com/v1alpha/projects/earthengine-legacy/value:compute?prettyPrint=false&alt=json\n",
      "INFO:TATSSI.download.gee_downloader:Exporting 4/70: 2017_07_28.tif\n",
      "INFO:googleapiclient.discovery:URL being requested: POST https://earthengine.googleapis.com/v1alpha/projects/earthengine-legacy/thumbnails?fields=name&alt=json\n"
     ]
    },
    {
     "name": "stdout",
     "output_type": "stream",
     "text": [
      "Generating URL ...\n"
     ]
    },
    {
     "name": "stderr",
     "output_type": "stream",
     "text": [
      "INFO:TATSSI.download.gee_downloader:Downloading data from https://earthengine.googleapis.com/v1alpha/projects/earthengine-legacy/thumbnails/106fd7b2aab95a0f076aab81fdb44fe1-c493d76869d11d56b6a00f56792d2562:getPixels\n",
      "Please wait ...\n",
      "INFO:TATSSI.download.gee_downloader:Data downloaded to /tmp/bolivia\n",
      "INFO:googleapiclient.discovery:URL being requested: POST https://earthengine.googleapis.com/v1alpha/projects/earthengine-legacy/value:compute?prettyPrint=false&alt=json\n",
      "INFO:TATSSI.download.gee_downloader:Exporting 5/70: 2017_08_13.tif\n",
      "INFO:googleapiclient.discovery:URL being requested: POST https://earthengine.googleapis.com/v1alpha/projects/earthengine-legacy/thumbnails?fields=name&alt=json\n"
     ]
    },
    {
     "name": "stdout",
     "output_type": "stream",
     "text": [
      "Generating URL ...\n"
     ]
    },
    {
     "name": "stderr",
     "output_type": "stream",
     "text": [
      "INFO:TATSSI.download.gee_downloader:Downloading data from https://earthengine.googleapis.com/v1alpha/projects/earthengine-legacy/thumbnails/4d32cca6637a7d9dae16c811a2a834f1-8c70670c56c6509dd5dace6074afb212:getPixels\n",
      "Please wait ...\n",
      "INFO:TATSSI.download.gee_downloader:Data downloaded to /tmp/bolivia\n",
      "INFO:googleapiclient.discovery:URL being requested: POST https://earthengine.googleapis.com/v1alpha/projects/earthengine-legacy/value:compute?prettyPrint=false&alt=json\n",
      "INFO:TATSSI.download.gee_downloader:Exporting 6/70: 2017_08_29.tif\n",
      "INFO:googleapiclient.discovery:URL being requested: POST https://earthengine.googleapis.com/v1alpha/projects/earthengine-legacy/thumbnails?fields=name&alt=json\n"
     ]
    },
    {
     "name": "stdout",
     "output_type": "stream",
     "text": [
      "Generating URL ...\n"
     ]
    },
    {
     "name": "stderr",
     "output_type": "stream",
     "text": [
      "INFO:TATSSI.download.gee_downloader:Downloading data from https://earthengine.googleapis.com/v1alpha/projects/earthengine-legacy/thumbnails/78c23e6320da1cfc8a8859b81c60af8b-6cb7db55ae74052a0202ba1d05dd08fa:getPixels\n",
      "Please wait ...\n",
      "INFO:TATSSI.download.gee_downloader:Data downloaded to /tmp/bolivia\n",
      "INFO:googleapiclient.discovery:URL being requested: POST https://earthengine.googleapis.com/v1alpha/projects/earthengine-legacy/value:compute?prettyPrint=false&alt=json\n",
      "INFO:TATSSI.download.gee_downloader:Exporting 7/70: 2017_09_14.tif\n",
      "INFO:googleapiclient.discovery:URL being requested: POST https://earthengine.googleapis.com/v1alpha/projects/earthengine-legacy/thumbnails?fields=name&alt=json\n"
     ]
    },
    {
     "name": "stdout",
     "output_type": "stream",
     "text": [
      "Generating URL ...\n"
     ]
    },
    {
     "name": "stderr",
     "output_type": "stream",
     "text": [
      "INFO:TATSSI.download.gee_downloader:Downloading data from https://earthengine.googleapis.com/v1alpha/projects/earthengine-legacy/thumbnails/ba0148e696a45cb2001a849397c85a24-861eecb7daf29ec9ee8a8bff1c08b68d:getPixels\n",
      "Please wait ...\n",
      "INFO:TATSSI.download.gee_downloader:Data downloaded to /tmp/bolivia\n",
      "INFO:googleapiclient.discovery:URL being requested: POST https://earthengine.googleapis.com/v1alpha/projects/earthengine-legacy/value:compute?prettyPrint=false&alt=json\n",
      "INFO:TATSSI.download.gee_downloader:Exporting 8/70: 2017_09_30.tif\n",
      "INFO:googleapiclient.discovery:URL being requested: POST https://earthengine.googleapis.com/v1alpha/projects/earthengine-legacy/thumbnails?fields=name&alt=json\n"
     ]
    },
    {
     "name": "stdout",
     "output_type": "stream",
     "text": [
      "Generating URL ...\n"
     ]
    },
    {
     "name": "stderr",
     "output_type": "stream",
     "text": [
      "INFO:TATSSI.download.gee_downloader:Downloading data from https://earthengine.googleapis.com/v1alpha/projects/earthengine-legacy/thumbnails/6a5fe01d20ffb48333487c0660b9464b-0fe59034b64a28568b4e863544eee3a6:getPixels\n",
      "Please wait ...\n",
      "INFO:TATSSI.download.gee_downloader:Data downloaded to /tmp/bolivia\n",
      "INFO:googleapiclient.discovery:URL being requested: POST https://earthengine.googleapis.com/v1alpha/projects/earthengine-legacy/value:compute?prettyPrint=false&alt=json\n",
      "INFO:TATSSI.download.gee_downloader:Exporting 9/70: 2017_10_16.tif\n",
      "INFO:googleapiclient.discovery:URL being requested: POST https://earthengine.googleapis.com/v1alpha/projects/earthengine-legacy/thumbnails?fields=name&alt=json\n"
     ]
    },
    {
     "name": "stdout",
     "output_type": "stream",
     "text": [
      "Generating URL ...\n"
     ]
    },
    {
     "name": "stderr",
     "output_type": "stream",
     "text": [
      "INFO:TATSSI.download.gee_downloader:Downloading data from https://earthengine.googleapis.com/v1alpha/projects/earthengine-legacy/thumbnails/cb6b51554fec49d4451fc9b42c9dc6db-1598ada524d993a2de5aba36c32e82e2:getPixels\n",
      "Please wait ...\n",
      "INFO:TATSSI.download.gee_downloader:Data downloaded to /tmp/bolivia\n",
      "INFO:googleapiclient.discovery:URL being requested: POST https://earthengine.googleapis.com/v1alpha/projects/earthengine-legacy/value:compute?prettyPrint=false&alt=json\n",
      "INFO:TATSSI.download.gee_downloader:Exporting 10/70: 2017_11_01.tif\n",
      "INFO:googleapiclient.discovery:URL being requested: POST https://earthengine.googleapis.com/v1alpha/projects/earthengine-legacy/thumbnails?fields=name&alt=json\n"
     ]
    },
    {
     "name": "stdout",
     "output_type": "stream",
     "text": [
      "Generating URL ...\n"
     ]
    },
    {
     "name": "stderr",
     "output_type": "stream",
     "text": [
      "INFO:TATSSI.download.gee_downloader:Downloading data from https://earthengine.googleapis.com/v1alpha/projects/earthengine-legacy/thumbnails/348ba8638d03071e6a28399c82dffce9-0bb4d40d4c71769af585a71cedd3e5f4:getPixels\n",
      "Please wait ...\n",
      "INFO:TATSSI.download.gee_downloader:Data downloaded to /tmp/bolivia\n",
      "INFO:googleapiclient.discovery:URL being requested: POST https://earthengine.googleapis.com/v1alpha/projects/earthengine-legacy/value:compute?prettyPrint=false&alt=json\n",
      "INFO:TATSSI.download.gee_downloader:Exporting 11/70: 2017_11_17.tif\n",
      "INFO:googleapiclient.discovery:URL being requested: POST https://earthengine.googleapis.com/v1alpha/projects/earthengine-legacy/thumbnails?fields=name&alt=json\n"
     ]
    },
    {
     "name": "stdout",
     "output_type": "stream",
     "text": [
      "Generating URL ...\n"
     ]
    },
    {
     "name": "stderr",
     "output_type": "stream",
     "text": [
      "INFO:TATSSI.download.gee_downloader:Downloading data from https://earthengine.googleapis.com/v1alpha/projects/earthengine-legacy/thumbnails/27bc9d43a32f36c04236940cdcfca9de-a75b8740cc3e65704f7ee23a66565aef:getPixels\n",
      "Please wait ...\n",
      "INFO:TATSSI.download.gee_downloader:Data downloaded to /tmp/bolivia\n",
      "INFO:googleapiclient.discovery:URL being requested: POST https://earthengine.googleapis.com/v1alpha/projects/earthengine-legacy/value:compute?prettyPrint=false&alt=json\n",
      "INFO:TATSSI.download.gee_downloader:Exporting 12/70: 2017_12_03.tif\n",
      "INFO:googleapiclient.discovery:URL being requested: POST https://earthengine.googleapis.com/v1alpha/projects/earthengine-legacy/thumbnails?fields=name&alt=json\n"
     ]
    },
    {
     "name": "stdout",
     "output_type": "stream",
     "text": [
      "Generating URL ...\n"
     ]
    },
    {
     "name": "stderr",
     "output_type": "stream",
     "text": [
      "INFO:TATSSI.download.gee_downloader:Downloading data from https://earthengine.googleapis.com/v1alpha/projects/earthengine-legacy/thumbnails/d18375561749a0d11866122646094861-2a1a0835dbf7515318cfe496f6016f37:getPixels\n",
      "Please wait ...\n",
      "INFO:TATSSI.download.gee_downloader:Data downloaded to /tmp/bolivia\n",
      "INFO:googleapiclient.discovery:URL being requested: POST https://earthengine.googleapis.com/v1alpha/projects/earthengine-legacy/value:compute?prettyPrint=false&alt=json\n",
      "INFO:TATSSI.download.gee_downloader:Exporting 13/70: 2017_12_19.tif\n",
      "INFO:googleapiclient.discovery:URL being requested: POST https://earthengine.googleapis.com/v1alpha/projects/earthengine-legacy/thumbnails?fields=name&alt=json\n"
     ]
    },
    {
     "name": "stdout",
     "output_type": "stream",
     "text": [
      "Generating URL ...\n"
     ]
    },
    {
     "name": "stderr",
     "output_type": "stream",
     "text": [
      "INFO:TATSSI.download.gee_downloader:Downloading data from https://earthengine.googleapis.com/v1alpha/projects/earthengine-legacy/thumbnails/0d259b8e9dd7e0c2214151aebfc77bfa-0d387b3bcfa5e0b6322cbcb300fe313f:getPixels\n",
      "Please wait ...\n",
      "INFO:TATSSI.download.gee_downloader:Data downloaded to /tmp/bolivia\n",
      "INFO:googleapiclient.discovery:URL being requested: POST https://earthengine.googleapis.com/v1alpha/projects/earthengine-legacy/value:compute?prettyPrint=false&alt=json\n",
      "INFO:TATSSI.download.gee_downloader:Exporting 14/70: 2018_01_01.tif\n",
      "INFO:googleapiclient.discovery:URL being requested: POST https://earthengine.googleapis.com/v1alpha/projects/earthengine-legacy/thumbnails?fields=name&alt=json\n"
     ]
    },
    {
     "name": "stdout",
     "output_type": "stream",
     "text": [
      "Generating URL ...\n"
     ]
    },
    {
     "name": "stderr",
     "output_type": "stream",
     "text": [
      "INFO:TATSSI.download.gee_downloader:Downloading data from https://earthengine.googleapis.com/v1alpha/projects/earthengine-legacy/thumbnails/429a9c77174ceb5dd3b731fe4cddecd5-c5736f206c7b45dc9be81e5a001363df:getPixels\n",
      "Please wait ...\n",
      "INFO:TATSSI.download.gee_downloader:Data downloaded to /tmp/bolivia\n",
      "INFO:googleapiclient.discovery:URL being requested: POST https://earthengine.googleapis.com/v1alpha/projects/earthengine-legacy/value:compute?prettyPrint=false&alt=json\n",
      "INFO:TATSSI.download.gee_downloader:Exporting 15/70: 2018_01_17.tif\n",
      "INFO:googleapiclient.discovery:URL being requested: POST https://earthengine.googleapis.com/v1alpha/projects/earthengine-legacy/thumbnails?fields=name&alt=json\n"
     ]
    },
    {
     "name": "stdout",
     "output_type": "stream",
     "text": [
      "Generating URL ...\n"
     ]
    },
    {
     "name": "stderr",
     "output_type": "stream",
     "text": [
      "INFO:TATSSI.download.gee_downloader:Downloading data from https://earthengine.googleapis.com/v1alpha/projects/earthengine-legacy/thumbnails/fc514caea0e4dae580379e7f116fafe0-9deda747d0ec510736262d7c7db7bee0:getPixels\n",
      "Please wait ...\n",
      "INFO:TATSSI.download.gee_downloader:Data downloaded to /tmp/bolivia\n",
      "INFO:googleapiclient.discovery:URL being requested: POST https://earthengine.googleapis.com/v1alpha/projects/earthengine-legacy/value:compute?prettyPrint=false&alt=json\n",
      "INFO:TATSSI.download.gee_downloader:Exporting 16/70: 2018_02_02.tif\n",
      "INFO:googleapiclient.discovery:URL being requested: POST https://earthengine.googleapis.com/v1alpha/projects/earthengine-legacy/thumbnails?fields=name&alt=json\n"
     ]
    },
    {
     "name": "stdout",
     "output_type": "stream",
     "text": [
      "Generating URL ...\n"
     ]
    },
    {
     "name": "stderr",
     "output_type": "stream",
     "text": [
      "INFO:TATSSI.download.gee_downloader:Downloading data from https://earthengine.googleapis.com/v1alpha/projects/earthengine-legacy/thumbnails/544f038ad71d7fb0c0b5bf56376b45df-70b205b058b878ee6eb0c5a8fba01c64:getPixels\n",
      "Please wait ...\n",
      "INFO:TATSSI.download.gee_downloader:Data downloaded to /tmp/bolivia\n",
      "INFO:googleapiclient.discovery:URL being requested: POST https://earthengine.googleapis.com/v1alpha/projects/earthengine-legacy/value:compute?prettyPrint=false&alt=json\n",
      "INFO:TATSSI.download.gee_downloader:Exporting 17/70: 2018_02_18.tif\n",
      "INFO:googleapiclient.discovery:URL being requested: POST https://earthengine.googleapis.com/v1alpha/projects/earthengine-legacy/thumbnails?fields=name&alt=json\n"
     ]
    },
    {
     "name": "stdout",
     "output_type": "stream",
     "text": [
      "Generating URL ...\n"
     ]
    },
    {
     "name": "stderr",
     "output_type": "stream",
     "text": [
      "INFO:TATSSI.download.gee_downloader:Downloading data from https://earthengine.googleapis.com/v1alpha/projects/earthengine-legacy/thumbnails/8a818ddeda28c25b498195a3c1ecd4e4-737b3e9791cb5f25fa8a77a78c6a5887:getPixels\n",
      "Please wait ...\n",
      "INFO:TATSSI.download.gee_downloader:Data downloaded to /tmp/bolivia\n",
      "INFO:googleapiclient.discovery:URL being requested: POST https://earthengine.googleapis.com/v1alpha/projects/earthengine-legacy/value:compute?prettyPrint=false&alt=json\n",
      "INFO:TATSSI.download.gee_downloader:Exporting 18/70: 2018_03_06.tif\n",
      "INFO:googleapiclient.discovery:URL being requested: POST https://earthengine.googleapis.com/v1alpha/projects/earthengine-legacy/thumbnails?fields=name&alt=json\n"
     ]
    },
    {
     "name": "stdout",
     "output_type": "stream",
     "text": [
      "Generating URL ...\n"
     ]
    },
    {
     "name": "stderr",
     "output_type": "stream",
     "text": [
      "INFO:TATSSI.download.gee_downloader:Downloading data from https://earthengine.googleapis.com/v1alpha/projects/earthengine-legacy/thumbnails/cbb67d8cc816115669ea1e350ebe862f-8ea7f8dfcac25956052cdd6f564af1ce:getPixels\n",
      "Please wait ...\n",
      "INFO:TATSSI.download.gee_downloader:Data downloaded to /tmp/bolivia\n",
      "INFO:googleapiclient.discovery:URL being requested: POST https://earthengine.googleapis.com/v1alpha/projects/earthengine-legacy/value:compute?prettyPrint=false&alt=json\n",
      "INFO:TATSSI.download.gee_downloader:Exporting 19/70: 2018_03_22.tif\n",
      "INFO:googleapiclient.discovery:URL being requested: POST https://earthengine.googleapis.com/v1alpha/projects/earthengine-legacy/thumbnails?fields=name&alt=json\n"
     ]
    },
    {
     "name": "stdout",
     "output_type": "stream",
     "text": [
      "Generating URL ...\n"
     ]
    },
    {
     "name": "stderr",
     "output_type": "stream",
     "text": [
      "INFO:TATSSI.download.gee_downloader:Downloading data from https://earthengine.googleapis.com/v1alpha/projects/earthengine-legacy/thumbnails/848994441d8033ef49ba221d31eff537-17b46157250e583db49a0532df7e2a49:getPixels\n",
      "Please wait ...\n",
      "INFO:TATSSI.download.gee_downloader:Data downloaded to /tmp/bolivia\n",
      "INFO:googleapiclient.discovery:URL being requested: POST https://earthengine.googleapis.com/v1alpha/projects/earthengine-legacy/value:compute?prettyPrint=false&alt=json\n",
      "INFO:TATSSI.download.gee_downloader:Exporting 20/70: 2018_04_07.tif\n",
      "INFO:googleapiclient.discovery:URL being requested: POST https://earthengine.googleapis.com/v1alpha/projects/earthengine-legacy/thumbnails?fields=name&alt=json\n"
     ]
    },
    {
     "name": "stdout",
     "output_type": "stream",
     "text": [
      "Generating URL ...\n"
     ]
    },
    {
     "name": "stderr",
     "output_type": "stream",
     "text": [
      "INFO:TATSSI.download.gee_downloader:Downloading data from https://earthengine.googleapis.com/v1alpha/projects/earthengine-legacy/thumbnails/896427c7291ba3f25f6582cd2bc5e82c-7140c25cce3834412b9f4668c5dc0ca1:getPixels\n",
      "Please wait ...\n",
      "INFO:TATSSI.download.gee_downloader:Data downloaded to /tmp/bolivia\n",
      "INFO:googleapiclient.discovery:URL being requested: POST https://earthengine.googleapis.com/v1alpha/projects/earthengine-legacy/value:compute?prettyPrint=false&alt=json\n",
      "INFO:TATSSI.download.gee_downloader:Exporting 21/70: 2018_04_23.tif\n",
      "INFO:googleapiclient.discovery:URL being requested: POST https://earthengine.googleapis.com/v1alpha/projects/earthengine-legacy/thumbnails?fields=name&alt=json\n"
     ]
    },
    {
     "name": "stdout",
     "output_type": "stream",
     "text": [
      "Generating URL ...\n"
     ]
    },
    {
     "name": "stderr",
     "output_type": "stream",
     "text": [
      "INFO:TATSSI.download.gee_downloader:Downloading data from https://earthengine.googleapis.com/v1alpha/projects/earthengine-legacy/thumbnails/f07cb0414682fb2bf8890dcaa8afb0b9-e98535db1db0c827e569f57d5e9cb147:getPixels\n",
      "Please wait ...\n",
      "INFO:TATSSI.download.gee_downloader:Data downloaded to /tmp/bolivia\n",
      "INFO:googleapiclient.discovery:URL being requested: POST https://earthengine.googleapis.com/v1alpha/projects/earthengine-legacy/value:compute?prettyPrint=false&alt=json\n",
      "INFO:TATSSI.download.gee_downloader:Exporting 22/70: 2018_05_09.tif\n",
      "INFO:googleapiclient.discovery:URL being requested: POST https://earthengine.googleapis.com/v1alpha/projects/earthengine-legacy/thumbnails?fields=name&alt=json\n"
     ]
    },
    {
     "name": "stdout",
     "output_type": "stream",
     "text": [
      "Generating URL ...\n"
     ]
    },
    {
     "name": "stderr",
     "output_type": "stream",
     "text": [
      "INFO:TATSSI.download.gee_downloader:Downloading data from https://earthengine.googleapis.com/v1alpha/projects/earthengine-legacy/thumbnails/6c2a4b0cd591e84825205495852858c5-7bf7aa4c13415776c3a51d36ec8b5f4a:getPixels\n",
      "Please wait ...\n",
      "INFO:TATSSI.download.gee_downloader:Data downloaded to /tmp/bolivia\n",
      "INFO:googleapiclient.discovery:URL being requested: POST https://earthengine.googleapis.com/v1alpha/projects/earthengine-legacy/value:compute?prettyPrint=false&alt=json\n",
      "INFO:TATSSI.download.gee_downloader:Exporting 23/70: 2018_05_25.tif\n",
      "INFO:googleapiclient.discovery:URL being requested: POST https://earthengine.googleapis.com/v1alpha/projects/earthengine-legacy/thumbnails?fields=name&alt=json\n"
     ]
    },
    {
     "name": "stdout",
     "output_type": "stream",
     "text": [
      "Generating URL ...\n"
     ]
    },
    {
     "name": "stderr",
     "output_type": "stream",
     "text": [
      "INFO:TATSSI.download.gee_downloader:Downloading data from https://earthengine.googleapis.com/v1alpha/projects/earthengine-legacy/thumbnails/d221523a3cfd12ba9c956590d2593673-f1e4f7cee291139a983cdf971c4c9de5:getPixels\n",
      "Please wait ...\n",
      "INFO:TATSSI.download.gee_downloader:Data downloaded to /tmp/bolivia\n",
      "INFO:googleapiclient.discovery:URL being requested: POST https://earthengine.googleapis.com/v1alpha/projects/earthengine-legacy/value:compute?prettyPrint=false&alt=json\n",
      "INFO:TATSSI.download.gee_downloader:Exporting 24/70: 2018_06_10.tif\n",
      "INFO:googleapiclient.discovery:URL being requested: POST https://earthengine.googleapis.com/v1alpha/projects/earthengine-legacy/thumbnails?fields=name&alt=json\n"
     ]
    },
    {
     "name": "stdout",
     "output_type": "stream",
     "text": [
      "Generating URL ...\n"
     ]
    },
    {
     "name": "stderr",
     "output_type": "stream",
     "text": [
      "INFO:TATSSI.download.gee_downloader:Downloading data from https://earthengine.googleapis.com/v1alpha/projects/earthengine-legacy/thumbnails/43a59a4f7d5e2dbe876030989a2c7ed6-88b8b5c2e41d20259994acb8ab35e187:getPixels\n",
      "Please wait ...\n",
      "INFO:TATSSI.download.gee_downloader:Data downloaded to /tmp/bolivia\n",
      "INFO:googleapiclient.discovery:URL being requested: POST https://earthengine.googleapis.com/v1alpha/projects/earthengine-legacy/value:compute?prettyPrint=false&alt=json\n",
      "INFO:TATSSI.download.gee_downloader:Exporting 25/70: 2018_06_26.tif\n",
      "INFO:googleapiclient.discovery:URL being requested: POST https://earthengine.googleapis.com/v1alpha/projects/earthengine-legacy/thumbnails?fields=name&alt=json\n"
     ]
    },
    {
     "name": "stdout",
     "output_type": "stream",
     "text": [
      "Generating URL ...\n"
     ]
    },
    {
     "name": "stderr",
     "output_type": "stream",
     "text": [
      "INFO:TATSSI.download.gee_downloader:Downloading data from https://earthengine.googleapis.com/v1alpha/projects/earthengine-legacy/thumbnails/edbdcc9a825e10b673ae3b9d7b4b27ce-afe072fc229ed22b339c0078e4a5e9f6:getPixels\n",
      "Please wait ...\n",
      "INFO:TATSSI.download.gee_downloader:Data downloaded to /tmp/bolivia\n",
      "INFO:googleapiclient.discovery:URL being requested: POST https://earthengine.googleapis.com/v1alpha/projects/earthengine-legacy/value:compute?prettyPrint=false&alt=json\n",
      "INFO:TATSSI.download.gee_downloader:Exporting 26/70: 2018_07_12.tif\n",
      "INFO:googleapiclient.discovery:URL being requested: POST https://earthengine.googleapis.com/v1alpha/projects/earthengine-legacy/thumbnails?fields=name&alt=json\n"
     ]
    },
    {
     "name": "stdout",
     "output_type": "stream",
     "text": [
      "Generating URL ...\n"
     ]
    },
    {
     "name": "stderr",
     "output_type": "stream",
     "text": [
      "INFO:TATSSI.download.gee_downloader:Downloading data from https://earthengine.googleapis.com/v1alpha/projects/earthengine-legacy/thumbnails/f4fd7732031a37b5e5173082a3853558-6dfdc4a1c8cf34aa4c14b525c5183088:getPixels\n",
      "Please wait ...\n",
      "INFO:TATSSI.download.gee_downloader:Data downloaded to /tmp/bolivia\n",
      "INFO:googleapiclient.discovery:URL being requested: POST https://earthengine.googleapis.com/v1alpha/projects/earthengine-legacy/value:compute?prettyPrint=false&alt=json\n",
      "INFO:TATSSI.download.gee_downloader:Exporting 27/70: 2018_07_28.tif\n",
      "INFO:googleapiclient.discovery:URL being requested: POST https://earthengine.googleapis.com/v1alpha/projects/earthengine-legacy/thumbnails?fields=name&alt=json\n"
     ]
    },
    {
     "name": "stdout",
     "output_type": "stream",
     "text": [
      "Generating URL ...\n"
     ]
    },
    {
     "name": "stderr",
     "output_type": "stream",
     "text": [
      "INFO:TATSSI.download.gee_downloader:Downloading data from https://earthengine.googleapis.com/v1alpha/projects/earthengine-legacy/thumbnails/e5090081d6511d7b13e028fbc37c4935-d5d248f0499979ecbbba1345307fbdfe:getPixels\n",
      "Please wait ...\n",
      "INFO:TATSSI.download.gee_downloader:Data downloaded to /tmp/bolivia\n",
      "INFO:googleapiclient.discovery:URL being requested: POST https://earthengine.googleapis.com/v1alpha/projects/earthengine-legacy/value:compute?prettyPrint=false&alt=json\n",
      "INFO:TATSSI.download.gee_downloader:Exporting 28/70: 2018_08_13.tif\n",
      "INFO:googleapiclient.discovery:URL being requested: POST https://earthengine.googleapis.com/v1alpha/projects/earthengine-legacy/thumbnails?fields=name&alt=json\n"
     ]
    },
    {
     "name": "stdout",
     "output_type": "stream",
     "text": [
      "Generating URL ...\n"
     ]
    },
    {
     "name": "stderr",
     "output_type": "stream",
     "text": [
      "INFO:TATSSI.download.gee_downloader:Downloading data from https://earthengine.googleapis.com/v1alpha/projects/earthengine-legacy/thumbnails/ef21250b13d1f9ba074356bcb96262e1-e216c91d8c4829a78e95d2c6174f8159:getPixels\n",
      "Please wait ...\n",
      "INFO:TATSSI.download.gee_downloader:Data downloaded to /tmp/bolivia\n",
      "INFO:googleapiclient.discovery:URL being requested: POST https://earthengine.googleapis.com/v1alpha/projects/earthengine-legacy/value:compute?prettyPrint=false&alt=json\n",
      "INFO:TATSSI.download.gee_downloader:Exporting 29/70: 2018_08_29.tif\n",
      "INFO:googleapiclient.discovery:URL being requested: POST https://earthengine.googleapis.com/v1alpha/projects/earthengine-legacy/thumbnails?fields=name&alt=json\n"
     ]
    },
    {
     "name": "stdout",
     "output_type": "stream",
     "text": [
      "Generating URL ...\n"
     ]
    },
    {
     "name": "stderr",
     "output_type": "stream",
     "text": [
      "INFO:TATSSI.download.gee_downloader:Downloading data from https://earthengine.googleapis.com/v1alpha/projects/earthengine-legacy/thumbnails/eb1339b3152c2af5768366e17c7e2d2e-a6852659cb71830e38e76398fbae9d65:getPixels\n",
      "Please wait ...\n",
      "INFO:TATSSI.download.gee_downloader:Data downloaded to /tmp/bolivia\n",
      "INFO:googleapiclient.discovery:URL being requested: POST https://earthengine.googleapis.com/v1alpha/projects/earthengine-legacy/value:compute?prettyPrint=false&alt=json\n",
      "INFO:TATSSI.download.gee_downloader:Exporting 30/70: 2018_09_14.tif\n",
      "INFO:googleapiclient.discovery:URL being requested: POST https://earthengine.googleapis.com/v1alpha/projects/earthengine-legacy/thumbnails?fields=name&alt=json\n"
     ]
    },
    {
     "name": "stdout",
     "output_type": "stream",
     "text": [
      "Generating URL ...\n"
     ]
    },
    {
     "name": "stderr",
     "output_type": "stream",
     "text": [
      "INFO:TATSSI.download.gee_downloader:Downloading data from https://earthengine.googleapis.com/v1alpha/projects/earthengine-legacy/thumbnails/d427b4fd5eaf2ac16552cbcaa44f69c8-555c2a2e0ae94bee61f4855a65663aa9:getPixels\n",
      "Please wait ...\n",
      "INFO:TATSSI.download.gee_downloader:Data downloaded to /tmp/bolivia\n",
      "INFO:googleapiclient.discovery:URL being requested: POST https://earthengine.googleapis.com/v1alpha/projects/earthengine-legacy/value:compute?prettyPrint=false&alt=json\n",
      "INFO:TATSSI.download.gee_downloader:Exporting 31/70: 2018_09_30.tif\n",
      "INFO:googleapiclient.discovery:URL being requested: POST https://earthengine.googleapis.com/v1alpha/projects/earthengine-legacy/thumbnails?fields=name&alt=json\n"
     ]
    },
    {
     "name": "stdout",
     "output_type": "stream",
     "text": [
      "Generating URL ...\n"
     ]
    },
    {
     "name": "stderr",
     "output_type": "stream",
     "text": [
      "INFO:TATSSI.download.gee_downloader:Downloading data from https://earthengine.googleapis.com/v1alpha/projects/earthengine-legacy/thumbnails/c31ba6a608ab7f4320ab6d9abab402e8-5a86a420aa791a08614bfcae10cea313:getPixels\n",
      "Please wait ...\n",
      "INFO:TATSSI.download.gee_downloader:Data downloaded to /tmp/bolivia\n",
      "INFO:googleapiclient.discovery:URL being requested: POST https://earthengine.googleapis.com/v1alpha/projects/earthengine-legacy/value:compute?prettyPrint=false&alt=json\n",
      "INFO:TATSSI.download.gee_downloader:Exporting 32/70: 2018_10_16.tif\n",
      "INFO:googleapiclient.discovery:URL being requested: POST https://earthengine.googleapis.com/v1alpha/projects/earthengine-legacy/thumbnails?fields=name&alt=json\n"
     ]
    },
    {
     "name": "stdout",
     "output_type": "stream",
     "text": [
      "Generating URL ...\n"
     ]
    },
    {
     "name": "stderr",
     "output_type": "stream",
     "text": [
      "INFO:TATSSI.download.gee_downloader:Downloading data from https://earthengine.googleapis.com/v1alpha/projects/earthengine-legacy/thumbnails/5d7e64467423e09e06e348fedb8fa25a-792bd33b82e64b1c2e15acc0ca5720aa:getPixels\n",
      "Please wait ...\n",
      "INFO:TATSSI.download.gee_downloader:Data downloaded to /tmp/bolivia\n",
      "INFO:googleapiclient.discovery:URL being requested: POST https://earthengine.googleapis.com/v1alpha/projects/earthengine-legacy/value:compute?prettyPrint=false&alt=json\n",
      "INFO:TATSSI.download.gee_downloader:Exporting 33/70: 2018_11_01.tif\n",
      "INFO:googleapiclient.discovery:URL being requested: POST https://earthengine.googleapis.com/v1alpha/projects/earthengine-legacy/thumbnails?fields=name&alt=json\n"
     ]
    },
    {
     "name": "stdout",
     "output_type": "stream",
     "text": [
      "Generating URL ...\n"
     ]
    },
    {
     "name": "stderr",
     "output_type": "stream",
     "text": [
      "INFO:TATSSI.download.gee_downloader:Downloading data from https://earthengine.googleapis.com/v1alpha/projects/earthengine-legacy/thumbnails/6626bdb71e5bd788be3685c0b5d5a0ba-7f241f07fb9f0e37aa24f213f0645554:getPixels\n",
      "Please wait ...\n",
      "INFO:TATSSI.download.gee_downloader:Data downloaded to /tmp/bolivia\n",
      "INFO:googleapiclient.discovery:URL being requested: POST https://earthengine.googleapis.com/v1alpha/projects/earthengine-legacy/value:compute?prettyPrint=false&alt=json\n",
      "INFO:TATSSI.download.gee_downloader:Exporting 34/70: 2018_11_17.tif\n",
      "INFO:googleapiclient.discovery:URL being requested: POST https://earthengine.googleapis.com/v1alpha/projects/earthengine-legacy/thumbnails?fields=name&alt=json\n"
     ]
    },
    {
     "name": "stdout",
     "output_type": "stream",
     "text": [
      "Generating URL ...\n"
     ]
    },
    {
     "name": "stderr",
     "output_type": "stream",
     "text": [
      "INFO:TATSSI.download.gee_downloader:Downloading data from https://earthengine.googleapis.com/v1alpha/projects/earthengine-legacy/thumbnails/5562e9965e1e7c108760f71883edbb3f-2f2b8897b0e53dffe91ea8dcd103b671:getPixels\n",
      "Please wait ...\n",
      "INFO:TATSSI.download.gee_downloader:Data downloaded to /tmp/bolivia\n",
      "INFO:googleapiclient.discovery:URL being requested: POST https://earthengine.googleapis.com/v1alpha/projects/earthengine-legacy/value:compute?prettyPrint=false&alt=json\n",
      "INFO:TATSSI.download.gee_downloader:Exporting 35/70: 2018_12_03.tif\n",
      "INFO:googleapiclient.discovery:URL being requested: POST https://earthengine.googleapis.com/v1alpha/projects/earthengine-legacy/thumbnails?fields=name&alt=json\n"
     ]
    },
    {
     "name": "stdout",
     "output_type": "stream",
     "text": [
      "Generating URL ...\n"
     ]
    },
    {
     "name": "stderr",
     "output_type": "stream",
     "text": [
      "INFO:TATSSI.download.gee_downloader:Downloading data from https://earthengine.googleapis.com/v1alpha/projects/earthengine-legacy/thumbnails/9b0e2a101a0590b384a41abe622d5bcf-4e3988b73e45559242b448f0130f2c10:getPixels\n",
      "Please wait ...\n",
      "INFO:TATSSI.download.gee_downloader:Data downloaded to /tmp/bolivia\n",
      "INFO:googleapiclient.discovery:URL being requested: POST https://earthengine.googleapis.com/v1alpha/projects/earthengine-legacy/value:compute?prettyPrint=false&alt=json\n",
      "INFO:TATSSI.download.gee_downloader:Exporting 36/70: 2018_12_19.tif\n",
      "INFO:googleapiclient.discovery:URL being requested: POST https://earthengine.googleapis.com/v1alpha/projects/earthengine-legacy/thumbnails?fields=name&alt=json\n"
     ]
    },
    {
     "name": "stdout",
     "output_type": "stream",
     "text": [
      "Generating URL ...\n"
     ]
    },
    {
     "name": "stderr",
     "output_type": "stream",
     "text": [
      "INFO:TATSSI.download.gee_downloader:Downloading data from https://earthengine.googleapis.com/v1alpha/projects/earthengine-legacy/thumbnails/3f4ff0786b53888487dc4c5ade8c719a-ee4108fc306c6196870b501513c6c729:getPixels\n",
      "Please wait ...\n",
      "INFO:TATSSI.download.gee_downloader:Data downloaded to /tmp/bolivia\n",
      "INFO:googleapiclient.discovery:URL being requested: POST https://earthengine.googleapis.com/v1alpha/projects/earthengine-legacy/value:compute?prettyPrint=false&alt=json\n",
      "INFO:TATSSI.download.gee_downloader:Exporting 37/70: 2019_01_01.tif\n",
      "INFO:googleapiclient.discovery:URL being requested: POST https://earthengine.googleapis.com/v1alpha/projects/earthengine-legacy/thumbnails?fields=name&alt=json\n"
     ]
    },
    {
     "name": "stdout",
     "output_type": "stream",
     "text": [
      "Generating URL ...\n"
     ]
    },
    {
     "name": "stderr",
     "output_type": "stream",
     "text": [
      "INFO:TATSSI.download.gee_downloader:Downloading data from https://earthengine.googleapis.com/v1alpha/projects/earthengine-legacy/thumbnails/a18006139f09ff24caf9d6cae9f99a22-13349af9725099dc84995db22d66f56f:getPixels\n",
      "Please wait ...\n",
      "INFO:TATSSI.download.gee_downloader:Data downloaded to /tmp/bolivia\n",
      "INFO:googleapiclient.discovery:URL being requested: POST https://earthengine.googleapis.com/v1alpha/projects/earthengine-legacy/value:compute?prettyPrint=false&alt=json\n",
      "INFO:TATSSI.download.gee_downloader:Exporting 38/70: 2019_01_17.tif\n",
      "INFO:googleapiclient.discovery:URL being requested: POST https://earthengine.googleapis.com/v1alpha/projects/earthengine-legacy/thumbnails?fields=name&alt=json\n"
     ]
    },
    {
     "name": "stdout",
     "output_type": "stream",
     "text": [
      "Generating URL ...\n"
     ]
    },
    {
     "name": "stderr",
     "output_type": "stream",
     "text": [
      "INFO:TATSSI.download.gee_downloader:Downloading data from https://earthengine.googleapis.com/v1alpha/projects/earthengine-legacy/thumbnails/08918bf592333752b6d50d7223af98e0-3922c74933661fc1a5d1cf0515e37b0c:getPixels\n",
      "Please wait ...\n",
      "INFO:TATSSI.download.gee_downloader:Data downloaded to /tmp/bolivia\n",
      "INFO:googleapiclient.discovery:URL being requested: POST https://earthengine.googleapis.com/v1alpha/projects/earthengine-legacy/value:compute?prettyPrint=false&alt=json\n",
      "INFO:TATSSI.download.gee_downloader:Exporting 39/70: 2019_02_02.tif\n",
      "INFO:googleapiclient.discovery:URL being requested: POST https://earthengine.googleapis.com/v1alpha/projects/earthengine-legacy/thumbnails?fields=name&alt=json\n"
     ]
    },
    {
     "name": "stdout",
     "output_type": "stream",
     "text": [
      "Generating URL ...\n"
     ]
    },
    {
     "name": "stderr",
     "output_type": "stream",
     "text": [
      "INFO:TATSSI.download.gee_downloader:Downloading data from https://earthengine.googleapis.com/v1alpha/projects/earthengine-legacy/thumbnails/8b0f8d2c2202d6676712b37a1b4d9e3a-9f6bd868a542de2df307742b6cea5b8a:getPixels\n",
      "Please wait ...\n",
      "INFO:TATSSI.download.gee_downloader:Data downloaded to /tmp/bolivia\n",
      "INFO:googleapiclient.discovery:URL being requested: POST https://earthengine.googleapis.com/v1alpha/projects/earthengine-legacy/value:compute?prettyPrint=false&alt=json\n",
      "INFO:TATSSI.download.gee_downloader:Exporting 40/70: 2019_02_18.tif\n",
      "INFO:googleapiclient.discovery:URL being requested: POST https://earthengine.googleapis.com/v1alpha/projects/earthengine-legacy/thumbnails?fields=name&alt=json\n"
     ]
    },
    {
     "name": "stdout",
     "output_type": "stream",
     "text": [
      "Generating URL ...\n"
     ]
    },
    {
     "name": "stderr",
     "output_type": "stream",
     "text": [
      "INFO:TATSSI.download.gee_downloader:Downloading data from https://earthengine.googleapis.com/v1alpha/projects/earthengine-legacy/thumbnails/a94fb3ccc5d9a3f34145e0c92bc9592d-a683d35c433a09ad8848fcd9184266ba:getPixels\n",
      "Please wait ...\n",
      "INFO:TATSSI.download.gee_downloader:Data downloaded to /tmp/bolivia\n",
      "INFO:googleapiclient.discovery:URL being requested: POST https://earthengine.googleapis.com/v1alpha/projects/earthengine-legacy/value:compute?prettyPrint=false&alt=json\n",
      "INFO:TATSSI.download.gee_downloader:Exporting 41/70: 2019_03_06.tif\n",
      "INFO:googleapiclient.discovery:URL being requested: POST https://earthengine.googleapis.com/v1alpha/projects/earthengine-legacy/thumbnails?fields=name&alt=json\n"
     ]
    },
    {
     "name": "stdout",
     "output_type": "stream",
     "text": [
      "Generating URL ...\n"
     ]
    },
    {
     "name": "stderr",
     "output_type": "stream",
     "text": [
      "INFO:TATSSI.download.gee_downloader:Downloading data from https://earthengine.googleapis.com/v1alpha/projects/earthengine-legacy/thumbnails/3a4a598ea04a8145a795bd1b784d9e07-5c833c56ab63729bf8aae828064b63f8:getPixels\n",
      "Please wait ...\n",
      "INFO:TATSSI.download.gee_downloader:Data downloaded to /tmp/bolivia\n",
      "INFO:googleapiclient.discovery:URL being requested: POST https://earthengine.googleapis.com/v1alpha/projects/earthengine-legacy/value:compute?prettyPrint=false&alt=json\n",
      "INFO:TATSSI.download.gee_downloader:Exporting 42/70: 2019_03_22.tif\n",
      "INFO:googleapiclient.discovery:URL being requested: POST https://earthengine.googleapis.com/v1alpha/projects/earthengine-legacy/thumbnails?fields=name&alt=json\n"
     ]
    },
    {
     "name": "stdout",
     "output_type": "stream",
     "text": [
      "Generating URL ...\n"
     ]
    },
    {
     "name": "stderr",
     "output_type": "stream",
     "text": [
      "INFO:TATSSI.download.gee_downloader:Downloading data from https://earthengine.googleapis.com/v1alpha/projects/earthengine-legacy/thumbnails/42d1245f8ac974b8ab920292f3aca225-7bd7a7590b643eace34869a8d48fae80:getPixels\n",
      "Please wait ...\n",
      "INFO:TATSSI.download.gee_downloader:Data downloaded to /tmp/bolivia\n",
      "INFO:googleapiclient.discovery:URL being requested: POST https://earthengine.googleapis.com/v1alpha/projects/earthengine-legacy/value:compute?prettyPrint=false&alt=json\n",
      "INFO:TATSSI.download.gee_downloader:Exporting 43/70: 2019_04_07.tif\n",
      "INFO:googleapiclient.discovery:URL being requested: POST https://earthengine.googleapis.com/v1alpha/projects/earthengine-legacy/thumbnails?fields=name&alt=json\n"
     ]
    },
    {
     "name": "stdout",
     "output_type": "stream",
     "text": [
      "Generating URL ...\n"
     ]
    },
    {
     "name": "stderr",
     "output_type": "stream",
     "text": [
      "INFO:TATSSI.download.gee_downloader:Downloading data from https://earthengine.googleapis.com/v1alpha/projects/earthengine-legacy/thumbnails/f957335d6bcf4beb40b9759f3b1aaa6a-de06d0ecdf4496058699b40e6919b82e:getPixels\n",
      "Please wait ...\n",
      "INFO:TATSSI.download.gee_downloader:Data downloaded to /tmp/bolivia\n",
      "INFO:googleapiclient.discovery:URL being requested: POST https://earthengine.googleapis.com/v1alpha/projects/earthengine-legacy/value:compute?prettyPrint=false&alt=json\n",
      "INFO:TATSSI.download.gee_downloader:Exporting 44/70: 2019_04_23.tif\n",
      "INFO:googleapiclient.discovery:URL being requested: POST https://earthengine.googleapis.com/v1alpha/projects/earthengine-legacy/thumbnails?fields=name&alt=json\n"
     ]
    },
    {
     "name": "stdout",
     "output_type": "stream",
     "text": [
      "Generating URL ...\n"
     ]
    },
    {
     "name": "stderr",
     "output_type": "stream",
     "text": [
      "INFO:TATSSI.download.gee_downloader:Downloading data from https://earthengine.googleapis.com/v1alpha/projects/earthengine-legacy/thumbnails/e03d0df4090ced1459a41f0746fa1d84-c40e2be58b4322b3ca816097cbf19eb8:getPixels\n",
      "Please wait ...\n",
      "INFO:TATSSI.download.gee_downloader:Data downloaded to /tmp/bolivia\n",
      "INFO:googleapiclient.discovery:URL being requested: POST https://earthengine.googleapis.com/v1alpha/projects/earthengine-legacy/value:compute?prettyPrint=false&alt=json\n",
      "INFO:TATSSI.download.gee_downloader:Exporting 45/70: 2019_05_09.tif\n",
      "INFO:googleapiclient.discovery:URL being requested: POST https://earthengine.googleapis.com/v1alpha/projects/earthengine-legacy/thumbnails?fields=name&alt=json\n"
     ]
    },
    {
     "name": "stdout",
     "output_type": "stream",
     "text": [
      "Generating URL ...\n"
     ]
    },
    {
     "name": "stderr",
     "output_type": "stream",
     "text": [
      "INFO:TATSSI.download.gee_downloader:Downloading data from https://earthengine.googleapis.com/v1alpha/projects/earthengine-legacy/thumbnails/cdc435b7c13946378e8a09e9ace654df-fd08abc71c069b0541e9e435bf94fdb4:getPixels\n",
      "Please wait ...\n",
      "INFO:TATSSI.download.gee_downloader:Data downloaded to /tmp/bolivia\n",
      "INFO:googleapiclient.discovery:URL being requested: POST https://earthengine.googleapis.com/v1alpha/projects/earthengine-legacy/value:compute?prettyPrint=false&alt=json\n",
      "INFO:TATSSI.download.gee_downloader:Exporting 46/70: 2019_05_25.tif\n",
      "INFO:googleapiclient.discovery:URL being requested: POST https://earthengine.googleapis.com/v1alpha/projects/earthengine-legacy/thumbnails?fields=name&alt=json\n"
     ]
    },
    {
     "name": "stdout",
     "output_type": "stream",
     "text": [
      "Generating URL ...\n"
     ]
    },
    {
     "name": "stderr",
     "output_type": "stream",
     "text": [
      "INFO:TATSSI.download.gee_downloader:Downloading data from https://earthengine.googleapis.com/v1alpha/projects/earthengine-legacy/thumbnails/b204d3a53b24758a10ae058c5051fd34-7ca910fdff6157ed467aa75a2eb84054:getPixels\n",
      "Please wait ...\n",
      "INFO:TATSSI.download.gee_downloader:Data downloaded to /tmp/bolivia\n",
      "INFO:googleapiclient.discovery:URL being requested: POST https://earthengine.googleapis.com/v1alpha/projects/earthengine-legacy/value:compute?prettyPrint=false&alt=json\n",
      "INFO:TATSSI.download.gee_downloader:Exporting 47/70: 2019_06_10.tif\n",
      "INFO:googleapiclient.discovery:URL being requested: POST https://earthengine.googleapis.com/v1alpha/projects/earthengine-legacy/thumbnails?fields=name&alt=json\n"
     ]
    },
    {
     "name": "stdout",
     "output_type": "stream",
     "text": [
      "Generating URL ...\n"
     ]
    },
    {
     "name": "stderr",
     "output_type": "stream",
     "text": [
      "INFO:TATSSI.download.gee_downloader:Downloading data from https://earthengine.googleapis.com/v1alpha/projects/earthengine-legacy/thumbnails/8f42504028468a63eed04ab57ed9777d-92ec9b6854564beb25d04c23514400bb:getPixels\n",
      "Please wait ...\n",
      "INFO:TATSSI.download.gee_downloader:Data downloaded to /tmp/bolivia\n",
      "INFO:googleapiclient.discovery:URL being requested: POST https://earthengine.googleapis.com/v1alpha/projects/earthengine-legacy/value:compute?prettyPrint=false&alt=json\n",
      "INFO:TATSSI.download.gee_downloader:Exporting 48/70: 2019_06_26.tif\n",
      "INFO:googleapiclient.discovery:URL being requested: POST https://earthengine.googleapis.com/v1alpha/projects/earthengine-legacy/thumbnails?fields=name&alt=json\n"
     ]
    },
    {
     "name": "stdout",
     "output_type": "stream",
     "text": [
      "Generating URL ...\n"
     ]
    },
    {
     "name": "stderr",
     "output_type": "stream",
     "text": [
      "INFO:TATSSI.download.gee_downloader:Downloading data from https://earthengine.googleapis.com/v1alpha/projects/earthengine-legacy/thumbnails/81f6b0e61b591fe900a1b007b1e2fd20-45cb15255fd02aede3c3cb503fecf116:getPixels\n",
      "Please wait ...\n",
      "INFO:TATSSI.download.gee_downloader:Data downloaded to /tmp/bolivia\n",
      "INFO:googleapiclient.discovery:URL being requested: POST https://earthengine.googleapis.com/v1alpha/projects/earthengine-legacy/value:compute?prettyPrint=false&alt=json\n",
      "INFO:TATSSI.download.gee_downloader:Exporting 49/70: 2019_07_12.tif\n",
      "INFO:googleapiclient.discovery:URL being requested: POST https://earthengine.googleapis.com/v1alpha/projects/earthengine-legacy/thumbnails?fields=name&alt=json\n"
     ]
    },
    {
     "name": "stdout",
     "output_type": "stream",
     "text": [
      "Generating URL ...\n"
     ]
    },
    {
     "name": "stderr",
     "output_type": "stream",
     "text": [
      "INFO:TATSSI.download.gee_downloader:Downloading data from https://earthengine.googleapis.com/v1alpha/projects/earthengine-legacy/thumbnails/32acd5c83b51eeee26d246f10883b31b-d951598c355809a158a229e2ef4175b9:getPixels\n",
      "Please wait ...\n",
      "INFO:TATSSI.download.gee_downloader:Data downloaded to /tmp/bolivia\n",
      "INFO:googleapiclient.discovery:URL being requested: POST https://earthengine.googleapis.com/v1alpha/projects/earthengine-legacy/value:compute?prettyPrint=false&alt=json\n",
      "INFO:TATSSI.download.gee_downloader:Exporting 50/70: 2019_07_28.tif\n",
      "INFO:googleapiclient.discovery:URL being requested: POST https://earthengine.googleapis.com/v1alpha/projects/earthengine-legacy/thumbnails?fields=name&alt=json\n"
     ]
    },
    {
     "name": "stdout",
     "output_type": "stream",
     "text": [
      "Generating URL ...\n"
     ]
    },
    {
     "name": "stderr",
     "output_type": "stream",
     "text": [
      "INFO:TATSSI.download.gee_downloader:Downloading data from https://earthengine.googleapis.com/v1alpha/projects/earthengine-legacy/thumbnails/d20bcbdab7b31b02e7f34446fd9efabc-8f51ac90f60fb625a22271f5858e30ab:getPixels\n",
      "Please wait ...\n",
      "INFO:TATSSI.download.gee_downloader:Data downloaded to /tmp/bolivia\n",
      "INFO:googleapiclient.discovery:URL being requested: POST https://earthengine.googleapis.com/v1alpha/projects/earthengine-legacy/value:compute?prettyPrint=false&alt=json\n",
      "INFO:TATSSI.download.gee_downloader:Exporting 51/70: 2019_08_13.tif\n",
      "INFO:googleapiclient.discovery:URL being requested: POST https://earthengine.googleapis.com/v1alpha/projects/earthengine-legacy/thumbnails?fields=name&alt=json\n"
     ]
    },
    {
     "name": "stdout",
     "output_type": "stream",
     "text": [
      "Generating URL ...\n"
     ]
    },
    {
     "name": "stderr",
     "output_type": "stream",
     "text": [
      "INFO:TATSSI.download.gee_downloader:Downloading data from https://earthengine.googleapis.com/v1alpha/projects/earthengine-legacy/thumbnails/197b07086050088d29f929d85a59f6a9-af3437c5c7c9ea4fb507e08f979a48c3:getPixels\n",
      "Please wait ...\n",
      "INFO:TATSSI.download.gee_downloader:Data downloaded to /tmp/bolivia\n",
      "INFO:googleapiclient.discovery:URL being requested: POST https://earthengine.googleapis.com/v1alpha/projects/earthengine-legacy/value:compute?prettyPrint=false&alt=json\n",
      "INFO:TATSSI.download.gee_downloader:Exporting 52/70: 2019_08_29.tif\n",
      "INFO:googleapiclient.discovery:URL being requested: POST https://earthengine.googleapis.com/v1alpha/projects/earthengine-legacy/thumbnails?fields=name&alt=json\n"
     ]
    },
    {
     "name": "stdout",
     "output_type": "stream",
     "text": [
      "Generating URL ...\n"
     ]
    },
    {
     "name": "stderr",
     "output_type": "stream",
     "text": [
      "INFO:TATSSI.download.gee_downloader:Downloading data from https://earthengine.googleapis.com/v1alpha/projects/earthengine-legacy/thumbnails/e116797a672c7a0a260eb6fd42fa12dd-c811bab194f588e6b3e2121cd06ed150:getPixels\n",
      "Please wait ...\n",
      "INFO:TATSSI.download.gee_downloader:Data downloaded to /tmp/bolivia\n",
      "INFO:googleapiclient.discovery:URL being requested: POST https://earthengine.googleapis.com/v1alpha/projects/earthengine-legacy/value:compute?prettyPrint=false&alt=json\n",
      "INFO:TATSSI.download.gee_downloader:Exporting 53/70: 2019_09_14.tif\n",
      "INFO:googleapiclient.discovery:URL being requested: POST https://earthengine.googleapis.com/v1alpha/projects/earthengine-legacy/thumbnails?fields=name&alt=json\n"
     ]
    },
    {
     "name": "stdout",
     "output_type": "stream",
     "text": [
      "Generating URL ...\n"
     ]
    },
    {
     "name": "stderr",
     "output_type": "stream",
     "text": [
      "INFO:TATSSI.download.gee_downloader:Downloading data from https://earthengine.googleapis.com/v1alpha/projects/earthengine-legacy/thumbnails/f232a73624e15dfbf994b5844b295d76-8dd62826b8dbe1373705d6efd343e6ed:getPixels\n",
      "Please wait ...\n",
      "INFO:TATSSI.download.gee_downloader:Data downloaded to /tmp/bolivia\n",
      "INFO:googleapiclient.discovery:URL being requested: POST https://earthengine.googleapis.com/v1alpha/projects/earthengine-legacy/value:compute?prettyPrint=false&alt=json\n",
      "INFO:TATSSI.download.gee_downloader:Exporting 54/70: 2019_09_30.tif\n",
      "INFO:googleapiclient.discovery:URL being requested: POST https://earthengine.googleapis.com/v1alpha/projects/earthengine-legacy/thumbnails?fields=name&alt=json\n"
     ]
    },
    {
     "name": "stdout",
     "output_type": "stream",
     "text": [
      "Generating URL ...\n"
     ]
    },
    {
     "name": "stderr",
     "output_type": "stream",
     "text": [
      "INFO:TATSSI.download.gee_downloader:Downloading data from https://earthengine.googleapis.com/v1alpha/projects/earthengine-legacy/thumbnails/f185b1291fc98ecbe1da89c10c801b6b-abae60617ace6643acf7d26ccfc64e59:getPixels\n",
      "Please wait ...\n",
      "INFO:TATSSI.download.gee_downloader:Data downloaded to /tmp/bolivia\n",
      "INFO:googleapiclient.discovery:URL being requested: POST https://earthengine.googleapis.com/v1alpha/projects/earthengine-legacy/value:compute?prettyPrint=false&alt=json\n",
      "INFO:TATSSI.download.gee_downloader:Exporting 55/70: 2019_10_16.tif\n",
      "INFO:googleapiclient.discovery:URL being requested: POST https://earthengine.googleapis.com/v1alpha/projects/earthengine-legacy/thumbnails?fields=name&alt=json\n"
     ]
    },
    {
     "name": "stdout",
     "output_type": "stream",
     "text": [
      "Generating URL ...\n"
     ]
    },
    {
     "name": "stderr",
     "output_type": "stream",
     "text": [
      "INFO:TATSSI.download.gee_downloader:Downloading data from https://earthengine.googleapis.com/v1alpha/projects/earthengine-legacy/thumbnails/cce5c5e0007f2f1be306b54b8ad0d3c5-2d6bae7a333d7b91ef6ecadca3be2992:getPixels\n",
      "Please wait ...\n",
      "INFO:TATSSI.download.gee_downloader:Data downloaded to /tmp/bolivia\n",
      "INFO:googleapiclient.discovery:URL being requested: POST https://earthengine.googleapis.com/v1alpha/projects/earthengine-legacy/value:compute?prettyPrint=false&alt=json\n",
      "INFO:TATSSI.download.gee_downloader:Exporting 56/70: 2019_11_01.tif\n",
      "INFO:googleapiclient.discovery:URL being requested: POST https://earthengine.googleapis.com/v1alpha/projects/earthengine-legacy/thumbnails?fields=name&alt=json\n"
     ]
    },
    {
     "name": "stdout",
     "output_type": "stream",
     "text": [
      "Generating URL ...\n"
     ]
    },
    {
     "name": "stderr",
     "output_type": "stream",
     "text": [
      "INFO:TATSSI.download.gee_downloader:Downloading data from https://earthengine.googleapis.com/v1alpha/projects/earthengine-legacy/thumbnails/fbcf92f24729b28a06b840a7a72b17dc-e71afe13ff6d6031decab0f0402b2893:getPixels\n",
      "Please wait ...\n",
      "INFO:TATSSI.download.gee_downloader:Data downloaded to /tmp/bolivia\n",
      "INFO:googleapiclient.discovery:URL being requested: POST https://earthengine.googleapis.com/v1alpha/projects/earthengine-legacy/value:compute?prettyPrint=false&alt=json\n",
      "INFO:TATSSI.download.gee_downloader:Exporting 57/70: 2019_11_17.tif\n",
      "INFO:googleapiclient.discovery:URL being requested: POST https://earthengine.googleapis.com/v1alpha/projects/earthengine-legacy/thumbnails?fields=name&alt=json\n"
     ]
    },
    {
     "name": "stdout",
     "output_type": "stream",
     "text": [
      "Generating URL ...\n"
     ]
    },
    {
     "name": "stderr",
     "output_type": "stream",
     "text": [
      "INFO:TATSSI.download.gee_downloader:Downloading data from https://earthengine.googleapis.com/v1alpha/projects/earthengine-legacy/thumbnails/a7a971ab55b67dba8fda03a55ad50d57-fe5de91472b945493917f1f49b356706:getPixels\n",
      "Please wait ...\n",
      "INFO:TATSSI.download.gee_downloader:Data downloaded to /tmp/bolivia\n",
      "INFO:googleapiclient.discovery:URL being requested: POST https://earthengine.googleapis.com/v1alpha/projects/earthengine-legacy/value:compute?prettyPrint=false&alt=json\n",
      "INFO:TATSSI.download.gee_downloader:Exporting 58/70: 2019_12_03.tif\n",
      "INFO:googleapiclient.discovery:URL being requested: POST https://earthengine.googleapis.com/v1alpha/projects/earthengine-legacy/thumbnails?fields=name&alt=json\n"
     ]
    },
    {
     "name": "stdout",
     "output_type": "stream",
     "text": [
      "Generating URL ...\n"
     ]
    },
    {
     "name": "stderr",
     "output_type": "stream",
     "text": [
      "INFO:TATSSI.download.gee_downloader:Downloading data from https://earthengine.googleapis.com/v1alpha/projects/earthengine-legacy/thumbnails/324812d546847db5a997f140d2fd4288-95224025feed4b64fea443c796b74c4d:getPixels\n",
      "Please wait ...\n",
      "INFO:TATSSI.download.gee_downloader:Data downloaded to /tmp/bolivia\n",
      "INFO:googleapiclient.discovery:URL being requested: POST https://earthengine.googleapis.com/v1alpha/projects/earthengine-legacy/value:compute?prettyPrint=false&alt=json\n",
      "INFO:TATSSI.download.gee_downloader:Exporting 59/70: 2019_12_19.tif\n",
      "INFO:googleapiclient.discovery:URL being requested: POST https://earthengine.googleapis.com/v1alpha/projects/earthengine-legacy/thumbnails?fields=name&alt=json\n"
     ]
    },
    {
     "name": "stdout",
     "output_type": "stream",
     "text": [
      "Generating URL ...\n"
     ]
    },
    {
     "name": "stderr",
     "output_type": "stream",
     "text": [
      "INFO:TATSSI.download.gee_downloader:Downloading data from https://earthengine.googleapis.com/v1alpha/projects/earthengine-legacy/thumbnails/9d84ee5cfe51289453cf1d400b5069eb-08a1850e9021424c8b5d57149fed1fc1:getPixels\n",
      "Please wait ...\n",
      "INFO:TATSSI.download.gee_downloader:Data downloaded to /tmp/bolivia\n",
      "INFO:googleapiclient.discovery:URL being requested: POST https://earthengine.googleapis.com/v1alpha/projects/earthengine-legacy/value:compute?prettyPrint=false&alt=json\n",
      "INFO:TATSSI.download.gee_downloader:Exporting 60/70: 2020_01_01.tif\n",
      "INFO:googleapiclient.discovery:URL being requested: POST https://earthengine.googleapis.com/v1alpha/projects/earthengine-legacy/thumbnails?fields=name&alt=json\n"
     ]
    },
    {
     "name": "stdout",
     "output_type": "stream",
     "text": [
      "Generating URL ...\n"
     ]
    },
    {
     "name": "stderr",
     "output_type": "stream",
     "text": [
      "INFO:TATSSI.download.gee_downloader:Downloading data from https://earthengine.googleapis.com/v1alpha/projects/earthengine-legacy/thumbnails/3416f2547c605752d5cf925296d4dca4-b65b1e5d906785ed95f97f56362c4c04:getPixels\n",
      "Please wait ...\n",
      "INFO:TATSSI.download.gee_downloader:Data downloaded to /tmp/bolivia\n",
      "INFO:googleapiclient.discovery:URL being requested: POST https://earthengine.googleapis.com/v1alpha/projects/earthengine-legacy/value:compute?prettyPrint=false&alt=json\n",
      "INFO:TATSSI.download.gee_downloader:Exporting 61/70: 2020_01_17.tif\n",
      "INFO:googleapiclient.discovery:URL being requested: POST https://earthengine.googleapis.com/v1alpha/projects/earthengine-legacy/thumbnails?fields=name&alt=json\n"
     ]
    },
    {
     "name": "stdout",
     "output_type": "stream",
     "text": [
      "Generating URL ...\n"
     ]
    },
    {
     "name": "stderr",
     "output_type": "stream",
     "text": [
      "INFO:TATSSI.download.gee_downloader:Downloading data from https://earthengine.googleapis.com/v1alpha/projects/earthengine-legacy/thumbnails/63b03292e7a043cc0730b080586d031a-a8d80442993963c5531045deee930983:getPixels\n",
      "Please wait ...\n",
      "INFO:TATSSI.download.gee_downloader:Data downloaded to /tmp/bolivia\n",
      "INFO:googleapiclient.discovery:URL being requested: POST https://earthengine.googleapis.com/v1alpha/projects/earthengine-legacy/value:compute?prettyPrint=false&alt=json\n",
      "INFO:TATSSI.download.gee_downloader:Exporting 62/70: 2020_02_02.tif\n",
      "INFO:googleapiclient.discovery:URL being requested: POST https://earthengine.googleapis.com/v1alpha/projects/earthengine-legacy/thumbnails?fields=name&alt=json\n"
     ]
    },
    {
     "name": "stdout",
     "output_type": "stream",
     "text": [
      "Generating URL ...\n"
     ]
    },
    {
     "name": "stderr",
     "output_type": "stream",
     "text": [
      "INFO:TATSSI.download.gee_downloader:Downloading data from https://earthengine.googleapis.com/v1alpha/projects/earthengine-legacy/thumbnails/0ed76e33d303d78f4ee5805bb05e5178-e7839b61ffdf4bb0a5c5e48ebe847fa3:getPixels\n",
      "Please wait ...\n",
      "INFO:TATSSI.download.gee_downloader:Data downloaded to /tmp/bolivia\n",
      "INFO:googleapiclient.discovery:URL being requested: POST https://earthengine.googleapis.com/v1alpha/projects/earthengine-legacy/value:compute?prettyPrint=false&alt=json\n",
      "INFO:TATSSI.download.gee_downloader:Exporting 63/70: 2020_02_18.tif\n",
      "INFO:googleapiclient.discovery:URL being requested: POST https://earthengine.googleapis.com/v1alpha/projects/earthengine-legacy/thumbnails?fields=name&alt=json\n"
     ]
    },
    {
     "name": "stdout",
     "output_type": "stream",
     "text": [
      "Generating URL ...\n"
     ]
    },
    {
     "name": "stderr",
     "output_type": "stream",
     "text": [
      "INFO:TATSSI.download.gee_downloader:Downloading data from https://earthengine.googleapis.com/v1alpha/projects/earthengine-legacy/thumbnails/b2652b7b20cb6974ca3318dcbf034956-cc292b3b78715bd8fc8e4f6212b50e4c:getPixels\n",
      "Please wait ...\n",
      "INFO:TATSSI.download.gee_downloader:Data downloaded to /tmp/bolivia\n",
      "INFO:googleapiclient.discovery:URL being requested: POST https://earthengine.googleapis.com/v1alpha/projects/earthengine-legacy/value:compute?prettyPrint=false&alt=json\n",
      "INFO:TATSSI.download.gee_downloader:Exporting 64/70: 2020_03_05.tif\n",
      "INFO:googleapiclient.discovery:URL being requested: POST https://earthengine.googleapis.com/v1alpha/projects/earthengine-legacy/thumbnails?fields=name&alt=json\n"
     ]
    },
    {
     "name": "stdout",
     "output_type": "stream",
     "text": [
      "Generating URL ...\n"
     ]
    },
    {
     "name": "stderr",
     "output_type": "stream",
     "text": [
      "INFO:TATSSI.download.gee_downloader:Downloading data from https://earthengine.googleapis.com/v1alpha/projects/earthengine-legacy/thumbnails/97ac32b4fb05bfd4890bf84e2f64f439-b2af95b5a65103f72b7d01472ab77b2e:getPixels\n",
      "Please wait ...\n",
      "INFO:TATSSI.download.gee_downloader:Data downloaded to /tmp/bolivia\n",
      "INFO:googleapiclient.discovery:URL being requested: POST https://earthengine.googleapis.com/v1alpha/projects/earthengine-legacy/value:compute?prettyPrint=false&alt=json\n",
      "INFO:TATSSI.download.gee_downloader:Exporting 65/70: 2020_03_21.tif\n",
      "INFO:googleapiclient.discovery:URL being requested: POST https://earthengine.googleapis.com/v1alpha/projects/earthengine-legacy/thumbnails?fields=name&alt=json\n"
     ]
    },
    {
     "name": "stdout",
     "output_type": "stream",
     "text": [
      "Generating URL ...\n"
     ]
    },
    {
     "name": "stderr",
     "output_type": "stream",
     "text": [
      "INFO:TATSSI.download.gee_downloader:Downloading data from https://earthengine.googleapis.com/v1alpha/projects/earthengine-legacy/thumbnails/a5de4f51d0d67c674bc9a7a3a7c356d2-205a670df3b27983f14c88bdcb507329:getPixels\n",
      "Please wait ...\n",
      "INFO:TATSSI.download.gee_downloader:Data downloaded to /tmp/bolivia\n",
      "INFO:googleapiclient.discovery:URL being requested: POST https://earthengine.googleapis.com/v1alpha/projects/earthengine-legacy/value:compute?prettyPrint=false&alt=json\n",
      "INFO:TATSSI.download.gee_downloader:Exporting 66/70: 2020_04_06.tif\n",
      "INFO:googleapiclient.discovery:URL being requested: POST https://earthengine.googleapis.com/v1alpha/projects/earthengine-legacy/thumbnails?fields=name&alt=json\n"
     ]
    },
    {
     "name": "stdout",
     "output_type": "stream",
     "text": [
      "Generating URL ...\n"
     ]
    },
    {
     "name": "stderr",
     "output_type": "stream",
     "text": [
      "INFO:TATSSI.download.gee_downloader:Downloading data from https://earthengine.googleapis.com/v1alpha/projects/earthengine-legacy/thumbnails/7c4302ff2a9a05cba31a231ffe1ece41-edd4237c4e87df26b86bea3bebf57f2a:getPixels\n",
      "Please wait ...\n",
      "INFO:TATSSI.download.gee_downloader:Data downloaded to /tmp/bolivia\n",
      "INFO:googleapiclient.discovery:URL being requested: POST https://earthengine.googleapis.com/v1alpha/projects/earthengine-legacy/value:compute?prettyPrint=false&alt=json\n",
      "INFO:TATSSI.download.gee_downloader:Exporting 67/70: 2020_04_22.tif\n",
      "INFO:googleapiclient.discovery:URL being requested: POST https://earthengine.googleapis.com/v1alpha/projects/earthengine-legacy/thumbnails?fields=name&alt=json\n"
     ]
    },
    {
     "name": "stdout",
     "output_type": "stream",
     "text": [
      "Generating URL ...\n"
     ]
    },
    {
     "name": "stderr",
     "output_type": "stream",
     "text": [
      "INFO:TATSSI.download.gee_downloader:Downloading data from https://earthengine.googleapis.com/v1alpha/projects/earthengine-legacy/thumbnails/ddb21cf16cffdff8509a6273b5f0b663-f8c7468e65d89e2dcc26170e8e795c97:getPixels\n",
      "Please wait ...\n",
      "INFO:TATSSI.download.gee_downloader:Data downloaded to /tmp/bolivia\n",
      "INFO:googleapiclient.discovery:URL being requested: POST https://earthengine.googleapis.com/v1alpha/projects/earthengine-legacy/value:compute?prettyPrint=false&alt=json\n",
      "INFO:TATSSI.download.gee_downloader:Exporting 68/70: 2020_05_08.tif\n",
      "INFO:googleapiclient.discovery:URL being requested: POST https://earthengine.googleapis.com/v1alpha/projects/earthengine-legacy/thumbnails?fields=name&alt=json\n"
     ]
    },
    {
     "name": "stdout",
     "output_type": "stream",
     "text": [
      "Generating URL ...\n"
     ]
    },
    {
     "name": "stderr",
     "output_type": "stream",
     "text": [
      "INFO:TATSSI.download.gee_downloader:Downloading data from https://earthengine.googleapis.com/v1alpha/projects/earthengine-legacy/thumbnails/9309bf95a828cc76345497d16f4ab7ee-3ec95ddcd84127d2671c691bc7a08b60:getPixels\n",
      "Please wait ...\n",
      "INFO:TATSSI.download.gee_downloader:Data downloaded to /tmp/bolivia\n",
      "INFO:googleapiclient.discovery:URL being requested: POST https://earthengine.googleapis.com/v1alpha/projects/earthengine-legacy/value:compute?prettyPrint=false&alt=json\n",
      "INFO:TATSSI.download.gee_downloader:Exporting 69/70: 2020_05_24.tif\n",
      "INFO:googleapiclient.discovery:URL being requested: POST https://earthengine.googleapis.com/v1alpha/projects/earthengine-legacy/thumbnails?fields=name&alt=json\n"
     ]
    },
    {
     "name": "stdout",
     "output_type": "stream",
     "text": [
      "Generating URL ...\n"
     ]
    },
    {
     "name": "stderr",
     "output_type": "stream",
     "text": [
      "INFO:TATSSI.download.gee_downloader:Downloading data from https://earthengine.googleapis.com/v1alpha/projects/earthengine-legacy/thumbnails/86e23e14bd59344cb10b85ec9fd6ac0d-f84e897fd34e5520140df6535c93bddf:getPixels\n",
      "Please wait ...\n",
      "INFO:TATSSI.download.gee_downloader:Data downloaded to /tmp/bolivia\n",
      "INFO:googleapiclient.discovery:URL being requested: POST https://earthengine.googleapis.com/v1alpha/projects/earthengine-legacy/value:compute?prettyPrint=false&alt=json\n",
      "INFO:TATSSI.download.gee_downloader:Exporting 70/70: 2020_06_09.tif\n",
      "INFO:googleapiclient.discovery:URL being requested: POST https://earthengine.googleapis.com/v1alpha/projects/earthengine-legacy/thumbnails?fields=name&alt=json\n"
     ]
    },
    {
     "name": "stdout",
     "output_type": "stream",
     "text": [
      "Generating URL ...\n"
     ]
    },
    {
     "name": "stderr",
     "output_type": "stream",
     "text": [
      "INFO:TATSSI.download.gee_downloader:Downloading data from https://earthengine.googleapis.com/v1alpha/projects/earthengine-legacy/thumbnails/289e90b505fe0b64ba6fd51ca6c50481-f38e43e0155849eb94c562f252894623:getPixels\n",
      "Please wait ...\n",
      "INFO:TATSSI.download.gee_downloader:Data downloaded to /tmp/bolivia\n"
     ]
    }
   ],
   "source": [
    "datasets = export_collection(ee_collection, output_dir, bands=bands,\n",
    "                             product=product, version=version,\n",
    "                             scale=None, crs=None, region=region,\n",
    "                             file_per_band=True)"
   ]
  },
  {
   "cell_type": "markdown",
   "metadata": {},
   "source": [
    "Create TATSSI time series."
   ]
  },
  {
   "cell_type": "code",
   "execution_count": 6,
   "metadata": {
    "ExecuteTime": {
     "end_time": "2020-06-30T19:03:25.038134Z",
     "start_time": "2020-06-30T19:02:07.416422Z"
    },
    "scrolled": true
   },
   "outputs": [
    {
     "name": "stderr",
     "output_type": "stream",
     "text": [
      "INFO:TATSSI.time_series.generator:Layer stack for 1_km_16_days_NDVI created successfully.\n",
      "INFO:TATSSI.time_series.generator:Layer stack for 1_km_16_days_EVI created successfully.\n",
      "INFO:TATSSI.time_series.generator:Layer stack for 1_km_16_days_VI_Quality created successfully.\n",
      "INFO:TATSSI.time_series.generator:Layer stack for 1_km_16_days_red_reflectance created successfully.\n",
      "INFO:TATSSI.time_series.generator:Layer stack for 1_km_16_days_NIR_reflectance created successfully.\n",
      "INFO:TATSSI.time_series.generator:Layer stack for 1_km_16_days_blue_reflectance created successfully.\n",
      "INFO:TATSSI.time_series.generator:Layer stack for 1_km_16_days_MIR_reflectance created successfully.\n",
      "INFO:TATSSI.time_series.generator:Layer stack for 1_km_16_days_view_zenith_angle created successfully.\n",
      "INFO:TATSSI.time_series.generator:Layer stack for 1_km_16_days_sun_zenith_angle created successfully.\n",
      "INFO:TATSSI.time_series.generator:Layer stack for 1_km_16_days_relative_azimuth_angle created successfully.\n",
      "INFO:TATSSI.time_series.generator:Layer stack for 1_km_16_days_composite_day_of_the_year created successfully.\n",
      "INFO:TATSSI.time_series.generator:Layer stack for 1_km_16_days_pixel_reliability created successfully.\n",
      "INFO:TATSSI.qa.EOS.quality:Decoding MOD13A2.006...\n",
      "INFO:TATSSI.qa.EOS.quality:File /tmp/bolivia/1_km_16_days_VI_Quality/MOD13A2.2017_06_10.006.1_km_16_days_VI_Quality.tif\n",
      "INFO:TATSSI.qa.EOS.quality:Decoding QA layer MODLAND...\n",
      "INFO:TATSSI.qa.EOS.quality:Decoding QA layer VI Usefulness...\n",
      "INFO:TATSSI.qa.EOS.quality:Decoding QA layer Aerosol Quantity...\n",
      "INFO:TATSSI.qa.EOS.quality:Decoding QA layer Adjacent cloud detected...\n",
      "INFO:TATSSI.qa.EOS.quality:Decoding QA layer Atmosphere BRDF Correction...\n",
      "INFO:TATSSI.qa.EOS.quality:Decoding QA layer Mixed Clouds...\n",
      "INFO:TATSSI.qa.EOS.quality:Decoding QA layer Land/Water Mask...\n",
      "INFO:TATSSI.qa.EOS.quality:Decoding QA layer Possible snow/ice...\n",
      "INFO:TATSSI.qa.EOS.quality:Decoding QA layer Possible shadow...\n",
      "INFO:TATSSI.qa.EOS.quality:Decoding finished.\n",
      "INFO:TATSSI.qa.EOS.quality:Decoding MOD13A2.006...\n",
      "INFO:TATSSI.qa.EOS.quality:File /tmp/bolivia/1_km_16_days_VI_Quality/MOD13A2.2017_06_26.006.1_km_16_days_VI_Quality.tif\n",
      "INFO:TATSSI.qa.EOS.quality:Decoding QA layer MODLAND...\n",
      "INFO:TATSSI.qa.EOS.quality:Decoding QA layer VI Usefulness...\n",
      "INFO:TATSSI.qa.EOS.quality:Decoding QA layer Aerosol Quantity...\n",
      "INFO:TATSSI.qa.EOS.quality:Decoding QA layer Adjacent cloud detected...\n",
      "INFO:TATSSI.qa.EOS.quality:Decoding QA layer Atmosphere BRDF Correction...\n",
      "INFO:TATSSI.qa.EOS.quality:Decoding QA layer Mixed Clouds...\n",
      "INFO:TATSSI.qa.EOS.quality:Decoding QA layer Land/Water Mask...\n",
      "INFO:TATSSI.qa.EOS.quality:Decoding QA layer Possible snow/ice...\n",
      "INFO:TATSSI.qa.EOS.quality:Decoding QA layer Possible shadow...\n",
      "INFO:TATSSI.qa.EOS.quality:Decoding finished.\n",
      "INFO:TATSSI.qa.EOS.quality:Decoding MOD13A2.006...\n",
      "INFO:TATSSI.qa.EOS.quality:File /tmp/bolivia/1_km_16_days_VI_Quality/MOD13A2.2017_07_12.006.1_km_16_days_VI_Quality.tif\n",
      "INFO:TATSSI.qa.EOS.quality:Decoding QA layer MODLAND...\n",
      "INFO:TATSSI.qa.EOS.quality:Decoding QA layer VI Usefulness...\n",
      "INFO:TATSSI.qa.EOS.quality:Decoding QA layer Aerosol Quantity...\n",
      "INFO:TATSSI.qa.EOS.quality:Decoding QA layer Adjacent cloud detected...\n",
      "INFO:TATSSI.qa.EOS.quality:Decoding QA layer Atmosphere BRDF Correction...\n",
      "INFO:TATSSI.qa.EOS.quality:Decoding QA layer Mixed Clouds...\n",
      "INFO:TATSSI.qa.EOS.quality:Decoding QA layer Land/Water Mask...\n",
      "INFO:TATSSI.qa.EOS.quality:Decoding QA layer Possible snow/ice...\n",
      "INFO:TATSSI.qa.EOS.quality:Decoding QA layer Possible shadow...\n",
      "INFO:TATSSI.qa.EOS.quality:Decoding finished.\n",
      "INFO:TATSSI.qa.EOS.quality:Decoding MOD13A2.006...\n",
      "INFO:TATSSI.qa.EOS.quality:File /tmp/bolivia/1_km_16_days_VI_Quality/MOD13A2.2017_07_28.006.1_km_16_days_VI_Quality.tif\n",
      "INFO:TATSSI.qa.EOS.quality:Decoding QA layer MODLAND...\n",
      "INFO:TATSSI.qa.EOS.quality:Decoding QA layer VI Usefulness...\n",
      "INFO:TATSSI.qa.EOS.quality:Decoding QA layer Aerosol Quantity...\n",
      "INFO:TATSSI.qa.EOS.quality:Decoding QA layer Adjacent cloud detected...\n",
      "INFO:TATSSI.qa.EOS.quality:Decoding QA layer Atmosphere BRDF Correction...\n",
      "INFO:TATSSI.qa.EOS.quality:Decoding QA layer Mixed Clouds...\n",
      "INFO:TATSSI.qa.EOS.quality:Decoding QA layer Land/Water Mask...\n",
      "INFO:TATSSI.qa.EOS.quality:Decoding QA layer Possible snow/ice...\n",
      "INFO:TATSSI.qa.EOS.quality:Decoding QA layer Possible shadow...\n",
      "INFO:TATSSI.qa.EOS.quality:Decoding finished.\n",
      "INFO:TATSSI.qa.EOS.quality:Decoding MOD13A2.006...\n",
      "INFO:TATSSI.qa.EOS.quality:File /tmp/bolivia/1_km_16_days_VI_Quality/MOD13A2.2017_08_13.006.1_km_16_days_VI_Quality.tif\n",
      "INFO:TATSSI.qa.EOS.quality:Decoding QA layer MODLAND...\n",
      "INFO:TATSSI.qa.EOS.quality:Decoding QA layer VI Usefulness...\n",
      "INFO:TATSSI.qa.EOS.quality:Decoding QA layer Aerosol Quantity...\n",
      "INFO:TATSSI.qa.EOS.quality:Decoding QA layer Adjacent cloud detected...\n",
      "INFO:TATSSI.qa.EOS.quality:Decoding QA layer Atmosphere BRDF Correction...\n",
      "INFO:TATSSI.qa.EOS.quality:Decoding QA layer Mixed Clouds...\n",
      "INFO:TATSSI.qa.EOS.quality:Decoding QA layer Land/Water Mask...\n",
      "INFO:TATSSI.qa.EOS.quality:Decoding QA layer Possible snow/ice...\n",
      "INFO:TATSSI.qa.EOS.quality:Decoding QA layer Possible shadow...\n",
      "INFO:TATSSI.qa.EOS.quality:Decoding finished.\n",
      "INFO:TATSSI.qa.EOS.quality:Decoding MOD13A2.006...\n",
      "INFO:TATSSI.qa.EOS.quality:File /tmp/bolivia/1_km_16_days_VI_Quality/MOD13A2.2017_08_29.006.1_km_16_days_VI_Quality.tif\n",
      "INFO:TATSSI.qa.EOS.quality:Decoding QA layer MODLAND...\n",
      "INFO:TATSSI.qa.EOS.quality:Decoding QA layer VI Usefulness...\n",
      "INFO:TATSSI.qa.EOS.quality:Decoding QA layer Aerosol Quantity...\n",
      "INFO:TATSSI.qa.EOS.quality:Decoding QA layer Adjacent cloud detected...\n",
      "INFO:TATSSI.qa.EOS.quality:Decoding QA layer Atmosphere BRDF Correction...\n",
      "INFO:TATSSI.qa.EOS.quality:Decoding QA layer Mixed Clouds...\n",
      "INFO:TATSSI.qa.EOS.quality:Decoding QA layer Land/Water Mask...\n",
      "INFO:TATSSI.qa.EOS.quality:Decoding QA layer Possible snow/ice...\n",
      "INFO:TATSSI.qa.EOS.quality:Decoding QA layer Possible shadow...\n",
      "INFO:TATSSI.qa.EOS.quality:Decoding finished.\n",
      "INFO:TATSSI.qa.EOS.quality:Decoding MOD13A2.006...\n",
      "INFO:TATSSI.qa.EOS.quality:File /tmp/bolivia/1_km_16_days_VI_Quality/MOD13A2.2017_09_14.006.1_km_16_days_VI_Quality.tif\n",
      "INFO:TATSSI.qa.EOS.quality:Decoding QA layer MODLAND...\n",
      "INFO:TATSSI.qa.EOS.quality:Decoding QA layer VI Usefulness...\n",
      "INFO:TATSSI.qa.EOS.quality:Decoding QA layer Aerosol Quantity...\n",
      "INFO:TATSSI.qa.EOS.quality:Decoding QA layer Adjacent cloud detected...\n",
      "INFO:TATSSI.qa.EOS.quality:Decoding QA layer Atmosphere BRDF Correction...\n",
      "INFO:TATSSI.qa.EOS.quality:Decoding QA layer Mixed Clouds...\n",
      "INFO:TATSSI.qa.EOS.quality:Decoding QA layer Land/Water Mask...\n",
      "INFO:TATSSI.qa.EOS.quality:Decoding QA layer Possible snow/ice...\n",
      "INFO:TATSSI.qa.EOS.quality:Decoding QA layer Possible shadow...\n",
      "INFO:TATSSI.qa.EOS.quality:Decoding finished.\n",
      "INFO:TATSSI.qa.EOS.quality:Decoding MOD13A2.006...\n",
      "INFO:TATSSI.qa.EOS.quality:File /tmp/bolivia/1_km_16_days_VI_Quality/MOD13A2.2017_09_30.006.1_km_16_days_VI_Quality.tif\n",
      "INFO:TATSSI.qa.EOS.quality:Decoding QA layer MODLAND...\n",
      "INFO:TATSSI.qa.EOS.quality:Decoding QA layer VI Usefulness...\n",
      "INFO:TATSSI.qa.EOS.quality:Decoding QA layer Aerosol Quantity...\n",
      "INFO:TATSSI.qa.EOS.quality:Decoding QA layer Adjacent cloud detected...\n",
      "INFO:TATSSI.qa.EOS.quality:Decoding QA layer Atmosphere BRDF Correction...\n",
      "INFO:TATSSI.qa.EOS.quality:Decoding QA layer Mixed Clouds...\n",
      "INFO:TATSSI.qa.EOS.quality:Decoding QA layer Land/Water Mask...\n",
      "INFO:TATSSI.qa.EOS.quality:Decoding QA layer Possible snow/ice...\n",
      "INFO:TATSSI.qa.EOS.quality:Decoding QA layer Possible shadow...\n",
      "INFO:TATSSI.qa.EOS.quality:Decoding finished.\n",
      "INFO:TATSSI.qa.EOS.quality:Decoding MOD13A2.006...\n",
      "INFO:TATSSI.qa.EOS.quality:File /tmp/bolivia/1_km_16_days_VI_Quality/MOD13A2.2017_10_16.006.1_km_16_days_VI_Quality.tif\n",
      "INFO:TATSSI.qa.EOS.quality:Decoding QA layer MODLAND...\n",
      "INFO:TATSSI.qa.EOS.quality:Decoding QA layer VI Usefulness...\n",
      "INFO:TATSSI.qa.EOS.quality:Decoding QA layer Aerosol Quantity...\n",
      "INFO:TATSSI.qa.EOS.quality:Decoding QA layer Adjacent cloud detected...\n",
      "INFO:TATSSI.qa.EOS.quality:Decoding QA layer Atmosphere BRDF Correction...\n",
      "INFO:TATSSI.qa.EOS.quality:Decoding QA layer Mixed Clouds...\n",
      "INFO:TATSSI.qa.EOS.quality:Decoding QA layer Land/Water Mask...\n"
     ]
    },
    {
     "name": "stderr",
     "output_type": "stream",
     "text": [
      "INFO:TATSSI.qa.EOS.quality:Decoding QA layer Possible snow/ice...\n",
      "INFO:TATSSI.qa.EOS.quality:Decoding QA layer Possible shadow...\n",
      "INFO:TATSSI.qa.EOS.quality:Decoding finished.\n",
      "INFO:TATSSI.qa.EOS.quality:Decoding MOD13A2.006...\n",
      "INFO:TATSSI.qa.EOS.quality:File /tmp/bolivia/1_km_16_days_VI_Quality/MOD13A2.2017_11_01.006.1_km_16_days_VI_Quality.tif\n",
      "INFO:TATSSI.qa.EOS.quality:Decoding QA layer MODLAND...\n",
      "INFO:TATSSI.qa.EOS.quality:Decoding QA layer VI Usefulness...\n",
      "INFO:TATSSI.qa.EOS.quality:Decoding QA layer Aerosol Quantity...\n",
      "INFO:TATSSI.qa.EOS.quality:Decoding QA layer Adjacent cloud detected...\n",
      "INFO:TATSSI.qa.EOS.quality:Decoding QA layer Atmosphere BRDF Correction...\n",
      "INFO:TATSSI.qa.EOS.quality:Decoding QA layer Mixed Clouds...\n",
      "INFO:TATSSI.qa.EOS.quality:Decoding QA layer Land/Water Mask...\n",
      "INFO:TATSSI.qa.EOS.quality:Decoding QA layer Possible snow/ice...\n",
      "INFO:TATSSI.qa.EOS.quality:Decoding QA layer Possible shadow...\n",
      "INFO:TATSSI.qa.EOS.quality:Decoding finished.\n",
      "INFO:TATSSI.qa.EOS.quality:Decoding MOD13A2.006...\n",
      "INFO:TATSSI.qa.EOS.quality:File /tmp/bolivia/1_km_16_days_VI_Quality/MOD13A2.2017_11_17.006.1_km_16_days_VI_Quality.tif\n",
      "INFO:TATSSI.qa.EOS.quality:Decoding QA layer MODLAND...\n",
      "INFO:TATSSI.qa.EOS.quality:Decoding QA layer VI Usefulness...\n",
      "INFO:TATSSI.qa.EOS.quality:Decoding QA layer Aerosol Quantity...\n",
      "INFO:TATSSI.qa.EOS.quality:Decoding QA layer Adjacent cloud detected...\n",
      "INFO:TATSSI.qa.EOS.quality:Decoding QA layer Atmosphere BRDF Correction...\n",
      "INFO:TATSSI.qa.EOS.quality:Decoding QA layer Mixed Clouds...\n",
      "INFO:TATSSI.qa.EOS.quality:Decoding QA layer Land/Water Mask...\n",
      "INFO:TATSSI.qa.EOS.quality:Decoding QA layer Possible snow/ice...\n",
      "INFO:TATSSI.qa.EOS.quality:Decoding QA layer Possible shadow...\n",
      "INFO:TATSSI.qa.EOS.quality:Decoding finished.\n",
      "INFO:TATSSI.qa.EOS.quality:Decoding MOD13A2.006...\n",
      "INFO:TATSSI.qa.EOS.quality:File /tmp/bolivia/1_km_16_days_VI_Quality/MOD13A2.2017_12_03.006.1_km_16_days_VI_Quality.tif\n",
      "INFO:TATSSI.qa.EOS.quality:Decoding QA layer MODLAND...\n",
      "INFO:TATSSI.qa.EOS.quality:Decoding QA layer VI Usefulness...\n",
      "INFO:TATSSI.qa.EOS.quality:Decoding QA layer Aerosol Quantity...\n",
      "INFO:TATSSI.qa.EOS.quality:Decoding QA layer Adjacent cloud detected...\n",
      "INFO:TATSSI.qa.EOS.quality:Decoding QA layer Atmosphere BRDF Correction...\n",
      "INFO:TATSSI.qa.EOS.quality:Decoding QA layer Mixed Clouds...\n",
      "INFO:TATSSI.qa.EOS.quality:Decoding QA layer Land/Water Mask...\n",
      "INFO:TATSSI.qa.EOS.quality:Decoding QA layer Possible snow/ice...\n",
      "INFO:TATSSI.qa.EOS.quality:Decoding QA layer Possible shadow...\n",
      "INFO:TATSSI.qa.EOS.quality:Decoding finished.\n",
      "INFO:TATSSI.qa.EOS.quality:Decoding MOD13A2.006...\n",
      "INFO:TATSSI.qa.EOS.quality:File /tmp/bolivia/1_km_16_days_VI_Quality/MOD13A2.2017_12_19.006.1_km_16_days_VI_Quality.tif\n",
      "INFO:TATSSI.qa.EOS.quality:Decoding QA layer MODLAND...\n",
      "INFO:TATSSI.qa.EOS.quality:Decoding QA layer VI Usefulness...\n",
      "INFO:TATSSI.qa.EOS.quality:Decoding QA layer Aerosol Quantity...\n",
      "INFO:TATSSI.qa.EOS.quality:Decoding QA layer Adjacent cloud detected...\n",
      "INFO:TATSSI.qa.EOS.quality:Decoding QA layer Atmosphere BRDF Correction...\n",
      "INFO:TATSSI.qa.EOS.quality:Decoding QA layer Mixed Clouds...\n",
      "INFO:TATSSI.qa.EOS.quality:Decoding QA layer Land/Water Mask...\n",
      "INFO:TATSSI.qa.EOS.quality:Decoding QA layer Possible snow/ice...\n",
      "INFO:TATSSI.qa.EOS.quality:Decoding QA layer Possible shadow...\n",
      "INFO:TATSSI.qa.EOS.quality:Decoding finished.\n",
      "INFO:TATSSI.qa.EOS.quality:Decoding MOD13A2.006...\n",
      "INFO:TATSSI.qa.EOS.quality:File /tmp/bolivia/1_km_16_days_VI_Quality/MOD13A2.2018_01_01.006.1_km_16_days_VI_Quality.tif\n",
      "INFO:TATSSI.qa.EOS.quality:Decoding QA layer MODLAND...\n",
      "INFO:TATSSI.qa.EOS.quality:Decoding QA layer VI Usefulness...\n",
      "INFO:TATSSI.qa.EOS.quality:Decoding QA layer Aerosol Quantity...\n",
      "INFO:TATSSI.qa.EOS.quality:Decoding QA layer Adjacent cloud detected...\n",
      "INFO:TATSSI.qa.EOS.quality:Decoding QA layer Atmosphere BRDF Correction...\n",
      "INFO:TATSSI.qa.EOS.quality:Decoding QA layer Mixed Clouds...\n",
      "INFO:TATSSI.qa.EOS.quality:Decoding QA layer Land/Water Mask...\n",
      "INFO:TATSSI.qa.EOS.quality:Decoding QA layer Possible snow/ice...\n",
      "INFO:TATSSI.qa.EOS.quality:Decoding QA layer Possible shadow...\n",
      "INFO:TATSSI.qa.EOS.quality:Decoding finished.\n",
      "INFO:TATSSI.qa.EOS.quality:Decoding MOD13A2.006...\n",
      "INFO:TATSSI.qa.EOS.quality:File /tmp/bolivia/1_km_16_days_VI_Quality/MOD13A2.2018_01_17.006.1_km_16_days_VI_Quality.tif\n",
      "INFO:TATSSI.qa.EOS.quality:Decoding QA layer MODLAND...\n",
      "INFO:TATSSI.qa.EOS.quality:Decoding QA layer VI Usefulness...\n",
      "INFO:TATSSI.qa.EOS.quality:Decoding QA layer Aerosol Quantity...\n",
      "INFO:TATSSI.qa.EOS.quality:Decoding QA layer Adjacent cloud detected...\n",
      "INFO:TATSSI.qa.EOS.quality:Decoding QA layer Atmosphere BRDF Correction...\n",
      "INFO:TATSSI.qa.EOS.quality:Decoding QA layer Mixed Clouds...\n",
      "INFO:TATSSI.qa.EOS.quality:Decoding QA layer Land/Water Mask...\n",
      "INFO:TATSSI.qa.EOS.quality:Decoding QA layer Possible snow/ice...\n",
      "INFO:TATSSI.qa.EOS.quality:Decoding QA layer Possible shadow...\n",
      "INFO:TATSSI.qa.EOS.quality:Decoding finished.\n",
      "INFO:TATSSI.qa.EOS.quality:Decoding MOD13A2.006...\n",
      "INFO:TATSSI.qa.EOS.quality:File /tmp/bolivia/1_km_16_days_VI_Quality/MOD13A2.2018_02_02.006.1_km_16_days_VI_Quality.tif\n",
      "INFO:TATSSI.qa.EOS.quality:Decoding QA layer MODLAND...\n",
      "INFO:TATSSI.qa.EOS.quality:Decoding QA layer VI Usefulness...\n",
      "INFO:TATSSI.qa.EOS.quality:Decoding QA layer Aerosol Quantity...\n",
      "INFO:TATSSI.qa.EOS.quality:Decoding QA layer Adjacent cloud detected...\n",
      "INFO:TATSSI.qa.EOS.quality:Decoding QA layer Atmosphere BRDF Correction...\n",
      "INFO:TATSSI.qa.EOS.quality:Decoding QA layer Mixed Clouds...\n",
      "INFO:TATSSI.qa.EOS.quality:Decoding QA layer Land/Water Mask...\n",
      "INFO:TATSSI.qa.EOS.quality:Decoding QA layer Possible snow/ice...\n",
      "INFO:TATSSI.qa.EOS.quality:Decoding QA layer Possible shadow...\n",
      "INFO:TATSSI.qa.EOS.quality:Decoding finished.\n",
      "INFO:TATSSI.qa.EOS.quality:Decoding MOD13A2.006...\n",
      "INFO:TATSSI.qa.EOS.quality:File /tmp/bolivia/1_km_16_days_VI_Quality/MOD13A2.2018_02_18.006.1_km_16_days_VI_Quality.tif\n",
      "INFO:TATSSI.qa.EOS.quality:Decoding QA layer MODLAND...\n",
      "INFO:TATSSI.qa.EOS.quality:Decoding QA layer VI Usefulness...\n",
      "INFO:TATSSI.qa.EOS.quality:Decoding QA layer Aerosol Quantity...\n",
      "INFO:TATSSI.qa.EOS.quality:Decoding QA layer Adjacent cloud detected...\n",
      "INFO:TATSSI.qa.EOS.quality:Decoding QA layer Atmosphere BRDF Correction...\n",
      "INFO:TATSSI.qa.EOS.quality:Decoding QA layer Mixed Clouds...\n",
      "INFO:TATSSI.qa.EOS.quality:Decoding QA layer Land/Water Mask...\n",
      "INFO:TATSSI.qa.EOS.quality:Decoding QA layer Possible snow/ice...\n",
      "INFO:TATSSI.qa.EOS.quality:Decoding QA layer Possible shadow...\n",
      "INFO:TATSSI.qa.EOS.quality:Decoding finished.\n",
      "INFO:TATSSI.qa.EOS.quality:Decoding MOD13A2.006...\n",
      "INFO:TATSSI.qa.EOS.quality:File /tmp/bolivia/1_km_16_days_VI_Quality/MOD13A2.2018_03_06.006.1_km_16_days_VI_Quality.tif\n",
      "INFO:TATSSI.qa.EOS.quality:Decoding QA layer MODLAND...\n",
      "INFO:TATSSI.qa.EOS.quality:Decoding QA layer VI Usefulness...\n",
      "INFO:TATSSI.qa.EOS.quality:Decoding QA layer Aerosol Quantity...\n",
      "INFO:TATSSI.qa.EOS.quality:Decoding QA layer Adjacent cloud detected...\n",
      "INFO:TATSSI.qa.EOS.quality:Decoding QA layer Atmosphere BRDF Correction...\n",
      "INFO:TATSSI.qa.EOS.quality:Decoding QA layer Mixed Clouds...\n",
      "INFO:TATSSI.qa.EOS.quality:Decoding QA layer Land/Water Mask...\n",
      "INFO:TATSSI.qa.EOS.quality:Decoding QA layer Possible snow/ice...\n",
      "INFO:TATSSI.qa.EOS.quality:Decoding QA layer Possible shadow...\n",
      "INFO:TATSSI.qa.EOS.quality:Decoding finished.\n",
      "INFO:TATSSI.qa.EOS.quality:Decoding MOD13A2.006...\n",
      "INFO:TATSSI.qa.EOS.quality:File /tmp/bolivia/1_km_16_days_VI_Quality/MOD13A2.2018_03_22.006.1_km_16_days_VI_Quality.tif\n",
      "INFO:TATSSI.qa.EOS.quality:Decoding QA layer MODLAND...\n",
      "INFO:TATSSI.qa.EOS.quality:Decoding QA layer VI Usefulness...\n",
      "INFO:TATSSI.qa.EOS.quality:Decoding QA layer Aerosol Quantity...\n",
      "INFO:TATSSI.qa.EOS.quality:Decoding QA layer Adjacent cloud detected...\n",
      "INFO:TATSSI.qa.EOS.quality:Decoding QA layer Atmosphere BRDF Correction...\n",
      "INFO:TATSSI.qa.EOS.quality:Decoding QA layer Mixed Clouds...\n",
      "INFO:TATSSI.qa.EOS.quality:Decoding QA layer Land/Water Mask...\n",
      "INFO:TATSSI.qa.EOS.quality:Decoding QA layer Possible snow/ice...\n",
      "INFO:TATSSI.qa.EOS.quality:Decoding QA layer Possible shadow...\n",
      "INFO:TATSSI.qa.EOS.quality:Decoding finished.\n"
     ]
    },
    {
     "name": "stderr",
     "output_type": "stream",
     "text": [
      "INFO:TATSSI.qa.EOS.quality:Decoding MOD13A2.006...\n",
      "INFO:TATSSI.qa.EOS.quality:File /tmp/bolivia/1_km_16_days_VI_Quality/MOD13A2.2018_04_07.006.1_km_16_days_VI_Quality.tif\n",
      "INFO:TATSSI.qa.EOS.quality:Decoding QA layer MODLAND...\n",
      "INFO:TATSSI.qa.EOS.quality:Decoding QA layer VI Usefulness...\n",
      "INFO:TATSSI.qa.EOS.quality:Decoding QA layer Aerosol Quantity...\n",
      "INFO:TATSSI.qa.EOS.quality:Decoding QA layer Adjacent cloud detected...\n",
      "INFO:TATSSI.qa.EOS.quality:Decoding QA layer Atmosphere BRDF Correction...\n",
      "INFO:TATSSI.qa.EOS.quality:Decoding QA layer Mixed Clouds...\n",
      "INFO:TATSSI.qa.EOS.quality:Decoding QA layer Land/Water Mask...\n",
      "INFO:TATSSI.qa.EOS.quality:Decoding QA layer Possible snow/ice...\n",
      "INFO:TATSSI.qa.EOS.quality:Decoding QA layer Possible shadow...\n",
      "INFO:TATSSI.qa.EOS.quality:Decoding finished.\n",
      "INFO:TATSSI.qa.EOS.quality:Decoding MOD13A2.006...\n",
      "INFO:TATSSI.qa.EOS.quality:File /tmp/bolivia/1_km_16_days_VI_Quality/MOD13A2.2018_04_23.006.1_km_16_days_VI_Quality.tif\n",
      "INFO:TATSSI.qa.EOS.quality:Decoding QA layer MODLAND...\n",
      "INFO:TATSSI.qa.EOS.quality:Decoding QA layer VI Usefulness...\n",
      "INFO:TATSSI.qa.EOS.quality:Decoding QA layer Aerosol Quantity...\n",
      "INFO:TATSSI.qa.EOS.quality:Decoding QA layer Adjacent cloud detected...\n",
      "INFO:TATSSI.qa.EOS.quality:Decoding QA layer Atmosphere BRDF Correction...\n",
      "INFO:TATSSI.qa.EOS.quality:Decoding QA layer Mixed Clouds...\n",
      "INFO:TATSSI.qa.EOS.quality:Decoding QA layer Land/Water Mask...\n",
      "INFO:TATSSI.qa.EOS.quality:Decoding QA layer Possible snow/ice...\n",
      "INFO:TATSSI.qa.EOS.quality:Decoding QA layer Possible shadow...\n",
      "INFO:TATSSI.qa.EOS.quality:Decoding finished.\n",
      "INFO:TATSSI.qa.EOS.quality:Decoding MOD13A2.006...\n",
      "INFO:TATSSI.qa.EOS.quality:File /tmp/bolivia/1_km_16_days_VI_Quality/MOD13A2.2018_05_09.006.1_km_16_days_VI_Quality.tif\n",
      "INFO:TATSSI.qa.EOS.quality:Decoding QA layer MODLAND...\n",
      "INFO:TATSSI.qa.EOS.quality:Decoding QA layer VI Usefulness...\n",
      "INFO:TATSSI.qa.EOS.quality:Decoding QA layer Aerosol Quantity...\n",
      "INFO:TATSSI.qa.EOS.quality:Decoding QA layer Adjacent cloud detected...\n",
      "INFO:TATSSI.qa.EOS.quality:Decoding QA layer Atmosphere BRDF Correction...\n",
      "INFO:TATSSI.qa.EOS.quality:Decoding QA layer Mixed Clouds...\n",
      "INFO:TATSSI.qa.EOS.quality:Decoding QA layer Land/Water Mask...\n",
      "INFO:TATSSI.qa.EOS.quality:Decoding QA layer Possible snow/ice...\n",
      "INFO:TATSSI.qa.EOS.quality:Decoding QA layer Possible shadow...\n",
      "INFO:TATSSI.qa.EOS.quality:Decoding finished.\n",
      "INFO:TATSSI.qa.EOS.quality:Decoding MOD13A2.006...\n",
      "INFO:TATSSI.qa.EOS.quality:File /tmp/bolivia/1_km_16_days_VI_Quality/MOD13A2.2018_05_25.006.1_km_16_days_VI_Quality.tif\n",
      "INFO:TATSSI.qa.EOS.quality:Decoding QA layer MODLAND...\n",
      "INFO:TATSSI.qa.EOS.quality:Decoding QA layer VI Usefulness...\n",
      "INFO:TATSSI.qa.EOS.quality:Decoding QA layer Aerosol Quantity...\n",
      "INFO:TATSSI.qa.EOS.quality:Decoding QA layer Adjacent cloud detected...\n",
      "INFO:TATSSI.qa.EOS.quality:Decoding QA layer Atmosphere BRDF Correction...\n",
      "INFO:TATSSI.qa.EOS.quality:Decoding QA layer Mixed Clouds...\n",
      "INFO:TATSSI.qa.EOS.quality:Decoding QA layer Land/Water Mask...\n",
      "INFO:TATSSI.qa.EOS.quality:Decoding QA layer Possible snow/ice...\n",
      "INFO:TATSSI.qa.EOS.quality:Decoding QA layer Possible shadow...\n",
      "INFO:TATSSI.qa.EOS.quality:Decoding finished.\n",
      "INFO:TATSSI.qa.EOS.quality:Decoding MOD13A2.006...\n",
      "INFO:TATSSI.qa.EOS.quality:File /tmp/bolivia/1_km_16_days_VI_Quality/MOD13A2.2018_06_10.006.1_km_16_days_VI_Quality.tif\n",
      "INFO:TATSSI.qa.EOS.quality:Decoding QA layer MODLAND...\n",
      "INFO:TATSSI.qa.EOS.quality:Decoding QA layer VI Usefulness...\n",
      "INFO:TATSSI.qa.EOS.quality:Decoding QA layer Aerosol Quantity...\n",
      "INFO:TATSSI.qa.EOS.quality:Decoding QA layer Adjacent cloud detected...\n",
      "INFO:TATSSI.qa.EOS.quality:Decoding QA layer Atmosphere BRDF Correction...\n",
      "INFO:TATSSI.qa.EOS.quality:Decoding QA layer Mixed Clouds...\n",
      "INFO:TATSSI.qa.EOS.quality:Decoding QA layer Land/Water Mask...\n",
      "INFO:TATSSI.qa.EOS.quality:Decoding QA layer Possible snow/ice...\n",
      "INFO:TATSSI.qa.EOS.quality:Decoding QA layer Possible shadow...\n",
      "INFO:TATSSI.qa.EOS.quality:Decoding finished.\n",
      "INFO:TATSSI.qa.EOS.quality:Decoding MOD13A2.006...\n",
      "INFO:TATSSI.qa.EOS.quality:File /tmp/bolivia/1_km_16_days_VI_Quality/MOD13A2.2018_06_26.006.1_km_16_days_VI_Quality.tif\n",
      "INFO:TATSSI.qa.EOS.quality:Decoding QA layer MODLAND...\n",
      "INFO:TATSSI.qa.EOS.quality:Decoding QA layer VI Usefulness...\n",
      "INFO:TATSSI.qa.EOS.quality:Decoding QA layer Aerosol Quantity...\n",
      "INFO:TATSSI.qa.EOS.quality:Decoding QA layer Adjacent cloud detected...\n",
      "INFO:TATSSI.qa.EOS.quality:Decoding QA layer Atmosphere BRDF Correction...\n",
      "INFO:TATSSI.qa.EOS.quality:Decoding QA layer Mixed Clouds...\n",
      "INFO:TATSSI.qa.EOS.quality:Decoding QA layer Land/Water Mask...\n",
      "INFO:TATSSI.qa.EOS.quality:Decoding QA layer Possible snow/ice...\n",
      "INFO:TATSSI.qa.EOS.quality:Decoding QA layer Possible shadow...\n",
      "INFO:TATSSI.qa.EOS.quality:Decoding finished.\n",
      "INFO:TATSSI.qa.EOS.quality:Decoding MOD13A2.006...\n",
      "INFO:TATSSI.qa.EOS.quality:File /tmp/bolivia/1_km_16_days_VI_Quality/MOD13A2.2018_07_12.006.1_km_16_days_VI_Quality.tif\n",
      "INFO:TATSSI.qa.EOS.quality:Decoding QA layer MODLAND...\n",
      "INFO:TATSSI.qa.EOS.quality:Decoding QA layer VI Usefulness...\n",
      "INFO:TATSSI.qa.EOS.quality:Decoding QA layer Aerosol Quantity...\n",
      "INFO:TATSSI.qa.EOS.quality:Decoding QA layer Adjacent cloud detected...\n",
      "INFO:TATSSI.qa.EOS.quality:Decoding QA layer Atmosphere BRDF Correction...\n",
      "INFO:TATSSI.qa.EOS.quality:Decoding QA layer Mixed Clouds...\n",
      "INFO:TATSSI.qa.EOS.quality:Decoding QA layer Land/Water Mask...\n",
      "INFO:TATSSI.qa.EOS.quality:Decoding QA layer Possible snow/ice...\n",
      "INFO:TATSSI.qa.EOS.quality:Decoding QA layer Possible shadow...\n",
      "INFO:TATSSI.qa.EOS.quality:Decoding finished.\n",
      "INFO:TATSSI.qa.EOS.quality:Decoding MOD13A2.006...\n",
      "INFO:TATSSI.qa.EOS.quality:File /tmp/bolivia/1_km_16_days_VI_Quality/MOD13A2.2018_07_28.006.1_km_16_days_VI_Quality.tif\n",
      "INFO:TATSSI.qa.EOS.quality:Decoding QA layer MODLAND...\n",
      "INFO:TATSSI.qa.EOS.quality:Decoding QA layer VI Usefulness...\n",
      "INFO:TATSSI.qa.EOS.quality:Decoding QA layer Aerosol Quantity...\n",
      "INFO:TATSSI.qa.EOS.quality:Decoding QA layer Adjacent cloud detected...\n",
      "INFO:TATSSI.qa.EOS.quality:Decoding QA layer Atmosphere BRDF Correction...\n",
      "INFO:TATSSI.qa.EOS.quality:Decoding QA layer Mixed Clouds...\n",
      "INFO:TATSSI.qa.EOS.quality:Decoding QA layer Land/Water Mask...\n",
      "INFO:TATSSI.qa.EOS.quality:Decoding QA layer Possible snow/ice...\n",
      "INFO:TATSSI.qa.EOS.quality:Decoding QA layer Possible shadow...\n",
      "INFO:TATSSI.qa.EOS.quality:Decoding finished.\n",
      "INFO:TATSSI.qa.EOS.quality:Decoding MOD13A2.006...\n",
      "INFO:TATSSI.qa.EOS.quality:File /tmp/bolivia/1_km_16_days_VI_Quality/MOD13A2.2018_08_13.006.1_km_16_days_VI_Quality.tif\n",
      "INFO:TATSSI.qa.EOS.quality:Decoding QA layer MODLAND...\n",
      "INFO:TATSSI.qa.EOS.quality:Decoding QA layer VI Usefulness...\n",
      "INFO:TATSSI.qa.EOS.quality:Decoding QA layer Aerosol Quantity...\n",
      "INFO:TATSSI.qa.EOS.quality:Decoding QA layer Adjacent cloud detected...\n",
      "INFO:TATSSI.qa.EOS.quality:Decoding QA layer Atmosphere BRDF Correction...\n",
      "INFO:TATSSI.qa.EOS.quality:Decoding QA layer Mixed Clouds...\n",
      "INFO:TATSSI.qa.EOS.quality:Decoding QA layer Land/Water Mask...\n",
      "INFO:TATSSI.qa.EOS.quality:Decoding QA layer Possible snow/ice...\n",
      "INFO:TATSSI.qa.EOS.quality:Decoding QA layer Possible shadow...\n",
      "INFO:TATSSI.qa.EOS.quality:Decoding finished.\n",
      "INFO:TATSSI.qa.EOS.quality:Decoding MOD13A2.006...\n",
      "INFO:TATSSI.qa.EOS.quality:File /tmp/bolivia/1_km_16_days_VI_Quality/MOD13A2.2018_08_29.006.1_km_16_days_VI_Quality.tif\n",
      "INFO:TATSSI.qa.EOS.quality:Decoding QA layer MODLAND...\n",
      "INFO:TATSSI.qa.EOS.quality:Decoding QA layer VI Usefulness...\n",
      "INFO:TATSSI.qa.EOS.quality:Decoding QA layer Aerosol Quantity...\n",
      "INFO:TATSSI.qa.EOS.quality:Decoding QA layer Adjacent cloud detected...\n",
      "INFO:TATSSI.qa.EOS.quality:Decoding QA layer Atmosphere BRDF Correction...\n",
      "INFO:TATSSI.qa.EOS.quality:Decoding QA layer Mixed Clouds...\n",
      "INFO:TATSSI.qa.EOS.quality:Decoding QA layer Land/Water Mask...\n",
      "INFO:TATSSI.qa.EOS.quality:Decoding QA layer Possible snow/ice...\n",
      "INFO:TATSSI.qa.EOS.quality:Decoding QA layer Possible shadow...\n",
      "INFO:TATSSI.qa.EOS.quality:Decoding finished.\n",
      "INFO:TATSSI.qa.EOS.quality:Decoding MOD13A2.006...\n",
      "INFO:TATSSI.qa.EOS.quality:File /tmp/bolivia/1_km_16_days_VI_Quality/MOD13A2.2018_09_14.006.1_km_16_days_VI_Quality.tif\n",
      "INFO:TATSSI.qa.EOS.quality:Decoding QA layer MODLAND...\n"
     ]
    },
    {
     "name": "stderr",
     "output_type": "stream",
     "text": [
      "INFO:TATSSI.qa.EOS.quality:Decoding QA layer VI Usefulness...\n",
      "INFO:TATSSI.qa.EOS.quality:Decoding QA layer Aerosol Quantity...\n",
      "INFO:TATSSI.qa.EOS.quality:Decoding QA layer Adjacent cloud detected...\n",
      "INFO:TATSSI.qa.EOS.quality:Decoding QA layer Atmosphere BRDF Correction...\n",
      "INFO:TATSSI.qa.EOS.quality:Decoding QA layer Mixed Clouds...\n",
      "INFO:TATSSI.qa.EOS.quality:Decoding QA layer Land/Water Mask...\n",
      "INFO:TATSSI.qa.EOS.quality:Decoding QA layer Possible snow/ice...\n",
      "INFO:TATSSI.qa.EOS.quality:Decoding QA layer Possible shadow...\n",
      "INFO:TATSSI.qa.EOS.quality:Decoding finished.\n",
      "INFO:TATSSI.qa.EOS.quality:Decoding MOD13A2.006...\n",
      "INFO:TATSSI.qa.EOS.quality:File /tmp/bolivia/1_km_16_days_VI_Quality/MOD13A2.2018_09_30.006.1_km_16_days_VI_Quality.tif\n",
      "INFO:TATSSI.qa.EOS.quality:Decoding QA layer MODLAND...\n",
      "INFO:TATSSI.qa.EOS.quality:Decoding QA layer VI Usefulness...\n",
      "INFO:TATSSI.qa.EOS.quality:Decoding QA layer Aerosol Quantity...\n",
      "INFO:TATSSI.qa.EOS.quality:Decoding QA layer Adjacent cloud detected...\n",
      "INFO:TATSSI.qa.EOS.quality:Decoding QA layer Atmosphere BRDF Correction...\n",
      "INFO:TATSSI.qa.EOS.quality:Decoding QA layer Mixed Clouds...\n",
      "INFO:TATSSI.qa.EOS.quality:Decoding QA layer Land/Water Mask...\n",
      "INFO:TATSSI.qa.EOS.quality:Decoding QA layer Possible snow/ice...\n",
      "INFO:TATSSI.qa.EOS.quality:Decoding QA layer Possible shadow...\n",
      "INFO:TATSSI.qa.EOS.quality:Decoding finished.\n",
      "INFO:TATSSI.qa.EOS.quality:Decoding MOD13A2.006...\n",
      "INFO:TATSSI.qa.EOS.quality:File /tmp/bolivia/1_km_16_days_VI_Quality/MOD13A2.2018_10_16.006.1_km_16_days_VI_Quality.tif\n",
      "INFO:TATSSI.qa.EOS.quality:Decoding QA layer MODLAND...\n",
      "INFO:TATSSI.qa.EOS.quality:Decoding QA layer VI Usefulness...\n",
      "INFO:TATSSI.qa.EOS.quality:Decoding QA layer Aerosol Quantity...\n",
      "INFO:TATSSI.qa.EOS.quality:Decoding QA layer Adjacent cloud detected...\n",
      "INFO:TATSSI.qa.EOS.quality:Decoding QA layer Atmosphere BRDF Correction...\n",
      "INFO:TATSSI.qa.EOS.quality:Decoding QA layer Mixed Clouds...\n",
      "INFO:TATSSI.qa.EOS.quality:Decoding QA layer Land/Water Mask...\n",
      "INFO:TATSSI.qa.EOS.quality:Decoding QA layer Possible snow/ice...\n",
      "INFO:TATSSI.qa.EOS.quality:Decoding QA layer Possible shadow...\n",
      "INFO:TATSSI.qa.EOS.quality:Decoding finished.\n",
      "INFO:TATSSI.qa.EOS.quality:Decoding MOD13A2.006...\n",
      "INFO:TATSSI.qa.EOS.quality:File /tmp/bolivia/1_km_16_days_VI_Quality/MOD13A2.2018_11_01.006.1_km_16_days_VI_Quality.tif\n",
      "INFO:TATSSI.qa.EOS.quality:Decoding QA layer MODLAND...\n",
      "INFO:TATSSI.qa.EOS.quality:Decoding QA layer VI Usefulness...\n",
      "INFO:TATSSI.qa.EOS.quality:Decoding QA layer Aerosol Quantity...\n",
      "INFO:TATSSI.qa.EOS.quality:Decoding QA layer Adjacent cloud detected...\n",
      "INFO:TATSSI.qa.EOS.quality:Decoding QA layer Atmosphere BRDF Correction...\n",
      "INFO:TATSSI.qa.EOS.quality:Decoding QA layer Mixed Clouds...\n",
      "INFO:TATSSI.qa.EOS.quality:Decoding QA layer Land/Water Mask...\n",
      "INFO:TATSSI.qa.EOS.quality:Decoding QA layer Possible snow/ice...\n",
      "INFO:TATSSI.qa.EOS.quality:Decoding QA layer Possible shadow...\n",
      "INFO:TATSSI.qa.EOS.quality:Decoding finished.\n",
      "INFO:TATSSI.qa.EOS.quality:Decoding MOD13A2.006...\n",
      "INFO:TATSSI.qa.EOS.quality:File /tmp/bolivia/1_km_16_days_VI_Quality/MOD13A2.2018_11_17.006.1_km_16_days_VI_Quality.tif\n",
      "INFO:TATSSI.qa.EOS.quality:Decoding QA layer MODLAND...\n",
      "INFO:TATSSI.qa.EOS.quality:Decoding QA layer VI Usefulness...\n",
      "INFO:TATSSI.qa.EOS.quality:Decoding QA layer Aerosol Quantity...\n",
      "INFO:TATSSI.qa.EOS.quality:Decoding QA layer Adjacent cloud detected...\n",
      "INFO:TATSSI.qa.EOS.quality:Decoding QA layer Atmosphere BRDF Correction...\n",
      "INFO:TATSSI.qa.EOS.quality:Decoding QA layer Mixed Clouds...\n",
      "INFO:TATSSI.qa.EOS.quality:Decoding QA layer Land/Water Mask...\n",
      "INFO:TATSSI.qa.EOS.quality:Decoding QA layer Possible snow/ice...\n",
      "INFO:TATSSI.qa.EOS.quality:Decoding QA layer Possible shadow...\n",
      "INFO:TATSSI.qa.EOS.quality:Decoding finished.\n",
      "INFO:TATSSI.qa.EOS.quality:Decoding MOD13A2.006...\n",
      "INFO:TATSSI.qa.EOS.quality:File /tmp/bolivia/1_km_16_days_VI_Quality/MOD13A2.2018_12_03.006.1_km_16_days_VI_Quality.tif\n",
      "INFO:TATSSI.qa.EOS.quality:Decoding QA layer MODLAND...\n",
      "INFO:TATSSI.qa.EOS.quality:Decoding QA layer VI Usefulness...\n",
      "INFO:TATSSI.qa.EOS.quality:Decoding QA layer Aerosol Quantity...\n",
      "INFO:TATSSI.qa.EOS.quality:Decoding QA layer Adjacent cloud detected...\n",
      "INFO:TATSSI.qa.EOS.quality:Decoding QA layer Atmosphere BRDF Correction...\n",
      "INFO:TATSSI.qa.EOS.quality:Decoding QA layer Mixed Clouds...\n",
      "INFO:TATSSI.qa.EOS.quality:Decoding QA layer Land/Water Mask...\n",
      "INFO:TATSSI.qa.EOS.quality:Decoding QA layer Possible snow/ice...\n",
      "INFO:TATSSI.qa.EOS.quality:Decoding QA layer Possible shadow...\n",
      "INFO:TATSSI.qa.EOS.quality:Decoding finished.\n",
      "INFO:TATSSI.qa.EOS.quality:Decoding MOD13A2.006...\n",
      "INFO:TATSSI.qa.EOS.quality:File /tmp/bolivia/1_km_16_days_VI_Quality/MOD13A2.2018_12_19.006.1_km_16_days_VI_Quality.tif\n",
      "INFO:TATSSI.qa.EOS.quality:Decoding QA layer MODLAND...\n",
      "INFO:TATSSI.qa.EOS.quality:Decoding QA layer VI Usefulness...\n",
      "INFO:TATSSI.qa.EOS.quality:Decoding QA layer Aerosol Quantity...\n",
      "INFO:TATSSI.qa.EOS.quality:Decoding QA layer Adjacent cloud detected...\n",
      "INFO:TATSSI.qa.EOS.quality:Decoding QA layer Atmosphere BRDF Correction...\n",
      "INFO:TATSSI.qa.EOS.quality:Decoding QA layer Mixed Clouds...\n",
      "INFO:TATSSI.qa.EOS.quality:Decoding QA layer Land/Water Mask...\n",
      "INFO:TATSSI.qa.EOS.quality:Decoding QA layer Possible snow/ice...\n",
      "INFO:TATSSI.qa.EOS.quality:Decoding QA layer Possible shadow...\n",
      "INFO:TATSSI.qa.EOS.quality:Decoding finished.\n",
      "INFO:TATSSI.qa.EOS.quality:Decoding MOD13A2.006...\n",
      "INFO:TATSSI.qa.EOS.quality:File /tmp/bolivia/1_km_16_days_VI_Quality/MOD13A2.2019_01_01.006.1_km_16_days_VI_Quality.tif\n",
      "INFO:TATSSI.qa.EOS.quality:Decoding QA layer MODLAND...\n",
      "INFO:TATSSI.qa.EOS.quality:Decoding QA layer VI Usefulness...\n",
      "INFO:TATSSI.qa.EOS.quality:Decoding QA layer Aerosol Quantity...\n",
      "INFO:TATSSI.qa.EOS.quality:Decoding QA layer Adjacent cloud detected...\n",
      "INFO:TATSSI.qa.EOS.quality:Decoding QA layer Atmosphere BRDF Correction...\n",
      "INFO:TATSSI.qa.EOS.quality:Decoding QA layer Mixed Clouds...\n",
      "INFO:TATSSI.qa.EOS.quality:Decoding QA layer Land/Water Mask...\n",
      "INFO:TATSSI.qa.EOS.quality:Decoding QA layer Possible snow/ice...\n",
      "INFO:TATSSI.qa.EOS.quality:Decoding QA layer Possible shadow...\n",
      "INFO:TATSSI.qa.EOS.quality:Decoding finished.\n",
      "INFO:TATSSI.qa.EOS.quality:Decoding MOD13A2.006...\n",
      "INFO:TATSSI.qa.EOS.quality:File /tmp/bolivia/1_km_16_days_VI_Quality/MOD13A2.2019_01_17.006.1_km_16_days_VI_Quality.tif\n",
      "INFO:TATSSI.qa.EOS.quality:Decoding QA layer MODLAND...\n",
      "INFO:TATSSI.qa.EOS.quality:Decoding QA layer VI Usefulness...\n",
      "INFO:TATSSI.qa.EOS.quality:Decoding QA layer Aerosol Quantity...\n",
      "INFO:TATSSI.qa.EOS.quality:Decoding QA layer Adjacent cloud detected...\n",
      "INFO:TATSSI.qa.EOS.quality:Decoding QA layer Atmosphere BRDF Correction...\n",
      "INFO:TATSSI.qa.EOS.quality:Decoding QA layer Mixed Clouds...\n",
      "INFO:TATSSI.qa.EOS.quality:Decoding QA layer Land/Water Mask...\n",
      "INFO:TATSSI.qa.EOS.quality:Decoding QA layer Possible snow/ice...\n",
      "INFO:TATSSI.qa.EOS.quality:Decoding QA layer Possible shadow...\n",
      "INFO:TATSSI.qa.EOS.quality:Decoding finished.\n",
      "INFO:TATSSI.qa.EOS.quality:Decoding MOD13A2.006...\n",
      "INFO:TATSSI.qa.EOS.quality:File /tmp/bolivia/1_km_16_days_VI_Quality/MOD13A2.2019_02_02.006.1_km_16_days_VI_Quality.tif\n",
      "INFO:TATSSI.qa.EOS.quality:Decoding QA layer MODLAND...\n",
      "INFO:TATSSI.qa.EOS.quality:Decoding QA layer VI Usefulness...\n",
      "INFO:TATSSI.qa.EOS.quality:Decoding QA layer Aerosol Quantity...\n",
      "INFO:TATSSI.qa.EOS.quality:Decoding QA layer Adjacent cloud detected...\n",
      "INFO:TATSSI.qa.EOS.quality:Decoding QA layer Atmosphere BRDF Correction...\n",
      "INFO:TATSSI.qa.EOS.quality:Decoding QA layer Mixed Clouds...\n",
      "INFO:TATSSI.qa.EOS.quality:Decoding QA layer Land/Water Mask...\n",
      "INFO:TATSSI.qa.EOS.quality:Decoding QA layer Possible snow/ice...\n",
      "INFO:TATSSI.qa.EOS.quality:Decoding QA layer Possible shadow...\n",
      "INFO:TATSSI.qa.EOS.quality:Decoding finished.\n",
      "INFO:TATSSI.qa.EOS.quality:Decoding MOD13A2.006...\n",
      "INFO:TATSSI.qa.EOS.quality:File /tmp/bolivia/1_km_16_days_VI_Quality/MOD13A2.2019_02_18.006.1_km_16_days_VI_Quality.tif\n",
      "INFO:TATSSI.qa.EOS.quality:Decoding QA layer MODLAND...\n",
      "INFO:TATSSI.qa.EOS.quality:Decoding QA layer VI Usefulness...\n",
      "INFO:TATSSI.qa.EOS.quality:Decoding QA layer Aerosol Quantity...\n",
      "INFO:TATSSI.qa.EOS.quality:Decoding QA layer Adjacent cloud detected...\n"
     ]
    },
    {
     "name": "stderr",
     "output_type": "stream",
     "text": [
      "INFO:TATSSI.qa.EOS.quality:Decoding QA layer Atmosphere BRDF Correction...\n",
      "INFO:TATSSI.qa.EOS.quality:Decoding QA layer Mixed Clouds...\n",
      "INFO:TATSSI.qa.EOS.quality:Decoding QA layer Land/Water Mask...\n",
      "INFO:TATSSI.qa.EOS.quality:Decoding QA layer Possible snow/ice...\n",
      "INFO:TATSSI.qa.EOS.quality:Decoding QA layer Possible shadow...\n",
      "INFO:TATSSI.qa.EOS.quality:Decoding finished.\n",
      "INFO:TATSSI.qa.EOS.quality:Decoding MOD13A2.006...\n",
      "INFO:TATSSI.qa.EOS.quality:File /tmp/bolivia/1_km_16_days_VI_Quality/MOD13A2.2019_03_06.006.1_km_16_days_VI_Quality.tif\n",
      "INFO:TATSSI.qa.EOS.quality:Decoding QA layer MODLAND...\n",
      "INFO:TATSSI.qa.EOS.quality:Decoding QA layer VI Usefulness...\n",
      "INFO:TATSSI.qa.EOS.quality:Decoding QA layer Aerosol Quantity...\n",
      "INFO:TATSSI.qa.EOS.quality:Decoding QA layer Adjacent cloud detected...\n",
      "INFO:TATSSI.qa.EOS.quality:Decoding QA layer Atmosphere BRDF Correction...\n",
      "INFO:TATSSI.qa.EOS.quality:Decoding QA layer Mixed Clouds...\n",
      "INFO:TATSSI.qa.EOS.quality:Decoding QA layer Land/Water Mask...\n",
      "INFO:TATSSI.qa.EOS.quality:Decoding QA layer Possible snow/ice...\n",
      "INFO:TATSSI.qa.EOS.quality:Decoding QA layer Possible shadow...\n",
      "INFO:TATSSI.qa.EOS.quality:Decoding finished.\n",
      "INFO:TATSSI.qa.EOS.quality:Decoding MOD13A2.006...\n",
      "INFO:TATSSI.qa.EOS.quality:File /tmp/bolivia/1_km_16_days_VI_Quality/MOD13A2.2019_03_22.006.1_km_16_days_VI_Quality.tif\n",
      "INFO:TATSSI.qa.EOS.quality:Decoding QA layer MODLAND...\n",
      "INFO:TATSSI.qa.EOS.quality:Decoding QA layer VI Usefulness...\n",
      "INFO:TATSSI.qa.EOS.quality:Decoding QA layer Aerosol Quantity...\n",
      "INFO:TATSSI.qa.EOS.quality:Decoding QA layer Adjacent cloud detected...\n",
      "INFO:TATSSI.qa.EOS.quality:Decoding QA layer Atmosphere BRDF Correction...\n",
      "INFO:TATSSI.qa.EOS.quality:Decoding QA layer Mixed Clouds...\n",
      "INFO:TATSSI.qa.EOS.quality:Decoding QA layer Land/Water Mask...\n",
      "INFO:TATSSI.qa.EOS.quality:Decoding QA layer Possible snow/ice...\n",
      "INFO:TATSSI.qa.EOS.quality:Decoding QA layer Possible shadow...\n",
      "INFO:TATSSI.qa.EOS.quality:Decoding finished.\n",
      "INFO:TATSSI.qa.EOS.quality:Decoding MOD13A2.006...\n",
      "INFO:TATSSI.qa.EOS.quality:File /tmp/bolivia/1_km_16_days_VI_Quality/MOD13A2.2019_04_07.006.1_km_16_days_VI_Quality.tif\n",
      "INFO:TATSSI.qa.EOS.quality:Decoding QA layer MODLAND...\n",
      "INFO:TATSSI.qa.EOS.quality:Decoding QA layer VI Usefulness...\n",
      "INFO:TATSSI.qa.EOS.quality:Decoding QA layer Aerosol Quantity...\n",
      "INFO:TATSSI.qa.EOS.quality:Decoding QA layer Adjacent cloud detected...\n",
      "INFO:TATSSI.qa.EOS.quality:Decoding QA layer Atmosphere BRDF Correction...\n",
      "INFO:TATSSI.qa.EOS.quality:Decoding QA layer Mixed Clouds...\n",
      "INFO:TATSSI.qa.EOS.quality:Decoding QA layer Land/Water Mask...\n",
      "INFO:TATSSI.qa.EOS.quality:Decoding QA layer Possible snow/ice...\n",
      "INFO:TATSSI.qa.EOS.quality:Decoding QA layer Possible shadow...\n",
      "INFO:TATSSI.qa.EOS.quality:Decoding finished.\n",
      "INFO:TATSSI.qa.EOS.quality:Decoding MOD13A2.006...\n",
      "INFO:TATSSI.qa.EOS.quality:File /tmp/bolivia/1_km_16_days_VI_Quality/MOD13A2.2019_04_23.006.1_km_16_days_VI_Quality.tif\n",
      "INFO:TATSSI.qa.EOS.quality:Decoding QA layer MODLAND...\n",
      "INFO:TATSSI.qa.EOS.quality:Decoding QA layer VI Usefulness...\n",
      "INFO:TATSSI.qa.EOS.quality:Decoding QA layer Aerosol Quantity...\n",
      "INFO:TATSSI.qa.EOS.quality:Decoding QA layer Adjacent cloud detected...\n",
      "INFO:TATSSI.qa.EOS.quality:Decoding QA layer Atmosphere BRDF Correction...\n",
      "INFO:TATSSI.qa.EOS.quality:Decoding QA layer Mixed Clouds...\n",
      "INFO:TATSSI.qa.EOS.quality:Decoding QA layer Land/Water Mask...\n",
      "INFO:TATSSI.qa.EOS.quality:Decoding QA layer Possible snow/ice...\n",
      "INFO:TATSSI.qa.EOS.quality:Decoding QA layer Possible shadow...\n",
      "INFO:TATSSI.qa.EOS.quality:Decoding finished.\n",
      "INFO:TATSSI.qa.EOS.quality:Decoding MOD13A2.006...\n",
      "INFO:TATSSI.qa.EOS.quality:File /tmp/bolivia/1_km_16_days_VI_Quality/MOD13A2.2019_05_09.006.1_km_16_days_VI_Quality.tif\n",
      "INFO:TATSSI.qa.EOS.quality:Decoding QA layer MODLAND...\n",
      "INFO:TATSSI.qa.EOS.quality:Decoding QA layer VI Usefulness...\n",
      "INFO:TATSSI.qa.EOS.quality:Decoding QA layer Aerosol Quantity...\n",
      "INFO:TATSSI.qa.EOS.quality:Decoding QA layer Adjacent cloud detected...\n",
      "INFO:TATSSI.qa.EOS.quality:Decoding QA layer Atmosphere BRDF Correction...\n",
      "INFO:TATSSI.qa.EOS.quality:Decoding QA layer Mixed Clouds...\n",
      "INFO:TATSSI.qa.EOS.quality:Decoding QA layer Land/Water Mask...\n",
      "INFO:TATSSI.qa.EOS.quality:Decoding QA layer Possible snow/ice...\n",
      "INFO:TATSSI.qa.EOS.quality:Decoding QA layer Possible shadow...\n",
      "INFO:TATSSI.qa.EOS.quality:Decoding finished.\n",
      "INFO:TATSSI.qa.EOS.quality:Decoding MOD13A2.006...\n",
      "INFO:TATSSI.qa.EOS.quality:File /tmp/bolivia/1_km_16_days_VI_Quality/MOD13A2.2019_05_25.006.1_km_16_days_VI_Quality.tif\n",
      "INFO:TATSSI.qa.EOS.quality:Decoding QA layer MODLAND...\n",
      "INFO:TATSSI.qa.EOS.quality:Decoding QA layer VI Usefulness...\n",
      "INFO:TATSSI.qa.EOS.quality:Decoding QA layer Aerosol Quantity...\n",
      "INFO:TATSSI.qa.EOS.quality:Decoding QA layer Adjacent cloud detected...\n",
      "INFO:TATSSI.qa.EOS.quality:Decoding QA layer Atmosphere BRDF Correction...\n",
      "INFO:TATSSI.qa.EOS.quality:Decoding QA layer Mixed Clouds...\n",
      "INFO:TATSSI.qa.EOS.quality:Decoding QA layer Land/Water Mask...\n",
      "INFO:TATSSI.qa.EOS.quality:Decoding QA layer Possible snow/ice...\n",
      "INFO:TATSSI.qa.EOS.quality:Decoding QA layer Possible shadow...\n",
      "INFO:TATSSI.qa.EOS.quality:Decoding finished.\n",
      "INFO:TATSSI.qa.EOS.quality:Decoding MOD13A2.006...\n",
      "INFO:TATSSI.qa.EOS.quality:File /tmp/bolivia/1_km_16_days_VI_Quality/MOD13A2.2019_06_10.006.1_km_16_days_VI_Quality.tif\n",
      "INFO:TATSSI.qa.EOS.quality:Decoding QA layer MODLAND...\n",
      "INFO:TATSSI.qa.EOS.quality:Decoding QA layer VI Usefulness...\n",
      "INFO:TATSSI.qa.EOS.quality:Decoding QA layer Aerosol Quantity...\n",
      "INFO:TATSSI.qa.EOS.quality:Decoding QA layer Adjacent cloud detected...\n",
      "INFO:TATSSI.qa.EOS.quality:Decoding QA layer Atmosphere BRDF Correction...\n",
      "INFO:TATSSI.qa.EOS.quality:Decoding QA layer Mixed Clouds...\n",
      "INFO:TATSSI.qa.EOS.quality:Decoding QA layer Land/Water Mask...\n",
      "INFO:TATSSI.qa.EOS.quality:Decoding QA layer Possible snow/ice...\n",
      "INFO:TATSSI.qa.EOS.quality:Decoding QA layer Possible shadow...\n",
      "INFO:TATSSI.qa.EOS.quality:Decoding finished.\n",
      "INFO:TATSSI.qa.EOS.quality:Decoding MOD13A2.006...\n",
      "INFO:TATSSI.qa.EOS.quality:File /tmp/bolivia/1_km_16_days_VI_Quality/MOD13A2.2019_06_26.006.1_km_16_days_VI_Quality.tif\n",
      "INFO:TATSSI.qa.EOS.quality:Decoding QA layer MODLAND...\n",
      "INFO:TATSSI.qa.EOS.quality:Decoding QA layer VI Usefulness...\n",
      "INFO:TATSSI.qa.EOS.quality:Decoding QA layer Aerosol Quantity...\n",
      "INFO:TATSSI.qa.EOS.quality:Decoding QA layer Adjacent cloud detected...\n",
      "INFO:TATSSI.qa.EOS.quality:Decoding QA layer Atmosphere BRDF Correction...\n",
      "INFO:TATSSI.qa.EOS.quality:Decoding QA layer Mixed Clouds...\n",
      "INFO:TATSSI.qa.EOS.quality:Decoding QA layer Land/Water Mask...\n",
      "INFO:TATSSI.qa.EOS.quality:Decoding QA layer Possible snow/ice...\n",
      "INFO:TATSSI.qa.EOS.quality:Decoding QA layer Possible shadow...\n",
      "INFO:TATSSI.qa.EOS.quality:Decoding finished.\n",
      "INFO:TATSSI.qa.EOS.quality:Decoding MOD13A2.006...\n",
      "INFO:TATSSI.qa.EOS.quality:File /tmp/bolivia/1_km_16_days_VI_Quality/MOD13A2.2019_07_12.006.1_km_16_days_VI_Quality.tif\n",
      "INFO:TATSSI.qa.EOS.quality:Decoding QA layer MODLAND...\n",
      "INFO:TATSSI.qa.EOS.quality:Decoding QA layer VI Usefulness...\n",
      "INFO:TATSSI.qa.EOS.quality:Decoding QA layer Aerosol Quantity...\n",
      "INFO:TATSSI.qa.EOS.quality:Decoding QA layer Adjacent cloud detected...\n",
      "INFO:TATSSI.qa.EOS.quality:Decoding QA layer Atmosphere BRDF Correction...\n",
      "INFO:TATSSI.qa.EOS.quality:Decoding QA layer Mixed Clouds...\n",
      "INFO:TATSSI.qa.EOS.quality:Decoding QA layer Land/Water Mask...\n",
      "INFO:TATSSI.qa.EOS.quality:Decoding QA layer Possible snow/ice...\n",
      "INFO:TATSSI.qa.EOS.quality:Decoding QA layer Possible shadow...\n",
      "INFO:TATSSI.qa.EOS.quality:Decoding finished.\n",
      "INFO:TATSSI.qa.EOS.quality:Decoding MOD13A2.006...\n",
      "INFO:TATSSI.qa.EOS.quality:File /tmp/bolivia/1_km_16_days_VI_Quality/MOD13A2.2019_07_28.006.1_km_16_days_VI_Quality.tif\n",
      "INFO:TATSSI.qa.EOS.quality:Decoding QA layer MODLAND...\n",
      "INFO:TATSSI.qa.EOS.quality:Decoding QA layer VI Usefulness...\n",
      "INFO:TATSSI.qa.EOS.quality:Decoding QA layer Aerosol Quantity...\n",
      "INFO:TATSSI.qa.EOS.quality:Decoding QA layer Adjacent cloud detected...\n",
      "INFO:TATSSI.qa.EOS.quality:Decoding QA layer Atmosphere BRDF Correction...\n",
      "INFO:TATSSI.qa.EOS.quality:Decoding QA layer Mixed Clouds...\n",
      "INFO:TATSSI.qa.EOS.quality:Decoding QA layer Land/Water Mask...\n"
     ]
    },
    {
     "name": "stderr",
     "output_type": "stream",
     "text": [
      "INFO:TATSSI.qa.EOS.quality:Decoding QA layer Possible snow/ice...\n",
      "INFO:TATSSI.qa.EOS.quality:Decoding QA layer Possible shadow...\n",
      "INFO:TATSSI.qa.EOS.quality:Decoding finished.\n",
      "INFO:TATSSI.qa.EOS.quality:Decoding MOD13A2.006...\n",
      "INFO:TATSSI.qa.EOS.quality:File /tmp/bolivia/1_km_16_days_VI_Quality/MOD13A2.2019_08_13.006.1_km_16_days_VI_Quality.tif\n",
      "INFO:TATSSI.qa.EOS.quality:Decoding QA layer MODLAND...\n",
      "INFO:TATSSI.qa.EOS.quality:Decoding QA layer VI Usefulness...\n",
      "INFO:TATSSI.qa.EOS.quality:Decoding QA layer Aerosol Quantity...\n",
      "INFO:TATSSI.qa.EOS.quality:Decoding QA layer Adjacent cloud detected...\n",
      "INFO:TATSSI.qa.EOS.quality:Decoding QA layer Atmosphere BRDF Correction...\n",
      "INFO:TATSSI.qa.EOS.quality:Decoding QA layer Mixed Clouds...\n",
      "INFO:TATSSI.qa.EOS.quality:Decoding QA layer Land/Water Mask...\n",
      "INFO:TATSSI.qa.EOS.quality:Decoding QA layer Possible snow/ice...\n",
      "INFO:TATSSI.qa.EOS.quality:Decoding QA layer Possible shadow...\n",
      "INFO:TATSSI.qa.EOS.quality:Decoding finished.\n",
      "INFO:TATSSI.qa.EOS.quality:Decoding MOD13A2.006...\n",
      "INFO:TATSSI.qa.EOS.quality:File /tmp/bolivia/1_km_16_days_VI_Quality/MOD13A2.2019_08_29.006.1_km_16_days_VI_Quality.tif\n",
      "INFO:TATSSI.qa.EOS.quality:Decoding QA layer MODLAND...\n",
      "INFO:TATSSI.qa.EOS.quality:Decoding QA layer VI Usefulness...\n",
      "INFO:TATSSI.qa.EOS.quality:Decoding QA layer Aerosol Quantity...\n",
      "INFO:TATSSI.qa.EOS.quality:Decoding QA layer Adjacent cloud detected...\n",
      "INFO:TATSSI.qa.EOS.quality:Decoding QA layer Atmosphere BRDF Correction...\n",
      "INFO:TATSSI.qa.EOS.quality:Decoding QA layer Mixed Clouds...\n",
      "INFO:TATSSI.qa.EOS.quality:Decoding QA layer Land/Water Mask...\n",
      "INFO:TATSSI.qa.EOS.quality:Decoding QA layer Possible snow/ice...\n",
      "INFO:TATSSI.qa.EOS.quality:Decoding QA layer Possible shadow...\n",
      "INFO:TATSSI.qa.EOS.quality:Decoding finished.\n",
      "INFO:TATSSI.qa.EOS.quality:Decoding MOD13A2.006...\n",
      "INFO:TATSSI.qa.EOS.quality:File /tmp/bolivia/1_km_16_days_VI_Quality/MOD13A2.2019_09_14.006.1_km_16_days_VI_Quality.tif\n",
      "INFO:TATSSI.qa.EOS.quality:Decoding QA layer MODLAND...\n",
      "INFO:TATSSI.qa.EOS.quality:Decoding QA layer VI Usefulness...\n",
      "INFO:TATSSI.qa.EOS.quality:Decoding QA layer Aerosol Quantity...\n",
      "INFO:TATSSI.qa.EOS.quality:Decoding QA layer Adjacent cloud detected...\n",
      "INFO:TATSSI.qa.EOS.quality:Decoding QA layer Atmosphere BRDF Correction...\n",
      "INFO:TATSSI.qa.EOS.quality:Decoding QA layer Mixed Clouds...\n",
      "INFO:TATSSI.qa.EOS.quality:Decoding QA layer Land/Water Mask...\n",
      "INFO:TATSSI.qa.EOS.quality:Decoding QA layer Possible snow/ice...\n",
      "INFO:TATSSI.qa.EOS.quality:Decoding QA layer Possible shadow...\n",
      "INFO:TATSSI.qa.EOS.quality:Decoding finished.\n",
      "INFO:TATSSI.qa.EOS.quality:Decoding MOD13A2.006...\n",
      "INFO:TATSSI.qa.EOS.quality:File /tmp/bolivia/1_km_16_days_VI_Quality/MOD13A2.2019_09_30.006.1_km_16_days_VI_Quality.tif\n",
      "INFO:TATSSI.qa.EOS.quality:Decoding QA layer MODLAND...\n",
      "INFO:TATSSI.qa.EOS.quality:Decoding QA layer VI Usefulness...\n",
      "INFO:TATSSI.qa.EOS.quality:Decoding QA layer Aerosol Quantity...\n",
      "INFO:TATSSI.qa.EOS.quality:Decoding QA layer Adjacent cloud detected...\n",
      "INFO:TATSSI.qa.EOS.quality:Decoding QA layer Atmosphere BRDF Correction...\n",
      "INFO:TATSSI.qa.EOS.quality:Decoding QA layer Mixed Clouds...\n",
      "INFO:TATSSI.qa.EOS.quality:Decoding QA layer Land/Water Mask...\n",
      "INFO:TATSSI.qa.EOS.quality:Decoding QA layer Possible snow/ice...\n",
      "INFO:TATSSI.qa.EOS.quality:Decoding QA layer Possible shadow...\n",
      "INFO:TATSSI.qa.EOS.quality:Decoding finished.\n",
      "INFO:TATSSI.qa.EOS.quality:Decoding MOD13A2.006...\n",
      "INFO:TATSSI.qa.EOS.quality:File /tmp/bolivia/1_km_16_days_VI_Quality/MOD13A2.2019_10_16.006.1_km_16_days_VI_Quality.tif\n",
      "INFO:TATSSI.qa.EOS.quality:Decoding QA layer MODLAND...\n",
      "INFO:TATSSI.qa.EOS.quality:Decoding QA layer VI Usefulness...\n",
      "INFO:TATSSI.qa.EOS.quality:Decoding QA layer Aerosol Quantity...\n",
      "INFO:TATSSI.qa.EOS.quality:Decoding QA layer Adjacent cloud detected...\n",
      "INFO:TATSSI.qa.EOS.quality:Decoding QA layer Atmosphere BRDF Correction...\n",
      "INFO:TATSSI.qa.EOS.quality:Decoding QA layer Mixed Clouds...\n",
      "INFO:TATSSI.qa.EOS.quality:Decoding QA layer Land/Water Mask...\n",
      "INFO:TATSSI.qa.EOS.quality:Decoding QA layer Possible snow/ice...\n",
      "INFO:TATSSI.qa.EOS.quality:Decoding QA layer Possible shadow...\n",
      "INFO:TATSSI.qa.EOS.quality:Decoding finished.\n",
      "INFO:TATSSI.qa.EOS.quality:Decoding MOD13A2.006...\n",
      "INFO:TATSSI.qa.EOS.quality:File /tmp/bolivia/1_km_16_days_VI_Quality/MOD13A2.2019_11_01.006.1_km_16_days_VI_Quality.tif\n",
      "INFO:TATSSI.qa.EOS.quality:Decoding QA layer MODLAND...\n",
      "INFO:TATSSI.qa.EOS.quality:Decoding QA layer VI Usefulness...\n",
      "INFO:TATSSI.qa.EOS.quality:Decoding QA layer Aerosol Quantity...\n",
      "INFO:TATSSI.qa.EOS.quality:Decoding QA layer Adjacent cloud detected...\n",
      "INFO:TATSSI.qa.EOS.quality:Decoding QA layer Atmosphere BRDF Correction...\n",
      "INFO:TATSSI.qa.EOS.quality:Decoding QA layer Mixed Clouds...\n",
      "INFO:TATSSI.qa.EOS.quality:Decoding QA layer Land/Water Mask...\n",
      "INFO:TATSSI.qa.EOS.quality:Decoding QA layer Possible snow/ice...\n",
      "INFO:TATSSI.qa.EOS.quality:Decoding QA layer Possible shadow...\n",
      "INFO:TATSSI.qa.EOS.quality:Decoding finished.\n",
      "INFO:TATSSI.qa.EOS.quality:Decoding MOD13A2.006...\n",
      "INFO:TATSSI.qa.EOS.quality:File /tmp/bolivia/1_km_16_days_VI_Quality/MOD13A2.2019_11_17.006.1_km_16_days_VI_Quality.tif\n",
      "INFO:TATSSI.qa.EOS.quality:Decoding QA layer MODLAND...\n",
      "INFO:TATSSI.qa.EOS.quality:Decoding QA layer VI Usefulness...\n",
      "INFO:TATSSI.qa.EOS.quality:Decoding QA layer Aerosol Quantity...\n",
      "INFO:TATSSI.qa.EOS.quality:Decoding QA layer Adjacent cloud detected...\n",
      "INFO:TATSSI.qa.EOS.quality:Decoding QA layer Atmosphere BRDF Correction...\n",
      "INFO:TATSSI.qa.EOS.quality:Decoding QA layer Mixed Clouds...\n",
      "INFO:TATSSI.qa.EOS.quality:Decoding QA layer Land/Water Mask...\n",
      "INFO:TATSSI.qa.EOS.quality:Decoding QA layer Possible snow/ice...\n",
      "INFO:TATSSI.qa.EOS.quality:Decoding QA layer Possible shadow...\n",
      "INFO:TATSSI.qa.EOS.quality:Decoding finished.\n",
      "INFO:TATSSI.qa.EOS.quality:Decoding MOD13A2.006...\n",
      "INFO:TATSSI.qa.EOS.quality:File /tmp/bolivia/1_km_16_days_VI_Quality/MOD13A2.2019_12_03.006.1_km_16_days_VI_Quality.tif\n",
      "INFO:TATSSI.qa.EOS.quality:Decoding QA layer MODLAND...\n",
      "INFO:TATSSI.qa.EOS.quality:Decoding QA layer VI Usefulness...\n",
      "INFO:TATSSI.qa.EOS.quality:Decoding QA layer Aerosol Quantity...\n",
      "INFO:TATSSI.qa.EOS.quality:Decoding QA layer Adjacent cloud detected...\n",
      "INFO:TATSSI.qa.EOS.quality:Decoding QA layer Atmosphere BRDF Correction...\n",
      "INFO:TATSSI.qa.EOS.quality:Decoding QA layer Mixed Clouds...\n",
      "INFO:TATSSI.qa.EOS.quality:Decoding QA layer Land/Water Mask...\n",
      "INFO:TATSSI.qa.EOS.quality:Decoding QA layer Possible snow/ice...\n",
      "INFO:TATSSI.qa.EOS.quality:Decoding QA layer Possible shadow...\n",
      "INFO:TATSSI.qa.EOS.quality:Decoding finished.\n",
      "INFO:TATSSI.qa.EOS.quality:Decoding MOD13A2.006...\n",
      "INFO:TATSSI.qa.EOS.quality:File /tmp/bolivia/1_km_16_days_VI_Quality/MOD13A2.2019_12_19.006.1_km_16_days_VI_Quality.tif\n",
      "INFO:TATSSI.qa.EOS.quality:Decoding QA layer MODLAND...\n",
      "INFO:TATSSI.qa.EOS.quality:Decoding QA layer VI Usefulness...\n",
      "INFO:TATSSI.qa.EOS.quality:Decoding QA layer Aerosol Quantity...\n",
      "INFO:TATSSI.qa.EOS.quality:Decoding QA layer Adjacent cloud detected...\n",
      "INFO:TATSSI.qa.EOS.quality:Decoding QA layer Atmosphere BRDF Correction...\n",
      "INFO:TATSSI.qa.EOS.quality:Decoding QA layer Mixed Clouds...\n",
      "INFO:TATSSI.qa.EOS.quality:Decoding QA layer Land/Water Mask...\n",
      "INFO:TATSSI.qa.EOS.quality:Decoding QA layer Possible snow/ice...\n",
      "INFO:TATSSI.qa.EOS.quality:Decoding QA layer Possible shadow...\n",
      "INFO:TATSSI.qa.EOS.quality:Decoding finished.\n",
      "INFO:TATSSI.qa.EOS.quality:Decoding MOD13A2.006...\n",
      "INFO:TATSSI.qa.EOS.quality:File /tmp/bolivia/1_km_16_days_VI_Quality/MOD13A2.2020_01_01.006.1_km_16_days_VI_Quality.tif\n",
      "INFO:TATSSI.qa.EOS.quality:Decoding QA layer MODLAND...\n",
      "INFO:TATSSI.qa.EOS.quality:Decoding QA layer VI Usefulness...\n",
      "INFO:TATSSI.qa.EOS.quality:Decoding QA layer Aerosol Quantity...\n",
      "INFO:TATSSI.qa.EOS.quality:Decoding QA layer Adjacent cloud detected...\n",
      "INFO:TATSSI.qa.EOS.quality:Decoding QA layer Atmosphere BRDF Correction...\n",
      "INFO:TATSSI.qa.EOS.quality:Decoding QA layer Mixed Clouds...\n",
      "INFO:TATSSI.qa.EOS.quality:Decoding QA layer Land/Water Mask...\n",
      "INFO:TATSSI.qa.EOS.quality:Decoding QA layer Possible snow/ice...\n",
      "INFO:TATSSI.qa.EOS.quality:Decoding QA layer Possible shadow...\n",
      "INFO:TATSSI.qa.EOS.quality:Decoding finished.\n"
     ]
    },
    {
     "name": "stderr",
     "output_type": "stream",
     "text": [
      "INFO:TATSSI.qa.EOS.quality:Decoding MOD13A2.006...\n",
      "INFO:TATSSI.qa.EOS.quality:File /tmp/bolivia/1_km_16_days_VI_Quality/MOD13A2.2020_01_17.006.1_km_16_days_VI_Quality.tif\n",
      "INFO:TATSSI.qa.EOS.quality:Decoding QA layer MODLAND...\n",
      "INFO:TATSSI.qa.EOS.quality:Decoding QA layer VI Usefulness...\n",
      "INFO:TATSSI.qa.EOS.quality:Decoding QA layer Aerosol Quantity...\n",
      "INFO:TATSSI.qa.EOS.quality:Decoding QA layer Adjacent cloud detected...\n",
      "INFO:TATSSI.qa.EOS.quality:Decoding QA layer Atmosphere BRDF Correction...\n",
      "INFO:TATSSI.qa.EOS.quality:Decoding QA layer Mixed Clouds...\n",
      "INFO:TATSSI.qa.EOS.quality:Decoding QA layer Land/Water Mask...\n",
      "INFO:TATSSI.qa.EOS.quality:Decoding QA layer Possible snow/ice...\n",
      "INFO:TATSSI.qa.EOS.quality:Decoding QA layer Possible shadow...\n",
      "INFO:TATSSI.qa.EOS.quality:Decoding finished.\n",
      "INFO:TATSSI.qa.EOS.quality:Decoding MOD13A2.006...\n",
      "INFO:TATSSI.qa.EOS.quality:File /tmp/bolivia/1_km_16_days_VI_Quality/MOD13A2.2020_02_02.006.1_km_16_days_VI_Quality.tif\n",
      "INFO:TATSSI.qa.EOS.quality:Decoding QA layer MODLAND...\n",
      "INFO:TATSSI.qa.EOS.quality:Decoding QA layer VI Usefulness...\n",
      "INFO:TATSSI.qa.EOS.quality:Decoding QA layer Aerosol Quantity...\n",
      "INFO:TATSSI.qa.EOS.quality:Decoding QA layer Adjacent cloud detected...\n",
      "INFO:TATSSI.qa.EOS.quality:Decoding QA layer Atmosphere BRDF Correction...\n",
      "INFO:TATSSI.qa.EOS.quality:Decoding QA layer Mixed Clouds...\n",
      "INFO:TATSSI.qa.EOS.quality:Decoding QA layer Land/Water Mask...\n",
      "INFO:TATSSI.qa.EOS.quality:Decoding QA layer Possible snow/ice...\n",
      "INFO:TATSSI.qa.EOS.quality:Decoding QA layer Possible shadow...\n",
      "INFO:TATSSI.qa.EOS.quality:Decoding finished.\n",
      "INFO:TATSSI.qa.EOS.quality:Decoding MOD13A2.006...\n",
      "INFO:TATSSI.qa.EOS.quality:File /tmp/bolivia/1_km_16_days_VI_Quality/MOD13A2.2020_02_18.006.1_km_16_days_VI_Quality.tif\n",
      "INFO:TATSSI.qa.EOS.quality:Decoding QA layer MODLAND...\n",
      "INFO:TATSSI.qa.EOS.quality:Decoding QA layer VI Usefulness...\n",
      "INFO:TATSSI.qa.EOS.quality:Decoding QA layer Aerosol Quantity...\n",
      "INFO:TATSSI.qa.EOS.quality:Decoding QA layer Adjacent cloud detected...\n",
      "INFO:TATSSI.qa.EOS.quality:Decoding QA layer Atmosphere BRDF Correction...\n",
      "INFO:TATSSI.qa.EOS.quality:Decoding QA layer Mixed Clouds...\n",
      "INFO:TATSSI.qa.EOS.quality:Decoding QA layer Land/Water Mask...\n",
      "INFO:TATSSI.qa.EOS.quality:Decoding QA layer Possible snow/ice...\n",
      "INFO:TATSSI.qa.EOS.quality:Decoding QA layer Possible shadow...\n",
      "INFO:TATSSI.qa.EOS.quality:Decoding finished.\n",
      "INFO:TATSSI.qa.EOS.quality:Decoding MOD13A2.006...\n",
      "INFO:TATSSI.qa.EOS.quality:File /tmp/bolivia/1_km_16_days_VI_Quality/MOD13A2.2020_03_05.006.1_km_16_days_VI_Quality.tif\n",
      "INFO:TATSSI.qa.EOS.quality:Decoding QA layer MODLAND...\n",
      "INFO:TATSSI.qa.EOS.quality:Decoding QA layer VI Usefulness...\n",
      "INFO:TATSSI.qa.EOS.quality:Decoding QA layer Aerosol Quantity...\n",
      "INFO:TATSSI.qa.EOS.quality:Decoding QA layer Adjacent cloud detected...\n",
      "INFO:TATSSI.qa.EOS.quality:Decoding QA layer Atmosphere BRDF Correction...\n",
      "INFO:TATSSI.qa.EOS.quality:Decoding QA layer Mixed Clouds...\n",
      "INFO:TATSSI.qa.EOS.quality:Decoding QA layer Land/Water Mask...\n",
      "INFO:TATSSI.qa.EOS.quality:Decoding QA layer Possible snow/ice...\n",
      "INFO:TATSSI.qa.EOS.quality:Decoding QA layer Possible shadow...\n",
      "INFO:TATSSI.qa.EOS.quality:Decoding finished.\n",
      "INFO:TATSSI.qa.EOS.quality:Decoding MOD13A2.006...\n",
      "INFO:TATSSI.qa.EOS.quality:File /tmp/bolivia/1_km_16_days_VI_Quality/MOD13A2.2020_03_21.006.1_km_16_days_VI_Quality.tif\n",
      "INFO:TATSSI.qa.EOS.quality:Decoding QA layer MODLAND...\n",
      "INFO:TATSSI.qa.EOS.quality:Decoding QA layer VI Usefulness...\n",
      "INFO:TATSSI.qa.EOS.quality:Decoding QA layer Aerosol Quantity...\n",
      "INFO:TATSSI.qa.EOS.quality:Decoding QA layer Adjacent cloud detected...\n",
      "INFO:TATSSI.qa.EOS.quality:Decoding QA layer Atmosphere BRDF Correction...\n",
      "INFO:TATSSI.qa.EOS.quality:Decoding QA layer Mixed Clouds...\n",
      "INFO:TATSSI.qa.EOS.quality:Decoding QA layer Land/Water Mask...\n",
      "INFO:TATSSI.qa.EOS.quality:Decoding QA layer Possible snow/ice...\n",
      "INFO:TATSSI.qa.EOS.quality:Decoding QA layer Possible shadow...\n",
      "INFO:TATSSI.qa.EOS.quality:Decoding finished.\n",
      "INFO:TATSSI.qa.EOS.quality:Decoding MOD13A2.006...\n",
      "INFO:TATSSI.qa.EOS.quality:File /tmp/bolivia/1_km_16_days_VI_Quality/MOD13A2.2020_04_06.006.1_km_16_days_VI_Quality.tif\n",
      "INFO:TATSSI.qa.EOS.quality:Decoding QA layer MODLAND...\n",
      "INFO:TATSSI.qa.EOS.quality:Decoding QA layer VI Usefulness...\n",
      "INFO:TATSSI.qa.EOS.quality:Decoding QA layer Aerosol Quantity...\n",
      "INFO:TATSSI.qa.EOS.quality:Decoding QA layer Adjacent cloud detected...\n",
      "INFO:TATSSI.qa.EOS.quality:Decoding QA layer Atmosphere BRDF Correction...\n",
      "INFO:TATSSI.qa.EOS.quality:Decoding QA layer Mixed Clouds...\n",
      "INFO:TATSSI.qa.EOS.quality:Decoding QA layer Land/Water Mask...\n",
      "INFO:TATSSI.qa.EOS.quality:Decoding QA layer Possible snow/ice...\n",
      "INFO:TATSSI.qa.EOS.quality:Decoding QA layer Possible shadow...\n",
      "INFO:TATSSI.qa.EOS.quality:Decoding finished.\n",
      "INFO:TATSSI.qa.EOS.quality:Decoding MOD13A2.006...\n",
      "INFO:TATSSI.qa.EOS.quality:File /tmp/bolivia/1_km_16_days_VI_Quality/MOD13A2.2020_04_22.006.1_km_16_days_VI_Quality.tif\n",
      "INFO:TATSSI.qa.EOS.quality:Decoding QA layer MODLAND...\n",
      "INFO:TATSSI.qa.EOS.quality:Decoding QA layer VI Usefulness...\n",
      "INFO:TATSSI.qa.EOS.quality:Decoding QA layer Aerosol Quantity...\n",
      "INFO:TATSSI.qa.EOS.quality:Decoding QA layer Adjacent cloud detected...\n",
      "INFO:TATSSI.qa.EOS.quality:Decoding QA layer Atmosphere BRDF Correction...\n",
      "INFO:TATSSI.qa.EOS.quality:Decoding QA layer Mixed Clouds...\n",
      "INFO:TATSSI.qa.EOS.quality:Decoding QA layer Land/Water Mask...\n",
      "INFO:TATSSI.qa.EOS.quality:Decoding QA layer Possible snow/ice...\n",
      "INFO:TATSSI.qa.EOS.quality:Decoding QA layer Possible shadow...\n",
      "INFO:TATSSI.qa.EOS.quality:Decoding finished.\n",
      "INFO:TATSSI.qa.EOS.quality:Decoding MOD13A2.006...\n",
      "INFO:TATSSI.qa.EOS.quality:File /tmp/bolivia/1_km_16_days_VI_Quality/MOD13A2.2020_05_08.006.1_km_16_days_VI_Quality.tif\n",
      "INFO:TATSSI.qa.EOS.quality:Decoding QA layer MODLAND...\n",
      "INFO:TATSSI.qa.EOS.quality:Decoding QA layer VI Usefulness...\n",
      "INFO:TATSSI.qa.EOS.quality:Decoding QA layer Aerosol Quantity...\n",
      "INFO:TATSSI.qa.EOS.quality:Decoding QA layer Adjacent cloud detected...\n",
      "INFO:TATSSI.qa.EOS.quality:Decoding QA layer Atmosphere BRDF Correction...\n",
      "INFO:TATSSI.qa.EOS.quality:Decoding QA layer Mixed Clouds...\n",
      "INFO:TATSSI.qa.EOS.quality:Decoding QA layer Land/Water Mask...\n",
      "INFO:TATSSI.qa.EOS.quality:Decoding QA layer Possible snow/ice...\n",
      "INFO:TATSSI.qa.EOS.quality:Decoding QA layer Possible shadow...\n",
      "INFO:TATSSI.qa.EOS.quality:Decoding finished.\n",
      "INFO:TATSSI.qa.EOS.quality:Decoding MOD13A2.006...\n",
      "INFO:TATSSI.qa.EOS.quality:File /tmp/bolivia/1_km_16_days_VI_Quality/MOD13A2.2020_05_24.006.1_km_16_days_VI_Quality.tif\n",
      "INFO:TATSSI.qa.EOS.quality:Decoding QA layer MODLAND...\n",
      "INFO:TATSSI.qa.EOS.quality:Decoding QA layer VI Usefulness...\n",
      "INFO:TATSSI.qa.EOS.quality:Decoding QA layer Aerosol Quantity...\n",
      "INFO:TATSSI.qa.EOS.quality:Decoding QA layer Adjacent cloud detected...\n",
      "INFO:TATSSI.qa.EOS.quality:Decoding QA layer Atmosphere BRDF Correction...\n",
      "INFO:TATSSI.qa.EOS.quality:Decoding QA layer Mixed Clouds...\n",
      "INFO:TATSSI.qa.EOS.quality:Decoding QA layer Land/Water Mask...\n",
      "INFO:TATSSI.qa.EOS.quality:Decoding QA layer Possible snow/ice...\n",
      "INFO:TATSSI.qa.EOS.quality:Decoding QA layer Possible shadow...\n",
      "INFO:TATSSI.qa.EOS.quality:Decoding finished.\n",
      "INFO:TATSSI.qa.EOS.quality:Decoding MOD13A2.006...\n",
      "INFO:TATSSI.qa.EOS.quality:File /tmp/bolivia/1_km_16_days_VI_Quality/MOD13A2.2020_06_09.006.1_km_16_days_VI_Quality.tif\n",
      "INFO:TATSSI.qa.EOS.quality:Decoding QA layer MODLAND...\n",
      "INFO:TATSSI.qa.EOS.quality:Decoding QA layer VI Usefulness...\n",
      "INFO:TATSSI.qa.EOS.quality:Decoding QA layer Aerosol Quantity...\n",
      "INFO:TATSSI.qa.EOS.quality:Decoding QA layer Adjacent cloud detected...\n",
      "INFO:TATSSI.qa.EOS.quality:Decoding QA layer Atmosphere BRDF Correction...\n",
      "INFO:TATSSI.qa.EOS.quality:Decoding QA layer Mixed Clouds...\n",
      "INFO:TATSSI.qa.EOS.quality:Decoding QA layer Land/Water Mask...\n",
      "INFO:TATSSI.qa.EOS.quality:Decoding QA layer Possible snow/ice...\n",
      "INFO:TATSSI.qa.EOS.quality:Decoding QA layer Possible shadow...\n",
      "INFO:TATSSI.qa.EOS.quality:Decoding finished.\n",
      "INFO:TATSSI.qa.EOS.quality:Decoding MOD13A2.006...\n",
      "INFO:TATSSI.qa.EOS.quality:File /tmp/bolivia/1_km_16_days_pixel_reliability/MOD13A2.2017_06_10.006.1_km_16_days_pixel_reliability.tif\n"
     ]
    },
    {
     "name": "stderr",
     "output_type": "stream",
     "text": [
      "INFO:TATSSI.qa.EOS.quality:Decoding QA layer MODLAND...\n",
      "INFO:TATSSI.qa.EOS.quality:Decoding finished.\n",
      "INFO:TATSSI.qa.EOS.quality:Decoding MOD13A2.006...\n",
      "INFO:TATSSI.qa.EOS.quality:File /tmp/bolivia/1_km_16_days_pixel_reliability/MOD13A2.2017_06_26.006.1_km_16_days_pixel_reliability.tif\n",
      "INFO:TATSSI.qa.EOS.quality:Decoding QA layer MODLAND...\n",
      "INFO:TATSSI.qa.EOS.quality:Decoding finished.\n",
      "INFO:TATSSI.qa.EOS.quality:Decoding MOD13A2.006...\n",
      "INFO:TATSSI.qa.EOS.quality:File /tmp/bolivia/1_km_16_days_pixel_reliability/MOD13A2.2017_07_12.006.1_km_16_days_pixel_reliability.tif\n",
      "INFO:TATSSI.qa.EOS.quality:Decoding QA layer MODLAND...\n",
      "INFO:TATSSI.qa.EOS.quality:Decoding finished.\n",
      "INFO:TATSSI.qa.EOS.quality:Decoding MOD13A2.006...\n",
      "INFO:TATSSI.qa.EOS.quality:File /tmp/bolivia/1_km_16_days_pixel_reliability/MOD13A2.2017_07_28.006.1_km_16_days_pixel_reliability.tif\n",
      "INFO:TATSSI.qa.EOS.quality:Decoding QA layer MODLAND...\n",
      "INFO:TATSSI.qa.EOS.quality:Decoding finished.\n",
      "INFO:TATSSI.qa.EOS.quality:Decoding MOD13A2.006...\n",
      "INFO:TATSSI.qa.EOS.quality:File /tmp/bolivia/1_km_16_days_pixel_reliability/MOD13A2.2017_08_13.006.1_km_16_days_pixel_reliability.tif\n",
      "INFO:TATSSI.qa.EOS.quality:Decoding QA layer MODLAND...\n",
      "INFO:TATSSI.qa.EOS.quality:Decoding finished.\n",
      "INFO:TATSSI.qa.EOS.quality:Decoding MOD13A2.006...\n",
      "INFO:TATSSI.qa.EOS.quality:File /tmp/bolivia/1_km_16_days_pixel_reliability/MOD13A2.2017_08_29.006.1_km_16_days_pixel_reliability.tif\n",
      "INFO:TATSSI.qa.EOS.quality:Decoding QA layer MODLAND...\n",
      "INFO:TATSSI.qa.EOS.quality:Decoding finished.\n",
      "INFO:TATSSI.qa.EOS.quality:Decoding MOD13A2.006...\n",
      "INFO:TATSSI.qa.EOS.quality:File /tmp/bolivia/1_km_16_days_pixel_reliability/MOD13A2.2017_09_14.006.1_km_16_days_pixel_reliability.tif\n",
      "INFO:TATSSI.qa.EOS.quality:Decoding QA layer MODLAND...\n",
      "INFO:TATSSI.qa.EOS.quality:Decoding finished.\n",
      "INFO:TATSSI.qa.EOS.quality:Decoding MOD13A2.006...\n",
      "INFO:TATSSI.qa.EOS.quality:File /tmp/bolivia/1_km_16_days_pixel_reliability/MOD13A2.2017_09_30.006.1_km_16_days_pixel_reliability.tif\n",
      "INFO:TATSSI.qa.EOS.quality:Decoding QA layer MODLAND...\n",
      "INFO:TATSSI.qa.EOS.quality:Decoding finished.\n",
      "INFO:TATSSI.qa.EOS.quality:Decoding MOD13A2.006...\n",
      "INFO:TATSSI.qa.EOS.quality:File /tmp/bolivia/1_km_16_days_pixel_reliability/MOD13A2.2017_10_16.006.1_km_16_days_pixel_reliability.tif\n",
      "INFO:TATSSI.qa.EOS.quality:Decoding QA layer MODLAND...\n",
      "INFO:TATSSI.qa.EOS.quality:Decoding finished.\n",
      "INFO:TATSSI.qa.EOS.quality:Decoding MOD13A2.006...\n",
      "INFO:TATSSI.qa.EOS.quality:File /tmp/bolivia/1_km_16_days_pixel_reliability/MOD13A2.2017_11_01.006.1_km_16_days_pixel_reliability.tif\n",
      "INFO:TATSSI.qa.EOS.quality:Decoding QA layer MODLAND...\n",
      "INFO:TATSSI.qa.EOS.quality:Decoding finished.\n",
      "INFO:TATSSI.qa.EOS.quality:Decoding MOD13A2.006...\n",
      "INFO:TATSSI.qa.EOS.quality:File /tmp/bolivia/1_km_16_days_pixel_reliability/MOD13A2.2017_11_17.006.1_km_16_days_pixel_reliability.tif\n",
      "INFO:TATSSI.qa.EOS.quality:Decoding QA layer MODLAND...\n",
      "INFO:TATSSI.qa.EOS.quality:Decoding finished.\n",
      "INFO:TATSSI.qa.EOS.quality:Decoding MOD13A2.006...\n",
      "INFO:TATSSI.qa.EOS.quality:File /tmp/bolivia/1_km_16_days_pixel_reliability/MOD13A2.2017_12_03.006.1_km_16_days_pixel_reliability.tif\n",
      "INFO:TATSSI.qa.EOS.quality:Decoding QA layer MODLAND...\n",
      "INFO:TATSSI.qa.EOS.quality:Decoding finished.\n",
      "INFO:TATSSI.qa.EOS.quality:Decoding MOD13A2.006...\n",
      "INFO:TATSSI.qa.EOS.quality:File /tmp/bolivia/1_km_16_days_pixel_reliability/MOD13A2.2017_12_19.006.1_km_16_days_pixel_reliability.tif\n",
      "INFO:TATSSI.qa.EOS.quality:Decoding QA layer MODLAND...\n",
      "INFO:TATSSI.qa.EOS.quality:Decoding finished.\n",
      "INFO:TATSSI.qa.EOS.quality:Decoding MOD13A2.006...\n",
      "INFO:TATSSI.qa.EOS.quality:File /tmp/bolivia/1_km_16_days_pixel_reliability/MOD13A2.2018_01_01.006.1_km_16_days_pixel_reliability.tif\n",
      "INFO:TATSSI.qa.EOS.quality:Decoding QA layer MODLAND...\n",
      "INFO:TATSSI.qa.EOS.quality:Decoding finished.\n",
      "INFO:TATSSI.qa.EOS.quality:Decoding MOD13A2.006...\n",
      "INFO:TATSSI.qa.EOS.quality:File /tmp/bolivia/1_km_16_days_pixel_reliability/MOD13A2.2018_01_17.006.1_km_16_days_pixel_reliability.tif\n",
      "INFO:TATSSI.qa.EOS.quality:Decoding QA layer MODLAND...\n",
      "INFO:TATSSI.qa.EOS.quality:Decoding finished.\n",
      "INFO:TATSSI.qa.EOS.quality:Decoding MOD13A2.006...\n",
      "INFO:TATSSI.qa.EOS.quality:File /tmp/bolivia/1_km_16_days_pixel_reliability/MOD13A2.2018_02_02.006.1_km_16_days_pixel_reliability.tif\n",
      "INFO:TATSSI.qa.EOS.quality:Decoding QA layer MODLAND...\n",
      "INFO:TATSSI.qa.EOS.quality:Decoding finished.\n",
      "INFO:TATSSI.qa.EOS.quality:Decoding MOD13A2.006...\n",
      "INFO:TATSSI.qa.EOS.quality:File /tmp/bolivia/1_km_16_days_pixel_reliability/MOD13A2.2018_02_18.006.1_km_16_days_pixel_reliability.tif\n",
      "INFO:TATSSI.qa.EOS.quality:Decoding QA layer MODLAND...\n",
      "INFO:TATSSI.qa.EOS.quality:Decoding finished.\n",
      "INFO:TATSSI.qa.EOS.quality:Decoding MOD13A2.006...\n",
      "INFO:TATSSI.qa.EOS.quality:File /tmp/bolivia/1_km_16_days_pixel_reliability/MOD13A2.2018_03_06.006.1_km_16_days_pixel_reliability.tif\n",
      "INFO:TATSSI.qa.EOS.quality:Decoding QA layer MODLAND...\n",
      "INFO:TATSSI.qa.EOS.quality:Decoding finished.\n",
      "INFO:TATSSI.qa.EOS.quality:Decoding MOD13A2.006...\n",
      "INFO:TATSSI.qa.EOS.quality:File /tmp/bolivia/1_km_16_days_pixel_reliability/MOD13A2.2018_03_22.006.1_km_16_days_pixel_reliability.tif\n",
      "INFO:TATSSI.qa.EOS.quality:Decoding QA layer MODLAND...\n",
      "INFO:TATSSI.qa.EOS.quality:Decoding finished.\n",
      "INFO:TATSSI.qa.EOS.quality:Decoding MOD13A2.006...\n",
      "INFO:TATSSI.qa.EOS.quality:File /tmp/bolivia/1_km_16_days_pixel_reliability/MOD13A2.2018_04_07.006.1_km_16_days_pixel_reliability.tif\n",
      "INFO:TATSSI.qa.EOS.quality:Decoding QA layer MODLAND...\n",
      "INFO:TATSSI.qa.EOS.quality:Decoding finished.\n",
      "INFO:TATSSI.qa.EOS.quality:Decoding MOD13A2.006...\n",
      "INFO:TATSSI.qa.EOS.quality:File /tmp/bolivia/1_km_16_days_pixel_reliability/MOD13A2.2018_04_23.006.1_km_16_days_pixel_reliability.tif\n",
      "INFO:TATSSI.qa.EOS.quality:Decoding QA layer MODLAND...\n",
      "INFO:TATSSI.qa.EOS.quality:Decoding finished.\n",
      "INFO:TATSSI.qa.EOS.quality:Decoding MOD13A2.006...\n",
      "INFO:TATSSI.qa.EOS.quality:File /tmp/bolivia/1_km_16_days_pixel_reliability/MOD13A2.2018_05_09.006.1_km_16_days_pixel_reliability.tif\n",
      "INFO:TATSSI.qa.EOS.quality:Decoding QA layer MODLAND...\n",
      "INFO:TATSSI.qa.EOS.quality:Decoding finished.\n",
      "INFO:TATSSI.qa.EOS.quality:Decoding MOD13A2.006...\n",
      "INFO:TATSSI.qa.EOS.quality:File /tmp/bolivia/1_km_16_days_pixel_reliability/MOD13A2.2018_05_25.006.1_km_16_days_pixel_reliability.tif\n",
      "INFO:TATSSI.qa.EOS.quality:Decoding QA layer MODLAND...\n",
      "INFO:TATSSI.qa.EOS.quality:Decoding finished.\n",
      "INFO:TATSSI.qa.EOS.quality:Decoding MOD13A2.006...\n",
      "INFO:TATSSI.qa.EOS.quality:File /tmp/bolivia/1_km_16_days_pixel_reliability/MOD13A2.2018_06_10.006.1_km_16_days_pixel_reliability.tif\n",
      "INFO:TATSSI.qa.EOS.quality:Decoding QA layer MODLAND...\n",
      "INFO:TATSSI.qa.EOS.quality:Decoding finished.\n",
      "INFO:TATSSI.qa.EOS.quality:Decoding MOD13A2.006...\n",
      "INFO:TATSSI.qa.EOS.quality:File /tmp/bolivia/1_km_16_days_pixel_reliability/MOD13A2.2018_06_26.006.1_km_16_days_pixel_reliability.tif\n",
      "INFO:TATSSI.qa.EOS.quality:Decoding QA layer MODLAND...\n",
      "INFO:TATSSI.qa.EOS.quality:Decoding finished.\n",
      "INFO:TATSSI.qa.EOS.quality:Decoding MOD13A2.006...\n",
      "INFO:TATSSI.qa.EOS.quality:File /tmp/bolivia/1_km_16_days_pixel_reliability/MOD13A2.2018_07_12.006.1_km_16_days_pixel_reliability.tif\n",
      "INFO:TATSSI.qa.EOS.quality:Decoding QA layer MODLAND...\n",
      "INFO:TATSSI.qa.EOS.quality:Decoding finished.\n",
      "INFO:TATSSI.qa.EOS.quality:Decoding MOD13A2.006...\n",
      "INFO:TATSSI.qa.EOS.quality:File /tmp/bolivia/1_km_16_days_pixel_reliability/MOD13A2.2018_07_28.006.1_km_16_days_pixel_reliability.tif\n",
      "INFO:TATSSI.qa.EOS.quality:Decoding QA layer MODLAND...\n",
      "INFO:TATSSI.qa.EOS.quality:Decoding finished.\n",
      "INFO:TATSSI.qa.EOS.quality:Decoding MOD13A2.006...\n",
      "INFO:TATSSI.qa.EOS.quality:File /tmp/bolivia/1_km_16_days_pixel_reliability/MOD13A2.2018_08_13.006.1_km_16_days_pixel_reliability.tif\n",
      "INFO:TATSSI.qa.EOS.quality:Decoding QA layer MODLAND...\n",
      "INFO:TATSSI.qa.EOS.quality:Decoding finished.\n",
      "INFO:TATSSI.qa.EOS.quality:Decoding MOD13A2.006...\n",
      "INFO:TATSSI.qa.EOS.quality:File /tmp/bolivia/1_km_16_days_pixel_reliability/MOD13A2.2018_08_29.006.1_km_16_days_pixel_reliability.tif\n",
      "INFO:TATSSI.qa.EOS.quality:Decoding QA layer MODLAND...\n",
      "INFO:TATSSI.qa.EOS.quality:Decoding finished.\n",
      "INFO:TATSSI.qa.EOS.quality:Decoding MOD13A2.006...\n",
      "INFO:TATSSI.qa.EOS.quality:File /tmp/bolivia/1_km_16_days_pixel_reliability/MOD13A2.2018_09_14.006.1_km_16_days_pixel_reliability.tif\n"
     ]
    },
    {
     "name": "stderr",
     "output_type": "stream",
     "text": [
      "INFO:TATSSI.qa.EOS.quality:Decoding QA layer MODLAND...\n",
      "INFO:TATSSI.qa.EOS.quality:Decoding finished.\n",
      "INFO:TATSSI.qa.EOS.quality:Decoding MOD13A2.006...\n",
      "INFO:TATSSI.qa.EOS.quality:File /tmp/bolivia/1_km_16_days_pixel_reliability/MOD13A2.2018_09_30.006.1_km_16_days_pixel_reliability.tif\n",
      "INFO:TATSSI.qa.EOS.quality:Decoding QA layer MODLAND...\n",
      "INFO:TATSSI.qa.EOS.quality:Decoding finished.\n",
      "INFO:TATSSI.qa.EOS.quality:Decoding MOD13A2.006...\n",
      "INFO:TATSSI.qa.EOS.quality:File /tmp/bolivia/1_km_16_days_pixel_reliability/MOD13A2.2018_10_16.006.1_km_16_days_pixel_reliability.tif\n",
      "INFO:TATSSI.qa.EOS.quality:Decoding QA layer MODLAND...\n",
      "INFO:TATSSI.qa.EOS.quality:Decoding finished.\n",
      "INFO:TATSSI.qa.EOS.quality:Decoding MOD13A2.006...\n",
      "INFO:TATSSI.qa.EOS.quality:File /tmp/bolivia/1_km_16_days_pixel_reliability/MOD13A2.2018_11_01.006.1_km_16_days_pixel_reliability.tif\n",
      "INFO:TATSSI.qa.EOS.quality:Decoding QA layer MODLAND...\n",
      "INFO:TATSSI.qa.EOS.quality:Decoding finished.\n",
      "INFO:TATSSI.qa.EOS.quality:Decoding MOD13A2.006...\n",
      "INFO:TATSSI.qa.EOS.quality:File /tmp/bolivia/1_km_16_days_pixel_reliability/MOD13A2.2018_11_17.006.1_km_16_days_pixel_reliability.tif\n",
      "INFO:TATSSI.qa.EOS.quality:Decoding QA layer MODLAND...\n",
      "INFO:TATSSI.qa.EOS.quality:Decoding finished.\n",
      "INFO:TATSSI.qa.EOS.quality:Decoding MOD13A2.006...\n",
      "INFO:TATSSI.qa.EOS.quality:File /tmp/bolivia/1_km_16_days_pixel_reliability/MOD13A2.2018_12_03.006.1_km_16_days_pixel_reliability.tif\n",
      "INFO:TATSSI.qa.EOS.quality:Decoding QA layer MODLAND...\n",
      "INFO:TATSSI.qa.EOS.quality:Decoding finished.\n",
      "INFO:TATSSI.qa.EOS.quality:Decoding MOD13A2.006...\n",
      "INFO:TATSSI.qa.EOS.quality:File /tmp/bolivia/1_km_16_days_pixel_reliability/MOD13A2.2018_12_19.006.1_km_16_days_pixel_reliability.tif\n",
      "INFO:TATSSI.qa.EOS.quality:Decoding QA layer MODLAND...\n",
      "INFO:TATSSI.qa.EOS.quality:Decoding finished.\n",
      "INFO:TATSSI.qa.EOS.quality:Decoding MOD13A2.006...\n",
      "INFO:TATSSI.qa.EOS.quality:File /tmp/bolivia/1_km_16_days_pixel_reliability/MOD13A2.2019_01_01.006.1_km_16_days_pixel_reliability.tif\n",
      "INFO:TATSSI.qa.EOS.quality:Decoding QA layer MODLAND...\n",
      "INFO:TATSSI.qa.EOS.quality:Decoding finished.\n",
      "INFO:TATSSI.qa.EOS.quality:Decoding MOD13A2.006...\n",
      "INFO:TATSSI.qa.EOS.quality:File /tmp/bolivia/1_km_16_days_pixel_reliability/MOD13A2.2019_01_17.006.1_km_16_days_pixel_reliability.tif\n",
      "INFO:TATSSI.qa.EOS.quality:Decoding QA layer MODLAND...\n",
      "INFO:TATSSI.qa.EOS.quality:Decoding finished.\n",
      "INFO:TATSSI.qa.EOS.quality:Decoding MOD13A2.006...\n",
      "INFO:TATSSI.qa.EOS.quality:File /tmp/bolivia/1_km_16_days_pixel_reliability/MOD13A2.2019_02_02.006.1_km_16_days_pixel_reliability.tif\n",
      "INFO:TATSSI.qa.EOS.quality:Decoding QA layer MODLAND...\n",
      "INFO:TATSSI.qa.EOS.quality:Decoding finished.\n",
      "INFO:TATSSI.qa.EOS.quality:Decoding MOD13A2.006...\n",
      "INFO:TATSSI.qa.EOS.quality:File /tmp/bolivia/1_km_16_days_pixel_reliability/MOD13A2.2019_02_18.006.1_km_16_days_pixel_reliability.tif\n",
      "INFO:TATSSI.qa.EOS.quality:Decoding QA layer MODLAND...\n",
      "INFO:TATSSI.qa.EOS.quality:Decoding finished.\n",
      "INFO:TATSSI.qa.EOS.quality:Decoding MOD13A2.006...\n",
      "INFO:TATSSI.qa.EOS.quality:File /tmp/bolivia/1_km_16_days_pixel_reliability/MOD13A2.2019_03_06.006.1_km_16_days_pixel_reliability.tif\n",
      "INFO:TATSSI.qa.EOS.quality:Decoding QA layer MODLAND...\n",
      "INFO:TATSSI.qa.EOS.quality:Decoding finished.\n",
      "INFO:TATSSI.qa.EOS.quality:Decoding MOD13A2.006...\n",
      "INFO:TATSSI.qa.EOS.quality:File /tmp/bolivia/1_km_16_days_pixel_reliability/MOD13A2.2019_03_22.006.1_km_16_days_pixel_reliability.tif\n",
      "INFO:TATSSI.qa.EOS.quality:Decoding QA layer MODLAND...\n",
      "INFO:TATSSI.qa.EOS.quality:Decoding finished.\n",
      "INFO:TATSSI.qa.EOS.quality:Decoding MOD13A2.006...\n",
      "INFO:TATSSI.qa.EOS.quality:File /tmp/bolivia/1_km_16_days_pixel_reliability/MOD13A2.2019_04_07.006.1_km_16_days_pixel_reliability.tif\n",
      "INFO:TATSSI.qa.EOS.quality:Decoding QA layer MODLAND...\n",
      "INFO:TATSSI.qa.EOS.quality:Decoding finished.\n",
      "INFO:TATSSI.qa.EOS.quality:Decoding MOD13A2.006...\n",
      "INFO:TATSSI.qa.EOS.quality:File /tmp/bolivia/1_km_16_days_pixel_reliability/MOD13A2.2019_04_23.006.1_km_16_days_pixel_reliability.tif\n",
      "INFO:TATSSI.qa.EOS.quality:Decoding QA layer MODLAND...\n",
      "INFO:TATSSI.qa.EOS.quality:Decoding finished.\n",
      "INFO:TATSSI.qa.EOS.quality:Decoding MOD13A2.006...\n",
      "INFO:TATSSI.qa.EOS.quality:File /tmp/bolivia/1_km_16_days_pixel_reliability/MOD13A2.2019_05_09.006.1_km_16_days_pixel_reliability.tif\n",
      "INFO:TATSSI.qa.EOS.quality:Decoding QA layer MODLAND...\n",
      "INFO:TATSSI.qa.EOS.quality:Decoding finished.\n",
      "INFO:TATSSI.qa.EOS.quality:Decoding MOD13A2.006...\n",
      "INFO:TATSSI.qa.EOS.quality:File /tmp/bolivia/1_km_16_days_pixel_reliability/MOD13A2.2019_05_25.006.1_km_16_days_pixel_reliability.tif\n",
      "INFO:TATSSI.qa.EOS.quality:Decoding QA layer MODLAND...\n",
      "INFO:TATSSI.qa.EOS.quality:Decoding finished.\n",
      "INFO:TATSSI.qa.EOS.quality:Decoding MOD13A2.006...\n",
      "INFO:TATSSI.qa.EOS.quality:File /tmp/bolivia/1_km_16_days_pixel_reliability/MOD13A2.2019_06_10.006.1_km_16_days_pixel_reliability.tif\n",
      "INFO:TATSSI.qa.EOS.quality:Decoding QA layer MODLAND...\n",
      "INFO:TATSSI.qa.EOS.quality:Decoding finished.\n",
      "INFO:TATSSI.qa.EOS.quality:Decoding MOD13A2.006...\n",
      "INFO:TATSSI.qa.EOS.quality:File /tmp/bolivia/1_km_16_days_pixel_reliability/MOD13A2.2019_06_26.006.1_km_16_days_pixel_reliability.tif\n",
      "INFO:TATSSI.qa.EOS.quality:Decoding QA layer MODLAND...\n",
      "INFO:TATSSI.qa.EOS.quality:Decoding finished.\n",
      "INFO:TATSSI.qa.EOS.quality:Decoding MOD13A2.006...\n",
      "INFO:TATSSI.qa.EOS.quality:File /tmp/bolivia/1_km_16_days_pixel_reliability/MOD13A2.2019_07_12.006.1_km_16_days_pixel_reliability.tif\n",
      "INFO:TATSSI.qa.EOS.quality:Decoding QA layer MODLAND...\n",
      "INFO:TATSSI.qa.EOS.quality:Decoding finished.\n",
      "INFO:TATSSI.qa.EOS.quality:Decoding MOD13A2.006...\n",
      "INFO:TATSSI.qa.EOS.quality:File /tmp/bolivia/1_km_16_days_pixel_reliability/MOD13A2.2019_07_28.006.1_km_16_days_pixel_reliability.tif\n",
      "INFO:TATSSI.qa.EOS.quality:Decoding QA layer MODLAND...\n",
      "INFO:TATSSI.qa.EOS.quality:Decoding finished.\n",
      "INFO:TATSSI.qa.EOS.quality:Decoding MOD13A2.006...\n",
      "INFO:TATSSI.qa.EOS.quality:File /tmp/bolivia/1_km_16_days_pixel_reliability/MOD13A2.2019_08_13.006.1_km_16_days_pixel_reliability.tif\n",
      "INFO:TATSSI.qa.EOS.quality:Decoding QA layer MODLAND...\n",
      "INFO:TATSSI.qa.EOS.quality:Decoding finished.\n",
      "INFO:TATSSI.qa.EOS.quality:Decoding MOD13A2.006...\n",
      "INFO:TATSSI.qa.EOS.quality:File /tmp/bolivia/1_km_16_days_pixel_reliability/MOD13A2.2019_08_29.006.1_km_16_days_pixel_reliability.tif\n",
      "INFO:TATSSI.qa.EOS.quality:Decoding QA layer MODLAND...\n",
      "INFO:TATSSI.qa.EOS.quality:Decoding finished.\n",
      "INFO:TATSSI.qa.EOS.quality:Decoding MOD13A2.006...\n",
      "INFO:TATSSI.qa.EOS.quality:File /tmp/bolivia/1_km_16_days_pixel_reliability/MOD13A2.2019_09_14.006.1_km_16_days_pixel_reliability.tif\n",
      "INFO:TATSSI.qa.EOS.quality:Decoding QA layer MODLAND...\n",
      "INFO:TATSSI.qa.EOS.quality:Decoding finished.\n",
      "INFO:TATSSI.qa.EOS.quality:Decoding MOD13A2.006...\n",
      "INFO:TATSSI.qa.EOS.quality:File /tmp/bolivia/1_km_16_days_pixel_reliability/MOD13A2.2019_09_30.006.1_km_16_days_pixel_reliability.tif\n",
      "INFO:TATSSI.qa.EOS.quality:Decoding QA layer MODLAND...\n",
      "INFO:TATSSI.qa.EOS.quality:Decoding finished.\n",
      "INFO:TATSSI.qa.EOS.quality:Decoding MOD13A2.006...\n",
      "INFO:TATSSI.qa.EOS.quality:File /tmp/bolivia/1_km_16_days_pixel_reliability/MOD13A2.2019_10_16.006.1_km_16_days_pixel_reliability.tif\n",
      "INFO:TATSSI.qa.EOS.quality:Decoding QA layer MODLAND...\n",
      "INFO:TATSSI.qa.EOS.quality:Decoding finished.\n",
      "INFO:TATSSI.qa.EOS.quality:Decoding MOD13A2.006...\n",
      "INFO:TATSSI.qa.EOS.quality:File /tmp/bolivia/1_km_16_days_pixel_reliability/MOD13A2.2019_11_01.006.1_km_16_days_pixel_reliability.tif\n",
      "INFO:TATSSI.qa.EOS.quality:Decoding QA layer MODLAND...\n",
      "INFO:TATSSI.qa.EOS.quality:Decoding finished.\n",
      "INFO:TATSSI.qa.EOS.quality:Decoding MOD13A2.006...\n",
      "INFO:TATSSI.qa.EOS.quality:File /tmp/bolivia/1_km_16_days_pixel_reliability/MOD13A2.2019_11_17.006.1_km_16_days_pixel_reliability.tif\n",
      "INFO:TATSSI.qa.EOS.quality:Decoding QA layer MODLAND...\n",
      "INFO:TATSSI.qa.EOS.quality:Decoding finished.\n",
      "INFO:TATSSI.qa.EOS.quality:Decoding MOD13A2.006...\n",
      "INFO:TATSSI.qa.EOS.quality:File /tmp/bolivia/1_km_16_days_pixel_reliability/MOD13A2.2019_12_03.006.1_km_16_days_pixel_reliability.tif\n",
      "INFO:TATSSI.qa.EOS.quality:Decoding QA layer MODLAND...\n",
      "INFO:TATSSI.qa.EOS.quality:Decoding finished.\n",
      "INFO:TATSSI.qa.EOS.quality:Decoding MOD13A2.006...\n",
      "INFO:TATSSI.qa.EOS.quality:File /tmp/bolivia/1_km_16_days_pixel_reliability/MOD13A2.2019_12_19.006.1_km_16_days_pixel_reliability.tif\n"
     ]
    },
    {
     "name": "stderr",
     "output_type": "stream",
     "text": [
      "INFO:TATSSI.qa.EOS.quality:Decoding QA layer MODLAND...\n",
      "INFO:TATSSI.qa.EOS.quality:Decoding finished.\n",
      "INFO:TATSSI.qa.EOS.quality:Decoding MOD13A2.006...\n",
      "INFO:TATSSI.qa.EOS.quality:File /tmp/bolivia/1_km_16_days_pixel_reliability/MOD13A2.2020_01_01.006.1_km_16_days_pixel_reliability.tif\n",
      "INFO:TATSSI.qa.EOS.quality:Decoding QA layer MODLAND...\n",
      "INFO:TATSSI.qa.EOS.quality:Decoding finished.\n",
      "INFO:TATSSI.qa.EOS.quality:Decoding MOD13A2.006...\n",
      "INFO:TATSSI.qa.EOS.quality:File /tmp/bolivia/1_km_16_days_pixel_reliability/MOD13A2.2020_01_17.006.1_km_16_days_pixel_reliability.tif\n",
      "INFO:TATSSI.qa.EOS.quality:Decoding QA layer MODLAND...\n",
      "INFO:TATSSI.qa.EOS.quality:Decoding finished.\n",
      "INFO:TATSSI.qa.EOS.quality:Decoding MOD13A2.006...\n",
      "INFO:TATSSI.qa.EOS.quality:File /tmp/bolivia/1_km_16_days_pixel_reliability/MOD13A2.2020_02_02.006.1_km_16_days_pixel_reliability.tif\n",
      "INFO:TATSSI.qa.EOS.quality:Decoding QA layer MODLAND...\n",
      "INFO:TATSSI.qa.EOS.quality:Decoding finished.\n",
      "INFO:TATSSI.qa.EOS.quality:Decoding MOD13A2.006...\n",
      "INFO:TATSSI.qa.EOS.quality:File /tmp/bolivia/1_km_16_days_pixel_reliability/MOD13A2.2020_02_18.006.1_km_16_days_pixel_reliability.tif\n",
      "INFO:TATSSI.qa.EOS.quality:Decoding QA layer MODLAND...\n",
      "INFO:TATSSI.qa.EOS.quality:Decoding finished.\n",
      "INFO:TATSSI.qa.EOS.quality:Decoding MOD13A2.006...\n",
      "INFO:TATSSI.qa.EOS.quality:File /tmp/bolivia/1_km_16_days_pixel_reliability/MOD13A2.2020_03_05.006.1_km_16_days_pixel_reliability.tif\n",
      "INFO:TATSSI.qa.EOS.quality:Decoding QA layer MODLAND...\n",
      "INFO:TATSSI.qa.EOS.quality:Decoding finished.\n",
      "INFO:TATSSI.qa.EOS.quality:Decoding MOD13A2.006...\n",
      "INFO:TATSSI.qa.EOS.quality:File /tmp/bolivia/1_km_16_days_pixel_reliability/MOD13A2.2020_03_21.006.1_km_16_days_pixel_reliability.tif\n",
      "INFO:TATSSI.qa.EOS.quality:Decoding QA layer MODLAND...\n",
      "INFO:TATSSI.qa.EOS.quality:Decoding finished.\n",
      "INFO:TATSSI.qa.EOS.quality:Decoding MOD13A2.006...\n",
      "INFO:TATSSI.qa.EOS.quality:File /tmp/bolivia/1_km_16_days_pixel_reliability/MOD13A2.2020_04_06.006.1_km_16_days_pixel_reliability.tif\n",
      "INFO:TATSSI.qa.EOS.quality:Decoding QA layer MODLAND...\n",
      "INFO:TATSSI.qa.EOS.quality:Decoding finished.\n",
      "INFO:TATSSI.qa.EOS.quality:Decoding MOD13A2.006...\n",
      "INFO:TATSSI.qa.EOS.quality:File /tmp/bolivia/1_km_16_days_pixel_reliability/MOD13A2.2020_04_22.006.1_km_16_days_pixel_reliability.tif\n",
      "INFO:TATSSI.qa.EOS.quality:Decoding QA layer MODLAND...\n",
      "INFO:TATSSI.qa.EOS.quality:Decoding finished.\n",
      "INFO:TATSSI.qa.EOS.quality:Decoding MOD13A2.006...\n",
      "INFO:TATSSI.qa.EOS.quality:File /tmp/bolivia/1_km_16_days_pixel_reliability/MOD13A2.2020_05_08.006.1_km_16_days_pixel_reliability.tif\n",
      "INFO:TATSSI.qa.EOS.quality:Decoding QA layer MODLAND...\n",
      "INFO:TATSSI.qa.EOS.quality:Decoding finished.\n",
      "INFO:TATSSI.qa.EOS.quality:Decoding MOD13A2.006...\n",
      "INFO:TATSSI.qa.EOS.quality:File /tmp/bolivia/1_km_16_days_pixel_reliability/MOD13A2.2020_05_24.006.1_km_16_days_pixel_reliability.tif\n",
      "INFO:TATSSI.qa.EOS.quality:Decoding QA layer MODLAND...\n",
      "INFO:TATSSI.qa.EOS.quality:Decoding finished.\n",
      "INFO:TATSSI.qa.EOS.quality:Decoding MOD13A2.006...\n",
      "INFO:TATSSI.qa.EOS.quality:File /tmp/bolivia/1_km_16_days_pixel_reliability/MOD13A2.2020_06_09.006.1_km_16_days_pixel_reliability.tif\n",
      "INFO:TATSSI.qa.EOS.quality:Decoding QA layer MODLAND...\n",
      "INFO:TATSSI.qa.EOS.quality:Decoding finished.\n",
      "INFO:TATSSI.time_series.generator:Generating MOD13A2.006 QA layer stacks for _1_km_16_days_VI_Quality...\n",
      "INFO:TATSSI.time_series.generator:Layer stack for Mixed_Clouds created successfully.\n",
      "INFO:TATSSI.time_series.generator:Layer stack for VI_Usefulness created successfully.\n",
      "INFO:TATSSI.time_series.generator:Layer stack for MODLAND created successfully.\n",
      "INFO:TATSSI.time_series.generator:Layer stack for Possible_shadow created successfully.\n",
      "INFO:TATSSI.time_series.generator:Layer stack for Possible_snow_ice created successfully.\n",
      "INFO:TATSSI.time_series.generator:Layer stack for Adjacent_cloud_detected created successfully.\n",
      "INFO:TATSSI.time_series.generator:Layer stack for Atmosphere_BRDF_Correction created successfully.\n",
      "INFO:TATSSI.time_series.generator:Layer stack for Land_Water_Mask created successfully.\n",
      "INFO:TATSSI.time_series.generator:Layer stack for Aerosol_Quantity created successfully.\n",
      "INFO:TATSSI.time_series.generator:Generating MOD13A2.006 QA layer stacks for _1_km_16_days_pixel_reliability...\n",
      "INFO:TATSSI.time_series.generator:Layer stack for Mixed_Clouds created successfully.\n",
      "INFO:TATSSI.time_series.generator:Layer stack for VI_Usefulness created successfully.\n",
      "INFO:TATSSI.time_series.generator:Layer stack for MODLAND created successfully.\n",
      "INFO:TATSSI.time_series.generator:Layer stack for Possible_shadow created successfully.\n",
      "INFO:TATSSI.time_series.generator:Layer stack for Possible_snow_ice created successfully.\n",
      "INFO:TATSSI.time_series.generator:Layer stack for Adjacent_cloud_detected created successfully.\n",
      "INFO:TATSSI.time_series.generator:Layer stack for Atmosphere_BRDF_Correction created successfully.\n",
      "INFO:TATSSI.time_series.generator:Layer stack for Land_Water_Mask created successfully.\n",
      "INFO:TATSSI.time_series.generator:Layer stack for Aerosol_Quantity created successfully.\n",
      "INFO:TATSSI.time_series.generator:Layer stack for MODLAND created successfully.\n"
     ]
    }
   ],
   "source": [
    "# TATSSI Time Series Generator object\n",
    "tsg = Generator(source_dir=output_dir, product=product_name,\n",
    "                version=version, data_format='tif',\n",
    "                progressBar=None, preprocessed=True)\n",
    "\n",
    "# Create layerstacks\n",
    "tsg._Generator__datasets = datasets\n",
    "for dataset in tsg._Generator__datasets:\n",
    "    tsg._Generator__generate_layerstack(dataset, 'tif')\n",
    "\n",
    "# For the associated product layers, decode the corresponding QA bands\n",
    "tsg._Generator__decode_qa('tif')"
   ]
  },
  {
   "cell_type": "code",
   "execution_count": null,
   "metadata": {},
   "outputs": [],
   "source": []
  }
 ],
 "metadata": {
  "kernelspec": {
   "display_name": "Python 3",
   "language": "python",
   "name": "python3"
  },
  "language_info": {
   "codemirror_mode": {
    "name": "ipython",
    "version": 3
   },
   "file_extension": ".py",
   "mimetype": "text/x-python",
   "name": "python",
   "nbconvert_exporter": "python",
   "pygments_lexer": "ipython3",
   "version": "3.7.3"
  },
  "toc": {
   "base_numbering": 1,
   "nav_menu": {},
   "number_sections": false,
   "sideBar": false,
   "skip_h1_title": false,
   "title_cell": "Table of Contents",
   "title_sidebar": "Contents",
   "toc_cell": false,
   "toc_position": {},
   "toc_section_display": false,
   "toc_window_display": false
  },
  "varInspector": {
   "cols": {
    "lenName": 16,
    "lenType": 16,
    "lenVar": 40
   },
   "kernels_config": {
    "python": {
     "delete_cmd_postfix": "",
     "delete_cmd_prefix": "del ",
     "library": "var_list.py",
     "varRefreshCmd": "print(var_dic_list())"
    },
    "r": {
     "delete_cmd_postfix": ") ",
     "delete_cmd_prefix": "rm(",
     "library": "var_list.r",
     "varRefreshCmd": "cat(var_dic_list()) "
    }
   },
   "types_to_exclude": [
    "module",
    "function",
    "builtin_function_or_method",
    "instance",
    "_Feature"
   ],
   "window_display": false
  }
 },
 "nbformat": 4,
 "nbformat_minor": 2
}
