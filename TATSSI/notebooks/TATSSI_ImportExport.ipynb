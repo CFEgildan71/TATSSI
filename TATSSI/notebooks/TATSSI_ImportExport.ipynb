{
 "cells": [
  {
   "cell_type": "markdown",
   "metadata": {},
   "source": [
    "# Tools for Analyzing Time Series of Satellite Imagery (TATSSI)"
   ]
  },
  {
   "cell_type": "code",
   "execution_count": 1,
   "metadata": {
    "ExecuteTime": {
     "end_time": "2019-06-04T10:55:38.054875Z",
     "start_time": "2019-06-04T10:55:37.636780Z"
    }
   },
   "outputs": [],
   "source": [
    "import os\n",
    "import sys\n",
    "sys.path.append(os.path.join(os.path.expanduser('~'), 'Projects', 'TATSSI'))\n",
    "\n",
    "# Notebook helpers\n",
    "from TATSSI.notebooks.helpers.import_export import ImportExport"
   ]
  },
  {
   "cell_type": "markdown",
   "metadata": {},
   "source": [
    "### Step-by-step TATSSI import-export module\n",
    "TATSSI allows converting to/from all [GDAL supported formats](https://www.gdal.org/formats_list.html)!"
   ]
  },
  {
   "cell_type": "code",
   "execution_count": 2,
   "metadata": {
    "ExecuteTime": {
     "end_time": "2019-06-04T10:33:14.555604Z",
     "start_time": "2019-06-04T10:33:14.537999Z"
    }
   },
   "outputs": [
    {
     "data": {
      "application/vnd.jupyter.widget-view+json": {
       "model_id": "a8b2d2bf81284d31b4bb44a5e61898c7",
       "version_major": 2,
       "version_minor": 0
      },
      "text/plain": [
       "Button(description='Select input file', style=ButtonStyle(), tooltip='Select file or dataset to be imported.')"
      ]
     },
     "metadata": {},
     "output_type": "display_data"
    },
    {
     "data": {
      "application/vnd.jupyter.widget-view+json": {
       "model_id": "08e0dfd5e2b84975b4e0fc4196d4bef8",
       "version_major": 2,
       "version_minor": 0
      },
      "text/plain": [
       "Dropdown(description='SubDataset', layout=Layout(width='100%'), options=('HDF4_EOS:EOS_GRID:\"/home/glopez/Proj…"
      ]
     },
     "metadata": {},
     "output_type": "display_data"
    },
    {
     "data": {
      "application/vnd.jupyter.widget-view+json": {
       "model_id": "3d1cf97e818c444c90aea724c0d3f03f",
       "version_major": 2,
       "version_minor": 0
      },
      "text/plain": [
       "Dropdown(description='Output format', index=29, layout=Layout(width='100%'), options=('ACE2 | ACE2 | ACE2', 'A…"
      ]
     },
     "metadata": {},
     "output_type": "display_data"
    },
    {
     "data": {
      "application/vnd.jupyter.widget-view+json": {
       "model_id": "c74613205679481e99722f8de96ee603",
       "version_major": 2,
       "version_minor": 0
      },
      "text/plain": [
       "Button(description='Select output file', style=ButtonStyle(), tooltip='Select output file name and location')"
      ]
     },
     "metadata": {},
     "output_type": "display_data"
    },
    {
     "data": {
      "application/vnd.jupyter.widget-view+json": {
       "model_id": "640ad203daac4fecaff71308e811ec88",
       "version_major": 2,
       "version_minor": 0
      },
      "text/plain": [
       "Text(value='/home/glopez/Projects/TATSSI/data/MOD13A2.006/test', description='Output file', layout=Layout(widt…"
      ]
     },
     "metadata": {},
     "output_type": "display_data"
    },
    {
     "data": {
      "application/vnd.jupyter.widget-view+json": {
       "model_id": "95bee233c1a7423e937ac1fa52098184",
       "version_major": 2,
       "version_minor": 0
      },
      "text/plain": [
       "Button(description='Translate', style=ButtonStyle(), tooltip='Translate input file into output file')"
      ]
     },
     "metadata": {},
     "output_type": "display_data"
    },
    {
     "name": "stderr",
     "output_type": "stream",
     "text": [
      "INFO:TATSSI.input_output.translate:Converting file HDF4_EOS:EOS_GRID:\"/home/glopez/Projects/TATSSI/data/MOD13A2.006/MOD13A2.A2018289.h09v07.006.2018313115811.hdf\":MODIS_Grid_16DAY_1km_VI:1 km 16 days NDVI...\n",
      "INFO:TATSSI.input_output.translate:File /home/glopez/Projects/TATSSI/data/MOD13A2.006/test saved\n"
     ]
    }
   ],
   "source": [
    "# Translate input file into a new one with selected format\n",
    "translate = ImportExport()"
   ]
  },
  {
   "cell_type": "markdown",
   "metadata": {},
   "source": [
    "That is kind of... boring. We can use TATSSI Translate module directly to convert all MOD13A2 HDF files within a directory to extract the EVI layer and convert into a GeoTiff file."
   ]
  },
  {
   "cell_type": "code",
   "execution_count": 3,
   "metadata": {
    "ExecuteTime": {
     "end_time": "2019-06-04T10:35:33.519816Z",
     "start_time": "2019-06-04T10:35:29.600976Z"
    }
   },
   "outputs": [
    {
     "name": "stderr",
     "output_type": "stream",
     "text": [
      "INFO:TATSSI.input_output.translate:Converting file HDF4_EOS:EOS_GRID:\"../../data/MOD13A2.006/MOD13A2.A2018001.h09v07.006.2018017223926.hdf\":MODIS_Grid_16DAY_1km_VI:1 km 16 days EVI...\n",
      "INFO:TATSSI.input_output.translate:File /home/glopez/Projects/TATSSI/data/MOD13A2.006/MOD13A2.A2018001.h09v07.006.2018017223926.EVI.tif saved\n",
      "INFO:TATSSI.input_output.translate:Converting file HDF4_EOS:EOS_GRID:\"../../data/MOD13A2.006/MOD13A2.A2018017.h09v07.006.2018033223052.hdf\":MODIS_Grid_16DAY_1km_VI:1 km 16 days EVI...\n",
      "INFO:TATSSI.input_output.translate:File /home/glopez/Projects/TATSSI/data/MOD13A2.006/MOD13A2.A2018017.h09v07.006.2018033223052.EVI.tif saved\n",
      "INFO:TATSSI.input_output.translate:Converting file HDF4_EOS:EOS_GRID:\"../../data/MOD13A2.006/MOD13A2.A2018033.h09v07.006.2018049222149.hdf\":MODIS_Grid_16DAY_1km_VI:1 km 16 days EVI...\n",
      "INFO:TATSSI.input_output.translate:File /home/glopez/Projects/TATSSI/data/MOD13A2.006/MOD13A2.A2018033.h09v07.006.2018049222149.EVI.tif saved\n",
      "INFO:TATSSI.input_output.translate:Converting file HDF4_EOS:EOS_GRID:\"../../data/MOD13A2.006/MOD13A2.A2018049.h09v07.006.2018066164949.hdf\":MODIS_Grid_16DAY_1km_VI:1 km 16 days EVI...\n",
      "INFO:TATSSI.input_output.translate:File /home/glopez/Projects/TATSSI/data/MOD13A2.006/MOD13A2.A2018049.h09v07.006.2018066164949.EVI.tif saved\n",
      "INFO:TATSSI.input_output.translate:Converting file HDF4_EOS:EOS_GRID:\"../../data/MOD13A2.006/MOD13A2.A2018065.h09v07.006.2018082151520.hdf\":MODIS_Grid_16DAY_1km_VI:1 km 16 days EVI...\n",
      "INFO:TATSSI.input_output.translate:File /home/glopez/Projects/TATSSI/data/MOD13A2.006/MOD13A2.A2018065.h09v07.006.2018082151520.EVI.tif saved\n",
      "INFO:TATSSI.input_output.translate:Converting file HDF4_EOS:EOS_GRID:\"../../data/MOD13A2.006/MOD13A2.A2018081.h09v07.006.2018097233609.hdf\":MODIS_Grid_16DAY_1km_VI:1 km 16 days EVI...\n",
      "INFO:TATSSI.input_output.translate:File /home/glopez/Projects/TATSSI/data/MOD13A2.006/MOD13A2.A2018081.h09v07.006.2018097233609.EVI.tif saved\n",
      "INFO:TATSSI.input_output.translate:Converting file HDF4_EOS:EOS_GRID:\"../../data/MOD13A2.006/MOD13A2.A2018097.h09v07.006.2018113233614.hdf\":MODIS_Grid_16DAY_1km_VI:1 km 16 days EVI...\n",
      "INFO:TATSSI.input_output.translate:File /home/glopez/Projects/TATSSI/data/MOD13A2.006/MOD13A2.A2018097.h09v07.006.2018113233614.EVI.tif saved\n",
      "INFO:TATSSI.input_output.translate:Converting file HDF4_EOS:EOS_GRID:\"../../data/MOD13A2.006/MOD13A2.A2018113.h09v07.006.2018129234546.hdf\":MODIS_Grid_16DAY_1km_VI:1 km 16 days EVI...\n",
      "INFO:TATSSI.input_output.translate:File /home/glopez/Projects/TATSSI/data/MOD13A2.006/MOD13A2.A2018113.h09v07.006.2018129234546.EVI.tif saved\n",
      "INFO:TATSSI.input_output.translate:Converting file HDF4_EOS:EOS_GRID:\"../../data/MOD13A2.006/MOD13A2.A2018129.h09v07.006.2018151110052.hdf\":MODIS_Grid_16DAY_1km_VI:1 km 16 days EVI...\n",
      "INFO:TATSSI.input_output.translate:File /home/glopez/Projects/TATSSI/data/MOD13A2.006/MOD13A2.A2018129.h09v07.006.2018151110052.EVI.tif saved\n",
      "INFO:TATSSI.input_output.translate:Converting file HDF4_EOS:EOS_GRID:\"../../data/MOD13A2.006/MOD13A2.A2018145.h09v07.006.2018162000027.hdf\":MODIS_Grid_16DAY_1km_VI:1 km 16 days EVI...\n",
      "INFO:TATSSI.input_output.translate:File /home/glopez/Projects/TATSSI/data/MOD13A2.006/MOD13A2.A2018145.h09v07.006.2018162000027.EVI.tif saved\n",
      "INFO:TATSSI.input_output.translate:Converting file HDF4_EOS:EOS_GRID:\"../../data/MOD13A2.006/MOD13A2.A2018161.h09v07.006.2018177234950.hdf\":MODIS_Grid_16DAY_1km_VI:1 km 16 days EVI...\n",
      "INFO:TATSSI.input_output.translate:File /home/glopez/Projects/TATSSI/data/MOD13A2.006/MOD13A2.A2018161.h09v07.006.2018177234950.EVI.tif saved\n",
      "INFO:TATSSI.input_output.translate:Converting file HDF4_EOS:EOS_GRID:\"../../data/MOD13A2.006/MOD13A2.A2018177.h09v07.006.2018197102729.hdf\":MODIS_Grid_16DAY_1km_VI:1 km 16 days EVI...\n",
      "INFO:TATSSI.input_output.translate:File /home/glopez/Projects/TATSSI/data/MOD13A2.006/MOD13A2.A2018177.h09v07.006.2018197102729.EVI.tif saved\n",
      "INFO:TATSSI.input_output.translate:Converting file HDF4_EOS:EOS_GRID:\"../../data/MOD13A2.006/MOD13A2.A2018193.h09v07.006.2018210001023.hdf\":MODIS_Grid_16DAY_1km_VI:1 km 16 days EVI...\n",
      "INFO:TATSSI.input_output.translate:File /home/glopez/Projects/TATSSI/data/MOD13A2.006/MOD13A2.A2018193.h09v07.006.2018210001023.EVI.tif saved\n",
      "INFO:TATSSI.input_output.translate:Converting file HDF4_EOS:EOS_GRID:\"../../data/MOD13A2.006/MOD13A2.A2018209.h09v07.006.2018227125009.hdf\":MODIS_Grid_16DAY_1km_VI:1 km 16 days EVI...\n",
      "INFO:TATSSI.input_output.translate:File /home/glopez/Projects/TATSSI/data/MOD13A2.006/MOD13A2.A2018209.h09v07.006.2018227125009.EVI.tif saved\n",
      "INFO:TATSSI.input_output.translate:Converting file HDF4_EOS:EOS_GRID:\"../../data/MOD13A2.006/MOD13A2.A2018225.h09v07.006.2018241235405.hdf\":MODIS_Grid_16DAY_1km_VI:1 km 16 days EVI...\n",
      "INFO:TATSSI.input_output.translate:File /home/glopez/Projects/TATSSI/data/MOD13A2.006/MOD13A2.A2018225.h09v07.006.2018241235405.EVI.tif saved\n",
      "INFO:TATSSI.input_output.translate:Converting file HDF4_EOS:EOS_GRID:\"../../data/MOD13A2.006/MOD13A2.A2018241.h09v07.006.2018257234352.hdf\":MODIS_Grid_16DAY_1km_VI:1 km 16 days EVI...\n",
      "INFO:TATSSI.input_output.translate:File /home/glopez/Projects/TATSSI/data/MOD13A2.006/MOD13A2.A2018241.h09v07.006.2018257234352.EVI.tif saved\n",
      "INFO:TATSSI.input_output.translate:Converting file HDF4_EOS:EOS_GRID:\"../../data/MOD13A2.006/MOD13A2.A2018257.h09v07.006.2018282125524.hdf\":MODIS_Grid_16DAY_1km_VI:1 km 16 days EVI...\n",
      "INFO:TATSSI.input_output.translate:File /home/glopez/Projects/TATSSI/data/MOD13A2.006/MOD13A2.A2018257.h09v07.006.2018282125524.EVI.tif saved\n",
      "INFO:TATSSI.input_output.translate:Converting file HDF4_EOS:EOS_GRID:\"../../data/MOD13A2.006/MOD13A2.A2018273.h09v07.006.2018295105556.hdf\":MODIS_Grid_16DAY_1km_VI:1 km 16 days EVI...\n",
      "INFO:TATSSI.input_output.translate:File /home/glopez/Projects/TATSSI/data/MOD13A2.006/MOD13A2.A2018273.h09v07.006.2018295105556.EVI.tif saved\n",
      "INFO:TATSSI.input_output.translate:Converting file HDF4_EOS:EOS_GRID:\"../../data/MOD13A2.006/MOD13A2.A2018289.h09v07.006.2018313115811.hdf\":MODIS_Grid_16DAY_1km_VI:1 km 16 days EVI...\n",
      "INFO:TATSSI.input_output.translate:File /home/glopez/Projects/TATSSI/data/MOD13A2.006/MOD13A2.A2018289.h09v07.006.2018313115811.EVI.tif saved\n",
      "INFO:TATSSI.input_output.translate:Converting file HDF4_EOS:EOS_GRID:\"../../data/MOD13A2.006/MOD13A2.A2018305.h09v07.006.2018321224427.hdf\":MODIS_Grid_16DAY_1km_VI:1 km 16 days EVI...\n",
      "INFO:TATSSI.input_output.translate:File /home/glopez/Projects/TATSSI/data/MOD13A2.006/MOD13A2.A2018305.h09v07.006.2018321224427.EVI.tif saved\n",
      "INFO:TATSSI.input_output.translate:Converting file HDF4_EOS:EOS_GRID:\"../../data/MOD13A2.006/MOD13A2.A2018321.h09v07.006.2018338084059.hdf\":MODIS_Grid_16DAY_1km_VI:1 km 16 days EVI...\n",
      "INFO:TATSSI.input_output.translate:File /home/glopez/Projects/TATSSI/data/MOD13A2.006/MOD13A2.A2018321.h09v07.006.2018338084059.EVI.tif saved\n",
      "INFO:TATSSI.input_output.translate:Converting file HDF4_EOS:EOS_GRID:\"../../data/MOD13A2.006/MOD13A2.A2018337.h09v07.006.2018365153541.hdf\":MODIS_Grid_16DAY_1km_VI:1 km 16 days EVI...\n",
      "INFO:TATSSI.input_output.translate:File /home/glopez/Projects/TATSSI/data/MOD13A2.006/MOD13A2.A2018337.h09v07.006.2018365153541.EVI.tif saved\n",
      "INFO:TATSSI.input_output.translate:Converting file HDF4_EOS:EOS_GRID:\"../../data/MOD13A2.006/MOD13A2.A2018353.h09v07.006.2019032133252.hdf\":MODIS_Grid_16DAY_1km_VI:1 km 16 days EVI...\n",
      "INFO:TATSSI.input_output.translate:File /home/glopez/Projects/TATSSI/data/MOD13A2.006/MOD13A2.A2018353.h09v07.006.2019032133252.EVI.tif saved\n"
     ]
    }
   ],
   "source": [
    "import os\n",
    "from glob import glob\n",
    "from TATSSI.input_output.translate import Translate\n",
    "from TATSSI.input_output.utils import *\n",
    "\n",
    "# Set data directory\n",
    "DataDir = \"../../data/MOD13A2.006/\"\n",
    "# Get files\n",
    "fnames = os.path.join(DataDir, '*.hdf')\n",
    "fnames = glob(fnames)\n",
    "fnames.sort()\n",
    "\n",
    "for fname in fnames:\n",
    "    # Get EVI QA SubDataset -- SD index 1\n",
    "    sds = get_subdatasets(fname)\n",
    "    vi_qa_sds = sds[1][0]\n",
    "    \n",
    "    # Set output file\n",
    "    directory_name = os.path.dirname(os.path.abspath(fname))\n",
    "    output_fname = os.path.join(directory_name,\n",
    "                                os.path.basename(fname)[:-3] + 'EVI.tif')\n",
    "    \n",
    "    # Extract to a GeoTiff file\n",
    "    Translate(vi_qa_sds, output_fname, 'GTiff')"
   ]
  },
  {
   "cell_type": "code",
   "execution_count": 4,
   "metadata": {
    "ExecuteTime": {
     "end_time": "2019-06-04T10:35:37.366625Z",
     "start_time": "2019-06-04T10:35:37.239480Z"
    }
   },
   "outputs": [
    {
     "name": "stdout",
     "output_type": "stream",
     "text": [
      "\u001b[0m\u001b[01;35m../../data/MOD13A2.006/MOD13A2.A2018001.h09v07.006.2018017223926.EVI.tif\u001b[0m\r\n",
      "\u001b[01;35m../../data/MOD13A2.006/MOD13A2.A2018017.h09v07.006.2018033223052.EVI.tif\u001b[0m\r\n",
      "\u001b[01;35m../../data/MOD13A2.006/MOD13A2.A2018033.h09v07.006.2018049222149.EVI.tif\u001b[0m\r\n",
      "\u001b[01;35m../../data/MOD13A2.006/MOD13A2.A2018049.h09v07.006.2018066164949.EVI.tif\u001b[0m\r\n",
      "\u001b[01;35m../../data/MOD13A2.006/MOD13A2.A2018065.h09v07.006.2018082151520.EVI.tif\u001b[0m\r\n",
      "\u001b[01;35m../../data/MOD13A2.006/MOD13A2.A2018081.h09v07.006.2018097233609.EVI.tif\u001b[0m\r\n",
      "\u001b[01;35m../../data/MOD13A2.006/MOD13A2.A2018097.h09v07.006.2018113233614.EVI.tif\u001b[0m\r\n",
      "\u001b[01;35m../../data/MOD13A2.006/MOD13A2.A2018113.h09v07.006.2018129234546.EVI.tif\u001b[0m\r\n",
      "\u001b[01;35m../../data/MOD13A2.006/MOD13A2.A2018129.h09v07.006.2018151110052.EVI.tif\u001b[0m\r\n",
      "\u001b[01;35m../../data/MOD13A2.006/MOD13A2.A2018145.h09v07.006.2018162000027.EVI.tif\u001b[0m\r\n",
      "\u001b[01;35m../../data/MOD13A2.006/MOD13A2.A2018161.h09v07.006.2018177234950.EVI.tif\u001b[0m\r\n",
      "\u001b[01;35m../../data/MOD13A2.006/MOD13A2.A2018177.h09v07.006.2018197102729.EVI.tif\u001b[0m\r\n",
      "\u001b[01;35m../../data/MOD13A2.006/MOD13A2.A2018193.h09v07.006.2018210001023.EVI.tif\u001b[0m\r\n",
      "\u001b[01;35m../../data/MOD13A2.006/MOD13A2.A2018209.h09v07.006.2018227125009.EVI.tif\u001b[0m\r\n",
      "\u001b[01;35m../../data/MOD13A2.006/MOD13A2.A2018225.h09v07.006.2018241235405.EVI.tif\u001b[0m\r\n",
      "\u001b[01;35m../../data/MOD13A2.006/MOD13A2.A2018241.h09v07.006.2018257234352.EVI.tif\u001b[0m\r\n",
      "\u001b[01;35m../../data/MOD13A2.006/MOD13A2.A2018257.h09v07.006.2018282125524.EVI.tif\u001b[0m\r\n",
      "\u001b[01;35m../../data/MOD13A2.006/MOD13A2.A2018273.h09v07.006.2018295105556.EVI.tif\u001b[0m\r\n",
      "\u001b[01;35m../../data/MOD13A2.006/MOD13A2.A2018289.h09v07.006.2018313115811.EVI.tif\u001b[0m\r\n",
      "\u001b[01;35m../../data/MOD13A2.006/MOD13A2.A2018305.h09v07.006.2018321224427.EVI.tif\u001b[0m\r\n",
      "\u001b[01;35m../../data/MOD13A2.006/MOD13A2.A2018321.h09v07.006.2018338084059.EVI.tif\u001b[0m\r\n",
      "\u001b[01;35m../../data/MOD13A2.006/MOD13A2.A2018337.h09v07.006.2018365153541.EVI.tif\u001b[0m\r\n",
      "\u001b[01;35m../../data/MOD13A2.006/MOD13A2.A2018353.h09v07.006.2019032133252.EVI.tif\u001b[0m\r\n"
     ]
    }
   ],
   "source": [
    "# Check created files\n",
    "%ls ../../data/MOD13A2.006/*EVI.tif"
   ]
  },
  {
   "cell_type": "code",
   "execution_count": null,
   "metadata": {},
   "outputs": [],
   "source": []
  }
 ],
 "metadata": {
  "kernelspec": {
   "display_name": "Python 3",
   "language": "python",
   "name": "python3"
  },
  "language_info": {
   "codemirror_mode": {
    "name": "ipython",
    "version": 3
   },
   "file_extension": ".py",
   "mimetype": "text/x-python",
   "name": "python",
   "nbconvert_exporter": "python",
   "pygments_lexer": "ipython3",
   "version": "3.6.4"
  },
  "toc": {
   "base_numbering": 1,
   "nav_menu": {},
   "number_sections": false,
   "sideBar": false,
   "skip_h1_title": false,
   "title_cell": "Table of Contents",
   "title_sidebar": "Contents",
   "toc_cell": false,
   "toc_position": {},
   "toc_section_display": false,
   "toc_window_display": false
  },
  "widgets": {
   "application/vnd.jupyter.widget-state+json": {
    "state": {
     "024ac68797544e01804103ae57f57891": {
      "model_module": "@jupyter-widgets/base",
      "model_module_version": "1.1.0",
      "model_name": "LayoutModel",
      "state": {
       "width": "100%"
      }
     },
     "05204c65aaa94d3e8797cd72adf92333": {
      "model_module": "@jupyter-widgets/base",
      "model_module_version": "1.1.0",
      "model_name": "LayoutModel",
      "state": {
       "width": "100%"
      }
     },
     "08e0dfd5e2b84975b4e0fc4196d4bef8": {
      "model_module": "@jupyter-widgets/controls",
      "model_module_version": "1.4.0",
      "model_name": "DropdownModel",
      "state": {
       "_options_labels": [
        "HDF4_EOS:EOS_GRID:\"/home/glopez/Projects/TATSSI/data/MOD13A2.006/MOD13A2.A2018289.h09v07.006.2018313115811.hdf\":MODIS_Grid_16DAY_1km_VI:1 km 16 days NDVI",
        "HDF4_EOS:EOS_GRID:\"/home/glopez/Projects/TATSSI/data/MOD13A2.006/MOD13A2.A2018289.h09v07.006.2018313115811.hdf\":MODIS_Grid_16DAY_1km_VI:1 km 16 days EVI",
        "HDF4_EOS:EOS_GRID:\"/home/glopez/Projects/TATSSI/data/MOD13A2.006/MOD13A2.A2018289.h09v07.006.2018313115811.hdf\":MODIS_Grid_16DAY_1km_VI:1 km 16 days VI Quality",
        "HDF4_EOS:EOS_GRID:\"/home/glopez/Projects/TATSSI/data/MOD13A2.006/MOD13A2.A2018289.h09v07.006.2018313115811.hdf\":MODIS_Grid_16DAY_1km_VI:1 km 16 days red reflectance",
        "HDF4_EOS:EOS_GRID:\"/home/glopez/Projects/TATSSI/data/MOD13A2.006/MOD13A2.A2018289.h09v07.006.2018313115811.hdf\":MODIS_Grid_16DAY_1km_VI:1 km 16 days NIR reflectance",
        "HDF4_EOS:EOS_GRID:\"/home/glopez/Projects/TATSSI/data/MOD13A2.006/MOD13A2.A2018289.h09v07.006.2018313115811.hdf\":MODIS_Grid_16DAY_1km_VI:1 km 16 days blue reflectance",
        "HDF4_EOS:EOS_GRID:\"/home/glopez/Projects/TATSSI/data/MOD13A2.006/MOD13A2.A2018289.h09v07.006.2018313115811.hdf\":MODIS_Grid_16DAY_1km_VI:1 km 16 days MIR reflectance",
        "HDF4_EOS:EOS_GRID:\"/home/glopez/Projects/TATSSI/data/MOD13A2.006/MOD13A2.A2018289.h09v07.006.2018313115811.hdf\":MODIS_Grid_16DAY_1km_VI:1 km 16 days view zenith angle",
        "HDF4_EOS:EOS_GRID:\"/home/glopez/Projects/TATSSI/data/MOD13A2.006/MOD13A2.A2018289.h09v07.006.2018313115811.hdf\":MODIS_Grid_16DAY_1km_VI:1 km 16 days sun zenith angle",
        "HDF4_EOS:EOS_GRID:\"/home/glopez/Projects/TATSSI/data/MOD13A2.006/MOD13A2.A2018289.h09v07.006.2018313115811.hdf\":MODIS_Grid_16DAY_1km_VI:1 km 16 days relative azimuth angle",
        "HDF4_EOS:EOS_GRID:\"/home/glopez/Projects/TATSSI/data/MOD13A2.006/MOD13A2.A2018289.h09v07.006.2018313115811.hdf\":MODIS_Grid_16DAY_1km_VI:1 km 16 days composite day of the year",
        "HDF4_EOS:EOS_GRID:\"/home/glopez/Projects/TATSSI/data/MOD13A2.006/MOD13A2.A2018289.h09v07.006.2018313115811.hdf\":MODIS_Grid_16DAY_1km_VI:1 km 16 days pixel reliability"
       ],
       "description": "SubDataset",
       "index": 0,
       "layout": "IPY_MODEL_024ac68797544e01804103ae57f57891",
       "style": "IPY_MODEL_b5b52f4375f94c768dd25cb017b4be50"
      }
     },
     "109ddff880354261b84ff699fd09382b": {
      "model_module": "@jupyter-widgets/base",
      "model_module_version": "1.1.0",
      "model_name": "LayoutModel",
      "state": {}
     },
     "2248720da31f4317b6fc4a433e4766c6": {
      "model_module": "@jupyter-widgets/controls",
      "model_module_version": "1.4.0",
      "model_name": "ButtonStyleModel",
      "state": {}
     },
     "24854836f08047ea95ba7d092ad97689": {
      "model_module": "@jupyter-widgets/controls",
      "model_module_version": "1.4.0",
      "model_name": "DescriptionStyleModel",
      "state": {
       "description_width": ""
      }
     },
     "257f5c4c0c6c4823bf165963ab0b1537": {
      "model_module": "@jupyter-widgets/controls",
      "model_module_version": "1.4.0",
      "model_name": "DescriptionStyleModel",
      "state": {
       "description_width": ""
      }
     },
     "28a3cbec3bff47f4b414d01785dd4ede": {
      "model_module": "@jupyter-widgets/base",
      "model_module_version": "1.1.0",
      "model_name": "LayoutModel",
      "state": {
       "width": "100%"
      }
     },
     "2fcae81e66f647368605bd691ca87d47": {
      "model_module": "@jupyter-widgets/base",
      "model_module_version": "1.1.0",
      "model_name": "LayoutModel",
      "state": {
       "width": "100%"
      }
     },
     "35964fcea325411ebf35f7d004cf8f34": {
      "model_module": "@jupyter-widgets/base",
      "model_module_version": "1.1.0",
      "model_name": "LayoutModel",
      "state": {
       "width": "100%"
      }
     },
     "398328c955854ac883994388a227615b": {
      "model_module": "@jupyter-widgets/controls",
      "model_module_version": "1.4.0",
      "model_name": "DescriptionStyleModel",
      "state": {
       "description_width": ""
      }
     },
     "3a32b2bebd9a4f508d577dc3558b677b": {
      "model_module": "@jupyter-widgets/controls",
      "model_module_version": "1.4.0",
      "model_name": "DropdownModel",
      "state": {
       "_options_labels": [
        "ACE2 | ACE2 | ACE2",
        "ARC Digitized Raster Graphics | ADRG | gen",
        "ASCII Gridded XYZ | XYZ | xyz",
        "Arc/Info ASCII Grid | AAIGrid | asc",
        "Arc/Info E00 (ASCII) Coverage | AVCE00 | e00",
        "Arc/Info Export E00 GRID | E00GRID | e00",
        "Atlas BNA | BNA | bna",
        "AutoCAD DXF | DXF | dxf",
        "AutoCAD Driver | CAD | dwg",
        "Comma Separated Value (.csv) | CSV | csv",
        "Czech Cadastral Exchange Data Format | VFK | vfk",
        "DRDC COASP SAR Processor Raster | COASP | hdr",
        "ECRG TOC format | ECRGTOC | xml",
        "ENVI .hdr Labelled | ENVI | ",
        "EPIInfo .REC  | REC | rec",
        "ESRI FileGDB | OpenFileGDB | gdb",
        "ESRI Shapefile | ESRI Shapefile | shp",
        "EUMETSAT Archive native (.nat) | MSGN | nat",
        "Envisat Image Format | ESAT | n1",
        "Erdas Imagine Images (.img) | HFA | img",
        "FARSITE v.4 Landscape File (.lcp) | LCP | lcp",
        "FIT Image | FIT | ",
        "French EDIGEO exchange format | EDIGEO | thf",
        "GMT ASCII Vectors (.gmt) | OGR_GMT | gmt",
        "GMT NetCDF Grid Format | GMT | nc",
        "GPX | GPX | gpx",
        "GRIdded Binary (.grb) | GRIB | grb",
        "GeoPackage | GPKG | gpkg",
        "GeoSoft Grid Exchange Format | GXF | gxf",
        "GeoTIFF | GTiff | tif",
        "Geography Markup Language (GML) | GML | gml",
        "Geospatial PDF | PDF | pdf",
        "Golden Software 7 Binary Grid (.grd) | GS7BG | grd",
        "Golden Software ASCII Grid (.grd) | GSAG | grd",
        "Golden Software Binary Grid (.grd) | GSBG | grd",
        "Graphics Interchange Format (.gif) | BIGGIF | gif",
        "Graphics Interchange Format (.gif) | GIF | gif",
        "Ground-based SAR Applications Testbed File Format (.gff) | GFF | gff",
        "HF2/HFZ heightfield raster | HF2 | hf2",
        "Hierarchical Data Format Release 4 | HDF4 | hdf",
        "Hierarchical Data Format Release 5 | HDF5 | hdf5",
        "IHO S-57 (ENC) | S57 | 000",
        "ILWIS Raster Map | ILWIS | mpr/mpl",
        "IRIS data (.PPI, .CAPPi etc) | IRIS | ppi",
        "Idrisi Raster A.1 | RST | rst",
        "Idrisi Vector (.vct) | Idrisi | vct",
        "JPEG JFIF | JPEG | jpg",
        "JPEG-2000 driver based on OpenJPEG library | JP2OpenJPEG | jp2",
        "Japanese DEM (.mem) | JDEM | mem",
        "KEA Image Format (.kea) | KEA | kea",
        "KOLOR Raw | KRO | kro",
        "Keyhole Markup Language (KML) | KML | kml",
        "Leveller heightfield | Leveller | ter",
        "MBTiles | MBTiles | mbtiles",
        "MS Excel format | XLS | xls",
        "MS Office Open XML spreadsheet | XLSX | xlsx",
        "MS Windows Device Independent Bitmap | BMP | bmp",
        "Magellan topo (.blx) | BLX | blx",
        "Microstation DGN | DGN | dgn",
        "NAS - ALKIS | NAS | xml",
        "NOAA NGS Geoid Height Grids | NGSGEOID | bin",
        "NOAA Vertical Datum .GTX | GTX | gtx",
        "NTv2 Datum Grid Shift | NTv2 | gsb",
        "National Imagery Transmission Format | NITF | ntf",
        "Network Common Data Format | netCDF | nc",
        "Northwood Classified Grid Format .grc/.tab | NWT_GRC | grc",
        "Northwood Numeric Grid Format .grd/.tab | NWT_GRD | grd",
        "Open Document/ LibreOffice / OpenOffice Spreadsheet  | ODS | ods",
        "OpenJUMP JML | JML | jml",
        "PCIDSK Database File | PCIDSK | pix",
        "PCRaster Raster File | PCRaster | map",
        "Portable Network Graphics | PNG | png",
        "Portable Pixmap Format (netpbm) | PNM | pnm",
        "PostgreSQL SQL dump | PGDUMP | sql",
        "R Object Data Store | R | rda",
        "R Raster | RRASTER | grd",
        "Racurs PHOTOMOD PRF | PRF | prf",
        "Raster Matrix Format | RMF | rsw",
        "Raster Product Format TOC format | RPFTOC | toc",
        "Rasterlite | Rasterlite | sqlite",
        "SAGA GIS Binary Grid (.sdat) | SAGA | sdat",
        "SDTS Raster | SDTS | ddf",
        "SGI Image File Format 1.0 | SGI | rgb",
        "SRTMHGT File Format | SRTMHGT | hgt",
        "Scalable Vector Graphics | SVG | svg",
        "Snow Data Assimilation System | SNODAS | hdr",
        "Standard Raster Product (ASRP/USRP) | SRP | img",
        "Storage and eXchange Format | SXF | sxf",
        "Swedish Grid RIK (.rik) | RIK | rik",
        "Terragen heightfield | Terragen | ter",
        "USGS Optional ASCII DEM (and CDED) | USGSDEM | dem",
        "VRT - Virtual Datasource | OGR_VRT | vrt",
        "VTP .bt (Binary Terrain) 1.3 Format | BT | bt",
        "Vexcel MFF Raster | MFF | hdr",
        "Virtual Raster | VRT | vrt",
        "WAsP .map format | WAsP | map",
        "X-Plane/Flightgear aeronautical data | XPlane | dat",
        "X11 PixMap Format | XPM | xpm",
        "ZMap Plus Grid | ZMap | dat"
       ],
       "description": "Output format",
       "index": 29,
       "layout": "IPY_MODEL_28a3cbec3bff47f4b414d01785dd4ede",
       "style": "IPY_MODEL_24854836f08047ea95ba7d092ad97689"
      }
     },
     "3c7e5517346045d9820254837ca61155": {
      "model_module": "@jupyter-widgets/base",
      "model_module_version": "1.1.0",
      "model_name": "LayoutModel",
      "state": {}
     },
     "3d1cf97e818c444c90aea724c0d3f03f": {
      "model_module": "@jupyter-widgets/controls",
      "model_module_version": "1.4.0",
      "model_name": "DropdownModel",
      "state": {
       "_options_labels": [
        "ACE2 | ACE2 | ACE2",
        "ARC Digitized Raster Graphics | ADRG | gen",
        "ASCII Gridded XYZ | XYZ | xyz",
        "Arc/Info ASCII Grid | AAIGrid | asc",
        "Arc/Info E00 (ASCII) Coverage | AVCE00 | e00",
        "Arc/Info Export E00 GRID | E00GRID | e00",
        "Atlas BNA | BNA | bna",
        "AutoCAD DXF | DXF | dxf",
        "AutoCAD Driver | CAD | dwg",
        "Comma Separated Value (.csv) | CSV | csv",
        "Czech Cadastral Exchange Data Format | VFK | vfk",
        "DRDC COASP SAR Processor Raster | COASP | hdr",
        "ECRG TOC format | ECRGTOC | xml",
        "ENVI .hdr Labelled | ENVI | ",
        "EPIInfo .REC  | REC | rec",
        "ESRI FileGDB | OpenFileGDB | gdb",
        "ESRI Shapefile | ESRI Shapefile | shp",
        "EUMETSAT Archive native (.nat) | MSGN | nat",
        "Envisat Image Format | ESAT | n1",
        "Erdas Imagine Images (.img) | HFA | img",
        "FARSITE v.4 Landscape File (.lcp) | LCP | lcp",
        "FIT Image | FIT | ",
        "French EDIGEO exchange format | EDIGEO | thf",
        "GMT ASCII Vectors (.gmt) | OGR_GMT | gmt",
        "GMT NetCDF Grid Format | GMT | nc",
        "GPX | GPX | gpx",
        "GRIdded Binary (.grb) | GRIB | grb",
        "GeoPackage | GPKG | gpkg",
        "GeoSoft Grid Exchange Format | GXF | gxf",
        "GeoTIFF | GTiff | tif",
        "Geography Markup Language (GML) | GML | gml",
        "Geospatial PDF | PDF | pdf",
        "Golden Software 7 Binary Grid (.grd) | GS7BG | grd",
        "Golden Software ASCII Grid (.grd) | GSAG | grd",
        "Golden Software Binary Grid (.grd) | GSBG | grd",
        "Graphics Interchange Format (.gif) | BIGGIF | gif",
        "Graphics Interchange Format (.gif) | GIF | gif",
        "Ground-based SAR Applications Testbed File Format (.gff) | GFF | gff",
        "HF2/HFZ heightfield raster | HF2 | hf2",
        "Hierarchical Data Format Release 4 | HDF4 | hdf",
        "Hierarchical Data Format Release 5 | HDF5 | hdf5",
        "IHO S-57 (ENC) | S57 | 000",
        "ILWIS Raster Map | ILWIS | mpr/mpl",
        "IRIS data (.PPI, .CAPPi etc) | IRIS | ppi",
        "Idrisi Raster A.1 | RST | rst",
        "Idrisi Vector (.vct) | Idrisi | vct",
        "JPEG JFIF | JPEG | jpg",
        "JPEG-2000 driver based on OpenJPEG library | JP2OpenJPEG | jp2",
        "Japanese DEM (.mem) | JDEM | mem",
        "KEA Image Format (.kea) | KEA | kea",
        "KOLOR Raw | KRO | kro",
        "Keyhole Markup Language (KML) | KML | kml",
        "Leveller heightfield | Leveller | ter",
        "MBTiles | MBTiles | mbtiles",
        "MS Excel format | XLS | xls",
        "MS Office Open XML spreadsheet | XLSX | xlsx",
        "MS Windows Device Independent Bitmap | BMP | bmp",
        "Magellan topo (.blx) | BLX | blx",
        "Microstation DGN | DGN | dgn",
        "NAS - ALKIS | NAS | xml",
        "NOAA NGS Geoid Height Grids | NGSGEOID | bin",
        "NOAA Vertical Datum .GTX | GTX | gtx",
        "NTv2 Datum Grid Shift | NTv2 | gsb",
        "National Imagery Transmission Format | NITF | ntf",
        "Network Common Data Format | netCDF | nc",
        "Northwood Classified Grid Format .grc/.tab | NWT_GRC | grc",
        "Northwood Numeric Grid Format .grd/.tab | NWT_GRD | grd",
        "Open Document/ LibreOffice / OpenOffice Spreadsheet  | ODS | ods",
        "OpenJUMP JML | JML | jml",
        "PCIDSK Database File | PCIDSK | pix",
        "PCRaster Raster File | PCRaster | map",
        "Portable Network Graphics | PNG | png",
        "Portable Pixmap Format (netpbm) | PNM | pnm",
        "PostgreSQL SQL dump | PGDUMP | sql",
        "R Object Data Store | R | rda",
        "R Raster | RRASTER | grd",
        "Racurs PHOTOMOD PRF | PRF | prf",
        "Raster Matrix Format | RMF | rsw",
        "Raster Product Format TOC format | RPFTOC | toc",
        "Rasterlite | Rasterlite | sqlite",
        "SAGA GIS Binary Grid (.sdat) | SAGA | sdat",
        "SDTS Raster | SDTS | ddf",
        "SGI Image File Format 1.0 | SGI | rgb",
        "SRTMHGT File Format | SRTMHGT | hgt",
        "Scalable Vector Graphics | SVG | svg",
        "Snow Data Assimilation System | SNODAS | hdr",
        "Standard Raster Product (ASRP/USRP) | SRP | img",
        "Storage and eXchange Format | SXF | sxf",
        "Swedish Grid RIK (.rik) | RIK | rik",
        "Terragen heightfield | Terragen | ter",
        "USGS Optional ASCII DEM (and CDED) | USGSDEM | dem",
        "VRT - Virtual Datasource | OGR_VRT | vrt",
        "VTP .bt (Binary Terrain) 1.3 Format | BT | bt",
        "Vexcel MFF Raster | MFF | hdr",
        "Virtual Raster | VRT | vrt",
        "WAsP .map format | WAsP | map",
        "X-Plane/Flightgear aeronautical data | XPlane | dat",
        "X11 PixMap Format | XPM | xpm",
        "ZMap Plus Grid | ZMap | dat"
       ],
       "description": "Output format",
       "index": 13,
       "layout": "IPY_MODEL_35964fcea325411ebf35f7d004cf8f34",
       "style": "IPY_MODEL_b709221d77c846b5867eb9997606e352"
      }
     },
     "4385cfb680be49799d06de732cfdda35": {
      "model_module": "@jupyter-widgets/base",
      "model_module_version": "1.1.0",
      "model_name": "LayoutModel",
      "state": {}
     },
     "575a93c354b94e8a8ecf04866a295b4d": {
      "model_module": "@jupyter-widgets/controls",
      "model_module_version": "1.4.0",
      "model_name": "ButtonModel",
      "state": {
       "description": "Select output file",
       "layout": "IPY_MODEL_70dff6f5adc7452092ddc32f00f31e0b",
       "style": "IPY_MODEL_d9a6f47e40a54344ad966db5f50c80a5",
       "tooltip": "Select output file name and location"
      }
     },
     "5a945e452c4f4b5398cff6670c1fe299": {
      "model_module": "@jupyter-widgets/controls",
      "model_module_version": "1.4.0",
      "model_name": "ButtonStyleModel",
      "state": {}
     },
     "5ff1b298742d4605be12d88042170eb1": {
      "model_module": "@jupyter-widgets/controls",
      "model_module_version": "1.4.0",
      "model_name": "ButtonStyleModel",
      "state": {}
     },
     "640ad203daac4fecaff71308e811ec88": {
      "model_module": "@jupyter-widgets/controls",
      "model_module_version": "1.4.0",
      "model_name": "TextModel",
      "state": {
       "description": "Output file",
       "layout": "IPY_MODEL_05204c65aaa94d3e8797cd72adf92333",
       "placeholder": "File to be exported",
       "style": "IPY_MODEL_257f5c4c0c6c4823bf165963ab0b1537",
       "value": "/home/glopez/Projects/TATSSI/data/MOD13A2.006/test"
      }
     },
     "70dff6f5adc7452092ddc32f00f31e0b": {
      "model_module": "@jupyter-widgets/base",
      "model_module_version": "1.1.0",
      "model_name": "LayoutModel",
      "state": {}
     },
     "73c50aa590a84d8a8d008e96cfc9a2d0": {
      "model_module": "@jupyter-widgets/controls",
      "model_module_version": "1.4.0",
      "model_name": "TextModel",
      "state": {
       "description": "Output file",
       "layout": "IPY_MODEL_dc0a7516fb194d1384dda285f5ab1457",
       "placeholder": "File to be exported",
       "style": "IPY_MODEL_398328c955854ac883994388a227615b",
       "value": "/home/glopez/Projects/TATSSI/data/MYD09GA.006/test.tif"
      }
     },
     "75e662f305474c2081883605df01ee35": {
      "model_module": "@jupyter-widgets/controls",
      "model_module_version": "1.4.0",
      "model_name": "ButtonModel",
      "state": {
       "description": "Select input file",
       "layout": "IPY_MODEL_3c7e5517346045d9820254837ca61155",
       "style": "IPY_MODEL_5a945e452c4f4b5398cff6670c1fe299",
       "tooltip": "Select file or dataset to be imported."
      }
     },
     "7c391b50834349d085f054997ec4aa9d": {
      "model_module": "@jupyter-widgets/controls",
      "model_module_version": "1.4.0",
      "model_name": "ButtonStyleModel",
      "state": {}
     },
     "95bee233c1a7423e937ac1fa52098184": {
      "model_module": "@jupyter-widgets/controls",
      "model_module_version": "1.4.0",
      "model_name": "ButtonModel",
      "state": {
       "description": "Translate",
       "layout": "IPY_MODEL_4385cfb680be49799d06de732cfdda35",
       "style": "IPY_MODEL_a94d2ada301841d3ba21dc2f5772c3a8",
       "tooltip": "Translate input file into output file"
      }
     },
     "a203dc47178e4e57bf830aaef98a9659": {
      "model_module": "@jupyter-widgets/base",
      "model_module_version": "1.1.0",
      "model_name": "LayoutModel",
      "state": {}
     },
     "a8b2d2bf81284d31b4bb44a5e61898c7": {
      "model_module": "@jupyter-widgets/controls",
      "model_module_version": "1.4.0",
      "model_name": "ButtonModel",
      "state": {
       "description": "Select input file",
       "layout": "IPY_MODEL_b190122858b244c792d430ad8955380c",
       "style": "IPY_MODEL_5ff1b298742d4605be12d88042170eb1",
       "tooltip": "Select file or dataset to be imported."
      }
     },
     "a94d2ada301841d3ba21dc2f5772c3a8": {
      "model_module": "@jupyter-widgets/controls",
      "model_module_version": "1.4.0",
      "model_name": "ButtonStyleModel",
      "state": {}
     },
     "aeb018478c7e4592bf504123b07d800f": {
      "model_module": "@jupyter-widgets/controls",
      "model_module_version": "1.4.0",
      "model_name": "ButtonModel",
      "state": {
       "description": "Translate",
       "layout": "IPY_MODEL_109ddff880354261b84ff699fd09382b",
       "style": "IPY_MODEL_7c391b50834349d085f054997ec4aa9d",
       "tooltip": "Translate input file into output file"
      }
     },
     "b190122858b244c792d430ad8955380c": {
      "model_module": "@jupyter-widgets/base",
      "model_module_version": "1.1.0",
      "model_name": "LayoutModel",
      "state": {}
     },
     "b5b52f4375f94c768dd25cb017b4be50": {
      "model_module": "@jupyter-widgets/controls",
      "model_module_version": "1.4.0",
      "model_name": "DescriptionStyleModel",
      "state": {
       "description_width": ""
      }
     },
     "b709221d77c846b5867eb9997606e352": {
      "model_module": "@jupyter-widgets/controls",
      "model_module_version": "1.4.0",
      "model_name": "DescriptionStyleModel",
      "state": {
       "description_width": ""
      }
     },
     "c74613205679481e99722f8de96ee603": {
      "model_module": "@jupyter-widgets/controls",
      "model_module_version": "1.4.0",
      "model_name": "ButtonModel",
      "state": {
       "description": "Select output file",
       "layout": "IPY_MODEL_a203dc47178e4e57bf830aaef98a9659",
       "style": "IPY_MODEL_2248720da31f4317b6fc4a433e4766c6",
       "tooltip": "Select output file name and location"
      }
     },
     "cbe641ee259743d48a0161c885af7e6c": {
      "model_module": "@jupyter-widgets/controls",
      "model_module_version": "1.4.0",
      "model_name": "DescriptionStyleModel",
      "state": {
       "description_width": ""
      }
     },
     "d9a6f47e40a54344ad966db5f50c80a5": {
      "model_module": "@jupyter-widgets/controls",
      "model_module_version": "1.4.0",
      "model_name": "ButtonStyleModel",
      "state": {}
     },
     "dc0a7516fb194d1384dda285f5ab1457": {
      "model_module": "@jupyter-widgets/base",
      "model_module_version": "1.1.0",
      "model_name": "LayoutModel",
      "state": {
       "width": "100%"
      }
     },
     "e08556cf2892446cbfc64d4ab16ffcca": {
      "model_module": "@jupyter-widgets/controls",
      "model_module_version": "1.4.0",
      "model_name": "TextModel",
      "state": {
       "description": "Input file",
       "layout": "IPY_MODEL_2fcae81e66f647368605bd691ca87d47",
       "placeholder": "File to be imported",
       "style": "IPY_MODEL_cbe641ee259743d48a0161c885af7e6c",
       "value": "/home/glopez/Projects/TATSSI/data/MYD09GA.006/MYD09GA.A2018007.h17v03.006.2018009030726.state_1km_1_cloud_state.tif"
      }
     }
    },
    "version_major": 2,
    "version_minor": 0
   }
  }
 },
 "nbformat": 4,
 "nbformat_minor": 2
}
