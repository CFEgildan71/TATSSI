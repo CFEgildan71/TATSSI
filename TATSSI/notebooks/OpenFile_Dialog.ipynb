{
 "cells": [
  {
   "cell_type": "code",
   "execution_count": null,
   "metadata": {
    "ExecuteTime": {
     "end_time": "2019-02-01T15:54:29.155550Z",
     "start_time": "2019-02-01T15:54:28.769755Z"
    }
   },
   "outputs": [],
   "source": [
    "import sys\n",
    "sys.path.append (\"/home/glopez/Projects/TATSSI\")\n",
    "\n",
    "# Notebook helpers\n",
    "from helpers.helpers import ImportExport"
   ]
  },
  {
   "cell_type": "code",
   "execution_count": null,
   "metadata": {
    "ExecuteTime": {
     "end_time": "2019-02-01T15:54:29.449648Z",
     "start_time": "2019-02-01T15:54:29.426295Z"
    }
   },
   "outputs": [],
   "source": [
    "# Translate input file into a new one with selected format\n",
    "translate = ImportExport()"
   ]
  }
 ],
 "metadata": {
  "kernelspec": {
   "display_name": "Python 3",
   "language": "python",
   "name": "python3"
  },
  "language_info": {
   "codemirror_mode": {
    "name": "ipython",
    "version": 3
   },
   "file_extension": ".py",
   "mimetype": "text/x-python",
   "name": "python",
   "nbconvert_exporter": "python",
   "pygments_lexer": "ipython3",
   "version": "3.6.4"
  }
 },
 "nbformat": 4,
 "nbformat_minor": 2
}
