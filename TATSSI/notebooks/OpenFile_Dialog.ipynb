{
 "cells": [
  {
   "cell_type": "code",
   "execution_count": 1,
   "metadata": {
    "ExecuteTime": {
     "end_time": "2019-02-06T18:48:41.673005Z",
     "start_time": "2019-02-06T18:48:41.275708Z"
    }
   },
   "outputs": [],
   "source": [
    "import sys\n",
    "sys.path.append (\"/home/glopez/Projects/TATSSI\")\n",
    "\n",
    "# Notebook helpers\n",
    "from helpers.helpers import ImportExport"
   ]
  },
  {
   "cell_type": "code",
   "execution_count": 2,
   "metadata": {
    "ExecuteTime": {
     "end_time": "2019-02-06T18:48:42.734888Z",
     "start_time": "2019-02-06T18:48:42.691301Z"
    }
   },
   "outputs": [
    {
     "data": {
      "application/vnd.jupyter.widget-view+json": {
       "model_id": "3484b71a696b43df927fde3ba0978cef",
       "version_major": 2,
       "version_minor": 0
      },
      "text/html": [
       "<p>Failed to display Jupyter Widget of type <code>Button</code>.</p>\n",
       "<p>\n",
       "  If you're reading this message in the Jupyter Notebook or JupyterLab Notebook, it may mean\n",
       "  that the widgets JavaScript is still loading. If this message persists, it\n",
       "  likely means that the widgets JavaScript library is either not installed or\n",
       "  not enabled. See the <a href=\"https://ipywidgets.readthedocs.io/en/stable/user_install.html\">Jupyter\n",
       "  Widgets Documentation</a> for setup instructions.\n",
       "</p>\n",
       "<p>\n",
       "  If you're reading this message in another frontend (for example, a static\n",
       "  rendering on GitHub or <a href=\"https://nbviewer.jupyter.org/\">NBViewer</a>),\n",
       "  it may mean that your frontend doesn't currently support widgets.\n",
       "</p>\n"
      ],
      "text/plain": [
       "Button(description='Select input file', style=ButtonStyle(), tooltip='Select file or dataset to be imported.')"
      ]
     },
     "metadata": {},
     "output_type": "display_data"
    },
    {
     "data": {
      "application/vnd.jupyter.widget-view+json": {
       "model_id": "7c935d9bef0e494ca4af41022bb1b886",
       "version_major": 2,
       "version_minor": 0
      },
      "text/html": [
       "<p>Failed to display Jupyter Widget of type <code>Dropdown</code>.</p>\n",
       "<p>\n",
       "  If you're reading this message in the Jupyter Notebook or JupyterLab Notebook, it may mean\n",
       "  that the widgets JavaScript is still loading. If this message persists, it\n",
       "  likely means that the widgets JavaScript library is either not installed or\n",
       "  not enabled. See the <a href=\"https://ipywidgets.readthedocs.io/en/stable/user_install.html\">Jupyter\n",
       "  Widgets Documentation</a> for setup instructions.\n",
       "</p>\n",
       "<p>\n",
       "  If you're reading this message in another frontend (for example, a static\n",
       "  rendering on GitHub or <a href=\"https://nbviewer.jupyter.org/\">NBViewer</a>),\n",
       "  it may mean that your frontend doesn't currently support widgets.\n",
       "</p>\n"
      ],
      "text/plain": [
       "Dropdown(description='SubDataset', layout=Layout(width='100%'), options=('HDF4_EOS:EOS_GRID:\"/home/glopez/Projects/TATSSI/TATSSI/input_output/data/MOD13A2.A2018145.h09v07.006.2018162000027.hdf\":MODIS_Grid_16DAY_1km_VI:1 km 16 days NDVI', 'HDF4_EOS:EOS_GRID:\"/home/glopez/Projects/TATSSI/TATSSI/input_output/data/MOD13A2.A2018145.h09v07.006.2018162000027.hdf\":MODIS_Grid_16DAY_1km_VI:1 km 16 days EVI', 'HDF4_EOS:EOS_GRID:\"/home/glopez/Projects/TATSSI/TATSSI/input_output/data/MOD13A2.A2018145.h09v07.006.2018162000027.hdf\":MODIS_Grid_16DAY_1km_VI:1 km 16 days VI Quality', 'HDF4_EOS:EOS_GRID:\"/home/glopez/Projects/TATSSI/TATSSI/input_output/data/MOD13A2.A2018145.h09v07.006.2018162000027.hdf\":MODIS_Grid_16DAY_1km_VI:1 km 16 days red reflectance', 'HDF4_EOS:EOS_GRID:\"/home/glopez/Projects/TATSSI/TATSSI/input_output/data/MOD13A2.A2018145.h09v07.006.2018162000027.hdf\":MODIS_Grid_16DAY_1km_VI:1 km 16 days NIR reflectance', 'HDF4_EOS:EOS_GRID:\"/home/glopez/Projects/TATSSI/TATSSI/input_output/data/MOD13A2.A2018145.h09v07.006.2018162000027.hdf\":MODIS_Grid_16DAY_1km_VI:1 km 16 days blue reflectance', 'HDF4_EOS:EOS_GRID:\"/home/glopez/Projects/TATSSI/TATSSI/input_output/data/MOD13A2.A2018145.h09v07.006.2018162000027.hdf\":MODIS_Grid_16DAY_1km_VI:1 km 16 days MIR reflectance', 'HDF4_EOS:EOS_GRID:\"/home/glopez/Projects/TATSSI/TATSSI/input_output/data/MOD13A2.A2018145.h09v07.006.2018162000027.hdf\":MODIS_Grid_16DAY_1km_VI:1 km 16 days view zenith angle', 'HDF4_EOS:EOS_GRID:\"/home/glopez/Projects/TATSSI/TATSSI/input_output/data/MOD13A2.A2018145.h09v07.006.2018162000027.hdf\":MODIS_Grid_16DAY_1km_VI:1 km 16 days sun zenith angle', 'HDF4_EOS:EOS_GRID:\"/home/glopez/Projects/TATSSI/TATSSI/input_output/data/MOD13A2.A2018145.h09v07.006.2018162000027.hdf\":MODIS_Grid_16DAY_1km_VI:1 km 16 days relative azimuth angle', 'HDF4_EOS:EOS_GRID:\"/home/glopez/Projects/TATSSI/TATSSI/input_output/data/MOD13A2.A2018145.h09v07.006.2018162000027.hdf\":MODIS_Grid_16DAY_1km_VI:1 km 16 days composite day of the year', 'HDF4_EOS:EOS_GRID:\"/home/glopez/Projects/TATSSI/TATSSI/input_output/data/MOD13A2.A2018145.h09v07.006.2018162000027.hdf\":MODIS_Grid_16DAY_1km_VI:1 km 16 days pixel reliability'), value='HDF4_EOS:EOS_GRID:\"/home/glopez/Projects/TATSSI/TATSSI/input_output/data/MOD13A2.A2018145.h09v07.006.2018162000027.hdf\":MODIS_Grid_16DAY_1km_VI:1 km 16 days NDVI')"
      ]
     },
     "metadata": {},
     "output_type": "display_data"
    },
    {
     "data": {
      "application/vnd.jupyter.widget-view+json": {
       "model_id": "3b956764dc60442a8704e553c7f8453b",
       "version_major": 2,
       "version_minor": 0
      },
      "text/html": [
       "<p>Failed to display Jupyter Widget of type <code>Dropdown</code>.</p>\n",
       "<p>\n",
       "  If you're reading this message in the Jupyter Notebook or JupyterLab Notebook, it may mean\n",
       "  that the widgets JavaScript is still loading. If this message persists, it\n",
       "  likely means that the widgets JavaScript library is either not installed or\n",
       "  not enabled. See the <a href=\"https://ipywidgets.readthedocs.io/en/stable/user_install.html\">Jupyter\n",
       "  Widgets Documentation</a> for setup instructions.\n",
       "</p>\n",
       "<p>\n",
       "  If you're reading this message in another frontend (for example, a static\n",
       "  rendering on GitHub or <a href=\"https://nbviewer.jupyter.org/\">NBViewer</a>),\n",
       "  it may mean that your frontend doesn't currently support widgets.\n",
       "</p>\n"
      ],
      "text/plain": [
       "Dropdown(description='Output format', index=29, layout=Layout(width='100%'), options=('ACE2 | ACE2 | ACE2', 'ARC Digitized Raster Graphics | ADRG | gen', 'ASCII Gridded XYZ | XYZ | xyz', 'Arc/Info ASCII Grid | AAIGrid | asc', 'Arc/Info E00 (ASCII) Coverage | AVCE00 | e00', 'Arc/Info Export E00 GRID | E00GRID | e00', 'Atlas BNA | BNA | bna', 'AutoCAD DXF | DXF | dxf', 'AutoCAD Driver | CAD | dwg', 'Comma Separated Value (.csv) | CSV | csv', 'Czech Cadastral Exchange Data Format | VFK | vfk', 'DRDC COASP SAR Processor Raster | COASP | hdr', 'ECRG TOC format | ECRGTOC | xml', 'ENVI .hdr Labelled | ENVI | ', 'EPIInfo .REC  | REC | rec', 'ESRI FileGDB | OpenFileGDB | gdb', 'ESRI Shapefile | ESRI Shapefile | shp', 'EUMETSAT Archive native (.nat) | MSGN | nat', 'Envisat Image Format | ESAT | n1', 'Erdas Imagine Images (.img) | HFA | img', 'FARSITE v.4 Landscape File (.lcp) | LCP | lcp', 'FIT Image | FIT | ', 'French EDIGEO exchange format | EDIGEO | thf', 'GMT ASCII Vectors (.gmt) | OGR_GMT | gmt', 'GMT NetCDF Grid Format | GMT | nc', 'GPX | GPX | gpx', 'GRIdded Binary (.grb) | GRIB | grb', 'GeoPackage | GPKG | gpkg', 'GeoSoft Grid Exchange Format | GXF | gxf', 'GeoTIFF | GTiff | tif', 'Geography Markup Language (GML) | GML | gml', 'Geospatial PDF | PDF | pdf', 'Golden Software 7 Binary Grid (.grd) | GS7BG | grd', 'Golden Software ASCII Grid (.grd) | GSAG | grd', 'Golden Software Binary Grid (.grd) | GSBG | grd', 'Graphics Interchange Format (.gif) | BIGGIF | gif', 'Graphics Interchange Format (.gif) | GIF | gif', 'Ground-based SAR Applications Testbed File Format (.gff) | GFF | gff', 'HF2/HFZ heightfield raster | HF2 | hf2', 'Hierarchical Data Format Release 4 | HDF4 | hdf', 'Hierarchical Data Format Release 5 | HDF5 | hdf5', 'IHO S-57 (ENC) | S57 | 000', 'ILWIS Raster Map | ILWIS | mpr/mpl', 'IRIS data (.PPI, .CAPPi etc) | IRIS | ppi', 'Idrisi Raster A.1 | RST | rst', 'Idrisi Vector (.vct) | Idrisi | vct', 'JPEG JFIF | JPEG | jpg', 'JPEG-2000 driver based on OpenJPEG library | JP2OpenJPEG | jp2', 'Japanese DEM (.mem) | JDEM | mem', 'KEA Image Format (.kea) | KEA | kea', 'KOLOR Raw | KRO | kro', 'Keyhole Markup Language (KML) | KML | kml', 'Leveller heightfield | Leveller | ter', 'MBTiles | MBTiles | mbtiles', 'MS Excel format | XLS | xls', 'MS Office Open XML spreadsheet | XLSX | xlsx', 'MS Windows Device Independent Bitmap | BMP | bmp', 'Magellan topo (.blx) | BLX | blx', 'Microstation DGN | DGN | dgn', 'NAS - ALKIS | NAS | xml', 'NOAA NGS Geoid Height Grids | NGSGEOID | bin', 'NOAA Vertical Datum .GTX | GTX | gtx', 'NTv2 Datum Grid Shift | NTv2 | gsb', 'National Imagery Transmission Format | NITF | ntf', 'Network Common Data Format | netCDF | nc', 'Northwood Classified Grid Format .grc/.tab | NWT_GRC | grc', 'Northwood Numeric Grid Format .grd/.tab | NWT_GRD | grd', 'Open Document/ LibreOffice / OpenOffice Spreadsheet  | ODS | ods', 'OpenJUMP JML | JML | jml', 'PCIDSK Database File | PCIDSK | pix', 'PCRaster Raster File | PCRaster | map', 'Portable Network Graphics | PNG | png', 'Portable Pixmap Format (netpbm) | PNM | pnm', 'PostgreSQL SQL dump | PGDUMP | sql', 'R Object Data Store | R | rda', 'R Raster | RRASTER | grd', 'Racurs PHOTOMOD PRF | PRF | prf', 'Raster Matrix Format | RMF | rsw', 'Raster Product Format TOC format | RPFTOC | toc', 'Rasterlite | Rasterlite | sqlite', 'SAGA GIS Binary Grid (.sdat) | SAGA | sdat', 'SDTS Raster | SDTS | ddf', 'SGI Image File Format 1.0 | SGI | rgb', 'SRTMHGT File Format | SRTMHGT | hgt', 'Scalable Vector Graphics | SVG | svg', 'Snow Data Assimilation System | SNODAS | hdr', 'Standard Raster Product (ASRP/USRP) | SRP | img', 'Storage and eXchange Format | SXF | sxf', 'Swedish Grid RIK (.rik) | RIK | rik', 'Terragen heightfield | Terragen | ter', 'USGS Optional ASCII DEM (and CDED) | USGSDEM | dem', 'VRT - Virtual Datasource | OGR_VRT | vrt', 'VTP .bt (Binary Terrain) 1.3 Format | BT | bt', 'Vexcel MFF Raster | MFF | hdr', 'Virtual Raster | VRT | vrt', 'WAsP .map format | WAsP | map', 'X-Plane/Flightgear aeronautical data | XPlane | dat', 'X11 PixMap Format | XPM | xpm', 'ZMap Plus Grid | ZMap | dat'), value='GeoTIFF | GTiff | tif')"
      ]
     },
     "metadata": {},
     "output_type": "display_data"
    },
    {
     "data": {
      "application/vnd.jupyter.widget-view+json": {
       "model_id": "2c5ad41c45b0411a82237f7cdc0b7dd3",
       "version_major": 2,
       "version_minor": 0
      },
      "text/html": [
       "<p>Failed to display Jupyter Widget of type <code>Button</code>.</p>\n",
       "<p>\n",
       "  If you're reading this message in the Jupyter Notebook or JupyterLab Notebook, it may mean\n",
       "  that the widgets JavaScript is still loading. If this message persists, it\n",
       "  likely means that the widgets JavaScript library is either not installed or\n",
       "  not enabled. See the <a href=\"https://ipywidgets.readthedocs.io/en/stable/user_install.html\">Jupyter\n",
       "  Widgets Documentation</a> for setup instructions.\n",
       "</p>\n",
       "<p>\n",
       "  If you're reading this message in another frontend (for example, a static\n",
       "  rendering on GitHub or <a href=\"https://nbviewer.jupyter.org/\">NBViewer</a>),\n",
       "  it may mean that your frontend doesn't currently support widgets.\n",
       "</p>\n"
      ],
      "text/plain": [
       "Button(description='Select output file', style=ButtonStyle(), tooltip='Select output file name and location')"
      ]
     },
     "metadata": {},
     "output_type": "display_data"
    },
    {
     "data": {
      "application/vnd.jupyter.widget-view+json": {
       "model_id": "4253a8cd76054bd0a6458618d4c07567",
       "version_major": 2,
       "version_minor": 0
      },
      "text/html": [
       "<p>Failed to display Jupyter Widget of type <code>Text</code>.</p>\n",
       "<p>\n",
       "  If you're reading this message in the Jupyter Notebook or JupyterLab Notebook, it may mean\n",
       "  that the widgets JavaScript is still loading. If this message persists, it\n",
       "  likely means that the widgets JavaScript library is either not installed or\n",
       "  not enabled. See the <a href=\"https://ipywidgets.readthedocs.io/en/stable/user_install.html\">Jupyter\n",
       "  Widgets Documentation</a> for setup instructions.\n",
       "</p>\n",
       "<p>\n",
       "  If you're reading this message in another frontend (for example, a static\n",
       "  rendering on GitHub or <a href=\"https://nbviewer.jupyter.org/\">NBViewer</a>),\n",
       "  it may mean that your frontend doesn't currently support widgets.\n",
       "</p>\n"
      ],
      "text/plain": [
       "Text(value='/home/glopez/Projects/TATSSI/TATSSI/input_output/data/VI_QA.png', description='Output file', layout=Layout(width='100%'), placeholder='File to be exported')"
      ]
     },
     "metadata": {},
     "output_type": "display_data"
    },
    {
     "data": {
      "application/vnd.jupyter.widget-view+json": {
       "model_id": "b5f8d839aa954dfca4a6c8df5f253f67",
       "version_major": 2,
       "version_minor": 0
      },
      "text/html": [
       "<p>Failed to display Jupyter Widget of type <code>Button</code>.</p>\n",
       "<p>\n",
       "  If you're reading this message in the Jupyter Notebook or JupyterLab Notebook, it may mean\n",
       "  that the widgets JavaScript is still loading. If this message persists, it\n",
       "  likely means that the widgets JavaScript library is either not installed or\n",
       "  not enabled. See the <a href=\"https://ipywidgets.readthedocs.io/en/stable/user_install.html\">Jupyter\n",
       "  Widgets Documentation</a> for setup instructions.\n",
       "</p>\n",
       "<p>\n",
       "  If you're reading this message in another frontend (for example, a static\n",
       "  rendering on GitHub or <a href=\"https://nbviewer.jupyter.org/\">NBViewer</a>),\n",
       "  it may mean that your frontend doesn't currently support widgets.\n",
       "</p>\n"
      ],
      "text/plain": [
       "Button(description='Translate', style=ButtonStyle(), tooltip='Translate input file into output file')"
      ]
     },
     "metadata": {},
     "output_type": "display_data"
    },
    {
     "name": "stderr",
     "output_type": "stream",
     "text": [
      "INFO:TATSSI.input_output.translate:Converting file HDF4_EOS:EOS_GRID:\"/home/glopez/Projects/TATSSI/TATSSI/input_output/data/MOD13A2.A2018145.h09v07.006.2018162000027.hdf\":MODIS_Grid_16DAY_1km_VI:1 km 16 days VI Quality...\n",
      "INFO:TATSSI.input_output.translate:File /home/glopez/Projects/TATSSI/TATSSI/input_output/data/VI_QA.png saved\n"
     ]
    }
   ],
   "source": [
    "# Translate input file into a new one with selected format\n",
    "translate = ImportExport()"
   ]
  },
  {
   "cell_type": "code",
   "execution_count": null,
   "metadata": {},
   "outputs": [],
   "source": []
  }
 ],
 "metadata": {
  "kernelspec": {
   "display_name": "Python 3",
   "language": "python",
   "name": "python3"
  },
  "language_info": {
   "codemirror_mode": {
    "name": "ipython",
    "version": 3
   },
   "file_extension": ".py",
   "mimetype": "text/x-python",
   "name": "python",
   "nbconvert_exporter": "python",
   "pygments_lexer": "ipython3",
   "version": "3.6.4"
  }
 },
 "nbformat": 4,
 "nbformat_minor": 2
}
