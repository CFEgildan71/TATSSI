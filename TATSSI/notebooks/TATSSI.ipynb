{
 "cells": [
  {
   "cell_type": "markdown",
   "metadata": {},
   "source": [
    "# Tools for Analyzing Time Series of Satellite Imagery (TATSSI)"
   ]
  },
  {
   "cell_type": "code",
   "execution_count": 1,
   "metadata": {
    "ExecuteTime": {
     "end_time": "2019-03-14T21:33:53.505335Z",
     "start_time": "2019-03-14T21:33:53.245515Z"
    }
   },
   "outputs": [],
   "source": [
    "import sys\n",
    "sys.path.append (\"/home/glopez/Projects/TATSSI\")\n",
    "\n",
    "# Notebook helpers\n",
    "from TATSSI.notebooks.helpers.helpers import Download"
   ]
  },
  {
   "cell_type": "markdown",
   "metadata": {},
   "source": [
    "## Download data\n",
    "TATSSI allows to dowload data products from the Land Processes Distributed Active Archive Center [LP DAAC](https://lpdaac.usgs.gov/) derived from different sensors such as:\n",
    "\n",
    "* Moderate Resolution Imaging Spectroradiometer [MODIS](https://lpdaac.usgs.gov/dataset_discovery/modis)\n",
    "* Visible Infrared Imaging Radiometer Suite [VIIRS](https://lpdaac.usgs.gov/dataset_discovery/viirs)"
   ]
  },
  {
   "cell_type": "code",
   "execution_count": 2,
   "metadata": {
    "ExecuteTime": {
     "end_time": "2019-03-14T21:33:53.538420Z",
     "start_time": "2019-03-14T21:33:53.506760Z"
    }
   },
   "outputs": [
    {
     "data": {
      "application/vnd.jupyter.widget-view+json": {
       "model_id": "862c2f75183b40bdb92b583f286c6b3f",
       "version_major": 2,
       "version_minor": 0
      },
      "text/plain": [
       "Button(description='Select product and dates', layout=Layout(width='99.6%'), style=ButtonStyle(), tooltip='Sel…"
      ]
     },
     "metadata": {},
     "output_type": "display_data"
    },
    {
     "data": {
      "application/vnd.jupyter.widget-view+json": {
       "model_id": "0a84f473add8454b9d3b07c3b7a62f59",
       "version_major": 2,
       "version_minor": 0
      }
     },
     "metadata": {},
     "output_type": "display_data"
    },
    {
     "data": {
      "application/vnd.jupyter.widget-view+json": {
       "model_id": "456d44db56184487a8c9d5190de64a6f",
       "version_major": 2,
       "version_minor": 0
      },
      "text/plain": [
       "HTML(value='<b>MCD12Q1.051</b>', description='Product and version:', layout=Layout(width='100%'), placeholder=…"
      ]
     },
     "metadata": {},
     "output_type": "display_data"
    },
    {
     "data": {
      "application/vnd.jupyter.widget-view+json": {
       "model_id": "9eb81a11f9a4459cb65ade462a793a3a",
       "version_major": 2,
       "version_minor": 0
      },
      "text/plain": [
       "DatePicker(value=datetime.datetime(2001, 1, 1, 0, 0), description='Select start date', style=DescriptionStyle(…"
      ]
     },
     "metadata": {},
     "output_type": "display_data"
    },
    {
     "data": {
      "application/vnd.jupyter.widget-view+json": {
       "model_id": "6e720dcf7b284f009d5706c0781f3b25",
       "version_major": 2,
       "version_minor": 0
      },
      "text/plain": [
       "DatePicker(value=datetime.datetime(2013, 12, 31, 0, 0), description='Select end date', style=DescriptionStyle(…"
      ]
     },
     "metadata": {},
     "output_type": "display_data"
    }
   ],
   "source": [
    "# Get some data!\n",
    "downloader = Download()"
   ]
  },
  {
   "cell_type": "markdown",
   "metadata": {
    "ExecuteTime": {
     "end_time": "2019-03-11T12:32:27.713352Z",
     "start_time": "2019-03-11T12:32:27.702324Z"
    }
   },
   "source": [
    "## Process QA"
   ]
  },
  {
   "cell_type": "markdown",
   "metadata": {
    "ExecuteTime": {
     "end_time": "2019-03-11T12:32:35.502497Z",
     "start_time": "2019-03-11T12:32:35.496772Z"
    }
   },
   "source": [
    "## Explore time series"
   ]
  },
  {
   "cell_type": "markdown",
   "metadata": {
    "ExecuteTime": {
     "end_time": "2019-03-11T12:32:38.491434Z",
     "start_time": "2019-03-11T12:32:38.474654Z"
    }
   },
   "source": [
    "## Perform interpolation and or temporal aggregation"
   ]
  }
 ],
 "metadata": {
  "kernelspec": {
   "display_name": "Python 3",
   "language": "python",
   "name": "python3"
  },
  "language_info": {
   "codemirror_mode": {
    "name": "ipython",
    "version": 3
   },
   "file_extension": ".py",
   "mimetype": "text/x-python",
   "name": "python",
   "nbconvert_exporter": "python",
   "pygments_lexer": "ipython3",
   "version": "3.6.4"
  },
  "toc": {
   "base_numbering": 1,
   "nav_menu": {},
   "number_sections": false,
   "sideBar": false,
   "skip_h1_title": false,
   "title_cell": "Table of Contents",
   "title_sidebar": "Contents",
   "toc_cell": false,
   "toc_position": {},
   "toc_section_display": false,
   "toc_window_display": false
  }
 },
 "nbformat": 4,
 "nbformat_minor": 2
}
