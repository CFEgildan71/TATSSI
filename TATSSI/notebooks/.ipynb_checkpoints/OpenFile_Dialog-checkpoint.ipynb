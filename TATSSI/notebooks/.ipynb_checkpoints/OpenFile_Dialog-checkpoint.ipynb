{
 "cells": [
  {
   "cell_type": "code",
   "execution_count": 1,
   "metadata": {
    "ExecuteTime": {
     "end_time": "2019-02-01T12:59:00.973541Z",
     "start_time": "2019-02-01T12:59:00.568426Z"
    }
   },
   "outputs": [],
   "source": [
    "import sys\n",
    "sys.path.append (\"/home/glopez/Projects/TATSSI\")\n",
    "\n",
    "# Notebook helpers\n",
    "from helpers.helpers import ImportExport"
   ]
  },
  {
   "cell_type": "code",
   "execution_count": null,
   "metadata": {
    "ExecuteTime": {
     "end_time": "2019-02-01T12:43:44.640479Z",
     "start_time": "2019-02-01T12:43:44.638009Z"
    }
   },
   "outputs": [],
   "source": [
    "from TATSSI.input_output.translate import translate"
   ]
  },
  {
   "cell_type": "code",
   "execution_count": null,
   "metadata": {
    "ExecuteTime": {
     "end_time": "2019-02-01T12:43:45.752808Z",
     "start_time": "2019-02-01T12:43:45.603240Z"
    }
   },
   "outputs": [],
   "source": [
    "formats = translate.get_formats()\n",
    "formats.style"
   ]
  },
  {
   "cell_type": "code",
   "execution_count": 2,
   "metadata": {
    "ExecuteTime": {
     "end_time": "2019-02-01T12:59:02.114181Z",
     "start_time": "2019-02-01T12:59:01.999059Z"
    }
   },
   "outputs": [
    {
     "data": {
      "application/vnd.jupyter.widget-view+json": {
       "model_id": "bf36cb4df05c4a63bba8996c7d392622",
       "version_major": 2,
       "version_minor": 0
      },
      "text/html": [
       "<p>Failed to display Jupyter Widget of type <code>Button</code>.</p>\n",
       "<p>\n",
       "  If you're reading this message in the Jupyter Notebook or JupyterLab Notebook, it may mean\n",
       "  that the widgets JavaScript is still loading. If this message persists, it\n",
       "  likely means that the widgets JavaScript library is either not installed or\n",
       "  not enabled. See the <a href=\"https://ipywidgets.readthedocs.io/en/stable/user_install.html\">Jupyter\n",
       "  Widgets Documentation</a> for setup instructions.\n",
       "</p>\n",
       "<p>\n",
       "  If you're reading this message in another frontend (for example, a static\n",
       "  rendering on GitHub or <a href=\"https://nbviewer.jupyter.org/\">NBViewer</a>),\n",
       "  it may mean that your frontend doesn't currently support widgets.\n",
       "</p>\n"
      ],
      "text/plain": [
       "Button(description='Select input file', style=ButtonStyle(), tooltip='Select file or dataset to be imported.')"
      ]
     },
     "metadata": {},
     "output_type": "display_data"
    },
    {
     "data": {
      "application/vnd.jupyter.widget-view+json": {
       "model_id": "51cfd645a5cf48f59a7a348ae09ee853",
       "version_major": 2,
       "version_minor": 0
      },
      "text/html": [
       "<p>Failed to display Jupyter Widget of type <code>Button</code>.</p>\n",
       "<p>\n",
       "  If you're reading this message in the Jupyter Notebook or JupyterLab Notebook, it may mean\n",
       "  that the widgets JavaScript is still loading. If this message persists, it\n",
       "  likely means that the widgets JavaScript library is either not installed or\n",
       "  not enabled. See the <a href=\"https://ipywidgets.readthedocs.io/en/stable/user_install.html\">Jupyter\n",
       "  Widgets Documentation</a> for setup instructions.\n",
       "</p>\n",
       "<p>\n",
       "  If you're reading this message in another frontend (for example, a static\n",
       "  rendering on GitHub or <a href=\"https://nbviewer.jupyter.org/\">NBViewer</a>),\n",
       "  it may mean that your frontend doesn't currently support widgets.\n",
       "</p>\n"
      ],
      "text/plain": [
       "Button(description='Select output file', style=ButtonStyle(), tooltip='Select output file name and location')"
      ]
     },
     "metadata": {},
     "output_type": "display_data"
    },
    {
     "data": {
      "text/plain": [
       "<helpers.helpers.ImportExport at 0x7fabb0a7ab38>"
      ]
     },
     "execution_count": 2,
     "metadata": {},
     "output_type": "execute_result"
    },
    {
     "data": {
      "application/vnd.jupyter.widget-view+json": {
       "model_id": "b43185432a694b40a355a6db91045665",
       "version_major": 2,
       "version_minor": 0
      },
      "text/html": [
       "<p>Failed to display Jupyter Widget of type <code>Dropdown</code>.</p>\n",
       "<p>\n",
       "  If you're reading this message in the Jupyter Notebook or JupyterLab Notebook, it may mean\n",
       "  that the widgets JavaScript is still loading. If this message persists, it\n",
       "  likely means that the widgets JavaScript library is either not installed or\n",
       "  not enabled. See the <a href=\"https://ipywidgets.readthedocs.io/en/stable/user_install.html\">Jupyter\n",
       "  Widgets Documentation</a> for setup instructions.\n",
       "</p>\n",
       "<p>\n",
       "  If you're reading this message in another frontend (for example, a static\n",
       "  rendering on GitHub or <a href=\"https://nbviewer.jupyter.org/\">NBViewer</a>),\n",
       "  it may mean that your frontend doesn't currently support widgets.\n",
       "</p>\n"
      ],
      "text/plain": [
       "Dropdown(description='SubDataset', layout=Layout(width='100%'), options=('HDF4_EOS:EOS_GRID:\"/home/glopez/Projects/TATSSI/TATSSI/input_output/data/MOD13A2.A2018145.h09v07.006.2018162000027.hdf\":MODIS_Grid_16DAY_1km_VI:1 km 16 days NDVI', 'HDF4_EOS:EOS_GRID:\"/home/glopez/Projects/TATSSI/TATSSI/input_output/data/MOD13A2.A2018145.h09v07.006.2018162000027.hdf\":MODIS_Grid_16DAY_1km_VI:1 km 16 days EVI', 'HDF4_EOS:EOS_GRID:\"/home/glopez/Projects/TATSSI/TATSSI/input_output/data/MOD13A2.A2018145.h09v07.006.2018162000027.hdf\":MODIS_Grid_16DAY_1km_VI:1 km 16 days VI Quality', 'HDF4_EOS:EOS_GRID:\"/home/glopez/Projects/TATSSI/TATSSI/input_output/data/MOD13A2.A2018145.h09v07.006.2018162000027.hdf\":MODIS_Grid_16DAY_1km_VI:1 km 16 days red reflectance', 'HDF4_EOS:EOS_GRID:\"/home/glopez/Projects/TATSSI/TATSSI/input_output/data/MOD13A2.A2018145.h09v07.006.2018162000027.hdf\":MODIS_Grid_16DAY_1km_VI:1 km 16 days NIR reflectance', 'HDF4_EOS:EOS_GRID:\"/home/glopez/Projects/TATSSI/TATSSI/input_output/data/MOD13A2.A2018145.h09v07.006.2018162000027.hdf\":MODIS_Grid_16DAY_1km_VI:1 km 16 days blue reflectance', 'HDF4_EOS:EOS_GRID:\"/home/glopez/Projects/TATSSI/TATSSI/input_output/data/MOD13A2.A2018145.h09v07.006.2018162000027.hdf\":MODIS_Grid_16DAY_1km_VI:1 km 16 days MIR reflectance', 'HDF4_EOS:EOS_GRID:\"/home/glopez/Projects/TATSSI/TATSSI/input_output/data/MOD13A2.A2018145.h09v07.006.2018162000027.hdf\":MODIS_Grid_16DAY_1km_VI:1 km 16 days view zenith angle', 'HDF4_EOS:EOS_GRID:\"/home/glopez/Projects/TATSSI/TATSSI/input_output/data/MOD13A2.A2018145.h09v07.006.2018162000027.hdf\":MODIS_Grid_16DAY_1km_VI:1 km 16 days sun zenith angle', 'HDF4_EOS:EOS_GRID:\"/home/glopez/Projects/TATSSI/TATSSI/input_output/data/MOD13A2.A2018145.h09v07.006.2018162000027.hdf\":MODIS_Grid_16DAY_1km_VI:1 km 16 days relative azimuth angle', 'HDF4_EOS:EOS_GRID:\"/home/glopez/Projects/TATSSI/TATSSI/input_output/data/MOD13A2.A2018145.h09v07.006.2018162000027.hdf\":MODIS_Grid_16DAY_1km_VI:1 km 16 days composite day of the year', 'HDF4_EOS:EOS_GRID:\"/home/glopez/Projects/TATSSI/TATSSI/input_output/data/MOD13A2.A2018145.h09v07.006.2018162000027.hdf\":MODIS_Grid_16DAY_1km_VI:1 km 16 days pixel reliability'), value='HDF4_EOS:EOS_GRID:\"/home/glopez/Projects/TATSSI/TATSSI/input_output/data/MOD13A2.A2018145.h09v07.006.2018162000027.hdf\":MODIS_Grid_16DAY_1km_VI:1 km 16 days NDVI')"
      ]
     },
     "metadata": {},
     "output_type": "display_data"
    }
   ],
   "source": [
    "# Get input file\n",
    "ImportExport()"
   ]
  },
  {
   "cell_type": "code",
   "execution_count": null,
   "metadata": {},
   "outputs": [],
   "source": []
  }
 ],
 "metadata": {
  "kernelspec": {
   "display_name": "Python 3",
   "language": "python",
   "name": "python3"
  },
  "language_info": {
   "codemirror_mode": {
    "name": "ipython",
    "version": 3
   },
   "file_extension": ".py",
   "mimetype": "text/x-python",
   "name": "python",
   "nbconvert_exporter": "python",
   "pygments_lexer": "ipython3",
   "version": "3.6.4"
  }
 },
 "nbformat": 4,
 "nbformat_minor": 2
}
