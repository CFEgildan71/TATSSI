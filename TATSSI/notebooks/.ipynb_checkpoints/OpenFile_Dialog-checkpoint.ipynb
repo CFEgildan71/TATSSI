{
 "cells": [
  {
   "cell_type": "code",
   "execution_count": 1,
   "metadata": {
    "ExecuteTime": {
     "end_time": "2019-04-03T13:59:28.858063Z",
     "start_time": "2019-04-03T13:59:28.597320Z"
    }
   },
   "outputs": [],
   "source": [
    "import sys\n",
    "sys.path.append (\"/home/glopez/Projects/TATSSI\")\n",
    "\n",
    "# Notebook helpers\n",
    "from helpers.helpers import ImportExport"
   ]
  },
  {
   "cell_type": "code",
   "execution_count": 2,
   "metadata": {
    "ExecuteTime": {
     "end_time": "2019-04-03T13:59:30.345309Z",
     "start_time": "2019-04-03T13:59:30.294269Z"
    }
   },
   "outputs": [
    {
     "data": {
      "application/vnd.jupyter.widget-view+json": {
       "model_id": "46b5c84032bc47ad9e513877f2d510f6",
       "version_major": 2,
       "version_minor": 0
      },
      "text/plain": [
       "Button(description='Select input file', style=ButtonStyle(), tooltip='Select file or dataset to be imported.')"
      ]
     },
     "metadata": {},
     "output_type": "display_data"
    },
    {
     "data": {
      "application/vnd.jupyter.widget-view+json": {
       "model_id": "c5e06f2ef8c645a7a18fbe3d31bca836",
       "version_major": 2,
       "version_minor": 0
      },
      "text/plain": [
       "Dropdown(description='SubDataset', layout=Layout(width='100%'), options=('HDF4_EOS:EOS_GRID:\"/home/glopez/Proj…"
      ]
     },
     "metadata": {},
     "output_type": "display_data"
    },
    {
     "data": {
      "application/vnd.jupyter.widget-view+json": {
       "model_id": "acdba840f27049aa950ef5a9741115a0",
       "version_major": 2,
       "version_minor": 0
      },
      "text/plain": [
       "Dropdown(description='Output format', index=29, layout=Layout(width='100%'), options=('ACE2 | ACE2 | ACE2', 'A…"
      ]
     },
     "metadata": {},
     "output_type": "display_data"
    },
    {
     "data": {
      "application/vnd.jupyter.widget-view+json": {
       "model_id": "9a37ec531cb84e33a73cb2f2507622fd",
       "version_major": 2,
       "version_minor": 0
      },
      "text/plain": [
       "Button(description='Select output file', style=ButtonStyle(), tooltip='Select output file name and location')"
      ]
     },
     "metadata": {},
     "output_type": "display_data"
    },
    {
     "data": {
      "application/vnd.jupyter.widget-view+json": {
       "model_id": "64376e27a103419e8185e66438934b7c",
       "version_major": 2,
       "version_minor": 0
      },
      "text/plain": [
       "Text(value='/home/glopez/Projects/TATSSI/data/MOD13A2.006/test.tif', description='Output file', layout=Layout(…"
      ]
     },
     "metadata": {},
     "output_type": "display_data"
    },
    {
     "data": {
      "application/vnd.jupyter.widget-view+json": {
       "model_id": "13aad267c9914868a846fd339aff5ae7",
       "version_major": 2,
       "version_minor": 0
      },
      "text/plain": [
       "Button(description='Translate', style=ButtonStyle(), tooltip='Translate input file into output file')"
      ]
     },
     "metadata": {},
     "output_type": "display_data"
    },
    {
     "name": "stderr",
     "output_type": "stream",
     "text": [
      "INFO:TATSSI.input_output.translate:Converting file HDF4_EOS:EOS_GRID:\"/home/glopez/Projects/TATSSI/data/MOD13A2.006/MOD13A2.A2018001.h09v07.006.2018017223926.hdf\":MODIS_Grid_16DAY_1km_VI:1 km 16 days NDVI...\n",
      "INFO:TATSSI.input_output.translate:File /home/glopez/Projects/TATSSI/data/MOD13A2.006/test.tif saved\n"
     ]
    }
   ],
   "source": [
    "# Translate input file into a new one with selected format\n",
    "translate = ImportExport()"
   ]
  },
  {
   "cell_type": "code",
   "execution_count": null,
   "metadata": {},
   "outputs": [],
   "source": []
  }
 ],
 "metadata": {
  "kernelspec": {
   "display_name": "Python 3",
   "language": "python",
   "name": "python3"
  },
  "language_info": {
   "codemirror_mode": {
    "name": "ipython",
    "version": 3
   },
   "file_extension": ".py",
   "mimetype": "text/x-python",
   "name": "python",
   "nbconvert_exporter": "python",
   "pygments_lexer": "ipython3",
   "version": "3.6.4"
  },
  "toc": {
   "base_numbering": 1,
   "nav_menu": {},
   "number_sections": false,
   "sideBar": false,
   "skip_h1_title": false,
   "title_cell": "Table of Contents",
   "title_sidebar": "Contents",
   "toc_cell": false,
   "toc_position": {},
   "toc_section_display": false,
   "toc_window_display": false
  }
 },
 "nbformat": 4,
 "nbformat_minor": 2
}
