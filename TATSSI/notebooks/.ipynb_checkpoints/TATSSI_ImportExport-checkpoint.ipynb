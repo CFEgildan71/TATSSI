{
 "cells": [
  {
   "cell_type": "markdown",
   "metadata": {},
   "source": [
    "# Tools for Analyzing Time Series of Satellite Imagery (TATSSI)"
   ]
  },
  {
   "cell_type": "code",
   "execution_count": 1,
   "metadata": {
    "ExecuteTime": {
     "end_time": "2019-07-15T17:57:25.489635Z",
     "start_time": "2019-07-15T17:57:25.105644Z"
    }
   },
   "outputs": [],
   "source": [
    "# Notebook helpers\n",
    "from helpers.import_export import ImportExport"
   ]
  },
  {
   "cell_type": "markdown",
   "metadata": {},
   "source": [
    "### Step-by-step TATSSI import-export module\n",
    "TATSSI allows converting to/from all [GDAL supported formats](https://www.gdal.org/formats_list.html)!"
   ]
  },
  {
   "cell_type": "code",
   "execution_count": 2,
   "metadata": {
    "ExecuteTime": {
     "end_time": "2019-07-15T17:57:27.780757Z",
     "start_time": "2019-07-15T17:57:27.765866Z"
    }
   },
   "outputs": [
    {
     "data": {
      "application/vnd.jupyter.widget-view+json": {
       "model_id": "8f3df3ce137d4861908e1717ff4f00d2",
       "version_major": 2,
       "version_minor": 0
      },
      "text/plain": [
       "Button(description='Select input file', style=ButtonStyle(), tooltip='Select file or dataset to be imported.')"
      ]
     },
     "metadata": {},
     "output_type": "display_data"
    },
    {
     "data": {
      "application/vnd.jupyter.widget-view+json": {
       "model_id": "c88b147c698348ce9da77ed57e362318",
       "version_major": 2,
       "version_minor": 0
      },
      "text/plain": [
       "Dropdown(description='SubDataset', layout=Layout(width='100%'), options=('HDF4_EOS:EOS_GRID:\"../../data/MOD13A…"
      ]
     },
     "metadata": {},
     "output_type": "display_data"
    },
    {
     "data": {
      "application/vnd.jupyter.widget-view+json": {
       "model_id": "496cf7c547c048d2b086a81e9426ddc2",
       "version_major": 2,
       "version_minor": 0
      },
      "text/plain": [
       "Dropdown(description='Output format', index=29, layout=Layout(width='100%'), options=('ACE2 | ACE2 | ACE2', 'A…"
      ]
     },
     "metadata": {},
     "output_type": "display_data"
    },
    {
     "data": {
      "application/vnd.jupyter.widget-view+json": {
       "model_id": "6176bc21b54149d29004cd55e27077e4",
       "version_major": 2,
       "version_minor": 0
      },
      "text/plain": [
       "Button(description='Select output file', style=ButtonStyle(), tooltip='Select output file name and location')"
      ]
     },
     "metadata": {},
     "output_type": "display_data"
    },
    {
     "data": {
      "application/vnd.jupyter.widget-view+json": {
       "model_id": "5c4d34542f494015b62389d3b1196c9e",
       "version_major": 2,
       "version_minor": 0
      },
      "text/plain": [
       "Text(value='../../data/MOD13A2.006/MOD13A2.A2018001.h09v07.006.2018017223926.tif', description='Output file', …"
      ]
     },
     "metadata": {},
     "output_type": "display_data"
    },
    {
     "data": {
      "application/vnd.jupyter.widget-view+json": {
       "model_id": "e33a7970a4564f76b8d1a285e38c0473",
       "version_major": 2,
       "version_minor": 0
      },
      "text/plain": [
       "Button(description='Translate', style=ButtonStyle(), tooltip='Translate input file into output file')"
      ]
     },
     "metadata": {},
     "output_type": "display_data"
    },
    {
     "name": "stderr",
     "output_type": "stream",
     "text": [
      "INFO:TATSSI.input_output.translate:Converting file HDF4_EOS:EOS_GRID:\"../../data/MOD13A2.006/MOD13A2.A2018001.h09v07.006.2018017223926.hdf\":MODIS_Grid_16DAY_1km_VI:1 km 16 days NDVI...\n",
      "INFO:TATSSI.input_output.translate:File ../../data/MOD13A2.006/MOD13A2.A2018001.h09v07.006.2018017223926.tif saved\n"
     ]
    }
   ],
   "source": [
    "# Translate input file into a new one with selected format\\n\",\n",
    "# Workshop version without dialogs...\n",
    "translate = ImportExport()"
   ]
  },
  {
   "cell_type": "code",
   "execution_count": 3,
   "metadata": {
    "ExecuteTime": {
     "end_time": "2019-07-15T17:57:47.553972Z",
     "start_time": "2019-07-15T17:57:47.307167Z"
    }
   },
   "outputs": [
    {
     "name": "stdout",
     "output_type": "stream",
     "text": [
      "Driver: GTiff/GeoTIFF\r\n",
      "Files: ../../data/MOD13A2.006/MOD13A2.A2018001.h09v07.006.2018017223926.tif\r\n",
      "Size is 1200, 1200\r\n",
      "Coordinate System is:\r\n",
      "PROJCS[\"unnamed\",\r\n",
      "    GEOGCS[\"Unknown datum based upon the custom spheroid\",\r\n",
      "        DATUM[\"Not_specified_based_on_custom_spheroid\",\r\n",
      "            SPHEROID[\"Custom spheroid\",6371007.181,0]],\r\n",
      "        PRIMEM[\"Greenwich\",0],\r\n",
      "        UNIT[\"degree\",0.0174532925199433]],\r\n",
      "    PROJECTION[\"Sinusoidal\"],\r\n",
      "    PARAMETER[\"longitude_of_center\",0],\r\n",
      "    PARAMETER[\"false_easting\",0],\r\n",
      "    PARAMETER[\"false_northing\",0],\r\n",
      "    UNIT[\"metre\",1,\r\n",
      "        AUTHORITY[\"EPSG\",\"9001\"]]]\r\n",
      "Origin = (-10007554.676999999210238,2223901.039332999847829)\r\n",
      "Pixel Size = (926.625433055833014,-926.625433054999803)\r\n",
      "Metadata:\r\n",
      "  add_offset=0\r\n",
      "  add_offset_err=0\r\n",
      "  ALGORITHMPACKAGEACCEPTANCEDATE=102004\r\n",
      "  ALGORITHMPACKAGEMATURITYCODE=Normal\r\n",
      "  ALGORITHMPACKAGENAME=MOD_PR13A1\r\n",
      "  ALGORITHMPACKAGEVERSION=6\r\n",
      "  AREA_OR_POINT=Area\r\n",
      "  ASSOCIATEDINSTRUMENTSHORTNAME.1=MODIS\r\n",
      "  ASSOCIATEDPLATFORMSHORTNAME.1=Terra\r\n",
      "  ASSOCIATEDSENSORSHORTNAME.1=MODIS\r\n",
      "  AUTOMATICQUALITYFLAG.1=Passed\r\n",
      "  AUTOMATICQUALITYFLAG.10=Passed\r\n",
      "  AUTOMATICQUALITYFLAG.11=Passed\r\n",
      "  AUTOMATICQUALITYFLAG.12=Passed\r\n",
      "  AUTOMATICQUALITYFLAG.2=Passed\r\n",
      "  AUTOMATICQUALITYFLAG.3=Passed\r\n",
      "  AUTOMATICQUALITYFLAG.4=Passed\r\n",
      "  AUTOMATICQUALITYFLAG.5=Passed\r\n",
      "  AUTOMATICQUALITYFLAG.6=Passed\r\n",
      "  AUTOMATICQUALITYFLAG.7=Passed\r\n",
      "  AUTOMATICQUALITYFLAG.8=Passed\r\n",
      "  AUTOMATICQUALITYFLAG.9=Passed\r\n",
      "  AUTOMATICQUALITYFLAGEXPLANATION.1=No automatic quality assessment is performed in the PGE\r\n",
      "  AUTOMATICQUALITYFLAGEXPLANATION.10=No automatic quality assessment is performed in the PGE\r\n",
      "  AUTOMATICQUALITYFLAGEXPLANATION.11=No automatic quality assessment is performed in the PGE\r\n",
      "  AUTOMATICQUALITYFLAGEXPLANATION.12=No automatic quality assessment is performed in the PGE\r\n",
      "  AUTOMATICQUALITYFLAGEXPLANATION.2=No automatic quality assessment is performed in the PGE\r\n",
      "  AUTOMATICQUALITYFLAGEXPLANATION.3=No automatic quality assessment is performed in the PGE\r\n",
      "  AUTOMATICQUALITYFLAGEXPLANATION.4=No automatic quality assessment is performed in the PGE\r\n",
      "  AUTOMATICQUALITYFLAGEXPLANATION.5=No automatic quality assessment is performed in the PGE\r\n",
      "  AUTOMATICQUALITYFLAGEXPLANATION.6=No automatic quality assessment is performed in the PGE\r\n",
      "  AUTOMATICQUALITYFLAGEXPLANATION.7=No automatic quality assessment is performed in the PGE\r\n",
      "  AUTOMATICQUALITYFLAGEXPLANATION.8=No automatic quality assessment is performed in the PGE\r\n",
      "  AUTOMATICQUALITYFLAGEXPLANATION.9=No automatic quality assessment is performed in the PGE\r\n",
      "  calibrated_nt=5\r\n",
      "  CHARACTERISTICBINANGULARSIZE=30.0\r\n",
      "  CHARACTERISTICBINSIZE=926.625433055556\r\n",
      "  DATACOLUMNS=1200\r\n",
      "  DATAROWS=1200\r\n",
      "  DAYNIGHTFLAG=Day\r\n",
      "  DAYSOFYEAR=1, 2, 3, 4, 5, 6, 7, 8, 9, 10, 11, 12, 13, 14, 15, 16\r\n",
      "  DAYSPROCESSED=2018001, 2018002, 2018003, 2018004, 2018005, 2018006, 2018007, 2018008, 2018009, 2018010, 2018011, 2018012, 2018013, 2018014, 2018015, 2018016\r\n",
      "  DESCRREVISION=6.1\r\n",
      "  EASTBOUNDINGCOORDINATE=-81.2256670549084\r\n",
      "  EVI1KM16DAYQCLASSPERCENTAGE=75\r\n",
      "  EXCLUSIONGRINGFLAG.1=N\r\n",
      "  GEOANYABNORMAL=False\r\n",
      "  GEOESTMAXRMSERROR=50.0\r\n",
      "  GLOBALGRIDCOLUMNS=43200\r\n",
      "  GLOBALGRIDROWS=21600\r\n",
      "  GRINGPOINTLATITUDE.1=9.94589238812958, 19.9999999982039, 20.0238091465748, 9.9704855529409\r\n",
      "  GRINGPOINTLONGITUDE.1=-91.3988008626617, -95.7759995131384, -84.8012409929684, -80.927089274095\r\n",
      "  GRINGPOINTSEQUENCENO.1=1, 2, 3, 4\r\n",
      "  HDFEOSVersion=HDFEOS_V2.19\r\n",
      "  HORIZONTALTILENUMBER=09\r\n",
      "  identifier_product_doi=10.5067/MODIS/MOD13A2.006\r\n",
      "  identifier_product_doi_authority=http://dx.doi.org\r\n",
      "  INPUTFILENAME=MOD09A1.A2018001.h09v07.006.2018011144836.hdf, MOD09A1.A2018009.h09v07.006.2018018033536.hdf\r\n",
      "  INPUTPOINTER=MOD09A1.A2018001.h09v07.006.2018011144836.hdf, MOD09A1.A2018009.h09v07.006.2018018033536.hdf\r\n",
      "  INPUTPRODUCTRESOLUTION=Product input resolution 500m\r\n",
      "  INSTRUMENTNAME=Moderate-Resolution Imaging SpectroRadiometer\r\n",
      "  LOCALGRANULEID=MOD13A2.A2018001.h09v07.006.2018017223926.hdf\r\n",
      "  LOCALVERSIONID=6.0.0\r\n",
      "  LONGNAME=MODIS/Terra Vegetation Indices 16-Day L3 Global 1km SIN Grid\r\n",
      "  long_name=1 km 16 days NDVI\r\n",
      "  NDVI1KM16DAYQCLASSPERCENTAGE=75\r\n",
      "  NORTHBOUNDINGCOORDINATE=19.9999999982039\r\n",
      "  NUMBEROFDAYS=16\r\n",
      "  PARAMETERNAME.1=1 km 16 days NDVI\r\n",
      "  PARAMETERNAME.10=1 km 16 days relative azimuth angle\r\n",
      "  PARAMETERNAME.11=1 km 16 days composite day of the year\r\n",
      "  PARAMETERNAME.12=1 km 16 days pixel reliability\r\n",
      "  PARAMETERNAME.2=1 km 16 days EVI\r\n",
      "  PARAMETERNAME.3=1 km 16 days VI Quality\r\n",
      "  PARAMETERNAME.4=1 km 16 days red reflectance\r\n",
      "  PARAMETERNAME.5=1 km 16 days NIR reflectance\r\n",
      "  PARAMETERNAME.6=1 km 16 days blue reflectance\r\n",
      "  PARAMETERNAME.7=1 km 16 days MIR reflectance\r\n",
      "  PARAMETERNAME.8=1 km 16 days view zenith angle\r\n",
      "  PARAMETERNAME.9=1 km 16 days sun zenith angle\r\n",
      "  PERCENTLAND=49\r\n",
      "  PGEVERSION=6.0.23\r\n",
      "  PROCESSINGCENTER=MODAPS\r\n",
      "  PROCESSINGENVIRONMENT=Linux minion7042 3.10.0-693.11.1.el7.x86_64 #1 SMP Mon Dec 4 23:52:40 UTC 2017 x86_64 x86_64 x86_64 GNU/Linux\r\n",
      "  PRODUCTIONDATETIME=2018-01-18T03:39:26.000Z\r\n",
      "  PRODUCTIONTYPE=Regular Production [1-16,17-32,33-48,...353-2/3]\r\n",
      "  QAPERCENTCLOUDCOVER.1=4\r\n",
      "  QAPERCENTCLOUDCOVER.10=4\r\n",
      "  QAPERCENTCLOUDCOVER.11=4\r\n",
      "  QAPERCENTCLOUDCOVER.12=4\r\n",
      "  QAPERCENTCLOUDCOVER.2=4\r\n",
      "  QAPERCENTCLOUDCOVER.3=4\r\n",
      "  QAPERCENTCLOUDCOVER.4=4\r\n",
      "  QAPERCENTCLOUDCOVER.5=4\r\n",
      "  QAPERCENTCLOUDCOVER.6=4\r\n",
      "  QAPERCENTCLOUDCOVER.7=4\r\n",
      "  QAPERCENTCLOUDCOVER.8=4\r\n",
      "  QAPERCENTCLOUDCOVER.9=4\r\n",
      "  QAPERCENTGOODQUALITY=85\r\n",
      "  QAPERCENTINTERPOLATEDDATA.1=99\r\n",
      "  QAPERCENTINTERPOLATEDDATA.10=99\r\n",
      "  QAPERCENTINTERPOLATEDDATA.11=99\r\n",
      "  QAPERCENTINTERPOLATEDDATA.12=99\r\n",
      "  QAPERCENTINTERPOLATEDDATA.2=99\r\n",
      "  QAPERCENTINTERPOLATEDDATA.3=99\r\n",
      "  QAPERCENTINTERPOLATEDDATA.4=99\r\n",
      "  QAPERCENTINTERPOLATEDDATA.5=99\r\n",
      "  QAPERCENTINTERPOLATEDDATA.6=99\r\n",
      "  QAPERCENTINTERPOLATEDDATA.7=99\r\n",
      "  QAPERCENTINTERPOLATEDDATA.8=99\r\n",
      "  QAPERCENTINTERPOLATEDDATA.9=99\r\n",
      "  QAPERCENTMISSINGDATA.1=1\r\n",
      "  QAPERCENTMISSINGDATA.10=1\r\n",
      "  QAPERCENTMISSINGDATA.11=1\r\n",
      "  QAPERCENTMISSINGDATA.12=1\r\n",
      "  QAPERCENTMISSINGDATA.2=1\r\n",
      "  QAPERCENTMISSINGDATA.3=1\r\n",
      "  QAPERCENTMISSINGDATA.4=1\r\n",
      "  QAPERCENTMISSINGDATA.5=1\r\n",
      "  QAPERCENTMISSINGDATA.6=1\r\n",
      "  QAPERCENTMISSINGDATA.7=1\r\n",
      "  QAPERCENTMISSINGDATA.8=1\r\n",
      "  QAPERCENTMISSINGDATA.9=1\r\n",
      "  QAPERCENTNOTPRODUCEDCLOUD=4\r\n",
      "  QAPERCENTNOTPRODUCEDOTHER=1\r\n",
      "  QAPERCENTOTHERQUALITY=10\r\n",
      "  QAPERCENTOUTOFBOUNDSDATA.1=0\r\n",
      "  QAPERCENTOUTOFBOUNDSDATA.10=0\r\n",
      "  QAPERCENTOUTOFBOUNDSDATA.11=0\r\n",
      "  QAPERCENTOUTOFBOUNDSDATA.12=0\r\n",
      "  QAPERCENTOUTOFBOUNDSDATA.2=0\r\n",
      "  QAPERCENTOUTOFBOUNDSDATA.3=0\r\n",
      "  QAPERCENTOUTOFBOUNDSDATA.4=0\r\n",
      "  QAPERCENTOUTOFBOUNDSDATA.5=0\r\n",
      "  QAPERCENTOUTOFBOUNDSDATA.6=0\r\n",
      "  QAPERCENTOUTOFBOUNDSDATA.7=0\r\n",
      "  QAPERCENTOUTOFBOUNDSDATA.8=0\r\n",
      "  QAPERCENTOUTOFBOUNDSDATA.9=0\r\n",
      "  QAPERCENTPOORQ1KM16DAYEVI=75, 10, 7, 3, 2, 1, 1, 0, 0, 0, 0, 0, 0, 0, 0, 1\r\n",
      "  QAPERCENTPOORQ1KM16DAYNDVI=75, 10, 7, 3, 2, 1, 1, 0, 0, 0, 0, 0, 0, 0, 0, 1\r\n",
      "  QA_STRUCTURE_STYLE=C5 or later\r\n",
      "  RANGEBEGINNINGDATE=2018-01-01\r\n",
      "  RANGEBEGINNINGTIME=00:00:00\r\n",
      "  RANGEENDINGDATE=2018-01-16\r\n",
      "  RANGEENDINGTIME=23:59:59\r\n",
      "  REPROCESSINGACTUAL=reprocessed\r\n",
      "  REPROCESSINGPLANNED=further update is anticipated\r\n",
      "  scale_factor=10000\r\n",
      "  scale_factor_err=0\r\n",
      "  SCIENCEQUALITYFLAG.1=Not Investigated\r\n",
      "  SCIENCEQUALITYFLAG.10=Not Investigated\r\n",
      "  SCIENCEQUALITYFLAG.11=Not Investigated\r\n",
      "  SCIENCEQUALITYFLAG.12=Not Investigated\r\n",
      "  SCIENCEQUALITYFLAG.2=Not Investigated\r\n",
      "  SCIENCEQUALITYFLAG.3=Not Investigated\r\n",
      "  SCIENCEQUALITYFLAG.4=Not Investigated\r\n",
      "  SCIENCEQUALITYFLAG.5=Not Investigated\r\n",
      "  SCIENCEQUALITYFLAG.6=Not Investigated\r\n",
      "  SCIENCEQUALITYFLAG.7=Not Investigated\r\n",
      "  SCIENCEQUALITYFLAG.8=Not Investigated\r\n",
      "  SCIENCEQUALITYFLAG.9=Not Investigated\r\n",
      "  SCIENCEQUALITYFLAGEXPLANATION.1=See http://landweb.nascom.nasa.gov/cgi-bin/QA_WWW/qaFlagPage.cgi?sat=terra for the product Science Quality status.\r\n",
      "  SCIENCEQUALITYFLAGEXPLANATION.10=See http://landweb.nascom.nasa.gov/cgi-bin/QA_WWW/qaFlagPage.cgi?sat=terra for the product Science Quality status.\r\n",
      "  SCIENCEQUALITYFLAGEXPLANATION.11=See http://landweb.nascom.nasa.gov/cgi-bin/QA_WWW/qaFlagPage.cgi?sat=terra for the product Science Quality status.\r\n",
      "  SCIENCEQUALITYFLAGEXPLANATION.12=See http://landweb.nascom.nasa.gov/cgi-bin/QA_WWW/qaFlagPage.cgi?sat=terra for the product Science Quality status.\r\n",
      "  SCIENCEQUALITYFLAGEXPLANATION.2=See http://landweb.nascom.nasa.gov/cgi-bin/QA_WWW/qaFlagPage.cgi?sat=terra for the product Science Quality status.\r\n",
      "  SCIENCEQUALITYFLAGEXPLANATION.3=See http://landweb.nascom.nasa.gov/cgi-bin/QA_WWW/qaFlagPage.cgi?sat=terra for the product Science Quality status.\r\n",
      "  SCIENCEQUALITYFLAGEXPLANATION.4=See http://landweb.nascom.nasa.gov/cgi-bin/QA_WWW/qaFlagPage.cgi?sat=terra for the product Science Quality status.\r\n",
      "  SCIENCEQUALITYFLAGEXPLANATION.5=See http://landweb.nascom.nasa.gov/cgi-bin/QA_WWW/qaFlagPage.cgi?sat=terra for the product Science Quality status.\r\n",
      "  SCIENCEQUALITYFLAGEXPLANATION.6=See http://landweb.nascom.nasa.gov/cgi-bin/QA_WWW/qaFlagPage.cgi?sat=terra for the product Science Quality status.\r\n",
      "  SCIENCEQUALITYFLAGEXPLANATION.7=See http://landweb.nascom.nasa.gov/cgi-bin/QA_WWW/qaFlagPage.cgi?sat=terra for the product Science Quality status.\r\n",
      "  SCIENCEQUALITYFLAGEXPLANATION.8=See http://landweb.nascom.nasa.gov/cgi-bin/QA_WWW/qaFlagPage.cgi?sat=terra for the product Science Quality status.\r\n",
      "  SCIENCEQUALITYFLAGEXPLANATION.9=See http://landweb.nascom.nasa.gov/cgi-bin/QA_WWW/qaFlagPage.cgi?sat=terra for the product Science Quality status.\r\n",
      "  SHORTNAME=MOD13A2\r\n",
      "  SOUTHBOUNDINGCOORDINATE=9.99999999910196\r\n",
      "  SPSOPARAMETERS=2749, 4334, 2749a, 4334a\r\n",
      "  TileID=51009007\r\n",
      "  units=NDVI\r\n",
      "  valid_range=-2000, 10000\r\n",
      "  VERSIONID=6\r\n",
      "  VERTICALTILENUMBER=07\r\n",
      "  WESTBOUNDINGCOORDINATE=-95.7759995131384\r\n",
      "  _FillValue=-3000\r\n",
      "Image Structure Metadata:\r\n",
      "  INTERLEAVE=BAND\r\n",
      "Corner Coordinates:\r\n",
      "Upper Left  (-10007554.677, 2223901.039) ( 95d46'33.60\"W, 20d 0' 0.00\"N)\r\n",
      "Lower Left  (-10007554.677, 1111950.520) ( 91d23'18.22\"W, 10d 0' 0.00\"N)\r\n",
      "Upper Right (-8895604.157, 2223901.039) ( 85d 8' 3.20\"W, 20d 0' 0.00\"N)\r\n",
      "Lower Right (-8895604.157, 1111950.520) ( 81d14' 2.86\"W, 10d 0' 0.00\"N)\r\n",
      "Center      (-9451579.417, 1667925.779) ( 87d59'54.51\"W, 15d 0' 0.00\"N)\r\n",
      "Band 1 Block=1200x3 Type=Int16, ColorInterp=Gray\r\n",
      "  Description = 1 km 16 days NDVI\r\n",
      "  NoData Value=-3000\r\n",
      "  Unit Type: NDVI\r\n",
      "  Offset: 0,   Scale:10000\r\n"
     ]
    }
   ],
   "source": [
    "# Let's have a look to the created file\n",
    "!gdalinfo ../../data/MOD13A2.006/MOD13A2.A2018001.h09v07.006.2018017223926.tif"
   ]
  },
  {
   "cell_type": "markdown",
   "metadata": {},
   "source": [
    "That is kind of... boring. We can use TATSSI Translate module directly to convert all MOD13A2 HDF files within a directory to extract the EVI layer and convert into a GeoTiff file."
   ]
  },
  {
   "cell_type": "code",
   "execution_count": 8,
   "metadata": {
    "ExecuteTime": {
     "end_time": "2019-07-15T17:58:26.510325Z",
     "start_time": "2019-07-15T17:58:26.504167Z"
    }
   },
   "outputs": [],
   "source": [
    "# Import directly the TATSSI translate module\n",
    "import os\n",
    "from glob import glob\n",
    "from TATSSI.input_output.translate import Translate\n",
    "from TATSSI.input_output.utils import *"
   ]
  },
  {
   "cell_type": "code",
   "execution_count": 11,
   "metadata": {
    "ExecuteTime": {
     "end_time": "2019-07-15T18:02:43.484120Z",
     "start_time": "2019-07-15T18:02:43.470867Z"
    }
   },
   "outputs": [],
   "source": [
    "# How to run the Translate function\n",
    "Translate?"
   ]
  },
  {
   "cell_type": "code",
   "execution_count": 6,
   "metadata": {
    "ExecuteTime": {
     "end_time": "2019-07-15T17:58:11.272827Z",
     "start_time": "2019-07-15T17:58:10.970553Z"
    }
   },
   "outputs": [
    {
     "name": "stdout",
     "output_type": "stream",
     "text": [
      "Driver: HDF4/Hierarchical Data Format Release 4\r\n",
      "Files: ../../data/MOD13A2.006/MOD13A2.A2018001.h09v07.006.2018017223926.hdf\r\n",
      "Size is 512, 512\r\n",
      "Coordinate System is `'\r\n",
      "Metadata:\r\n",
      "  ALGORITHMPACKAGEACCEPTANCEDATE=102004\r\n",
      "  ALGORITHMPACKAGEMATURITYCODE=Normal\r\n",
      "  ALGORITHMPACKAGENAME=MOD_PR13A1\r\n",
      "  ALGORITHMPACKAGEVERSION=6\r\n",
      "  ASSOCIATEDINSTRUMENTSHORTNAME.1=MODIS\r\n",
      "  ASSOCIATEDPLATFORMSHORTNAME.1=Terra\r\n",
      "  ASSOCIATEDSENSORSHORTNAME.1=MODIS\r\n",
      "  AUTOMATICQUALITYFLAG.1=Passed\r\n",
      "  AUTOMATICQUALITYFLAG.10=Passed\r\n",
      "  AUTOMATICQUALITYFLAG.11=Passed\r\n",
      "  AUTOMATICQUALITYFLAG.12=Passed\r\n",
      "  AUTOMATICQUALITYFLAG.2=Passed\r\n",
      "  AUTOMATICQUALITYFLAG.3=Passed\r\n",
      "  AUTOMATICQUALITYFLAG.4=Passed\r\n",
      "  AUTOMATICQUALITYFLAG.5=Passed\r\n",
      "  AUTOMATICQUALITYFLAG.6=Passed\r\n",
      "  AUTOMATICQUALITYFLAG.7=Passed\r\n",
      "  AUTOMATICQUALITYFLAG.8=Passed\r\n",
      "  AUTOMATICQUALITYFLAG.9=Passed\r\n",
      "  AUTOMATICQUALITYFLAGEXPLANATION.1=No automatic quality assessment is performed in the PGE\r\n",
      "  AUTOMATICQUALITYFLAGEXPLANATION.10=No automatic quality assessment is performed in the PGE\r\n",
      "  AUTOMATICQUALITYFLAGEXPLANATION.11=No automatic quality assessment is performed in the PGE\r\n",
      "  AUTOMATICQUALITYFLAGEXPLANATION.12=No automatic quality assessment is performed in the PGE\r\n",
      "  AUTOMATICQUALITYFLAGEXPLANATION.2=No automatic quality assessment is performed in the PGE\r\n",
      "  AUTOMATICQUALITYFLAGEXPLANATION.3=No automatic quality assessment is performed in the PGE\r\n",
      "  AUTOMATICQUALITYFLAGEXPLANATION.4=No automatic quality assessment is performed in the PGE\r\n",
      "  AUTOMATICQUALITYFLAGEXPLANATION.5=No automatic quality assessment is performed in the PGE\r\n",
      "  AUTOMATICQUALITYFLAGEXPLANATION.6=No automatic quality assessment is performed in the PGE\r\n",
      "  AUTOMATICQUALITYFLAGEXPLANATION.7=No automatic quality assessment is performed in the PGE\r\n",
      "  AUTOMATICQUALITYFLAGEXPLANATION.8=No automatic quality assessment is performed in the PGE\r\n",
      "  AUTOMATICQUALITYFLAGEXPLANATION.9=No automatic quality assessment is performed in the PGE\r\n",
      "  CHARACTERISTICBINANGULARSIZE=30.0\r\n",
      "  CHARACTERISTICBINSIZE=926.625433055556\r\n",
      "  DATACOLUMNS=1200\r\n",
      "  DATAROWS=1200\r\n",
      "  DAYNIGHTFLAG=Day\r\n",
      "  DAYSOFYEAR=1, 2, 3, 4, 5, 6, 7, 8, 9, 10, 11, 12, 13, 14, 15, 16\r\n",
      "  DAYSPROCESSED=2018001, 2018002, 2018003, 2018004, 2018005, 2018006, 2018007, 2018008, 2018009, 2018010, 2018011, 2018012, 2018013, 2018014, 2018015, 2018016\r\n",
      "  DESCRREVISION=6.1\r\n",
      "  EASTBOUNDINGCOORDINATE=-81.2256670549084\r\n",
      "  EVI1KM16DAYQCLASSPERCENTAGE=75\r\n",
      "  EXCLUSIONGRINGFLAG.1=N\r\n",
      "  GEOANYABNORMAL=False\r\n",
      "  GEOESTMAXRMSERROR=50.0\r\n",
      "  GLOBALGRIDCOLUMNS=43200\r\n",
      "  GLOBALGRIDROWS=21600\r\n",
      "  GRINGPOINTLATITUDE.1=9.94589238812958, 19.9999999982039, 20.0238091465748, 9.9704855529409\r\n",
      "  GRINGPOINTLONGITUDE.1=-91.3988008626617, -95.7759995131384, -84.8012409929684, -80.927089274095\r\n",
      "  GRINGPOINTSEQUENCENO.1=1, 2, 3, 4\r\n",
      "  HDFEOSVersion=HDFEOS_V2.19\r\n",
      "  HORIZONTALTILENUMBER=09\r\n",
      "  identifier_product_doi=10.5067/MODIS/MOD13A2.006\r\n",
      "  identifier_product_doi=10.5067/MODIS/MOD13A2.006\r\n",
      "  identifier_product_doi_authority=http://dx.doi.org\r\n",
      "  identifier_product_doi_authority=http://dx.doi.org\r\n",
      "  INPUTFILENAME=MOD09A1.A2018001.h09v07.006.2018011144836.hdf, MOD09A1.A2018009.h09v07.006.2018018033536.hdf\r\n",
      "  INPUTPOINTER=MOD09A1.A2018001.h09v07.006.2018011144836.hdf, MOD09A1.A2018009.h09v07.006.2018018033536.hdf\r\n",
      "  INPUTPRODUCTRESOLUTION=Product input resolution 500m\r\n",
      "  INSTRUMENTNAME=Moderate-Resolution Imaging SpectroRadiometer\r\n",
      "  LOCALGRANULEID=MOD13A2.A2018001.h09v07.006.2018017223926.hdf\r\n",
      "  LOCALVERSIONID=6.0.0\r\n",
      "  LONGNAME=MODIS/Terra Vegetation Indices 16-Day L3 Global 1km SIN Grid\r\n",
      "  NDVI1KM16DAYQCLASSPERCENTAGE=75\r\n",
      "  NORTHBOUNDINGCOORDINATE=19.9999999982039\r\n",
      "  NUMBEROFDAYS=16\r\n",
      "  PARAMETERNAME.1=1 km 16 days NDVI\r\n",
      "  PARAMETERNAME.10=1 km 16 days relative azimuth angle\r\n",
      "  PARAMETERNAME.11=1 km 16 days composite day of the year\r\n",
      "  PARAMETERNAME.12=1 km 16 days pixel reliability\r\n",
      "  PARAMETERNAME.2=1 km 16 days EVI\r\n",
      "  PARAMETERNAME.3=1 km 16 days VI Quality\r\n",
      "  PARAMETERNAME.4=1 km 16 days red reflectance\r\n",
      "  PARAMETERNAME.5=1 km 16 days NIR reflectance\r\n",
      "  PARAMETERNAME.6=1 km 16 days blue reflectance\r\n",
      "  PARAMETERNAME.7=1 km 16 days MIR reflectance\r\n",
      "  PARAMETERNAME.8=1 km 16 days view zenith angle\r\n",
      "  PARAMETERNAME.9=1 km 16 days sun zenith angle\r\n",
      "  PERCENTLAND=49\r\n",
      "  PGEVERSION=6.0.23\r\n",
      "  PROCESSINGCENTER=MODAPS\r\n",
      "  PROCESSINGENVIRONMENT=Linux minion7042 3.10.0-693.11.1.el7.x86_64 #1 SMP Mon Dec 4 23:52:40 UTC 2017 x86_64 x86_64 x86_64 GNU/Linux\r\n",
      "  PRODUCTIONDATETIME=2018-01-18T03:39:26.000Z\r\n",
      "  PRODUCTIONTYPE=Regular Production [1-16,17-32,33-48,...353-2/3]\r\n",
      "  QAPERCENTCLOUDCOVER.1=4\r\n",
      "  QAPERCENTCLOUDCOVER.10=4\r\n",
      "  QAPERCENTCLOUDCOVER.11=4\r\n",
      "  QAPERCENTCLOUDCOVER.12=4\r\n",
      "  QAPERCENTCLOUDCOVER.2=4\r\n",
      "  QAPERCENTCLOUDCOVER.3=4\r\n",
      "  QAPERCENTCLOUDCOVER.4=4\r\n",
      "  QAPERCENTCLOUDCOVER.5=4\r\n",
      "  QAPERCENTCLOUDCOVER.6=4\r\n",
      "  QAPERCENTCLOUDCOVER.7=4\r\n",
      "  QAPERCENTCLOUDCOVER.8=4\r\n",
      "  QAPERCENTCLOUDCOVER.9=4\r\n",
      "  QAPERCENTGOODQUALITY=85\r\n",
      "  QAPERCENTINTERPOLATEDDATA.1=99\r\n",
      "  QAPERCENTINTERPOLATEDDATA.10=99\r\n",
      "  QAPERCENTINTERPOLATEDDATA.11=99\r\n",
      "  QAPERCENTINTERPOLATEDDATA.12=99\r\n",
      "  QAPERCENTINTERPOLATEDDATA.2=99\r\n",
      "  QAPERCENTINTERPOLATEDDATA.3=99\r\n",
      "  QAPERCENTINTERPOLATEDDATA.4=99\r\n",
      "  QAPERCENTINTERPOLATEDDATA.5=99\r\n",
      "  QAPERCENTINTERPOLATEDDATA.6=99\r\n",
      "  QAPERCENTINTERPOLATEDDATA.7=99\r\n",
      "  QAPERCENTINTERPOLATEDDATA.8=99\r\n",
      "  QAPERCENTINTERPOLATEDDATA.9=99\r\n",
      "  QAPERCENTMISSINGDATA.1=1\r\n",
      "  QAPERCENTMISSINGDATA.10=1\r\n",
      "  QAPERCENTMISSINGDATA.11=1\r\n",
      "  QAPERCENTMISSINGDATA.12=1\r\n",
      "  QAPERCENTMISSINGDATA.2=1\r\n",
      "  QAPERCENTMISSINGDATA.3=1\r\n",
      "  QAPERCENTMISSINGDATA.4=1\r\n",
      "  QAPERCENTMISSINGDATA.5=1\r\n",
      "  QAPERCENTMISSINGDATA.6=1\r\n",
      "  QAPERCENTMISSINGDATA.7=1\r\n",
      "  QAPERCENTMISSINGDATA.8=1\r\n",
      "  QAPERCENTMISSINGDATA.9=1\r\n",
      "  QAPERCENTNOTPRODUCEDCLOUD=4\r\n",
      "  QAPERCENTNOTPRODUCEDOTHER=1\r\n",
      "  QAPERCENTOTHERQUALITY=10\r\n",
      "  QAPERCENTOUTOFBOUNDSDATA.1=0\r\n",
      "  QAPERCENTOUTOFBOUNDSDATA.10=0\r\n",
      "  QAPERCENTOUTOFBOUNDSDATA.11=0\r\n",
      "  QAPERCENTOUTOFBOUNDSDATA.12=0\r\n",
      "  QAPERCENTOUTOFBOUNDSDATA.2=0\r\n",
      "  QAPERCENTOUTOFBOUNDSDATA.3=0\r\n",
      "  QAPERCENTOUTOFBOUNDSDATA.4=0\r\n",
      "  QAPERCENTOUTOFBOUNDSDATA.5=0\r\n",
      "  QAPERCENTOUTOFBOUNDSDATA.6=0\r\n",
      "  QAPERCENTOUTOFBOUNDSDATA.7=0\r\n",
      "  QAPERCENTOUTOFBOUNDSDATA.8=0\r\n",
      "  QAPERCENTOUTOFBOUNDSDATA.9=0\r\n",
      "  QAPERCENTPOORQ1KM16DAYEVI=75, 10, 7, 3, 2, 1, 1, 0, 0, 0, 0, 0, 0, 0, 0, 1\r\n",
      "  QAPERCENTPOORQ1KM16DAYNDVI=75, 10, 7, 3, 2, 1, 1, 0, 0, 0, 0, 0, 0, 0, 0, 1\r\n",
      "  QA_STRUCTURE_STYLE=C5 or later\r\n",
      "  RANGEBEGINNINGDATE=2018-01-01\r\n",
      "  RANGEBEGINNINGTIME=00:00:00\r\n",
      "  RANGEENDINGDATE=2018-01-16\r\n",
      "  RANGEENDINGTIME=23:59:59\r\n",
      "  REPROCESSINGACTUAL=reprocessed\r\n",
      "  REPROCESSINGPLANNED=further update is anticipated\r\n",
      "  SCIENCEQUALITYFLAG.1=Not Investigated\r\n",
      "  SCIENCEQUALITYFLAG.10=Not Investigated\r\n",
      "  SCIENCEQUALITYFLAG.11=Not Investigated\r\n",
      "  SCIENCEQUALITYFLAG.12=Not Investigated\r\n",
      "  SCIENCEQUALITYFLAG.2=Not Investigated\r\n",
      "  SCIENCEQUALITYFLAG.3=Not Investigated\r\n",
      "  SCIENCEQUALITYFLAG.4=Not Investigated\r\n",
      "  SCIENCEQUALITYFLAG.5=Not Investigated\r\n",
      "  SCIENCEQUALITYFLAG.6=Not Investigated\r\n",
      "  SCIENCEQUALITYFLAG.7=Not Investigated\r\n",
      "  SCIENCEQUALITYFLAG.8=Not Investigated\r\n",
      "  SCIENCEQUALITYFLAG.9=Not Investigated\r\n",
      "  SCIENCEQUALITYFLAGEXPLANATION.1=See http://landweb.nascom.nasa.gov/cgi-bin/QA_WWW/qaFlagPage.cgi?sat=terra for the product Science Quality status.\r\n",
      "  SCIENCEQUALITYFLAGEXPLANATION.10=See http://landweb.nascom.nasa.gov/cgi-bin/QA_WWW/qaFlagPage.cgi?sat=terra for the product Science Quality status.\r\n",
      "  SCIENCEQUALITYFLAGEXPLANATION.11=See http://landweb.nascom.nasa.gov/cgi-bin/QA_WWW/qaFlagPage.cgi?sat=terra for the product Science Quality status.\r\n",
      "  SCIENCEQUALITYFLAGEXPLANATION.12=See http://landweb.nascom.nasa.gov/cgi-bin/QA_WWW/qaFlagPage.cgi?sat=terra for the product Science Quality status.\r\n",
      "  SCIENCEQUALITYFLAGEXPLANATION.2=See http://landweb.nascom.nasa.gov/cgi-bin/QA_WWW/qaFlagPage.cgi?sat=terra for the product Science Quality status.\r\n",
      "  SCIENCEQUALITYFLAGEXPLANATION.3=See http://landweb.nascom.nasa.gov/cgi-bin/QA_WWW/qaFlagPage.cgi?sat=terra for the product Science Quality status.\r\n",
      "  SCIENCEQUALITYFLAGEXPLANATION.4=See http://landweb.nascom.nasa.gov/cgi-bin/QA_WWW/qaFlagPage.cgi?sat=terra for the product Science Quality status.\r\n",
      "  SCIENCEQUALITYFLAGEXPLANATION.5=See http://landweb.nascom.nasa.gov/cgi-bin/QA_WWW/qaFlagPage.cgi?sat=terra for the product Science Quality status.\r\n",
      "  SCIENCEQUALITYFLAGEXPLANATION.6=See http://landweb.nascom.nasa.gov/cgi-bin/QA_WWW/qaFlagPage.cgi?sat=terra for the product Science Quality status.\r\n",
      "  SCIENCEQUALITYFLAGEXPLANATION.7=See http://landweb.nascom.nasa.gov/cgi-bin/QA_WWW/qaFlagPage.cgi?sat=terra for the product Science Quality status.\r\n",
      "  SCIENCEQUALITYFLAGEXPLANATION.8=See http://landweb.nascom.nasa.gov/cgi-bin/QA_WWW/qaFlagPage.cgi?sat=terra for the product Science Quality status.\r\n",
      "  SCIENCEQUALITYFLAGEXPLANATION.9=See http://landweb.nascom.nasa.gov/cgi-bin/QA_WWW/qaFlagPage.cgi?sat=terra for the product Science Quality status.\r\n",
      "  SHORTNAME=MOD13A2\r\n",
      "  SOUTHBOUNDINGCOORDINATE=9.99999999910196\r\n",
      "  SPSOPARAMETERS=2749, 4334, 2749a, 4334a\r\n",
      "  TileID=51009007\r\n",
      "  VERSIONID=6\r\n",
      "  VERTICALTILENUMBER=07\r\n",
      "  WESTBOUNDINGCOORDINATE=-95.7759995131384\r\n",
      "Subdatasets:\r\n",
      "  SUBDATASET_1_NAME=HDF4_EOS:EOS_GRID:\"../../data/MOD13A2.006/MOD13A2.A2018001.h09v07.006.2018017223926.hdf\":MODIS_Grid_16DAY_1km_VI:1 km 16 days NDVI\r\n",
      "  SUBDATASET_1_DESC=[1200x1200] 1 km 16 days NDVI MODIS_Grid_16DAY_1km_VI (16-bit integer)\r\n",
      "  SUBDATASET_2_NAME=HDF4_EOS:EOS_GRID:\"../../data/MOD13A2.006/MOD13A2.A2018001.h09v07.006.2018017223926.hdf\":MODIS_Grid_16DAY_1km_VI:1 km 16 days EVI\r\n",
      "  SUBDATASET_2_DESC=[1200x1200] 1 km 16 days EVI MODIS_Grid_16DAY_1km_VI (16-bit integer)\r\n",
      "  SUBDATASET_3_NAME=HDF4_EOS:EOS_GRID:\"../../data/MOD13A2.006/MOD13A2.A2018001.h09v07.006.2018017223926.hdf\":MODIS_Grid_16DAY_1km_VI:1 km 16 days VI Quality\r\n",
      "  SUBDATASET_3_DESC=[1200x1200] 1 km 16 days VI Quality MODIS_Grid_16DAY_1km_VI (16-bit unsigned integer)\r\n",
      "  SUBDATASET_4_NAME=HDF4_EOS:EOS_GRID:\"../../data/MOD13A2.006/MOD13A2.A2018001.h09v07.006.2018017223926.hdf\":MODIS_Grid_16DAY_1km_VI:1 km 16 days red reflectance\r\n",
      "  SUBDATASET_4_DESC=[1200x1200] 1 km 16 days red reflectance MODIS_Grid_16DAY_1km_VI (16-bit integer)\r\n",
      "  SUBDATASET_5_NAME=HDF4_EOS:EOS_GRID:\"../../data/MOD13A2.006/MOD13A2.A2018001.h09v07.006.2018017223926.hdf\":MODIS_Grid_16DAY_1km_VI:1 km 16 days NIR reflectance\r\n",
      "  SUBDATASET_5_DESC=[1200x1200] 1 km 16 days NIR reflectance MODIS_Grid_16DAY_1km_VI (16-bit integer)\r\n",
      "  SUBDATASET_6_NAME=HDF4_EOS:EOS_GRID:\"../../data/MOD13A2.006/MOD13A2.A2018001.h09v07.006.2018017223926.hdf\":MODIS_Grid_16DAY_1km_VI:1 km 16 days blue reflectance\r\n",
      "  SUBDATASET_6_DESC=[1200x1200] 1 km 16 days blue reflectance MODIS_Grid_16DAY_1km_VI (16-bit integer)\r\n",
      "  SUBDATASET_7_NAME=HDF4_EOS:EOS_GRID:\"../../data/MOD13A2.006/MOD13A2.A2018001.h09v07.006.2018017223926.hdf\":MODIS_Grid_16DAY_1km_VI:1 km 16 days MIR reflectance\r\n",
      "  SUBDATASET_7_DESC=[1200x1200] 1 km 16 days MIR reflectance MODIS_Grid_16DAY_1km_VI (16-bit integer)\r\n",
      "  SUBDATASET_8_NAME=HDF4_EOS:EOS_GRID:\"../../data/MOD13A2.006/MOD13A2.A2018001.h09v07.006.2018017223926.hdf\":MODIS_Grid_16DAY_1km_VI:1 km 16 days view zenith angle\r\n",
      "  SUBDATASET_8_DESC=[1200x1200] 1 km 16 days view zenith angle MODIS_Grid_16DAY_1km_VI (16-bit integer)\r\n",
      "  SUBDATASET_9_NAME=HDF4_EOS:EOS_GRID:\"../../data/MOD13A2.006/MOD13A2.A2018001.h09v07.006.2018017223926.hdf\":MODIS_Grid_16DAY_1km_VI:1 km 16 days sun zenith angle\r\n",
      "  SUBDATASET_9_DESC=[1200x1200] 1 km 16 days sun zenith angle MODIS_Grid_16DAY_1km_VI (16-bit integer)\r\n",
      "  SUBDATASET_10_NAME=HDF4_EOS:EOS_GRID:\"../../data/MOD13A2.006/MOD13A2.A2018001.h09v07.006.2018017223926.hdf\":MODIS_Grid_16DAY_1km_VI:1 km 16 days relative azimuth angle\r\n",
      "  SUBDATASET_10_DESC=[1200x1200] 1 km 16 days relative azimuth angle MODIS_Grid_16DAY_1km_VI (16-bit integer)\r\n",
      "  SUBDATASET_11_NAME=HDF4_EOS:EOS_GRID:\"../../data/MOD13A2.006/MOD13A2.A2018001.h09v07.006.2018017223926.hdf\":MODIS_Grid_16DAY_1km_VI:1 km 16 days composite day of the year\r\n",
      "  SUBDATASET_11_DESC=[1200x1200] 1 km 16 days composite day of the year MODIS_Grid_16DAY_1km_VI (16-bit integer)\r\n",
      "  SUBDATASET_12_NAME=HDF4_EOS:EOS_GRID:\"../../data/MOD13A2.006/MOD13A2.A2018001.h09v07.006.2018017223926.hdf\":MODIS_Grid_16DAY_1km_VI:1 km 16 days pixel reliability\r\n",
      "  SUBDATASET_12_DESC=[1200x1200] 1 km 16 days pixel reliability MODIS_Grid_16DAY_1km_VI (8-bit integer)\r\n",
      "Corner Coordinates:\r\n",
      "Upper Left  (    0.0,    0.0)\r\n",
      "Lower Left  (    0.0,  512.0)\r\n",
      "Upper Right (  512.0,    0.0)\r\n",
      "Lower Right (  512.0,  512.0)\r\n",
      "Center      (  256.0,  256.0)\r\n"
     ]
    }
   ],
   "source": [
    "# Which subdatasets we want to trasnlate\n",
    "!gdalinfo ../../data/MOD13A2.006/MOD13A2.A2018001.h09v07.006.2018017223926.hdf"
   ]
  },
  {
   "cell_type": "code",
   "execution_count": 9,
   "metadata": {
    "ExecuteTime": {
     "end_time": "2019-07-15T17:58:31.769558Z",
     "start_time": "2019-07-15T17:58:28.828062Z"
    },
    "scrolled": true
   },
   "outputs": [
    {
     "name": "stderr",
     "output_type": "stream",
     "text": [
      "INFO:TATSSI.input_output.translate:Converting file HDF4_EOS:EOS_GRID:\"../../data/MOD13A2.006/MOD13A2.A2018001.h09v07.006.2018017223926.hdf\":MODIS_Grid_16DAY_1km_VI:1 km 16 days EVI...\n",
      "INFO:TATSSI.input_output.translate:File /home/series_tiempo/Projects/TATSSI/data/MOD13A2.006/MOD13A2.A2018001.h09v07.006.2018017223926.EVI.tif saved\n",
      "INFO:TATSSI.input_output.translate:Converting file HDF4_EOS:EOS_GRID:\"../../data/MOD13A2.006/MOD13A2.A2018017.h09v07.006.2018033223052.hdf\":MODIS_Grid_16DAY_1km_VI:1 km 16 days EVI...\n",
      "INFO:TATSSI.input_output.translate:File /home/series_tiempo/Projects/TATSSI/data/MOD13A2.006/MOD13A2.A2018017.h09v07.006.2018033223052.EVI.tif saved\n",
      "INFO:TATSSI.input_output.translate:Converting file HDF4_EOS:EOS_GRID:\"../../data/MOD13A2.006/MOD13A2.A2018033.h09v07.006.2018049222149.hdf\":MODIS_Grid_16DAY_1km_VI:1 km 16 days EVI...\n",
      "INFO:TATSSI.input_output.translate:File /home/series_tiempo/Projects/TATSSI/data/MOD13A2.006/MOD13A2.A2018033.h09v07.006.2018049222149.EVI.tif saved\n",
      "INFO:TATSSI.input_output.translate:Converting file HDF4_EOS:EOS_GRID:\"../../data/MOD13A2.006/MOD13A2.A2018049.h09v07.006.2018066164949.hdf\":MODIS_Grid_16DAY_1km_VI:1 km 16 days EVI...\n",
      "INFO:TATSSI.input_output.translate:File /home/series_tiempo/Projects/TATSSI/data/MOD13A2.006/MOD13A2.A2018049.h09v07.006.2018066164949.EVI.tif saved\n",
      "INFO:TATSSI.input_output.translate:Converting file HDF4_EOS:EOS_GRID:\"../../data/MOD13A2.006/MOD13A2.A2018065.h09v07.006.2018082151520.hdf\":MODIS_Grid_16DAY_1km_VI:1 km 16 days EVI...\n",
      "INFO:TATSSI.input_output.translate:File /home/series_tiempo/Projects/TATSSI/data/MOD13A2.006/MOD13A2.A2018065.h09v07.006.2018082151520.EVI.tif saved\n",
      "INFO:TATSSI.input_output.translate:Converting file HDF4_EOS:EOS_GRID:\"../../data/MOD13A2.006/MOD13A2.A2018081.h09v07.006.2018097233609.hdf\":MODIS_Grid_16DAY_1km_VI:1 km 16 days EVI...\n",
      "INFO:TATSSI.input_output.translate:File /home/series_tiempo/Projects/TATSSI/data/MOD13A2.006/MOD13A2.A2018081.h09v07.006.2018097233609.EVI.tif saved\n",
      "INFO:TATSSI.input_output.translate:Converting file HDF4_EOS:EOS_GRID:\"../../data/MOD13A2.006/MOD13A2.A2018097.h09v07.006.2018113233614.hdf\":MODIS_Grid_16DAY_1km_VI:1 km 16 days EVI...\n",
      "INFO:TATSSI.input_output.translate:File /home/series_tiempo/Projects/TATSSI/data/MOD13A2.006/MOD13A2.A2018097.h09v07.006.2018113233614.EVI.tif saved\n",
      "INFO:TATSSI.input_output.translate:Converting file HDF4_EOS:EOS_GRID:\"../../data/MOD13A2.006/MOD13A2.A2018113.h09v07.006.2018129234546.hdf\":MODIS_Grid_16DAY_1km_VI:1 km 16 days EVI...\n",
      "INFO:TATSSI.input_output.translate:File /home/series_tiempo/Projects/TATSSI/data/MOD13A2.006/MOD13A2.A2018113.h09v07.006.2018129234546.EVI.tif saved\n",
      "INFO:TATSSI.input_output.translate:Converting file HDF4_EOS:EOS_GRID:\"../../data/MOD13A2.006/MOD13A2.A2018129.h09v07.006.2018151110052.hdf\":MODIS_Grid_16DAY_1km_VI:1 km 16 days EVI...\n",
      "INFO:TATSSI.input_output.translate:File /home/series_tiempo/Projects/TATSSI/data/MOD13A2.006/MOD13A2.A2018129.h09v07.006.2018151110052.EVI.tif saved\n",
      "INFO:TATSSI.input_output.translate:Converting file HDF4_EOS:EOS_GRID:\"../../data/MOD13A2.006/MOD13A2.A2018145.h09v07.006.2018162000027.hdf\":MODIS_Grid_16DAY_1km_VI:1 km 16 days EVI...\n",
      "INFO:TATSSI.input_output.translate:File /home/series_tiempo/Projects/TATSSI/data/MOD13A2.006/MOD13A2.A2018145.h09v07.006.2018162000027.EVI.tif saved\n",
      "INFO:TATSSI.input_output.translate:Converting file HDF4_EOS:EOS_GRID:\"../../data/MOD13A2.006/MOD13A2.A2018161.h09v07.006.2018177234950.hdf\":MODIS_Grid_16DAY_1km_VI:1 km 16 days EVI...\n",
      "INFO:TATSSI.input_output.translate:File /home/series_tiempo/Projects/TATSSI/data/MOD13A2.006/MOD13A2.A2018161.h09v07.006.2018177234950.EVI.tif saved\n",
      "INFO:TATSSI.input_output.translate:Converting file HDF4_EOS:EOS_GRID:\"../../data/MOD13A2.006/MOD13A2.A2018177.h09v07.006.2018197102729.hdf\":MODIS_Grid_16DAY_1km_VI:1 km 16 days EVI...\n",
      "INFO:TATSSI.input_output.translate:File /home/series_tiempo/Projects/TATSSI/data/MOD13A2.006/MOD13A2.A2018177.h09v07.006.2018197102729.EVI.tif saved\n",
      "INFO:TATSSI.input_output.translate:Converting file HDF4_EOS:EOS_GRID:\"../../data/MOD13A2.006/MOD13A2.A2018193.h09v07.006.2018210001023.hdf\":MODIS_Grid_16DAY_1km_VI:1 km 16 days EVI...\n",
      "INFO:TATSSI.input_output.translate:File /home/series_tiempo/Projects/TATSSI/data/MOD13A2.006/MOD13A2.A2018193.h09v07.006.2018210001023.EVI.tif saved\n",
      "INFO:TATSSI.input_output.translate:Converting file HDF4_EOS:EOS_GRID:\"../../data/MOD13A2.006/MOD13A2.A2018209.h09v07.006.2018227125009.hdf\":MODIS_Grid_16DAY_1km_VI:1 km 16 days EVI...\n",
      "INFO:TATSSI.input_output.translate:File /home/series_tiempo/Projects/TATSSI/data/MOD13A2.006/MOD13A2.A2018209.h09v07.006.2018227125009.EVI.tif saved\n",
      "INFO:TATSSI.input_output.translate:Converting file HDF4_EOS:EOS_GRID:\"../../data/MOD13A2.006/MOD13A2.A2018225.h09v07.006.2018241235405.hdf\":MODIS_Grid_16DAY_1km_VI:1 km 16 days EVI...\n",
      "INFO:TATSSI.input_output.translate:File /home/series_tiempo/Projects/TATSSI/data/MOD13A2.006/MOD13A2.A2018225.h09v07.006.2018241235405.EVI.tif saved\n",
      "INFO:TATSSI.input_output.translate:Converting file HDF4_EOS:EOS_GRID:\"../../data/MOD13A2.006/MOD13A2.A2018241.h09v07.006.2018257234352.hdf\":MODIS_Grid_16DAY_1km_VI:1 km 16 days EVI...\n",
      "INFO:TATSSI.input_output.translate:File /home/series_tiempo/Projects/TATSSI/data/MOD13A2.006/MOD13A2.A2018241.h09v07.006.2018257234352.EVI.tif saved\n",
      "INFO:TATSSI.input_output.translate:Converting file HDF4_EOS:EOS_GRID:\"../../data/MOD13A2.006/MOD13A2.A2018257.h09v07.006.2018282125524.hdf\":MODIS_Grid_16DAY_1km_VI:1 km 16 days EVI...\n",
      "INFO:TATSSI.input_output.translate:File /home/series_tiempo/Projects/TATSSI/data/MOD13A2.006/MOD13A2.A2018257.h09v07.006.2018282125524.EVI.tif saved\n",
      "INFO:TATSSI.input_output.translate:Converting file HDF4_EOS:EOS_GRID:\"../../data/MOD13A2.006/MOD13A2.A2018273.h09v07.006.2018295105556.hdf\":MODIS_Grid_16DAY_1km_VI:1 km 16 days EVI...\n",
      "INFO:TATSSI.input_output.translate:File /home/series_tiempo/Projects/TATSSI/data/MOD13A2.006/MOD13A2.A2018273.h09v07.006.2018295105556.EVI.tif saved\n",
      "INFO:TATSSI.input_output.translate:Converting file HDF4_EOS:EOS_GRID:\"../../data/MOD13A2.006/MOD13A2.A2018289.h09v07.006.2018313115811.hdf\":MODIS_Grid_16DAY_1km_VI:1 km 16 days EVI...\n",
      "INFO:TATSSI.input_output.translate:File /home/series_tiempo/Projects/TATSSI/data/MOD13A2.006/MOD13A2.A2018289.h09v07.006.2018313115811.EVI.tif saved\n",
      "INFO:TATSSI.input_output.translate:Converting file HDF4_EOS:EOS_GRID:\"../../data/MOD13A2.006/MOD13A2.A2018305.h09v07.006.2018321224427.hdf\":MODIS_Grid_16DAY_1km_VI:1 km 16 days EVI...\n",
      "INFO:TATSSI.input_output.translate:File /home/series_tiempo/Projects/TATSSI/data/MOD13A2.006/MOD13A2.A2018305.h09v07.006.2018321224427.EVI.tif saved\n",
      "INFO:TATSSI.input_output.translate:Converting file HDF4_EOS:EOS_GRID:\"../../data/MOD13A2.006/MOD13A2.A2018321.h09v07.006.2018338084059.hdf\":MODIS_Grid_16DAY_1km_VI:1 km 16 days EVI...\n",
      "INFO:TATSSI.input_output.translate:File /home/series_tiempo/Projects/TATSSI/data/MOD13A2.006/MOD13A2.A2018321.h09v07.006.2018338084059.EVI.tif saved\n",
      "INFO:TATSSI.input_output.translate:Converting file HDF4_EOS:EOS_GRID:\"../../data/MOD13A2.006/MOD13A2.A2018337.h09v07.006.2018365153541.hdf\":MODIS_Grid_16DAY_1km_VI:1 km 16 days EVI...\n",
      "INFO:TATSSI.input_output.translate:File /home/series_tiempo/Projects/TATSSI/data/MOD13A2.006/MOD13A2.A2018337.h09v07.006.2018365153541.EVI.tif saved\n",
      "INFO:TATSSI.input_output.translate:Converting file HDF4_EOS:EOS_GRID:\"../../data/MOD13A2.006/MOD13A2.A2018353.h09v07.006.2019032133252.hdf\":MODIS_Grid_16DAY_1km_VI:1 km 16 days EVI...\n",
      "INFO:TATSSI.input_output.translate:File /home/series_tiempo/Projects/TATSSI/data/MOD13A2.006/MOD13A2.A2018353.h09v07.006.2019032133252.EVI.tif saved\n"
     ]
    }
   ],
   "source": [
    "# Set data directory\n",
    "DataDir = \"../../data/MOD13A2.006/\"\n",
    "# Get all HDF files\n",
    "fnames = os.path.join(DataDir, '*.hdf')\n",
    "fnames = glob(fnames)\n",
    "# Sort them\n",
    "fnames.sort()\n",
    "\n",
    "for fname in fnames:\n",
    "    # Get EVI QA SubDataset -- SD index 1\n",
    "    sds = get_subdatasets(fname)\n",
    "    vi_qa_sds = sds[1][0]\n",
    "    \n",
    "    # Set output file\n",
    "    directory_name = os.path.dirname(os.path.abspath(fname))\n",
    "    output_fname = os.path.join(directory_name,\n",
    "                                os.path.basename(fname)[:-3] + 'EVI.tif')\n",
    "    \n",
    "    # Extract to a GeoTiff file\n",
    "    Translate(vi_qa_sds, output_fname, 'GTiff')"
   ]
  },
  {
   "cell_type": "code",
   "execution_count": 10,
   "metadata": {
    "ExecuteTime": {
     "end_time": "2019-07-15T17:58:35.106863Z",
     "start_time": "2019-07-15T17:58:34.984304Z"
    }
   },
   "outputs": [
    {
     "name": "stdout",
     "output_type": "stream",
     "text": [
      "../../data/MOD13A2.006/MOD13A2.A2018001.h09v07.006.2018017223926.EVI.tif\r\n",
      "../../data/MOD13A2.006/MOD13A2.A2018017.h09v07.006.2018033223052.EVI.tif\r\n",
      "../../data/MOD13A2.006/MOD13A2.A2018033.h09v07.006.2018049222149.EVI.tif\r\n",
      "../../data/MOD13A2.006/MOD13A2.A2018049.h09v07.006.2018066164949.EVI.tif\r\n",
      "../../data/MOD13A2.006/MOD13A2.A2018065.h09v07.006.2018082151520.EVI.tif\r\n",
      "../../data/MOD13A2.006/MOD13A2.A2018081.h09v07.006.2018097233609.EVI.tif\r\n",
      "../../data/MOD13A2.006/MOD13A2.A2018097.h09v07.006.2018113233614.EVI.tif\r\n",
      "../../data/MOD13A2.006/MOD13A2.A2018113.h09v07.006.2018129234546.EVI.tif\r\n",
      "../../data/MOD13A2.006/MOD13A2.A2018129.h09v07.006.2018151110052.EVI.tif\r\n",
      "../../data/MOD13A2.006/MOD13A2.A2018145.h09v07.006.2018162000027.EVI.tif\r\n",
      "../../data/MOD13A2.006/MOD13A2.A2018161.h09v07.006.2018177234950.EVI.tif\r\n",
      "../../data/MOD13A2.006/MOD13A2.A2018177.h09v07.006.2018197102729.EVI.tif\r\n",
      "../../data/MOD13A2.006/MOD13A2.A2018193.h09v07.006.2018210001023.EVI.tif\r\n",
      "../../data/MOD13A2.006/MOD13A2.A2018209.h09v07.006.2018227125009.EVI.tif\r\n",
      "../../data/MOD13A2.006/MOD13A2.A2018225.h09v07.006.2018241235405.EVI.tif\r\n",
      "../../data/MOD13A2.006/MOD13A2.A2018241.h09v07.006.2018257234352.EVI.tif\r\n",
      "../../data/MOD13A2.006/MOD13A2.A2018257.h09v07.006.2018282125524.EVI.tif\r\n",
      "../../data/MOD13A2.006/MOD13A2.A2018273.h09v07.006.2018295105556.EVI.tif\r\n",
      "../../data/MOD13A2.006/MOD13A2.A2018289.h09v07.006.2018313115811.EVI.tif\r\n",
      "../../data/MOD13A2.006/MOD13A2.A2018305.h09v07.006.2018321224427.EVI.tif\r\n",
      "../../data/MOD13A2.006/MOD13A2.A2018321.h09v07.006.2018338084059.EVI.tif\r\n",
      "../../data/MOD13A2.006/MOD13A2.A2018337.h09v07.006.2018365153541.EVI.tif\r\n",
      "../../data/MOD13A2.006/MOD13A2.A2018353.h09v07.006.2019032133252.EVI.tif\r\n"
     ]
    }
   ],
   "source": [
    "# Check created files\n",
    "!ls ../../data/MOD13A2.006/*EVI.tif"
   ]
  },
  {
   "cell_type": "markdown",
   "metadata": {},
   "source": [
    "## EX1 Translate a HDF SubDataset (blue reflectance) into an ENVI file\n",
    "\n",
    "* Input file: ../../data/MOD13A2.006/MOD13A2.A2018001.h09v07.006.2018017223926.hdf\n",
    "* Output format: ENVI"
   ]
  },
  {
   "cell_type": "code",
   "execution_count": null,
   "metadata": {},
   "outputs": [],
   "source": []
  }
 ],
 "metadata": {
  "kernelspec": {
   "display_name": "Python 3",
   "language": "python",
   "name": "python3"
  },
  "language_info": {
   "codemirror_mode": {
    "name": "ipython",
    "version": 3
   },
   "file_extension": ".py",
   "mimetype": "text/x-python",
   "name": "python",
   "nbconvert_exporter": "python",
   "pygments_lexer": "ipython3",
   "version": "3.6.4"
  },
  "toc": {
   "base_numbering": 1,
   "nav_menu": {},
   "number_sections": false,
   "sideBar": false,
   "skip_h1_title": false,
   "title_cell": "Table of Contents",
   "title_sidebar": "Contents",
   "toc_cell": false,
   "toc_position": {},
   "toc_section_display": false,
   "toc_window_display": false
  },
  "widgets": {
   "application/vnd.jupyter.widget-state+json": {
    "state": {
     "024ac68797544e01804103ae57f57891": {
      "model_module": "@jupyter-widgets/base",
      "model_module_version": "1.1.0",
      "model_name": "LayoutModel",
      "state": {
       "width": "100%"
      }
     },
     "03f7182107d64c38953b08e0206d7d61": {
      "model_module": "@jupyter-widgets/controls",
      "model_module_version": "1.4.0",
      "model_name": "ButtonModel",
      "state": {
       "description": "Select input file",
       "layout": "IPY_MODEL_9f26c7d3348a4571a0db39a95c33c27b",
       "style": "IPY_MODEL_dc98cfb877b346d2904b36c3b66de9e9",
       "tooltip": "Select file or dataset to be imported."
      }
     },
     "05204c65aaa94d3e8797cd72adf92333": {
      "model_module": "@jupyter-widgets/base",
      "model_module_version": "1.1.0",
      "model_name": "LayoutModel",
      "state": {
       "width": "100%"
      }
     },
     "06b96627537a45159bc4ddeee4441411": {
      "model_module": "@jupyter-widgets/controls",
      "model_module_version": "1.4.0",
      "model_name": "DropdownModel",
      "state": {
       "_options_labels": [
        "HDF4_EOS:EOS_GRID:\"../../data/MOD13A2.006/MOD13A2.A2018001.h09v07.006.2018017223926.hdf\":MODIS_Grid_16DAY_1km_VI:1 km 16 days NDVI",
        "HDF4_EOS:EOS_GRID:\"../../data/MOD13A2.006/MOD13A2.A2018001.h09v07.006.2018017223926.hdf\":MODIS_Grid_16DAY_1km_VI:1 km 16 days EVI",
        "HDF4_EOS:EOS_GRID:\"../../data/MOD13A2.006/MOD13A2.A2018001.h09v07.006.2018017223926.hdf\":MODIS_Grid_16DAY_1km_VI:1 km 16 days VI Quality",
        "HDF4_EOS:EOS_GRID:\"../../data/MOD13A2.006/MOD13A2.A2018001.h09v07.006.2018017223926.hdf\":MODIS_Grid_16DAY_1km_VI:1 km 16 days red reflectance",
        "HDF4_EOS:EOS_GRID:\"../../data/MOD13A2.006/MOD13A2.A2018001.h09v07.006.2018017223926.hdf\":MODIS_Grid_16DAY_1km_VI:1 km 16 days NIR reflectance",
        "HDF4_EOS:EOS_GRID:\"../../data/MOD13A2.006/MOD13A2.A2018001.h09v07.006.2018017223926.hdf\":MODIS_Grid_16DAY_1km_VI:1 km 16 days blue reflectance",
        "HDF4_EOS:EOS_GRID:\"../../data/MOD13A2.006/MOD13A2.A2018001.h09v07.006.2018017223926.hdf\":MODIS_Grid_16DAY_1km_VI:1 km 16 days MIR reflectance",
        "HDF4_EOS:EOS_GRID:\"../../data/MOD13A2.006/MOD13A2.A2018001.h09v07.006.2018017223926.hdf\":MODIS_Grid_16DAY_1km_VI:1 km 16 days view zenith angle",
        "HDF4_EOS:EOS_GRID:\"../../data/MOD13A2.006/MOD13A2.A2018001.h09v07.006.2018017223926.hdf\":MODIS_Grid_16DAY_1km_VI:1 km 16 days sun zenith angle",
        "HDF4_EOS:EOS_GRID:\"../../data/MOD13A2.006/MOD13A2.A2018001.h09v07.006.2018017223926.hdf\":MODIS_Grid_16DAY_1km_VI:1 km 16 days relative azimuth angle",
        "HDF4_EOS:EOS_GRID:\"../../data/MOD13A2.006/MOD13A2.A2018001.h09v07.006.2018017223926.hdf\":MODIS_Grid_16DAY_1km_VI:1 km 16 days composite day of the year",
        "HDF4_EOS:EOS_GRID:\"../../data/MOD13A2.006/MOD13A2.A2018001.h09v07.006.2018017223926.hdf\":MODIS_Grid_16DAY_1km_VI:1 km 16 days pixel reliability"
       ],
       "description": "SubDataset",
       "index": 0,
       "layout": "IPY_MODEL_64c358337538416db9908b3f5322de09",
       "style": "IPY_MODEL_69a32a53475445e190a09f42eb236d81"
      }
     },
     "07efe91e3f6541baae3185fa63a92b24": {
      "model_module": "@jupyter-widgets/controls",
      "model_module_version": "1.4.0",
      "model_name": "DescriptionStyleModel",
      "state": {
       "description_width": ""
      }
     },
     "08e0dfd5e2b84975b4e0fc4196d4bef8": {
      "model_module": "@jupyter-widgets/controls",
      "model_module_version": "1.4.0",
      "model_name": "DropdownModel",
      "state": {
       "_options_labels": [
        "HDF4_EOS:EOS_GRID:\"/home/glopez/Projects/TATSSI/data/MOD13A2.006/MOD13A2.A2018289.h09v07.006.2018313115811.hdf\":MODIS_Grid_16DAY_1km_VI:1 km 16 days NDVI",
        "HDF4_EOS:EOS_GRID:\"/home/glopez/Projects/TATSSI/data/MOD13A2.006/MOD13A2.A2018289.h09v07.006.2018313115811.hdf\":MODIS_Grid_16DAY_1km_VI:1 km 16 days EVI",
        "HDF4_EOS:EOS_GRID:\"/home/glopez/Projects/TATSSI/data/MOD13A2.006/MOD13A2.A2018289.h09v07.006.2018313115811.hdf\":MODIS_Grid_16DAY_1km_VI:1 km 16 days VI Quality",
        "HDF4_EOS:EOS_GRID:\"/home/glopez/Projects/TATSSI/data/MOD13A2.006/MOD13A2.A2018289.h09v07.006.2018313115811.hdf\":MODIS_Grid_16DAY_1km_VI:1 km 16 days red reflectance",
        "HDF4_EOS:EOS_GRID:\"/home/glopez/Projects/TATSSI/data/MOD13A2.006/MOD13A2.A2018289.h09v07.006.2018313115811.hdf\":MODIS_Grid_16DAY_1km_VI:1 km 16 days NIR reflectance",
        "HDF4_EOS:EOS_GRID:\"/home/glopez/Projects/TATSSI/data/MOD13A2.006/MOD13A2.A2018289.h09v07.006.2018313115811.hdf\":MODIS_Grid_16DAY_1km_VI:1 km 16 days blue reflectance",
        "HDF4_EOS:EOS_GRID:\"/home/glopez/Projects/TATSSI/data/MOD13A2.006/MOD13A2.A2018289.h09v07.006.2018313115811.hdf\":MODIS_Grid_16DAY_1km_VI:1 km 16 days MIR reflectance",
        "HDF4_EOS:EOS_GRID:\"/home/glopez/Projects/TATSSI/data/MOD13A2.006/MOD13A2.A2018289.h09v07.006.2018313115811.hdf\":MODIS_Grid_16DAY_1km_VI:1 km 16 days view zenith angle",
        "HDF4_EOS:EOS_GRID:\"/home/glopez/Projects/TATSSI/data/MOD13A2.006/MOD13A2.A2018289.h09v07.006.2018313115811.hdf\":MODIS_Grid_16DAY_1km_VI:1 km 16 days sun zenith angle",
        "HDF4_EOS:EOS_GRID:\"/home/glopez/Projects/TATSSI/data/MOD13A2.006/MOD13A2.A2018289.h09v07.006.2018313115811.hdf\":MODIS_Grid_16DAY_1km_VI:1 km 16 days relative azimuth angle",
        "HDF4_EOS:EOS_GRID:\"/home/glopez/Projects/TATSSI/data/MOD13A2.006/MOD13A2.A2018289.h09v07.006.2018313115811.hdf\":MODIS_Grid_16DAY_1km_VI:1 km 16 days composite day of the year",
        "HDF4_EOS:EOS_GRID:\"/home/glopez/Projects/TATSSI/data/MOD13A2.006/MOD13A2.A2018289.h09v07.006.2018313115811.hdf\":MODIS_Grid_16DAY_1km_VI:1 km 16 days pixel reliability"
       ],
       "description": "SubDataset",
       "index": 0,
       "layout": "IPY_MODEL_024ac68797544e01804103ae57f57891",
       "style": "IPY_MODEL_b5b52f4375f94c768dd25cb017b4be50"
      }
     },
     "0c8b84635d57488fb72b2de7987addc4": {
      "model_module": "@jupyter-widgets/base",
      "model_module_version": "1.1.0",
      "model_name": "LayoutModel",
      "state": {}
     },
     "109ddff880354261b84ff699fd09382b": {
      "model_module": "@jupyter-widgets/base",
      "model_module_version": "1.1.0",
      "model_name": "LayoutModel",
      "state": {}
     },
     "10b271fba0a14f958a4d967462d73c1e": {
      "model_module": "@jupyter-widgets/base",
      "model_module_version": "1.1.0",
      "model_name": "LayoutModel",
      "state": {
       "width": "100%"
      }
     },
     "10d66b5e3ecf471d8361336583ddf194": {
      "model_module": "@jupyter-widgets/controls",
      "model_module_version": "1.4.0",
      "model_name": "ButtonModel",
      "state": {
       "description": "Select input file",
       "layout": "IPY_MODEL_6c15441543424e9f9aa0e1686f7623a2",
       "style": "IPY_MODEL_f55a699845c84792a6d9386e860a5ef4",
       "tooltip": "Select file or dataset to be imported."
      }
     },
     "10decae1827a4bebaceb880a67bfd5e3": {
      "model_module": "@jupyter-widgets/base",
      "model_module_version": "1.1.0",
      "model_name": "LayoutModel",
      "state": {}
     },
     "10f1875c5c9543abaab87091e89fb811": {
      "model_module": "@jupyter-widgets/controls",
      "model_module_version": "1.4.0",
      "model_name": "DescriptionStyleModel",
      "state": {
       "description_width": ""
      }
     },
     "12f1ee986e1c4ab9bdf713f8eee2e95d": {
      "model_module": "@jupyter-widgets/controls",
      "model_module_version": "1.4.0",
      "model_name": "ButtonStyleModel",
      "state": {}
     },
     "20f0cedff7574429a54497fc5d1c5637": {
      "model_module": "@jupyter-widgets/controls",
      "model_module_version": "1.4.0",
      "model_name": "ButtonModel",
      "state": {
       "description": "Select input file",
       "layout": "IPY_MODEL_7fad81fe3cea4290b068705cbc651278",
       "style": "IPY_MODEL_55dcf8124a56461fbca0707fea976e8a",
       "tooltip": "Select file or dataset to be imported."
      }
     },
     "2248720da31f4317b6fc4a433e4766c6": {
      "model_module": "@jupyter-widgets/controls",
      "model_module_version": "1.4.0",
      "model_name": "ButtonStyleModel",
      "state": {}
     },
     "233dccaa4ce742f09fb03e88f169607c": {
      "model_module": "@jupyter-widgets/controls",
      "model_module_version": "1.4.0",
      "model_name": "ButtonModel",
      "state": {
       "description": "Select output file",
       "layout": "IPY_MODEL_81f838af61e84210a9ad0582772549eb",
       "style": "IPY_MODEL_47fd7a71b25d458882059fd2ec665849",
       "tooltip": "Select output file name and location"
      }
     },
     "24854836f08047ea95ba7d092ad97689": {
      "model_module": "@jupyter-widgets/controls",
      "model_module_version": "1.4.0",
      "model_name": "DescriptionStyleModel",
      "state": {
       "description_width": ""
      }
     },
     "257f5c4c0c6c4823bf165963ab0b1537": {
      "model_module": "@jupyter-widgets/controls",
      "model_module_version": "1.4.0",
      "model_name": "DescriptionStyleModel",
      "state": {
       "description_width": ""
      }
     },
     "28a3cbec3bff47f4b414d01785dd4ede": {
      "model_module": "@jupyter-widgets/base",
      "model_module_version": "1.1.0",
      "model_name": "LayoutModel",
      "state": {
       "width": "100%"
      }
     },
     "2bb607ee13ad46069479d935991c41a9": {
      "model_module": "@jupyter-widgets/base",
      "model_module_version": "1.1.0",
      "model_name": "LayoutModel",
      "state": {}
     },
     "2fcae81e66f647368605bd691ca87d47": {
      "model_module": "@jupyter-widgets/base",
      "model_module_version": "1.1.0",
      "model_name": "LayoutModel",
      "state": {
       "width": "100%"
      }
     },
     "35964fcea325411ebf35f7d004cf8f34": {
      "model_module": "@jupyter-widgets/base",
      "model_module_version": "1.1.0",
      "model_name": "LayoutModel",
      "state": {
       "width": "100%"
      }
     },
     "388ec52afea643dd8bc427043636c066": {
      "model_module": "@jupyter-widgets/controls",
      "model_module_version": "1.4.0",
      "model_name": "DescriptionStyleModel",
      "state": {
       "description_width": ""
      }
     },
     "398328c955854ac883994388a227615b": {
      "model_module": "@jupyter-widgets/controls",
      "model_module_version": "1.4.0",
      "model_name": "DescriptionStyleModel",
      "state": {
       "description_width": ""
      }
     },
     "3a32b2bebd9a4f508d577dc3558b677b": {
      "model_module": "@jupyter-widgets/controls",
      "model_module_version": "1.4.0",
      "model_name": "DropdownModel",
      "state": {
       "_options_labels": [
        "ACE2 | ACE2 | ACE2",
        "ARC Digitized Raster Graphics | ADRG | gen",
        "ASCII Gridded XYZ | XYZ | xyz",
        "Arc/Info ASCII Grid | AAIGrid | asc",
        "Arc/Info E00 (ASCII) Coverage | AVCE00 | e00",
        "Arc/Info Export E00 GRID | E00GRID | e00",
        "Atlas BNA | BNA | bna",
        "AutoCAD DXF | DXF | dxf",
        "AutoCAD Driver | CAD | dwg",
        "Comma Separated Value (.csv) | CSV | csv",
        "Czech Cadastral Exchange Data Format | VFK | vfk",
        "DRDC COASP SAR Processor Raster | COASP | hdr",
        "ECRG TOC format | ECRGTOC | xml",
        "ENVI .hdr Labelled | ENVI | ",
        "EPIInfo .REC  | REC | rec",
        "ESRI FileGDB | OpenFileGDB | gdb",
        "ESRI Shapefile | ESRI Shapefile | shp",
        "EUMETSAT Archive native (.nat) | MSGN | nat",
        "Envisat Image Format | ESAT | n1",
        "Erdas Imagine Images (.img) | HFA | img",
        "FARSITE v.4 Landscape File (.lcp) | LCP | lcp",
        "FIT Image | FIT | ",
        "French EDIGEO exchange format | EDIGEO | thf",
        "GMT ASCII Vectors (.gmt) | OGR_GMT | gmt",
        "GMT NetCDF Grid Format | GMT | nc",
        "GPX | GPX | gpx",
        "GRIdded Binary (.grb) | GRIB | grb",
        "GeoPackage | GPKG | gpkg",
        "GeoSoft Grid Exchange Format | GXF | gxf",
        "GeoTIFF | GTiff | tif",
        "Geography Markup Language (GML) | GML | gml",
        "Geospatial PDF | PDF | pdf",
        "Golden Software 7 Binary Grid (.grd) | GS7BG | grd",
        "Golden Software ASCII Grid (.grd) | GSAG | grd",
        "Golden Software Binary Grid (.grd) | GSBG | grd",
        "Graphics Interchange Format (.gif) | BIGGIF | gif",
        "Graphics Interchange Format (.gif) | GIF | gif",
        "Ground-based SAR Applications Testbed File Format (.gff) | GFF | gff",
        "HF2/HFZ heightfield raster | HF2 | hf2",
        "Hierarchical Data Format Release 4 | HDF4 | hdf",
        "Hierarchical Data Format Release 5 | HDF5 | hdf5",
        "IHO S-57 (ENC) | S57 | 000",
        "ILWIS Raster Map | ILWIS | mpr/mpl",
        "IRIS data (.PPI, .CAPPi etc) | IRIS | ppi",
        "Idrisi Raster A.1 | RST | rst",
        "Idrisi Vector (.vct) | Idrisi | vct",
        "JPEG JFIF | JPEG | jpg",
        "JPEG-2000 driver based on OpenJPEG library | JP2OpenJPEG | jp2",
        "Japanese DEM (.mem) | JDEM | mem",
        "KEA Image Format (.kea) | KEA | kea",
        "KOLOR Raw | KRO | kro",
        "Keyhole Markup Language (KML) | KML | kml",
        "Leveller heightfield | Leveller | ter",
        "MBTiles | MBTiles | mbtiles",
        "MS Excel format | XLS | xls",
        "MS Office Open XML spreadsheet | XLSX | xlsx",
        "MS Windows Device Independent Bitmap | BMP | bmp",
        "Magellan topo (.blx) | BLX | blx",
        "Microstation DGN | DGN | dgn",
        "NAS - ALKIS | NAS | xml",
        "NOAA NGS Geoid Height Grids | NGSGEOID | bin",
        "NOAA Vertical Datum .GTX | GTX | gtx",
        "NTv2 Datum Grid Shift | NTv2 | gsb",
        "National Imagery Transmission Format | NITF | ntf",
        "Network Common Data Format | netCDF | nc",
        "Northwood Classified Grid Format .grc/.tab | NWT_GRC | grc",
        "Northwood Numeric Grid Format .grd/.tab | NWT_GRD | grd",
        "Open Document/ LibreOffice / OpenOffice Spreadsheet  | ODS | ods",
        "OpenJUMP JML | JML | jml",
        "PCIDSK Database File | PCIDSK | pix",
        "PCRaster Raster File | PCRaster | map",
        "Portable Network Graphics | PNG | png",
        "Portable Pixmap Format (netpbm) | PNM | pnm",
        "PostgreSQL SQL dump | PGDUMP | sql",
        "R Object Data Store | R | rda",
        "R Raster | RRASTER | grd",
        "Racurs PHOTOMOD PRF | PRF | prf",
        "Raster Matrix Format | RMF | rsw",
        "Raster Product Format TOC format | RPFTOC | toc",
        "Rasterlite | Rasterlite | sqlite",
        "SAGA GIS Binary Grid (.sdat) | SAGA | sdat",
        "SDTS Raster | SDTS | ddf",
        "SGI Image File Format 1.0 | SGI | rgb",
        "SRTMHGT File Format | SRTMHGT | hgt",
        "Scalable Vector Graphics | SVG | svg",
        "Snow Data Assimilation System | SNODAS | hdr",
        "Standard Raster Product (ASRP/USRP) | SRP | img",
        "Storage and eXchange Format | SXF | sxf",
        "Swedish Grid RIK (.rik) | RIK | rik",
        "Terragen heightfield | Terragen | ter",
        "USGS Optional ASCII DEM (and CDED) | USGSDEM | dem",
        "VRT - Virtual Datasource | OGR_VRT | vrt",
        "VTP .bt (Binary Terrain) 1.3 Format | BT | bt",
        "Vexcel MFF Raster | MFF | hdr",
        "Virtual Raster | VRT | vrt",
        "WAsP .map format | WAsP | map",
        "X-Plane/Flightgear aeronautical data | XPlane | dat",
        "X11 PixMap Format | XPM | xpm",
        "ZMap Plus Grid | ZMap | dat"
       ],
       "description": "Output format",
       "index": 29,
       "layout": "IPY_MODEL_28a3cbec3bff47f4b414d01785dd4ede",
       "style": "IPY_MODEL_24854836f08047ea95ba7d092ad97689"
      }
     },
     "3c7e5517346045d9820254837ca61155": {
      "model_module": "@jupyter-widgets/base",
      "model_module_version": "1.1.0",
      "model_name": "LayoutModel",
      "state": {}
     },
     "3d1cf97e818c444c90aea724c0d3f03f": {
      "model_module": "@jupyter-widgets/controls",
      "model_module_version": "1.4.0",
      "model_name": "DropdownModel",
      "state": {
       "_options_labels": [
        "ACE2 | ACE2 | ACE2",
        "ARC Digitized Raster Graphics | ADRG | gen",
        "ASCII Gridded XYZ | XYZ | xyz",
        "Arc/Info ASCII Grid | AAIGrid | asc",
        "Arc/Info E00 (ASCII) Coverage | AVCE00 | e00",
        "Arc/Info Export E00 GRID | E00GRID | e00",
        "Atlas BNA | BNA | bna",
        "AutoCAD DXF | DXF | dxf",
        "AutoCAD Driver | CAD | dwg",
        "Comma Separated Value (.csv) | CSV | csv",
        "Czech Cadastral Exchange Data Format | VFK | vfk",
        "DRDC COASP SAR Processor Raster | COASP | hdr",
        "ECRG TOC format | ECRGTOC | xml",
        "ENVI .hdr Labelled | ENVI | ",
        "EPIInfo .REC  | REC | rec",
        "ESRI FileGDB | OpenFileGDB | gdb",
        "ESRI Shapefile | ESRI Shapefile | shp",
        "EUMETSAT Archive native (.nat) | MSGN | nat",
        "Envisat Image Format | ESAT | n1",
        "Erdas Imagine Images (.img) | HFA | img",
        "FARSITE v.4 Landscape File (.lcp) | LCP | lcp",
        "FIT Image | FIT | ",
        "French EDIGEO exchange format | EDIGEO | thf",
        "GMT ASCII Vectors (.gmt) | OGR_GMT | gmt",
        "GMT NetCDF Grid Format | GMT | nc",
        "GPX | GPX | gpx",
        "GRIdded Binary (.grb) | GRIB | grb",
        "GeoPackage | GPKG | gpkg",
        "GeoSoft Grid Exchange Format | GXF | gxf",
        "GeoTIFF | GTiff | tif",
        "Geography Markup Language (GML) | GML | gml",
        "Geospatial PDF | PDF | pdf",
        "Golden Software 7 Binary Grid (.grd) | GS7BG | grd",
        "Golden Software ASCII Grid (.grd) | GSAG | grd",
        "Golden Software Binary Grid (.grd) | GSBG | grd",
        "Graphics Interchange Format (.gif) | BIGGIF | gif",
        "Graphics Interchange Format (.gif) | GIF | gif",
        "Ground-based SAR Applications Testbed File Format (.gff) | GFF | gff",
        "HF2/HFZ heightfield raster | HF2 | hf2",
        "Hierarchical Data Format Release 4 | HDF4 | hdf",
        "Hierarchical Data Format Release 5 | HDF5 | hdf5",
        "IHO S-57 (ENC) | S57 | 000",
        "ILWIS Raster Map | ILWIS | mpr/mpl",
        "IRIS data (.PPI, .CAPPi etc) | IRIS | ppi",
        "Idrisi Raster A.1 | RST | rst",
        "Idrisi Vector (.vct) | Idrisi | vct",
        "JPEG JFIF | JPEG | jpg",
        "JPEG-2000 driver based on OpenJPEG library | JP2OpenJPEG | jp2",
        "Japanese DEM (.mem) | JDEM | mem",
        "KEA Image Format (.kea) | KEA | kea",
        "KOLOR Raw | KRO | kro",
        "Keyhole Markup Language (KML) | KML | kml",
        "Leveller heightfield | Leveller | ter",
        "MBTiles | MBTiles | mbtiles",
        "MS Excel format | XLS | xls",
        "MS Office Open XML spreadsheet | XLSX | xlsx",
        "MS Windows Device Independent Bitmap | BMP | bmp",
        "Magellan topo (.blx) | BLX | blx",
        "Microstation DGN | DGN | dgn",
        "NAS - ALKIS | NAS | xml",
        "NOAA NGS Geoid Height Grids | NGSGEOID | bin",
        "NOAA Vertical Datum .GTX | GTX | gtx",
        "NTv2 Datum Grid Shift | NTv2 | gsb",
        "National Imagery Transmission Format | NITF | ntf",
        "Network Common Data Format | netCDF | nc",
        "Northwood Classified Grid Format .grc/.tab | NWT_GRC | grc",
        "Northwood Numeric Grid Format .grd/.tab | NWT_GRD | grd",
        "Open Document/ LibreOffice / OpenOffice Spreadsheet  | ODS | ods",
        "OpenJUMP JML | JML | jml",
        "PCIDSK Database File | PCIDSK | pix",
        "PCRaster Raster File | PCRaster | map",
        "Portable Network Graphics | PNG | png",
        "Portable Pixmap Format (netpbm) | PNM | pnm",
        "PostgreSQL SQL dump | PGDUMP | sql",
        "R Object Data Store | R | rda",
        "R Raster | RRASTER | grd",
        "Racurs PHOTOMOD PRF | PRF | prf",
        "Raster Matrix Format | RMF | rsw",
        "Raster Product Format TOC format | RPFTOC | toc",
        "Rasterlite | Rasterlite | sqlite",
        "SAGA GIS Binary Grid (.sdat) | SAGA | sdat",
        "SDTS Raster | SDTS | ddf",
        "SGI Image File Format 1.0 | SGI | rgb",
        "SRTMHGT File Format | SRTMHGT | hgt",
        "Scalable Vector Graphics | SVG | svg",
        "Snow Data Assimilation System | SNODAS | hdr",
        "Standard Raster Product (ASRP/USRP) | SRP | img",
        "Storage and eXchange Format | SXF | sxf",
        "Swedish Grid RIK (.rik) | RIK | rik",
        "Terragen heightfield | Terragen | ter",
        "USGS Optional ASCII DEM (and CDED) | USGSDEM | dem",
        "VRT - Virtual Datasource | OGR_VRT | vrt",
        "VTP .bt (Binary Terrain) 1.3 Format | BT | bt",
        "Vexcel MFF Raster | MFF | hdr",
        "Virtual Raster | VRT | vrt",
        "WAsP .map format | WAsP | map",
        "X-Plane/Flightgear aeronautical data | XPlane | dat",
        "X11 PixMap Format | XPM | xpm",
        "ZMap Plus Grid | ZMap | dat"
       ],
       "description": "Output format",
       "index": 13,
       "layout": "IPY_MODEL_35964fcea325411ebf35f7d004cf8f34",
       "style": "IPY_MODEL_b709221d77c846b5867eb9997606e352"
      }
     },
     "4385cfb680be49799d06de732cfdda35": {
      "model_module": "@jupyter-widgets/base",
      "model_module_version": "1.1.0",
      "model_name": "LayoutModel",
      "state": {}
     },
     "47fd7a71b25d458882059fd2ec665849": {
      "model_module": "@jupyter-widgets/controls",
      "model_module_version": "1.4.0",
      "model_name": "ButtonStyleModel",
      "state": {}
     },
     "496cf7c547c048d2b086a81e9426ddc2": {
      "model_module": "@jupyter-widgets/controls",
      "model_module_version": "1.4.0",
      "model_name": "DropdownModel",
      "state": {
       "_options_labels": [
        "ACE2 | ACE2 | ACE2",
        "ARC Digitized Raster Graphics | ADRG | gen",
        "ASCII Gridded XYZ | XYZ | xyz",
        "Arc/Info ASCII Grid | AAIGrid | asc",
        "Arc/Info E00 (ASCII) Coverage | AVCE00 | e00",
        "Arc/Info Export E00 GRID | E00GRID | e00",
        "Atlas BNA | BNA | bna",
        "AutoCAD DXF | DXF | dxf",
        "AutoCAD Driver | CAD | dwg",
        "Comma Separated Value (.csv) | CSV | csv",
        "Czech Cadastral Exchange Data Format | VFK | vfk",
        "DRDC COASP SAR Processor Raster | COASP | hdr",
        "ECRG TOC format | ECRGTOC | xml",
        "ENVI .hdr Labelled | ENVI | ",
        "EPIInfo .REC  | REC | rec",
        "ESRI FileGDB | OpenFileGDB | gdb",
        "ESRI Shapefile | ESRI Shapefile | shp",
        "EUMETSAT Archive native (.nat) | MSGN | nat",
        "Envisat Image Format | ESAT | n1",
        "Erdas Imagine Images (.img) | HFA | img",
        "FARSITE v.4 Landscape File (.lcp) | LCP | lcp",
        "FIT Image | FIT | ",
        "French EDIGEO exchange format | EDIGEO | thf",
        "GMT ASCII Vectors (.gmt) | OGR_GMT | gmt",
        "GMT NetCDF Grid Format | GMT | nc",
        "GPX | GPX | gpx",
        "GRIdded Binary (.grb) | GRIB | grb",
        "GeoPackage | GPKG | gpkg",
        "GeoSoft Grid Exchange Format | GXF | gxf",
        "GeoTIFF | GTiff | tif",
        "Geography Markup Language (GML) | GML | gml",
        "Geospatial PDF | PDF | pdf",
        "Golden Software 7 Binary Grid (.grd) | GS7BG | grd",
        "Golden Software ASCII Grid (.grd) | GSAG | grd",
        "Golden Software Binary Grid (.grd) | GSBG | grd",
        "Graphics Interchange Format (.gif) | BIGGIF | gif",
        "Graphics Interchange Format (.gif) | GIF | gif",
        "Ground-based SAR Applications Testbed File Format (.gff) | GFF | gff",
        "HF2/HFZ heightfield raster | HF2 | hf2",
        "Hierarchical Data Format Release 4 | HDF4 | hdf",
        "Hierarchical Data Format Release 5 | HDF5 | hdf5",
        "IHO S-57 (ENC) | S57 | 000",
        "ILWIS Raster Map | ILWIS | mpr/mpl",
        "IRIS data (.PPI, .CAPPi etc) | IRIS | ppi",
        "Idrisi Raster A.1 | RST | rst",
        "Idrisi Vector (.vct) | Idrisi | vct",
        "JPEG JFIF | JPEG | jpg",
        "JPEG-2000 driver based on OpenJPEG library | JP2OpenJPEG | jp2",
        "Japanese DEM (.mem) | JDEM | mem",
        "KEA Image Format (.kea) | KEA | kea",
        "KOLOR Raw | KRO | kro",
        "Keyhole Markup Language (KML) | KML | kml",
        "Leveller heightfield | Leveller | ter",
        "MBTiles | MBTiles | mbtiles",
        "MS Excel format | XLS | xls",
        "MS Office Open XML spreadsheet | XLSX | xlsx",
        "MS Windows Device Independent Bitmap | BMP | bmp",
        "Magellan topo (.blx) | BLX | blx",
        "Microstation DGN | DGN | dgn",
        "NAS - ALKIS | NAS | xml",
        "NOAA NGS Geoid Height Grids | NGSGEOID | bin",
        "NOAA Vertical Datum .GTX | GTX | gtx",
        "NTv2 Datum Grid Shift | NTv2 | gsb",
        "National Imagery Transmission Format | NITF | ntf",
        "Network Common Data Format | netCDF | nc",
        "Northwood Classified Grid Format .grc/.tab | NWT_GRC | grc",
        "Northwood Numeric Grid Format .grd/.tab | NWT_GRD | grd",
        "Open Document/ LibreOffice / OpenOffice Spreadsheet  | ODS | ods",
        "OpenJUMP JML | JML | jml",
        "PCIDSK Database File | PCIDSK | pix",
        "PCRaster Raster File | PCRaster | map",
        "Portable Network Graphics | PNG | png",
        "Portable Pixmap Format (netpbm) | PNM | pnm",
        "PostgreSQL SQL dump | PGDUMP | sql",
        "R Object Data Store | R | rda",
        "R Raster | RRASTER | grd",
        "Racurs PHOTOMOD PRF | PRF | prf",
        "Raster Matrix Format | RMF | rsw",
        "Raster Product Format TOC format | RPFTOC | toc",
        "Rasterlite | Rasterlite | sqlite",
        "SAGA GIS Binary Grid (.sdat) | SAGA | sdat",
        "SDTS Raster | SDTS | ddf",
        "SGI Image File Format 1.0 | SGI | rgb",
        "SRTMHGT File Format | SRTMHGT | hgt",
        "Scalable Vector Graphics | SVG | svg",
        "Snow Data Assimilation System | SNODAS | hdr",
        "Standard Raster Product (ASRP/USRP) | SRP | img",
        "Storage and eXchange Format | SXF | sxf",
        "Swedish Grid RIK (.rik) | RIK | rik",
        "Terragen heightfield | Terragen | ter",
        "USGS Optional ASCII DEM (and CDED) | USGSDEM | dem",
        "VRT - Virtual Datasource | OGR_VRT | vrt",
        "VTP .bt (Binary Terrain) 1.3 Format | BT | bt",
        "Vexcel MFF Raster | MFF | hdr",
        "Virtual Raster | VRT | vrt",
        "WAsP .map format | WAsP | map",
        "X-Plane/Flightgear aeronautical data | XPlane | dat",
        "X11 PixMap Format | XPM | xpm",
        "ZMap Plus Grid | ZMap | dat"
       ],
       "description": "Output format",
       "index": 13,
       "layout": "IPY_MODEL_7bcc0f29d02a4deab7f95ccdf5a5c792",
       "style": "IPY_MODEL_90226fed5c214f16b168383a353b1601"
      }
     },
     "4add6655e6454eb69e662469f140eb90": {
      "model_module": "@jupyter-widgets/base",
      "model_module_version": "1.1.0",
      "model_name": "LayoutModel",
      "state": {
       "width": "100%"
      }
     },
     "4bf824f6961646d4bfad323171073ab5": {
      "model_module": "@jupyter-widgets/controls",
      "model_module_version": "1.4.0",
      "model_name": "ButtonModel",
      "state": {
       "description": "Select input file",
       "layout": "IPY_MODEL_6d383563ffe94574a0b6f1f755b3375f",
       "style": "IPY_MODEL_93a11b884ae748b9a5e5a0158a5aa969",
       "tooltip": "Select file or dataset to be imported."
      }
     },
     "55dcf8124a56461fbca0707fea976e8a": {
      "model_module": "@jupyter-widgets/controls",
      "model_module_version": "1.4.0",
      "model_name": "ButtonStyleModel",
      "state": {}
     },
     "575a93c354b94e8a8ecf04866a295b4d": {
      "model_module": "@jupyter-widgets/controls",
      "model_module_version": "1.4.0",
      "model_name": "ButtonModel",
      "state": {
       "description": "Select output file",
       "layout": "IPY_MODEL_70dff6f5adc7452092ddc32f00f31e0b",
       "style": "IPY_MODEL_d9a6f47e40a54344ad966db5f50c80a5",
       "tooltip": "Select output file name and location"
      }
     },
     "59d28ab587724255ac6c954d87621d74": {
      "model_module": "@jupyter-widgets/base",
      "model_module_version": "1.1.0",
      "model_name": "LayoutModel",
      "state": {}
     },
     "5a945e452c4f4b5398cff6670c1fe299": {
      "model_module": "@jupyter-widgets/controls",
      "model_module_version": "1.4.0",
      "model_name": "ButtonStyleModel",
      "state": {}
     },
     "5c4d34542f494015b62389d3b1196c9e": {
      "model_module": "@jupyter-widgets/controls",
      "model_module_version": "1.4.0",
      "model_name": "TextModel",
      "state": {
       "description": "Output file",
       "layout": "IPY_MODEL_10b271fba0a14f958a4d967462d73c1e",
       "placeholder": "File to be exported",
       "style": "IPY_MODEL_07efe91e3f6541baae3185fa63a92b24",
       "value": "../../data/MOD13A2.006/MOD13A2.A2018001.h09v07.006.2018017223926.tif"
      }
     },
     "5cc547be5deb4866b0f0ad1653416cf7": {
      "model_module": "@jupyter-widgets/controls",
      "model_module_version": "1.4.0",
      "model_name": "TextModel",
      "state": {
       "description": "Output file",
       "layout": "IPY_MODEL_82439412cf66406391e0b2cefe8ea654",
       "placeholder": "File to be exported",
       "style": "IPY_MODEL_388ec52afea643dd8bc427043636c066",
       "value": "../../data/MOD13A2.006/MOD13A2.A2018001.h09v07.006.2018017223926.tif"
      }
     },
     "5ff1b298742d4605be12d88042170eb1": {
      "model_module": "@jupyter-widgets/controls",
      "model_module_version": "1.4.0",
      "model_name": "ButtonStyleModel",
      "state": {}
     },
     "6176bc21b54149d29004cd55e27077e4": {
      "model_module": "@jupyter-widgets/controls",
      "model_module_version": "1.4.0",
      "model_name": "ButtonModel",
      "state": {
       "description": "Select output file",
       "layout": "IPY_MODEL_59d28ab587724255ac6c954d87621d74",
       "style": "IPY_MODEL_b65483f3a61e4b4399be7c497f37cd79",
       "tooltip": "Select output file name and location"
      }
     },
     "640ad203daac4fecaff71308e811ec88": {
      "model_module": "@jupyter-widgets/controls",
      "model_module_version": "1.4.0",
      "model_name": "TextModel",
      "state": {
       "description": "Output file",
       "layout": "IPY_MODEL_05204c65aaa94d3e8797cd72adf92333",
       "placeholder": "File to be exported",
       "style": "IPY_MODEL_257f5c4c0c6c4823bf165963ab0b1537",
       "value": "/home/glopez/Projects/TATSSI/data/MOD13A2.006/test"
      }
     },
     "64c358337538416db9908b3f5322de09": {
      "model_module": "@jupyter-widgets/base",
      "model_module_version": "1.1.0",
      "model_name": "LayoutModel",
      "state": {
       "width": "100%"
      }
     },
     "69a32a53475445e190a09f42eb236d81": {
      "model_module": "@jupyter-widgets/controls",
      "model_module_version": "1.4.0",
      "model_name": "DescriptionStyleModel",
      "state": {
       "description_width": ""
      }
     },
     "6c15441543424e9f9aa0e1686f7623a2": {
      "model_module": "@jupyter-widgets/base",
      "model_module_version": "1.1.0",
      "model_name": "LayoutModel",
      "state": {}
     },
     "6d383563ffe94574a0b6f1f755b3375f": {
      "model_module": "@jupyter-widgets/base",
      "model_module_version": "1.1.0",
      "model_name": "LayoutModel",
      "state": {}
     },
     "70dff6f5adc7452092ddc32f00f31e0b": {
      "model_module": "@jupyter-widgets/base",
      "model_module_version": "1.1.0",
      "model_name": "LayoutModel",
      "state": {}
     },
     "73c50aa590a84d8a8d008e96cfc9a2d0": {
      "model_module": "@jupyter-widgets/controls",
      "model_module_version": "1.4.0",
      "model_name": "TextModel",
      "state": {
       "description": "Output file",
       "layout": "IPY_MODEL_dc0a7516fb194d1384dda285f5ab1457",
       "placeholder": "File to be exported",
       "style": "IPY_MODEL_398328c955854ac883994388a227615b",
       "value": "/home/glopez/Projects/TATSSI/data/MYD09GA.006/test.tif"
      }
     },
     "74793a1d6833460c94b1b4c03aa11769": {
      "model_module": "@jupyter-widgets/controls",
      "model_module_version": "1.4.0",
      "model_name": "DescriptionStyleModel",
      "state": {
       "description_width": ""
      }
     },
     "754f4731c8f24a7e959efcb2c541a566": {
      "model_module": "@jupyter-widgets/controls",
      "model_module_version": "1.4.0",
      "model_name": "DropdownModel",
      "state": {
       "_options_labels": [
        "ACE2 | ACE2 | ACE2",
        "ARC Digitized Raster Graphics | ADRG | gen",
        "ASCII Gridded XYZ | XYZ | xyz",
        "Arc/Info ASCII Grid | AAIGrid | asc",
        "Arc/Info E00 (ASCII) Coverage | AVCE00 | e00",
        "Arc/Info Export E00 GRID | E00GRID | e00",
        "Atlas BNA | BNA | bna",
        "AutoCAD DXF | DXF | dxf",
        "AutoCAD Driver | CAD | dwg",
        "Comma Separated Value (.csv) | CSV | csv",
        "Czech Cadastral Exchange Data Format | VFK | vfk",
        "DRDC COASP SAR Processor Raster | COASP | hdr",
        "ECRG TOC format | ECRGTOC | xml",
        "ENVI .hdr Labelled | ENVI | ",
        "EPIInfo .REC  | REC | rec",
        "ESRI FileGDB | OpenFileGDB | gdb",
        "ESRI Shapefile | ESRI Shapefile | shp",
        "EUMETSAT Archive native (.nat) | MSGN | nat",
        "Envisat Image Format | ESAT | n1",
        "Erdas Imagine Images (.img) | HFA | img",
        "FARSITE v.4 Landscape File (.lcp) | LCP | lcp",
        "FIT Image | FIT | ",
        "French EDIGEO exchange format | EDIGEO | thf",
        "GMT ASCII Vectors (.gmt) | OGR_GMT | gmt",
        "GMT NetCDF Grid Format | GMT | nc",
        "GPX | GPX | gpx",
        "GRIdded Binary (.grb) | GRIB | grb",
        "GeoPackage | GPKG | gpkg",
        "GeoSoft Grid Exchange Format | GXF | gxf",
        "GeoTIFF | GTiff | tif",
        "Geography Markup Language (GML) | GML | gml",
        "Geospatial PDF | PDF | pdf",
        "Golden Software 7 Binary Grid (.grd) | GS7BG | grd",
        "Golden Software ASCII Grid (.grd) | GSAG | grd",
        "Golden Software Binary Grid (.grd) | GSBG | grd",
        "Graphics Interchange Format (.gif) | BIGGIF | gif",
        "Graphics Interchange Format (.gif) | GIF | gif",
        "Ground-based SAR Applications Testbed File Format (.gff) | GFF | gff",
        "HF2/HFZ heightfield raster | HF2 | hf2",
        "Hierarchical Data Format Release 4 | HDF4 | hdf",
        "Hierarchical Data Format Release 5 | HDF5 | hdf5",
        "IHO S-57 (ENC) | S57 | 000",
        "ILWIS Raster Map | ILWIS | mpr/mpl",
        "IRIS data (.PPI, .CAPPi etc) | IRIS | ppi",
        "Idrisi Raster A.1 | RST | rst",
        "Idrisi Vector (.vct) | Idrisi | vct",
        "JPEG JFIF | JPEG | jpg",
        "JPEG-2000 driver based on OpenJPEG library | JP2OpenJPEG | jp2",
        "Japanese DEM (.mem) | JDEM | mem",
        "KEA Image Format (.kea) | KEA | kea",
        "KOLOR Raw | KRO | kro",
        "Keyhole Markup Language (KML) | KML | kml",
        "Leveller heightfield | Leveller | ter",
        "MBTiles | MBTiles | mbtiles",
        "MS Excel format | XLS | xls",
        "MS Office Open XML spreadsheet | XLSX | xlsx",
        "MS Windows Device Independent Bitmap | BMP | bmp",
        "Magellan topo (.blx) | BLX | blx",
        "Microstation DGN | DGN | dgn",
        "NAS - ALKIS | NAS | xml",
        "NOAA NGS Geoid Height Grids | NGSGEOID | bin",
        "NOAA Vertical Datum .GTX | GTX | gtx",
        "NTv2 Datum Grid Shift | NTv2 | gsb",
        "National Imagery Transmission Format | NITF | ntf",
        "Network Common Data Format | netCDF | nc",
        "Northwood Classified Grid Format .grc/.tab | NWT_GRC | grc",
        "Northwood Numeric Grid Format .grd/.tab | NWT_GRD | grd",
        "Open Document/ LibreOffice / OpenOffice Spreadsheet  | ODS | ods",
        "OpenJUMP JML | JML | jml",
        "PCIDSK Database File | PCIDSK | pix",
        "PCRaster Raster File | PCRaster | map",
        "Portable Network Graphics | PNG | png",
        "Portable Pixmap Format (netpbm) | PNM | pnm",
        "PostgreSQL SQL dump | PGDUMP | sql",
        "R Object Data Store | R | rda",
        "R Raster | RRASTER | grd",
        "Racurs PHOTOMOD PRF | PRF | prf",
        "Raster Matrix Format | RMF | rsw",
        "Raster Product Format TOC format | RPFTOC | toc",
        "Rasterlite | Rasterlite | sqlite",
        "SAGA GIS Binary Grid (.sdat) | SAGA | sdat",
        "SDTS Raster | SDTS | ddf",
        "SGI Image File Format 1.0 | SGI | rgb",
        "SRTMHGT File Format | SRTMHGT | hgt",
        "Scalable Vector Graphics | SVG | svg",
        "Snow Data Assimilation System | SNODAS | hdr",
        "Standard Raster Product (ASRP/USRP) | SRP | img",
        "Storage and eXchange Format | SXF | sxf",
        "Swedish Grid RIK (.rik) | RIK | rik",
        "Terragen heightfield | Terragen | ter",
        "USGS Optional ASCII DEM (and CDED) | USGSDEM | dem",
        "VRT - Virtual Datasource | OGR_VRT | vrt",
        "VTP .bt (Binary Terrain) 1.3 Format | BT | bt",
        "Vexcel MFF Raster | MFF | hdr",
        "Virtual Raster | VRT | vrt",
        "WAsP .map format | WAsP | map",
        "X-Plane/Flightgear aeronautical data | XPlane | dat",
        "X11 PixMap Format | XPM | xpm",
        "ZMap Plus Grid | ZMap | dat"
       ],
       "description": "Output format",
       "index": 29,
       "layout": "IPY_MODEL_8ab6eb094dfe47f1a2452847fa6ca57e",
       "style": "IPY_MODEL_10f1875c5c9543abaab87091e89fb811"
      }
     },
     "75e662f305474c2081883605df01ee35": {
      "model_module": "@jupyter-widgets/controls",
      "model_module_version": "1.4.0",
      "model_name": "ButtonModel",
      "state": {
       "description": "Select input file",
       "layout": "IPY_MODEL_3c7e5517346045d9820254837ca61155",
       "style": "IPY_MODEL_5a945e452c4f4b5398cff6670c1fe299",
       "tooltip": "Select file or dataset to be imported."
      }
     },
     "7603f2b48e894a939784421c56e0c038": {
      "model_module": "@jupyter-widgets/controls",
      "model_module_version": "1.4.0",
      "model_name": "ButtonStyleModel",
      "state": {}
     },
     "77123525603e42d98ad392e50678f18b": {
      "model_module": "@jupyter-widgets/controls",
      "model_module_version": "1.4.0",
      "model_name": "ButtonStyleModel",
      "state": {}
     },
     "77ed197755184bacbf0301f32a8636ba": {
      "model_module": "@jupyter-widgets/controls",
      "model_module_version": "1.4.0",
      "model_name": "ButtonStyleModel",
      "state": {}
     },
     "791688057d0840908824e61fa0c3f83c": {
      "model_module": "@jupyter-widgets/controls",
      "model_module_version": "1.4.0",
      "model_name": "ButtonModel",
      "state": {
       "description": "Select input file",
       "layout": "IPY_MODEL_2bb607ee13ad46069479d935991c41a9",
       "style": "IPY_MODEL_77ed197755184bacbf0301f32a8636ba",
       "tooltip": "Select file or dataset to be imported."
      }
     },
     "7a47fe7af7de48cf83cc91ae3d887ee8": {
      "model_module": "@jupyter-widgets/controls",
      "model_module_version": "1.4.0",
      "model_name": "ButtonModel",
      "state": {
       "description": "Select input file",
       "layout": "IPY_MODEL_0c8b84635d57488fb72b2de7987addc4",
       "style": "IPY_MODEL_12f1ee986e1c4ab9bdf713f8eee2e95d",
       "tooltip": "Select file or dataset to be imported."
      }
     },
     "7bcc0f29d02a4deab7f95ccdf5a5c792": {
      "model_module": "@jupyter-widgets/base",
      "model_module_version": "1.1.0",
      "model_name": "LayoutModel",
      "state": {
       "width": "100%"
      }
     },
     "7c391b50834349d085f054997ec4aa9d": {
      "model_module": "@jupyter-widgets/controls",
      "model_module_version": "1.4.0",
      "model_name": "ButtonStyleModel",
      "state": {}
     },
     "7d818065ee914cc29cde8f5d719f5ba6": {
      "model_module": "@jupyter-widgets/controls",
      "model_module_version": "1.4.0",
      "model_name": "ButtonStyleModel",
      "state": {}
     },
     "7fad81fe3cea4290b068705cbc651278": {
      "model_module": "@jupyter-widgets/base",
      "model_module_version": "1.1.0",
      "model_name": "LayoutModel",
      "state": {}
     },
     "81f838af61e84210a9ad0582772549eb": {
      "model_module": "@jupyter-widgets/base",
      "model_module_version": "1.1.0",
      "model_name": "LayoutModel",
      "state": {}
     },
     "82439412cf66406391e0b2cefe8ea654": {
      "model_module": "@jupyter-widgets/base",
      "model_module_version": "1.1.0",
      "model_name": "LayoutModel",
      "state": {
       "width": "100%"
      }
     },
     "835c025df4204810ae8184ebc4e9bd24": {
      "model_module": "@jupyter-widgets/base",
      "model_module_version": "1.1.0",
      "model_name": "LayoutModel",
      "state": {}
     },
     "8ab6eb094dfe47f1a2452847fa6ca57e": {
      "model_module": "@jupyter-widgets/base",
      "model_module_version": "1.1.0",
      "model_name": "LayoutModel",
      "state": {
       "width": "100%"
      }
     },
     "8f3df3ce137d4861908e1717ff4f00d2": {
      "model_module": "@jupyter-widgets/controls",
      "model_module_version": "1.4.0",
      "model_name": "ButtonModel",
      "state": {
       "description": "Select input file",
       "layout": "IPY_MODEL_e64c0d24d28c44d4b70c7e25d9c97eaf",
       "style": "IPY_MODEL_7d818065ee914cc29cde8f5d719f5ba6",
       "tooltip": "Select file or dataset to be imported."
      }
     },
     "90226fed5c214f16b168383a353b1601": {
      "model_module": "@jupyter-widgets/controls",
      "model_module_version": "1.4.0",
      "model_name": "DescriptionStyleModel",
      "state": {
       "description_width": ""
      }
     },
     "9076bb8152424c1aa66c35d68e2dce90": {
      "model_module": "@jupyter-widgets/controls",
      "model_module_version": "1.4.0",
      "model_name": "DropdownModel",
      "state": {
       "_options_labels": [
        "HDF4_EOS:EOS_GRID:\"../../data/MOD13A2.006/MOD13A2.A2018001.h09v07.006.2018017223926.hdf\":MODIS_Grid_16DAY_1km_VI:1 km 16 days NDVI",
        "HDF4_EOS:EOS_GRID:\"../../data/MOD13A2.006/MOD13A2.A2018001.h09v07.006.2018017223926.hdf\":MODIS_Grid_16DAY_1km_VI:1 km 16 days EVI",
        "HDF4_EOS:EOS_GRID:\"../../data/MOD13A2.006/MOD13A2.A2018001.h09v07.006.2018017223926.hdf\":MODIS_Grid_16DAY_1km_VI:1 km 16 days VI Quality",
        "HDF4_EOS:EOS_GRID:\"../../data/MOD13A2.006/MOD13A2.A2018001.h09v07.006.2018017223926.hdf\":MODIS_Grid_16DAY_1km_VI:1 km 16 days red reflectance",
        "HDF4_EOS:EOS_GRID:\"../../data/MOD13A2.006/MOD13A2.A2018001.h09v07.006.2018017223926.hdf\":MODIS_Grid_16DAY_1km_VI:1 km 16 days NIR reflectance",
        "HDF4_EOS:EOS_GRID:\"../../data/MOD13A2.006/MOD13A2.A2018001.h09v07.006.2018017223926.hdf\":MODIS_Grid_16DAY_1km_VI:1 km 16 days blue reflectance",
        "HDF4_EOS:EOS_GRID:\"../../data/MOD13A2.006/MOD13A2.A2018001.h09v07.006.2018017223926.hdf\":MODIS_Grid_16DAY_1km_VI:1 km 16 days MIR reflectance",
        "HDF4_EOS:EOS_GRID:\"../../data/MOD13A2.006/MOD13A2.A2018001.h09v07.006.2018017223926.hdf\":MODIS_Grid_16DAY_1km_VI:1 km 16 days view zenith angle",
        "HDF4_EOS:EOS_GRID:\"../../data/MOD13A2.006/MOD13A2.A2018001.h09v07.006.2018017223926.hdf\":MODIS_Grid_16DAY_1km_VI:1 km 16 days sun zenith angle",
        "HDF4_EOS:EOS_GRID:\"../../data/MOD13A2.006/MOD13A2.A2018001.h09v07.006.2018017223926.hdf\":MODIS_Grid_16DAY_1km_VI:1 km 16 days relative azimuth angle",
        "HDF4_EOS:EOS_GRID:\"../../data/MOD13A2.006/MOD13A2.A2018001.h09v07.006.2018017223926.hdf\":MODIS_Grid_16DAY_1km_VI:1 km 16 days composite day of the year",
        "HDF4_EOS:EOS_GRID:\"../../data/MOD13A2.006/MOD13A2.A2018001.h09v07.006.2018017223926.hdf\":MODIS_Grid_16DAY_1km_VI:1 km 16 days pixel reliability"
       ],
       "description": "SubDataset",
       "index": 0,
       "layout": "IPY_MODEL_cc022d1e76dc4c9fbb0ce9daa6fe9c1f",
       "style": "IPY_MODEL_74793a1d6833460c94b1b4c03aa11769"
      }
     },
     "90e79962aae94fa99f671fede95e65a8": {
      "model_module": "@jupyter-widgets/controls",
      "model_module_version": "1.4.0",
      "model_name": "ButtonModel",
      "state": {
       "description": "Select input file",
       "layout": "IPY_MODEL_835c025df4204810ae8184ebc4e9bd24",
       "style": "IPY_MODEL_7603f2b48e894a939784421c56e0c038",
       "tooltip": "Select file or dataset to be imported."
      }
     },
     "93a11b884ae748b9a5e5a0158a5aa969": {
      "model_module": "@jupyter-widgets/controls",
      "model_module_version": "1.4.0",
      "model_name": "ButtonStyleModel",
      "state": {}
     },
     "95bee233c1a7423e937ac1fa52098184": {
      "model_module": "@jupyter-widgets/controls",
      "model_module_version": "1.4.0",
      "model_name": "ButtonModel",
      "state": {
       "description": "Translate",
       "layout": "IPY_MODEL_4385cfb680be49799d06de732cfdda35",
       "style": "IPY_MODEL_a94d2ada301841d3ba21dc2f5772c3a8",
       "tooltip": "Translate input file into output file"
      }
     },
     "9f26c7d3348a4571a0db39a95c33c27b": {
      "model_module": "@jupyter-widgets/base",
      "model_module_version": "1.1.0",
      "model_name": "LayoutModel",
      "state": {}
     },
     "a203dc47178e4e57bf830aaef98a9659": {
      "model_module": "@jupyter-widgets/base",
      "model_module_version": "1.1.0",
      "model_name": "LayoutModel",
      "state": {}
     },
     "a7eb628d715e4fd397987f5d4dd1d56f": {
      "model_module": "@jupyter-widgets/base",
      "model_module_version": "1.1.0",
      "model_name": "LayoutModel",
      "state": {
       "width": "100%"
      }
     },
     "a8b2d2bf81284d31b4bb44a5e61898c7": {
      "model_module": "@jupyter-widgets/controls",
      "model_module_version": "1.4.0",
      "model_name": "ButtonModel",
      "state": {
       "description": "Select input file",
       "layout": "IPY_MODEL_b190122858b244c792d430ad8955380c",
       "style": "IPY_MODEL_5ff1b298742d4605be12d88042170eb1",
       "tooltip": "Select file or dataset to be imported."
      }
     },
     "a94d2ada301841d3ba21dc2f5772c3a8": {
      "model_module": "@jupyter-widgets/controls",
      "model_module_version": "1.4.0",
      "model_name": "ButtonStyleModel",
      "state": {}
     },
     "aeb018478c7e4592bf504123b07d800f": {
      "model_module": "@jupyter-widgets/controls",
      "model_module_version": "1.4.0",
      "model_name": "ButtonModel",
      "state": {
       "description": "Translate",
       "layout": "IPY_MODEL_109ddff880354261b84ff699fd09382b",
       "style": "IPY_MODEL_7c391b50834349d085f054997ec4aa9d",
       "tooltip": "Translate input file into output file"
      }
     },
     "b190122858b244c792d430ad8955380c": {
      "model_module": "@jupyter-widgets/base",
      "model_module_version": "1.1.0",
      "model_name": "LayoutModel",
      "state": {}
     },
     "b5b52f4375f94c768dd25cb017b4be50": {
      "model_module": "@jupyter-widgets/controls",
      "model_module_version": "1.4.0",
      "model_name": "DescriptionStyleModel",
      "state": {
       "description_width": ""
      }
     },
     "b65483f3a61e4b4399be7c497f37cd79": {
      "model_module": "@jupyter-widgets/controls",
      "model_module_version": "1.4.0",
      "model_name": "ButtonStyleModel",
      "state": {}
     },
     "b709221d77c846b5867eb9997606e352": {
      "model_module": "@jupyter-widgets/controls",
      "model_module_version": "1.4.0",
      "model_name": "DescriptionStyleModel",
      "state": {
       "description_width": ""
      }
     },
     "b867b1608117403fbf176d974d780f06": {
      "model_module": "@jupyter-widgets/controls",
      "model_module_version": "1.4.0",
      "model_name": "DescriptionStyleModel",
      "state": {
       "description_width": ""
      }
     },
     "beb2348cadd14cdeac05b7f55b2e91e8": {
      "model_module": "@jupyter-widgets/base",
      "model_module_version": "1.1.0",
      "model_name": "LayoutModel",
      "state": {}
     },
     "c2ce741e257e4252964b74aa840f43bf": {
      "model_module": "@jupyter-widgets/base",
      "model_module_version": "1.1.0",
      "model_name": "LayoutModel",
      "state": {}
     },
     "c492104995f0438aa97371fb1dc4f475": {
      "model_module": "@jupyter-widgets/controls",
      "model_module_version": "1.4.0",
      "model_name": "ButtonStyleModel",
      "state": {}
     },
     "c74613205679481e99722f8de96ee603": {
      "model_module": "@jupyter-widgets/controls",
      "model_module_version": "1.4.0",
      "model_name": "ButtonModel",
      "state": {
       "description": "Select output file",
       "layout": "IPY_MODEL_a203dc47178e4e57bf830aaef98a9659",
       "style": "IPY_MODEL_2248720da31f4317b6fc4a433e4766c6",
       "tooltip": "Select output file name and location"
      }
     },
     "c88b147c698348ce9da77ed57e362318": {
      "model_module": "@jupyter-widgets/controls",
      "model_module_version": "1.4.0",
      "model_name": "DropdownModel",
      "state": {
       "_options_labels": [
        "HDF4_EOS:EOS_GRID:\"../../data/MOD13A2.006/MOD13A2.A2018001.h09v07.006.2018017223926.hdf\":MODIS_Grid_16DAY_1km_VI:1 km 16 days NDVI",
        "HDF4_EOS:EOS_GRID:\"../../data/MOD13A2.006/MOD13A2.A2018001.h09v07.006.2018017223926.hdf\":MODIS_Grid_16DAY_1km_VI:1 km 16 days EVI",
        "HDF4_EOS:EOS_GRID:\"../../data/MOD13A2.006/MOD13A2.A2018001.h09v07.006.2018017223926.hdf\":MODIS_Grid_16DAY_1km_VI:1 km 16 days VI Quality",
        "HDF4_EOS:EOS_GRID:\"../../data/MOD13A2.006/MOD13A2.A2018001.h09v07.006.2018017223926.hdf\":MODIS_Grid_16DAY_1km_VI:1 km 16 days red reflectance",
        "HDF4_EOS:EOS_GRID:\"../../data/MOD13A2.006/MOD13A2.A2018001.h09v07.006.2018017223926.hdf\":MODIS_Grid_16DAY_1km_VI:1 km 16 days NIR reflectance",
        "HDF4_EOS:EOS_GRID:\"../../data/MOD13A2.006/MOD13A2.A2018001.h09v07.006.2018017223926.hdf\":MODIS_Grid_16DAY_1km_VI:1 km 16 days blue reflectance",
        "HDF4_EOS:EOS_GRID:\"../../data/MOD13A2.006/MOD13A2.A2018001.h09v07.006.2018017223926.hdf\":MODIS_Grid_16DAY_1km_VI:1 km 16 days MIR reflectance",
        "HDF4_EOS:EOS_GRID:\"../../data/MOD13A2.006/MOD13A2.A2018001.h09v07.006.2018017223926.hdf\":MODIS_Grid_16DAY_1km_VI:1 km 16 days view zenith angle",
        "HDF4_EOS:EOS_GRID:\"../../data/MOD13A2.006/MOD13A2.A2018001.h09v07.006.2018017223926.hdf\":MODIS_Grid_16DAY_1km_VI:1 km 16 days sun zenith angle",
        "HDF4_EOS:EOS_GRID:\"../../data/MOD13A2.006/MOD13A2.A2018001.h09v07.006.2018017223926.hdf\":MODIS_Grid_16DAY_1km_VI:1 km 16 days relative azimuth angle",
        "HDF4_EOS:EOS_GRID:\"../../data/MOD13A2.006/MOD13A2.A2018001.h09v07.006.2018017223926.hdf\":MODIS_Grid_16DAY_1km_VI:1 km 16 days composite day of the year",
        "HDF4_EOS:EOS_GRID:\"../../data/MOD13A2.006/MOD13A2.A2018001.h09v07.006.2018017223926.hdf\":MODIS_Grid_16DAY_1km_VI:1 km 16 days pixel reliability"
       ],
       "description": "SubDataset",
       "index": 0,
       "layout": "IPY_MODEL_4add6655e6454eb69e662469f140eb90",
       "style": "IPY_MODEL_b867b1608117403fbf176d974d780f06"
      }
     },
     "cbe641ee259743d48a0161c885af7e6c": {
      "model_module": "@jupyter-widgets/controls",
      "model_module_version": "1.4.0",
      "model_name": "DescriptionStyleModel",
      "state": {
       "description_width": ""
      }
     },
     "cc022d1e76dc4c9fbb0ce9daa6fe9c1f": {
      "model_module": "@jupyter-widgets/base",
      "model_module_version": "1.1.0",
      "model_name": "LayoutModel",
      "state": {
       "width": "100%"
      }
     },
     "d6d9d5b549304ca0bd96cced30513e49": {
      "model_module": "@jupyter-widgets/controls",
      "model_module_version": "1.4.0",
      "model_name": "ButtonModel",
      "state": {
       "description": "Translate",
       "layout": "IPY_MODEL_c2ce741e257e4252964b74aa840f43bf",
       "style": "IPY_MODEL_77123525603e42d98ad392e50678f18b",
       "tooltip": "Translate input file into output file"
      }
     },
     "d7603ee1dd8a4b4a8d671459d8d08d5a": {
      "model_module": "@jupyter-widgets/controls",
      "model_module_version": "1.4.0",
      "model_name": "DropdownModel",
      "state": {
       "_options_labels": [
        "ACE2 | ACE2 | ACE2",
        "ARC Digitized Raster Graphics | ADRG | gen",
        "ASCII Gridded XYZ | XYZ | xyz",
        "Arc/Info ASCII Grid | AAIGrid | asc",
        "Arc/Info E00 (ASCII) Coverage | AVCE00 | e00",
        "Arc/Info Export E00 GRID | E00GRID | e00",
        "Atlas BNA | BNA | bna",
        "AutoCAD DXF | DXF | dxf",
        "AutoCAD Driver | CAD | dwg",
        "Comma Separated Value (.csv) | CSV | csv",
        "Czech Cadastral Exchange Data Format | VFK | vfk",
        "DRDC COASP SAR Processor Raster | COASP | hdr",
        "ECRG TOC format | ECRGTOC | xml",
        "ENVI .hdr Labelled | ENVI | ",
        "EPIInfo .REC  | REC | rec",
        "ESRI FileGDB | OpenFileGDB | gdb",
        "ESRI Shapefile | ESRI Shapefile | shp",
        "EUMETSAT Archive native (.nat) | MSGN | nat",
        "Envisat Image Format | ESAT | n1",
        "Erdas Imagine Images (.img) | HFA | img",
        "FARSITE v.4 Landscape File (.lcp) | LCP | lcp",
        "FIT Image | FIT | ",
        "French EDIGEO exchange format | EDIGEO | thf",
        "GMT ASCII Vectors (.gmt) | OGR_GMT | gmt",
        "GMT NetCDF Grid Format | GMT | nc",
        "GPX | GPX | gpx",
        "GRIdded Binary (.grb) | GRIB | grb",
        "GeoPackage | GPKG | gpkg",
        "GeoSoft Grid Exchange Format | GXF | gxf",
        "GeoTIFF | GTiff | tif",
        "Geography Markup Language (GML) | GML | gml",
        "Geospatial PDF | PDF | pdf",
        "Golden Software 7 Binary Grid (.grd) | GS7BG | grd",
        "Golden Software ASCII Grid (.grd) | GSAG | grd",
        "Golden Software Binary Grid (.grd) | GSBG | grd",
        "Graphics Interchange Format (.gif) | BIGGIF | gif",
        "Graphics Interchange Format (.gif) | GIF | gif",
        "Ground-based SAR Applications Testbed File Format (.gff) | GFF | gff",
        "HF2/HFZ heightfield raster | HF2 | hf2",
        "Hierarchical Data Format Release 4 | HDF4 | hdf",
        "Hierarchical Data Format Release 5 | HDF5 | hdf5",
        "IHO S-57 (ENC) | S57 | 000",
        "ILWIS Raster Map | ILWIS | mpr/mpl",
        "IRIS data (.PPI, .CAPPi etc) | IRIS | ppi",
        "Idrisi Raster A.1 | RST | rst",
        "Idrisi Vector (.vct) | Idrisi | vct",
        "JPEG JFIF | JPEG | jpg",
        "JPEG-2000 driver based on OpenJPEG library | JP2OpenJPEG | jp2",
        "Japanese DEM (.mem) | JDEM | mem",
        "KEA Image Format (.kea) | KEA | kea",
        "KOLOR Raw | KRO | kro",
        "Keyhole Markup Language (KML) | KML | kml",
        "Leveller heightfield | Leveller | ter",
        "MBTiles | MBTiles | mbtiles",
        "MS Excel format | XLS | xls",
        "MS Office Open XML spreadsheet | XLSX | xlsx",
        "MS Windows Device Independent Bitmap | BMP | bmp",
        "Magellan topo (.blx) | BLX | blx",
        "Microstation DGN | DGN | dgn",
        "NAS - ALKIS | NAS | xml",
        "NOAA NGS Geoid Height Grids | NGSGEOID | bin",
        "NOAA Vertical Datum .GTX | GTX | gtx",
        "NTv2 Datum Grid Shift | NTv2 | gsb",
        "National Imagery Transmission Format | NITF | ntf",
        "Network Common Data Format | netCDF | nc",
        "Northwood Classified Grid Format .grc/.tab | NWT_GRC | grc",
        "Northwood Numeric Grid Format .grd/.tab | NWT_GRD | grd",
        "Open Document/ LibreOffice / OpenOffice Spreadsheet  | ODS | ods",
        "OpenJUMP JML | JML | jml",
        "PCIDSK Database File | PCIDSK | pix",
        "PCRaster Raster File | PCRaster | map",
        "Portable Network Graphics | PNG | png",
        "Portable Pixmap Format (netpbm) | PNM | pnm",
        "PostgreSQL SQL dump | PGDUMP | sql",
        "R Object Data Store | R | rda",
        "R Raster | RRASTER | grd",
        "Racurs PHOTOMOD PRF | PRF | prf",
        "Raster Matrix Format | RMF | rsw",
        "Raster Product Format TOC format | RPFTOC | toc",
        "Rasterlite | Rasterlite | sqlite",
        "SAGA GIS Binary Grid (.sdat) | SAGA | sdat",
        "SDTS Raster | SDTS | ddf",
        "SGI Image File Format 1.0 | SGI | rgb",
        "SRTMHGT File Format | SRTMHGT | hgt",
        "Scalable Vector Graphics | SVG | svg",
        "Snow Data Assimilation System | SNODAS | hdr",
        "Standard Raster Product (ASRP/USRP) | SRP | img",
        "Storage and eXchange Format | SXF | sxf",
        "Swedish Grid RIK (.rik) | RIK | rik",
        "Terragen heightfield | Terragen | ter",
        "USGS Optional ASCII DEM (and CDED) | USGSDEM | dem",
        "VRT - Virtual Datasource | OGR_VRT | vrt",
        "VTP .bt (Binary Terrain) 1.3 Format | BT | bt",
        "Vexcel MFF Raster | MFF | hdr",
        "Virtual Raster | VRT | vrt",
        "WAsP .map format | WAsP | map",
        "X-Plane/Flightgear aeronautical data | XPlane | dat",
        "X11 PixMap Format | XPM | xpm",
        "ZMap Plus Grid | ZMap | dat"
       ],
       "description": "Output format",
       "index": 40,
       "layout": "IPY_MODEL_a7eb628d715e4fd397987f5d4dd1d56f",
       "style": "IPY_MODEL_e0dd04cfca3a436aae95776fbbab77d4"
      }
     },
     "d9a6f47e40a54344ad966db5f50c80a5": {
      "model_module": "@jupyter-widgets/controls",
      "model_module_version": "1.4.0",
      "model_name": "ButtonStyleModel",
      "state": {}
     },
     "dc0a7516fb194d1384dda285f5ab1457": {
      "model_module": "@jupyter-widgets/base",
      "model_module_version": "1.1.0",
      "model_name": "LayoutModel",
      "state": {
       "width": "100%"
      }
     },
     "dc98cfb877b346d2904b36c3b66de9e9": {
      "model_module": "@jupyter-widgets/controls",
      "model_module_version": "1.4.0",
      "model_name": "ButtonStyleModel",
      "state": {}
     },
     "e08556cf2892446cbfc64d4ab16ffcca": {
      "model_module": "@jupyter-widgets/controls",
      "model_module_version": "1.4.0",
      "model_name": "TextModel",
      "state": {
       "description": "Input file",
       "layout": "IPY_MODEL_2fcae81e66f647368605bd691ca87d47",
       "placeholder": "File to be imported",
       "style": "IPY_MODEL_cbe641ee259743d48a0161c885af7e6c",
       "value": "/home/glopez/Projects/TATSSI/data/MYD09GA.006/MYD09GA.A2018007.h17v03.006.2018009030726.state_1km_1_cloud_state.tif"
      }
     },
     "e0dd04cfca3a436aae95776fbbab77d4": {
      "model_module": "@jupyter-widgets/controls",
      "model_module_version": "1.4.0",
      "model_name": "DescriptionStyleModel",
      "state": {
       "description_width": ""
      }
     },
     "e33a7970a4564f76b8d1a285e38c0473": {
      "model_module": "@jupyter-widgets/controls",
      "model_module_version": "1.4.0",
      "model_name": "ButtonModel",
      "state": {
       "description": "Translate",
       "layout": "IPY_MODEL_beb2348cadd14cdeac05b7f55b2e91e8",
       "style": "IPY_MODEL_c492104995f0438aa97371fb1dc4f475",
       "tooltip": "Translate input file into output file"
      }
     },
     "e64c0d24d28c44d4b70c7e25d9c97eaf": {
      "model_module": "@jupyter-widgets/base",
      "model_module_version": "1.1.0",
      "model_name": "LayoutModel",
      "state": {}
     },
     "eea97f29ac0048b9999338c43b2a4620": {
      "model_module": "@jupyter-widgets/controls",
      "model_module_version": "1.4.0",
      "model_name": "ButtonModel",
      "state": {
       "description": "Select output file",
       "layout": "IPY_MODEL_10decae1827a4bebaceb880a67bfd5e3",
       "style": "IPY_MODEL_fe0dfc3309c54858a8bc4fa9ff48d0ee",
       "tooltip": "Select output file name and location"
      }
     },
     "f55a699845c84792a6d9386e860a5ef4": {
      "model_module": "@jupyter-widgets/controls",
      "model_module_version": "1.4.0",
      "model_name": "ButtonStyleModel",
      "state": {}
     },
     "fe0dfc3309c54858a8bc4fa9ff48d0ee": {
      "model_module": "@jupyter-widgets/controls",
      "model_module_version": "1.4.0",
      "model_name": "ButtonStyleModel",
      "state": {}
     }
    },
    "version_major": 2,
    "version_minor": 0
   }
  }
 },
 "nbformat": 4,
 "nbformat_minor": 2
}
