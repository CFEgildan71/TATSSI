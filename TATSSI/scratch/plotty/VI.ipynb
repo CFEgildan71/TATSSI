{
 "cells": [
  {
   "cell_type": "code",
   "execution_count": 1,
   "metadata": {
    "ExecuteTime": {
     "end_time": "2019-01-15T20:08:16.792451Z",
     "start_time": "2019-01-15T20:08:16.037427Z"
    }
   },
   "outputs": [
    {
     "data": {
      "text/html": [
       "<script type=\"text/javascript\">window.PlotlyConfig = {MathJaxConfig: 'local'};</script><script type=\"text/javascript\">if (window.MathJax) {MathJax.Hub.Config({SVG: {font: \"STIX-Web\"}});}</script><script>requirejs.config({paths: { 'plotly': ['https://cdn.plot.ly/plotly-latest.min']},});if(!window._Plotly) {require(['plotly'],function(plotly) {window._Plotly=plotly;});}</script>"
      ],
      "text/vnd.plotly.v1+html": [
       "<script type=\"text/javascript\">window.PlotlyConfig = {MathJaxConfig: 'local'};</script><script type=\"text/javascript\">if (window.MathJax) {MathJax.Hub.Config({SVG: {font: \"STIX-Web\"}});}</script><script>requirejs.config({paths: { 'plotly': ['https://cdn.plot.ly/plotly-latest.min']},});if(!window._Plotly) {require(['plotly'],function(plotly) {window._Plotly=plotly;});}</script>"
      ]
     },
     "metadata": {},
     "output_type": "display_data"
    }
   ],
   "source": [
    "from plotly.offline import download_plotlyjs, init_notebook_mode, plot, iplot\n",
    "import plotly.graph_objs as go\n",
    "init_notebook_mode(connected=True)\n",
    "\n",
    "import pandas as pd\n",
    "from datetime import datetime"
   ]
  },
  {
   "cell_type": "code",
   "execution_count": 2,
   "metadata": {
    "ExecuteTime": {
     "end_time": "2019-01-15T20:08:18.102853Z",
     "start_time": "2019-01-15T20:08:18.017266Z"
    }
   },
   "outputs": [],
   "source": [
    "df = pd.read_csv('./VI-MOD13A1-006-results.csv')\n",
    "data = go.Scatter(x = df.Date, \n",
    "                  y = df['MOD13A1_006__500m_16_days_EVI'],\n",
    "                  mode = 'markers',\n",
    "                  name = 'EVI',\n",
    "                  text= df['MOD13A1_006__500m_16_days_VI_Quality_MODLAND_Description'],\n",
    "                  marker = dict(\n",
    "                      size = 10,\n",
    "                      color = df['MOD13A1_006__500m_16_days_VI_Quality_MODLAND'].apply(lambda x: int(x, 2)),\n",
    "                      colorscale = 'Viridis',\n",
    "                      showscale = True\n",
    "                  ))\n",
    "         "
   ]
  },
  {
   "cell_type": "code",
   "execution_count": 3,
   "metadata": {
    "ExecuteTime": {
     "end_time": "2019-01-15T20:08:20.036898Z",
     "start_time": "2019-01-15T20:08:19.674033Z"
    }
   },
   "outputs": [
    {
     "data": {
      "application/vnd.plotly.v1+json": {
       "config": {
        "linkText": "Export to plot.ly",
        "plotlyServerURL": "https://plot.ly",
        "showLink": false
       },
       "data": [
        {
         "marker": {
          "color": [
           0,
           0,
           0,
           0,
           0,
           0,
           0,
           0,
           0,
           1,
           1,
           0,
           0,
           2,
           0,
           0,
           0,
           0,
           0,
           0,
           0,
           1,
           1,
           0,
           0,
           0
          ],
          "colorscale": "Viridis",
          "showscale": true,
          "size": 10
         },
         "mode": "markers",
         "name": "EVI",
         "text": [
          "VI produced with good quality",
          "VI produced with good quality",
          "VI produced with good quality",
          "VI produced with good quality",
          "VI produced with good quality",
          "VI produced with good quality",
          "VI produced with good quality",
          "VI produced with good quality",
          "VI produced with good quality",
          "VI produced, but check other QA",
          "VI produced, but check other QA",
          "VI produced with good quality",
          "VI produced with good quality",
          "Pixel produced, but most probably cloudy",
          "VI produced with good quality",
          "VI produced with good quality",
          "VI produced with good quality",
          "VI produced with good quality",
          "VI produced with good quality",
          "VI produced with good quality",
          "VI produced with good quality",
          "VI produced, but check other QA",
          "VI produced, but check other QA",
          "VI produced with good quality",
          "VI produced with good quality",
          "VI produced with good quality"
         ],
         "type": "scatter",
         "uid": "76345753-d87a-4b0a-82b0-7419736342a7",
         "x": [
          "2017-11-17",
          "2017-12-03",
          "2017-12-19",
          "2018-01-01",
          "2018-01-17",
          "2018-02-02",
          "2018-02-18",
          "2018-03-06",
          "2018-03-22",
          "2018-04-07",
          "2018-04-23",
          "2018-05-09",
          "2018-05-25",
          "2018-06-10",
          "2018-06-26",
          "2018-07-12",
          "2018-07-28",
          "2018-08-13",
          "2018-08-29",
          "2018-09-14",
          "2018-09-30",
          "2018-10-16",
          "2018-11-01",
          "2018-11-17",
          "2018-12-03",
          "2018-12-19"
         ],
         "y": [
          0.3831999897956848,
          0.2639999985694885,
          0.29649999737739563,
          0.3035999834537506,
          0.3235999941825867,
          0.35929998755455017,
          0.3172000050544739,
          0.35670000314712524,
          0.3107999861240387,
          0.3990999758243561,
          0.3208000063896179,
          0.4624999761581421,
          0.5770999789237976,
          0.6204000115394592,
          0.5561999678611755,
          0.5187999606132507,
          0.5968999862670898,
          0.5327000021934509,
          0.4169999957084656,
          0.4377000033855438,
          0.5044999718666077,
          0.4829999804496765,
          0.4314999878406525,
          0.3121999800205231,
          0.3253999948501587,
          0.3565999865531921
         ]
        }
       ],
       "layout": {}
      },
      "text/html": [
       "<div id=\"2a92f947-9579-49f5-8b3a-f33cec759ddc\" style=\"height: 525px; width: 100%;\" class=\"plotly-graph-div\"></div><script type=\"text/javascript\">require([\"plotly\"], function(Plotly) { window.PLOTLYENV=window.PLOTLYENV || {};window.PLOTLYENV.BASE_URL=\"https://plot.ly\";Plotly.newPlot(\"2a92f947-9579-49f5-8b3a-f33cec759ddc\", [{\"marker\": {\"color\": [0, 0, 0, 0, 0, 0, 0, 0, 0, 1, 1, 0, 0, 2, 0, 0, 0, 0, 0, 0, 0, 1, 1, 0, 0, 0], \"colorscale\": \"Viridis\", \"showscale\": true, \"size\": 10}, \"mode\": \"markers\", \"name\": \"EVI\", \"text\": [\"VI produced with good quality\", \"VI produced with good quality\", \"VI produced with good quality\", \"VI produced with good quality\", \"VI produced with good quality\", \"VI produced with good quality\", \"VI produced with good quality\", \"VI produced with good quality\", \"VI produced with good quality\", \"VI produced, but check other QA\", \"VI produced, but check other QA\", \"VI produced with good quality\", \"VI produced with good quality\", \"Pixel produced, but most probably cloudy\", \"VI produced with good quality\", \"VI produced with good quality\", \"VI produced with good quality\", \"VI produced with good quality\", \"VI produced with good quality\", \"VI produced with good quality\", \"VI produced with good quality\", \"VI produced, but check other QA\", \"VI produced, but check other QA\", \"VI produced with good quality\", \"VI produced with good quality\", \"VI produced with good quality\"], \"x\": [\"2017-11-17\", \"2017-12-03\", \"2017-12-19\", \"2018-01-01\", \"2018-01-17\", \"2018-02-02\", \"2018-02-18\", \"2018-03-06\", \"2018-03-22\", \"2018-04-07\", \"2018-04-23\", \"2018-05-09\", \"2018-05-25\", \"2018-06-10\", \"2018-06-26\", \"2018-07-12\", \"2018-07-28\", \"2018-08-13\", \"2018-08-29\", \"2018-09-14\", \"2018-09-30\", \"2018-10-16\", \"2018-11-01\", \"2018-11-17\", \"2018-12-03\", \"2018-12-19\"], \"y\": [0.3831999897956848, 0.2639999985694885, 0.29649999737739563, 0.3035999834537506, 0.3235999941825867, 0.35929998755455017, 0.3172000050544739, 0.35670000314712524, 0.3107999861240387, 0.3990999758243561, 0.3208000063896179, 0.4624999761581421, 0.5770999789237976, 0.6204000115394592, 0.5561999678611755, 0.5187999606132507, 0.5968999862670898, 0.5327000021934509, 0.4169999957084656, 0.4377000033855438, 0.5044999718666077, 0.4829999804496765, 0.4314999878406525, 0.3121999800205231, 0.3253999948501587, 0.3565999865531921], \"type\": \"scatter\", \"uid\": \"9226d4eb-4170-47b6-9f3a-4aecb133cad8\"}], {}, {\"showLink\": false, \"linkText\": \"Export to plot.ly\", \"plotlyServerURL\": \"https://plot.ly\"})});</script><script type=\"text/javascript\">window.addEventListener(\"resize\", function(){window._Plotly.Plots.resize(document.getElementById(\"2a92f947-9579-49f5-8b3a-f33cec759ddc\"));});</script>"
      ],
      "text/vnd.plotly.v1+html": [
       "<div id=\"2a92f947-9579-49f5-8b3a-f33cec759ddc\" style=\"height: 525px; width: 100%;\" class=\"plotly-graph-div\"></div><script type=\"text/javascript\">require([\"plotly\"], function(Plotly) { window.PLOTLYENV=window.PLOTLYENV || {};window.PLOTLYENV.BASE_URL=\"https://plot.ly\";Plotly.newPlot(\"2a92f947-9579-49f5-8b3a-f33cec759ddc\", [{\"marker\": {\"color\": [0, 0, 0, 0, 0, 0, 0, 0, 0, 1, 1, 0, 0, 2, 0, 0, 0, 0, 0, 0, 0, 1, 1, 0, 0, 0], \"colorscale\": \"Viridis\", \"showscale\": true, \"size\": 10}, \"mode\": \"markers\", \"name\": \"EVI\", \"text\": [\"VI produced with good quality\", \"VI produced with good quality\", \"VI produced with good quality\", \"VI produced with good quality\", \"VI produced with good quality\", \"VI produced with good quality\", \"VI produced with good quality\", \"VI produced with good quality\", \"VI produced with good quality\", \"VI produced, but check other QA\", \"VI produced, but check other QA\", \"VI produced with good quality\", \"VI produced with good quality\", \"Pixel produced, but most probably cloudy\", \"VI produced with good quality\", \"VI produced with good quality\", \"VI produced with good quality\", \"VI produced with good quality\", \"VI produced with good quality\", \"VI produced with good quality\", \"VI produced with good quality\", \"VI produced, but check other QA\", \"VI produced, but check other QA\", \"VI produced with good quality\", \"VI produced with good quality\", \"VI produced with good quality\"], \"x\": [\"2017-11-17\", \"2017-12-03\", \"2017-12-19\", \"2018-01-01\", \"2018-01-17\", \"2018-02-02\", \"2018-02-18\", \"2018-03-06\", \"2018-03-22\", \"2018-04-07\", \"2018-04-23\", \"2018-05-09\", \"2018-05-25\", \"2018-06-10\", \"2018-06-26\", \"2018-07-12\", \"2018-07-28\", \"2018-08-13\", \"2018-08-29\", \"2018-09-14\", \"2018-09-30\", \"2018-10-16\", \"2018-11-01\", \"2018-11-17\", \"2018-12-03\", \"2018-12-19\"], \"y\": [0.3831999897956848, 0.2639999985694885, 0.29649999737739563, 0.3035999834537506, 0.3235999941825867, 0.35929998755455017, 0.3172000050544739, 0.35670000314712524, 0.3107999861240387, 0.3990999758243561, 0.3208000063896179, 0.4624999761581421, 0.5770999789237976, 0.6204000115394592, 0.5561999678611755, 0.5187999606132507, 0.5968999862670898, 0.5327000021934509, 0.4169999957084656, 0.4377000033855438, 0.5044999718666077, 0.4829999804496765, 0.4314999878406525, 0.3121999800205231, 0.3253999948501587, 0.3565999865531921], \"type\": \"scatter\", \"uid\": \"9226d4eb-4170-47b6-9f3a-4aecb133cad8\"}], {}, {\"showLink\": false, \"linkText\": \"Export to plot.ly\", \"plotlyServerURL\": \"https://plot.ly\"})});</script><script type=\"text/javascript\">window.addEventListener(\"resize\", function(){window._Plotly.Plots.resize(document.getElementById(\"2a92f947-9579-49f5-8b3a-f33cec759ddc\"));});</script>"
      ]
     },
     "metadata": {},
     "output_type": "display_data"
    }
   ],
   "source": [
    "iplot([data], filename = 'Styled Scatter')"
   ]
  }
 ],
 "metadata": {
  "kernelspec": {
   "display_name": "Python 3",
   "language": "python",
   "name": "python3"
  },
  "language_info": {
   "codemirror_mode": {
    "name": "ipython",
    "version": 3
   },
   "file_extension": ".py",
   "mimetype": "text/x-python",
   "name": "python",
   "nbconvert_exporter": "python",
   "pygments_lexer": "ipython3",
   "version": "3.6.4"
  }
 },
 "nbformat": 4,
 "nbformat_minor": 2
}
